{
  "nbformat": 4,
  "nbformat_minor": 0,
  "metadata": {
    "colab": {
      "provenance": [],
      "authorship_tag": "ABX9TyOa6o4yklDTiCvjrN6XQ/ew"
    },
    "kernelspec": {
      "name": "python3",
      "display_name": "Python 3"
    },
    "language_info": {
      "name": "python"
    }
  },
  "cells": [
    {
      "cell_type": "code",
      "execution_count": 12,
      "metadata": {
        "colab": {
          "base_uri": "https://localhost:8080/"
        },
        "id": "779vSMTPWZyk",
        "outputId": "28d955a1-5589-4c77-9fbe-2f8b5e48eda9"
      },
      "outputs": [
        {
          "output_type": "stream",
          "name": "stdout",
          "text": [
            "Drive already mounted at /content/drive; to attempt to forcibly remount, call drive.mount(\"/content/drive\", force_remount=True).\n",
            "Requirement already satisfied: deepchem in /usr/local/lib/python3.10/dist-packages (2.8.0)\n",
            "Requirement already satisfied: rdkit in /usr/local/lib/python3.10/dist-packages (2024.3.5)\n",
            "Requirement already satisfied: matplotlib in /usr/local/lib/python3.10/dist-packages (3.7.1)\n",
            "Requirement already satisfied: networkx in /usr/local/lib/python3.10/dist-packages (3.3)\n",
            "Requirement already satisfied: joblib in /usr/local/lib/python3.10/dist-packages (from deepchem) (1.4.2)\n",
            "Requirement already satisfied: numpy>=1.21 in /usr/local/lib/python3.10/dist-packages (from deepchem) (1.25.2)\n",
            "Requirement already satisfied: pandas in /usr/local/lib/python3.10/dist-packages (from deepchem) (2.0.3)\n",
            "Requirement already satisfied: scikit-learn in /usr/local/lib/python3.10/dist-packages (from deepchem) (1.2.2)\n",
            "Requirement already satisfied: sympy in /usr/local/lib/python3.10/dist-packages (from deepchem) (1.13.1)\n",
            "Requirement already satisfied: scipy>=1.10.1 in /usr/local/lib/python3.10/dist-packages (from deepchem) (1.11.4)\n",
            "Requirement already satisfied: Pillow in /usr/local/lib/python3.10/dist-packages (from rdkit) (9.4.0)\n",
            "Requirement already satisfied: contourpy>=1.0.1 in /usr/local/lib/python3.10/dist-packages (from matplotlib) (1.2.1)\n",
            "Requirement already satisfied: cycler>=0.10 in /usr/local/lib/python3.10/dist-packages (from matplotlib) (0.12.1)\n",
            "Requirement already satisfied: fonttools>=4.22.0 in /usr/local/lib/python3.10/dist-packages (from matplotlib) (4.53.1)\n",
            "Requirement already satisfied: kiwisolver>=1.0.1 in /usr/local/lib/python3.10/dist-packages (from matplotlib) (1.4.5)\n",
            "Requirement already satisfied: packaging>=20.0 in /usr/local/lib/python3.10/dist-packages (from matplotlib) (24.1)\n",
            "Requirement already satisfied: pyparsing>=2.3.1 in /usr/local/lib/python3.10/dist-packages (from matplotlib) (3.1.2)\n",
            "Requirement already satisfied: python-dateutil>=2.7 in /usr/local/lib/python3.10/dist-packages (from matplotlib) (2.8.2)\n",
            "Requirement already satisfied: six>=1.5 in /usr/local/lib/python3.10/dist-packages (from python-dateutil>=2.7->matplotlib) (1.16.0)\n",
            "Requirement already satisfied: pytz>=2020.1 in /usr/local/lib/python3.10/dist-packages (from pandas->deepchem) (2023.4)\n",
            "Requirement already satisfied: tzdata>=2022.1 in /usr/local/lib/python3.10/dist-packages (from pandas->deepchem) (2024.1)\n",
            "Requirement already satisfied: threadpoolctl>=2.0.0 in /usr/local/lib/python3.10/dist-packages (from scikit-learn->deepchem) (3.5.0)\n",
            "Requirement already satisfied: mpmath<1.4,>=1.1.0 in /usr/local/lib/python3.10/dist-packages (from sympy->deepchem) (1.3.0)\n"
          ]
        }
      ],
      "source": [
        "from google.colab import drive\n",
        "drive.mount('/content/drive')\n",
        "!pip install deepchem rdkit matplotlib networkx\n",
        "\n",
        "import deepchem as dc\n",
        "from rdkit import Chem\n",
        "from rdkit.Chem import Draw\n",
        "import matplotlib.pyplot as plt\n",
        "import networkx as nx\n",
        "from sklearn.svm import SVR\n",
        "from sklearn.model_selection import train_test_split\n",
        "from sklearn.preprocessing import StandardScaler\n",
        "from deepchem.feat import MolGraphConvFeaturizer\n",
        "from deepchem.feat import CircularFingerprint\n",
        "from sklearn.model_selection import GridSearchCV\n",
        "from sklearn.svm import SVR\n",
        "import pandas as pd\n",
        "import numpy as np\n",
        "from sklearn.model_selection import StratifiedKFold\n",
        "from deepchem.feat import ConvMolFeaturizer\n",
        "from rdkit import Chem\n",
        "from rdkit.Chem import AllChem\n",
        "from rdkit.Chem import Descriptors\n",
        "import deepchem as dc\n",
        "#from methods_fingerprints import *\n",
        "from drive.MyDrive.code.methods import *\n",
        "from drive.MyDrive.code.methods_fingerprints import *"
      ]
    },
    {
      "cell_type": "code",
      "source": [
        "smiles_tr,smiles_test, logSweeter_tr, logSweeter_test, families_tr, families_test = load_data(\"/content/drive/MyDrive/code/SweetnersDB.xlsx\")"
      ],
      "metadata": {
        "colab": {
          "base_uri": "https://localhost:8080/"
        },
        "id": "KTD08TL_WhRK",
        "outputId": "89640e39-3cfb-408f-a86d-95f77ed55733"
      },
      "execution_count": 13,
      "outputs": [
        {
          "output_type": "stream",
          "name": "stdout",
          "text": [
            "Index(['Name', 'logSw', 'Chemical family', 'Dataset', 'Smiles'], dtype='object')\n"
          ]
        }
      ]
    },
    {
      "cell_type": "code",
      "source": [
        "X_tr,X_test,scaler_X = prepare_fingerprint(smiles_tr,smiles_test)\n",
        "y_tr,y_test,scaler_y = prepare_targets(logSweeter_tr,logSweeter_test)"
      ],
      "metadata": {
        "colab": {
          "base_uri": "https://localhost:8080/"
        },
        "id": "KkClhDyiWlhf",
        "outputId": "ae25cf77-79fb-499c-a5b7-10f9e1113b43"
      },
      "execution_count": 14,
      "outputs": [
        {
          "output_type": "stream",
          "name": "stderr",
          "text": [
            "[14:56:32] DEPRECATION WARNING: please use MorganGenerator\n",
            "[14:56:32] DEPRECATION WARNING: please use MorganGenerator\n",
            "[14:56:32] DEPRECATION WARNING: please use MorganGenerator\n",
            "[14:56:32] DEPRECATION WARNING: please use MorganGenerator\n",
            "[14:56:32] DEPRECATION WARNING: please use MorganGenerator\n",
            "[14:56:32] DEPRECATION WARNING: please use MorganGenerator\n",
            "[14:56:32] DEPRECATION WARNING: please use MorganGenerator\n",
            "[14:56:32] DEPRECATION WARNING: please use MorganGenerator\n",
            "[14:56:32] DEPRECATION WARNING: please use MorganGenerator\n",
            "[14:56:32] DEPRECATION WARNING: please use MorganGenerator\n",
            "[14:56:32] DEPRECATION WARNING: please use MorganGenerator\n",
            "[14:56:32] DEPRECATION WARNING: please use MorganGenerator\n",
            "[14:56:32] DEPRECATION WARNING: please use MorganGenerator\n",
            "[14:56:32] DEPRECATION WARNING: please use MorganGenerator\n",
            "[14:56:32] DEPRECATION WARNING: please use MorganGenerator\n",
            "[14:56:32] DEPRECATION WARNING: please use MorganGenerator\n",
            "[14:56:32] DEPRECATION WARNING: please use MorganGenerator\n",
            "[14:56:32] DEPRECATION WARNING: please use MorganGenerator\n",
            "[14:56:32] DEPRECATION WARNING: please use MorganGenerator\n",
            "[14:56:32] DEPRECATION WARNING: please use MorganGenerator\n",
            "[14:56:32] DEPRECATION WARNING: please use MorganGenerator\n",
            "[14:56:32] DEPRECATION WARNING: please use MorganGenerator\n",
            "[14:56:32] DEPRECATION WARNING: please use MorganGenerator\n",
            "[14:56:32] DEPRECATION WARNING: please use MorganGenerator\n",
            "[14:56:32] DEPRECATION WARNING: please use MorganGenerator\n",
            "[14:56:32] DEPRECATION WARNING: please use MorganGenerator\n",
            "[14:56:32] DEPRECATION WARNING: please use MorganGenerator\n",
            "[14:56:32] DEPRECATION WARNING: please use MorganGenerator\n",
            "[14:56:32] DEPRECATION WARNING: please use MorganGenerator\n",
            "[14:56:32] DEPRECATION WARNING: please use MorganGenerator\n",
            "[14:56:32] DEPRECATION WARNING: please use MorganGenerator\n",
            "[14:56:32] DEPRECATION WARNING: please use MorganGenerator\n",
            "[14:56:32] DEPRECATION WARNING: please use MorganGenerator\n",
            "[14:56:32] DEPRECATION WARNING: please use MorganGenerator\n",
            "[14:56:32] DEPRECATION WARNING: please use MorganGenerator\n",
            "[14:56:32] DEPRECATION WARNING: please use MorganGenerator\n",
            "[14:56:32] DEPRECATION WARNING: please use MorganGenerator\n",
            "[14:56:32] DEPRECATION WARNING: please use MorganGenerator\n",
            "[14:56:32] DEPRECATION WARNING: please use MorganGenerator\n",
            "[14:56:32] DEPRECATION WARNING: please use MorganGenerator\n",
            "[14:56:32] DEPRECATION WARNING: please use MorganGenerator\n",
            "[14:56:32] DEPRECATION WARNING: please use MorganGenerator\n",
            "[14:56:32] DEPRECATION WARNING: please use MorganGenerator\n",
            "[14:56:33] DEPRECATION WARNING: please use MorganGenerator\n",
            "[14:56:33] DEPRECATION WARNING: please use MorganGenerator\n",
            "[14:56:33] DEPRECATION WARNING: please use MorganGenerator\n",
            "[14:56:33] DEPRECATION WARNING: please use MorganGenerator\n",
            "[14:56:33] DEPRECATION WARNING: please use MorganGenerator\n",
            "[14:56:33] DEPRECATION WARNING: please use MorganGenerator\n",
            "[14:56:33] DEPRECATION WARNING: please use MorganGenerator\n",
            "[14:56:33] DEPRECATION WARNING: please use MorganGenerator\n",
            "[14:56:33] DEPRECATION WARNING: please use MorganGenerator\n",
            "[14:56:33] DEPRECATION WARNING: please use MorganGenerator\n",
            "[14:56:33] DEPRECATION WARNING: please use MorganGenerator\n",
            "[14:56:33] DEPRECATION WARNING: please use MorganGenerator\n",
            "[14:56:33] DEPRECATION WARNING: please use MorganGenerator\n",
            "[14:56:33] DEPRECATION WARNING: please use MorganGenerator\n",
            "[14:56:33] DEPRECATION WARNING: please use MorganGenerator\n",
            "[14:56:33] DEPRECATION WARNING: please use MorganGenerator\n",
            "[14:56:33] DEPRECATION WARNING: please use MorganGenerator\n",
            "[14:56:33] DEPRECATION WARNING: please use MorganGenerator\n",
            "[14:56:33] DEPRECATION WARNING: please use MorganGenerator\n",
            "[14:56:33] DEPRECATION WARNING: please use MorganGenerator\n",
            "[14:56:33] DEPRECATION WARNING: please use MorganGenerator\n",
            "[14:56:33] DEPRECATION WARNING: please use MorganGenerator\n",
            "[14:56:33] DEPRECATION WARNING: please use MorganGenerator\n",
            "[14:56:33] DEPRECATION WARNING: please use MorganGenerator\n",
            "[14:56:33] DEPRECATION WARNING: please use MorganGenerator\n",
            "[14:56:33] DEPRECATION WARNING: please use MorganGenerator\n",
            "[14:56:33] DEPRECATION WARNING: please use MorganGenerator\n",
            "[14:56:33] DEPRECATION WARNING: please use MorganGenerator\n",
            "[14:56:33] DEPRECATION WARNING: please use MorganGenerator\n",
            "[14:56:33] DEPRECATION WARNING: please use MorganGenerator\n",
            "[14:56:33] DEPRECATION WARNING: please use MorganGenerator\n",
            "[14:56:33] DEPRECATION WARNING: please use MorganGenerator\n",
            "[14:56:33] DEPRECATION WARNING: please use MorganGenerator\n",
            "[14:56:33] DEPRECATION WARNING: please use MorganGenerator\n",
            "[14:56:33] DEPRECATION WARNING: please use MorganGenerator\n",
            "[14:56:33] DEPRECATION WARNING: please use MorganGenerator\n",
            "[14:56:33] DEPRECATION WARNING: please use MorganGenerator\n",
            "[14:56:33] DEPRECATION WARNING: please use MorganGenerator\n",
            "[14:56:33] DEPRECATION WARNING: please use MorganGenerator\n",
            "[14:56:33] DEPRECATION WARNING: please use MorganGenerator\n",
            "[14:56:33] DEPRECATION WARNING: please use MorganGenerator\n",
            "[14:56:33] DEPRECATION WARNING: please use MorganGenerator\n",
            "[14:56:33] DEPRECATION WARNING: please use MorganGenerator\n",
            "[14:56:33] DEPRECATION WARNING: please use MorganGenerator\n",
            "[14:56:33] DEPRECATION WARNING: please use MorganGenerator\n",
            "[14:56:33] DEPRECATION WARNING: please use MorganGenerator\n",
            "[14:56:33] DEPRECATION WARNING: please use MorganGenerator\n",
            "[14:56:33] DEPRECATION WARNING: please use MorganGenerator\n",
            "[14:56:33] DEPRECATION WARNING: please use MorganGenerator\n",
            "[14:56:33] DEPRECATION WARNING: please use MorganGenerator\n",
            "[14:56:33] DEPRECATION WARNING: please use MorganGenerator\n",
            "[14:56:33] DEPRECATION WARNING: please use MorganGenerator\n",
            "[14:56:33] DEPRECATION WARNING: please use MorganGenerator\n",
            "[14:56:33] DEPRECATION WARNING: please use MorganGenerator\n",
            "[14:56:33] DEPRECATION WARNING: please use MorganGenerator\n",
            "[14:56:33] DEPRECATION WARNING: please use MorganGenerator\n",
            "[14:56:33] DEPRECATION WARNING: please use MorganGenerator\n",
            "[14:56:33] DEPRECATION WARNING: please use MorganGenerator\n",
            "[14:56:33] DEPRECATION WARNING: please use MorganGenerator\n",
            "[14:56:33] DEPRECATION WARNING: please use MorganGenerator\n",
            "[14:56:33] DEPRECATION WARNING: please use MorganGenerator\n",
            "[14:56:33] DEPRECATION WARNING: please use MorganGenerator\n",
            "[14:56:33] DEPRECATION WARNING: please use MorganGenerator\n",
            "[14:56:33] DEPRECATION WARNING: please use MorganGenerator\n",
            "[14:56:33] DEPRECATION WARNING: please use MorganGenerator\n",
            "[14:56:33] DEPRECATION WARNING: please use MorganGenerator\n",
            "[14:56:33] DEPRECATION WARNING: please use MorganGenerator\n",
            "[14:56:33] DEPRECATION WARNING: please use MorganGenerator\n",
            "[14:56:33] DEPRECATION WARNING: please use MorganGenerator\n",
            "[14:56:33] DEPRECATION WARNING: please use MorganGenerator\n",
            "[14:56:33] DEPRECATION WARNING: please use MorganGenerator\n",
            "[14:56:33] DEPRECATION WARNING: please use MorganGenerator\n",
            "[14:56:33] DEPRECATION WARNING: please use MorganGenerator\n",
            "[14:56:33] DEPRECATION WARNING: please use MorganGenerator\n",
            "[14:56:33] DEPRECATION WARNING: please use MorganGenerator\n",
            "[14:56:33] DEPRECATION WARNING: please use MorganGenerator\n",
            "[14:56:33] DEPRECATION WARNING: please use MorganGenerator\n",
            "[14:56:33] DEPRECATION WARNING: please use MorganGenerator\n",
            "[14:56:33] DEPRECATION WARNING: please use MorganGenerator\n",
            "[14:56:33] DEPRECATION WARNING: please use MorganGenerator\n",
            "[14:56:33] DEPRECATION WARNING: please use MorganGenerator\n",
            "[14:56:33] DEPRECATION WARNING: please use MorganGenerator\n",
            "[14:56:33] DEPRECATION WARNING: please use MorganGenerator\n",
            "[14:56:33] DEPRECATION WARNING: please use MorganGenerator\n",
            "[14:56:33] DEPRECATION WARNING: please use MorganGenerator\n",
            "[14:56:33] DEPRECATION WARNING: please use MorganGenerator\n",
            "[14:56:33] DEPRECATION WARNING: please use MorganGenerator\n",
            "[14:56:33] DEPRECATION WARNING: please use MorganGenerator\n",
            "[14:56:33] DEPRECATION WARNING: please use MorganGenerator\n",
            "[14:56:33] DEPRECATION WARNING: please use MorganGenerator\n",
            "[14:56:33] DEPRECATION WARNING: please use MorganGenerator\n",
            "[14:56:33] DEPRECATION WARNING: please use MorganGenerator\n",
            "[14:56:33] DEPRECATION WARNING: please use MorganGenerator\n",
            "[14:56:33] DEPRECATION WARNING: please use MorganGenerator\n",
            "[14:56:33] DEPRECATION WARNING: please use MorganGenerator\n",
            "[14:56:33] DEPRECATION WARNING: please use MorganGenerator\n",
            "[14:56:33] DEPRECATION WARNING: please use MorganGenerator\n",
            "[14:56:33] DEPRECATION WARNING: please use MorganGenerator\n",
            "[14:56:33] DEPRECATION WARNING: please use MorganGenerator\n",
            "[14:56:33] DEPRECATION WARNING: please use MorganGenerator\n",
            "[14:56:33] DEPRECATION WARNING: please use MorganGenerator\n",
            "[14:56:33] DEPRECATION WARNING: please use MorganGenerator\n",
            "[14:56:33] DEPRECATION WARNING: please use MorganGenerator\n",
            "[14:56:33] DEPRECATION WARNING: please use MorganGenerator\n",
            "[14:56:33] DEPRECATION WARNING: please use MorganGenerator\n",
            "[14:56:33] DEPRECATION WARNING: please use MorganGenerator\n",
            "[14:56:33] DEPRECATION WARNING: please use MorganGenerator\n",
            "[14:56:33] DEPRECATION WARNING: please use MorganGenerator\n",
            "[14:56:33] DEPRECATION WARNING: please use MorganGenerator\n",
            "[14:56:33] DEPRECATION WARNING: please use MorganGenerator\n",
            "[14:56:33] DEPRECATION WARNING: please use MorganGenerator\n",
            "[14:56:33] DEPRECATION WARNING: please use MorganGenerator\n",
            "[14:56:33] DEPRECATION WARNING: please use MorganGenerator\n",
            "[14:56:33] DEPRECATION WARNING: please use MorganGenerator\n",
            "[14:56:33] DEPRECATION WARNING: please use MorganGenerator\n",
            "[14:56:33] DEPRECATION WARNING: please use MorganGenerator\n",
            "[14:56:33] DEPRECATION WARNING: please use MorganGenerator\n",
            "[14:56:33] DEPRECATION WARNING: please use MorganGenerator\n",
            "[14:56:33] DEPRECATION WARNING: please use MorganGenerator\n",
            "[14:56:33] DEPRECATION WARNING: please use MorganGenerator\n",
            "[14:56:33] DEPRECATION WARNING: please use MorganGenerator\n",
            "[14:56:33] DEPRECATION WARNING: please use MorganGenerator\n",
            "[14:56:33] DEPRECATION WARNING: please use MorganGenerator\n",
            "[14:56:33] DEPRECATION WARNING: please use MorganGenerator\n",
            "[14:56:33] DEPRECATION WARNING: please use MorganGenerator\n",
            "[14:56:33] DEPRECATION WARNING: please use MorganGenerator\n",
            "[14:56:33] DEPRECATION WARNING: please use MorganGenerator\n",
            "[14:56:33] DEPRECATION WARNING: please use MorganGenerator\n",
            "[14:56:33] DEPRECATION WARNING: please use MorganGenerator\n",
            "[14:56:33] DEPRECATION WARNING: please use MorganGenerator\n",
            "[14:56:33] DEPRECATION WARNING: please use MorganGenerator\n",
            "[14:56:33] DEPRECATION WARNING: please use MorganGenerator\n",
            "[14:56:33] DEPRECATION WARNING: please use MorganGenerator\n",
            "[14:56:33] DEPRECATION WARNING: please use MorganGenerator\n",
            "[14:56:33] DEPRECATION WARNING: please use MorganGenerator\n",
            "[14:56:33] DEPRECATION WARNING: please use MorganGenerator\n",
            "[14:56:33] DEPRECATION WARNING: please use MorganGenerator\n",
            "[14:56:33] DEPRECATION WARNING: please use MorganGenerator\n",
            "[14:56:33] DEPRECATION WARNING: please use MorganGenerator\n",
            "[14:56:33] DEPRECATION WARNING: please use MorganGenerator\n",
            "[14:56:33] DEPRECATION WARNING: please use MorganGenerator\n",
            "[14:56:33] DEPRECATION WARNING: please use MorganGenerator\n",
            "[14:56:33] DEPRECATION WARNING: please use MorganGenerator\n",
            "[14:56:33] DEPRECATION WARNING: please use MorganGenerator\n",
            "[14:56:33] DEPRECATION WARNING: please use MorganGenerator\n",
            "[14:56:33] DEPRECATION WARNING: please use MorganGenerator\n",
            "[14:56:33] DEPRECATION WARNING: please use MorganGenerator\n",
            "[14:56:33] DEPRECATION WARNING: please use MorganGenerator\n",
            "[14:56:33] DEPRECATION WARNING: please use MorganGenerator\n",
            "[14:56:33] DEPRECATION WARNING: please use MorganGenerator\n",
            "[14:56:33] DEPRECATION WARNING: please use MorganGenerator\n",
            "[14:56:33] DEPRECATION WARNING: please use MorganGenerator\n",
            "[14:56:33] DEPRECATION WARNING: please use MorganGenerator\n",
            "[14:56:33] DEPRECATION WARNING: please use MorganGenerator\n",
            "[14:56:33] DEPRECATION WARNING: please use MorganGenerator\n",
            "[14:56:33] DEPRECATION WARNING: please use MorganGenerator\n",
            "[14:56:33] DEPRECATION WARNING: please use MorganGenerator\n",
            "[14:56:33] DEPRECATION WARNING: please use MorganGenerator\n",
            "[14:56:33] DEPRECATION WARNING: please use MorganGenerator\n",
            "[14:56:33] DEPRECATION WARNING: please use MorganGenerator\n",
            "[14:56:33] DEPRECATION WARNING: please use MorganGenerator\n",
            "[14:56:33] DEPRECATION WARNING: please use MorganGenerator\n",
            "[14:56:33] DEPRECATION WARNING: please use MorganGenerator\n",
            "[14:56:33] DEPRECATION WARNING: please use MorganGenerator\n",
            "[14:56:33] DEPRECATION WARNING: please use MorganGenerator\n",
            "[14:56:33] DEPRECATION WARNING: please use MorganGenerator\n",
            "[14:56:33] DEPRECATION WARNING: please use MorganGenerator\n",
            "[14:56:33] DEPRECATION WARNING: please use MorganGenerator\n",
            "[14:56:33] DEPRECATION WARNING: please use MorganGenerator\n",
            "[14:56:33] DEPRECATION WARNING: please use MorganGenerator\n",
            "[14:56:33] DEPRECATION WARNING: please use MorganGenerator\n",
            "[14:56:33] DEPRECATION WARNING: please use MorganGenerator\n",
            "[14:56:33] DEPRECATION WARNING: please use MorganGenerator\n",
            "[14:56:33] DEPRECATION WARNING: please use MorganGenerator\n",
            "[14:56:33] DEPRECATION WARNING: please use MorganGenerator\n",
            "[14:56:33] DEPRECATION WARNING: please use MorganGenerator\n",
            "[14:56:33] DEPRECATION WARNING: please use MorganGenerator\n",
            "[14:56:33] DEPRECATION WARNING: please use MorganGenerator\n",
            "[14:56:33] DEPRECATION WARNING: please use MorganGenerator\n",
            "[14:56:33] DEPRECATION WARNING: please use MorganGenerator\n",
            "[14:56:33] DEPRECATION WARNING: please use MorganGenerator\n",
            "[14:56:33] DEPRECATION WARNING: please use MorganGenerator\n",
            "[14:56:33] DEPRECATION WARNING: please use MorganGenerator\n",
            "[14:56:33] DEPRECATION WARNING: please use MorganGenerator\n",
            "[14:56:33] DEPRECATION WARNING: please use MorganGenerator\n",
            "[14:56:33] DEPRECATION WARNING: please use MorganGenerator\n",
            "[14:56:33] DEPRECATION WARNING: please use MorganGenerator\n",
            "[14:56:33] DEPRECATION WARNING: please use MorganGenerator\n",
            "[14:56:33] DEPRECATION WARNING: please use MorganGenerator\n",
            "[14:56:33] DEPRECATION WARNING: please use MorganGenerator\n",
            "[14:56:33] DEPRECATION WARNING: please use MorganGenerator\n",
            "[14:56:33] DEPRECATION WARNING: please use MorganGenerator\n",
            "[14:56:33] DEPRECATION WARNING: please use MorganGenerator\n",
            "[14:56:33] DEPRECATION WARNING: please use MorganGenerator\n",
            "[14:56:33] DEPRECATION WARNING: please use MorganGenerator\n",
            "[14:56:33] DEPRECATION WARNING: please use MorganGenerator\n",
            "[14:56:33] DEPRECATION WARNING: please use MorganGenerator\n",
            "[14:56:33] DEPRECATION WARNING: please use MorganGenerator\n",
            "[14:56:33] DEPRECATION WARNING: please use MorganGenerator\n",
            "[14:56:33] DEPRECATION WARNING: please use MorganGenerator\n",
            "[14:56:33] DEPRECATION WARNING: please use MorganGenerator\n",
            "[14:56:34] DEPRECATION WARNING: please use MorganGenerator\n",
            "[14:56:34] DEPRECATION WARNING: please use MorganGenerator\n",
            "[14:56:34] DEPRECATION WARNING: please use MorganGenerator\n",
            "[14:56:34] DEPRECATION WARNING: please use MorganGenerator\n",
            "[14:56:34] DEPRECATION WARNING: please use MorganGenerator\n",
            "[14:56:34] DEPRECATION WARNING: please use MorganGenerator\n",
            "[14:56:34] DEPRECATION WARNING: please use MorganGenerator\n",
            "[14:56:34] DEPRECATION WARNING: please use MorganGenerator\n",
            "[14:56:34] DEPRECATION WARNING: please use MorganGenerator\n",
            "[14:56:34] DEPRECATION WARNING: please use MorganGenerator\n",
            "[14:56:34] DEPRECATION WARNING: please use MorganGenerator\n",
            "[14:56:34] DEPRECATION WARNING: please use MorganGenerator\n",
            "[14:56:34] DEPRECATION WARNING: please use MorganGenerator\n",
            "[14:56:34] DEPRECATION WARNING: please use MorganGenerator\n",
            "[14:56:34] DEPRECATION WARNING: please use MorganGenerator\n",
            "[14:56:34] DEPRECATION WARNING: please use MorganGenerator\n",
            "[14:56:34] DEPRECATION WARNING: please use MorganGenerator\n",
            "[14:56:34] DEPRECATION WARNING: please use MorganGenerator\n",
            "[14:56:34] DEPRECATION WARNING: please use MorganGenerator\n",
            "[14:56:34] DEPRECATION WARNING: please use MorganGenerator\n",
            "[14:56:34] DEPRECATION WARNING: please use MorganGenerator\n",
            "[14:56:34] DEPRECATION WARNING: please use MorganGenerator\n",
            "[14:56:34] DEPRECATION WARNING: please use MorganGenerator\n",
            "[14:56:34] DEPRECATION WARNING: please use MorganGenerator\n",
            "[14:56:34] DEPRECATION WARNING: please use MorganGenerator\n",
            "[14:56:34] DEPRECATION WARNING: please use MorganGenerator\n",
            "[14:56:34] DEPRECATION WARNING: please use MorganGenerator\n",
            "[14:56:34] DEPRECATION WARNING: please use MorganGenerator\n",
            "[14:56:34] DEPRECATION WARNING: please use MorganGenerator\n",
            "[14:56:34] DEPRECATION WARNING: please use MorganGenerator\n",
            "[14:56:34] DEPRECATION WARNING: please use MorganGenerator\n",
            "[14:56:34] DEPRECATION WARNING: please use MorganGenerator\n",
            "[14:56:34] DEPRECATION WARNING: please use MorganGenerator\n",
            "[14:56:34] DEPRECATION WARNING: please use MorganGenerator\n",
            "[14:56:34] DEPRECATION WARNING: please use MorganGenerator\n",
            "[14:56:34] DEPRECATION WARNING: please use MorganGenerator\n",
            "[14:56:34] DEPRECATION WARNING: please use MorganGenerator\n",
            "[14:56:34] DEPRECATION WARNING: please use MorganGenerator\n",
            "[14:56:34] DEPRECATION WARNING: please use MorganGenerator\n",
            "[14:56:34] DEPRECATION WARNING: please use MorganGenerator\n",
            "[14:56:34] DEPRECATION WARNING: please use MorganGenerator\n",
            "[14:56:34] DEPRECATION WARNING: please use MorganGenerator\n",
            "[14:56:34] DEPRECATION WARNING: please use MorganGenerator\n",
            "[14:56:34] DEPRECATION WARNING: please use MorganGenerator\n",
            "[14:56:34] DEPRECATION WARNING: please use MorganGenerator\n",
            "[14:56:34] DEPRECATION WARNING: please use MorganGenerator\n",
            "[14:56:34] DEPRECATION WARNING: please use MorganGenerator\n",
            "[14:56:34] DEPRECATION WARNING: please use MorganGenerator\n",
            "[14:56:34] DEPRECATION WARNING: please use MorganGenerator\n",
            "[14:56:34] DEPRECATION WARNING: please use MorganGenerator\n",
            "[14:56:34] DEPRECATION WARNING: please use MorganGenerator\n",
            "[14:56:34] DEPRECATION WARNING: please use MorganGenerator\n",
            "[14:56:34] DEPRECATION WARNING: please use MorganGenerator\n",
            "[14:56:34] DEPRECATION WARNING: please use MorganGenerator\n",
            "[14:56:34] DEPRECATION WARNING: please use MorganGenerator\n",
            "[14:56:34] DEPRECATION WARNING: please use MorganGenerator\n",
            "[14:56:34] DEPRECATION WARNING: please use MorganGenerator\n",
            "[14:56:34] DEPRECATION WARNING: please use MorganGenerator\n",
            "[14:56:34] DEPRECATION WARNING: please use MorganGenerator\n",
            "[14:56:34] DEPRECATION WARNING: please use MorganGenerator\n",
            "[14:56:34] DEPRECATION WARNING: please use MorganGenerator\n",
            "[14:56:34] DEPRECATION WARNING: please use MorganGenerator\n",
            "[14:56:34] DEPRECATION WARNING: please use MorganGenerator\n",
            "[14:56:34] DEPRECATION WARNING: please use MorganGenerator\n",
            "[14:56:34] DEPRECATION WARNING: please use MorganGenerator\n",
            "[14:56:34] DEPRECATION WARNING: please use MorganGenerator\n",
            "[14:56:34] DEPRECATION WARNING: please use MorganGenerator\n",
            "[14:56:34] DEPRECATION WARNING: please use MorganGenerator\n",
            "[14:56:34] DEPRECATION WARNING: please use MorganGenerator\n",
            "[14:56:34] DEPRECATION WARNING: please use MorganGenerator\n",
            "[14:56:34] DEPRECATION WARNING: please use MorganGenerator\n",
            "[14:56:34] DEPRECATION WARNING: please use MorganGenerator\n"
          ]
        }
      ]
    },
    {
      "cell_type": "code",
      "source": [
        "onehot_tr,onehot_test = prepare_famille_chimique(families_tr, families_test)"
      ],
      "metadata": {
        "colab": {
          "base_uri": "https://localhost:8080/"
        },
        "id": "cz8AlaeuWs9C",
        "outputId": "770e7216-9d05-433c-f892-a4a88235d293"
      },
      "execution_count": 15,
      "outputs": [
        {
          "output_type": "stream",
          "name": "stderr",
          "text": [
            "/usr/local/lib/python3.10/dist-packages/sklearn/preprocessing/_encoders.py:868: FutureWarning: `sparse` was renamed to `sparse_output` in version 1.2 and will be removed in 1.4. `sparse_output` is ignored unless you leave `sparse` to its default value.\n",
            "  warnings.warn(\n",
            "/usr/local/lib/python3.10/dist-packages/sklearn/preprocessing/_encoders.py:868: FutureWarning: `sparse` was renamed to `sparse_output` in version 1.2 and will be removed in 1.4. `sparse_output` is ignored unless you leave `sparse` to its default value.\n",
            "  warnings.warn(\n"
          ]
        }
      ]
    },
    {
      "cell_type": "code",
      "source": [
        "# Combiner les fingerprints et l'encodage one-hot\n",
        "#representation_tr = np.hstack((X_tr, onehot_tr))\n",
        "#representation_test = np.hstack((X_test,onehot_test))"
      ],
      "metadata": {
        "id": "O-QxiME_WvPp"
      },
      "execution_count": null,
      "outputs": []
    },
    {
      "cell_type": "markdown",
      "source": [
        "# regression\n"
      ],
      "metadata": {
        "id": "Z24dxWkjcHMl"
      }
    },
    {
      "cell_type": "code",
      "source": [
        "# Créer et entraîner le modèle SVR\n",
        "svr_finger = SVR(kernel='rbf', C=100, gamma='scale', epsilon=0.1)\n",
        "svr_finger.fit(X_tr, y_tr)\n",
        "\n",
        "svr_famille = SVR(kernel='rbf', C=100, gamma='scale', epsilon=0.1)\n",
        "svr_famille.fit(onehot_tr, y_tr)\n"
      ],
      "metadata": {
        "colab": {
          "base_uri": "https://localhost:8080/",
          "height": 74
        },
        "id": "2a_8ci0rWzOq",
        "outputId": "4e15512b-7f9e-424a-dbab-92482b15a234"
      },
      "execution_count": 16,
      "outputs": [
        {
          "output_type": "execute_result",
          "data": {
            "text/plain": [
              "SVR(C=100)"
            ],
            "text/html": [
              "<style>#sk-container-id-1 {color: black;background-color: white;}#sk-container-id-1 pre{padding: 0;}#sk-container-id-1 div.sk-toggleable {background-color: white;}#sk-container-id-1 label.sk-toggleable__label {cursor: pointer;display: block;width: 100%;margin-bottom: 0;padding: 0.3em;box-sizing: border-box;text-align: center;}#sk-container-id-1 label.sk-toggleable__label-arrow:before {content: \"▸\";float: left;margin-right: 0.25em;color: #696969;}#sk-container-id-1 label.sk-toggleable__label-arrow:hover:before {color: black;}#sk-container-id-1 div.sk-estimator:hover label.sk-toggleable__label-arrow:before {color: black;}#sk-container-id-1 div.sk-toggleable__content {max-height: 0;max-width: 0;overflow: hidden;text-align: left;background-color: #f0f8ff;}#sk-container-id-1 div.sk-toggleable__content pre {margin: 0.2em;color: black;border-radius: 0.25em;background-color: #f0f8ff;}#sk-container-id-1 input.sk-toggleable__control:checked~div.sk-toggleable__content {max-height: 200px;max-width: 100%;overflow: auto;}#sk-container-id-1 input.sk-toggleable__control:checked~label.sk-toggleable__label-arrow:before {content: \"▾\";}#sk-container-id-1 div.sk-estimator input.sk-toggleable__control:checked~label.sk-toggleable__label {background-color: #d4ebff;}#sk-container-id-1 div.sk-label input.sk-toggleable__control:checked~label.sk-toggleable__label {background-color: #d4ebff;}#sk-container-id-1 input.sk-hidden--visually {border: 0;clip: rect(1px 1px 1px 1px);clip: rect(1px, 1px, 1px, 1px);height: 1px;margin: -1px;overflow: hidden;padding: 0;position: absolute;width: 1px;}#sk-container-id-1 div.sk-estimator {font-family: monospace;background-color: #f0f8ff;border: 1px dotted black;border-radius: 0.25em;box-sizing: border-box;margin-bottom: 0.5em;}#sk-container-id-1 div.sk-estimator:hover {background-color: #d4ebff;}#sk-container-id-1 div.sk-parallel-item::after {content: \"\";width: 100%;border-bottom: 1px solid gray;flex-grow: 1;}#sk-container-id-1 div.sk-label:hover label.sk-toggleable__label {background-color: #d4ebff;}#sk-container-id-1 div.sk-serial::before {content: \"\";position: absolute;border-left: 1px solid gray;box-sizing: border-box;top: 0;bottom: 0;left: 50%;z-index: 0;}#sk-container-id-1 div.sk-serial {display: flex;flex-direction: column;align-items: center;background-color: white;padding-right: 0.2em;padding-left: 0.2em;position: relative;}#sk-container-id-1 div.sk-item {position: relative;z-index: 1;}#sk-container-id-1 div.sk-parallel {display: flex;align-items: stretch;justify-content: center;background-color: white;position: relative;}#sk-container-id-1 div.sk-item::before, #sk-container-id-1 div.sk-parallel-item::before {content: \"\";position: absolute;border-left: 1px solid gray;box-sizing: border-box;top: 0;bottom: 0;left: 50%;z-index: -1;}#sk-container-id-1 div.sk-parallel-item {display: flex;flex-direction: column;z-index: 1;position: relative;background-color: white;}#sk-container-id-1 div.sk-parallel-item:first-child::after {align-self: flex-end;width: 50%;}#sk-container-id-1 div.sk-parallel-item:last-child::after {align-self: flex-start;width: 50%;}#sk-container-id-1 div.sk-parallel-item:only-child::after {width: 0;}#sk-container-id-1 div.sk-dashed-wrapped {border: 1px dashed gray;margin: 0 0.4em 0.5em 0.4em;box-sizing: border-box;padding-bottom: 0.4em;background-color: white;}#sk-container-id-1 div.sk-label label {font-family: monospace;font-weight: bold;display: inline-block;line-height: 1.2em;}#sk-container-id-1 div.sk-label-container {text-align: center;}#sk-container-id-1 div.sk-container {/* jupyter's `normalize.less` sets `[hidden] { display: none; }` but bootstrap.min.css set `[hidden] { display: none !important; }` so we also need the `!important` here to be able to override the default hidden behavior on the sphinx rendered scikit-learn.org. See: https://github.com/scikit-learn/scikit-learn/issues/21755 */display: inline-block !important;position: relative;}#sk-container-id-1 div.sk-text-repr-fallback {display: none;}</style><div id=\"sk-container-id-1\" class=\"sk-top-container\"><div class=\"sk-text-repr-fallback\"><pre>SVR(C=100)</pre><b>In a Jupyter environment, please rerun this cell to show the HTML representation or trust the notebook. <br />On GitHub, the HTML representation is unable to render, please try loading this page with nbviewer.org.</b></div><div class=\"sk-container\" hidden><div class=\"sk-item\"><div class=\"sk-estimator sk-toggleable\"><input class=\"sk-toggleable__control sk-hidden--visually\" id=\"sk-estimator-id-1\" type=\"checkbox\" checked><label for=\"sk-estimator-id-1\" class=\"sk-toggleable__label sk-toggleable__label-arrow\">SVR</label><div class=\"sk-toggleable__content\"><pre>SVR(C=100)</pre></div></div></div></div></div>"
            ]
          },
          "metadata": {},
          "execution_count": 16
        }
      ]
    },
    {
      "cell_type": "code",
      "source": [
        "score_finger = svr_finger.score(X_test, y_test)\n",
        "print(f\"Score R² du modèle: {score_finger:.2f}\")\n",
        "score_famille = svr_famille.score(onehot_test, y_test)\n",
        "print(f\"Score R² du modèle: {score_famille:.2f}\")"
      ],
      "metadata": {
        "colab": {
          "base_uri": "https://localhost:8080/"
        },
        "id": "oVVETfiOW47D",
        "outputId": "d116e4f2-aca3-4319-feef-584c47bbc31e"
      },
      "execution_count": 6,
      "outputs": [
        {
          "output_type": "stream",
          "name": "stdout",
          "text": [
            "Score R² du modèle: 0.55\n",
            "Score R² du modèle: 0.28\n"
          ]
        }
      ]
    },
    {
      "cell_type": "code",
      "source": [
        "# Faire des prédictions\n",
        "y_finger_train = svr_finger.predict(X_tr)\n",
        "y_finger_test = svr_finger.predict(X_test)\n",
        "# Faire des prédictions\n",
        "y_famille_train = svr_famille.predict(onehot_tr)\n",
        "y_famille_test = svr_famille.predict(onehot_test)"
      ],
      "metadata": {
        "id": "tmnUYbwfW6uN"
      },
      "execution_count": 7,
      "outputs": []
    },
    {
      "cell_type": "code",
      "source": [
        "y_pred_train =(y_finger_train + y_famille_train)/2\n",
        "y_pred_test = (y_finger_test + y_famille_test)/2"
      ],
      "metadata": {
        "id": "fJl-OQsNXG-0"
      },
      "execution_count": 8,
      "outputs": []
    },
    {
      "cell_type": "code",
      "source": [
        "# Inverser la normalisation pour obtenir les valeurs réelles\n",
        "y_pred_train = scaler_y.inverse_transform(y_pred_train.reshape(-1, 1)).ravel()\n",
        "y_pred_test = scaler_y.inverse_transform(y_pred_test.reshape(-1, 1)).ravel()\n",
        "y_train = scaler_y.inverse_transform(y_tr.reshape(-1, 1)).ravel()\n",
        "y_test = scaler_y.inverse_transform(y_test.reshape(-1, 1)).ravel()"
      ],
      "metadata": {
        "id": "uu12z7yaXKv4"
      },
      "execution_count": 9,
      "outputs": []
    },
    {
      "cell_type": "code",
      "source": [
        "#X = np.vstack((representation_tr,representation_test))\n",
        "y = np.hstack((y_train,y_test))"
      ],
      "metadata": {
        "id": "quN2qNL9XM3v"
      },
      "execution_count": 10,
      "outputs": []
    },
    {
      "cell_type": "code",
      "source": [
        "# Visualisation : Graphique de dispersion\n",
        "plt.figure(figsize=(10, 5))\n",
        "plt.subplot(1, 2, 1)\n",
        "plt.scatter(y_train, y_pred_train, alpha=0.5, label='Train')\n",
        "plt.scatter(y_test, y_pred_test, alpha=0.5, label='Test')\n",
        "plt.plot([y.min(), y.max()], [y.min(), y.max()], 'r--', lw=2)\n",
        "plt.xlabel('Valeurs réelles')\n",
        "plt.ylabel('Valeurs prédites')\n",
        "plt.title('Graphique de dispersion')\n",
        "plt.legend()"
      ],
      "metadata": {
        "colab": {
          "base_uri": "https://localhost:8080/",
          "height": 505
        },
        "id": "S8GQM6r6XOcL",
        "outputId": "8463a2b5-71dc-4480-c6f8-272f817a39e3"
      },
      "execution_count": 11,
      "outputs": [
        {
          "output_type": "execute_result",
          "data": {
            "text/plain": [
              "<matplotlib.legend.Legend at 0x7a584a8488b0>"
            ]
          },
          "metadata": {},
          "execution_count": 11
        },
        {
          "output_type": "display_data",
          "data": {
            "text/plain": [
              "<Figure size 1000x500 with 1 Axes>"
            ],
            "image/png": "[encoded data removed]"
          },
          "metadata": {}
        }
      ]
    },
    {
      "cell_type": "markdown",
      "source": [
        "# scoring\n"
      ],
      "metadata": {
        "id": "DO0I2NFgZIrc"
      }
    },
    {
      "cell_type": "code",
      "source": [
        "acc_finger,conf_finger,class_finger,y_pred_finger,target_finger = scoring(y_tr,y_test,X_tr,X_test,0,'LogReg')\n",
        "acc_famille,conf_famille,class_famille,y_pred_famille,target_famille = scoring(y_tr,y_test,onehot_tr,onehot_test,0,'LogReg')"
      ],
      "metadata": {
        "colab": {
          "base_uri": "https://localhost:8080/"
        },
        "id": "jO_PgBUdZMaV",
        "outputId": "84704cae-cf00-4e79-f6f5-8fad0c15fc9e"
      },
      "execution_count": 17,
      "outputs": [
        {
          "output_type": "stream",
          "name": "stdout",
          "text": [
            "Accuracy: 0.796875\n",
            "Confusion Matrix:\n",
            "[[16  5]\n",
            " [ 8 35]]\n",
            "Classification Report:\n",
            "              precision    recall  f1-score   support\n",
            "\n",
            "           0       0.67      0.76      0.71        21\n",
            "           1       0.88      0.81      0.84        43\n",
            "\n",
            "    accuracy                           0.80        64\n",
            "   macro avg       0.77      0.79      0.78        64\n",
            "weighted avg       0.81      0.80      0.80        64\n",
            "\n",
            "Accuracy: 0.703125\n",
            "Confusion Matrix:\n",
            "[[ 6 15]\n",
            " [ 4 39]]\n",
            "Classification Report:\n",
            "              precision    recall  f1-score   support\n",
            "\n",
            "           0       0.60      0.29      0.39        21\n",
            "           1       0.72      0.91      0.80        43\n",
            "\n",
            "    accuracy                           0.70        64\n",
            "   macro avg       0.66      0.60      0.60        64\n",
            "weighted avg       0.68      0.70      0.67        64\n",
            "\n"
          ]
        }
      ]
    },
    {
      "cell_type": "code",
      "source": [
        "y_pred = (y_pred_finger +y_pred_famille)/2"
      ],
      "metadata": {
        "id": "D7p4xMrQyKif"
      },
      "execution_count": 19,
      "outputs": []
    },
    {
      "cell_type": "code",
      "source": [
        "y_pred2 =[]\n",
        "for i in range(len(y_pred)):\n",
        "  if y_pred[i]==0.5:\n",
        "    y_pred2.append(1)\n",
        "  else:\n",
        "    y_pred2.append(y_pred[i])\n",
        "\n",
        "target_test = target_finger\n",
        "class_report = classification_report(target_test, y_pred2)\n",
        "print(\"Classification Report:\")\n",
        "print(class_report)"
      ],
      "metadata": {
        "colab": {
          "base_uri": "https://localhost:8080/"
        },
        "id": "jlY-IHSheDJa",
        "outputId": "3f9048e2-be6c-42f7-8309-f2cc1b69c0b9"
      },
      "execution_count": 22,
      "outputs": [
        {
          "output_type": "stream",
          "name": "stdout",
          "text": [
            "Classification Report:\n",
            "              precision    recall  f1-score   support\n",
            "\n",
            "           0       1.00      0.29      0.44        21\n",
            "           1       0.74      1.00      0.85        43\n",
            "\n",
            "    accuracy                           0.77        64\n",
            "   macro avg       0.87      0.64      0.65        64\n",
            "weighted avg       0.83      0.77      0.72        64\n",
            "\n"
          ]
        }
      ]
    },
    {
      "cell_type": "code",
      "source": [
        "y_pred2 =[]\n",
        "for i in range(len(y_pred)):\n",
        "  if y_pred[i]==0.5:\n",
        "    y_pred2.append(0)\n",
        "  else:\n",
        "    y_pred2.append(y_pred[i])\n",
        "\n",
        "target_test = target_finger\n",
        "class_report = classification_report(target_test, y_pred2)\n",
        "print(\"Classification Report:\")\n",
        "print(class_report)"
      ],
      "metadata": {
        "colab": {
          "base_uri": "https://localhost:8080/"
        },
        "id": "hqcHZPMjeRzt",
        "outputId": "7f5350f9-1752-442d-c8b8-abff175bdb21"
      },
      "execution_count": 23,
      "outputs": [
        {
          "output_type": "stream",
          "name": "stdout",
          "text": [
            "Classification Report:\n",
            "              precision    recall  f1-score   support\n",
            "\n",
            "           0       0.57      0.76      0.65        21\n",
            "           1       0.86      0.72      0.78        43\n",
            "\n",
            "    accuracy                           0.73        64\n",
            "   macro avg       0.72      0.74      0.72        64\n",
            "weighted avg       0.77      0.73      0.74        64\n",
            "\n"
          ]
        }
      ]
    },
    {
      "cell_type": "code",
      "source": [],
      "metadata": {
        "id": "rEn8ZxyPeVum"
      },
      "execution_count": null,
      "outputs": []
    }
  ]
}