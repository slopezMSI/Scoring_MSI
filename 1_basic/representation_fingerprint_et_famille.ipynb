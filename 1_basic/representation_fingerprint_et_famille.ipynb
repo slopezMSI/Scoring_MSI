{
  "nbformat": 4,
  "nbformat_minor": 0,
  "metadata": {
    "colab": {
      "provenance": [],
      "collapsed_sections": [
        "OSZBSVCN-pBS"
      ],
      "authorship_tag": "ABX9TyMQNgY/Ac5pVdLeK8pd3QvB"
    },
    "kernelspec": {
      "name": "python3",
      "display_name": "Python 3"
    },
    "language_info": {
      "name": "python"
    }
  },
  "cells": [
    {
      "cell_type": "code",
      "execution_count": null,
      "metadata": {
        "colab": {
          "base_uri": "https://localhost:8080/"
        },
        "id": "j1k-ku-B57nF",
        "outputId": "bc21b6aa-6717-4cda-d857-7a0750798d53"
      },
      "outputs": [
        {
          "output_type": "stream",
          "name": "stdout",
          "text": [
            "Drive already mounted at /content/drive; to attempt to forcibly remount, call drive.mount(\"/content/drive\", force_remount=True).\n",
            "Requirement already satisfied: deepchem in /usr/local/lib/python3.10/dist-packages (2.8.0)\n",
            "Requirement already satisfied: rdkit in /usr/local/lib/python3.10/dist-packages (2024.3.5)\n",
            "Requirement already satisfied: matplotlib in /usr/local/lib/python3.10/dist-packages (3.7.1)\n",
            "Requirement already satisfied: networkx in /usr/local/lib/python3.10/dist-packages (3.3)\n",
            "Requirement already satisfied: joblib in /usr/local/lib/python3.10/dist-packages (from deepchem) (1.4.2)\n",
            "Requirement already satisfied: numpy>=1.21 in /usr/local/lib/python3.10/dist-packages (from deepchem) (1.26.4)\n",
            "Requirement already satisfied: pandas in /usr/local/lib/python3.10/dist-packages (from deepchem) (2.1.4)\n",
            "Requirement already satisfied: scikit-learn in /usr/local/lib/python3.10/dist-packages (from deepchem) (1.3.2)\n",
            "Requirement already satisfied: sympy in /usr/local/lib/python3.10/dist-packages (from deepchem) (1.13.2)\n",
            "Requirement already satisfied: scipy>=1.10.1 in /usr/local/lib/python3.10/dist-packages (from deepchem) (1.13.1)\n",
            "Requirement already satisfied: Pillow in /usr/local/lib/python3.10/dist-packages (from rdkit) (9.4.0)\n",
            "Requirement already satisfied: contourpy>=1.0.1 in /usr/local/lib/python3.10/dist-packages (from matplotlib) (1.2.1)\n",
            "Requirement already satisfied: cycler>=0.10 in /usr/local/lib/python3.10/dist-packages (from matplotlib) (0.12.1)\n",
            "Requirement already satisfied: fonttools>=4.22.0 in /usr/local/lib/python3.10/dist-packages (from matplotlib) (4.53.1)\n",
            "Requirement already satisfied: kiwisolver>=1.0.1 in /usr/local/lib/python3.10/dist-packages (from matplotlib) (1.4.5)\n",
            "Requirement already satisfied: packaging>=20.0 in /usr/local/lib/python3.10/dist-packages (from matplotlib) (24.1)\n",
            "Requirement already satisfied: pyparsing>=2.3.1 in /usr/local/lib/python3.10/dist-packages (from matplotlib) (3.1.2)\n",
            "Requirement already satisfied: python-dateutil>=2.7 in /usr/local/lib/python3.10/dist-packages (from matplotlib) (2.8.2)\n",
            "Requirement already satisfied: six>=1.5 in /usr/local/lib/python3.10/dist-packages (from python-dateutil>=2.7->matplotlib) (1.16.0)\n",
            "Requirement already satisfied: pytz>=2020.1 in /usr/local/lib/python3.10/dist-packages (from pandas->deepchem) (2024.1)\n",
            "Requirement already satisfied: tzdata>=2022.1 in /usr/local/lib/python3.10/dist-packages (from pandas->deepchem) (2024.1)\n",
            "Requirement already satisfied: threadpoolctl>=2.0.0 in /usr/local/lib/python3.10/dist-packages (from scikit-learn->deepchem) (3.5.0)\n",
            "Requirement already satisfied: mpmath<1.4,>=1.1.0 in /usr/local/lib/python3.10/dist-packages (from sympy->deepchem) (1.3.0)\n"
          ]
        },
        {
          "output_type": "stream",
          "name": "stderr",
          "text": [
            "WARNING:deepchem.feat.molecule_featurizers.rdkit_descriptors:No normalization for SPS. Feature removed!\n",
            "WARNING:deepchem.feat.molecule_featurizers.rdkit_descriptors:No normalization for AvgIpc. Feature removed!\n",
            "WARNING:tensorflow:From /usr/local/lib/python3.10/dist-packages/tensorflow/python/util/deprecation.py:588: calling function (from tensorflow.python.eager.polymorphic_function.polymorphic_function) with experimental_relax_shapes is deprecated and will be removed in a future version.\n",
            "Instructions for updating:\n",
            "experimental_relax_shapes is deprecated, use reduce_retracing instead\n",
            "WARNING:deepchem.models.torch_models:Skipped loading modules with pytorch-geometric dependency, missing a dependency. No module named 'torch_geometric'\n",
            "WARNING:deepchem.models:Skipped loading modules with pytorch-geometric dependency, missing a dependency. cannot import name 'DMPNN' from 'deepchem.models.torch_models' (/usr/local/lib/python3.10/dist-packages/deepchem/models/torch_models/__init__.py)\n",
            "WARNING:deepchem.models:Skipped loading modules with pytorch-lightning dependency, missing a dependency. No module named 'lightning'\n",
            "WARNING:deepchem.models:Skipped loading some Jax models, missing a dependency. No module named 'haiku'\n"
          ]
        }
      ],
      "source": [
        "#from google.colab import drive\n",
        "#drive.mount('/content/drive')\n",
        "#!pip install deepchem rdkit matplotlib networkx\n",
        "\n",
        "import deepchem as dc\n",
        "from rdkit import Chem\n",
        "from rdkit.Chem import Draw\n",
        "import matplotlib.pyplot as plt\n",
        "import networkx as nx\n",
        "from sklearn.svm import SVR\n",
        "from sklearn.model_selection import train_test_split\n",
        "from sklearn.preprocessing import StandardScaler\n",
        "from deepchem.feat import MolGraphConvFeaturizer\n",
        "from deepchem.feat import CircularFingerprint\n",
        "from sklearn.model_selection import GridSearchCV\n",
        "from sklearn.svm import SVR\n",
        "import pandas as pd\n",
        "import numpy as np\n",
        "from sklearn.model_selection import StratifiedKFold\n",
        "from deepchem.feat import ConvMolFeaturizer\n",
        "from rdkit import Chem\n",
        "from rdkit.Chem import AllChem\n",
        "from rdkit.Chem import Descriptors\n",
        "import deepchem as dc\n",
        "from methods_fingerprints import *\n",
        "\n",
        "#from drive.MyDrive.code.methods import *\n",
        "#from drive.MyDrive.code.methods_fingerprints import *"
      ]
    },
    {
      "cell_type": "code",
      "source": [
        "smiles_tr,smiles_test, logSweeter_tr, logSweeter_test, families_tr, families_test = load_data(\"SweetnersDB.xlsx\")"#../data//content/drive/MyDrive/code/SweetnersDB.xlsx\")"
      ],
      "metadata": {
        "colab": {
          "base_uri": "https://localhost:8080/"
        },
        "id": "Kh_vaVW16CUH",
        "outputId": "926b06c5-9628-40fd-9986-1da739b325b7"
      },
      "execution_count": null,
      "outputs": [
        {
          "output_type": "stream",
          "name": "stdout",
          "text": [
            "Index(['Name', 'logSw', 'Chemical family', 'Dataset', 'Smiles'], dtype='object')\n"
          ]
        }
      ]
    },
    {
      "cell_type": "code",
      "source": [
        "families_tr"
      ],
      "metadata": {
        "colab": {
          "base_uri": "https://localhost:8080/"
        },
        "id": "FFokYgfk7aSA",
        "outputId": "4fde8257-c861-4e5c-8c45-96649aa4c957"
      },
      "execution_count": null,
      "outputs": [
        {
          "output_type": "execute_result",
          "data": {
            "text/plain": [
              "array([0, 1, 0, 0, 0, 0, 1, 0, 0, 0, 0, 0, 0, 0, 0, 0, 0, 0, 1, 0, 0, 0,\n",
              "       0, 0, 0, 0, 1, 0, 0, 0, 1, 0, 1, 1, 0, 0, 0, 0, 0, 0, 0, 1, 0, 1,\n",
              "       0, 0, 2, 2, 2, 2, 2, 2, 2, 2, 2, 2, 2, 2, 2, 2, 2, 2, 2, 2, 2, 0,\n",
              "       2, 2, 2, 2, 2, 2, 2, 2, 2, 2, 2, 2, 2, 2, 2, 2, 2, 2, 2, 2, 2, 2,\n",
              "       2, 2, 2, 2, 2, 2, 2, 2, 2, 0, 0, 2, 2, 2, 2, 2, 2, 0, 2, 2, 0, 2,\n",
              "       2, 2, 2, 2, 2, 2, 2, 3, 2, 2, 2, 2, 2, 2, 2, 4, 2, 2, 2, 5, 6, 2,\n",
              "       6, 2, 2, 2, 2, 7, 2, 2, 2, 2, 7, 0, 2, 2, 7, 7, 7, 7, 2, 2, 2, 7,\n",
              "       2, 2, 2, 4, 4, 3, 3, 7, 2, 7, 7, 0, 4, 2, 7, 7, 2, 6, 2, 0, 2, 2,\n",
              "       2, 2, 2, 2, 2, 2, 2, 3, 6, 7, 8, 2, 8, 0, 2, 2, 2, 2, 7, 6, 6, 7,\n",
              "       6, 7, 2, 0, 2, 0, 7, 3, 8, 6, 3, 2, 6, 7, 7, 7, 7, 6, 3, 6, 6, 6,\n",
              "       7, 2, 7, 6, 6, 7, 2, 0, 7, 0, 6, 3, 2, 2, 0, 0, 2, 4, 5, 2, 4, 2,\n",
              "       2, 7, 6, 0, 0, 0, 5, 6, 9, 9])"
            ]
          },
          "metadata": {},
          "execution_count": 3
        }
      ]
    },
    {
      "cell_type": "code",
      "source": [
        "X_tr,X_test,scaler_X = prepare_fingerprint(smiles_tr,smiles_test)\n",
        "y_tr,y_test,scaler_y = prepare_targets(logSweeter_tr,logSweeter_test)"
      ],
      "metadata": {
        "colab": {
          "base_uri": "https://localhost:8080/"
        },
        "id": "ImFrVg9X6eMc",
        "outputId": "22581736-26d5-4343-b73e-c0e8d6c5f80b"
      },
      "execution_count": null,
      "outputs": [
        {
          "output_type": "stream",
          "name": "stderr",
          "text": [
            "[15:11:51] DEPRECATION WARNING: please use MorganGenerator\n",
            "[15:11:51] DEPRECATION WARNING: please use MorganGenerator\n",
            "[15:11:51] DEPRECATION WARNING: please use MorganGenerator\n",
            "[15:11:51] DEPRECATION WARNING: please use MorganGenerator\n",
            "[15:11:51] DEPRECATION WARNING: please use MorganGenerator\n",
            "[15:11:51] DEPRECATION WARNING: please use MorganGenerator\n",
            "[15:11:51] DEPRECATION WARNING: please use MorganGenerator\n",
            "[15:11:51] DEPRECATION WARNING: please use MorganGenerator\n",
            "[15:11:51] DEPRECATION WARNING: please use MorganGenerator\n",
            "[15:11:51] DEPRECATION WARNING: please use MorganGenerator\n",
            "[15:11:51] DEPRECATION WARNING: please use MorganGenerator\n",
            "[15:11:51] DEPRECATION WARNING: please use MorganGenerator\n",
            "[15:11:51] DEPRECATION WARNING: please use MorganGenerator\n",
            "[15:11:51] DEPRECATION WARNING: please use MorganGenerator\n",
            "[15:11:51] DEPRECATION WARNING: please use MorganGenerator\n",
            "[15:11:51] DEPRECATION WARNING: please use MorganGenerator\n",
            "[15:11:51] DEPRECATION WARNING: please use MorganGenerator\n",
            "[15:11:51] DEPRECATION WARNING: please use MorganGenerator\n",
            "[15:11:51] DEPRECATION WARNING: please use MorganGenerator\n",
            "[15:11:51] DEPRECATION WARNING: please use MorganGenerator\n",
            "[15:11:51] DEPRECATION WARNING: please use MorganGenerator\n",
            "[15:11:51] DEPRECATION WARNING: please use MorganGenerator\n",
            "[15:11:51] DEPRECATION WARNING: please use MorganGenerator\n",
            "[15:11:51] DEPRECATION WARNING: please use MorganGenerator\n",
            "[15:11:51] DEPRECATION WARNING: please use MorganGenerator\n",
            "[15:11:51] DEPRECATION WARNING: please use MorganGenerator\n",
            "[15:11:51] DEPRECATION WARNING: please use MorganGenerator\n",
            "[15:11:51] DEPRECATION WARNING: please use MorganGenerator\n",
            "[15:11:51] DEPRECATION WARNING: please use MorganGenerator\n",
            "[15:11:51] DEPRECATION WARNING: please use MorganGenerator\n",
            "[15:11:51] DEPRECATION WARNING: please use MorganGenerator\n",
            "[15:11:51] DEPRECATION WARNING: please use MorganGenerator\n",
            "[15:11:51] DEPRECATION WARNING: please use MorganGenerator\n",
            "[15:11:51] DEPRECATION WARNING: please use MorganGenerator\n",
            "[15:11:51] DEPRECATION WARNING: please use MorganGenerator\n",
            "[15:11:51] DEPRECATION WARNING: please use MorganGenerator\n",
            "[15:11:51] DEPRECATION WARNING: please use MorganGenerator\n",
            "[15:11:51] DEPRECATION WARNING: please use MorganGenerator\n",
            "[15:11:51] DEPRECATION WARNING: please use MorganGenerator\n",
            "[15:11:51] DEPRECATION WARNING: please use MorganGenerator\n",
            "[15:11:51] DEPRECATION WARNING: please use MorganGenerator\n",
            "[15:11:51] DEPRECATION WARNING: please use MorganGenerator\n",
            "[15:11:51] DEPRECATION WARNING: please use MorganGenerator\n",
            "[15:11:51] DEPRECATION WARNING: please use MorganGenerator\n",
            "[15:11:51] DEPRECATION WARNING: please use MorganGenerator\n",
            "[15:11:51] DEPRECATION WARNING: please use MorganGenerator\n",
            "[15:11:51] DEPRECATION WARNING: please use MorganGenerator\n",
            "[15:11:51] DEPRECATION WARNING: please use MorganGenerator\n",
            "[15:11:51] DEPRECATION WARNING: please use MorganGenerator\n",
            "[15:11:51] DEPRECATION WARNING: please use MorganGenerator\n",
            "[15:11:51] DEPRECATION WARNING: please use MorganGenerator\n",
            "[15:11:51] DEPRECATION WARNING: please use MorganGenerator\n",
            "[15:11:51] DEPRECATION WARNING: please use MorganGenerator\n",
            "[15:11:51] DEPRECATION WARNING: please use MorganGenerator\n",
            "[15:11:51] DEPRECATION WARNING: please use MorganGenerator\n",
            "[15:11:51] DEPRECATION WARNING: please use MorganGenerator\n",
            "[15:11:51] DEPRECATION WARNING: please use MorganGenerator\n",
            "[15:11:51] DEPRECATION WARNING: please use MorganGenerator\n",
            "[15:11:51] DEPRECATION WARNING: please use MorganGenerator\n",
            "[15:11:51] DEPRECATION WARNING: please use MorganGenerator\n",
            "[15:11:51] DEPRECATION WARNING: please use MorganGenerator\n",
            "[15:11:51] DEPRECATION WARNING: please use MorganGenerator\n",
            "[15:11:51] DEPRECATION WARNING: please use MorganGenerator\n",
            "[15:11:51] DEPRECATION WARNING: please use MorganGenerator\n",
            "[15:11:51] DEPRECATION WARNING: please use MorganGenerator\n",
            "[15:11:51] DEPRECATION WARNING: please use MorganGenerator\n",
            "[15:11:51] DEPRECATION WARNING: please use MorganGenerator\n",
            "[15:11:51] DEPRECATION WARNING: please use MorganGenerator\n",
            "[15:11:51] DEPRECATION WARNING: please use MorganGenerator\n",
            "[15:11:51] DEPRECATION WARNING: please use MorganGenerator\n",
            "[15:11:51] DEPRECATION WARNING: please use MorganGenerator\n",
            "[15:11:51] DEPRECATION WARNING: please use MorganGenerator\n",
            "[15:11:51] DEPRECATION WARNING: please use MorganGenerator\n",
            "[15:11:51] DEPRECATION WARNING: please use MorganGenerator\n",
            "[15:11:51] DEPRECATION WARNING: please use MorganGenerator\n",
            "[15:11:51] DEPRECATION WARNING: please use MorganGenerator\n",
            "[15:11:51] DEPRECATION WARNING: please use MorganGenerator\n",
            "[15:11:51] DEPRECATION WARNING: please use MorganGenerator\n",
            "[15:11:51] DEPRECATION WARNING: please use MorganGenerator\n",
            "[15:11:51] DEPRECATION WARNING: please use MorganGenerator\n",
            "[15:11:51] DEPRECATION WARNING: please use MorganGenerator\n",
            "[15:11:51] DEPRECATION WARNING: please use MorganGenerator\n",
            "[15:11:51] DEPRECATION WARNING: please use MorganGenerator\n",
            "[15:11:51] DEPRECATION WARNING: please use MorganGenerator\n",
            "[15:11:51] DEPRECATION WARNING: please use MorganGenerator\n",
            "[15:11:51] DEPRECATION WARNING: please use MorganGenerator\n",
            "[15:11:51] DEPRECATION WARNING: please use MorganGenerator\n",
            "[15:11:51] DEPRECATION WARNING: please use MorganGenerator\n",
            "[15:11:51] DEPRECATION WARNING: please use MorganGenerator\n",
            "[15:11:51] DEPRECATION WARNING: please use MorganGenerator\n",
            "[15:11:51] DEPRECATION WARNING: please use MorganGenerator\n",
            "[15:11:51] DEPRECATION WARNING: please use MorganGenerator\n",
            "[15:11:51] DEPRECATION WARNING: please use MorganGenerator\n",
            "[15:11:51] DEPRECATION WARNING: please use MorganGenerator\n",
            "[15:11:51] DEPRECATION WARNING: please use MorganGenerator\n",
            "[15:11:51] DEPRECATION WARNING: please use MorganGenerator\n",
            "[15:11:51] DEPRECATION WARNING: please use MorganGenerator\n",
            "[15:11:51] DEPRECATION WARNING: please use MorganGenerator\n",
            "[15:11:51] DEPRECATION WARNING: please use MorganGenerator\n",
            "[15:11:51] DEPRECATION WARNING: please use MorganGenerator\n",
            "[15:11:51] DEPRECATION WARNING: please use MorganGenerator\n",
            "[15:11:51] DEPRECATION WARNING: please use MorganGenerator\n",
            "[15:11:51] DEPRECATION WARNING: please use MorganGenerator\n",
            "[15:11:51] DEPRECATION WARNING: please use MorganGenerator\n",
            "[15:11:51] DEPRECATION WARNING: please use MorganGenerator\n",
            "[15:11:51] DEPRECATION WARNING: please use MorganGenerator\n",
            "[15:11:51] DEPRECATION WARNING: please use MorganGenerator\n",
            "[15:11:51] DEPRECATION WARNING: please use MorganGenerator\n",
            "[15:11:51] DEPRECATION WARNING: please use MorganGenerator\n",
            "[15:11:51] DEPRECATION WARNING: please use MorganGenerator\n",
            "[15:11:51] DEPRECATION WARNING: please use MorganGenerator\n",
            "[15:11:51] DEPRECATION WARNING: please use MorganGenerator\n",
            "[15:11:51] DEPRECATION WARNING: please use MorganGenerator\n",
            "[15:11:51] DEPRECATION WARNING: please use MorganGenerator\n",
            "[15:11:51] DEPRECATION WARNING: please use MorganGenerator\n",
            "[15:11:51] DEPRECATION WARNING: please use MorganGenerator\n",
            "[15:11:51] DEPRECATION WARNING: please use MorganGenerator\n",
            "[15:11:51] DEPRECATION WARNING: please use MorganGenerator\n",
            "[15:11:51] DEPRECATION WARNING: please use MorganGenerator\n",
            "[15:11:51] DEPRECATION WARNING: please use MorganGenerator\n",
            "[15:11:52] DEPRECATION WARNING: please use MorganGenerator\n",
            "[15:11:52] DEPRECATION WARNING: please use MorganGenerator\n",
            "[15:11:52] DEPRECATION WARNING: please use MorganGenerator\n",
            "[15:11:52] DEPRECATION WARNING: please use MorganGenerator\n",
            "[15:11:52] DEPRECATION WARNING: please use MorganGenerator\n",
            "[15:11:52] DEPRECATION WARNING: please use MorganGenerator\n",
            "[15:11:52] DEPRECATION WARNING: please use MorganGenerator\n",
            "[15:11:52] DEPRECATION WARNING: please use MorganGenerator\n",
            "[15:11:52] DEPRECATION WARNING: please use MorganGenerator\n",
            "[15:11:52] DEPRECATION WARNING: please use MorganGenerator\n",
            "[15:11:52] DEPRECATION WARNING: please use MorganGenerator\n",
            "[15:11:52] DEPRECATION WARNING: please use MorganGenerator\n",
            "[15:11:52] DEPRECATION WARNING: please use MorganGenerator\n",
            "[15:11:52] DEPRECATION WARNING: please use MorganGenerator\n",
            "[15:11:52] DEPRECATION WARNING: please use MorganGenerator\n",
            "[15:11:52] DEPRECATION WARNING: please use MorganGenerator\n",
            "[15:11:52] DEPRECATION WARNING: please use MorganGenerator\n",
            "[15:11:52] DEPRECATION WARNING: please use MorganGenerator\n",
            "[15:11:52] DEPRECATION WARNING: please use MorganGenerator\n",
            "[15:11:52] DEPRECATION WARNING: please use MorganGenerator\n",
            "[15:11:52] DEPRECATION WARNING: please use MorganGenerator\n",
            "[15:11:52] DEPRECATION WARNING: please use MorganGenerator\n",
            "[15:11:52] DEPRECATION WARNING: please use MorganGenerator\n",
            "[15:11:52] DEPRECATION WARNING: please use MorganGenerator\n",
            "[15:11:52] DEPRECATION WARNING: please use MorganGenerator\n",
            "[15:11:52] DEPRECATION WARNING: please use MorganGenerator\n",
            "[15:11:52] DEPRECATION WARNING: please use MorganGenerator\n",
            "[15:11:52] DEPRECATION WARNING: please use MorganGenerator\n",
            "[15:11:52] DEPRECATION WARNING: please use MorganGenerator\n",
            "[15:11:52] DEPRECATION WARNING: please use MorganGenerator\n",
            "[15:11:52] DEPRECATION WARNING: please use MorganGenerator\n",
            "[15:11:52] DEPRECATION WARNING: please use MorganGenerator\n",
            "[15:11:52] DEPRECATION WARNING: please use MorganGenerator\n",
            "[15:11:52] DEPRECATION WARNING: please use MorganGenerator\n",
            "[15:11:52] DEPRECATION WARNING: please use MorganGenerator\n",
            "[15:11:52] DEPRECATION WARNING: please use MorganGenerator\n",
            "[15:11:52] DEPRECATION WARNING: please use MorganGenerator\n",
            "[15:11:52] DEPRECATION WARNING: please use MorganGenerator\n",
            "[15:11:52] DEPRECATION WARNING: please use MorganGenerator\n",
            "[15:11:52] DEPRECATION WARNING: please use MorganGenerator\n",
            "[15:11:52] DEPRECATION WARNING: please use MorganGenerator\n",
            "[15:11:52] DEPRECATION WARNING: please use MorganGenerator\n",
            "[15:11:52] DEPRECATION WARNING: please use MorganGenerator\n",
            "[15:11:52] DEPRECATION WARNING: please use MorganGenerator\n",
            "[15:11:52] DEPRECATION WARNING: please use MorganGenerator\n",
            "[15:11:52] DEPRECATION WARNING: please use MorganGenerator\n",
            "[15:11:52] DEPRECATION WARNING: please use MorganGenerator\n",
            "[15:11:52] DEPRECATION WARNING: please use MorganGenerator\n",
            "[15:11:52] DEPRECATION WARNING: please use MorganGenerator\n",
            "[15:11:52] DEPRECATION WARNING: please use MorganGenerator\n",
            "[15:11:52] DEPRECATION WARNING: please use MorganGenerator\n",
            "[15:11:52] DEPRECATION WARNING: please use MorganGenerator\n",
            "[15:11:52] DEPRECATION WARNING: please use MorganGenerator\n",
            "[15:11:52] DEPRECATION WARNING: please use MorganGenerator\n",
            "[15:11:52] DEPRECATION WARNING: please use MorganGenerator\n",
            "[15:11:52] DEPRECATION WARNING: please use MorganGenerator\n",
            "[15:11:52] DEPRECATION WARNING: please use MorganGenerator\n",
            "[15:11:52] DEPRECATION WARNING: please use MorganGenerator\n",
            "[15:11:52] DEPRECATION WARNING: please use MorganGenerator\n",
            "[15:11:52] DEPRECATION WARNING: please use MorganGenerator\n",
            "[15:11:52] DEPRECATION WARNING: please use MorganGenerator\n",
            "[15:11:52] DEPRECATION WARNING: please use MorganGenerator\n",
            "[15:11:52] DEPRECATION WARNING: please use MorganGenerator\n",
            "[15:11:52] DEPRECATION WARNING: please use MorganGenerator\n",
            "[15:11:52] DEPRECATION WARNING: please use MorganGenerator\n",
            "[15:11:52] DEPRECATION WARNING: please use MorganGenerator\n",
            "[15:11:52] DEPRECATION WARNING: please use MorganGenerator\n",
            "[15:11:52] DEPRECATION WARNING: please use MorganGenerator\n",
            "[15:11:52] DEPRECATION WARNING: please use MorganGenerator\n",
            "[15:11:52] DEPRECATION WARNING: please use MorganGenerator\n",
            "[15:11:52] DEPRECATION WARNING: please use MorganGenerator\n",
            "[15:11:52] DEPRECATION WARNING: please use MorganGenerator\n",
            "[15:11:52] DEPRECATION WARNING: please use MorganGenerator\n",
            "[15:11:52] DEPRECATION WARNING: please use MorganGenerator\n",
            "[15:11:52] DEPRECATION WARNING: please use MorganGenerator\n",
            "[15:11:52] DEPRECATION WARNING: please use MorganGenerator\n",
            "[15:11:52] DEPRECATION WARNING: please use MorganGenerator\n",
            "[15:11:52] DEPRECATION WARNING: please use MorganGenerator\n",
            "[15:11:52] DEPRECATION WARNING: please use MorganGenerator\n",
            "[15:11:52] DEPRECATION WARNING: please use MorganGenerator\n",
            "[15:11:52] DEPRECATION WARNING: please use MorganGenerator\n",
            "[15:11:52] DEPRECATION WARNING: please use MorganGenerator\n",
            "[15:11:52] DEPRECATION WARNING: please use MorganGenerator\n",
            "[15:11:52] DEPRECATION WARNING: please use MorganGenerator\n",
            "[15:11:52] DEPRECATION WARNING: please use MorganGenerator\n",
            "[15:11:52] DEPRECATION WARNING: please use MorganGenerator\n",
            "[15:11:52] DEPRECATION WARNING: please use MorganGenerator\n",
            "[15:11:52] DEPRECATION WARNING: please use MorganGenerator\n",
            "[15:11:52] DEPRECATION WARNING: please use MorganGenerator\n",
            "[15:11:52] DEPRECATION WARNING: please use MorganGenerator\n",
            "[15:11:52] DEPRECATION WARNING: please use MorganGenerator\n",
            "[15:11:52] DEPRECATION WARNING: please use MorganGenerator\n",
            "[15:11:52] DEPRECATION WARNING: please use MorganGenerator\n",
            "[15:11:52] DEPRECATION WARNING: please use MorganGenerator\n",
            "[15:11:52] DEPRECATION WARNING: please use MorganGenerator\n",
            "[15:11:52] DEPRECATION WARNING: please use MorganGenerator\n",
            "[15:11:52] DEPRECATION WARNING: please use MorganGenerator\n",
            "[15:11:52] DEPRECATION WARNING: please use MorganGenerator\n",
            "[15:11:52] DEPRECATION WARNING: please use MorganGenerator\n",
            "[15:11:52] DEPRECATION WARNING: please use MorganGenerator\n",
            "[15:11:52] DEPRECATION WARNING: please use MorganGenerator\n",
            "[15:11:52] DEPRECATION WARNING: please use MorganGenerator\n",
            "[15:11:52] DEPRECATION WARNING: please use MorganGenerator\n",
            "[15:11:52] DEPRECATION WARNING: please use MorganGenerator\n",
            "[15:11:52] DEPRECATION WARNING: please use MorganGenerator\n",
            "[15:11:52] DEPRECATION WARNING: please use MorganGenerator\n",
            "[15:11:52] DEPRECATION WARNING: please use MorganGenerator\n",
            "[15:11:52] DEPRECATION WARNING: please use MorganGenerator\n",
            "[15:11:52] DEPRECATION WARNING: please use MorganGenerator\n",
            "[15:11:52] DEPRECATION WARNING: please use MorganGenerator\n",
            "[15:11:52] DEPRECATION WARNING: please use MorganGenerator\n",
            "[15:11:52] DEPRECATION WARNING: please use MorganGenerator\n",
            "[15:11:52] DEPRECATION WARNING: please use MorganGenerator\n",
            "[15:11:52] DEPRECATION WARNING: please use MorganGenerator\n",
            "[15:11:52] DEPRECATION WARNING: please use MorganGenerator\n",
            "[15:11:52] DEPRECATION WARNING: please use MorganGenerator\n",
            "[15:11:52] DEPRECATION WARNING: please use MorganGenerator\n",
            "[15:11:52] DEPRECATION WARNING: please use MorganGenerator\n",
            "[15:11:52] DEPRECATION WARNING: please use MorganGenerator\n",
            "[15:11:52] DEPRECATION WARNING: please use MorganGenerator\n",
            "[15:11:52] DEPRECATION WARNING: please use MorganGenerator\n",
            "[15:11:52] DEPRECATION WARNING: please use MorganGenerator\n",
            "[15:11:52] DEPRECATION WARNING: please use MorganGenerator\n",
            "[15:11:52] DEPRECATION WARNING: please use MorganGenerator\n",
            "[15:11:52] DEPRECATION WARNING: please use MorganGenerator\n",
            "[15:11:52] DEPRECATION WARNING: please use MorganGenerator\n",
            "[15:11:52] DEPRECATION WARNING: please use MorganGenerator\n",
            "[15:11:52] DEPRECATION WARNING: please use MorganGenerator\n",
            "[15:11:52] DEPRECATION WARNING: please use MorganGenerator\n",
            "[15:11:52] DEPRECATION WARNING: please use MorganGenerator\n",
            "[15:11:52] DEPRECATION WARNING: please use MorganGenerator\n",
            "[15:11:52] DEPRECATION WARNING: please use MorganGenerator\n",
            "[15:11:52] DEPRECATION WARNING: please use MorganGenerator\n",
            "[15:11:52] DEPRECATION WARNING: please use MorganGenerator\n",
            "[15:11:52] DEPRECATION WARNING: please use MorganGenerator\n",
            "[15:11:52] DEPRECATION WARNING: please use MorganGenerator\n",
            "[15:11:52] DEPRECATION WARNING: please use MorganGenerator\n",
            "[15:11:52] DEPRECATION WARNING: please use MorganGenerator\n",
            "[15:11:52] DEPRECATION WARNING: please use MorganGenerator\n",
            "[15:11:52] DEPRECATION WARNING: please use MorganGenerator\n",
            "[15:11:52] DEPRECATION WARNING: please use MorganGenerator\n",
            "[15:11:52] DEPRECATION WARNING: please use MorganGenerator\n",
            "[15:11:52] DEPRECATION WARNING: please use MorganGenerator\n",
            "[15:11:52] DEPRECATION WARNING: please use MorganGenerator\n",
            "[15:11:52] DEPRECATION WARNING: please use MorganGenerator\n",
            "[15:11:52] DEPRECATION WARNING: please use MorganGenerator\n",
            "[15:11:52] DEPRECATION WARNING: please use MorganGenerator\n",
            "[15:11:52] DEPRECATION WARNING: please use MorganGenerator\n",
            "[15:11:52] DEPRECATION WARNING: please use MorganGenerator\n",
            "[15:11:52] DEPRECATION WARNING: please use MorganGenerator\n",
            "[15:11:52] DEPRECATION WARNING: please use MorganGenerator\n",
            "[15:11:52] DEPRECATION WARNING: please use MorganGenerator\n",
            "[15:11:52] DEPRECATION WARNING: please use MorganGenerator\n",
            "[15:11:52] DEPRECATION WARNING: please use MorganGenerator\n",
            "[15:11:52] DEPRECATION WARNING: please use MorganGenerator\n",
            "[15:11:52] DEPRECATION WARNING: please use MorganGenerator\n",
            "[15:11:52] DEPRECATION WARNING: please use MorganGenerator\n",
            "[15:11:52] DEPRECATION WARNING: please use MorganGenerator\n",
            "[15:11:52] DEPRECATION WARNING: please use MorganGenerator\n",
            "[15:11:52] DEPRECATION WARNING: please use MorganGenerator\n",
            "[15:11:52] DEPRECATION WARNING: please use MorganGenerator\n",
            "[15:11:52] DEPRECATION WARNING: please use MorganGenerator\n",
            "[15:11:52] DEPRECATION WARNING: please use MorganGenerator\n",
            "[15:11:52] DEPRECATION WARNING: please use MorganGenerator\n",
            "[15:11:52] DEPRECATION WARNING: please use MorganGenerator\n",
            "[15:11:52] DEPRECATION WARNING: please use MorganGenerator\n",
            "[15:11:52] DEPRECATION WARNING: please use MorganGenerator\n",
            "[15:11:52] DEPRECATION WARNING: please use MorganGenerator\n",
            "[15:11:52] DEPRECATION WARNING: please use MorganGenerator\n",
            "[15:11:52] DEPRECATION WARNING: please use MorganGenerator\n",
            "[15:11:52] DEPRECATION WARNING: please use MorganGenerator\n",
            "[15:11:52] DEPRECATION WARNING: please use MorganGenerator\n",
            "[15:11:52] DEPRECATION WARNING: please use MorganGenerator\n",
            "[15:11:52] DEPRECATION WARNING: please use MorganGenerator\n",
            "[15:11:52] DEPRECATION WARNING: please use MorganGenerator\n",
            "[15:11:52] DEPRECATION WARNING: please use MorganGenerator\n",
            "[15:11:52] DEPRECATION WARNING: please use MorganGenerator\n",
            "[15:11:52] DEPRECATION WARNING: please use MorganGenerator\n",
            "[15:11:52] DEPRECATION WARNING: please use MorganGenerator\n",
            "[15:11:52] DEPRECATION WARNING: please use MorganGenerator\n",
            "[15:11:52] DEPRECATION WARNING: please use MorganGenerator\n",
            "[15:11:52] DEPRECATION WARNING: please use MorganGenerator\n",
            "[15:11:52] DEPRECATION WARNING: please use MorganGenerator\n",
            "[15:11:52] DEPRECATION WARNING: please use MorganGenerator\n",
            "[15:11:52] DEPRECATION WARNING: please use MorganGenerator\n",
            "[15:11:52] DEPRECATION WARNING: please use MorganGenerator\n",
            "[15:11:52] DEPRECATION WARNING: please use MorganGenerator\n",
            "[15:11:52] DEPRECATION WARNING: please use MorganGenerator\n",
            "[15:11:52] DEPRECATION WARNING: please use MorganGenerator\n",
            "[15:11:52] DEPRECATION WARNING: please use MorganGenerator\n",
            "[15:11:52] DEPRECATION WARNING: please use MorganGenerator\n",
            "[15:11:52] DEPRECATION WARNING: please use MorganGenerator\n",
            "[15:11:52] DEPRECATION WARNING: please use MorganGenerator\n",
            "[15:11:52] DEPRECATION WARNING: please use MorganGenerator\n",
            "[15:11:52] DEPRECATION WARNING: please use MorganGenerator\n",
            "[15:11:52] DEPRECATION WARNING: please use MorganGenerator\n"
          ]
        }
      ]
    },
    {
      "cell_type": "code",
      "source": [
        "onehot_tr,onehot_test = prepare_famille_chimique(families_tr, families_test)"
      ],
      "metadata": {
        "colab": {
          "base_uri": "https://localhost:8080/"
        },
        "id": "Qonrn6yY7m-4",
        "outputId": "a4e2a348-7235-45e5-aeb3-d76560bff40c"
      },
      "execution_count": null,
      "outputs": [
        {
          "output_type": "stream",
          "name": "stderr",
          "text": [
            "/usr/local/lib/python3.10/dist-packages/sklearn/preprocessing/_encoders.py:975: FutureWarning: `sparse` was renamed to `sparse_output` in version 1.2 and will be removed in 1.4. `sparse_output` is ignored unless you leave `sparse` to its default value.\n",
            "  warnings.warn(\n",
            "/usr/local/lib/python3.10/dist-packages/sklearn/preprocessing/_encoders.py:975: FutureWarning: `sparse` was renamed to `sparse_output` in version 1.2 and will be removed in 1.4. `sparse_output` is ignored unless you leave `sparse` to its default value.\n",
            "  warnings.warn(\n"
          ]
        }
      ]
    },
    {
      "cell_type": "code",
      "source": [
        "# Combiner les fingerprints et l'encodage one-hot\n",
        "representation_tr = np.hstack((X_tr, onehot_tr))\n",
        "representation_test = np.hstack((X_test,onehot_test))"
      ],
      "metadata": {
        "id": "nI0DHPut7pPG"
      },
      "execution_count": null,
      "outputs": []
    },
    {
      "cell_type": "code",
      "source": [
        "representation_tr.shape"
      ],
      "metadata": {
        "colab": {
          "base_uri": "https://localhost:8080/"
        },
        "id": "5YfNJlH886YG",
        "outputId": "dfcbf58d-204c-4a71-9c84-a1d805c4c666"
      },
      "execution_count": null,
      "outputs": [
        {
          "output_type": "execute_result",
          "data": {
            "text/plain": [
              "(252, 1034)"
            ]
          },
          "metadata": {},
          "execution_count": 7
        }
      ]
    },
    {
      "cell_type": "markdown",
      "source": [
        "# regression"
      ],
      "metadata": {
        "id": "ow3zxxasbv1S"
      }
    },
    {
      "cell_type": "code",
      "source": [
        "# Créer et entraîner le modèle SVR\n",
        "svr = SVR(kernel='rbf', C=100, gamma='scale', epsilon=0.1)\n",
        "svr.fit(representation_tr, y_tr)"
      ],
      "metadata": {
        "colab": {
          "base_uri": "https://localhost:8080/",
          "height": 74
        },
        "id": "BFH7vH3J880w",
        "outputId": "5fccd918-7610-4c64-ef2e-e9bdb44499d9"
      },
      "execution_count": null,
      "outputs": [
        {
          "output_type": "execute_result",
          "data": {
            "text/plain": [
              "SVR(C=100)"
            ],
            "text/html": [
              "<style>#sk-container-id-1 {color: black;}#sk-container-id-1 pre{padding: 0;}#sk-container-id-1 div.sk-toggleable {background-color: white;}#sk-container-id-1 label.sk-toggleable__label {cursor: pointer;display: block;width: 100%;margin-bottom: 0;padding: 0.3em;box-sizing: border-box;text-align: center;}#sk-container-id-1 label.sk-toggleable__label-arrow:before {content: \"▸\";float: left;margin-right: 0.25em;color: #696969;}#sk-container-id-1 label.sk-toggleable__label-arrow:hover:before {color: black;}#sk-container-id-1 div.sk-estimator:hover label.sk-toggleable__label-arrow:before {color: black;}#sk-container-id-1 div.sk-toggleable__content {max-height: 0;max-width: 0;overflow: hidden;text-align: left;background-color: #f0f8ff;}#sk-container-id-1 div.sk-toggleable__content pre {margin: 0.2em;color: black;border-radius: 0.25em;background-color: #f0f8ff;}#sk-container-id-1 input.sk-toggleable__control:checked~div.sk-toggleable__content {max-height: 200px;max-width: 100%;overflow: auto;}#sk-container-id-1 input.sk-toggleable__control:checked~label.sk-toggleable__label-arrow:before {content: \"▾\";}#sk-container-id-1 div.sk-estimator input.sk-toggleable__control:checked~label.sk-toggleable__label {background-color: #d4ebff;}#sk-container-id-1 div.sk-label input.sk-toggleable__control:checked~label.sk-toggleable__label {background-color: #d4ebff;}#sk-container-id-1 input.sk-hidden--visually {border: 0;clip: rect(1px 1px 1px 1px);clip: rect(1px, 1px, 1px, 1px);height: 1px;margin: -1px;overflow: hidden;padding: 0;position: absolute;width: 1px;}#sk-container-id-1 div.sk-estimator {font-family: monospace;background-color: #f0f8ff;border: 1px dotted black;border-radius: 0.25em;box-sizing: border-box;margin-bottom: 0.5em;}#sk-container-id-1 div.sk-estimator:hover {background-color: #d4ebff;}#sk-container-id-1 div.sk-parallel-item::after {content: \"\";width: 100%;border-bottom: 1px solid gray;flex-grow: 1;}#sk-container-id-1 div.sk-label:hover label.sk-toggleable__label {background-color: #d4ebff;}#sk-container-id-1 div.sk-serial::before {content: \"\";position: absolute;border-left: 1px solid gray;box-sizing: border-box;top: 0;bottom: 0;left: 50%;z-index: 0;}#sk-container-id-1 div.sk-serial {display: flex;flex-direction: column;align-items: center;background-color: white;padding-right: 0.2em;padding-left: 0.2em;position: relative;}#sk-container-id-1 div.sk-item {position: relative;z-index: 1;}#sk-container-id-1 div.sk-parallel {display: flex;align-items: stretch;justify-content: center;background-color: white;position: relative;}#sk-container-id-1 div.sk-item::before, #sk-container-id-1 div.sk-parallel-item::before {content: \"\";position: absolute;border-left: 1px solid gray;box-sizing: border-box;top: 0;bottom: 0;left: 50%;z-index: -1;}#sk-container-id-1 div.sk-parallel-item {display: flex;flex-direction: column;z-index: 1;position: relative;background-color: white;}#sk-container-id-1 div.sk-parallel-item:first-child::after {align-self: flex-end;width: 50%;}#sk-container-id-1 div.sk-parallel-item:last-child::after {align-self: flex-start;width: 50%;}#sk-container-id-1 div.sk-parallel-item:only-child::after {width: 0;}#sk-container-id-1 div.sk-dashed-wrapped {border: 1px dashed gray;margin: 0 0.4em 0.5em 0.4em;box-sizing: border-box;padding-bottom: 0.4em;background-color: white;}#sk-container-id-1 div.sk-label label {font-family: monospace;font-weight: bold;display: inline-block;line-height: 1.2em;}#sk-container-id-1 div.sk-label-container {text-align: center;}#sk-container-id-1 div.sk-container {/* jupyter's `normalize.less` sets `[hidden] { display: none; }` but bootstrap.min.css set `[hidden] { display: none !important; }` so we also need the `!important` here to be able to override the default hidden behavior on the sphinx rendered scikit-learn.org. See: https://github.com/scikit-learn/scikit-learn/issues/21755 */display: inline-block !important;position: relative;}#sk-container-id-1 div.sk-text-repr-fallback {display: none;}</style><div id=\"sk-container-id-1\" class=\"sk-top-container\"><div class=\"sk-text-repr-fallback\"><pre>SVR(C=100)</pre><b>In a Jupyter environment, please rerun this cell to show the HTML representation or trust the notebook. <br />On GitHub, the HTML representation is unable to render, please try loading this page with nbviewer.org.</b></div><div class=\"sk-container\" hidden><div class=\"sk-item\"><div class=\"sk-estimator sk-toggleable\"><input class=\"sk-toggleable__control sk-hidden--visually\" id=\"sk-estimator-id-1\" type=\"checkbox\" checked><label for=\"sk-estimator-id-1\" class=\"sk-toggleable__label sk-toggleable__label-arrow\">SVR</label><div class=\"sk-toggleable__content\"><pre>SVR(C=100)</pre></div></div></div></div></div>"
            ]
          },
          "metadata": {},
          "execution_count": 8
        }
      ]
    },
    {
      "cell_type": "code",
      "source": [
        "# Évaluer le modèle\n",
        "score = svr.score(representation_test, y_test)\n",
        "print(f\"Score R² du modèle: {score:.2f}\")"
      ],
      "metadata": {
        "colab": {
          "base_uri": "https://localhost:8080/"
        },
        "id": "fsO1ynQh9nY3",
        "outputId": "741c194f-3433-4940-f9b0-95dbc72fc4e7"
      },
      "execution_count": null,
      "outputs": [
        {
          "output_type": "stream",
          "name": "stdout",
          "text": [
            "Score R² du modèle: 0.55\n"
          ]
        }
      ]
    },
    {
      "cell_type": "code",
      "source": [
        "# Faire des prédictions\n",
        "y_pred_train = svr.predict(representation_tr)\n",
        "y_pred_test = svr.predict(representation_test)\n"
      ],
      "metadata": {
        "id": "nbsbDtOG-ULG"
      },
      "execution_count": null,
      "outputs": []
    },
    {
      "cell_type": "code",
      "source": [
        "# Inverser la normalisation pour obtenir les valeurs réelles\n",
        "y_pred_train = scaler_y.inverse_transform(y_pred_train.reshape(-1, 1)).ravel()\n",
        "y_pred_test = scaler_y.inverse_transform(y_pred_test.reshape(-1, 1)).ravel()\n",
        "y_train = scaler_y.inverse_transform(y_tr.reshape(-1, 1)).ravel()\n",
        "y_test = scaler_y.inverse_transform(y_test.reshape(-1, 1)).ravel()"
      ],
      "metadata": {
        "id": "oF4ECSJ4-fSG"
      },
      "execution_count": null,
      "outputs": []
    },
    {
      "cell_type": "code",
      "source": [
        "X = np.vstack((representation_tr,representation_test))\n",
        "y = np.hstack((y_train,y_test))"
      ],
      "metadata": {
        "id": "mBItWr35-kN9"
      },
      "execution_count": null,
      "outputs": []
    },
    {
      "cell_type": "code",
      "source": [
        "# Visualisation : Graphique de dispersion\n",
        "plt.figure(figsize=(10, 5))\n",
        "plt.subplot(1, 2, 1)\n",
        "plt.scatter(y_train, y_pred_train, alpha=0.5, label='Train')\n",
        "plt.scatter(y_test, y_pred_test, alpha=0.5, label='Test')\n",
        "plt.plot([y.min(), y.max()], [y.min(), y.max()], 'r--', lw=2)\n",
        "plt.xlabel('Valeurs réelles')\n",
        "plt.ylabel('Valeurs prédites')\n",
        "plt.title('Graphique de dispersion')\n",
        "plt.legend()"
      ],
      "metadata": {
        "colab": {
          "base_uri": "https://localhost:8080/",
          "height": 505
        },
        "id": "pq8_MNCr-l_O",
        "outputId": "76039002-85eb-4cef-e395-cc9277fb5b36"
      },
      "execution_count": null,
      "outputs": [
        {
          "output_type": "execute_result",
          "data": {
            "text/plain": [
              "<matplotlib.legend.Legend at 0x7a5014b0a9b0>"
            ]
          },
          "metadata": {},
          "execution_count": 13
        },
        {
          "output_type": "display_data",
          "data": {
            "text/plain": [
              "<Figure size 1000x500 with 1 Axes>"
            ],
            "image/png": "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\n"
          },
          "metadata": {}
        }
      ]
    },
    {
      "cell_type": "code",
      "source": [],
      "metadata": {
        "id": "dm3vyG6V-nml"
      },
      "execution_count": null,
      "outputs": []
    },
    {
      "cell_type": "markdown",
      "source": [
        "# scoring regression logistique\n"
      ],
      "metadata": {
        "id": "Hyl2SrgtVL5o"
      }
    },
    {
      "cell_type": "code",
      "source": [
        "scoring(y_tr,y_test,representation_tr,representation_test,0,'LogReg')"
      ],
      "metadata": {
        "colab": {
          "base_uri": "https://localhost:8080/"
        },
        "id": "gIl9mXega2bv",
        "outputId": "adc8b4a1-5fa6-4f80-8a3b-af9bbe3478ab"
      },
      "execution_count": null,
      "outputs": [
        {
          "output_type": "stream",
          "name": "stdout",
          "text": [
            "Accuracy: 0.796875\n",
            "Confusion Matrix:\n",
            "[[16  5]\n",
            " [ 8 35]]\n",
            "Classification Report:\n",
            "              precision    recall  f1-score   support\n",
            "\n",
            "           0       0.67      0.76      0.71        21\n",
            "           1       0.88      0.81      0.84        43\n",
            "\n",
            "    accuracy                           0.80        64\n",
            "   macro avg       0.77      0.79      0.78        64\n",
            "weighted avg       0.81      0.80      0.80        64\n",
            "\n"
          ]
        },
        {
          "output_type": "execute_result",
          "data": {
            "text/plain": [
              "(0.796875,\n",
              " array([[16,  5],\n",
              "        [ 8, 35]]),\n",
              " '              precision    recall  f1-score   support\\n\\n           0       0.67      0.76      0.71        21\\n           1       0.88      0.81      0.84        43\\n\\n    accuracy                           0.80        64\\n   macro avg       0.77      0.79      0.78        64\\nweighted avg       0.81      0.80      0.80        64\\n',\n",
              " array([0, 0, 0, 0, 0, 0, 0, 0, 0, 0, 0, 0, 0, 1, 0, 0, 0, 1, 1, 1, 1, 1,\n",
              "        0, 1, 1, 1, 1, 1, 1, 1, 1, 1, 1, 1, 1, 1, 1, 1, 1, 0, 1, 1, 0, 1,\n",
              "        1, 1, 0, 1, 1, 1, 1, 1, 0, 0, 1, 0, 1, 0, 1, 1, 1, 1, 1, 1]),\n",
              " 0     0\n",
              " 1     0\n",
              " 2     0\n",
              " 3     0\n",
              " 4     0\n",
              "      ..\n",
              " 59    1\n",
              " 60    1\n",
              " 61    1\n",
              " 62    1\n",
              " 63    1\n",
              " Name: label, Length: 64, dtype: int64)"
            ]
          },
          "metadata": {},
          "execution_count": 6
        }
      ]
    },
    {
      "cell_type": "code",
      "source": [
        "scoring(y_tr,y_test,representation_tr,representation_test,0,'DecisionTree')"
      ],
      "metadata": {
        "colab": {
          "base_uri": "https://localhost:8080/"
        },
        "id": "si26k_TXa85v",
        "outputId": "8489a40c-0ba7-4fbd-cf8e-93220ba8cc0a"
      },
      "execution_count": null,
      "outputs": [
        {
          "output_type": "stream",
          "name": "stdout",
          "text": [
            "Accuracy: 0.875\n",
            "Confusion Matrix:\n",
            "[[16  5]\n",
            " [ 3 40]]\n",
            "Classification Report:\n",
            "              precision    recall  f1-score   support\n",
            "\n",
            "           0       0.84      0.76      0.80        21\n",
            "           1       0.89      0.93      0.91        43\n",
            "\n",
            "    accuracy                           0.88        64\n",
            "   macro avg       0.87      0.85      0.85        64\n",
            "weighted avg       0.87      0.88      0.87        64\n",
            "\n"
          ]
        }
      ]
    },
    {
      "cell_type": "code",
      "source": [
        "scoring(y_tr,y_test,representation_tr,representation_test,0,'RandomF')"
      ],
      "metadata": {
        "colab": {
          "base_uri": "https://localhost:8080/"
        },
        "id": "f_0lbgrsbAC2",
        "outputId": "6b057af2-a4d6-4a38-b3e9-b0f9324a7619"
      },
      "execution_count": null,
      "outputs": [
        {
          "output_type": "stream",
          "name": "stdout",
          "text": [
            "Accuracy: 0.875\n",
            "Confusion Matrix:\n",
            "[[15  6]\n",
            " [ 2 41]]\n",
            "Classification Report:\n",
            "              precision    recall  f1-score   support\n",
            "\n",
            "           0       0.88      0.71      0.79        21\n",
            "           1       0.87      0.95      0.91        43\n",
            "\n",
            "    accuracy                           0.88        64\n",
            "   macro avg       0.88      0.83      0.85        64\n",
            "weighted avg       0.88      0.88      0.87        64\n",
            "\n"
          ]
        }
      ]
    }
  ]
}
