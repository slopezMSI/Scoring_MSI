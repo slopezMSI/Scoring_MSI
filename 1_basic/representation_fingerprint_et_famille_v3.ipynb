{
  "nbformat": 4,
  "nbformat_minor": 0,
  "metadata": {
    "colab": {
      "provenance": [],
      "authorship_tag": "ABX9TyNLCElK+08mR1p+QK+7EPaF"
    },
    "kernelspec": {
      "name": "python3",
      "display_name": "Python 3"
    },
    "language_info": {
      "name": "python"
    }
  },
  "cells": [
    {
      "cell_type": "code",
      "source": [
        "#from google.colab import drive\n",
        "#drive.mount('/content/drive')\n",
        "#!pip install deepchem rdkit matplotlib networkx\n",
        "\n",
        "import deepchem as dc\n",
        "from rdkit import Chem\n",
        "from rdkit.Chem import Draw\n",
        "import matplotlib.pyplot as plt\n",
        "import networkx as nx\n",
        "from sklearn.svm import SVR\n",
        "from sklearn.model_selection import train_test_split\n",
        "from sklearn.preprocessing import StandardScaler\n",
        "from deepchem.feat import MolGraphConvFeaturizer\n",
        "from deepchem.feat import CircularFingerprint\n",
        "from sklearn.model_selection import GridSearchCV\n",
        "from sklearn.svm import SVR\n",
        "import pandas as pd\n",
        "import numpy as np\n",
        "from sklearn.model_selection import StratifiedKFold\n",
        "from deepchem.feat import ConvMolFeaturizer\n",
        "from rdkit import Chem\n",
        "from rdkit.Chem import AllChem\n",
        "from rdkit.Chem import Descriptors\n",
        "import deepchem as dc\n",
        "from tensorflow.keras.models import Model\n",
        "from tensorflow.keras.layers import Input, Dense, Concatenate\n",
        "\n",
        "\n",
        "from methods_fingerprints import *\n",
        "#from drive.MyDrive.code.methods import *\n",
        "#from drive.MyDrive.code.methods_fingerprints import *"
      ],
      "metadata": {
        "colab": {
          "base_uri": "https://localhost:8080/"
        },
        "id": "6uAyHXCWXa1W",
        "outputId": "1aca10e0-6ac5-4ac0-deb1-5e43cf292d9a"
      },
      "execution_count": null,
      "outputs": [
        {
          "output_type": "stream",
          "name": "stdout",
          "text": [
            "Mounted at /content/drive\n",
            "Collecting deepchem\n",
            "  Downloading deepchem-2.8.0-py3-none-any.whl.metadata (2.0 kB)\n",
            "Collecting rdkit\n",
            "  Downloading rdkit-2024.3.5-cp310-cp310-manylinux_2_28_x86_64.whl.metadata (3.9 kB)\n",
            "Requirement already satisfied: matplotlib in /usr/local/lib/python3.10/dist-packages (3.7.1)\n",
            "Requirement already satisfied: networkx in /usr/local/lib/python3.10/dist-packages (3.3)\n",
            "Requirement already satisfied: joblib in /usr/local/lib/python3.10/dist-packages (from deepchem) (1.4.2)\n",
            "Requirement already satisfied: numpy>=1.21 in /usr/local/lib/python3.10/dist-packages (from deepchem) (1.26.4)\n",
            "Requirement already satisfied: pandas in /usr/local/lib/python3.10/dist-packages (from deepchem) (2.1.4)\n",
            "Requirement already satisfied: scikit-learn in /usr/local/lib/python3.10/dist-packages (from deepchem) (1.3.2)\n",
            "Requirement already satisfied: sympy in /usr/local/lib/python3.10/dist-packages (from deepchem) (1.13.2)\n",
            "Requirement already satisfied: scipy>=1.10.1 in /usr/local/lib/python3.10/dist-packages (from deepchem) (1.13.1)\n",
            "Requirement already satisfied: Pillow in /usr/local/lib/python3.10/dist-packages (from rdkit) (10.4.0)\n",
            "Requirement already satisfied: contourpy>=1.0.1 in /usr/local/lib/python3.10/dist-packages (from matplotlib) (1.3.0)\n",
            "Requirement already satisfied: cycler>=0.10 in /usr/local/lib/python3.10/dist-packages (from matplotlib) (0.12.1)\n",
            "Requirement already satisfied: fonttools>=4.22.0 in /usr/local/lib/python3.10/dist-packages (from matplotlib) (4.53.1)\n",
            "Requirement already satisfied: kiwisolver>=1.0.1 in /usr/local/lib/python3.10/dist-packages (from matplotlib) (1.4.7)\n",
            "Requirement already satisfied: packaging>=20.0 in /usr/local/lib/python3.10/dist-packages (from matplotlib) (24.1)\n",
            "Requirement already satisfied: pyparsing>=2.3.1 in /usr/local/lib/python3.10/dist-packages (from matplotlib) (3.1.4)\n",
            "Requirement already satisfied: python-dateutil>=2.7 in /usr/local/lib/python3.10/dist-packages (from matplotlib) (2.8.2)\n",
            "Requirement already satisfied: six>=1.5 in /usr/local/lib/python3.10/dist-packages (from python-dateutil>=2.7->matplotlib) (1.16.0)\n",
            "Requirement already satisfied: pytz>=2020.1 in /usr/local/lib/python3.10/dist-packages (from pandas->deepchem) (2024.2)\n",
            "Requirement already satisfied: tzdata>=2022.1 in /usr/local/lib/python3.10/dist-packages (from pandas->deepchem) (2024.1)\n",
            "Requirement already satisfied: threadpoolctl>=2.0.0 in /usr/local/lib/python3.10/dist-packages (from scikit-learn->deepchem) (3.5.0)\n",
            "Requirement already satisfied: mpmath<1.4,>=1.1.0 in /usr/local/lib/python3.10/dist-packages (from sympy->deepchem) (1.3.0)\n",
            "Downloading deepchem-2.8.0-py3-none-any.whl (1.0 MB)\n",
            "\u001b[2K   \u001b[90m━━━━━━━━━━━━━━━━━━━━━━━━━━━━━━━━━━━━━━━━\u001b[0m \u001b[32m1.0/1.0 MB\u001b[0m \u001b[31m11.9 MB/s\u001b[0m eta \u001b[36m0:00:00\u001b[0m\n",
            "\u001b[?25hDownloading rdkit-2024.3.5-cp310-cp310-manylinux_2_28_x86_64.whl (33.1 MB)\n",
            "\u001b[2K   \u001b[90m━━━━━━━━━━━━━━━━━━━━━━━━━━━━━━━━━━━━━━━━\u001b[0m \u001b[32m33.1/33.1 MB\u001b[0m \u001b[31m36.4 MB/s\u001b[0m eta \u001b[36m0:00:00\u001b[0m\n",
            "\u001b[?25hInstalling collected packages: rdkit, deepchem\n",
            "Successfully installed deepchem-2.8.0 rdkit-2024.3.5\n"
          ]
        },
        {
          "output_type": "stream",
          "name": "stderr",
          "text": [
            "WARNING:deepchem.feat.molecule_featurizers.rdkit_descriptors:No normalization for SPS. Feature removed!\n",
            "WARNING:deepchem.feat.molecule_featurizers.rdkit_descriptors:No normalization for AvgIpc. Feature removed!\n",
            "WARNING:tensorflow:From /usr/local/lib/python3.10/dist-packages/tensorflow/python/util/deprecation.py:588: calling function (from tensorflow.python.eager.polymorphic_function.polymorphic_function) with experimental_relax_shapes is deprecated and will be removed in a future version.\n",
            "Instructions for updating:\n",
            "experimental_relax_shapes is deprecated, use reduce_retracing instead\n",
            "WARNING:deepchem.models.torch_models:Skipped loading modules with pytorch-geometric dependency, missing a dependency. No module named 'torch_geometric'\n",
            "WARNING:deepchem.models:Skipped loading modules with pytorch-geometric dependency, missing a dependency. cannot import name 'DMPNN' from 'deepchem.models.torch_models' (/usr/local/lib/python3.10/dist-packages/deepchem/models/torch_models/__init__.py)\n",
            "WARNING:deepchem.models:Skipped loading modules with pytorch-lightning dependency, missing a dependency. No module named 'lightning'\n",
            "WARNING:deepchem.models:Skipped loading some Jax models, missing a dependency. No module named 'haiku'\n"
          ]
        }
      ]
    },
    {
      "cell_type": "code",
      "source": [
        "smiles_tr,smiles_test, logSweeter_tr, logSweeter_test, families_tr, families_test = load_data(\"../data/SweetnersDB.xlsx\")#\"/content/drive/MyDrive/code/SweetnersDB.xlsx\")\n",
        "X_tr,X_test,scaler_X = prepare_fingerprint(smiles_tr,smiles_test)\n",
        "y_tr,y_test,scaler_y = prepare_targets(logSweeter_tr,logSweeter_test)\n",
        "onehot_tr,onehot_test = prepare_famille_chimique(families_tr, families_test)\n",
        "# Combiner les fingerprints et l'encodage one-hot\n",
        "#representation_tr = np.hstack((X_tr, onehot_tr))\n",
        "#representation_test = np.hstack((X_test,onehot_test))"
      ],
      "metadata": {
        "colab": {
          "base_uri": "https://localhost:8080/"
        },
        "id": "jtQFgQoqXeB8",
        "outputId": "fdddcdc4-60ce-4140-c7c2-d9a20fcd5bd5"
      },
      "execution_count": null,
      "outputs": [
        {
          "output_type": "stream",
          "name": "stdout",
          "text": [
            "Index(['Name', 'logSw', 'Chemical family', 'Dataset', 'Smiles'], dtype='object')\n"
          ]
        },
        {
          "output_type": "stream",
          "name": "stderr",
          "text": [
            "[12:54:25] DEPRECATION WARNING: please use MorganGenerator\n",
            "[12:54:25] DEPRECATION WARNING: please use MorganGenerator\n",
            "[12:54:25] DEPRECATION WARNING: please use MorganGenerator\n",
            "[12:54:25] DEPRECATION WARNING: please use MorganGenerator\n",
            "[12:54:25] DEPRECATION WARNING: please use MorganGenerator\n",
            "[12:54:25] DEPRECATION WARNING: please use MorganGenerator\n",
            "[12:54:25] DEPRECATION WARNING: please use MorganGenerator\n",
            "[12:54:25] DEPRECATION WARNING: please use MorganGenerator\n",
            "[12:54:25] DEPRECATION WARNING: please use MorganGenerator\n",
            "[12:54:25] DEPRECATION WARNING: please use MorganGenerator\n",
            "[12:54:25] DEPRECATION WARNING: please use MorganGenerator\n",
            "[12:54:25] DEPRECATION WARNING: please use MorganGenerator\n",
            "[12:54:25] DEPRECATION WARNING: please use MorganGenerator\n",
            "[12:54:25] DEPRECATION WARNING: please use MorganGenerator\n",
            "[12:54:25] DEPRECATION WARNING: please use MorganGenerator\n",
            "[12:54:25] DEPRECATION WARNING: please use MorganGenerator\n",
            "[12:54:25] DEPRECATION WARNING: please use MorganGenerator\n",
            "[12:54:25] DEPRECATION WARNING: please use MorganGenerator\n",
            "[12:54:25] DEPRECATION WARNING: please use MorganGenerator\n",
            "[12:54:25] DEPRECATION WARNING: please use MorganGenerator\n",
            "[12:54:25] DEPRECATION WARNING: please use MorganGenerator\n",
            "[12:54:25] DEPRECATION WARNING: please use MorganGenerator\n",
            "[12:54:25] DEPRECATION WARNING: please use MorganGenerator\n",
            "[12:54:25] DEPRECATION WARNING: please use MorganGenerator\n",
            "[12:54:25] DEPRECATION WARNING: please use MorganGenerator\n",
            "[12:54:25] DEPRECATION WARNING: please use MorganGenerator\n",
            "[12:54:25] DEPRECATION WARNING: please use MorganGenerator\n",
            "[12:54:25] DEPRECATION WARNING: please use MorganGenerator\n",
            "[12:54:25] DEPRECATION WARNING: please use MorganGenerator\n",
            "[12:54:25] DEPRECATION WARNING: please use MorganGenerator\n",
            "[12:54:25] DEPRECATION WARNING: please use MorganGenerator\n",
            "[12:54:25] DEPRECATION WARNING: please use MorganGenerator\n",
            "[12:54:25] DEPRECATION WARNING: please use MorganGenerator\n",
            "[12:54:25] DEPRECATION WARNING: please use MorganGenerator\n",
            "[12:54:25] DEPRECATION WARNING: please use MorganGenerator\n",
            "[12:54:25] DEPRECATION WARNING: please use MorganGenerator\n",
            "[12:54:25] DEPRECATION WARNING: please use MorganGenerator\n",
            "[12:54:25] DEPRECATION WARNING: please use MorganGenerator\n",
            "[12:54:25] DEPRECATION WARNING: please use MorganGenerator\n",
            "[12:54:25] DEPRECATION WARNING: please use MorganGenerator\n",
            "[12:54:25] DEPRECATION WARNING: please use MorganGenerator\n",
            "[12:54:25] DEPRECATION WARNING: please use MorganGenerator\n",
            "[12:54:25] DEPRECATION WARNING: please use MorganGenerator\n",
            "[12:54:25] DEPRECATION WARNING: please use MorganGenerator\n",
            "[12:54:25] DEPRECATION WARNING: please use MorganGenerator\n",
            "[12:54:25] DEPRECATION WARNING: please use MorganGenerator\n",
            "[12:54:25] DEPRECATION WARNING: please use MorganGenerator\n",
            "[12:54:25] DEPRECATION WARNING: please use MorganGenerator\n",
            "[12:54:25] DEPRECATION WARNING: please use MorganGenerator\n",
            "[12:54:25] DEPRECATION WARNING: please use MorganGenerator\n",
            "[12:54:25] DEPRECATION WARNING: please use MorganGenerator\n",
            "[12:54:25] DEPRECATION WARNING: please use MorganGenerator\n",
            "[12:54:25] DEPRECATION WARNING: please use MorganGenerator\n",
            "[12:54:25] DEPRECATION WARNING: please use MorganGenerator\n",
            "[12:54:25] DEPRECATION WARNING: please use MorganGenerator\n",
            "[12:54:25] DEPRECATION WARNING: please use MorganGenerator\n",
            "[12:54:25] DEPRECATION WARNING: please use MorganGenerator\n",
            "[12:54:25] DEPRECATION WARNING: please use MorganGenerator\n",
            "[12:54:25] DEPRECATION WARNING: please use MorganGenerator\n",
            "[12:54:25] DEPRECATION WARNING: please use MorganGenerator\n",
            "[12:54:25] DEPRECATION WARNING: please use MorganGenerator\n",
            "[12:54:25] DEPRECATION WARNING: please use MorganGenerator\n",
            "[12:54:25] DEPRECATION WARNING: please use MorganGenerator\n",
            "[12:54:25] DEPRECATION WARNING: please use MorganGenerator\n",
            "[12:54:25] DEPRECATION WARNING: please use MorganGenerator\n",
            "[12:54:25] DEPRECATION WARNING: please use MorganGenerator\n",
            "[12:54:25] DEPRECATION WARNING: please use MorganGenerator\n",
            "[12:54:25] DEPRECATION WARNING: please use MorganGenerator\n",
            "[12:54:25] DEPRECATION WARNING: please use MorganGenerator\n",
            "[12:54:25] DEPRECATION WARNING: please use MorganGenerator\n",
            "[12:54:25] DEPRECATION WARNING: please use MorganGenerator\n",
            "[12:54:25] DEPRECATION WARNING: please use MorganGenerator\n",
            "[12:54:25] DEPRECATION WARNING: please use MorganGenerator\n",
            "[12:54:25] DEPRECATION WARNING: please use MorganGenerator\n",
            "[12:54:25] DEPRECATION WARNING: please use MorganGenerator\n",
            "[12:54:25] DEPRECATION WARNING: please use MorganGenerator\n",
            "[12:54:25] DEPRECATION WARNING: please use MorganGenerator\n",
            "[12:54:25] DEPRECATION WARNING: please use MorganGenerator\n",
            "[12:54:25] DEPRECATION WARNING: please use MorganGenerator\n",
            "[12:54:25] DEPRECATION WARNING: please use MorganGenerator\n",
            "[12:54:25] DEPRECATION WARNING: please use MorganGenerator\n",
            "[12:54:25] DEPRECATION WARNING: please use MorganGenerator\n",
            "[12:54:25] DEPRECATION WARNING: please use MorganGenerator\n",
            "[12:54:25] DEPRECATION WARNING: please use MorganGenerator\n",
            "[12:54:25] DEPRECATION WARNING: please use MorganGenerator\n",
            "[12:54:25] DEPRECATION WARNING: please use MorganGenerator\n",
            "[12:54:25] DEPRECATION WARNING: please use MorganGenerator\n",
            "[12:54:25] DEPRECATION WARNING: please use MorganGenerator\n",
            "[12:54:25] DEPRECATION WARNING: please use MorganGenerator\n",
            "[12:54:25] DEPRECATION WARNING: please use MorganGenerator\n",
            "[12:54:25] DEPRECATION WARNING: please use MorganGenerator\n",
            "[12:54:25] DEPRECATION WARNING: please use MorganGenerator\n",
            "[12:54:25] DEPRECATION WARNING: please use MorganGenerator\n",
            "[12:54:25] DEPRECATION WARNING: please use MorganGenerator\n",
            "[12:54:25] DEPRECATION WARNING: please use MorganGenerator\n",
            "[12:54:25] DEPRECATION WARNING: please use MorganGenerator\n",
            "[12:54:25] DEPRECATION WARNING: please use MorganGenerator\n",
            "[12:54:25] DEPRECATION WARNING: please use MorganGenerator\n",
            "[12:54:25] DEPRECATION WARNING: please use MorganGenerator\n",
            "[12:54:25] DEPRECATION WARNING: please use MorganGenerator\n",
            "[12:54:25] DEPRECATION WARNING: please use MorganGenerator\n",
            "[12:54:25] DEPRECATION WARNING: please use MorganGenerator\n",
            "[12:54:25] DEPRECATION WARNING: please use MorganGenerator\n",
            "[12:54:25] DEPRECATION WARNING: please use MorganGenerator\n",
            "[12:54:25] DEPRECATION WARNING: please use MorganGenerator\n",
            "[12:54:25] DEPRECATION WARNING: please use MorganGenerator\n",
            "[12:54:25] DEPRECATION WARNING: please use MorganGenerator\n",
            "[12:54:25] DEPRECATION WARNING: please use MorganGenerator\n",
            "[12:54:25] DEPRECATION WARNING: please use MorganGenerator\n",
            "[12:54:25] DEPRECATION WARNING: please use MorganGenerator\n",
            "[12:54:25] DEPRECATION WARNING: please use MorganGenerator\n",
            "[12:54:25] DEPRECATION WARNING: please use MorganGenerator\n",
            "[12:54:25] DEPRECATION WARNING: please use MorganGenerator\n",
            "[12:54:25] DEPRECATION WARNING: please use MorganGenerator\n",
            "[12:54:25] DEPRECATION WARNING: please use MorganGenerator\n",
            "[12:54:25] DEPRECATION WARNING: please use MorganGenerator\n",
            "[12:54:25] DEPRECATION WARNING: please use MorganGenerator\n",
            "[12:54:25] DEPRECATION WARNING: please use MorganGenerator\n",
            "[12:54:25] DEPRECATION WARNING: please use MorganGenerator\n",
            "[12:54:25] DEPRECATION WARNING: please use MorganGenerator\n",
            "[12:54:25] DEPRECATION WARNING: please use MorganGenerator\n",
            "[12:54:25] DEPRECATION WARNING: please use MorganGenerator\n",
            "[12:54:25] DEPRECATION WARNING: please use MorganGenerator\n",
            "[12:54:25] DEPRECATION WARNING: please use MorganGenerator\n",
            "[12:54:25] DEPRECATION WARNING: please use MorganGenerator\n",
            "[12:54:25] DEPRECATION WARNING: please use MorganGenerator\n",
            "[12:54:25] DEPRECATION WARNING: please use MorganGenerator\n",
            "[12:54:25] DEPRECATION WARNING: please use MorganGenerator\n",
            "[12:54:25] DEPRECATION WARNING: please use MorganGenerator\n",
            "[12:54:25] DEPRECATION WARNING: please use MorganGenerator\n",
            "[12:54:25] DEPRECATION WARNING: please use MorganGenerator\n",
            "[12:54:25] DEPRECATION WARNING: please use MorganGenerator\n",
            "[12:54:25] DEPRECATION WARNING: please use MorganGenerator\n",
            "[12:54:25] DEPRECATION WARNING: please use MorganGenerator\n",
            "[12:54:25] DEPRECATION WARNING: please use MorganGenerator\n",
            "[12:54:25] DEPRECATION WARNING: please use MorganGenerator\n",
            "[12:54:25] DEPRECATION WARNING: please use MorganGenerator\n",
            "[12:54:25] DEPRECATION WARNING: please use MorganGenerator\n",
            "[12:54:25] DEPRECATION WARNING: please use MorganGenerator\n",
            "[12:54:25] DEPRECATION WARNING: please use MorganGenerator\n",
            "[12:54:25] DEPRECATION WARNING: please use MorganGenerator\n",
            "[12:54:25] DEPRECATION WARNING: please use MorganGenerator\n",
            "[12:54:25] DEPRECATION WARNING: please use MorganGenerator\n",
            "[12:54:25] DEPRECATION WARNING: please use MorganGenerator\n",
            "[12:54:25] DEPRECATION WARNING: please use MorganGenerator\n",
            "[12:54:25] DEPRECATION WARNING: please use MorganGenerator\n",
            "[12:54:25] DEPRECATION WARNING: please use MorganGenerator\n",
            "[12:54:25] DEPRECATION WARNING: please use MorganGenerator\n",
            "[12:54:25] DEPRECATION WARNING: please use MorganGenerator\n",
            "[12:54:25] DEPRECATION WARNING: please use MorganGenerator\n",
            "[12:54:25] DEPRECATION WARNING: please use MorganGenerator\n",
            "[12:54:25] DEPRECATION WARNING: please use MorganGenerator\n",
            "[12:54:25] DEPRECATION WARNING: please use MorganGenerator\n",
            "[12:54:25] DEPRECATION WARNING: please use MorganGenerator\n",
            "[12:54:25] DEPRECATION WARNING: please use MorganGenerator\n",
            "[12:54:25] DEPRECATION WARNING: please use MorganGenerator\n",
            "[12:54:25] DEPRECATION WARNING: please use MorganGenerator\n",
            "[12:54:25] DEPRECATION WARNING: please use MorganGenerator\n",
            "[12:54:25] DEPRECATION WARNING: please use MorganGenerator\n",
            "[12:54:25] DEPRECATION WARNING: please use MorganGenerator\n",
            "[12:54:25] DEPRECATION WARNING: please use MorganGenerator\n",
            "[12:54:25] DEPRECATION WARNING: please use MorganGenerator\n",
            "[12:54:25] DEPRECATION WARNING: please use MorganGenerator\n",
            "[12:54:25] DEPRECATION WARNING: please use MorganGenerator\n",
            "[12:54:25] DEPRECATION WARNING: please use MorganGenerator\n",
            "[12:54:25] DEPRECATION WARNING: please use MorganGenerator\n",
            "[12:54:25] DEPRECATION WARNING: please use MorganGenerator\n",
            "[12:54:25] DEPRECATION WARNING: please use MorganGenerator\n",
            "[12:54:25] DEPRECATION WARNING: please use MorganGenerator\n",
            "[12:54:25] DEPRECATION WARNING: please use MorganGenerator\n",
            "[12:54:25] DEPRECATION WARNING: please use MorganGenerator\n",
            "[12:54:25] DEPRECATION WARNING: please use MorganGenerator\n",
            "[12:54:25] DEPRECATION WARNING: please use MorganGenerator\n",
            "[12:54:25] DEPRECATION WARNING: please use MorganGenerator\n",
            "[12:54:25] DEPRECATION WARNING: please use MorganGenerator\n",
            "[12:54:25] DEPRECATION WARNING: please use MorganGenerator\n",
            "[12:54:25] DEPRECATION WARNING: please use MorganGenerator\n",
            "[12:54:25] DEPRECATION WARNING: please use MorganGenerator\n",
            "[12:54:25] DEPRECATION WARNING: please use MorganGenerator\n",
            "[12:54:25] DEPRECATION WARNING: please use MorganGenerator\n",
            "[12:54:25] DEPRECATION WARNING: please use MorganGenerator\n",
            "[12:54:25] DEPRECATION WARNING: please use MorganGenerator\n",
            "[12:54:25] DEPRECATION WARNING: please use MorganGenerator\n",
            "[12:54:25] DEPRECATION WARNING: please use MorganGenerator\n",
            "[12:54:25] DEPRECATION WARNING: please use MorganGenerator\n",
            "[12:54:25] DEPRECATION WARNING: please use MorganGenerator\n",
            "[12:54:25] DEPRECATION WARNING: please use MorganGenerator\n",
            "[12:54:25] DEPRECATION WARNING: please use MorganGenerator\n",
            "[12:54:25] DEPRECATION WARNING: please use MorganGenerator\n",
            "[12:54:25] DEPRECATION WARNING: please use MorganGenerator\n",
            "[12:54:25] DEPRECATION WARNING: please use MorganGenerator\n",
            "[12:54:25] DEPRECATION WARNING: please use MorganGenerator\n",
            "[12:54:25] DEPRECATION WARNING: please use MorganGenerator\n",
            "[12:54:25] DEPRECATION WARNING: please use MorganGenerator\n",
            "[12:54:25] DEPRECATION WARNING: please use MorganGenerator\n",
            "[12:54:25] DEPRECATION WARNING: please use MorganGenerator\n",
            "[12:54:25] DEPRECATION WARNING: please use MorganGenerator\n",
            "[12:54:25] DEPRECATION WARNING: please use MorganGenerator\n",
            "[12:54:25] DEPRECATION WARNING: please use MorganGenerator\n",
            "[12:54:25] DEPRECATION WARNING: please use MorganGenerator\n",
            "[12:54:25] DEPRECATION WARNING: please use MorganGenerator\n",
            "[12:54:25] DEPRECATION WARNING: please use MorganGenerator\n",
            "[12:54:25] DEPRECATION WARNING: please use MorganGenerator\n",
            "[12:54:25] DEPRECATION WARNING: please use MorganGenerator\n",
            "[12:54:25] DEPRECATION WARNING: please use MorganGenerator\n",
            "[12:54:25] DEPRECATION WARNING: please use MorganGenerator\n",
            "[12:54:25] DEPRECATION WARNING: please use MorganGenerator\n",
            "[12:54:25] DEPRECATION WARNING: please use MorganGenerator\n",
            "[12:54:25] DEPRECATION WARNING: please use MorganGenerator\n",
            "[12:54:25] DEPRECATION WARNING: please use MorganGenerator\n",
            "[12:54:25] DEPRECATION WARNING: please use MorganGenerator\n",
            "[12:54:25] DEPRECATION WARNING: please use MorganGenerator\n",
            "[12:54:25] DEPRECATION WARNING: please use MorganGenerator\n",
            "[12:54:25] DEPRECATION WARNING: please use MorganGenerator\n",
            "[12:54:25] DEPRECATION WARNING: please use MorganGenerator\n",
            "[12:54:25] DEPRECATION WARNING: please use MorganGenerator\n",
            "[12:54:25] DEPRECATION WARNING: please use MorganGenerator\n",
            "[12:54:25] DEPRECATION WARNING: please use MorganGenerator\n",
            "[12:54:25] DEPRECATION WARNING: please use MorganGenerator\n",
            "[12:54:25] DEPRECATION WARNING: please use MorganGenerator\n",
            "[12:54:25] DEPRECATION WARNING: please use MorganGenerator\n",
            "[12:54:25] DEPRECATION WARNING: please use MorganGenerator\n",
            "[12:54:25] DEPRECATION WARNING: please use MorganGenerator\n",
            "[12:54:25] DEPRECATION WARNING: please use MorganGenerator\n",
            "[12:54:25] DEPRECATION WARNING: please use MorganGenerator\n",
            "[12:54:25] DEPRECATION WARNING: please use MorganGenerator\n",
            "[12:54:25] DEPRECATION WARNING: please use MorganGenerator\n",
            "[12:54:25] DEPRECATION WARNING: please use MorganGenerator\n",
            "[12:54:25] DEPRECATION WARNING: please use MorganGenerator\n",
            "[12:54:25] DEPRECATION WARNING: please use MorganGenerator\n",
            "[12:54:25] DEPRECATION WARNING: please use MorganGenerator\n",
            "[12:54:25] DEPRECATION WARNING: please use MorganGenerator\n",
            "[12:54:25] DEPRECATION WARNING: please use MorganGenerator\n",
            "[12:54:25] DEPRECATION WARNING: please use MorganGenerator\n",
            "[12:54:25] DEPRECATION WARNING: please use MorganGenerator\n",
            "[12:54:25] DEPRECATION WARNING: please use MorganGenerator\n",
            "[12:54:25] DEPRECATION WARNING: please use MorganGenerator\n",
            "[12:54:25] DEPRECATION WARNING: please use MorganGenerator\n",
            "[12:54:25] DEPRECATION WARNING: please use MorganGenerator\n",
            "[12:54:25] DEPRECATION WARNING: please use MorganGenerator\n",
            "[12:54:25] DEPRECATION WARNING: please use MorganGenerator\n",
            "[12:54:25] DEPRECATION WARNING: please use MorganGenerator\n",
            "[12:54:25] DEPRECATION WARNING: please use MorganGenerator\n",
            "[12:54:25] DEPRECATION WARNING: please use MorganGenerator\n",
            "[12:54:25] DEPRECATION WARNING: please use MorganGenerator\n",
            "[12:54:25] DEPRECATION WARNING: please use MorganGenerator\n",
            "[12:54:25] DEPRECATION WARNING: please use MorganGenerator\n",
            "[12:54:25] DEPRECATION WARNING: please use MorganGenerator\n",
            "[12:54:25] DEPRECATION WARNING: please use MorganGenerator\n",
            "[12:54:25] DEPRECATION WARNING: please use MorganGenerator\n",
            "[12:54:25] DEPRECATION WARNING: please use MorganGenerator\n",
            "[12:54:25] DEPRECATION WARNING: please use MorganGenerator\n",
            "[12:54:25] DEPRECATION WARNING: please use MorganGenerator\n",
            "[12:54:25] DEPRECATION WARNING: please use MorganGenerator\n",
            "[12:54:25] DEPRECATION WARNING: please use MorganGenerator\n",
            "[12:54:25] DEPRECATION WARNING: please use MorganGenerator\n",
            "[12:54:25] DEPRECATION WARNING: please use MorganGenerator\n",
            "[12:54:25] DEPRECATION WARNING: please use MorganGenerator\n",
            "[12:54:25] DEPRECATION WARNING: please use MorganGenerator\n",
            "[12:54:25] DEPRECATION WARNING: please use MorganGenerator\n",
            "[12:54:25] DEPRECATION WARNING: please use MorganGenerator\n",
            "[12:54:25] DEPRECATION WARNING: please use MorganGenerator\n",
            "[12:54:25] DEPRECATION WARNING: please use MorganGenerator\n",
            "[12:54:25] DEPRECATION WARNING: please use MorganGenerator\n",
            "[12:54:25] DEPRECATION WARNING: please use MorganGenerator\n",
            "[12:54:25] DEPRECATION WARNING: please use MorganGenerator\n",
            "[12:54:25] DEPRECATION WARNING: please use MorganGenerator\n",
            "[12:54:25] DEPRECATION WARNING: please use MorganGenerator\n",
            "[12:54:26] DEPRECATION WARNING: please use MorganGenerator\n",
            "[12:54:26] DEPRECATION WARNING: please use MorganGenerator\n",
            "[12:54:26] DEPRECATION WARNING: please use MorganGenerator\n",
            "[12:54:26] DEPRECATION WARNING: please use MorganGenerator\n",
            "[12:54:26] DEPRECATION WARNING: please use MorganGenerator\n",
            "[12:54:26] DEPRECATION WARNING: please use MorganGenerator\n",
            "[12:54:26] DEPRECATION WARNING: please use MorganGenerator\n",
            "[12:54:26] DEPRECATION WARNING: please use MorganGenerator\n",
            "[12:54:26] DEPRECATION WARNING: please use MorganGenerator\n",
            "[12:54:26] DEPRECATION WARNING: please use MorganGenerator\n",
            "[12:54:26] DEPRECATION WARNING: please use MorganGenerator\n",
            "[12:54:26] DEPRECATION WARNING: please use MorganGenerator\n",
            "[12:54:26] DEPRECATION WARNING: please use MorganGenerator\n",
            "[12:54:26] DEPRECATION WARNING: please use MorganGenerator\n",
            "[12:54:26] DEPRECATION WARNING: please use MorganGenerator\n",
            "[12:54:26] DEPRECATION WARNING: please use MorganGenerator\n",
            "[12:54:26] DEPRECATION WARNING: please use MorganGenerator\n",
            "[12:54:26] DEPRECATION WARNING: please use MorganGenerator\n",
            "[12:54:26] DEPRECATION WARNING: please use MorganGenerator\n",
            "[12:54:26] DEPRECATION WARNING: please use MorganGenerator\n",
            "[12:54:26] DEPRECATION WARNING: please use MorganGenerator\n",
            "[12:54:26] DEPRECATION WARNING: please use MorganGenerator\n",
            "[12:54:26] DEPRECATION WARNING: please use MorganGenerator\n",
            "[12:54:26] DEPRECATION WARNING: please use MorganGenerator\n",
            "[12:54:26] DEPRECATION WARNING: please use MorganGenerator\n",
            "[12:54:26] DEPRECATION WARNING: please use MorganGenerator\n",
            "[12:54:26] DEPRECATION WARNING: please use MorganGenerator\n",
            "[12:54:26] DEPRECATION WARNING: please use MorganGenerator\n",
            "[12:54:26] DEPRECATION WARNING: please use MorganGenerator\n",
            "[12:54:26] DEPRECATION WARNING: please use MorganGenerator\n",
            "[12:54:26] DEPRECATION WARNING: please use MorganGenerator\n",
            "[12:54:26] DEPRECATION WARNING: please use MorganGenerator\n",
            "[12:54:26] DEPRECATION WARNING: please use MorganGenerator\n",
            "[12:54:26] DEPRECATION WARNING: please use MorganGenerator\n",
            "[12:54:26] DEPRECATION WARNING: please use MorganGenerator\n",
            "[12:54:26] DEPRECATION WARNING: please use MorganGenerator\n",
            "[12:54:26] DEPRECATION WARNING: please use MorganGenerator\n",
            "[12:54:26] DEPRECATION WARNING: please use MorganGenerator\n",
            "[12:54:26] DEPRECATION WARNING: please use MorganGenerator\n",
            "[12:54:26] DEPRECATION WARNING: please use MorganGenerator\n",
            "[12:54:26] DEPRECATION WARNING: please use MorganGenerator\n",
            "[12:54:26] DEPRECATION WARNING: please use MorganGenerator\n",
            "[12:54:26] DEPRECATION WARNING: please use MorganGenerator\n",
            "[12:54:26] DEPRECATION WARNING: please use MorganGenerator\n",
            "[12:54:26] DEPRECATION WARNING: please use MorganGenerator\n",
            "[12:54:26] DEPRECATION WARNING: please use MorganGenerator\n",
            "[12:54:26] DEPRECATION WARNING: please use MorganGenerator\n",
            "[12:54:26] DEPRECATION WARNING: please use MorganGenerator\n",
            "/usr/local/lib/python3.10/dist-packages/sklearn/preprocessing/_encoders.py:975: FutureWarning: `sparse` was renamed to `sparse_output` in version 1.2 and will be removed in 1.4. `sparse_output` is ignored unless you leave `sparse` to its default value.\n",
            "  warnings.warn(\n",
            "/usr/local/lib/python3.10/dist-packages/sklearn/preprocessing/_encoders.py:975: FutureWarning: `sparse` was renamed to `sparse_output` in version 1.2 and will be removed in 1.4. `sparse_output` is ignored unless you leave `sparse` to its default value.\n",
            "  warnings.warn(\n"
          ]
        }
      ]
    },
    {
      "cell_type": "code",
      "execution_count": null,
      "metadata": {
        "colab": {
          "base_uri": "https://localhost:8080/",
          "height": 337
        },
        "id": "jfBxqCQCXT6F",
        "outputId": "22fd5c16-974d-4328-c349-40e5d714d5a8"
      },
      "outputs": [
        {
          "output_type": "display_data",
          "data": {
            "text/plain": [
              "\u001b[1mModel: \"functional\"\u001b[0m\n"
            ],
            "text/html": [
              "<pre style=\"white-space:pre;overflow-x:auto;line-height:normal;font-family:Menlo,'DejaVu Sans Mono',consolas,'Courier New',monospace\"><span style=\"font-weight: bold\">Model: \"functional\"</span>\n",
              "</pre>\n"
            ]
          },
          "metadata": {}
        },
        {
          "output_type": "display_data",
          "data": {
            "text/plain": [
              "┏━━━━━━━━━━━━━━━━━━━━━━━━━━━┳━━━━━━━━━━━━━━━━━━━━━━━━┳━━━━━━━━━━━━━━━━┳━━━━━━━━━━━━━━━━━━━━━━━━┓\n",
              "┃\u001b[1m \u001b[0m\u001b[1mLayer (type)             \u001b[0m\u001b[1m \u001b[0m┃\u001b[1m \u001b[0m\u001b[1mOutput Shape          \u001b[0m\u001b[1m \u001b[0m┃\u001b[1m \u001b[0m\u001b[1m       Param #\u001b[0m\u001b[1m \u001b[0m┃\u001b[1m \u001b[0m\u001b[1mConnected to          \u001b[0m\u001b[1m \u001b[0m┃\n",
              "┡━━━━━━━━━━━━━━━━━━━━━━━━━━━╇━━━━━━━━━━━━━━━━━━━━━━━━╇━━━━━━━━━━━━━━━━╇━━━━━━━━━━━━━━━━━━━━━━━━┩\n",
              "│ fingerprint_input         │ (\u001b[38;5;45mNone\u001b[0m, \u001b[38;5;34m1024\u001b[0m)           │              \u001b[38;5;34m0\u001b[0m │ -                      │\n",
              "│ (\u001b[38;5;33mInputLayer\u001b[0m)              │                        │                │                        │\n",
              "├───────────────────────────┼────────────────────────┼────────────────┼────────────────────────┤\n",
              "│ famille_input             │ (\u001b[38;5;45mNone\u001b[0m, \u001b[38;5;34m10\u001b[0m)             │              \u001b[38;5;34m0\u001b[0m │ -                      │\n",
              "│ (\u001b[38;5;33mInputLayer\u001b[0m)              │                        │                │                        │\n",
              "├───────────────────────────┼────────────────────────┼────────────────┼────────────────────────┤\n",
              "│ concatenate (\u001b[38;5;33mConcatenate\u001b[0m) │ (\u001b[38;5;45mNone\u001b[0m, \u001b[38;5;34m1034\u001b[0m)           │              \u001b[38;5;34m0\u001b[0m │ fingerprint_input[\u001b[38;5;34m0\u001b[0m][\u001b[38;5;34m…\u001b[0m │\n",
              "│                           │                        │                │ famille_input[\u001b[38;5;34m0\u001b[0m][\u001b[38;5;34m0\u001b[0m]    │\n",
              "├───────────────────────────┼────────────────────────┼────────────────┼────────────────────────┤\n",
              "│ dense (\u001b[38;5;33mDense\u001b[0m)             │ (\u001b[38;5;45mNone\u001b[0m, \u001b[38;5;34m512\u001b[0m)            │        \u001b[38;5;34m529,920\u001b[0m │ concatenate[\u001b[38;5;34m0\u001b[0m][\u001b[38;5;34m0\u001b[0m]      │\n",
              "├───────────────────────────┼────────────────────────┼────────────────┼────────────────────────┤\n",
              "│ dense_1 (\u001b[38;5;33mDense\u001b[0m)           │ (\u001b[38;5;45mNone\u001b[0m, \u001b[38;5;34m256\u001b[0m)            │        \u001b[38;5;34m131,328\u001b[0m │ dense[\u001b[38;5;34m0\u001b[0m][\u001b[38;5;34m0\u001b[0m]            │\n",
              "└───────────────────────────┴────────────────────────┴────────────────┴────────────────────────┘\n"
            ],
            "text/html": [
              "<pre style=\"white-space:pre;overflow-x:auto;line-height:normal;font-family:Menlo,'DejaVu Sans Mono',consolas,'Courier New',monospace\">┏━━━━━━━━━━━━━━━━━━━━━━━━━━━┳━━━━━━━━━━━━━━━━━━━━━━━━┳━━━━━━━━━━━━━━━━┳━━━━━━━━━━━━━━━━━━━━━━━━┓\n",
              "┃<span style=\"font-weight: bold\"> Layer (type)              </span>┃<span style=\"font-weight: bold\"> Output Shape           </span>┃<span style=\"font-weight: bold\">        Param # </span>┃<span style=\"font-weight: bold\"> Connected to           </span>┃\n",
              "┡━━━━━━━━━━━━━━━━━━━━━━━━━━━╇━━━━━━━━━━━━━━━━━━━━━━━━╇━━━━━━━━━━━━━━━━╇━━━━━━━━━━━━━━━━━━━━━━━━┩\n",
              "│ fingerprint_input         │ (<span style=\"color: #00d7ff; text-decoration-color: #00d7ff\">None</span>, <span style=\"color: #00af00; text-decoration-color: #00af00\">1024</span>)           │              <span style=\"color: #00af00; text-decoration-color: #00af00\">0</span> │ -                      │\n",
              "│ (<span style=\"color: #0087ff; text-decoration-color: #0087ff\">InputLayer</span>)              │                        │                │                        │\n",
              "├───────────────────────────┼────────────────────────┼────────────────┼────────────────────────┤\n",
              "│ famille_input             │ (<span style=\"color: #00d7ff; text-decoration-color: #00d7ff\">None</span>, <span style=\"color: #00af00; text-decoration-color: #00af00\">10</span>)             │              <span style=\"color: #00af00; text-decoration-color: #00af00\">0</span> │ -                      │\n",
              "│ (<span style=\"color: #0087ff; text-decoration-color: #0087ff\">InputLayer</span>)              │                        │                │                        │\n",
              "├───────────────────────────┼────────────────────────┼────────────────┼────────────────────────┤\n",
              "│ concatenate (<span style=\"color: #0087ff; text-decoration-color: #0087ff\">Concatenate</span>) │ (<span style=\"color: #00d7ff; text-decoration-color: #00d7ff\">None</span>, <span style=\"color: #00af00; text-decoration-color: #00af00\">1034</span>)           │              <span style=\"color: #00af00; text-decoration-color: #00af00\">0</span> │ fingerprint_input[<span style=\"color: #00af00; text-decoration-color: #00af00\">0</span>][<span style=\"color: #00af00; text-decoration-color: #00af00\">…</span> │\n",
              "│                           │                        │                │ famille_input[<span style=\"color: #00af00; text-decoration-color: #00af00\">0</span>][<span style=\"color: #00af00; text-decoration-color: #00af00\">0</span>]    │\n",
              "├───────────────────────────┼────────────────────────┼────────────────┼────────────────────────┤\n",
              "│ dense (<span style=\"color: #0087ff; text-decoration-color: #0087ff\">Dense</span>)             │ (<span style=\"color: #00d7ff; text-decoration-color: #00d7ff\">None</span>, <span style=\"color: #00af00; text-decoration-color: #00af00\">512</span>)            │        <span style=\"color: #00af00; text-decoration-color: #00af00\">529,920</span> │ concatenate[<span style=\"color: #00af00; text-decoration-color: #00af00\">0</span>][<span style=\"color: #00af00; text-decoration-color: #00af00\">0</span>]      │\n",
              "├───────────────────────────┼────────────────────────┼────────────────┼────────────────────────┤\n",
              "│ dense_1 (<span style=\"color: #0087ff; text-decoration-color: #0087ff\">Dense</span>)           │ (<span style=\"color: #00d7ff; text-decoration-color: #00d7ff\">None</span>, <span style=\"color: #00af00; text-decoration-color: #00af00\">256</span>)            │        <span style=\"color: #00af00; text-decoration-color: #00af00\">131,328</span> │ dense[<span style=\"color: #00af00; text-decoration-color: #00af00\">0</span>][<span style=\"color: #00af00; text-decoration-color: #00af00\">0</span>]            │\n",
              "└───────────────────────────┴────────────────────────┴────────────────┴────────────────────────┘\n",
              "</pre>\n"
            ]
          },
          "metadata": {}
        },
        {
          "output_type": "display_data",
          "data": {
            "text/plain": [
              "\u001b[1m Total params: \u001b[0m\u001b[38;5;34m661,248\u001b[0m (2.52 MB)\n"
            ],
            "text/html": [
              "<pre style=\"white-space:pre;overflow-x:auto;line-height:normal;font-family:Menlo,'DejaVu Sans Mono',consolas,'Courier New',monospace\"><span style=\"font-weight: bold\"> Total params: </span><span style=\"color: #00af00; text-decoration-color: #00af00\">661,248</span> (2.52 MB)\n",
              "</pre>\n"
            ]
          },
          "metadata": {}
        },
        {
          "output_type": "display_data",
          "data": {
            "text/plain": [
              "\u001b[1m Trainable params: \u001b[0m\u001b[38;5;34m661,248\u001b[0m (2.52 MB)\n"
            ],
            "text/html": [
              "<pre style=\"white-space:pre;overflow-x:auto;line-height:normal;font-family:Menlo,'DejaVu Sans Mono',consolas,'Courier New',monospace\"><span style=\"font-weight: bold\"> Trainable params: </span><span style=\"color: #00af00; text-decoration-color: #00af00\">661,248</span> (2.52 MB)\n",
              "</pre>\n"
            ]
          },
          "metadata": {}
        },
        {
          "output_type": "display_data",
          "data": {
            "text/plain": [
              "\u001b[1m Non-trainable params: \u001b[0m\u001b[38;5;34m0\u001b[0m (0.00 B)\n"
            ],
            "text/html": [
              "<pre style=\"white-space:pre;overflow-x:auto;line-height:normal;font-family:Menlo,'DejaVu Sans Mono',consolas,'Courier New',monospace\"><span style=\"font-weight: bold\"> Non-trainable params: </span><span style=\"color: #00af00; text-decoration-color: #00af00\">0</span> (0.00 B)\n",
              "</pre>\n"
            ]
          },
          "metadata": {}
        }
      ],
      "source": [
        "input_fingerprint = Input(shape=(1024,), name='fingerprint_input')\n",
        "input_famille = Input(shape=(10,), name='famille_input')\n",
        "\n",
        "# Combiner les entrées\n",
        "concat = Concatenate()([input_fingerprint, input_famille])\n",
        "\n",
        "# Ajouter des couches denses\n",
        "dense = Dense(512, activation='relu')(concat)\n",
        "output = Dense(256, activation='relu')(dense)\n",
        "\n",
        "# Créer le modèle\n",
        "model = Model(inputs=[input_fingerprint, input_famille], outputs=output)\n",
        "model.summary()"
      ]
    },
    {
      "cell_type": "code",
      "source": [
        "# Faire une prédiction avec le modèle\n",
        "predictions_tr = model.predict([X_tr, onehot_tr])\n",
        "print(\"\\nPrédictions :\")\n",
        "print(predictions_tr)"
      ],
      "metadata": {
        "colab": {
          "base_uri": "https://localhost:8080/"
        },
        "id": "xvGKcVVkXuDU",
        "outputId": "38e4fba9-411b-4eeb-e9fd-acf3a2b8468d"
      },
      "execution_count": null,
      "outputs": [
        {
          "output_type": "stream",
          "name": "stdout",
          "text": [
            "\u001b[1m8/8\u001b[0m \u001b[32m━━━━━━━━━━━━━━━━━━━━\u001b[0m\u001b[37m\u001b[0m \u001b[1m0s\u001b[0m 8ms/step\n",
            "\n",
            "Prédictions :\n",
            "[[0.5225698  0.42638838 0.48550788 ... 0.         0.         0.21903023]\n",
            " [0.72880423 0.         0.         ... 0.         1.0023729  0.        ]\n",
            " [0.29690108 0.         0.19456223 ... 0.         0.08387294 0.        ]\n",
            " ...\n",
            " [0.3002767  0.         0.         ... 0.         0.38823667 0.3450383 ]\n",
            " [1.0943297  0.         2.3371315  ... 0.         0.         0.51085097]\n",
            " [0.5354501  0.         1.2069976  ... 0.77888644 0.06319156 0.        ]]\n"
          ]
        }
      ]
    },
    {
      "cell_type": "code",
      "source": [
        "# Faire une prédiction avec le modèle\n",
        "predictions_test = model.predict([X_test, onehot_test])\n",
        "print(\"\\nPrédictions :\")\n",
        "print(predictions_test)"
      ],
      "metadata": {
        "colab": {
          "base_uri": "https://localhost:8080/"
        },
        "id": "EKFMKuwiXwJw",
        "outputId": "ae75545c-f748-4d7f-9a51-7684673ace70"
      },
      "execution_count": null,
      "outputs": [
        {
          "output_type": "stream",
          "name": "stdout",
          "text": [
            "\u001b[1m2/2\u001b[0m \u001b[32m━━━━━━━━━━━━━━━━━━━━\u001b[0m\u001b[37m\u001b[0m \u001b[1m0s\u001b[0m 6ms/step \n",
            "\n",
            "Prédictions :\n",
            "[[0.27969208 0.         0.11257847 ... 0.         0.12583727 0.        ]\n",
            " [0.22517931 0.         0.57964855 ... 0.         0.         0.        ]\n",
            " [1.2176527  0.         0.         ... 1.573715   0.         0.        ]\n",
            " ...\n",
            " [0.37243402 0.609967   1.335221   ... 1.3118429  0.         0.        ]\n",
            " [1.9402062  1.1762387  0.         ... 0.         0.32025754 0.9762055 ]\n",
            " [1.3790915  0.         1.3960545  ... 0.         0.         0.5835591 ]]\n"
          ]
        }
      ]
    },
    {
      "cell_type": "markdown",
      "source": [
        "# regression"
      ],
      "metadata": {
        "id": "57U6JvbIext2"
      }
    },
    {
      "cell_type": "code",
      "source": [
        "# Créer et entraîner le modèle SVR\n",
        "svr = SVR(kernel='rbf', C=100, gamma='scale', epsilon=0.1)\n",
        "svr.fit(predictions_tr, y_tr)"
      ],
      "metadata": {
        "colab": {
          "base_uri": "https://localhost:8080/",
          "height": 74
        },
        "id": "z6MuOW_8X9s-",
        "outputId": "8d42e779-09cb-4493-db21-0dd1fe4c8c88"
      },
      "execution_count": null,
      "outputs": [
        {
          "output_type": "execute_result",
          "data": {
            "text/plain": [
              "SVR(C=100)"
            ],
            "text/html": [
              "<style>#sk-container-id-1 {color: black;}#sk-container-id-1 pre{padding: 0;}#sk-container-id-1 div.sk-toggleable {background-color: white;}#sk-container-id-1 label.sk-toggleable__label {cursor: pointer;display: block;width: 100%;margin-bottom: 0;padding: 0.3em;box-sizing: border-box;text-align: center;}#sk-container-id-1 label.sk-toggleable__label-arrow:before {content: \"▸\";float: left;margin-right: 0.25em;color: #696969;}#sk-container-id-1 label.sk-toggleable__label-arrow:hover:before {color: black;}#sk-container-id-1 div.sk-estimator:hover label.sk-toggleable__label-arrow:before {color: black;}#sk-container-id-1 div.sk-toggleable__content {max-height: 0;max-width: 0;overflow: hidden;text-align: left;background-color: #f0f8ff;}#sk-container-id-1 div.sk-toggleable__content pre {margin: 0.2em;color: black;border-radius: 0.25em;background-color: #f0f8ff;}#sk-container-id-1 input.sk-toggleable__control:checked~div.sk-toggleable__content {max-height: 200px;max-width: 100%;overflow: auto;}#sk-container-id-1 input.sk-toggleable__control:checked~label.sk-toggleable__label-arrow:before {content: \"▾\";}#sk-container-id-1 div.sk-estimator input.sk-toggleable__control:checked~label.sk-toggleable__label {background-color: #d4ebff;}#sk-container-id-1 div.sk-label input.sk-toggleable__control:checked~label.sk-toggleable__label {background-color: #d4ebff;}#sk-container-id-1 input.sk-hidden--visually {border: 0;clip: rect(1px 1px 1px 1px);clip: rect(1px, 1px, 1px, 1px);height: 1px;margin: -1px;overflow: hidden;padding: 0;position: absolute;width: 1px;}#sk-container-id-1 div.sk-estimator {font-family: monospace;background-color: #f0f8ff;border: 1px dotted black;border-radius: 0.25em;box-sizing: border-box;margin-bottom: 0.5em;}#sk-container-id-1 div.sk-estimator:hover {background-color: #d4ebff;}#sk-container-id-1 div.sk-parallel-item::after {content: \"\";width: 100%;border-bottom: 1px solid gray;flex-grow: 1;}#sk-container-id-1 div.sk-label:hover label.sk-toggleable__label {background-color: #d4ebff;}#sk-container-id-1 div.sk-serial::before {content: \"\";position: absolute;border-left: 1px solid gray;box-sizing: border-box;top: 0;bottom: 0;left: 50%;z-index: 0;}#sk-container-id-1 div.sk-serial {display: flex;flex-direction: column;align-items: center;background-color: white;padding-right: 0.2em;padding-left: 0.2em;position: relative;}#sk-container-id-1 div.sk-item {position: relative;z-index: 1;}#sk-container-id-1 div.sk-parallel {display: flex;align-items: stretch;justify-content: center;background-color: white;position: relative;}#sk-container-id-1 div.sk-item::before, #sk-container-id-1 div.sk-parallel-item::before {content: \"\";position: absolute;border-left: 1px solid gray;box-sizing: border-box;top: 0;bottom: 0;left: 50%;z-index: -1;}#sk-container-id-1 div.sk-parallel-item {display: flex;flex-direction: column;z-index: 1;position: relative;background-color: white;}#sk-container-id-1 div.sk-parallel-item:first-child::after {align-self: flex-end;width: 50%;}#sk-container-id-1 div.sk-parallel-item:last-child::after {align-self: flex-start;width: 50%;}#sk-container-id-1 div.sk-parallel-item:only-child::after {width: 0;}#sk-container-id-1 div.sk-dashed-wrapped {border: 1px dashed gray;margin: 0 0.4em 0.5em 0.4em;box-sizing: border-box;padding-bottom: 0.4em;background-color: white;}#sk-container-id-1 div.sk-label label {font-family: monospace;font-weight: bold;display: inline-block;line-height: 1.2em;}#sk-container-id-1 div.sk-label-container {text-align: center;}#sk-container-id-1 div.sk-container {/* jupyter's `normalize.less` sets `[hidden] { display: none; }` but bootstrap.min.css set `[hidden] { display: none !important; }` so we also need the `!important` here to be able to override the default hidden behavior on the sphinx rendered scikit-learn.org. See: https://github.com/scikit-learn/scikit-learn/issues/21755 */display: inline-block !important;position: relative;}#sk-container-id-1 div.sk-text-repr-fallback {display: none;}</style><div id=\"sk-container-id-1\" class=\"sk-top-container\"><div class=\"sk-text-repr-fallback\"><pre>SVR(C=100)</pre><b>In a Jupyter environment, please rerun this cell to show the HTML representation or trust the notebook. <br />On GitHub, the HTML representation is unable to render, please try loading this page with nbviewer.org.</b></div><div class=\"sk-container\" hidden><div class=\"sk-item\"><div class=\"sk-estimator sk-toggleable\"><input class=\"sk-toggleable__control sk-hidden--visually\" id=\"sk-estimator-id-1\" type=\"checkbox\" checked><label for=\"sk-estimator-id-1\" class=\"sk-toggleable__label sk-toggleable__label-arrow\">SVR</label><div class=\"sk-toggleable__content\"><pre>SVR(C=100)</pre></div></div></div></div></div>"
            ]
          },
          "metadata": {},
          "execution_count": 7
        }
      ]
    },
    {
      "cell_type": "code",
      "source": [
        "# Évaluer le modèle\n",
        "score = svr.score(predictions_test, y_test)\n",
        "print(f\"Score R² du modèle: {score:.2f}\")"
      ],
      "metadata": {
        "colab": {
          "base_uri": "https://localhost:8080/"
        },
        "id": "9rKtmZEoX_S_",
        "outputId": "156da436-db32-4f09-bb82-a1dddd5d8cad"
      },
      "execution_count": null,
      "outputs": [
        {
          "output_type": "stream",
          "name": "stdout",
          "text": [
            "Score R² du modèle: 0.56\n"
          ]
        }
      ]
    },
    {
      "cell_type": "code",
      "source": [
        "# Faire des prédictions\n",
        "y_pred_train = svr.predict(predictions_tr)\n",
        "y_pred_test = svr.predict(predictions_test)"
      ],
      "metadata": {
        "id": "8RtGB63BYAzN"
      },
      "execution_count": null,
      "outputs": []
    },
    {
      "cell_type": "code",
      "source": [
        "# Inverser la normalisation pour obtenir les valeurs réelles\n",
        "y_pred_train = scaler_y.inverse_transform(y_pred_train.reshape(-1, 1)).ravel()\n",
        "y_pred_test = scaler_y.inverse_transform(y_pred_test.reshape(-1, 1)).ravel()\n",
        "y_train = scaler_y.inverse_transform(y_tr.reshape(-1, 1)).ravel()\n",
        "y_test = scaler_y.inverse_transform(y_test.reshape(-1, 1)).ravel()"
      ],
      "metadata": {
        "id": "Ytw1hj5OYCM7"
      },
      "execution_count": null,
      "outputs": []
    },
    {
      "cell_type": "code",
      "source": [
        "y = np.hstack((y_train,y_test))\n",
        "# Visualisation : Graphique de dispersion\n",
        "plt.figure(figsize=(10, 5))\n",
        "plt.subplot(1, 2, 1)\n",
        "plt.scatter(y_train, y_pred_train, alpha=0.5, label='Train')\n",
        "plt.scatter(y_test, y_pred_test, alpha=0.5, label='Test')\n",
        "plt.plot([y.min(), y.max()], [y.min(), y.max()], 'r--', lw=2)\n",
        "plt.xlabel('Valeurs réelles')\n",
        "plt.ylabel('Valeurs prédites')\n",
        "plt.title('Graphique de dispersion')\n",
        "plt.legend()"
      ],
      "metadata": {
        "colab": {
          "base_uri": "https://localhost:8080/",
          "height": 505
        },
        "id": "rPSow8cuYE2q",
        "outputId": "ba20e769-08f6-4636-f8a3-29f81bae25f1"
      },
      "execution_count": null,
      "outputs": [
        {
          "output_type": "execute_result",
          "data": {
            "text/plain": [
              "<matplotlib.legend.Legend at 0x7fdd5af7a0b0>"
            ]
          },
          "metadata": {},
          "execution_count": 11
        },
        {
          "output_type": "display_data",
          "data": {
            "text/plain": [
              "<Figure size 1000x500 with 1 Axes>"
            ],
            "image/png": "[encoded data removed]"
          },
          "metadata": {}
        }
      ]
    },
    {
      "cell_type": "markdown",
      "source": [
        "#Scoring"
      ],
      "metadata": {
        "id": "7dlFguzXe3gY"
      }
    },
    {
      "cell_type": "code",
      "source": [
        "accuracy_log,conf_matrix_log,class_report_log,y_pred_log,target_test_log = scoring(y_tr,y_test,predictions_tr,predictions_test,0,\"LogReg\")"
      ],
      "metadata": {
        "colab": {
          "base_uri": "https://localhost:8080/"
        },
        "id": "4_4JEsUle4JV",
        "outputId": "ae9f8a6f-9dc8-4bf3-e6f8-2083db8a1c8a"
      },
      "execution_count": null,
      "outputs": [
        {
          "output_type": "stream",
          "name": "stdout",
          "text": [
            "Accuracy: 0.78125\n",
            "Confusion Matrix:\n",
            "[[ 5  1]\n",
            " [13 45]]\n",
            "Classification Report:\n",
            "              precision    recall  f1-score   support\n",
            "\n",
            "           0       0.28      0.83      0.42         6\n",
            "           1       0.98      0.78      0.87        58\n",
            "\n",
            "    accuracy                           0.78        64\n",
            "   macro avg       0.63      0.80      0.64        64\n",
            "weighted avg       0.91      0.78      0.82        64\n",
            "\n"
          ]
        }
      ]
    },
    {
      "cell_type": "code",
      "source": [
        "accuracy_tree,conf_matrix_tree,class_report_tree,y_pred_tree,target_test_tree = scoring(y_tr,y_test,predictions_tr,predictions_test,0,\"DecisionTree\")"
      ],
      "metadata": {
        "colab": {
          "base_uri": "https://localhost:8080/"
        },
        "id": "ZHfiixjmfB4V",
        "outputId": "13b5311e-42c8-4ec5-b9ff-28d7ec92cff3"
      },
      "execution_count": null,
      "outputs": [
        {
          "output_type": "stream",
          "name": "stdout",
          "text": [
            "Accuracy: 0.671875\n",
            "Confusion Matrix:\n",
            "[[ 5  1]\n",
            " [20 38]]\n",
            "Classification Report:\n",
            "              precision    recall  f1-score   support\n",
            "\n",
            "           0       0.20      0.83      0.32         6\n",
            "           1       0.97      0.66      0.78        58\n",
            "\n",
            "    accuracy                           0.67        64\n",
            "   macro avg       0.59      0.74      0.55        64\n",
            "weighted avg       0.90      0.67      0.74        64\n",
            "\n"
          ]
        }
      ]
    },
    {
      "cell_type": "code",
      "source": [
        "accuracy_rf,conf_matrix_rf,class_report_rf,y_pred_rf,target_test_rf = scoring(y_tr,y_test,predictions_tr,predictions_test,0,\"RandomF\")"
      ],
      "metadata": {
        "colab": {
          "base_uri": "https://localhost:8080/"
        },
        "id": "pdAWHj2gfCSP",
        "outputId": "5ec434eb-f6ba-4f1c-976f-e5a238f99d28"
      },
      "execution_count": null,
      "outputs": [
        {
          "output_type": "stream",
          "name": "stdout",
          "text": [
            "Accuracy: 0.875\n",
            "Confusion Matrix:\n",
            "[[ 5  1]\n",
            " [ 7 51]]\n",
            "Classification Report:\n",
            "              precision    recall  f1-score   support\n",
            "\n",
            "           0       0.42      0.83      0.56         6\n",
            "           1       0.98      0.88      0.93        58\n",
            "\n",
            "    accuracy                           0.88        64\n",
            "   macro avg       0.70      0.86      0.74        64\n",
            "weighted avg       0.93      0.88      0.89        64\n",
            "\n"
          ]
        }
      ]
    },
    {
      "cell_type": "code",
      "source": [],
      "metadata": {
        "id": "03u-cGeNfQ00"
      },
      "execution_count": null,
      "outputs": []
    }
  ]
}