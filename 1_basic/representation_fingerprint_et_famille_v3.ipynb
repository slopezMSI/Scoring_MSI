{
  "nbformat": 4,
  "nbformat_minor": 0,
  "metadata": {
    "colab": {
      "provenance": [],
      "authorship_tag": "ABX9TyNBr+UqkRQ9DyIUNF4v219/"
    },
    "kernelspec": {
      "name": "python3",
      "display_name": "Python 3"
    },
    "language_info": {
      "name": "python"
    }
  },
  "cells": [
    {
      "cell_type": "code",
      "source": [
        "#from google.colab import drive\n",
        "#drive.mount('/content/drive')\n",
        "#!pip install deepchem rdkit matplotlib networkx\n",
        "\n",
        "import deepchem as dc\n",
        "from rdkit import Chem\n",
        "from rdkit.Chem import Draw\n",
        "import matplotlib.pyplot as plt\n",
        "import networkx as nx\n",
        "from sklearn.svm import SVR\n",
        "from sklearn.model_selection import train_test_split\n",
        "from sklearn.preprocessing import StandardScaler\n",
        "from deepchem.feat import MolGraphConvFeaturizer\n",
        "from deepchem.feat import CircularFingerprint\n",
        "from sklearn.model_selection import GridSearchCV\n",
        "from sklearn.svm import SVR\n",
        "import pandas as pd\n",
        "import numpy as np\n",
        "from sklearn.model_selection import StratifiedKFold\n",
        "from deepchem.feat import ConvMolFeaturizer\n",
        "from rdkit import Chem\n",
        "from rdkit.Chem import AllChem\n",
        "from rdkit.Chem import Descriptors\n",
        "import deepchem as dc\n",
        "from tensorflow.keras.models import Model\n",
        "from tensorflow.keras.layers import Input, Dense, Concatenate\n",
        "\n",
        "#from google.colab import drive\n",
        "#drive.mount('/content/drive')\n",
        "#!pip install deepchem rdkit matplotlib networkx\n",
        "\n",
        "import deepchem as dc\n",
        "from rdkit import Chem\n",
        "from rdkit.Chem import Draw\n",
        "import matplotlib.pyplot as plt\n",
        "import networkx as nx\n",
        "from sklearn.svm import SVR\n",
        "from sklearn.model_selection import train_test_split\n",
        "from sklearn.preprocessing import StandardScaler\n",
        "from deepchem.feat import MolGraphConvFeaturizer\n",
        "from deepchem.feat import CircularFingerprint\n",
        "from sklearn.model_selection import GridSearchCV\n",
        "from sklearn.svm import SVR\n",
        "import pandas as pd\n",
        "import numpy as np\n",
        "from sklearn.model_selection import StratifiedKFold\n",
        "from deepchem.feat import ConvMolFeaturizer\n",
        "from rdkit import Chem\n",
        "from rdkit.Chem import AllChem\n",
        "from rdkit.Chem import Descriptors\n",
        "import deepchem as dc\n",
        "from methods_fingerprints import *\n",
        "#from drive.MyDrive.code.methods import *\n",
        "#from drive.MyDrive.code.methods_fingerprints import *"
      ],
      "metadata": {
        "colab": {
          "base_uri": "https://localhost:8080/"
        },
        "id": "6uAyHXCWXa1W",
        "outputId": "4be2174e-1500-4b69-9627-c841e442f1cb"
      },
      "execution_count": null,
      "outputs": [
        {
          "output_type": "stream",
          "name": "stdout",
          "text": [
            "Drive already mounted at /content/drive; to attempt to forcibly remount, call drive.mount(\"/content/drive\", force_remount=True).\n",
            "Requirement already satisfied: deepchem in /usr/local/lib/python3.10/dist-packages (2.8.0)\n",
            "Requirement already satisfied: rdkit in /usr/local/lib/python3.10/dist-packages (2024.3.5)\n",
            "Requirement already satisfied: matplotlib in /usr/local/lib/python3.10/dist-packages (3.7.1)\n",
            "Requirement already satisfied: networkx in /usr/local/lib/python3.10/dist-packages (3.3)\n",
            "Requirement already satisfied: joblib in /usr/local/lib/python3.10/dist-packages (from deepchem) (1.4.2)\n",
            "Requirement already satisfied: numpy>=1.21 in /usr/local/lib/python3.10/dist-packages (from deepchem) (1.25.2)\n",
            "Requirement already satisfied: pandas in /usr/local/lib/python3.10/dist-packages (from deepchem) (2.0.3)\n",
            "Requirement already satisfied: scikit-learn in /usr/local/lib/python3.10/dist-packages (from deepchem) (1.2.2)\n",
            "Requirement already satisfied: sympy in /usr/local/lib/python3.10/dist-packages (from deepchem) (1.13.1)\n",
            "Requirement already satisfied: scipy>=1.10.1 in /usr/local/lib/python3.10/dist-packages (from deepchem) (1.11.4)\n",
            "Requirement already satisfied: Pillow in /usr/local/lib/python3.10/dist-packages (from rdkit) (9.4.0)\n",
            "Requirement already satisfied: contourpy>=1.0.1 in /usr/local/lib/python3.10/dist-packages (from matplotlib) (1.2.1)\n",
            "Requirement already satisfied: cycler>=0.10 in /usr/local/lib/python3.10/dist-packages (from matplotlib) (0.12.1)\n",
            "Requirement already satisfied: fonttools>=4.22.0 in /usr/local/lib/python3.10/dist-packages (from matplotlib) (4.53.1)\n",
            "Requirement already satisfied: kiwisolver>=1.0.1 in /usr/local/lib/python3.10/dist-packages (from matplotlib) (1.4.5)\n",
            "Requirement already satisfied: packaging>=20.0 in /usr/local/lib/python3.10/dist-packages (from matplotlib) (24.1)\n",
            "Requirement already satisfied: pyparsing>=2.3.1 in /usr/local/lib/python3.10/dist-packages (from matplotlib) (3.1.2)\n",
            "Requirement already satisfied: python-dateutil>=2.7 in /usr/local/lib/python3.10/dist-packages (from matplotlib) (2.8.2)\n",
            "Requirement already satisfied: six>=1.5 in /usr/local/lib/python3.10/dist-packages (from python-dateutil>=2.7->matplotlib) (1.16.0)\n",
            "Requirement already satisfied: pytz>=2020.1 in /usr/local/lib/python3.10/dist-packages (from pandas->deepchem) (2023.4)\n",
            "Requirement already satisfied: tzdata>=2022.1 in /usr/local/lib/python3.10/dist-packages (from pandas->deepchem) (2024.1)\n",
            "Requirement already satisfied: threadpoolctl>=2.0.0 in /usr/local/lib/python3.10/dist-packages (from scikit-learn->deepchem) (3.5.0)\n",
            "Requirement already satisfied: mpmath<1.4,>=1.1.0 in /usr/local/lib/python3.10/dist-packages (from sympy->deepchem) (1.3.0)\n"
          ]
        },
        {
          "output_type": "stream",
          "name": "stderr",
          "text": [
            "WARNING:deepchem.feat.molecule_featurizers.rdkit_descriptors:No normalization for SPS. Feature removed!\n",
            "WARNING:deepchem.feat.molecule_featurizers.rdkit_descriptors:No normalization for AvgIpc. Feature removed!\n",
            "WARNING:tensorflow:From /usr/local/lib/python3.10/dist-packages/tensorflow/python/util/deprecation.py:588: calling function (from tensorflow.python.eager.polymorphic_function.polymorphic_function) with experimental_relax_shapes is deprecated and will be removed in a future version.\n",
            "Instructions for updating:\n",
            "experimental_relax_shapes is deprecated, use reduce_retracing instead\n",
            "WARNING:deepchem.models.torch_models:Skipped loading modules with pytorch-geometric dependency, missing a dependency. No module named 'torch_geometric'\n",
            "WARNING:deepchem.models:Skipped loading modules with pytorch-geometric dependency, missing a dependency. cannot import name 'DMPNN' from 'deepchem.models.torch_models' (/usr/local/lib/python3.10/dist-packages/deepchem/models/torch_models/__init__.py)\n",
            "WARNING:deepchem.models:Skipped loading modules with pytorch-lightning dependency, missing a dependency. No module named 'lightning'\n",
            "WARNING:deepchem.models:Skipped loading some Jax models, missing a dependency. No module named 'haiku'\n"
          ]
        }
      ]
    },
    {
      "cell_type": "code",
      "source": [
        "smiles_tr,smiles_test, logSweeter_tr, logSweeter_test, families_tr, families_test = load_data(\"/content/drive/MyDrive/code/SweetnersDB.xlsx\")\n",
        "X_tr,X_test,scaler_X = prepare_fingerprint(smiles_tr,smiles_test)\n",
        "y_tr,y_test,scaler_y = prepare_targets(logSweeter_tr,logSweeter_test)\n",
        "onehot_tr,onehot_test = prepare_famille_chimique(families_tr, families_test)\n",
        "# Combiner les fingerprints et l'encodage one-hot\n",
        "#representation_tr = np.hstack((X_tr, onehot_tr))\n",
        "#representation_test = np.hstack((X_test,onehot_test))"
      ],
      "metadata": {
        "colab": {
          "base_uri": "https://localhost:8080/"
        },
        "id": "jtQFgQoqXeB8",
        "outputId": "9e94cc35-a7dc-4554-bf51-036aecd90700"
      },
      "execution_count": null,
      "outputs": [
        {
          "output_type": "stream",
          "name": "stdout",
          "text": [
            "Index(['Name', 'logSw', 'Chemical family', 'Dataset', 'Smiles'], dtype='object')\n"
          ]
        },
        {
          "output_type": "stream",
          "name": "stderr",
          "text": [
            "[15:08:37] DEPRECATION WARNING: please use MorganGenerator\n",
            "[15:08:37] DEPRECATION WARNING: please use MorganGenerator\n",
            "[15:08:37] DEPRECATION WARNING: please use MorganGenerator\n",
            "[15:08:37] DEPRECATION WARNING: please use MorganGenerator\n",
            "[15:08:37] DEPRECATION WARNING: please use MorganGenerator\n",
            "[15:08:37] DEPRECATION WARNING: please use MorganGenerator\n",
            "[15:08:37] DEPRECATION WARNING: please use MorganGenerator\n",
            "[15:08:37] DEPRECATION WARNING: please use MorganGenerator\n",
            "[15:08:37] DEPRECATION WARNING: please use MorganGenerator\n",
            "[15:08:37] DEPRECATION WARNING: please use MorganGenerator\n",
            "[15:08:37] DEPRECATION WARNING: please use MorganGenerator\n",
            "[15:08:37] DEPRECATION WARNING: please use MorganGenerator\n",
            "[15:08:37] DEPRECATION WARNING: please use MorganGenerator\n",
            "[15:08:37] DEPRECATION WARNING: please use MorganGenerator\n",
            "[15:08:37] DEPRECATION WARNING: please use MorganGenerator\n",
            "[15:08:37] DEPRECATION WARNING: please use MorganGenerator\n",
            "[15:08:37] DEPRECATION WARNING: please use MorganGenerator\n",
            "[15:08:37] DEPRECATION WARNING: please use MorganGenerator\n",
            "[15:08:37] DEPRECATION WARNING: please use MorganGenerator\n",
            "[15:08:37] DEPRECATION WARNING: please use MorganGenerator\n",
            "[15:08:37] DEPRECATION WARNING: please use MorganGenerator\n",
            "[15:08:37] DEPRECATION WARNING: please use MorganGenerator\n",
            "[15:08:37] DEPRECATION WARNING: please use MorganGenerator\n",
            "[15:08:37] DEPRECATION WARNING: please use MorganGenerator\n",
            "[15:08:37] DEPRECATION WARNING: please use MorganGenerator\n",
            "[15:08:37] DEPRECATION WARNING: please use MorganGenerator\n",
            "[15:08:37] DEPRECATION WARNING: please use MorganGenerator\n",
            "[15:08:37] DEPRECATION WARNING: please use MorganGenerator\n",
            "[15:08:37] DEPRECATION WARNING: please use MorganGenerator\n",
            "[15:08:37] DEPRECATION WARNING: please use MorganGenerator\n",
            "[15:08:37] DEPRECATION WARNING: please use MorganGenerator\n",
            "[15:08:37] DEPRECATION WARNING: please use MorganGenerator\n",
            "[15:08:37] DEPRECATION WARNING: please use MorganGenerator\n",
            "[15:08:37] DEPRECATION WARNING: please use MorganGenerator\n",
            "[15:08:37] DEPRECATION WARNING: please use MorganGenerator\n",
            "[15:08:37] DEPRECATION WARNING: please use MorganGenerator\n",
            "[15:08:37] DEPRECATION WARNING: please use MorganGenerator\n",
            "[15:08:37] DEPRECATION WARNING: please use MorganGenerator\n",
            "[15:08:37] DEPRECATION WARNING: please use MorganGenerator\n",
            "[15:08:37] DEPRECATION WARNING: please use MorganGenerator\n",
            "[15:08:37] DEPRECATION WARNING: please use MorganGenerator\n",
            "[15:08:37] DEPRECATION WARNING: please use MorganGenerator\n",
            "[15:08:37] DEPRECATION WARNING: please use MorganGenerator\n",
            "[15:08:37] DEPRECATION WARNING: please use MorganGenerator\n",
            "[15:08:37] DEPRECATION WARNING: please use MorganGenerator\n",
            "[15:08:37] DEPRECATION WARNING: please use MorganGenerator\n",
            "[15:08:37] DEPRECATION WARNING: please use MorganGenerator\n",
            "[15:08:37] DEPRECATION WARNING: please use MorganGenerator\n",
            "[15:08:37] DEPRECATION WARNING: please use MorganGenerator\n",
            "[15:08:37] DEPRECATION WARNING: please use MorganGenerator\n",
            "[15:08:37] DEPRECATION WARNING: please use MorganGenerator\n",
            "[15:08:37] DEPRECATION WARNING: please use MorganGenerator\n",
            "[15:08:37] DEPRECATION WARNING: please use MorganGenerator\n",
            "[15:08:37] DEPRECATION WARNING: please use MorganGenerator\n",
            "[15:08:37] DEPRECATION WARNING: please use MorganGenerator\n",
            "[15:08:37] DEPRECATION WARNING: please use MorganGenerator\n",
            "[15:08:37] DEPRECATION WARNING: please use MorganGenerator\n",
            "[15:08:37] DEPRECATION WARNING: please use MorganGenerator\n",
            "[15:08:37] DEPRECATION WARNING: please use MorganGenerator\n",
            "[15:08:37] DEPRECATION WARNING: please use MorganGenerator\n",
            "[15:08:37] DEPRECATION WARNING: please use MorganGenerator\n",
            "[15:08:37] DEPRECATION WARNING: please use MorganGenerator\n",
            "[15:08:37] DEPRECATION WARNING: please use MorganGenerator\n",
            "[15:08:37] DEPRECATION WARNING: please use MorganGenerator\n",
            "[15:08:37] DEPRECATION WARNING: please use MorganGenerator\n",
            "[15:08:37] DEPRECATION WARNING: please use MorganGenerator\n",
            "[15:08:37] DEPRECATION WARNING: please use MorganGenerator\n",
            "[15:08:37] DEPRECATION WARNING: please use MorganGenerator\n",
            "[15:08:37] DEPRECATION WARNING: please use MorganGenerator\n",
            "[15:08:37] DEPRECATION WARNING: please use MorganGenerator\n",
            "[15:08:37] DEPRECATION WARNING: please use MorganGenerator\n",
            "[15:08:37] DEPRECATION WARNING: please use MorganGenerator\n",
            "[15:08:37] DEPRECATION WARNING: please use MorganGenerator\n",
            "[15:08:37] DEPRECATION WARNING: please use MorganGenerator\n",
            "[15:08:37] DEPRECATION WARNING: please use MorganGenerator\n",
            "[15:08:37] DEPRECATION WARNING: please use MorganGenerator\n",
            "[15:08:37] DEPRECATION WARNING: please use MorganGenerator\n",
            "[15:08:37] DEPRECATION WARNING: please use MorganGenerator\n",
            "[15:08:37] DEPRECATION WARNING: please use MorganGenerator\n",
            "[15:08:37] DEPRECATION WARNING: please use MorganGenerator\n",
            "[15:08:37] DEPRECATION WARNING: please use MorganGenerator\n",
            "[15:08:37] DEPRECATION WARNING: please use MorganGenerator\n",
            "[15:08:37] DEPRECATION WARNING: please use MorganGenerator\n",
            "[15:08:37] DEPRECATION WARNING: please use MorganGenerator\n",
            "[15:08:37] DEPRECATION WARNING: please use MorganGenerator\n",
            "[15:08:37] DEPRECATION WARNING: please use MorganGenerator\n",
            "[15:08:37] DEPRECATION WARNING: please use MorganGenerator\n",
            "[15:08:37] DEPRECATION WARNING: please use MorganGenerator\n",
            "[15:08:37] DEPRECATION WARNING: please use MorganGenerator\n",
            "[15:08:37] DEPRECATION WARNING: please use MorganGenerator\n",
            "[15:08:37] DEPRECATION WARNING: please use MorganGenerator\n",
            "[15:08:37] DEPRECATION WARNING: please use MorganGenerator\n",
            "[15:08:37] DEPRECATION WARNING: please use MorganGenerator\n",
            "[15:08:37] DEPRECATION WARNING: please use MorganGenerator\n",
            "[15:08:37] DEPRECATION WARNING: please use MorganGenerator\n",
            "[15:08:37] DEPRECATION WARNING: please use MorganGenerator\n",
            "[15:08:37] DEPRECATION WARNING: please use MorganGenerator\n",
            "[15:08:37] DEPRECATION WARNING: please use MorganGenerator\n",
            "[15:08:37] DEPRECATION WARNING: please use MorganGenerator\n",
            "[15:08:37] DEPRECATION WARNING: please use MorganGenerator\n",
            "[15:08:37] DEPRECATION WARNING: please use MorganGenerator\n",
            "[15:08:37] DEPRECATION WARNING: please use MorganGenerator\n",
            "[15:08:37] DEPRECATION WARNING: please use MorganGenerator\n",
            "[15:08:37] DEPRECATION WARNING: please use MorganGenerator\n",
            "[15:08:37] DEPRECATION WARNING: please use MorganGenerator\n",
            "[15:08:37] DEPRECATION WARNING: please use MorganGenerator\n",
            "[15:08:37] DEPRECATION WARNING: please use MorganGenerator\n",
            "[15:08:37] DEPRECATION WARNING: please use MorganGenerator\n",
            "[15:08:37] DEPRECATION WARNING: please use MorganGenerator\n",
            "[15:08:37] DEPRECATION WARNING: please use MorganGenerator\n",
            "[15:08:37] DEPRECATION WARNING: please use MorganGenerator\n",
            "[15:08:37] DEPRECATION WARNING: please use MorganGenerator\n",
            "[15:08:37] DEPRECATION WARNING: please use MorganGenerator\n",
            "[15:08:37] DEPRECATION WARNING: please use MorganGenerator\n",
            "[15:08:37] DEPRECATION WARNING: please use MorganGenerator\n",
            "[15:08:37] DEPRECATION WARNING: please use MorganGenerator\n",
            "[15:08:37] DEPRECATION WARNING: please use MorganGenerator\n",
            "[15:08:37] DEPRECATION WARNING: please use MorganGenerator\n",
            "[15:08:37] DEPRECATION WARNING: please use MorganGenerator\n",
            "[15:08:37] DEPRECATION WARNING: please use MorganGenerator\n",
            "[15:08:37] DEPRECATION WARNING: please use MorganGenerator\n",
            "[15:08:37] DEPRECATION WARNING: please use MorganGenerator\n",
            "[15:08:37] DEPRECATION WARNING: please use MorganGenerator\n",
            "[15:08:37] DEPRECATION WARNING: please use MorganGenerator\n",
            "[15:08:37] DEPRECATION WARNING: please use MorganGenerator\n",
            "[15:08:37] DEPRECATION WARNING: please use MorganGenerator\n",
            "[15:08:37] DEPRECATION WARNING: please use MorganGenerator\n",
            "[15:08:37] DEPRECATION WARNING: please use MorganGenerator\n",
            "[15:08:37] DEPRECATION WARNING: please use MorganGenerator\n",
            "[15:08:38] DEPRECATION WARNING: please use MorganGenerator\n",
            "[15:08:38] DEPRECATION WARNING: please use MorganGenerator\n",
            "[15:08:38] DEPRECATION WARNING: please use MorganGenerator\n",
            "[15:08:38] DEPRECATION WARNING: please use MorganGenerator\n",
            "[15:08:38] DEPRECATION WARNING: please use MorganGenerator\n",
            "[15:08:38] DEPRECATION WARNING: please use MorganGenerator\n",
            "[15:08:38] DEPRECATION WARNING: please use MorganGenerator\n",
            "[15:08:38] DEPRECATION WARNING: please use MorganGenerator\n",
            "[15:08:38] DEPRECATION WARNING: please use MorganGenerator\n",
            "[15:08:38] DEPRECATION WARNING: please use MorganGenerator\n",
            "[15:08:38] DEPRECATION WARNING: please use MorganGenerator\n",
            "[15:08:38] DEPRECATION WARNING: please use MorganGenerator\n",
            "[15:08:38] DEPRECATION WARNING: please use MorganGenerator\n",
            "[15:08:38] DEPRECATION WARNING: please use MorganGenerator\n",
            "[15:08:38] DEPRECATION WARNING: please use MorganGenerator\n",
            "[15:08:38] DEPRECATION WARNING: please use MorganGenerator\n",
            "[15:08:38] DEPRECATION WARNING: please use MorganGenerator\n",
            "[15:08:38] DEPRECATION WARNING: please use MorganGenerator\n",
            "[15:08:38] DEPRECATION WARNING: please use MorganGenerator\n",
            "[15:08:38] DEPRECATION WARNING: please use MorganGenerator\n",
            "[15:08:38] DEPRECATION WARNING: please use MorganGenerator\n",
            "[15:08:38] DEPRECATION WARNING: please use MorganGenerator\n",
            "[15:08:38] DEPRECATION WARNING: please use MorganGenerator\n",
            "[15:08:38] DEPRECATION WARNING: please use MorganGenerator\n",
            "[15:08:38] DEPRECATION WARNING: please use MorganGenerator\n",
            "[15:08:38] DEPRECATION WARNING: please use MorganGenerator\n",
            "[15:08:38] DEPRECATION WARNING: please use MorganGenerator\n",
            "[15:08:38] DEPRECATION WARNING: please use MorganGenerator\n",
            "[15:08:38] DEPRECATION WARNING: please use MorganGenerator\n",
            "[15:08:38] DEPRECATION WARNING: please use MorganGenerator\n",
            "[15:08:38] DEPRECATION WARNING: please use MorganGenerator\n",
            "[15:08:38] DEPRECATION WARNING: please use MorganGenerator\n",
            "[15:08:38] DEPRECATION WARNING: please use MorganGenerator\n",
            "[15:08:38] DEPRECATION WARNING: please use MorganGenerator\n",
            "[15:08:38] DEPRECATION WARNING: please use MorganGenerator\n",
            "[15:08:38] DEPRECATION WARNING: please use MorganGenerator\n",
            "[15:08:38] DEPRECATION WARNING: please use MorganGenerator\n",
            "[15:08:38] DEPRECATION WARNING: please use MorganGenerator\n",
            "[15:08:38] DEPRECATION WARNING: please use MorganGenerator\n",
            "[15:08:38] DEPRECATION WARNING: please use MorganGenerator\n",
            "[15:08:38] DEPRECATION WARNING: please use MorganGenerator\n",
            "[15:08:38] DEPRECATION WARNING: please use MorganGenerator\n",
            "[15:08:38] DEPRECATION WARNING: please use MorganGenerator\n",
            "[15:08:38] DEPRECATION WARNING: please use MorganGenerator\n",
            "[15:08:38] DEPRECATION WARNING: please use MorganGenerator\n",
            "[15:08:38] DEPRECATION WARNING: please use MorganGenerator\n",
            "[15:08:38] DEPRECATION WARNING: please use MorganGenerator\n",
            "[15:08:38] DEPRECATION WARNING: please use MorganGenerator\n",
            "[15:08:38] DEPRECATION WARNING: please use MorganGenerator\n",
            "[15:08:38] DEPRECATION WARNING: please use MorganGenerator\n",
            "[15:08:38] DEPRECATION WARNING: please use MorganGenerator\n",
            "[15:08:38] DEPRECATION WARNING: please use MorganGenerator\n",
            "[15:08:38] DEPRECATION WARNING: please use MorganGenerator\n",
            "[15:08:38] DEPRECATION WARNING: please use MorganGenerator\n",
            "[15:08:38] DEPRECATION WARNING: please use MorganGenerator\n",
            "[15:08:38] DEPRECATION WARNING: please use MorganGenerator\n",
            "[15:08:38] DEPRECATION WARNING: please use MorganGenerator\n",
            "[15:08:38] DEPRECATION WARNING: please use MorganGenerator\n",
            "[15:08:38] DEPRECATION WARNING: please use MorganGenerator\n",
            "[15:08:38] DEPRECATION WARNING: please use MorganGenerator\n",
            "[15:08:38] DEPRECATION WARNING: please use MorganGenerator\n",
            "[15:08:38] DEPRECATION WARNING: please use MorganGenerator\n",
            "[15:08:38] DEPRECATION WARNING: please use MorganGenerator\n",
            "[15:08:38] DEPRECATION WARNING: please use MorganGenerator\n",
            "[15:08:38] DEPRECATION WARNING: please use MorganGenerator\n",
            "[15:08:38] DEPRECATION WARNING: please use MorganGenerator\n",
            "[15:08:38] DEPRECATION WARNING: please use MorganGenerator\n",
            "[15:08:38] DEPRECATION WARNING: please use MorganGenerator\n",
            "[15:08:38] DEPRECATION WARNING: please use MorganGenerator\n",
            "[15:08:38] DEPRECATION WARNING: please use MorganGenerator\n",
            "[15:08:38] DEPRECATION WARNING: please use MorganGenerator\n",
            "[15:08:38] DEPRECATION WARNING: please use MorganGenerator\n",
            "[15:08:38] DEPRECATION WARNING: please use MorganGenerator\n",
            "[15:08:38] DEPRECATION WARNING: please use MorganGenerator\n",
            "[15:08:38] DEPRECATION WARNING: please use MorganGenerator\n",
            "[15:08:38] DEPRECATION WARNING: please use MorganGenerator\n",
            "[15:08:38] DEPRECATION WARNING: please use MorganGenerator\n",
            "[15:08:38] DEPRECATION WARNING: please use MorganGenerator\n",
            "[15:08:38] DEPRECATION WARNING: please use MorganGenerator\n",
            "[15:08:38] DEPRECATION WARNING: please use MorganGenerator\n",
            "[15:08:38] DEPRECATION WARNING: please use MorganGenerator\n",
            "[15:08:38] DEPRECATION WARNING: please use MorganGenerator\n",
            "[15:08:38] DEPRECATION WARNING: please use MorganGenerator\n",
            "[15:08:38] DEPRECATION WARNING: please use MorganGenerator\n",
            "[15:08:38] DEPRECATION WARNING: please use MorganGenerator\n",
            "[15:08:38] DEPRECATION WARNING: please use MorganGenerator\n",
            "[15:08:38] DEPRECATION WARNING: please use MorganGenerator\n",
            "[15:08:38] DEPRECATION WARNING: please use MorganGenerator\n",
            "[15:08:38] DEPRECATION WARNING: please use MorganGenerator\n",
            "[15:08:38] DEPRECATION WARNING: please use MorganGenerator\n",
            "[15:08:38] DEPRECATION WARNING: please use MorganGenerator\n",
            "[15:08:39] DEPRECATION WARNING: please use MorganGenerator\n",
            "[15:08:39] DEPRECATION WARNING: please use MorganGenerator\n",
            "[15:08:39] DEPRECATION WARNING: please use MorganGenerator\n",
            "[15:08:39] DEPRECATION WARNING: please use MorganGenerator\n",
            "[15:08:39] DEPRECATION WARNING: please use MorganGenerator\n",
            "[15:08:39] DEPRECATION WARNING: please use MorganGenerator\n",
            "[15:08:39] DEPRECATION WARNING: please use MorganGenerator\n",
            "[15:08:39] DEPRECATION WARNING: please use MorganGenerator\n",
            "[15:08:39] DEPRECATION WARNING: please use MorganGenerator\n",
            "[15:08:39] DEPRECATION WARNING: please use MorganGenerator\n",
            "[15:08:39] DEPRECATION WARNING: please use MorganGenerator\n",
            "[15:08:39] DEPRECATION WARNING: please use MorganGenerator\n",
            "[15:08:39] DEPRECATION WARNING: please use MorganGenerator\n",
            "[15:08:39] DEPRECATION WARNING: please use MorganGenerator\n",
            "[15:08:39] DEPRECATION WARNING: please use MorganGenerator\n",
            "[15:08:39] DEPRECATION WARNING: please use MorganGenerator\n",
            "[15:08:39] DEPRECATION WARNING: please use MorganGenerator\n",
            "[15:08:39] DEPRECATION WARNING: please use MorganGenerator\n",
            "[15:08:39] DEPRECATION WARNING: please use MorganGenerator\n",
            "[15:08:39] DEPRECATION WARNING: please use MorganGenerator\n",
            "[15:08:39] DEPRECATION WARNING: please use MorganGenerator\n",
            "[15:08:39] DEPRECATION WARNING: please use MorganGenerator\n",
            "[15:08:39] DEPRECATION WARNING: please use MorganGenerator\n",
            "[15:08:39] DEPRECATION WARNING: please use MorganGenerator\n",
            "[15:08:39] DEPRECATION WARNING: please use MorganGenerator\n",
            "[15:08:39] DEPRECATION WARNING: please use MorganGenerator\n",
            "[15:08:39] DEPRECATION WARNING: please use MorganGenerator\n",
            "[15:08:39] DEPRECATION WARNING: please use MorganGenerator\n",
            "[15:08:39] DEPRECATION WARNING: please use MorganGenerator\n",
            "[15:08:39] DEPRECATION WARNING: please use MorganGenerator\n",
            "[15:08:39] DEPRECATION WARNING: please use MorganGenerator\n",
            "[15:08:39] DEPRECATION WARNING: please use MorganGenerator\n",
            "[15:08:39] DEPRECATION WARNING: please use MorganGenerator\n",
            "[15:08:39] DEPRECATION WARNING: please use MorganGenerator\n",
            "[15:08:39] DEPRECATION WARNING: please use MorganGenerator\n",
            "[15:08:39] DEPRECATION WARNING: please use MorganGenerator\n",
            "[15:08:39] DEPRECATION WARNING: please use MorganGenerator\n",
            "[15:08:39] DEPRECATION WARNING: please use MorganGenerator\n",
            "[15:08:39] DEPRECATION WARNING: please use MorganGenerator\n",
            "[15:08:39] DEPRECATION WARNING: please use MorganGenerator\n",
            "[15:08:39] DEPRECATION WARNING: please use MorganGenerator\n",
            "[15:08:39] DEPRECATION WARNING: please use MorganGenerator\n",
            "[15:08:39] DEPRECATION WARNING: please use MorganGenerator\n",
            "[15:08:39] DEPRECATION WARNING: please use MorganGenerator\n",
            "[15:08:39] DEPRECATION WARNING: please use MorganGenerator\n",
            "[15:08:39] DEPRECATION WARNING: please use MorganGenerator\n",
            "[15:08:39] DEPRECATION WARNING: please use MorganGenerator\n",
            "[15:08:39] DEPRECATION WARNING: please use MorganGenerator\n",
            "[15:08:39] DEPRECATION WARNING: please use MorganGenerator\n",
            "[15:08:39] DEPRECATION WARNING: please use MorganGenerator\n",
            "[15:08:39] DEPRECATION WARNING: please use MorganGenerator\n",
            "[15:08:39] DEPRECATION WARNING: please use MorganGenerator\n",
            "[15:08:39] DEPRECATION WARNING: please use MorganGenerator\n",
            "[15:08:39] DEPRECATION WARNING: please use MorganGenerator\n",
            "[15:08:39] DEPRECATION WARNING: please use MorganGenerator\n",
            "[15:08:39] DEPRECATION WARNING: please use MorganGenerator\n",
            "[15:08:39] DEPRECATION WARNING: please use MorganGenerator\n",
            "[15:08:39] DEPRECATION WARNING: please use MorganGenerator\n",
            "[15:08:39] DEPRECATION WARNING: please use MorganGenerator\n",
            "[15:08:39] DEPRECATION WARNING: please use MorganGenerator\n",
            "[15:08:40] DEPRECATION WARNING: please use MorganGenerator\n",
            "[15:08:40] DEPRECATION WARNING: please use MorganGenerator\n",
            "[15:08:40] DEPRECATION WARNING: please use MorganGenerator\n",
            "[15:08:40] DEPRECATION WARNING: please use MorganGenerator\n",
            "[15:08:40] DEPRECATION WARNING: please use MorganGenerator\n",
            "[15:08:40] DEPRECATION WARNING: please use MorganGenerator\n",
            "[15:08:40] DEPRECATION WARNING: please use MorganGenerator\n",
            "[15:08:40] DEPRECATION WARNING: please use MorganGenerator\n",
            "[15:08:40] DEPRECATION WARNING: please use MorganGenerator\n",
            "[15:08:40] DEPRECATION WARNING: please use MorganGenerator\n",
            "[15:08:40] DEPRECATION WARNING: please use MorganGenerator\n",
            "[15:08:40] DEPRECATION WARNING: please use MorganGenerator\n",
            "[15:08:40] DEPRECATION WARNING: please use MorganGenerator\n",
            "[15:08:40] DEPRECATION WARNING: please use MorganGenerator\n",
            "[15:08:40] DEPRECATION WARNING: please use MorganGenerator\n",
            "[15:08:40] DEPRECATION WARNING: please use MorganGenerator\n",
            "[15:08:40] DEPRECATION WARNING: please use MorganGenerator\n",
            "[15:08:40] DEPRECATION WARNING: please use MorganGenerator\n",
            "[15:08:40] DEPRECATION WARNING: please use MorganGenerator\n",
            "[15:08:40] DEPRECATION WARNING: please use MorganGenerator\n",
            "[15:08:40] DEPRECATION WARNING: please use MorganGenerator\n",
            "[15:08:40] DEPRECATION WARNING: please use MorganGenerator\n",
            "[15:08:40] DEPRECATION WARNING: please use MorganGenerator\n",
            "[15:08:40] DEPRECATION WARNING: please use MorganGenerator\n",
            "[15:08:40] DEPRECATION WARNING: please use MorganGenerator\n",
            "[15:08:40] DEPRECATION WARNING: please use MorganGenerator\n",
            "[15:08:40] DEPRECATION WARNING: please use MorganGenerator\n",
            "[15:08:40] DEPRECATION WARNING: please use MorganGenerator\n",
            "[15:08:40] DEPRECATION WARNING: please use MorganGenerator\n",
            "[15:08:40] DEPRECATION WARNING: please use MorganGenerator\n",
            "[15:08:40] DEPRECATION WARNING: please use MorganGenerator\n",
            "[15:08:40] DEPRECATION WARNING: please use MorganGenerator\n",
            "[15:08:40] DEPRECATION WARNING: please use MorganGenerator\n",
            "[15:08:40] DEPRECATION WARNING: please use MorganGenerator\n",
            "[15:08:40] DEPRECATION WARNING: please use MorganGenerator\n",
            "[15:08:40] DEPRECATION WARNING: please use MorganGenerator\n",
            "/usr/local/lib/python3.10/dist-packages/sklearn/preprocessing/_encoders.py:868: FutureWarning: `sparse` was renamed to `sparse_output` in version 1.2 and will be removed in 1.4. `sparse_output` is ignored unless you leave `sparse` to its default value.\n",
            "  warnings.warn(\n",
            "/usr/local/lib/python3.10/dist-packages/sklearn/preprocessing/_encoders.py:868: FutureWarning: `sparse` was renamed to `sparse_output` in version 1.2 and will be removed in 1.4. `sparse_output` is ignored unless you leave `sparse` to its default value.\n",
            "  warnings.warn(\n"
          ]
        }
      ]
    },
    {
      "cell_type": "code",
      "execution_count": null,
      "metadata": {
        "colab": {
          "base_uri": "https://localhost:8080/"
        },
        "id": "jfBxqCQCXT6F",
        "outputId": "4a2b8f8a-1ace-4980-af37-00eec40b549f"
      },
      "outputs": [
        {
          "output_type": "stream",
          "name": "stdout",
          "text": [
            "Model: \"model\"\n",
            "__________________________________________________________________________________________________\n",
            " Layer (type)                Output Shape                 Param #   Connected to                  \n",
            "==================================================================================================\n",
            " fingerprint_input (InputLa  [(None, 1024)]               0         []                            \n",
            " yer)                                                                                             \n",
            "                                                                                                  \n",
            " famille_input (InputLayer)  [(None, 10)]                 0         []                            \n",
            "                                                                                                  \n",
            " concatenate (Concatenate)   (None, 1034)                 0         ['fingerprint_input[0][0]',   \n",
            "                                                                     'famille_input[0][0]']       \n",
            "                                                                                                  \n",
            " dense (Dense)               (None, 512)                  529920    ['concatenate[0][0]']         \n",
            "                                                                                                  \n",
            " dense_1 (Dense)             (None, 256)                  131328    ['dense[0][0]']               \n",
            "                                                                                                  \n",
            "==================================================================================================\n",
            "Total params: 661248 (2.52 MB)\n",
            "Trainable params: 661248 (2.52 MB)\n",
            "Non-trainable params: 0 (0.00 Byte)\n",
            "__________________________________________________________________________________________________\n"
          ]
        }
      ],
      "source": [
        "input_fingerprint = Input(shape=(1024,), name='fingerprint_input')\n",
        "input_famille = Input(shape=(10,), name='famille_input')\n",
        "\n",
        "# Combiner les entrées\n",
        "concat = Concatenate()([input_fingerprint, input_famille])\n",
        "\n",
        "# Ajouter des couches denses\n",
        "dense = Dense(512, activation='relu')(concat)\n",
        "output = Dense(256, activation='relu')(dense)\n",
        "\n",
        "# Créer le modèle\n",
        "model = Model(inputs=[input_fingerprint, input_famille], outputs=output)\n",
        "model.summary()"
      ]
    },
    {
      "cell_type": "code",
      "source": [
        "# Faire une prédiction avec le modèle\n",
        "predictions_tr = model.predict([X_tr, onehot_tr])\n",
        "print(\"\\nPrédictions :\")\n",
        "print(predictions_tr)"
      ],
      "metadata": {
        "colab": {
          "base_uri": "https://localhost:8080/"
        },
        "id": "xvGKcVVkXuDU",
        "outputId": "c3574b14-2692-48c3-cd23-445b7e4ecbbc"
      },
      "execution_count": null,
      "outputs": [
        {
          "output_type": "stream",
          "name": "stdout",
          "text": [
            "8/8 [==============================] - 2s 20ms/step\n",
            "\n",
            "Prédictions :\n",
            "[[0.5418495  0.2008682  0.         ... 0.06446082 0.782527   0.        ]\n",
            " [0.7004268  0.         0.5775699  ... 0.         0.4670127  0.        ]\n",
            " [0.60383534 0.         0.3654043  ... 0.07877825 0.31553823 0.        ]\n",
            " ...\n",
            " [0.13090108 0.3501742  0.         ... 0.         0.07836795 0.64556754]\n",
            " [1.647665   0.         0.         ... 0.         0.58333325 0.        ]\n",
            " [0.         1.1379521  3.2295575  ... 0.         0.8081424  0.        ]]\n"
          ]
        }
      ]
    },
    {
      "cell_type": "code",
      "source": [
        "# Faire une prédiction avec le modèle\n",
        "predictions_test = model.predict([X_test, onehot_test])\n",
        "print(\"\\nPrédictions :\")\n",
        "print(predictions_test)"
      ],
      "metadata": {
        "colab": {
          "base_uri": "https://localhost:8080/"
        },
        "id": "EKFMKuwiXwJw",
        "outputId": "a0f6264e-ebe3-4a75-f438-550b1a272031"
      },
      "execution_count": null,
      "outputs": [
        {
          "output_type": "stream",
          "name": "stdout",
          "text": [
            "2/2 [==============================] - 0s 9ms/step\n",
            "\n",
            "Prédictions :\n",
            "[[0.5001047  0.         0.3388753  ... 0.12632625 0.29705778 0.        ]\n",
            " [0.7612306  0.82832134 0.5057305  ... 0.         0.27634075 0.        ]\n",
            " [0.52667606 0.         1.2201133  ... 0.         0.08196363 0.25002903]\n",
            " ...\n",
            " [0.         0.         0.         ... 0.         0.         0.        ]\n",
            " [0.03837699 0.         0.         ... 0.         0.         0.        ]\n",
            " [2.1771073  0.7907436  1.082337   ... 0.         1.1761674  0.7065051 ]]\n"
          ]
        }
      ]
    },
    {
      "cell_type": "markdown",
      "source": [
        "# regression"
      ],
      "metadata": {
        "id": "57U6JvbIext2"
      }
    },
    {
      "cell_type": "code",
      "source": [
        "# Créer et entraîner le modèle SVR\n",
        "svr = SVR(kernel='rbf', C=100, gamma='scale', epsilon=0.1)\n",
        "svr.fit(predictions_tr, y_tr)"
      ],
      "metadata": {
        "colab": {
          "base_uri": "https://localhost:8080/",
          "height": 74
        },
        "id": "z6MuOW_8X9s-",
        "outputId": "42a67d29-5d76-4e19-b334-8f10f945d744"
      },
      "execution_count": null,
      "outputs": [
        {
          "output_type": "execute_result",
          "data": {
            "text/plain": [
              "SVR(C=100)"
            ],
            "text/html": [
              "<style>#sk-container-id-1 {color: black;background-color: white;}#sk-container-id-1 pre{padding: 0;}#sk-container-id-1 div.sk-toggleable {background-color: white;}#sk-container-id-1 label.sk-toggleable__label {cursor: pointer;display: block;width: 100%;margin-bottom: 0;padding: 0.3em;box-sizing: border-box;text-align: center;}#sk-container-id-1 label.sk-toggleable__label-arrow:before {content: \"▸\";float: left;margin-right: 0.25em;color: #696969;}#sk-container-id-1 label.sk-toggleable__label-arrow:hover:before {color: black;}#sk-container-id-1 div.sk-estimator:hover label.sk-toggleable__label-arrow:before {color: black;}#sk-container-id-1 div.sk-toggleable__content {max-height: 0;max-width: 0;overflow: hidden;text-align: left;background-color: #f0f8ff;}#sk-container-id-1 div.sk-toggleable__content pre {margin: 0.2em;color: black;border-radius: 0.25em;background-color: #f0f8ff;}#sk-container-id-1 input.sk-toggleable__control:checked~div.sk-toggleable__content {max-height: 200px;max-width: 100%;overflow: auto;}#sk-container-id-1 input.sk-toggleable__control:checked~label.sk-toggleable__label-arrow:before {content: \"▾\";}#sk-container-id-1 div.sk-estimator input.sk-toggleable__control:checked~label.sk-toggleable__label {background-color: #d4ebff;}#sk-container-id-1 div.sk-label input.sk-toggleable__control:checked~label.sk-toggleable__label {background-color: #d4ebff;}#sk-container-id-1 input.sk-hidden--visually {border: 0;clip: rect(1px 1px 1px 1px);clip: rect(1px, 1px, 1px, 1px);height: 1px;margin: -1px;overflow: hidden;padding: 0;position: absolute;width: 1px;}#sk-container-id-1 div.sk-estimator {font-family: monospace;background-color: #f0f8ff;border: 1px dotted black;border-radius: 0.25em;box-sizing: border-box;margin-bottom: 0.5em;}#sk-container-id-1 div.sk-estimator:hover {background-color: #d4ebff;}#sk-container-id-1 div.sk-parallel-item::after {content: \"\";width: 100%;border-bottom: 1px solid gray;flex-grow: 1;}#sk-container-id-1 div.sk-label:hover label.sk-toggleable__label {background-color: #d4ebff;}#sk-container-id-1 div.sk-serial::before {content: \"\";position: absolute;border-left: 1px solid gray;box-sizing: border-box;top: 0;bottom: 0;left: 50%;z-index: 0;}#sk-container-id-1 div.sk-serial {display: flex;flex-direction: column;align-items: center;background-color: white;padding-right: 0.2em;padding-left: 0.2em;position: relative;}#sk-container-id-1 div.sk-item {position: relative;z-index: 1;}#sk-container-id-1 div.sk-parallel {display: flex;align-items: stretch;justify-content: center;background-color: white;position: relative;}#sk-container-id-1 div.sk-item::before, #sk-container-id-1 div.sk-parallel-item::before {content: \"\";position: absolute;border-left: 1px solid gray;box-sizing: border-box;top: 0;bottom: 0;left: 50%;z-index: -1;}#sk-container-id-1 div.sk-parallel-item {display: flex;flex-direction: column;z-index: 1;position: relative;background-color: white;}#sk-container-id-1 div.sk-parallel-item:first-child::after {align-self: flex-end;width: 50%;}#sk-container-id-1 div.sk-parallel-item:last-child::after {align-self: flex-start;width: 50%;}#sk-container-id-1 div.sk-parallel-item:only-child::after {width: 0;}#sk-container-id-1 div.sk-dashed-wrapped {border: 1px dashed gray;margin: 0 0.4em 0.5em 0.4em;box-sizing: border-box;padding-bottom: 0.4em;background-color: white;}#sk-container-id-1 div.sk-label label {font-family: monospace;font-weight: bold;display: inline-block;line-height: 1.2em;}#sk-container-id-1 div.sk-label-container {text-align: center;}#sk-container-id-1 div.sk-container {/* jupyter's `normalize.less` sets `[hidden] { display: none; }` but bootstrap.min.css set `[hidden] { display: none !important; }` so we also need the `!important` here to be able to override the default hidden behavior on the sphinx rendered scikit-learn.org. See: https://github.com/scikit-learn/scikit-learn/issues/21755 */display: inline-block !important;position: relative;}#sk-container-id-1 div.sk-text-repr-fallback {display: none;}</style><div id=\"sk-container-id-1\" class=\"sk-top-container\"><div class=\"sk-text-repr-fallback\"><pre>SVR(C=100)</pre><b>In a Jupyter environment, please rerun this cell to show the HTML representation or trust the notebook. <br />On GitHub, the HTML representation is unable to render, please try loading this page with nbviewer.org.</b></div><div class=\"sk-container\" hidden><div class=\"sk-item\"><div class=\"sk-estimator sk-toggleable\"><input class=\"sk-toggleable__control sk-hidden--visually\" id=\"sk-estimator-id-1\" type=\"checkbox\" checked><label for=\"sk-estimator-id-1\" class=\"sk-toggleable__label sk-toggleable__label-arrow\">SVR</label><div class=\"sk-toggleable__content\"><pre>SVR(C=100)</pre></div></div></div></div></div>"
            ]
          },
          "metadata": {},
          "execution_count": 6
        }
      ]
    },
    {
      "cell_type": "code",
      "source": [
        "# Évaluer le modèle\n",
        "score = svr.score(predictions_test, y_test)\n",
        "print(f\"Score R² du modèle: {score:.2f}\")"
      ],
      "metadata": {
        "colab": {
          "base_uri": "https://localhost:8080/"
        },
        "id": "9rKtmZEoX_S_",
        "outputId": "cfcf6eef-1f3a-4a45-b5d9-f391ffd23fcc"
      },
      "execution_count": null,
      "outputs": [
        {
          "output_type": "stream",
          "name": "stdout",
          "text": [
            "Score R² du modèle: 0.56\n"
          ]
        }
      ]
    },
    {
      "cell_type": "code",
      "source": [
        "# Faire des prédictions\n",
        "y_pred_train = svr.predict(predictions_tr)\n",
        "y_pred_test = svr.predict(predictions_test)"
      ],
      "metadata": {
        "id": "8RtGB63BYAzN"
      },
      "execution_count": null,
      "outputs": []
    },
    {
      "cell_type": "code",
      "source": [
        "# Inverser la normalisation pour obtenir les valeurs réelles\n",
        "y_pred_train = scaler_y.inverse_transform(y_pred_train.reshape(-1, 1)).ravel()\n",
        "y_pred_test = scaler_y.inverse_transform(y_pred_test.reshape(-1, 1)).ravel()\n",
        "y_train = scaler_y.inverse_transform(y_tr.reshape(-1, 1)).ravel()\n",
        "y_test = scaler_y.inverse_transform(y_test.reshape(-1, 1)).ravel()"
      ],
      "metadata": {
        "id": "Ytw1hj5OYCM7"
      },
      "execution_count": null,
      "outputs": []
    },
    {
      "cell_type": "code",
      "source": [
        "y = np.hstack((y_train,y_test))\n",
        "# Visualisation : Graphique de dispersion\n",
        "plt.figure(figsize=(10, 5))\n",
        "plt.subplot(1, 2, 1)\n",
        "plt.scatter(y_train, y_pred_train, alpha=0.5, label='Train')\n",
        "plt.scatter(y_test, y_pred_test, alpha=0.5, label='Test')\n",
        "plt.plot([y.min(), y.max()], [y.min(), y.max()], 'r--', lw=2)\n",
        "plt.xlabel('Valeurs réelles')\n",
        "plt.ylabel('Valeurs prédites')\n",
        "plt.title('Graphique de dispersion')\n",
        "plt.legend()"
      ],
      "metadata": {
        "colab": {
          "base_uri": "https://localhost:8080/",
          "height": 505
        },
        "id": "rPSow8cuYE2q",
        "outputId": "8e5b3a72-0991-4d68-b31e-856f1de82f47"
      },
      "execution_count": null,
      "outputs": [
        {
          "output_type": "execute_result",
          "data": {
            "text/plain": [
              "<matplotlib.legend.Legend at 0x7fb9dc2fa230>"
            ]
          },
          "metadata": {},
          "execution_count": 10
        },
        {
          "output_type": "display_data",
          "data": {
            "text/plain": [
              "<Figure size 1000x500 with 1 Axes>"
            ],
            "image/png": "[encoded data removed]"
          },
          "metadata": {}
        }
      ]
    },
    {
      "cell_type": "markdown",
      "source": [
        "#Scoring"
      ],
      "metadata": {
        "id": "7dlFguzXe3gY"
      }
    },
    {
      "cell_type": "code",
      "source": [
        "scoring(y_tr,y_test,predictions_tr,predictions_test,0,\"LogReg\")"
      ],
      "metadata": {
        "colab": {
          "base_uri": "https://localhost:8080/"
        },
        "id": "4_4JEsUle4JV",
        "outputId": "813686d0-22f6-496b-c2b5-a3a42eb2c672"
      },
      "execution_count": null,
      "outputs": [
        {
          "output_type": "stream",
          "name": "stdout",
          "text": [
            "Accuracy: 0.78125\n",
            "Confusion Matrix:\n",
            "[[14  7]\n",
            " [ 7 36]]\n",
            "Classification Report:\n",
            "              precision    recall  f1-score   support\n",
            "\n",
            "           0       0.67      0.67      0.67        21\n",
            "           1       0.84      0.84      0.84        43\n",
            "\n",
            "    accuracy                           0.78        64\n",
            "   macro avg       0.75      0.75      0.75        64\n",
            "weighted avg       0.78      0.78      0.78        64\n",
            "\n"
          ]
        },
        {
          "output_type": "execute_result",
          "data": {
            "text/plain": [
              "(0.78125,\n",
              " array([[14,  7],\n",
              "        [ 7, 36]]),\n",
              " '              precision    recall  f1-score   support\\n\\n           0       0.67      0.67      0.67        21\\n           1       0.84      0.84      0.84        43\\n\\n    accuracy                           0.78        64\\n   macro avg       0.75      0.75      0.75        64\\nweighted avg       0.78      0.78      0.78        64\\n',\n",
              " array([0, 0, 0, 0, 0, 0, 0, 0, 0, 0, 1, 0, 0, 1, 0, 0, 1, 1, 1, 1, 1, 1,\n",
              "        0, 1, 1, 1, 1, 1, 1, 1, 1, 1, 1, 1, 1, 1, 0, 0, 1, 1, 1, 1, 0, 1,\n",
              "        1, 1, 1, 1, 1, 1, 1, 1, 1, 1, 1, 0, 1, 0, 1, 1, 1, 1, 1, 0]),\n",
              " 0     0\n",
              " 1     0\n",
              " 2     0\n",
              " 3     0\n",
              " 4     0\n",
              "      ..\n",
              " 59    1\n",
              " 60    1\n",
              " 61    1\n",
              " 62    1\n",
              " 63    1\n",
              " Name: label, Length: 64, dtype: int64)"
            ]
          },
          "metadata": {},
          "execution_count": 8
        }
      ]
    },
    {
      "cell_type": "code",
      "source": [
        "scoring(y_tr,y_test,predictions_tr,predictions_test,0,\"DecisionTree\")"
      ],
      "metadata": {
        "colab": {
          "base_uri": "https://localhost:8080/"
        },
        "id": "ZHfiixjmfB4V",
        "outputId": "4ce4519e-ab38-4705-fc23-1e9b7db745e1"
      },
      "execution_count": null,
      "outputs": [
        {
          "output_type": "stream",
          "name": "stdout",
          "text": [
            "Accuracy: 0.640625\n",
            "Confusion Matrix:\n",
            "[[ 8 13]\n",
            " [10 33]]\n",
            "Classification Report:\n",
            "              precision    recall  f1-score   support\n",
            "\n",
            "           0       0.44      0.38      0.41        21\n",
            "           1       0.72      0.77      0.74        43\n",
            "\n",
            "    accuracy                           0.64        64\n",
            "   macro avg       0.58      0.57      0.58        64\n",
            "weighted avg       0.63      0.64      0.63        64\n",
            "\n"
          ]
        },
        {
          "output_type": "execute_result",
          "data": {
            "text/plain": [
              "(0.640625,\n",
              " array([[ 8, 13],\n",
              "        [10, 33]]),\n",
              " '              precision    recall  f1-score   support\\n\\n           0       0.44      0.38      0.41        21\\n           1       0.72      0.77      0.74        43\\n\\n    accuracy                           0.64        64\\n   macro avg       0.58      0.57      0.58        64\\nweighted avg       0.63      0.64      0.63        64\\n',\n",
              " array([1, 0, 1, 0, 0, 0, 0, 1, 1, 1, 1, 1, 1, 1, 0, 0, 0, 1, 1, 1, 1, 1,\n",
              "        0, 1, 1, 1, 0, 1, 1, 1, 1, 1, 0, 1, 1, 0, 1, 0, 1, 0, 1, 1, 1, 1,\n",
              "        1, 1, 1, 0, 1, 0, 1, 1, 1, 1, 1, 0, 1, 0, 1, 1, 1, 1, 1, 1]),\n",
              " 0     0\n",
              " 1     0\n",
              " 2     0\n",
              " 3     0\n",
              " 4     0\n",
              "      ..\n",
              " 59    1\n",
              " 60    1\n",
              " 61    1\n",
              " 62    1\n",
              " 63    1\n",
              " Name: label, Length: 64, dtype: int64)"
            ]
          },
          "metadata": {},
          "execution_count": 9
        }
      ]
    },
    {
      "cell_type": "code",
      "source": [
        "scoring(y_tr,y_test,predictions_tr,predictions_test,0,\"RandomF\")"
      ],
      "metadata": {
        "colab": {
          "base_uri": "https://localhost:8080/"
        },
        "id": "pdAWHj2gfCSP",
        "outputId": "853f4eab-2518-4d0d-c39e-72443003825d"
      },
      "execution_count": null,
      "outputs": [
        {
          "output_type": "stream",
          "name": "stdout",
          "text": [
            "Accuracy: 0.8125\n",
            "Confusion Matrix:\n",
            "[[11 10]\n",
            " [ 2 41]]\n",
            "Classification Report:\n",
            "              precision    recall  f1-score   support\n",
            "\n",
            "           0       0.85      0.52      0.65        21\n",
            "           1       0.80      0.95      0.87        43\n",
            "\n",
            "    accuracy                           0.81        64\n",
            "   macro avg       0.83      0.74      0.76        64\n",
            "weighted avg       0.82      0.81      0.80        64\n",
            "\n"
          ]
        },
        {
          "output_type": "execute_result",
          "data": {
            "text/plain": [
              "(0.8125,\n",
              " array([[11, 10],\n",
              "        [ 2, 41]]),\n",
              " '              precision    recall  f1-score   support\\n\\n           0       0.85      0.52      0.65        21\\n           1       0.80      0.95      0.87        43\\n\\n    accuracy                           0.81        64\\n   macro avg       0.83      0.74      0.76        64\\nweighted avg       0.82      0.81      0.80        64\\n',\n",
              " array([0, 0, 1, 1, 0, 0, 0, 0, 0, 1, 1, 0, 0, 1, 0, 1, 1, 1, 0, 1, 1, 1,\n",
              "        0, 1, 1, 1, 1, 1, 1, 1, 1, 1, 1, 1, 1, 1, 1, 1, 1, 0, 1, 1, 1, 1,\n",
              "        1, 1, 1, 1, 1, 1, 1, 1, 1, 1, 1, 1, 1, 1, 1, 1, 1, 1, 1, 1]),\n",
              " 0     0\n",
              " 1     0\n",
              " 2     0\n",
              " 3     0\n",
              " 4     0\n",
              "      ..\n",
              " 59    1\n",
              " 60    1\n",
              " 61    1\n",
              " 62    1\n",
              " 63    1\n",
              " Name: label, Length: 64, dtype: int64)"
            ]
          },
          "metadata": {},
          "execution_count": 10
        }
      ]
    },
    {
      "cell_type": "code",
      "source": [],
      "metadata": {
        "id": "03u-cGeNfQ00"
      },
      "execution_count": null,
      "outputs": []
    }
  ]
}