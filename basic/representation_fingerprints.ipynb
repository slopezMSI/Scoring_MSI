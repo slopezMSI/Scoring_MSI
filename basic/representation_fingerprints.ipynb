{
  "nbformat": 4,
  "nbformat_minor": 0,
  "metadata": {
    "colab": {
      "provenance": [],
      "authorship_tag": "ABX9TyNXIt1tjCyIo+jsHKP3PWJ3"
    },
    "kernelspec": {
      "name": "python3",
      "display_name": "Python 3"
    },
    "language_info": {
      "name": "python"
    }
  },
  "cells": [
    {
      "cell_type": "code",
      "execution_count": null,
      "metadata": {
        "colab": {
          "base_uri": "https://localhost:8080/"
        },
        "id": "p87U8XYPphVW",
        "outputId": "cff537c8-4cf7-4595-a888-bab7467f919d"
      },
      "outputs": [
        {
          "output_type": "stream",
          "name": "stdout",
          "text": [
            "Mounted at /content/drive\n",
            "Collecting deepchem\n",
            "  Downloading deepchem-2.8.0-py3-none-any.whl.metadata (2.0 kB)\n",
            "Collecting rdkit\n",
            "  Downloading rdkit-2024.3.5-cp310-cp310-manylinux_2_28_x86_64.whl.metadata (3.9 kB)\n",
            "Requirement already satisfied: matplotlib in /usr/local/lib/python3.10/dist-packages (3.7.1)\n",
            "Requirement already satisfied: networkx in /usr/local/lib/python3.10/dist-packages (3.3)\n",
            "Requirement already satisfied: joblib in /usr/local/lib/python3.10/dist-packages (from deepchem) (1.4.2)\n",
            "Requirement already satisfied: numpy>=1.21 in /usr/local/lib/python3.10/dist-packages (from deepchem) (1.26.4)\n",
            "Requirement already satisfied: pandas in /usr/local/lib/python3.10/dist-packages (from deepchem) (2.1.4)\n",
            "Requirement already satisfied: scikit-learn in /usr/local/lib/python3.10/dist-packages (from deepchem) (1.3.2)\n",
            "Requirement already satisfied: sympy in /usr/local/lib/python3.10/dist-packages (from deepchem) (1.13.2)\n",
            "Requirement already satisfied: scipy>=1.10.1 in /usr/local/lib/python3.10/dist-packages (from deepchem) (1.13.1)\n",
            "Requirement already satisfied: Pillow in /usr/local/lib/python3.10/dist-packages (from rdkit) (9.4.0)\n",
            "Requirement already satisfied: contourpy>=1.0.1 in /usr/local/lib/python3.10/dist-packages (from matplotlib) (1.2.1)\n",
            "Requirement already satisfied: cycler>=0.10 in /usr/local/lib/python3.10/dist-packages (from matplotlib) (0.12.1)\n",
            "Requirement already satisfied: fonttools>=4.22.0 in /usr/local/lib/python3.10/dist-packages (from matplotlib) (4.53.1)\n",
            "Requirement already satisfied: kiwisolver>=1.0.1 in /usr/local/lib/python3.10/dist-packages (from matplotlib) (1.4.5)\n",
            "Requirement already satisfied: packaging>=20.0 in /usr/local/lib/python3.10/dist-packages (from matplotlib) (24.1)\n",
            "Requirement already satisfied: pyparsing>=2.3.1 in /usr/local/lib/python3.10/dist-packages (from matplotlib) (3.1.2)\n",
            "Requirement already satisfied: python-dateutil>=2.7 in /usr/local/lib/python3.10/dist-packages (from matplotlib) (2.8.2)\n",
            "Requirement already satisfied: six>=1.5 in /usr/local/lib/python3.10/dist-packages (from python-dateutil>=2.7->matplotlib) (1.16.0)\n",
            "Requirement already satisfied: pytz>=2020.1 in /usr/local/lib/python3.10/dist-packages (from pandas->deepchem) (2024.1)\n",
            "Requirement already satisfied: tzdata>=2022.1 in /usr/local/lib/python3.10/dist-packages (from pandas->deepchem) (2024.1)\n",
            "Requirement already satisfied: threadpoolctl>=2.0.0 in /usr/local/lib/python3.10/dist-packages (from scikit-learn->deepchem) (3.5.0)\n",
            "Requirement already satisfied: mpmath<1.4,>=1.1.0 in /usr/local/lib/python3.10/dist-packages (from sympy->deepchem) (1.3.0)\n",
            "Downloading deepchem-2.8.0-py3-none-any.whl (1.0 MB)\n",
            "\u001b[2K   \u001b[90m━━━━━━━━━━━━━━━━━━━━━━━━━━━━━━━━━━━━━━━━\u001b[0m \u001b[32m1.0/1.0 MB\u001b[0m \u001b[31m19.0 MB/s\u001b[0m eta \u001b[36m0:00:00\u001b[0m\n",
            "\u001b[?25hDownloading rdkit-2024.3.5-cp310-cp310-manylinux_2_28_x86_64.whl (33.1 MB)\n",
            "\u001b[2K   \u001b[90m━━━━━━━━━━━━━━━━━━━━━━━━━━━━━━━━━━━━━━━━\u001b[0m \u001b[32m33.1/33.1 MB\u001b[0m \u001b[31m16.1 MB/s\u001b[0m eta \u001b[36m0:00:00\u001b[0m\n",
            "\u001b[?25hInstalling collected packages: rdkit, deepchem\n",
            "Successfully installed deepchem-2.8.0 rdkit-2024.3.5\n"
          ]
        },
        {
          "output_type": "stream",
          "name": "stderr",
          "text": [
            "WARNING:deepchem.feat.molecule_featurizers.rdkit_descriptors:No normalization for SPS. Feature removed!\n",
            "WARNING:deepchem.feat.molecule_featurizers.rdkit_descriptors:No normalization for AvgIpc. Feature removed!\n",
            "WARNING:tensorflow:From /usr/local/lib/python3.10/dist-packages/tensorflow/python/util/deprecation.py:588: calling function (from tensorflow.python.eager.polymorphic_function.polymorphic_function) with experimental_relax_shapes is deprecated and will be removed in a future version.\n",
            "Instructions for updating:\n",
            "experimental_relax_shapes is deprecated, use reduce_retracing instead\n",
            "WARNING:deepchem.models.torch_models:Skipped loading modules with pytorch-geometric dependency, missing a dependency. No module named 'torch_geometric'\n",
            "WARNING:deepchem.models:Skipped loading modules with pytorch-geometric dependency, missing a dependency. cannot import name 'DMPNN' from 'deepchem.models.torch_models' (/usr/local/lib/python3.10/dist-packages/deepchem/models/torch_models/__init__.py)\n",
            "WARNING:deepchem.models:Skipped loading modules with pytorch-lightning dependency, missing a dependency. No module named 'lightning'\n",
            "WARNING:deepchem.models:Skipped loading some Jax models, missing a dependency. No module named 'haiku'\n"
          ]
        }
      ],
      "source": [
        "#from google.colab import drive\n",
        "#drive.mount('/content/drive')\n",
        "\n",
        "\n",
        "#!pip install deepchem rdkit matplotlib networkx\n",
        "\n",
        "import deepchem as dc\n",
        "from rdkit import Chem\n",
        "from rdkit.Chem import Draw\n",
        "import matplotlib.pyplot as plt\n",
        "import networkx as nx\n",
        "from sklearn.svm import SVR\n",
        "from sklearn.model_selection import train_test_split\n",
        "from sklearn.preprocessing import StandardScaler\n",
        "from deepchem.feat import MolGraphConvFeaturizer\n",
        "from deepchem.feat import CircularFingerprint\n",
        "from sklearn.model_selection import GridSearchCV\n",
        "from sklearn.svm import SVR\n",
        "import pandas as pd\n",
        "import numpy as np\n",
        "from sklearn.model_selection import StratifiedKFold\n",
        "from deepchem.feat import ConvMolFeaturizer\n",
        "from rdkit import Chem\n",
        "from rdkit.Chem import AllChem\n",
        "from rdkit.Chem import Descriptors\n",
        "import deepchem as dc\n",
        "#from drive.MyDrive.code.methods import *\n",
        "from methods_fingerprints import *"
      ]
    },
    {
      "cell_type": "code",
      "source": [
        "smiles_tr,smiles_test, logSweeter_tr, logSweeter_test, families_tr, families_test = load_data(\"../data/SweetnersDB.xlsx\")"
      ],
      "metadata": {
        "colab": {
          "base_uri": "https://localhost:8080/"
        },
        "id": "cVzY0JH7pj62",
        "outputId": "9338ce22-5887-43ba-f7ea-dabb7b96d873"
      },
      "execution_count": null,
      "outputs": [
        {
          "output_type": "stream",
          "name": "stdout",
          "text": [
            "Index(['Name', 'logSw', 'Chemical family', 'Dataset', 'Smiles'], dtype='object')\n"
          ]
        }
      ]
    },
    {
      "cell_type": "code",
      "source": [
        "X_tr,X_test,scaler_X = prepare_fingerprint(smiles_tr,smiles_test)\n",
        "y_tr,y_test,scaler_y = prepare_targets(logSweeter_tr,logSweeter_test)"
      ],
      "metadata": {
        "colab": {
          "base_uri": "https://localhost:8080/"
        },
        "id": "UZ_RriJutfW8",
        "outputId": "2e18d15b-d75c-454d-ef60-7af4e9893d26"
      },
      "execution_count": null,
      "outputs": [
        {
          "output_type": "stream",
          "name": "stderr",
          "text": [
            "[14:06:53] DEPRECATION WARNING: please use MorganGenerator\n",
            "[14:06:53] DEPRECATION WARNING: please use MorganGenerator\n",
            "[14:06:53] DEPRECATION WARNING: please use MorganGenerator\n",
            "[14:06:53] DEPRECATION WARNING: please use MorganGenerator\n",
            "[14:06:53] DEPRECATION WARNING: please use MorganGenerator\n",
            "[14:06:53] DEPRECATION WARNING: please use MorganGenerator\n",
            "[14:06:53] DEPRECATION WARNING: please use MorganGenerator\n",
            "[14:06:53] DEPRECATION WARNING: please use MorganGenerator\n",
            "[14:06:53] DEPRECATION WARNING: please use MorganGenerator\n",
            "[14:06:53] DEPRECATION WARNING: please use MorganGenerator\n",
            "[14:06:53] DEPRECATION WARNING: please use MorganGenerator\n",
            "[14:06:53] DEPRECATION WARNING: please use MorganGenerator\n",
            "[14:06:53] DEPRECATION WARNING: please use MorganGenerator\n",
            "[14:06:53] DEPRECATION WARNING: please use MorganGenerator\n",
            "[14:06:53] DEPRECATION WARNING: please use MorganGenerator\n",
            "[14:06:53] DEPRECATION WARNING: please use MorganGenerator\n",
            "[14:06:53] DEPRECATION WARNING: please use MorganGenerator\n",
            "[14:06:53] DEPRECATION WARNING: please use MorganGenerator\n",
            "[14:06:53] DEPRECATION WARNING: please use MorganGenerator\n",
            "[14:06:53] DEPRECATION WARNING: please use MorganGenerator\n",
            "[14:06:53] DEPRECATION WARNING: please use MorganGenerator\n",
            "[14:06:53] DEPRECATION WARNING: please use MorganGenerator\n",
            "[14:06:53] DEPRECATION WARNING: please use MorganGenerator\n",
            "[14:06:53] DEPRECATION WARNING: please use MorganGenerator\n",
            "[14:06:53] DEPRECATION WARNING: please use MorganGenerator\n",
            "[14:06:53] DEPRECATION WARNING: please use MorganGenerator\n",
            "[14:06:53] DEPRECATION WARNING: please use MorganGenerator\n",
            "[14:06:53] DEPRECATION WARNING: please use MorganGenerator\n",
            "[14:06:53] DEPRECATION WARNING: please use MorganGenerator\n",
            "[14:06:53] DEPRECATION WARNING: please use MorganGenerator\n",
            "[14:06:53] DEPRECATION WARNING: please use MorganGenerator\n",
            "[14:06:53] DEPRECATION WARNING: please use MorganGenerator\n",
            "[14:06:53] DEPRECATION WARNING: please use MorganGenerator\n",
            "[14:06:53] DEPRECATION WARNING: please use MorganGenerator\n",
            "[14:06:53] DEPRECATION WARNING: please use MorganGenerator\n",
            "[14:06:53] DEPRECATION WARNING: please use MorganGenerator\n",
            "[14:06:53] DEPRECATION WARNING: please use MorganGenerator\n",
            "[14:06:53] DEPRECATION WARNING: please use MorganGenerator\n",
            "[14:06:53] DEPRECATION WARNING: please use MorganGenerator\n",
            "[14:06:53] DEPRECATION WARNING: please use MorganGenerator\n",
            "[14:06:53] DEPRECATION WARNING: please use MorganGenerator\n",
            "[14:06:53] DEPRECATION WARNING: please use MorganGenerator\n",
            "[14:06:53] DEPRECATION WARNING: please use MorganGenerator\n",
            "[14:06:53] DEPRECATION WARNING: please use MorganGenerator\n",
            "[14:06:53] DEPRECATION WARNING: please use MorganGenerator\n",
            "[14:06:53] DEPRECATION WARNING: please use MorganGenerator\n",
            "[14:06:53] DEPRECATION WARNING: please use MorganGenerator\n",
            "[14:06:53] DEPRECATION WARNING: please use MorganGenerator\n",
            "[14:06:53] DEPRECATION WARNING: please use MorganGenerator\n",
            "[14:06:53] DEPRECATION WARNING: please use MorganGenerator\n",
            "[14:06:53] DEPRECATION WARNING: please use MorganGenerator\n",
            "[14:06:53] DEPRECATION WARNING: please use MorganGenerator\n",
            "[14:06:53] DEPRECATION WARNING: please use MorganGenerator\n",
            "[14:06:53] DEPRECATION WARNING: please use MorganGenerator\n",
            "[14:06:53] DEPRECATION WARNING: please use MorganGenerator\n",
            "[14:06:53] DEPRECATION WARNING: please use MorganGenerator\n",
            "[14:06:53] DEPRECATION WARNING: please use MorganGenerator\n",
            "[14:06:53] DEPRECATION WARNING: please use MorganGenerator\n",
            "[14:06:53] DEPRECATION WARNING: please use MorganGenerator\n",
            "[14:06:53] DEPRECATION WARNING: please use MorganGenerator\n",
            "[14:06:53] DEPRECATION WARNING: please use MorganGenerator\n",
            "[14:06:53] DEPRECATION WARNING: please use MorganGenerator\n",
            "[14:06:53] DEPRECATION WARNING: please use MorganGenerator\n",
            "[14:06:53] DEPRECATION WARNING: please use MorganGenerator\n",
            "[14:06:53] DEPRECATION WARNING: please use MorganGenerator\n",
            "[14:06:53] DEPRECATION WARNING: please use MorganGenerator\n",
            "[14:06:53] DEPRECATION WARNING: please use MorganGenerator\n",
            "[14:06:53] DEPRECATION WARNING: please use MorganGenerator\n",
            "[14:06:53] DEPRECATION WARNING: please use MorganGenerator\n",
            "[14:06:53] DEPRECATION WARNING: please use MorganGenerator\n",
            "[14:06:53] DEPRECATION WARNING: please use MorganGenerator\n",
            "[14:06:53] DEPRECATION WARNING: please use MorganGenerator\n",
            "[14:06:53] DEPRECATION WARNING: please use MorganGenerator\n",
            "[14:06:53] DEPRECATION WARNING: please use MorganGenerator\n",
            "[14:06:53] DEPRECATION WARNING: please use MorganGenerator\n",
            "[14:06:53] DEPRECATION WARNING: please use MorganGenerator\n",
            "[14:06:53] DEPRECATION WARNING: please use MorganGenerator\n",
            "[14:06:53] DEPRECATION WARNING: please use MorganGenerator\n",
            "[14:06:53] DEPRECATION WARNING: please use MorganGenerator\n",
            "[14:06:53] DEPRECATION WARNING: please use MorganGenerator\n",
            "[14:06:53] DEPRECATION WARNING: please use MorganGenerator\n",
            "[14:06:53] DEPRECATION WARNING: please use MorganGenerator\n",
            "[14:06:53] DEPRECATION WARNING: please use MorganGenerator\n",
            "[14:06:53] DEPRECATION WARNING: please use MorganGenerator\n",
            "[14:06:53] DEPRECATION WARNING: please use MorganGenerator\n",
            "[14:06:53] DEPRECATION WARNING: please use MorganGenerator\n",
            "[14:06:53] DEPRECATION WARNING: please use MorganGenerator\n",
            "[14:06:53] DEPRECATION WARNING: please use MorganGenerator\n",
            "[14:06:53] DEPRECATION WARNING: please use MorganGenerator\n",
            "[14:06:53] DEPRECATION WARNING: please use MorganGenerator\n",
            "[14:06:53] DEPRECATION WARNING: please use MorganGenerator\n",
            "[14:06:53] DEPRECATION WARNING: please use MorganGenerator\n",
            "[14:06:53] DEPRECATION WARNING: please use MorganGenerator\n",
            "[14:06:53] DEPRECATION WARNING: please use MorganGenerator\n",
            "[14:06:53] DEPRECATION WARNING: please use MorganGenerator\n",
            "[14:06:53] DEPRECATION WARNING: please use MorganGenerator\n",
            "[14:06:53] DEPRECATION WARNING: please use MorganGenerator\n",
            "[14:06:53] DEPRECATION WARNING: please use MorganGenerator\n",
            "[14:06:53] DEPRECATION WARNING: please use MorganGenerator\n",
            "[14:06:53] DEPRECATION WARNING: please use MorganGenerator\n",
            "[14:06:53] DEPRECATION WARNING: please use MorganGenerator\n",
            "[14:06:53] DEPRECATION WARNING: please use MorganGenerator\n",
            "[14:06:53] DEPRECATION WARNING: please use MorganGenerator\n",
            "[14:06:53] DEPRECATION WARNING: please use MorganGenerator\n",
            "[14:06:53] DEPRECATION WARNING: please use MorganGenerator\n",
            "[14:06:53] DEPRECATION WARNING: please use MorganGenerator\n",
            "[14:06:53] DEPRECATION WARNING: please use MorganGenerator\n",
            "[14:06:53] DEPRECATION WARNING: please use MorganGenerator\n",
            "[14:06:53] DEPRECATION WARNING: please use MorganGenerator\n",
            "[14:06:53] DEPRECATION WARNING: please use MorganGenerator\n",
            "[14:06:53] DEPRECATION WARNING: please use MorganGenerator\n",
            "[14:06:53] DEPRECATION WARNING: please use MorganGenerator\n",
            "[14:06:53] DEPRECATION WARNING: please use MorganGenerator\n",
            "[14:06:53] DEPRECATION WARNING: please use MorganGenerator\n",
            "[14:06:53] DEPRECATION WARNING: please use MorganGenerator\n",
            "[14:06:53] DEPRECATION WARNING: please use MorganGenerator\n",
            "[14:06:53] DEPRECATION WARNING: please use MorganGenerator\n",
            "[14:06:53] DEPRECATION WARNING: please use MorganGenerator\n",
            "[14:06:53] DEPRECATION WARNING: please use MorganGenerator\n",
            "[14:06:53] DEPRECATION WARNING: please use MorganGenerator\n",
            "[14:06:53] DEPRECATION WARNING: please use MorganGenerator\n",
            "[14:06:53] DEPRECATION WARNING: please use MorganGenerator\n",
            "[14:06:53] DEPRECATION WARNING: please use MorganGenerator\n",
            "[14:06:53] DEPRECATION WARNING: please use MorganGenerator\n",
            "[14:06:53] DEPRECATION WARNING: please use MorganGenerator\n",
            "[14:06:53] DEPRECATION WARNING: please use MorganGenerator\n",
            "[14:06:53] DEPRECATION WARNING: please use MorganGenerator\n",
            "[14:06:53] DEPRECATION WARNING: please use MorganGenerator\n",
            "[14:06:53] DEPRECATION WARNING: please use MorganGenerator\n",
            "[14:06:53] DEPRECATION WARNING: please use MorganGenerator\n",
            "[14:06:53] DEPRECATION WARNING: please use MorganGenerator\n",
            "[14:06:53] DEPRECATION WARNING: please use MorganGenerator\n",
            "[14:06:53] DEPRECATION WARNING: please use MorganGenerator\n",
            "[14:06:53] DEPRECATION WARNING: please use MorganGenerator\n",
            "[14:06:53] DEPRECATION WARNING: please use MorganGenerator\n",
            "[14:06:53] DEPRECATION WARNING: please use MorganGenerator\n",
            "[14:06:53] DEPRECATION WARNING: please use MorganGenerator\n",
            "[14:06:53] DEPRECATION WARNING: please use MorganGenerator\n",
            "[14:06:53] DEPRECATION WARNING: please use MorganGenerator\n",
            "[14:06:53] DEPRECATION WARNING: please use MorganGenerator\n",
            "[14:06:53] DEPRECATION WARNING: please use MorganGenerator\n",
            "[14:06:53] DEPRECATION WARNING: please use MorganGenerator\n",
            "[14:06:53] DEPRECATION WARNING: please use MorganGenerator\n",
            "[14:06:53] DEPRECATION WARNING: please use MorganGenerator\n",
            "[14:06:53] DEPRECATION WARNING: please use MorganGenerator\n",
            "[14:06:53] DEPRECATION WARNING: please use MorganGenerator\n",
            "[14:06:53] DEPRECATION WARNING: please use MorganGenerator\n",
            "[14:06:53] DEPRECATION WARNING: please use MorganGenerator\n",
            "[14:06:53] DEPRECATION WARNING: please use MorganGenerator\n",
            "[14:06:53] DEPRECATION WARNING: please use MorganGenerator\n",
            "[14:06:53] DEPRECATION WARNING: please use MorganGenerator\n",
            "[14:06:53] DEPRECATION WARNING: please use MorganGenerator\n",
            "[14:06:53] DEPRECATION WARNING: please use MorganGenerator\n",
            "[14:06:53] DEPRECATION WARNING: please use MorganGenerator\n",
            "[14:06:53] DEPRECATION WARNING: please use MorganGenerator\n",
            "[14:06:53] DEPRECATION WARNING: please use MorganGenerator\n",
            "[14:06:53] DEPRECATION WARNING: please use MorganGenerator\n",
            "[14:06:53] DEPRECATION WARNING: please use MorganGenerator\n",
            "[14:06:53] DEPRECATION WARNING: please use MorganGenerator\n",
            "[14:06:53] DEPRECATION WARNING: please use MorganGenerator\n",
            "[14:06:53] DEPRECATION WARNING: please use MorganGenerator\n",
            "[14:06:53] DEPRECATION WARNING: please use MorganGenerator\n",
            "[14:06:53] DEPRECATION WARNING: please use MorganGenerator\n",
            "[14:06:53] DEPRECATION WARNING: please use MorganGenerator\n",
            "[14:06:53] DEPRECATION WARNING: please use MorganGenerator\n",
            "[14:06:53] DEPRECATION WARNING: please use MorganGenerator\n",
            "[14:06:53] DEPRECATION WARNING: please use MorganGenerator\n",
            "[14:06:53] DEPRECATION WARNING: please use MorganGenerator\n",
            "[14:06:53] DEPRECATION WARNING: please use MorganGenerator\n",
            "[14:06:53] DEPRECATION WARNING: please use MorganGenerator\n",
            "[14:06:53] DEPRECATION WARNING: please use MorganGenerator\n",
            "[14:06:53] DEPRECATION WARNING: please use MorganGenerator\n",
            "[14:06:53] DEPRECATION WARNING: please use MorganGenerator\n",
            "[14:06:53] DEPRECATION WARNING: please use MorganGenerator\n",
            "[14:06:53] DEPRECATION WARNING: please use MorganGenerator\n",
            "[14:06:53] DEPRECATION WARNING: please use MorganGenerator\n",
            "[14:06:53] DEPRECATION WARNING: please use MorganGenerator\n",
            "[14:06:53] DEPRECATION WARNING: please use MorganGenerator\n",
            "[14:06:53] DEPRECATION WARNING: please use MorganGenerator\n",
            "[14:06:53] DEPRECATION WARNING: please use MorganGenerator\n",
            "[14:06:53] DEPRECATION WARNING: please use MorganGenerator\n",
            "[14:06:53] DEPRECATION WARNING: please use MorganGenerator\n",
            "[14:06:53] DEPRECATION WARNING: please use MorganGenerator\n",
            "[14:06:53] DEPRECATION WARNING: please use MorganGenerator\n",
            "[14:06:53] DEPRECATION WARNING: please use MorganGenerator\n",
            "[14:06:53] DEPRECATION WARNING: please use MorganGenerator\n",
            "[14:06:53] DEPRECATION WARNING: please use MorganGenerator\n",
            "[14:06:53] DEPRECATION WARNING: please use MorganGenerator\n",
            "[14:06:53] DEPRECATION WARNING: please use MorganGenerator\n",
            "[14:06:53] DEPRECATION WARNING: please use MorganGenerator\n",
            "[14:06:53] DEPRECATION WARNING: please use MorganGenerator\n",
            "[14:06:53] DEPRECATION WARNING: please use MorganGenerator\n",
            "[14:06:53] DEPRECATION WARNING: please use MorganGenerator\n",
            "[14:06:53] DEPRECATION WARNING: please use MorganGenerator\n",
            "[14:06:53] DEPRECATION WARNING: please use MorganGenerator\n",
            "[14:06:53] DEPRECATION WARNING: please use MorganGenerator\n",
            "[14:06:53] DEPRECATION WARNING: please use MorganGenerator\n",
            "[14:06:53] DEPRECATION WARNING: please use MorganGenerator\n",
            "[14:06:53] DEPRECATION WARNING: please use MorganGenerator\n",
            "[14:06:53] DEPRECATION WARNING: please use MorganGenerator\n",
            "[14:06:53] DEPRECATION WARNING: please use MorganGenerator\n",
            "[14:06:53] DEPRECATION WARNING: please use MorganGenerator\n",
            "[14:06:53] DEPRECATION WARNING: please use MorganGenerator\n",
            "[14:06:53] DEPRECATION WARNING: please use MorganGenerator\n",
            "[14:06:53] DEPRECATION WARNING: please use MorganGenerator\n",
            "[14:06:53] DEPRECATION WARNING: please use MorganGenerator\n",
            "[14:06:53] DEPRECATION WARNING: please use MorganGenerator\n",
            "[14:06:53] DEPRECATION WARNING: please use MorganGenerator\n",
            "[14:06:53] DEPRECATION WARNING: please use MorganGenerator\n",
            "[14:06:53] DEPRECATION WARNING: please use MorganGenerator\n",
            "[14:06:53] DEPRECATION WARNING: please use MorganGenerator\n",
            "[14:06:53] DEPRECATION WARNING: please use MorganGenerator\n",
            "[14:06:53] DEPRECATION WARNING: please use MorganGenerator\n",
            "[14:06:53] DEPRECATION WARNING: please use MorganGenerator\n",
            "[14:06:53] DEPRECATION WARNING: please use MorganGenerator\n",
            "[14:06:54] DEPRECATION WARNING: please use MorganGenerator\n",
            "[14:06:54] DEPRECATION WARNING: please use MorganGenerator\n",
            "[14:06:54] DEPRECATION WARNING: please use MorganGenerator\n",
            "[14:06:54] DEPRECATION WARNING: please use MorganGenerator\n",
            "[14:06:54] DEPRECATION WARNING: please use MorganGenerator\n",
            "[14:06:54] DEPRECATION WARNING: please use MorganGenerator\n",
            "[14:06:54] DEPRECATION WARNING: please use MorganGenerator\n",
            "[14:06:54] DEPRECATION WARNING: please use MorganGenerator\n",
            "[14:06:54] DEPRECATION WARNING: please use MorganGenerator\n",
            "[14:06:54] DEPRECATION WARNING: please use MorganGenerator\n",
            "[14:06:54] DEPRECATION WARNING: please use MorganGenerator\n",
            "[14:06:54] DEPRECATION WARNING: please use MorganGenerator\n",
            "[14:06:54] DEPRECATION WARNING: please use MorganGenerator\n",
            "[14:06:54] DEPRECATION WARNING: please use MorganGenerator\n",
            "[14:06:54] DEPRECATION WARNING: please use MorganGenerator\n",
            "[14:06:54] DEPRECATION WARNING: please use MorganGenerator\n",
            "[14:06:54] DEPRECATION WARNING: please use MorganGenerator\n",
            "[14:06:54] DEPRECATION WARNING: please use MorganGenerator\n",
            "[14:06:54] DEPRECATION WARNING: please use MorganGenerator\n",
            "[14:06:54] DEPRECATION WARNING: please use MorganGenerator\n",
            "[14:06:54] DEPRECATION WARNING: please use MorganGenerator\n",
            "[14:06:54] DEPRECATION WARNING: please use MorganGenerator\n",
            "[14:06:54] DEPRECATION WARNING: please use MorganGenerator\n",
            "[14:06:54] DEPRECATION WARNING: please use MorganGenerator\n",
            "[14:06:54] DEPRECATION WARNING: please use MorganGenerator\n",
            "[14:06:54] DEPRECATION WARNING: please use MorganGenerator\n",
            "[14:06:54] DEPRECATION WARNING: please use MorganGenerator\n",
            "[14:06:54] DEPRECATION WARNING: please use MorganGenerator\n",
            "[14:06:54] DEPRECATION WARNING: please use MorganGenerator\n",
            "[14:06:54] DEPRECATION WARNING: please use MorganGenerator\n",
            "[14:06:54] DEPRECATION WARNING: please use MorganGenerator\n",
            "[14:06:54] DEPRECATION WARNING: please use MorganGenerator\n",
            "[14:06:54] DEPRECATION WARNING: please use MorganGenerator\n",
            "[14:06:54] DEPRECATION WARNING: please use MorganGenerator\n",
            "[14:06:54] DEPRECATION WARNING: please use MorganGenerator\n",
            "[14:06:54] DEPRECATION WARNING: please use MorganGenerator\n",
            "[14:06:54] DEPRECATION WARNING: please use MorganGenerator\n",
            "[14:06:54] DEPRECATION WARNING: please use MorganGenerator\n",
            "[14:06:54] DEPRECATION WARNING: please use MorganGenerator\n",
            "[14:06:54] DEPRECATION WARNING: please use MorganGenerator\n",
            "[14:06:54] DEPRECATION WARNING: please use MorganGenerator\n",
            "[14:06:54] DEPRECATION WARNING: please use MorganGenerator\n",
            "[14:06:54] DEPRECATION WARNING: please use MorganGenerator\n",
            "[14:06:54] DEPRECATION WARNING: please use MorganGenerator\n",
            "[14:06:54] DEPRECATION WARNING: please use MorganGenerator\n",
            "[14:06:54] DEPRECATION WARNING: please use MorganGenerator\n",
            "[14:06:54] DEPRECATION WARNING: please use MorganGenerator\n",
            "[14:06:54] DEPRECATION WARNING: please use MorganGenerator\n",
            "[14:06:54] DEPRECATION WARNING: please use MorganGenerator\n",
            "[14:06:54] DEPRECATION WARNING: please use MorganGenerator\n",
            "[14:06:54] DEPRECATION WARNING: please use MorganGenerator\n",
            "[14:06:54] DEPRECATION WARNING: please use MorganGenerator\n",
            "[14:06:54] DEPRECATION WARNING: please use MorganGenerator\n",
            "[14:06:54] DEPRECATION WARNING: please use MorganGenerator\n",
            "[14:06:54] DEPRECATION WARNING: please use MorganGenerator\n",
            "[14:06:54] DEPRECATION WARNING: please use MorganGenerator\n",
            "[14:06:54] DEPRECATION WARNING: please use MorganGenerator\n",
            "[14:06:54] DEPRECATION WARNING: please use MorganGenerator\n",
            "[14:06:54] DEPRECATION WARNING: please use MorganGenerator\n",
            "[14:06:54] DEPRECATION WARNING: please use MorganGenerator\n",
            "[14:06:54] DEPRECATION WARNING: please use MorganGenerator\n",
            "[14:06:54] DEPRECATION WARNING: please use MorganGenerator\n",
            "[14:06:54] DEPRECATION WARNING: please use MorganGenerator\n",
            "[14:06:54] DEPRECATION WARNING: please use MorganGenerator\n",
            "[14:06:54] DEPRECATION WARNING: please use MorganGenerator\n",
            "[14:06:54] DEPRECATION WARNING: please use MorganGenerator\n",
            "[14:06:54] DEPRECATION WARNING: please use MorganGenerator\n",
            "[14:06:54] DEPRECATION WARNING: please use MorganGenerator\n",
            "[14:06:54] DEPRECATION WARNING: please use MorganGenerator\n",
            "[14:06:54] DEPRECATION WARNING: please use MorganGenerator\n",
            "[14:06:54] DEPRECATION WARNING: please use MorganGenerator\n",
            "[14:06:54] DEPRECATION WARNING: please use MorganGenerator\n",
            "[14:06:54] DEPRECATION WARNING: please use MorganGenerator\n",
            "[14:06:54] DEPRECATION WARNING: please use MorganGenerator\n",
            "[14:06:54] DEPRECATION WARNING: please use MorganGenerator\n",
            "[14:06:54] DEPRECATION WARNING: please use MorganGenerator\n",
            "[14:06:54] DEPRECATION WARNING: please use MorganGenerator\n",
            "[14:06:54] DEPRECATION WARNING: please use MorganGenerator\n",
            "[14:06:54] DEPRECATION WARNING: please use MorganGenerator\n",
            "[14:06:54] DEPRECATION WARNING: please use MorganGenerator\n",
            "[14:06:54] DEPRECATION WARNING: please use MorganGenerator\n",
            "[14:06:54] DEPRECATION WARNING: please use MorganGenerator\n",
            "[14:06:54] DEPRECATION WARNING: please use MorganGenerator\n",
            "[14:06:54] DEPRECATION WARNING: please use MorganGenerator\n",
            "[14:06:54] DEPRECATION WARNING: please use MorganGenerator\n",
            "[14:06:54] DEPRECATION WARNING: please use MorganGenerator\n",
            "[14:06:54] DEPRECATION WARNING: please use MorganGenerator\n",
            "[14:06:54] DEPRECATION WARNING: please use MorganGenerator\n",
            "[14:06:54] DEPRECATION WARNING: please use MorganGenerator\n",
            "[14:06:54] DEPRECATION WARNING: please use MorganGenerator\n",
            "[14:06:54] DEPRECATION WARNING: please use MorganGenerator\n",
            "[14:06:54] DEPRECATION WARNING: please use MorganGenerator\n",
            "[14:06:54] DEPRECATION WARNING: please use MorganGenerator\n",
            "[14:06:54] DEPRECATION WARNING: please use MorganGenerator\n",
            "[14:06:54] DEPRECATION WARNING: please use MorganGenerator\n",
            "[14:06:54] DEPRECATION WARNING: please use MorganGenerator\n",
            "[14:06:54] DEPRECATION WARNING: please use MorganGenerator\n",
            "[14:06:54] DEPRECATION WARNING: please use MorganGenerator\n",
            "[14:06:54] DEPRECATION WARNING: please use MorganGenerator\n",
            "[14:06:54] DEPRECATION WARNING: please use MorganGenerator\n",
            "[14:06:54] DEPRECATION WARNING: please use MorganGenerator\n"
          ]
        }
      ]
    },
    {
      "cell_type": "code",
      "source": [
        "# Créer et entraîner le modèle SVR\n",
        "svr = SVR(kernel='rbf', C=100, gamma='scale', epsilon=0.1)\n",
        "svr.fit(X_tr, y_tr)"
      ],
      "metadata": {
        "colab": {
          "base_uri": "https://localhost:8080/",
          "height": 75
        },
        "id": "QZu_MeT4tLdA",
        "outputId": "d07eae03-972f-4602-9004-d335bed3c5a0"
      },
      "execution_count": null,
      "outputs": [
        {
          "output_type": "execute_result",
          "data": {
            "text/plain": [
              "SVR(C=100)"
            ],
            "text/html": [
              "<style>#sk-container-id-1 {color: black;}#sk-container-id-1 pre{padding: 0;}#sk-container-id-1 div.sk-toggleable {background-color: white;}#sk-container-id-1 label.sk-toggleable__label {cursor: pointer;display: block;width: 100%;margin-bottom: 0;padding: 0.3em;box-sizing: border-box;text-align: center;}#sk-container-id-1 label.sk-toggleable__label-arrow:before {content: \"▸\";float: left;margin-right: 0.25em;color: #696969;}#sk-container-id-1 label.sk-toggleable__label-arrow:hover:before {color: black;}#sk-container-id-1 div.sk-estimator:hover label.sk-toggleable__label-arrow:before {color: black;}#sk-container-id-1 div.sk-toggleable__content {max-height: 0;max-width: 0;overflow: hidden;text-align: left;background-color: #f0f8ff;}#sk-container-id-1 div.sk-toggleable__content pre {margin: 0.2em;color: black;border-radius: 0.25em;background-color: #f0f8ff;}#sk-container-id-1 input.sk-toggleable__control:checked~div.sk-toggleable__content {max-height: 200px;max-width: 100%;overflow: auto;}#sk-container-id-1 input.sk-toggleable__control:checked~label.sk-toggleable__label-arrow:before {content: \"▾\";}#sk-container-id-1 div.sk-estimator input.sk-toggleable__control:checked~label.sk-toggleable__label {background-color: #d4ebff;}#sk-container-id-1 div.sk-label input.sk-toggleable__control:checked~label.sk-toggleable__label {background-color: #d4ebff;}#sk-container-id-1 input.sk-hidden--visually {border: 0;clip: rect(1px 1px 1px 1px);clip: rect(1px, 1px, 1px, 1px);height: 1px;margin: -1px;overflow: hidden;padding: 0;position: absolute;width: 1px;}#sk-container-id-1 div.sk-estimator {font-family: monospace;background-color: #f0f8ff;border: 1px dotted black;border-radius: 0.25em;box-sizing: border-box;margin-bottom: 0.5em;}#sk-container-id-1 div.sk-estimator:hover {background-color: #d4ebff;}#sk-container-id-1 div.sk-parallel-item::after {content: \"\";width: 100%;border-bottom: 1px solid gray;flex-grow: 1;}#sk-container-id-1 div.sk-label:hover label.sk-toggleable__label {background-color: #d4ebff;}#sk-container-id-1 div.sk-serial::before {content: \"\";position: absolute;border-left: 1px solid gray;box-sizing: border-box;top: 0;bottom: 0;left: 50%;z-index: 0;}#sk-container-id-1 div.sk-serial {display: flex;flex-direction: column;align-items: center;background-color: white;padding-right: 0.2em;padding-left: 0.2em;position: relative;}#sk-container-id-1 div.sk-item {position: relative;z-index: 1;}#sk-container-id-1 div.sk-parallel {display: flex;align-items: stretch;justify-content: center;background-color: white;position: relative;}#sk-container-id-1 div.sk-item::before, #sk-container-id-1 div.sk-parallel-item::before {content: \"\";position: absolute;border-left: 1px solid gray;box-sizing: border-box;top: 0;bottom: 0;left: 50%;z-index: -1;}#sk-container-id-1 div.sk-parallel-item {display: flex;flex-direction: column;z-index: 1;position: relative;background-color: white;}#sk-container-id-1 div.sk-parallel-item:first-child::after {align-self: flex-end;width: 50%;}#sk-container-id-1 div.sk-parallel-item:last-child::after {align-self: flex-start;width: 50%;}#sk-container-id-1 div.sk-parallel-item:only-child::after {width: 0;}#sk-container-id-1 div.sk-dashed-wrapped {border: 1px dashed gray;margin: 0 0.4em 0.5em 0.4em;box-sizing: border-box;padding-bottom: 0.4em;background-color: white;}#sk-container-id-1 div.sk-label label {font-family: monospace;font-weight: bold;display: inline-block;line-height: 1.2em;}#sk-container-id-1 div.sk-label-container {text-align: center;}#sk-container-id-1 div.sk-container {/* jupyter's `normalize.less` sets `[hidden] { display: none; }` but bootstrap.min.css set `[hidden] { display: none !important; }` so we also need the `!important` here to be able to override the default hidden behavior on the sphinx rendered scikit-learn.org. See: https://github.com/scikit-learn/scikit-learn/issues/21755 */display: inline-block !important;position: relative;}#sk-container-id-1 div.sk-text-repr-fallback {display: none;}</style><div id=\"sk-container-id-1\" class=\"sk-top-container\"><div class=\"sk-text-repr-fallback\"><pre>SVR(C=100)</pre><b>In a Jupyter environment, please rerun this cell to show the HTML representation or trust the notebook. <br />On GitHub, the HTML representation is unable to render, please try loading this page with nbviewer.org.</b></div><div class=\"sk-container\" hidden><div class=\"sk-item\"><div class=\"sk-estimator sk-toggleable\"><input class=\"sk-toggleable__control sk-hidden--visually\" id=\"sk-estimator-id-1\" type=\"checkbox\" checked><label for=\"sk-estimator-id-1\" class=\"sk-toggleable__label sk-toggleable__label-arrow\">SVR</label><div class=\"sk-toggleable__content\"><pre>SVR(C=100)</pre></div></div></div></div></div>"
            ]
          },
          "metadata": {},
          "execution_count": 5
        }
      ]
    },
    {
      "cell_type": "code",
      "source": [
        "# Évaluer le modèle\n",
        "score = svr.score(X_test, y_test)\n",
        "print(f\"Score R² du modèle: {score:.2f}\")"
      ],
      "metadata": {
        "colab": {
          "base_uri": "https://localhost:8080/"
        },
        "id": "8GX8CM3Fub8u",
        "outputId": "62b5f26b-0488-462c-dd39-cb906d4e38f6"
      },
      "execution_count": null,
      "outputs": [
        {
          "output_type": "stream",
          "name": "stdout",
          "text": [
            "Score R² du modèle: 0.55\n"
          ]
        }
      ]
    },
    {
      "cell_type": "code",
      "source": [
        "# Faire des prédictions\n",
        "y_pred_train = svr.predict(X_tr)\n",
        "y_pred_test = svr.predict(X_test)\n"
      ],
      "metadata": {
        "id": "oDUJ-TEIucVp"
      },
      "execution_count": null,
      "outputs": []
    },
    {
      "cell_type": "code",
      "source": [
        "# Inverser la normalisation pour obtenir les valeurs réelles\n",
        "y_pred_train = scaler_y.inverse_transform(y_pred_train.reshape(-1, 1)).ravel()\n",
        "y_pred_test = scaler_y.inverse_transform(y_pred_test.reshape(-1, 1)).ravel()\n",
        "y_train = scaler_y.inverse_transform(y_tr.reshape(-1, 1)).ravel()\n",
        "y_test = scaler_y.inverse_transform(y_test.reshape(-1, 1)).ravel()"
      ],
      "metadata": {
        "id": "Efs65G9kuj7v"
      },
      "execution_count": null,
      "outputs": []
    },
    {
      "cell_type": "code",
      "source": [
        "X = np.vstack((X_tr,X_test))\n",
        "y = np.hstack((y_train,y_test))"
      ],
      "metadata": {
        "id": "KvGU4Ltxumf3"
      },
      "execution_count": null,
      "outputs": []
    },
    {
      "cell_type": "code",
      "source": [
        "# Visualisation : Graphique de dispersion\n",
        "plt.figure(figsize=(10, 5))\n",
        "plt.subplot(1, 2, 1)\n",
        "plt.scatter(y_train, y_pred_train, alpha=0.5, label='Train')\n",
        "plt.scatter(y_test, y_pred_test, alpha=0.5, label='Test')\n",
        "plt.plot([y.min(), y.max()], [y.min(), y.max()], 'r--', lw=2)\n",
        "plt.xlabel('Valeurs réelles')\n",
        "plt.ylabel('Valeurs prédites')\n",
        "plt.title('Graphique de dispersion')\n",
        "plt.legend()"
      ],
      "metadata": {
        "colab": {
          "base_uri": "https://localhost:8080/",
          "height": 505
        },
        "id": "W54a2irnun7O",
        "outputId": "2ad5fdf0-f9ce-4d9a-e0e9-f25e07a4b66e"
      },
      "execution_count": null,
      "outputs": [
        {
          "output_type": "execute_result",
          "data": {
            "text/plain": [
              "<matplotlib.legend.Legend at 0x7efa425d3340>"
            ]
          },
          "metadata": {},
          "execution_count": 10
        },
        {
          "output_type": "display_data",
          "data": {
            "text/plain": [
              "<Figure size 1000x500 with 1 Axes>"
            ],
            "image/png": "[encoded data removed]"
          },
          "metadata": {}
        }
      ]
    },
    {
      "cell_type": "code",
      "source": [
        "\n",
        "\n",
        "# Afficher les métriques de performance\n",
        "from sklearn.metrics import r2_score, mean_squared_error\n",
        "print(f\"R² (Train): {r2_score(y_train, y_pred_train):.4f}\")\n",
        "print(f\"R² (Test): {r2_score(y_test, y_pred_test):.4f}\")\n",
        "print(f\"MSE (Train): {mean_squared_error(y_train, y_pred_train):.4f}\")\n",
        "print(f\"MSE (Test): {mean_squared_error(y_test, y_pred_test):.4f}\")"
      ],
      "metadata": {
        "colab": {
          "base_uri": "https://localhost:8080/"
        },
        "id": "VoN4y3pdur0B",
        "outputId": "4ac618b5-58a0-4b54-eb4d-8cd836147a31"
      },
      "execution_count": null,
      "outputs": [
        {
          "output_type": "stream",
          "name": "stdout",
          "text": [
            "R² (Train): 0.9888\n",
            "R² (Test): 0.5454\n",
            "MSE (Train): 0.0148\n",
            "MSE (Test): 0.7658\n"
          ]
        }
      ]
    },
    {
      "cell_type": "markdown",
      "source": [
        "# Scoring regression logistique\n"
      ],
      "metadata": {
        "id": "sbCuLqt3QHUv"
      }
    },
    {
      "cell_type": "code",
      "source": [
        "sweet_thr = 0\n",
        "ytr = pd.DataFrame(y_tr,columns=['label'])\n",
        "target_tr =  ytr['label'].apply(lambda x: 0 if x <= sweet_thr else 1)"
      ],
      "metadata": {
        "id": "1FoWIGBpQ3n7"
      },
      "execution_count": null,
      "outputs": []
    },
    {
      "cell_type": "code",
      "source": [
        "ytest = pd.DataFrame(y_test,columns=['label'])\n",
        "target_test =  ytest['label'].apply(lambda x: 0 if x <= sweet_thr else 1)"
      ],
      "metadata": {
        "id": "3GDuchV0QdvV"
      },
      "execution_count": null,
      "outputs": []
    },
    {
      "cell_type": "code",
      "source": [
        "# Normalisation des données\n",
        "'''scaler = StandardScaler()\n",
        "X_train = scaler.fit_transform(X_train)\n",
        "X_test = scaler.transform(X_test)\n",
        "'''\n",
        "from sklearn.linear_model import LogisticRegression\n",
        "from sklearn.metrics import accuracy_score, confusion_matrix, classification_report\n",
        "# Création et entraînement du modèle de régression logistique\n",
        "model = LogisticRegression()\n",
        "model.fit(X_tr, target_tr)"
      ],
      "metadata": {
        "colab": {
          "base_uri": "https://localhost:8080/",
          "height": 75
        },
        "id": "Mvwgs4sxQrpK",
        "outputId": "af139855-60c3-4c29-f06f-9435efd8e258"
      },
      "execution_count": null,
      "outputs": [
        {
          "output_type": "execute_result",
          "data": {
            "text/plain": [
              "LogisticRegression()"
            ],
            "text/html": [
              "<style>#sk-container-id-3 {color: black;}#sk-container-id-3 pre{padding: 0;}#sk-container-id-3 div.sk-toggleable {background-color: white;}#sk-container-id-3 label.sk-toggleable__label {cursor: pointer;display: block;width: 100%;margin-bottom: 0;padding: 0.3em;box-sizing: border-box;text-align: center;}#sk-container-id-3 label.sk-toggleable__label-arrow:before {content: \"▸\";float: left;margin-right: 0.25em;color: #696969;}#sk-container-id-3 label.sk-toggleable__label-arrow:hover:before {color: black;}#sk-container-id-3 div.sk-estimator:hover label.sk-toggleable__label-arrow:before {color: black;}#sk-container-id-3 div.sk-toggleable__content {max-height: 0;max-width: 0;overflow: hidden;text-align: left;background-color: #f0f8ff;}#sk-container-id-3 div.sk-toggleable__content pre {margin: 0.2em;color: black;border-radius: 0.25em;background-color: #f0f8ff;}#sk-container-id-3 input.sk-toggleable__control:checked~div.sk-toggleable__content {max-height: 200px;max-width: 100%;overflow: auto;}#sk-container-id-3 input.sk-toggleable__control:checked~label.sk-toggleable__label-arrow:before {content: \"▾\";}#sk-container-id-3 div.sk-estimator input.sk-toggleable__control:checked~label.sk-toggleable__label {background-color: #d4ebff;}#sk-container-id-3 div.sk-label input.sk-toggleable__control:checked~label.sk-toggleable__label {background-color: #d4ebff;}#sk-container-id-3 input.sk-hidden--visually {border: 0;clip: rect(1px 1px 1px 1px);clip: rect(1px, 1px, 1px, 1px);height: 1px;margin: -1px;overflow: hidden;padding: 0;position: absolute;width: 1px;}#sk-container-id-3 div.sk-estimator {font-family: monospace;background-color: #f0f8ff;border: 1px dotted black;border-radius: 0.25em;box-sizing: border-box;margin-bottom: 0.5em;}#sk-container-id-3 div.sk-estimator:hover {background-color: #d4ebff;}#sk-container-id-3 div.sk-parallel-item::after {content: \"\";width: 100%;border-bottom: 1px solid gray;flex-grow: 1;}#sk-container-id-3 div.sk-label:hover label.sk-toggleable__label {background-color: #d4ebff;}#sk-container-id-3 div.sk-serial::before {content: \"\";position: absolute;border-left: 1px solid gray;box-sizing: border-box;top: 0;bottom: 0;left: 50%;z-index: 0;}#sk-container-id-3 div.sk-serial {display: flex;flex-direction: column;align-items: center;background-color: white;padding-right: 0.2em;padding-left: 0.2em;position: relative;}#sk-container-id-3 div.sk-item {position: relative;z-index: 1;}#sk-container-id-3 div.sk-parallel {display: flex;align-items: stretch;justify-content: center;background-color: white;position: relative;}#sk-container-id-3 div.sk-item::before, #sk-container-id-3 div.sk-parallel-item::before {content: \"\";position: absolute;border-left: 1px solid gray;box-sizing: border-box;top: 0;bottom: 0;left: 50%;z-index: -1;}#sk-container-id-3 div.sk-parallel-item {display: flex;flex-direction: column;z-index: 1;position: relative;background-color: white;}#sk-container-id-3 div.sk-parallel-item:first-child::after {align-self: flex-end;width: 50%;}#sk-container-id-3 div.sk-parallel-item:last-child::after {align-self: flex-start;width: 50%;}#sk-container-id-3 div.sk-parallel-item:only-child::after {width: 0;}#sk-container-id-3 div.sk-dashed-wrapped {border: 1px dashed gray;margin: 0 0.4em 0.5em 0.4em;box-sizing: border-box;padding-bottom: 0.4em;background-color: white;}#sk-container-id-3 div.sk-label label {font-family: monospace;font-weight: bold;display: inline-block;line-height: 1.2em;}#sk-container-id-3 div.sk-label-container {text-align: center;}#sk-container-id-3 div.sk-container {/* jupyter's `normalize.less` sets `[hidden] { display: none; }` but bootstrap.min.css set `[hidden] { display: none !important; }` so we also need the `!important` here to be able to override the default hidden behavior on the sphinx rendered scikit-learn.org. See: https://github.com/scikit-learn/scikit-learn/issues/21755 */display: inline-block !important;position: relative;}#sk-container-id-3 div.sk-text-repr-fallback {display: none;}</style><div id=\"sk-container-id-3\" class=\"sk-top-container\"><div class=\"sk-text-repr-fallback\"><pre>LogisticRegression()</pre><b>In a Jupyter environment, please rerun this cell to show the HTML representation or trust the notebook. <br />On GitHub, the HTML representation is unable to render, please try loading this page with nbviewer.org.</b></div><div class=\"sk-container\" hidden><div class=\"sk-item\"><div class=\"sk-estimator sk-toggleable\"><input class=\"sk-toggleable__control sk-hidden--visually\" id=\"sk-estimator-id-3\" type=\"checkbox\" checked><label for=\"sk-estimator-id-3\" class=\"sk-toggleable__label sk-toggleable__label-arrow\">LogisticRegression</label><div class=\"sk-toggleable__content\"><pre>LogisticRegression()</pre></div></div></div></div></div>"
            ]
          },
          "metadata": {},
          "execution_count": 26
        }
      ]
    },
    {
      "cell_type": "code",
      "source": [
        "# Prédiction sur l'ensemble de test\n",
        "y_pred = model.predict(X_test)\n",
        "\n",
        "# Évaluation du modèle\n",
        "accuracy = accuracy_score(target_test, y_pred)\n",
        "conf_matrix = confusion_matrix(target_test, y_pred)\n",
        "class_report = classification_report(target_test, y_pred)\n",
        "\n",
        "print(f\"Accuracy: {accuracy}\")\n",
        "print(\"Confusion Matrix:\")\n",
        "print(conf_matrix)\n",
        "print(\"Classification Report:\")\n",
        "print(class_report)"
      ],
      "metadata": {
        "colab": {
          "base_uri": "https://localhost:8080/"
        },
        "id": "NX7Olbl1Q2j7",
        "outputId": "228c76cc-8324-419d-ba8b-68ec6582cbb4"
      },
      "execution_count": null,
      "outputs": [
        {
          "output_type": "stream",
          "name": "stdout",
          "text": [
            "Accuracy: 0.71875\n",
            "Confusion Matrix:\n",
            "[[ 6  0]\n",
            " [18 40]]\n",
            "Classification Report:\n",
            "              precision    recall  f1-score   support\n",
            "\n",
            "           0       0.25      1.00      0.40         6\n",
            "           1       1.00      0.69      0.82        58\n",
            "\n",
            "    accuracy                           0.72        64\n",
            "   macro avg       0.62      0.84      0.61        64\n",
            "weighted avg       0.93      0.72      0.78        64\n",
            "\n"
          ]
        }
      ]
    },
    {
      "cell_type": "markdown",
      "source": [
        "# scoring arbre de décision\n"
      ],
      "metadata": {
        "id": "OqZjUrB1ShBh"
      }
    },
    {
      "cell_type": "code",
      "source": [
        "from sklearn.tree import DecisionTreeClassifier\n",
        "# Création et entraînement du modèle d'arbre de décision\n",
        "model = DecisionTreeClassifier(random_state=42)\n",
        "model.fit(X_tr, target_tr)\n",
        "\n",
        "# Prédiction sur l'ensemble de test\n",
        "y_pred = model.predict(X_test)\n",
        "\n",
        "# Évaluation du modèle\n",
        "accuracy = accuracy_score(target_test, y_pred)\n",
        "conf_matrix = confusion_matrix(target_test, y_pred)\n",
        "class_report = classification_report(target_test, y_pred)\n",
        "\n",
        "print(f\"Accuracy: {accuracy}\")\n",
        "print(\"Confusion Matrix:\")\n",
        "print(conf_matrix)\n",
        "print(\"Classification Report:\")\n",
        "print(class_report)"
      ],
      "metadata": {
        "colab": {
          "base_uri": "https://localhost:8080/"
        },
        "id": "BGOip3o_RopN",
        "outputId": "bc9c77ec-b957-464b-c75f-4e6769ecec3d"
      },
      "execution_count": null,
      "outputs": [
        {
          "output_type": "stream",
          "name": "stdout",
          "text": [
            "Accuracy: 0.796875\n",
            "Confusion Matrix:\n",
            "[[ 6  0]\n",
            " [13 45]]\n",
            "Classification Report:\n",
            "              precision    recall  f1-score   support\n",
            "\n",
            "           0       0.32      1.00      0.48         6\n",
            "           1       1.00      0.78      0.87        58\n",
            "\n",
            "    accuracy                           0.80        64\n",
            "   macro avg       0.66      0.89      0.68        64\n",
            "weighted avg       0.94      0.80      0.84        64\n",
            "\n"
          ]
        }
      ]
    },
    {
      "cell_type": "code",
      "source": [
        "!pip install graphviz"
      ],
      "metadata": {
        "colab": {
          "base_uri": "https://localhost:8080/"
        },
        "id": "nNYyBx-ZSpX3",
        "outputId": "62b672ce-8988-4586-888e-20413568787e"
      },
      "execution_count": null,
      "outputs": [
        {
          "output_type": "stream",
          "name": "stdout",
          "text": [
            "Requirement already satisfied: graphviz in /usr/local/lib/python3.10/dist-packages (0.20.3)\n"
          ]
        }
      ]
    },
    {
      "cell_type": "code",
      "source": [
        "import graphviz\n",
        "from sklearn.tree import DecisionTreeClassifier, export_graphviz\n",
        "\n",
        "# Visualisation de l'arbre de décision\n",
        "# Limitez la visualisation à un sous-ensemble de caractéristiques si nécessaire\n",
        "Xtr = pd.DataFrame(X_tr)\n",
        "feature_names = Xtr.columns\n",
        "dot_data = export_graphviz(\n",
        "    model,\n",
        "    out_file=None,\n",
        "    feature_names=feature_names,\n",
        "    class_names=['class0', 'class1'],  # Remplacez par vos classes réelles\n",
        "    filled=True,\n",
        "    rounded=True,\n",
        "    special_characters=True\n",
        ")\n",
        "\n",
        "# Affichage de l'arbre\n",
        "graph = graphviz.Source(dot_data)\n",
        "graph.render(\"decision_tree\")  # Sauvegarde l'arbre dans un fichier nommé \"decision_tree\"\n",
        "graph.view()  # Affiche l'arbre"
      ],
      "metadata": {
        "colab": {
          "base_uri": "https://localhost:8080/",
          "height": 36
        },
        "id": "PJFsO1y9S0yV",
        "outputId": "cf0d0da0-a00c-4a08-dc66-4a629043bd8b"
      },
      "execution_count": null,
      "outputs": [
        {
          "output_type": "execute_result",
          "data": {
            "text/plain": [
              "'decision_tree.pdf'"
            ],
            "application/vnd.google.colaboratory.intrinsic+json": {
              "type": "string"
            }
          },
          "metadata": {},
          "execution_count": 42
        }
      ]
    },
    {
      "cell_type": "markdown",
      "source": [
        "# Scoring random forest"
      ],
      "metadata": {
        "id": "WGrNmyciT9so"
      }
    },
    {
      "cell_type": "code",
      "source": [
        " from sklearn.ensemble import RandomForestClassifier\n",
        " # Création et entraînement du modèle de forêt aléatoire\n",
        "model = RandomForestClassifier(n_estimators=100, random_state=42)\n",
        "model.fit(X_tr, target_tr)\n",
        "\n",
        "# Prédiction sur l'ensemble de test\n",
        "y_pred = model.predict(X_test)\n",
        "\n",
        "# Évaluation du modèle\n",
        "accuracy = accuracy_score(target_test, y_pred)\n",
        "conf_matrix = confusion_matrix(target_test, y_pred)\n",
        "class_report = classification_report(target_test, y_pred)\n",
        "\n",
        "print(f\"Accuracy: {accuracy}\")\n",
        "print(\"Confusion Matrix:\")\n",
        "print(conf_matrix)\n",
        "print(\"Classification Report:\")\n",
        "print(class_report)"
      ],
      "metadata": {
        "colab": {
          "base_uri": "https://localhost:8080/"
        },
        "id": "tssCse8DS3N1",
        "outputId": "4d2eb766-5868-493f-d114-551ade59983c"
      },
      "execution_count": null,
      "outputs": [
        {
          "output_type": "stream",
          "name": "stdout",
          "text": [
            "Accuracy: 0.8125\n",
            "Confusion Matrix:\n",
            "[[ 6  0]\n",
            " [12 46]]\n",
            "Classification Report:\n",
            "              precision    recall  f1-score   support\n",
            "\n",
            "           0       0.33      1.00      0.50         6\n",
            "           1       1.00      0.79      0.88        58\n",
            "\n",
            "    accuracy                           0.81        64\n",
            "   macro avg       0.67      0.90      0.69        64\n",
            "weighted avg       0.94      0.81      0.85        64\n",
            "\n"
          ]
        }
      ]
    },
    {
      "cell_type": "code",
      "source": [],
      "metadata": {
        "id": "Mlm3ZqGpTiWU"
      },
      "execution_count": null,
      "outputs": []
    }
  ]
}
