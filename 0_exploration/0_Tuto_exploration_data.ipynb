{
  "nbformat": 4,
  "nbformat_minor": 0,
  "metadata": {
    "colab": {
      "provenance": [],
      "authorship_tag": "ABX9TyPXmMCbM71HO1ogrNJCmQZp"
    },
    "kernelspec": {
      "name": "python3",
      "display_name": "Python 3"
    },
    "language_info": {
      "name": "python"
    }
  },
  "cells": [
    {
      "cell_type": "code",
      "execution_count": null,
      "metadata": {
        "colab": {
          "base_uri": "https://localhost:8080/"
        },
        "id": "ImAj8-q9-R5s",
        "outputId": "efe43f01-a2a6-4f8a-b790-8e6f4bc02e37"
      },
      "outputs": [
        {
          "output_type": "stream",
          "name": "stdout",
          "text": [
            "Drive already mounted at /content/drive; to attempt to forcibly remount, call drive.mount(\"/content/drive\", force_remount=True).\n"
          ]
        }
      ],
      "source": [
        "import pandas as pd\n",
        "import numpy as np\n",
        "from google.colab import drive\n",
        "drive.mount('/content/drive')\n",
        "import matplotlib.pyplot as plt\n"
      ]
    },
    {
      "cell_type": "code",
      "source": [
        "!pip install rdkit"
      ],
      "metadata": {
        "colab": {
          "base_uri": "https://localhost:8080/"
        },
        "id": "vcs2ZkIQAC9F",
        "outputId": "882c0a87-2081-449b-9f17-db618ad16df6"
      },
      "execution_count": null,
      "outputs": [
        {
          "output_type": "stream",
          "name": "stdout",
          "text": [
            "Requirement already satisfied: rdkit in /usr/local/lib/python3.10/dist-packages (2024.3.3)\n",
            "Requirement already satisfied: numpy<2.0 in /usr/local/lib/python3.10/dist-packages (from rdkit) (1.25.2)\n",
            "Requirement already satisfied: Pillow in /usr/local/lib/python3.10/dist-packages (from rdkit) (9.4.0)\n"
          ]
        }
      ]
    },
    {
      "cell_type": "code",
      "source": [
        "!pip install deepchem"
      ],
      "metadata": {
        "colab": {
          "base_uri": "https://localhost:8080/"
        },
        "id": "A698UyyVAEm7",
        "outputId": "d99644d8-a748-4bc3-e72b-b173e3dcd627"
      },
      "execution_count": null,
      "outputs": [
        {
          "output_type": "stream",
          "name": "stdout",
          "text": [
            "Requirement already satisfied: deepchem in /usr/local/lib/python3.10/dist-packages (2.8.0)\n",
            "Requirement already satisfied: joblib in /usr/local/lib/python3.10/dist-packages (from deepchem) (1.4.2)\n",
            "Requirement already satisfied: numpy>=1.21 in /usr/local/lib/python3.10/dist-packages (from deepchem) (1.25.2)\n",
            "Requirement already satisfied: pandas in /usr/local/lib/python3.10/dist-packages (from deepchem) (2.0.3)\n",
            "Requirement already satisfied: scikit-learn in /usr/local/lib/python3.10/dist-packages (from deepchem) (1.2.2)\n",
            "Requirement already satisfied: sympy in /usr/local/lib/python3.10/dist-packages (from deepchem) (1.13.0)\n",
            "Requirement already satisfied: scipy>=1.10.1 in /usr/local/lib/python3.10/dist-packages (from deepchem) (1.11.4)\n",
            "Requirement already satisfied: rdkit in /usr/local/lib/python3.10/dist-packages (from deepchem) (2024.3.3)\n",
            "Requirement already satisfied: python-dateutil>=2.8.2 in /usr/local/lib/python3.10/dist-packages (from pandas->deepchem) (2.8.2)\n",
            "Requirement already satisfied: pytz>=2020.1 in /usr/local/lib/python3.10/dist-packages (from pandas->deepchem) (2023.4)\n",
            "Requirement already satisfied: tzdata>=2022.1 in /usr/local/lib/python3.10/dist-packages (from pandas->deepchem) (2024.1)\n",
            "Requirement already satisfied: Pillow in /usr/local/lib/python3.10/dist-packages (from rdkit->deepchem) (9.4.0)\n",
            "Requirement already satisfied: threadpoolctl>=2.0.0 in /usr/local/lib/python3.10/dist-packages (from scikit-learn->deepchem) (3.5.0)\n",
            "Requirement already satisfied: mpmath<1.4,>=1.1.0 in /usr/local/lib/python3.10/dist-packages (from sympy->deepchem) (1.3.0)\n",
            "Requirement already satisfied: six>=1.5 in /usr/local/lib/python3.10/dist-packages (from python-dateutil>=2.8.2->pandas->deepchem) (1.16.0)\n"
          ]
        }
      ]
    },
    {
      "cell_type": "code",
      "source": [
        "# Importer le fichier xlsx\n",
        "file_name = \"/content/drive/MyDrive/code/SweetnersDB.xlsx\" #/path/to/the/file.xlsx\n",
        "\n",
        "# Lire le fichier xlsx avec pandas\n",
        "df_chimie = pd.read_excel(file_name, engine='openpyxl')\n",
        "\n",
        "# Afficher les premières lignes du DataFrame\n",
        "print(df_chimie.head())"
      ],
      "metadata": {
        "colab": {
          "base_uri": "https://localhost:8080/"
        },
        "id": "PfHsv7jE_41W",
        "outputId": "b0fe706c-6095-41dd-90d9-6d242e4acd92"
      },
      "execution_count": null,
      "outputs": [
        {
          "output_type": "stream",
          "name": "stdout",
          "text": [
            "                     Name  logSw Chemical family   Dataset  \\\n",
            "0      α-L-Rhamnopyranose  -0.85      saccharide  Training   \n",
            "1                glycerol  -0.80          polyol  Training   \n",
            "2     β-D-Galactopyranose  -0.72      saccharide  Training   \n",
            "3  4-galactosyl-kojibiose  -0.66      saccharide  Training   \n",
            "4               stachyose  -0.66      saccharide  Training   \n",
            "\n",
            "                                              Smiles  \n",
            "0          C[C@@H]1O[C@@H](O)[C@H](O)[C@H](O)[C@H]1O  \n",
            "1                                           OCC(O)CO  \n",
            "2         OC[C@H]1O[C@@H](O)[C@H](O)[C@@H](O)[C@H]1O  \n",
            "3  OC[C@H]1O[C@H](O[C@@H]2[C@@H](O)[C@H](O[C@@H]3...  \n",
            "4  OCC1OC(OCC2OC(OCC3OC(O[C@]4(CO)OC(CO)C(O)C4O)C...  \n"
          ]
        }
      ]
    },
    {
      "cell_type": "markdown",
      "source": [
        "# Renommer les colonnes pour que ce soit plus simple"
      ],
      "metadata": {
        "id": "4knzyQ8cC57m"
      }
    },
    {
      "cell_type": "code",
      "source": [
        "df_chimie=df_chimie.rename(columns = {'Chemical family': 'chemF'})"
      ],
      "metadata": {
        "id": "61alvHLKC5JA"
      },
      "execution_count": null,
      "outputs": []
    },
    {
      "cell_type": "code",
      "source": [
        "df_chimie.columns"
      ],
      "metadata": {
        "colab": {
          "base_uri": "https://localhost:8080/"
        },
        "id": "fJqBWPs1DsA8",
        "outputId": "6022cca6-8bfd-476a-bc59-9e772512d9bf"
      },
      "execution_count": null,
      "outputs": [
        {
          "output_type": "execute_result",
          "data": {
            "text/plain": [
              "Index(['Name', 'logSw', 'chemF', 'Dataset', 'Smiles'], dtype='object')"
            ]
          },
          "metadata": {},
          "execution_count": 14
        }
      ]
    },
    {
      "cell_type": "markdown",
      "source": [
        "# Analyse de données"
      ],
      "metadata": {
        "id": "OZLt0ipzAPe7"
      }
    },
    {
      "cell_type": "markdown",
      "source": [
        "## logSw"
      ],
      "metadata": {
        "id": "FnccYjgwAZWg"
      }
    },
    {
      "cell_type": "code",
      "source": [
        "type(df_chimie.logSw[0])"
      ],
      "metadata": {
        "colab": {
          "base_uri": "https://localhost:8080/"
        },
        "id": "VPTyKvdhAOtM",
        "outputId": "740d7b42-a663-4727-a1aa-f1245326ea27"
      },
      "execution_count": null,
      "outputs": [
        {
          "output_type": "execute_result",
          "data": {
            "text/plain": [
              "numpy.float64"
            ]
          },
          "metadata": {},
          "execution_count": 6
        }
      ]
    },
    {
      "cell_type": "code",
      "source": [
        "plt.plot(df_chimie.logSw)"
      ],
      "metadata": {
        "colab": {
          "base_uri": "https://localhost:8080/",
          "height": 447
        },
        "id": "XIvxDGPzAtiu",
        "outputId": "f0ff7c47-c6f6-4ca7-8b16-3a6299411f68"
      },
      "execution_count": null,
      "outputs": [
        {
          "output_type": "execute_result",
          "data": {
            "text/plain": [
              "[<matplotlib.lines.Line2D at 0x7fdae99e7f40>]"
            ]
          },
          "metadata": {},
          "execution_count": 7
        },
        {
          "output_type": "display_data",
          "data": {
            "text/plain": [
              "<Figure size 640x480 with 1 Axes>"
            ],
            "image/png": "[encoded data removed]"
          },
          "metadata": {}
        }
      ]
    },
    {
      "cell_type": "code",
      "source": [
        "# @title logSw\n",
        "\n",
        "from matplotlib import pyplot as plt\n",
        "df_chimie['logSw'].plot(kind='hist', bins=20, title='logSw')\n",
        "plt.gca().spines[['top', 'right',]].set_visible(False)"
      ],
      "metadata": {
        "id": "XtnHn7X8QwdN",
        "outputId": "58d33ea3-4ad0-4a45-c0a7-827adf5c90c6",
        "colab": {
          "base_uri": "https://localhost:8080/",
          "height": 452
        }
      },
      "execution_count": null,
      "outputs": [
        {
          "output_type": "display_data",
          "data": {
            "text/plain": [
              "<Figure size 640x480 with 1 Axes>"
            ],
            "image/png": "[encoded data removed]"
          },
          "metadata": {}
        }
      ]
    },
    {
      "cell_type": "code",
      "source": [
        "len(df_chimie.logSw),len(np.unique(df_chimie.logSw))"
      ],
      "metadata": {
        "colab": {
          "base_uri": "https://localhost:8080/"
        },
        "id": "B1aaxTO4BHGp",
        "outputId": "db12a989-12cb-4c26-d990-86d76d93d461"
      },
      "execution_count": null,
      "outputs": [
        {
          "output_type": "execute_result",
          "data": {
            "text/plain": [
              "(316, 186)"
            ]
          },
          "metadata": {},
          "execution_count": 8
        }
      ]
    },
    {
      "cell_type": "markdown",
      "source": [
        "\n",
        "Le logSw est le log en base 10 de la solubilité dans l'eau. Une valeur positive de logSw indique une solubilité supérieure à 1 mol/L Une valeur négative de logSw indique une solubilité inférieuer à 1 mol/L"
      ],
      "metadata": {
        "id": "kM82KqEeCPIg"
      }
    },
    {
      "cell_type": "markdown",
      "source": [
        "## Chemical family\n"
      ],
      "metadata": {
        "id": "-IngPfZvAcSY"
      }
    },
    {
      "cell_type": "code",
      "source": [
        "type(df_chimie.chemF[0])"
      ],
      "metadata": {
        "colab": {
          "base_uri": "https://localhost:8080/"
        },
        "id": "zQyF-BUvAeIS",
        "outputId": "84df6260-257a-4d71-d62c-5accff4b79bc"
      },
      "execution_count": null,
      "outputs": [
        {
          "output_type": "execute_result",
          "data": {
            "text/plain": [
              "str"
            ]
          },
          "metadata": {},
          "execution_count": 16
        }
      ]
    },
    {
      "cell_type": "code",
      "source": [
        "len(np.unique(df_chimie.chemF))"
      ],
      "metadata": {
        "colab": {
          "base_uri": "https://localhost:8080/"
        },
        "id": "baGmb8ipERO1",
        "outputId": "af45a56a-4d18-442a-934e-fd4a2e4228c1"
      },
      "execution_count": null,
      "outputs": [
        {
          "output_type": "execute_result",
          "data": {
            "text/plain": [
              "10"
            ]
          },
          "metadata": {},
          "execution_count": 18
        }
      ]
    },
    {
      "cell_type": "code",
      "source": [
        "df_chimie.chemF.value_counts()"
      ],
      "metadata": {
        "colab": {
          "base_uri": "https://localhost:8080/"
        },
        "id": "PJnXNiAdEGSN",
        "outputId": "b55a3470-b3a3-40cd-8354-8ddc60f73d63"
      },
      "execution_count": null,
      "outputs": [
        {
          "output_type": "execute_result",
          "data": {
            "text/plain": [
              "chemF\n",
              "amino-acid         142\n",
              "saccharide          64\n",
              "terpene             36\n",
              "phenol              23\n",
              "polyphenol          11\n",
              "polyol              10\n",
              "sulfone             10\n",
              "phenylpropanoid      8\n",
              "other                8\n",
              "guanidinium          4\n",
              "Name: count, dtype: int64"
            ]
          },
          "metadata": {},
          "execution_count": 17
        }
      ]
    },
    {
      "cell_type": "markdown",
      "source": [
        "## Dataset"
      ],
      "metadata": {
        "id": "dFFzVJW9AeoX"
      }
    },
    {
      "cell_type": "code",
      "source": [
        "type(df_chimie.Dataset[0])"
      ],
      "metadata": {
        "colab": {
          "base_uri": "https://localhost:8080/"
        },
        "id": "w2Vnv_rnG_qH",
        "outputId": "a00e1e70-e9c7-4fbd-f3f0-68981277dd63"
      },
      "execution_count": null,
      "outputs": [
        {
          "output_type": "execute_result",
          "data": {
            "text/plain": [
              "str"
            ]
          },
          "metadata": {},
          "execution_count": 32
        }
      ]
    },
    {
      "cell_type": "code",
      "source": [
        "len(np.unique(df_chimie.Dataset))"
      ],
      "metadata": {
        "colab": {
          "base_uri": "https://localhost:8080/"
        },
        "id": "Q50XM7DWHDBL",
        "outputId": "4ff7022d-b896-4604-8489-c2bc2272b857"
      },
      "execution_count": null,
      "outputs": [
        {
          "output_type": "execute_result",
          "data": {
            "text/plain": [
              "2"
            ]
          },
          "metadata": {},
          "execution_count": 34
        }
      ]
    },
    {
      "cell_type": "code",
      "source": [
        "df_chimie.Dataset.value_counts()"
      ],
      "metadata": {
        "colab": {
          "base_uri": "https://localhost:8080/"
        },
        "id": "B8Oi07lwHIxN",
        "outputId": "d78be276-6806-4566-e542-0b2407d0a17a"
      },
      "execution_count": null,
      "outputs": [
        {
          "output_type": "execute_result",
          "data": {
            "text/plain": [
              "Dataset\n",
              "Training    252\n",
              "Test         64\n",
              "Name: count, dtype: int64"
            ]
          },
          "metadata": {},
          "execution_count": 35
        }
      ]
    },
    {
      "cell_type": "markdown",
      "source": [
        "Questions:\n",
        "est-ce que les catégories sont correctement équilibrées entre le training et le test?"
      ],
      "metadata": {
        "id": "h9oJQnEpHwml"
      }
    },
    {
      "cell_type": "code",
      "source": [
        "df_train = df_chimie[df_chimie.Dataset=='Training']\n",
        "df_test = df_chimie[df_chimie.Dataset=='Test']"
      ],
      "metadata": {
        "id": "ZK1ll6MyIQpZ"
      },
      "execution_count": null,
      "outputs": []
    },
    {
      "cell_type": "code",
      "source": [
        "df_train.chemF.value_counts()"
      ],
      "metadata": {
        "colab": {
          "base_uri": "https://localhost:8080/"
        },
        "id": "pWvGDcqpJJRM",
        "outputId": "98eb821f-3f79-4cac-e4de-0b6b5641842c"
      },
      "execution_count": null,
      "outputs": [
        {
          "output_type": "execute_result",
          "data": {
            "text/plain": [
              "chemF\n",
              "amino-acid         122\n",
              "saccharide          55\n",
              "terpene             26\n",
              "phenol              18\n",
              "polyol               9\n",
              "polyphenol           8\n",
              "phenylpropanoid      6\n",
              "other                3\n",
              "sulfone              3\n",
              "guanidinium          2\n",
              "Name: count, dtype: int64"
            ]
          },
          "metadata": {},
          "execution_count": 47
        }
      ]
    },
    {
      "cell_type": "code",
      "source": [
        "df_test.chemF.value_counts()"
      ],
      "metadata": {
        "colab": {
          "base_uri": "https://localhost:8080/"
        },
        "id": "eD9kG5ooJPAV",
        "outputId": "d3985137-3c99-4cae-d511-395bbfdc1cf2"
      },
      "execution_count": null,
      "outputs": [
        {
          "output_type": "execute_result",
          "data": {
            "text/plain": [
              "chemF\n",
              "amino-acid         20\n",
              "terpene            10\n",
              "saccharide          9\n",
              "sulfone             7\n",
              "phenol              5\n",
              "other               5\n",
              "polyphenol          3\n",
              "phenylpropanoid     2\n",
              "guanidinium         2\n",
              "polyol              1\n",
              "Name: count, dtype: int64"
            ]
          },
          "metadata": {},
          "execution_count": 48
        }
      ]
    },
    {
      "cell_type": "markdown",
      "source": [
        "**N.B.**:\n",
        "- les catégories ayant moins de 10 éléments dans l'ensemble d'entrainement sont faiblement représentées.\n",
        "- les catégories avec moins de 5 éléments dans l'ensemble de tests sont difficilement évaluables (est-ce que le résultat est le fruit de l'aléatoire ou d'un sur-apprentissage?)\n",
        "\n"
      ],
      "metadata": {
        "id": "PsnsUjDCJT7-"
      }
    },
    {
      "cell_type": "code",
      "source": [
        "# @title Dataset vs logSw\n",
        "\n",
        "from matplotlib import pyplot as plt\n",
        "import seaborn as sns\n",
        "figsize = (12, 1.2 * len(df_chimie['Dataset'].unique()))\n",
        "plt.figure(figsize=figsize)\n",
        "sns.violinplot(df_chimie, x='logSw', y='Dataset', inner='stick', palette='Dark2')\n",
        "sns.despine(top=True, right=True, bottom=True, left=True)"
      ],
      "metadata": {
        "colab": {
          "base_uri": "https://localhost:8080/",
          "height": 352
        },
        "id": "viRb3HRRCOXk",
        "outputId": "72ba1919-0631-4790-eb42-6751f8f905c6"
      },
      "execution_count": null,
      "outputs": [
        {
          "output_type": "stream",
          "name": "stderr",
          "text": [
            "<ipython-input-52-841e39923141>:7: FutureWarning: \n",
            "\n",
            "Passing `palette` without assigning `hue` is deprecated and will be removed in v0.14.0. Assign the `y` variable to `hue` and set `legend=False` for the same effect.\n",
            "\n",
            "  sns.violinplot(df_chimie, x='logSw', y='Dataset', inner='stick', palette='Dark2')\n"
          ]
        },
        {
          "output_type": "display_data",
          "data": {
            "text/plain": [
              "<Figure size 1200x240 with 1 Axes>"
            ],
            "image/png": "[encoded data removed]"
          },
          "metadata": {}
        }
      ]
    },
    {
      "cell_type": "code",
      "source": [],
      "metadata": {
        "id": "kZVVbDs9JTQi"
      },
      "execution_count": null,
      "outputs": []
    },
    {
      "cell_type": "markdown",
      "source": [
        "## Smiles"
      ],
      "metadata": {
        "id": "UG7d0vUeAhEA"
      }
    },
    {
      "cell_type": "code",
      "source": [
        "type(df_chimie.Smiles[0])"
      ],
      "metadata": {
        "colab": {
          "base_uri": "https://localhost:8080/"
        },
        "id": "tO7X31UoKbaZ",
        "outputId": "b9705a78-ab52-44cc-c372-7c50e32291a0"
      },
      "execution_count": null,
      "outputs": [
        {
          "output_type": "execute_result",
          "data": {
            "text/plain": [
              "str"
            ]
          },
          "metadata": {},
          "execution_count": 49
        }
      ]
    },
    {
      "cell_type": "code",
      "source": [
        "len(np.unique(df_chimie.Smiles))"
      ],
      "metadata": {
        "colab": {
          "base_uri": "https://localhost:8080/"
        },
        "id": "xGyben1RKfkL",
        "outputId": "40f15c04-6350-4dc2-95f4-aa83e1f0bc95"
      },
      "execution_count": null,
      "outputs": [
        {
          "output_type": "execute_result",
          "data": {
            "text/plain": [
              "316"
            ]
          },
          "metadata": {},
          "execution_count": 50
        }
      ]
    },
    {
      "cell_type": "code",
      "source": [],
      "metadata": {
        "id": "2h--hSxsKi2L"
      },
      "execution_count": null,
      "outputs": []
    }
  ]
}