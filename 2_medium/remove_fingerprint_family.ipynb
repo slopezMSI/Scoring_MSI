{
  "nbformat": 4,
  "nbformat_minor": 0,
  "metadata": {
    "colab": {
      "provenance": [],
      "authorship_tag": "ABX9TyOS9lIU2r9B8COkhybthKBV"
    },
    "kernelspec": {
      "name": "python3",
      "display_name": "Python 3"
    },
    "language_info": {
      "name": "python"
    }
  },
  "cells": [
    {
      "cell_type": "code",
      "execution_count": null,
      "metadata": {
        "colab": {
          "base_uri": "https://localhost:8080/"
        },
        "id": "tGt6gXbb8wTT",
        "outputId": "33ca201f-905e-49d3-b346-a581a683fda6"
      },
      "outputs": [
        {
          "output_type": "stream",
          "name": "stdout",
          "text": [
            "Mounted at /content/drive\n",
            "Collecting deepchem\n",
            "  Downloading deepchem-2.8.0-py3-none-any.whl.metadata (2.0 kB)\n",
            "Collecting rdkit\n",
            "  Downloading rdkit-2024.3.5-cp310-cp310-manylinux_2_28_x86_64.whl.metadata (3.9 kB)\n",
            "Requirement already satisfied: matplotlib in /usr/local/lib/python3.10/dist-packages (3.7.1)\n",
            "Requirement already satisfied: networkx in /usr/local/lib/python3.10/dist-packages (3.3)\n",
            "Requirement already satisfied: joblib in /usr/local/lib/python3.10/dist-packages (from deepchem) (1.4.2)\n",
            "Requirement already satisfied: numpy>=1.21 in /usr/local/lib/python3.10/dist-packages (from deepchem) (1.26.4)\n",
            "Requirement already satisfied: pandas in /usr/local/lib/python3.10/dist-packages (from deepchem) (2.1.4)\n",
            "Requirement already satisfied: scikit-learn in /usr/local/lib/python3.10/dist-packages (from deepchem) (1.3.2)\n",
            "Requirement already satisfied: sympy in /usr/local/lib/python3.10/dist-packages (from deepchem) (1.13.2)\n",
            "Requirement already satisfied: scipy>=1.10.1 in /usr/local/lib/python3.10/dist-packages (from deepchem) (1.13.1)\n",
            "Requirement already satisfied: Pillow in /usr/local/lib/python3.10/dist-packages (from rdkit) (10.4.0)\n",
            "Requirement already satisfied: contourpy>=1.0.1 in /usr/local/lib/python3.10/dist-packages (from matplotlib) (1.3.0)\n",
            "Requirement already satisfied: cycler>=0.10 in /usr/local/lib/python3.10/dist-packages (from matplotlib) (0.12.1)\n",
            "Requirement already satisfied: fonttools>=4.22.0 in /usr/local/lib/python3.10/dist-packages (from matplotlib) (4.53.1)\n",
            "Requirement already satisfied: kiwisolver>=1.0.1 in /usr/local/lib/python3.10/dist-packages (from matplotlib) (1.4.7)\n",
            "Requirement already satisfied: packaging>=20.0 in /usr/local/lib/python3.10/dist-packages (from matplotlib) (24.1)\n",
            "Requirement already satisfied: pyparsing>=2.3.1 in /usr/local/lib/python3.10/dist-packages (from matplotlib) (3.1.4)\n",
            "Requirement already satisfied: python-dateutil>=2.7 in /usr/local/lib/python3.10/dist-packages (from matplotlib) (2.8.2)\n",
            "Requirement already satisfied: six>=1.5 in /usr/local/lib/python3.10/dist-packages (from python-dateutil>=2.7->matplotlib) (1.16.0)\n",
            "Requirement already satisfied: pytz>=2020.1 in /usr/local/lib/python3.10/dist-packages (from pandas->deepchem) (2024.2)\n",
            "Requirement already satisfied: tzdata>=2022.1 in /usr/local/lib/python3.10/dist-packages (from pandas->deepchem) (2024.1)\n",
            "Requirement already satisfied: threadpoolctl>=2.0.0 in /usr/local/lib/python3.10/dist-packages (from scikit-learn->deepchem) (3.5.0)\n",
            "Requirement already satisfied: mpmath<1.4,>=1.1.0 in /usr/local/lib/python3.10/dist-packages (from sympy->deepchem) (1.3.0)\n",
            "Downloading deepchem-2.8.0-py3-none-any.whl (1.0 MB)\n",
            "\u001b[2K   \u001b[90m━━━━━━━━━━━━━━━━━━━━━━━━━━━━━━━━━━━━━━━━\u001b[0m \u001b[32m1.0/1.0 MB\u001b[0m \u001b[31m15.7 MB/s\u001b[0m eta \u001b[36m0:00:00\u001b[0m\n",
            "\u001b[?25hDownloading rdkit-2024.3.5-cp310-cp310-manylinux_2_28_x86_64.whl (33.1 MB)\n",
            "\u001b[2K   \u001b[90m━━━━━━━━━━━━━━━━━━━━━━━━━━━━━━━━━━━━━━━━\u001b[0m \u001b[32m33.1/33.1 MB\u001b[0m \u001b[31m35.7 MB/s\u001b[0m eta \u001b[36m0:00:00\u001b[0m\n",
            "\u001b[?25hInstalling collected packages: rdkit, deepchem\n",
            "Successfully installed deepchem-2.8.0 rdkit-2024.3.5\n"
          ]
        },
        {
          "output_type": "stream",
          "name": "stderr",
          "text": [
            "WARNING:deepchem.feat.molecule_featurizers.rdkit_descriptors:No normalization for SPS. Feature removed!\n",
            "WARNING:deepchem.feat.molecule_featurizers.rdkit_descriptors:No normalization for AvgIpc. Feature removed!\n",
            "WARNING:tensorflow:From /usr/local/lib/python3.10/dist-packages/tensorflow/python/util/deprecation.py:588: calling function (from tensorflow.python.eager.polymorphic_function.polymorphic_function) with experimental_relax_shapes is deprecated and will be removed in a future version.\n",
            "Instructions for updating:\n",
            "experimental_relax_shapes is deprecated, use reduce_retracing instead\n",
            "WARNING:deepchem.models.torch_models:Skipped loading modules with pytorch-geometric dependency, missing a dependency. No module named 'torch_geometric'\n",
            "WARNING:deepchem.models:Skipped loading modules with pytorch-geometric dependency, missing a dependency. cannot import name 'DMPNN' from 'deepchem.models.torch_models' (/usr/local/lib/python3.10/dist-packages/deepchem/models/torch_models/__init__.py)\n",
            "WARNING:deepchem.models:Skipped loading modules with pytorch-lightning dependency, missing a dependency. No module named 'lightning'\n",
            "WARNING:deepchem.models:Skipped loading some Jax models, missing a dependency. No module named 'haiku'\n"
          ]
        }
      ],
      "source": [
        "'''from google.colab import drive\n",
        "drive.mount('/content/drive')\n",
        "!pip install deepchem rdkit matplotlib networkx\n",
        "'''\n",
        "import deepchem as dc\n",
        "from rdkit import Chem\n",
        "from rdkit.Chem import Draw\n",
        "import matplotlib.pyplot as plt\n",
        "import networkx as nx\n",
        "from sklearn.svm import SVR\n",
        "from sklearn.model_selection import train_test_split\n",
        "from sklearn.preprocessing import StandardScaler\n",
        "from deepchem.feat import MolGraphConvFeaturizer\n",
        "from deepchem.feat import CircularFingerprint\n",
        "from sklearn.model_selection import GridSearchCV\n",
        "from sklearn.svm import SVR\n",
        "import pandas as pd\n",
        "import numpy as np\n",
        "from sklearn.model_selection import StratifiedKFold\n",
        "from deepchem.feat import ConvMolFeaturizer\n",
        "from rdkit import Chem\n",
        "from rdkit.Chem import AllChem\n",
        "from rdkit.Chem import Descriptors\n",
        "import deepchem as dc\n",
        "from methods_fingerprints import *\n",
        "\n",
        "#from drive.MyDrive.code.methods import *\n",
        "#from drive.MyDrive.code.methods_fingerprints import *"
      ]
    },
    {
      "cell_type": "code",
      "source": [
        "smiles_tr,smiles_test, logSweeter_tr, logSweeter_test, families_tr, families_test = load_data_remove(\"../data/SweetnersDB.xlsx\")\n",
        "X_tr,X_test,scaler_X = prepare_fingerprint(smiles_tr,smiles_test)\n",
        "y_tr,y_test,scaler_y = prepare_targets(logSweeter_tr,logSweeter_test)"
      ],
      "metadata": {
        "colab": {
          "base_uri": "https://localhost:8080/"
        },
        "id": "7Z_HdI819wR-",
        "outputId": "dd6f304b-e051-4e85-acc5-dc705389ec29"
      },
      "execution_count": null,
      "outputs": [
        {
          "output_type": "stream",
          "name": "stdout",
          "text": [
            "Index(['Name', 'logSw', 'Chemical family', 'Dataset', 'Smiles'], dtype='object')\n"
          ]
        },
        {
          "output_type": "stream",
          "name": "stderr",
          "text": [
            "[15:06:42] DEPRECATION WARNING: please use MorganGenerator\n",
            "[15:06:42] DEPRECATION WARNING: please use MorganGenerator\n",
            "[15:06:42] DEPRECATION WARNING: please use MorganGenerator\n",
            "[15:06:42] DEPRECATION WARNING: please use MorganGenerator\n",
            "[15:06:42] DEPRECATION WARNING: please use MorganGenerator\n",
            "[15:06:42] DEPRECATION WARNING: please use MorganGenerator\n",
            "[15:06:42] DEPRECATION WARNING: please use MorganGenerator\n",
            "[15:06:42] DEPRECATION WARNING: please use MorganGenerator\n",
            "[15:06:42] DEPRECATION WARNING: please use MorganGenerator\n",
            "[15:06:42] DEPRECATION WARNING: please use MorganGenerator\n",
            "[15:06:42] DEPRECATION WARNING: please use MorganGenerator\n",
            "[15:06:42] DEPRECATION WARNING: please use MorganGenerator\n",
            "[15:06:42] DEPRECATION WARNING: please use MorganGenerator\n",
            "[15:06:42] DEPRECATION WARNING: please use MorganGenerator\n",
            "[15:06:42] DEPRECATION WARNING: please use MorganGenerator\n",
            "[15:06:42] DEPRECATION WARNING: please use MorganGenerator\n",
            "[15:06:42] DEPRECATION WARNING: please use MorganGenerator\n",
            "[15:06:42] DEPRECATION WARNING: please use MorganGenerator\n",
            "[15:06:42] DEPRECATION WARNING: please use MorganGenerator\n",
            "[15:06:42] DEPRECATION WARNING: please use MorganGenerator\n",
            "[15:06:42] DEPRECATION WARNING: please use MorganGenerator\n",
            "[15:06:42] DEPRECATION WARNING: please use MorganGenerator\n",
            "[15:06:42] DEPRECATION WARNING: please use MorganGenerator\n",
            "[15:06:42] DEPRECATION WARNING: please use MorganGenerator\n",
            "[15:06:42] DEPRECATION WARNING: please use MorganGenerator\n",
            "[15:06:42] DEPRECATION WARNING: please use MorganGenerator\n",
            "[15:06:42] DEPRECATION WARNING: please use MorganGenerator\n",
            "[15:06:42] DEPRECATION WARNING: please use MorganGenerator\n",
            "[15:06:42] DEPRECATION WARNING: please use MorganGenerator\n",
            "[15:06:42] DEPRECATION WARNING: please use MorganGenerator\n",
            "[15:06:42] DEPRECATION WARNING: please use MorganGenerator\n",
            "[15:06:42] DEPRECATION WARNING: please use MorganGenerator\n",
            "[15:06:42] DEPRECATION WARNING: please use MorganGenerator\n",
            "[15:06:42] DEPRECATION WARNING: please use MorganGenerator\n",
            "[15:06:42] DEPRECATION WARNING: please use MorganGenerator\n",
            "[15:06:42] DEPRECATION WARNING: please use MorganGenerator\n",
            "[15:06:42] DEPRECATION WARNING: please use MorganGenerator\n",
            "[15:06:42] DEPRECATION WARNING: please use MorganGenerator\n",
            "[15:06:42] DEPRECATION WARNING: please use MorganGenerator\n",
            "[15:06:42] DEPRECATION WARNING: please use MorganGenerator\n",
            "[15:06:42] DEPRECATION WARNING: please use MorganGenerator\n",
            "[15:06:42] DEPRECATION WARNING: please use MorganGenerator\n",
            "[15:06:42] DEPRECATION WARNING: please use MorganGenerator\n",
            "[15:06:42] DEPRECATION WARNING: please use MorganGenerator\n",
            "[15:06:42] DEPRECATION WARNING: please use MorganGenerator\n",
            "[15:06:42] DEPRECATION WARNING: please use MorganGenerator\n",
            "[15:06:42] DEPRECATION WARNING: please use MorganGenerator\n",
            "[15:06:42] DEPRECATION WARNING: please use MorganGenerator\n",
            "[15:06:42] DEPRECATION WARNING: please use MorganGenerator\n",
            "[15:06:42] DEPRECATION WARNING: please use MorganGenerator\n",
            "[15:06:42] DEPRECATION WARNING: please use MorganGenerator\n",
            "[15:06:42] DEPRECATION WARNING: please use MorganGenerator\n",
            "[15:06:42] DEPRECATION WARNING: please use MorganGenerator\n",
            "[15:06:42] DEPRECATION WARNING: please use MorganGenerator\n",
            "[15:06:42] DEPRECATION WARNING: please use MorganGenerator\n",
            "[15:06:42] DEPRECATION WARNING: please use MorganGenerator\n",
            "[15:06:42] DEPRECATION WARNING: please use MorganGenerator\n",
            "[15:06:42] DEPRECATION WARNING: please use MorganGenerator\n",
            "[15:06:42] DEPRECATION WARNING: please use MorganGenerator\n",
            "[15:06:42] DEPRECATION WARNING: please use MorganGenerator\n",
            "[15:06:42] DEPRECATION WARNING: please use MorganGenerator\n",
            "[15:06:42] DEPRECATION WARNING: please use MorganGenerator\n",
            "[15:06:42] DEPRECATION WARNING: please use MorganGenerator\n",
            "[15:06:42] DEPRECATION WARNING: please use MorganGenerator\n",
            "[15:06:42] DEPRECATION WARNING: please use MorganGenerator\n",
            "[15:06:42] DEPRECATION WARNING: please use MorganGenerator\n",
            "[15:06:42] DEPRECATION WARNING: please use MorganGenerator\n",
            "[15:06:42] DEPRECATION WARNING: please use MorganGenerator\n",
            "[15:06:42] DEPRECATION WARNING: please use MorganGenerator\n",
            "[15:06:42] DEPRECATION WARNING: please use MorganGenerator\n",
            "[15:06:42] DEPRECATION WARNING: please use MorganGenerator\n",
            "[15:06:42] DEPRECATION WARNING: please use MorganGenerator\n",
            "[15:06:42] DEPRECATION WARNING: please use MorganGenerator\n",
            "[15:06:42] DEPRECATION WARNING: please use MorganGenerator\n",
            "[15:06:42] DEPRECATION WARNING: please use MorganGenerator\n",
            "[15:06:42] DEPRECATION WARNING: please use MorganGenerator\n",
            "[15:06:42] DEPRECATION WARNING: please use MorganGenerator\n",
            "[15:06:42] DEPRECATION WARNING: please use MorganGenerator\n",
            "[15:06:42] DEPRECATION WARNING: please use MorganGenerator\n",
            "[15:06:42] DEPRECATION WARNING: please use MorganGenerator\n",
            "[15:06:42] DEPRECATION WARNING: please use MorganGenerator\n",
            "[15:06:42] DEPRECATION WARNING: please use MorganGenerator\n",
            "[15:06:42] DEPRECATION WARNING: please use MorganGenerator\n",
            "[15:06:42] DEPRECATION WARNING: please use MorganGenerator\n",
            "[15:06:42] DEPRECATION WARNING: please use MorganGenerator\n",
            "[15:06:42] DEPRECATION WARNING: please use MorganGenerator\n",
            "[15:06:42] DEPRECATION WARNING: please use MorganGenerator\n",
            "[15:06:42] DEPRECATION WARNING: please use MorganGenerator\n",
            "[15:06:42] DEPRECATION WARNING: please use MorganGenerator\n",
            "[15:06:42] DEPRECATION WARNING: please use MorganGenerator\n",
            "[15:06:42] DEPRECATION WARNING: please use MorganGenerator\n",
            "[15:06:42] DEPRECATION WARNING: please use MorganGenerator\n",
            "[15:06:42] DEPRECATION WARNING: please use MorganGenerator\n",
            "[15:06:42] DEPRECATION WARNING: please use MorganGenerator\n",
            "[15:06:42] DEPRECATION WARNING: please use MorganGenerator\n",
            "[15:06:42] DEPRECATION WARNING: please use MorganGenerator\n",
            "[15:06:42] DEPRECATION WARNING: please use MorganGenerator\n",
            "[15:06:42] DEPRECATION WARNING: please use MorganGenerator\n",
            "[15:06:42] DEPRECATION WARNING: please use MorganGenerator\n",
            "[15:06:42] DEPRECATION WARNING: please use MorganGenerator\n",
            "[15:06:42] DEPRECATION WARNING: please use MorganGenerator\n",
            "[15:06:42] DEPRECATION WARNING: please use MorganGenerator\n",
            "[15:06:42] DEPRECATION WARNING: please use MorganGenerator\n",
            "[15:06:42] DEPRECATION WARNING: please use MorganGenerator\n",
            "[15:06:42] DEPRECATION WARNING: please use MorganGenerator\n",
            "[15:06:42] DEPRECATION WARNING: please use MorganGenerator\n",
            "[15:06:42] DEPRECATION WARNING: please use MorganGenerator\n",
            "[15:06:42] DEPRECATION WARNING: please use MorganGenerator\n",
            "[15:06:42] DEPRECATION WARNING: please use MorganGenerator\n",
            "[15:06:42] DEPRECATION WARNING: please use MorganGenerator\n",
            "[15:06:42] DEPRECATION WARNING: please use MorganGenerator\n",
            "[15:06:42] DEPRECATION WARNING: please use MorganGenerator\n",
            "[15:06:42] DEPRECATION WARNING: please use MorganGenerator\n",
            "[15:06:42] DEPRECATION WARNING: please use MorganGenerator\n",
            "[15:06:42] DEPRECATION WARNING: please use MorganGenerator\n",
            "[15:06:42] DEPRECATION WARNING: please use MorganGenerator\n",
            "[15:06:42] DEPRECATION WARNING: please use MorganGenerator\n",
            "[15:06:42] DEPRECATION WARNING: please use MorganGenerator\n",
            "[15:06:42] DEPRECATION WARNING: please use MorganGenerator\n",
            "[15:06:42] DEPRECATION WARNING: please use MorganGenerator\n",
            "[15:06:42] DEPRECATION WARNING: please use MorganGenerator\n",
            "[15:06:42] DEPRECATION WARNING: please use MorganGenerator\n",
            "[15:06:42] DEPRECATION WARNING: please use MorganGenerator\n",
            "[15:06:42] DEPRECATION WARNING: please use MorganGenerator\n",
            "[15:06:42] DEPRECATION WARNING: please use MorganGenerator\n",
            "[15:06:42] DEPRECATION WARNING: please use MorganGenerator\n",
            "[15:06:42] DEPRECATION WARNING: please use MorganGenerator\n",
            "[15:06:42] DEPRECATION WARNING: please use MorganGenerator\n",
            "[15:06:42] DEPRECATION WARNING: please use MorganGenerator\n",
            "[15:06:42] DEPRECATION WARNING: please use MorganGenerator\n",
            "[15:06:42] DEPRECATION WARNING: please use MorganGenerator\n",
            "[15:06:42] DEPRECATION WARNING: please use MorganGenerator\n",
            "[15:06:42] DEPRECATION WARNING: please use MorganGenerator\n",
            "[15:06:42] DEPRECATION WARNING: please use MorganGenerator\n",
            "[15:06:42] DEPRECATION WARNING: please use MorganGenerator\n",
            "[15:06:42] DEPRECATION WARNING: please use MorganGenerator\n",
            "[15:06:42] DEPRECATION WARNING: please use MorganGenerator\n",
            "[15:06:42] DEPRECATION WARNING: please use MorganGenerator\n",
            "[15:06:42] DEPRECATION WARNING: please use MorganGenerator\n",
            "[15:06:42] DEPRECATION WARNING: please use MorganGenerator\n",
            "[15:06:42] DEPRECATION WARNING: please use MorganGenerator\n",
            "[15:06:42] DEPRECATION WARNING: please use MorganGenerator\n",
            "[15:06:42] DEPRECATION WARNING: please use MorganGenerator\n",
            "[15:06:42] DEPRECATION WARNING: please use MorganGenerator\n",
            "[15:06:42] DEPRECATION WARNING: please use MorganGenerator\n",
            "[15:06:42] DEPRECATION WARNING: please use MorganGenerator\n",
            "[15:06:42] DEPRECATION WARNING: please use MorganGenerator\n",
            "[15:06:42] DEPRECATION WARNING: please use MorganGenerator\n",
            "[15:06:42] DEPRECATION WARNING: please use MorganGenerator\n",
            "[15:06:42] DEPRECATION WARNING: please use MorganGenerator\n",
            "[15:06:42] DEPRECATION WARNING: please use MorganGenerator\n",
            "[15:06:42] DEPRECATION WARNING: please use MorganGenerator\n",
            "[15:06:42] DEPRECATION WARNING: please use MorganGenerator\n",
            "[15:06:42] DEPRECATION WARNING: please use MorganGenerator\n",
            "[15:06:42] DEPRECATION WARNING: please use MorganGenerator\n",
            "[15:06:42] DEPRECATION WARNING: please use MorganGenerator\n",
            "[15:06:42] DEPRECATION WARNING: please use MorganGenerator\n",
            "[15:06:42] DEPRECATION WARNING: please use MorganGenerator\n",
            "[15:06:42] DEPRECATION WARNING: please use MorganGenerator\n",
            "[15:06:42] DEPRECATION WARNING: please use MorganGenerator\n",
            "[15:06:42] DEPRECATION WARNING: please use MorganGenerator\n",
            "[15:06:42] DEPRECATION WARNING: please use MorganGenerator\n",
            "[15:06:42] DEPRECATION WARNING: please use MorganGenerator\n",
            "[15:06:42] DEPRECATION WARNING: please use MorganGenerator\n",
            "[15:06:42] DEPRECATION WARNING: please use MorganGenerator\n",
            "[15:06:42] DEPRECATION WARNING: please use MorganGenerator\n",
            "[15:06:42] DEPRECATION WARNING: please use MorganGenerator\n",
            "[15:06:42] DEPRECATION WARNING: please use MorganGenerator\n",
            "[15:06:42] DEPRECATION WARNING: please use MorganGenerator\n",
            "[15:06:42] DEPRECATION WARNING: please use MorganGenerator\n",
            "[15:06:42] DEPRECATION WARNING: please use MorganGenerator\n",
            "[15:06:42] DEPRECATION WARNING: please use MorganGenerator\n",
            "[15:06:42] DEPRECATION WARNING: please use MorganGenerator\n",
            "[15:06:42] DEPRECATION WARNING: please use MorganGenerator\n",
            "[15:06:42] DEPRECATION WARNING: please use MorganGenerator\n",
            "[15:06:42] DEPRECATION WARNING: please use MorganGenerator\n",
            "[15:06:42] DEPRECATION WARNING: please use MorganGenerator\n",
            "[15:06:42] DEPRECATION WARNING: please use MorganGenerator\n",
            "[15:06:42] DEPRECATION WARNING: please use MorganGenerator\n",
            "[15:06:42] DEPRECATION WARNING: please use MorganGenerator\n",
            "[15:06:42] DEPRECATION WARNING: please use MorganGenerator\n",
            "[15:06:42] DEPRECATION WARNING: please use MorganGenerator\n",
            "[15:06:42] DEPRECATION WARNING: please use MorganGenerator\n",
            "[15:06:42] DEPRECATION WARNING: please use MorganGenerator\n",
            "[15:06:42] DEPRECATION WARNING: please use MorganGenerator\n",
            "[15:06:42] DEPRECATION WARNING: please use MorganGenerator\n",
            "[15:06:42] DEPRECATION WARNING: please use MorganGenerator\n",
            "[15:06:42] DEPRECATION WARNING: please use MorganGenerator\n",
            "[15:06:42] DEPRECATION WARNING: please use MorganGenerator\n",
            "[15:06:42] DEPRECATION WARNING: please use MorganGenerator\n",
            "[15:06:42] DEPRECATION WARNING: please use MorganGenerator\n",
            "[15:06:42] DEPRECATION WARNING: please use MorganGenerator\n",
            "[15:06:42] DEPRECATION WARNING: please use MorganGenerator\n",
            "[15:06:42] DEPRECATION WARNING: please use MorganGenerator\n",
            "[15:06:42] DEPRECATION WARNING: please use MorganGenerator\n",
            "[15:06:42] DEPRECATION WARNING: please use MorganGenerator\n",
            "[15:06:42] DEPRECATION WARNING: please use MorganGenerator\n",
            "[15:06:42] DEPRECATION WARNING: please use MorganGenerator\n",
            "[15:06:42] DEPRECATION WARNING: please use MorganGenerator\n",
            "[15:06:42] DEPRECATION WARNING: please use MorganGenerator\n",
            "[15:06:42] DEPRECATION WARNING: please use MorganGenerator\n",
            "[15:06:42] DEPRECATION WARNING: please use MorganGenerator\n",
            "[15:06:42] DEPRECATION WARNING: please use MorganGenerator\n",
            "[15:06:42] DEPRECATION WARNING: please use MorganGenerator\n",
            "[15:06:42] DEPRECATION WARNING: please use MorganGenerator\n",
            "[15:06:42] DEPRECATION WARNING: please use MorganGenerator\n",
            "[15:06:42] DEPRECATION WARNING: please use MorganGenerator\n",
            "[15:06:42] DEPRECATION WARNING: please use MorganGenerator\n",
            "[15:06:42] DEPRECATION WARNING: please use MorganGenerator\n",
            "[15:06:42] DEPRECATION WARNING: please use MorganGenerator\n",
            "[15:06:42] DEPRECATION WARNING: please use MorganGenerator\n",
            "[15:06:42] DEPRECATION WARNING: please use MorganGenerator\n",
            "[15:06:42] DEPRECATION WARNING: please use MorganGenerator\n",
            "[15:06:42] DEPRECATION WARNING: please use MorganGenerator\n",
            "[15:06:42] DEPRECATION WARNING: please use MorganGenerator\n",
            "[15:06:42] DEPRECATION WARNING: please use MorganGenerator\n",
            "[15:06:42] DEPRECATION WARNING: please use MorganGenerator\n",
            "[15:06:42] DEPRECATION WARNING: please use MorganGenerator\n",
            "[15:06:42] DEPRECATION WARNING: please use MorganGenerator\n",
            "[15:06:42] DEPRECATION WARNING: please use MorganGenerator\n",
            "[15:06:42] DEPRECATION WARNING: please use MorganGenerator\n",
            "[15:06:42] DEPRECATION WARNING: please use MorganGenerator\n",
            "[15:06:42] DEPRECATION WARNING: please use MorganGenerator\n",
            "[15:06:42] DEPRECATION WARNING: please use MorganGenerator\n",
            "[15:06:42] DEPRECATION WARNING: please use MorganGenerator\n",
            "[15:06:42] DEPRECATION WARNING: please use MorganGenerator\n",
            "[15:06:42] DEPRECATION WARNING: please use MorganGenerator\n",
            "[15:06:42] DEPRECATION WARNING: please use MorganGenerator\n",
            "[15:06:42] DEPRECATION WARNING: please use MorganGenerator\n",
            "[15:06:42] DEPRECATION WARNING: please use MorganGenerator\n",
            "[15:06:42] DEPRECATION WARNING: please use MorganGenerator\n",
            "[15:06:42] DEPRECATION WARNING: please use MorganGenerator\n",
            "[15:06:42] DEPRECATION WARNING: please use MorganGenerator\n",
            "[15:06:42] DEPRECATION WARNING: please use MorganGenerator\n",
            "[15:06:42] DEPRECATION WARNING: please use MorganGenerator\n",
            "[15:06:42] DEPRECATION WARNING: please use MorganGenerator\n",
            "[15:06:42] DEPRECATION WARNING: please use MorganGenerator\n",
            "[15:06:42] DEPRECATION WARNING: please use MorganGenerator\n",
            "[15:06:42] DEPRECATION WARNING: please use MorganGenerator\n",
            "[15:06:42] DEPRECATION WARNING: please use MorganGenerator\n",
            "[15:06:42] DEPRECATION WARNING: please use MorganGenerator\n",
            "[15:06:42] DEPRECATION WARNING: please use MorganGenerator\n",
            "[15:06:42] DEPRECATION WARNING: please use MorganGenerator\n",
            "[15:06:42] DEPRECATION WARNING: please use MorganGenerator\n",
            "[15:06:42] DEPRECATION WARNING: please use MorganGenerator\n",
            "[15:06:42] DEPRECATION WARNING: please use MorganGenerator\n",
            "[15:06:42] DEPRECATION WARNING: please use MorganGenerator\n",
            "[15:06:42] DEPRECATION WARNING: please use MorganGenerator\n",
            "[15:06:42] DEPRECATION WARNING: please use MorganGenerator\n",
            "[15:06:42] DEPRECATION WARNING: please use MorganGenerator\n",
            "[15:06:42] DEPRECATION WARNING: please use MorganGenerator\n",
            "[15:06:42] DEPRECATION WARNING: please use MorganGenerator\n",
            "[15:06:42] DEPRECATION WARNING: please use MorganGenerator\n",
            "[15:06:42] DEPRECATION WARNING: please use MorganGenerator\n",
            "[15:06:42] DEPRECATION WARNING: please use MorganGenerator\n",
            "[15:06:42] DEPRECATION WARNING: please use MorganGenerator\n",
            "[15:06:42] DEPRECATION WARNING: please use MorganGenerator\n",
            "[15:06:42] DEPRECATION WARNING: please use MorganGenerator\n",
            "[15:06:42] DEPRECATION WARNING: please use MorganGenerator\n",
            "[15:06:42] DEPRECATION WARNING: please use MorganGenerator\n",
            "[15:06:42] DEPRECATION WARNING: please use MorganGenerator\n",
            "[15:06:42] DEPRECATION WARNING: please use MorganGenerator\n",
            "[15:06:42] DEPRECATION WARNING: please use MorganGenerator\n",
            "[15:06:42] DEPRECATION WARNING: please use MorganGenerator\n",
            "[15:06:42] DEPRECATION WARNING: please use MorganGenerator\n",
            "[15:06:42] DEPRECATION WARNING: please use MorganGenerator\n",
            "[15:06:42] DEPRECATION WARNING: please use MorganGenerator\n",
            "[15:06:42] DEPRECATION WARNING: please use MorganGenerator\n",
            "[15:06:42] DEPRECATION WARNING: please use MorganGenerator\n",
            "[15:06:42] DEPRECATION WARNING: please use MorganGenerator\n",
            "[15:06:42] DEPRECATION WARNING: please use MorganGenerator\n",
            "[15:06:42] DEPRECATION WARNING: please use MorganGenerator\n",
            "[15:06:42] DEPRECATION WARNING: please use MorganGenerator\n",
            "[15:06:42] DEPRECATION WARNING: please use MorganGenerator\n",
            "[15:06:42] DEPRECATION WARNING: please use MorganGenerator\n",
            "[15:06:42] DEPRECATION WARNING: please use MorganGenerator\n",
            "[15:06:42] DEPRECATION WARNING: please use MorganGenerator\n",
            "[15:06:42] DEPRECATION WARNING: please use MorganGenerator\n",
            "[15:06:42] DEPRECATION WARNING: please use MorganGenerator\n",
            "[15:06:42] DEPRECATION WARNING: please use MorganGenerator\n",
            "[15:06:42] DEPRECATION WARNING: please use MorganGenerator\n",
            "[15:06:42] DEPRECATION WARNING: please use MorganGenerator\n",
            "[15:06:42] DEPRECATION WARNING: please use MorganGenerator\n",
            "[15:06:43] DEPRECATION WARNING: please use MorganGenerator\n",
            "[15:06:43] DEPRECATION WARNING: please use MorganGenerator\n",
            "[15:06:43] DEPRECATION WARNING: please use MorganGenerator\n",
            "[15:06:43] DEPRECATION WARNING: please use MorganGenerator\n",
            "[15:06:43] DEPRECATION WARNING: please use MorganGenerator\n",
            "[15:06:43] DEPRECATION WARNING: please use MorganGenerator\n",
            "[15:06:43] DEPRECATION WARNING: please use MorganGenerator\n",
            "[15:06:43] DEPRECATION WARNING: please use MorganGenerator\n",
            "[15:06:43] DEPRECATION WARNING: please use MorganGenerator\n",
            "[15:06:43] DEPRECATION WARNING: please use MorganGenerator\n",
            "[15:06:43] DEPRECATION WARNING: please use MorganGenerator\n",
            "[15:06:43] DEPRECATION WARNING: please use MorganGenerator\n",
            "[15:06:43] DEPRECATION WARNING: please use MorganGenerator\n",
            "[15:06:43] DEPRECATION WARNING: please use MorganGenerator\n",
            "[15:06:43] DEPRECATION WARNING: please use MorganGenerator\n",
            "[15:06:43] DEPRECATION WARNING: please use MorganGenerator\n",
            "[15:06:43] DEPRECATION WARNING: please use MorganGenerator\n",
            "[15:06:43] DEPRECATION WARNING: please use MorganGenerator\n",
            "[15:06:43] DEPRECATION WARNING: please use MorganGenerator\n",
            "[15:06:43] DEPRECATION WARNING: please use MorganGenerator\n",
            "[15:06:43] DEPRECATION WARNING: please use MorganGenerator\n",
            "[15:06:43] DEPRECATION WARNING: please use MorganGenerator\n",
            "[15:06:43] DEPRECATION WARNING: please use MorganGenerator\n",
            "[15:06:43] DEPRECATION WARNING: please use MorganGenerator\n",
            "[15:06:43] DEPRECATION WARNING: please use MorganGenerator\n",
            "[15:06:43] DEPRECATION WARNING: please use MorganGenerator\n",
            "[15:06:43] DEPRECATION WARNING: please use MorganGenerator\n",
            "[15:06:43] DEPRECATION WARNING: please use MorganGenerator\n",
            "[15:06:43] DEPRECATION WARNING: please use MorganGenerator\n"
          ]
        }
      ]
    },
    {
      "cell_type": "code",
      "source": [
        "onehot_tr,onehot_test = prepare_famille_chimique(families_tr, families_test)"
      ],
      "metadata": {
        "colab": {
          "base_uri": "https://localhost:8080/"
        },
        "id": "GC0COBQA-C_3",
        "outputId": "429d216d-746d-46f2-ef45-ccb0b59375cb"
      },
      "execution_count": null,
      "outputs": [
        {
          "output_type": "stream",
          "name": "stderr",
          "text": [
            "/usr/local/lib/python3.10/dist-packages/sklearn/preprocessing/_encoders.py:975: FutureWarning: `sparse` was renamed to `sparse_output` in version 1.2 and will be removed in 1.4. `sparse_output` is ignored unless you leave `sparse` to its default value.\n",
            "  warnings.warn(\n",
            "/usr/local/lib/python3.10/dist-packages/sklearn/preprocessing/_encoders.py:975: FutureWarning: `sparse` was renamed to `sparse_output` in version 1.2 and will be removed in 1.4. `sparse_output` is ignored unless you leave `sparse` to its default value.\n",
            "  warnings.warn(\n"
          ]
        }
      ]
    },
    {
      "cell_type": "code",
      "source": [
        "representation_tr = np.hstack((X_tr, onehot_tr))\n",
        "representation_test = np.hstack((X_test,onehot_test))"
      ],
      "metadata": {
        "id": "e9K8V7Ol-Hwp"
      },
      "execution_count": null,
      "outputs": []
    },
    {
      "cell_type": "code",
      "source": [
        "smiles_tr.shape"
      ],
      "metadata": {
        "id": "Uokicr4u-38S",
        "outputId": "057004b0-0207-42fc-a977-044e868ba988",
        "colab": {
          "base_uri": "https://localhost:8080/"
        }
      },
      "execution_count": null,
      "outputs": [
        {
          "output_type": "execute_result",
          "data": {
            "text/plain": [
              "(250,)"
            ]
          },
          "metadata": {},
          "execution_count": 11
        }
      ]
    },
    {
      "cell_type": "markdown",
      "source": [
        "# scoring reg log"
      ],
      "metadata": {
        "id": "iIGeQFhu-K7w"
      }
    },
    {
      "cell_type": "code",
      "source": [
        "accuracy_log,conf_matrix_log,class_report_log,y_pred_log,target_test_log = scoring(y_tr,y_test,representation_tr,representation_test,0,'LogReg')"
      ],
      "metadata": {
        "colab": {
          "base_uri": "https://localhost:8080/"
        },
        "id": "mny3z5tu-L5Z",
        "outputId": "73326e2b-3780-4454-ddc6-28108f1a7cec"
      },
      "execution_count": null,
      "outputs": [
        {
          "output_type": "stream",
          "name": "stdout",
          "text": [
            "Accuracy: 0.7903225806451613\n",
            "Confusion Matrix:\n",
            "[[16  5]\n",
            " [ 8 33]]\n",
            "Classification Report:\n",
            "              precision    recall  f1-score   support\n",
            "\n",
            "           0       0.67      0.76      0.71        21\n",
            "           1       0.87      0.80      0.84        41\n",
            "\n",
            "    accuracy                           0.79        62\n",
            "   macro avg       0.77      0.78      0.77        62\n",
            "weighted avg       0.80      0.79      0.79        62\n",
            "\n"
          ]
        }
      ]
    },
    {
      "cell_type": "markdown",
      "source": [
        "# scoring decision tree"
      ],
      "metadata": {
        "id": "5UrqA0y4-N4q"
      }
    },
    {
      "cell_type": "code",
      "source": [
        "accuracy_tree,conf_matrix_tree,class_report_tree,y_pred_tree,target_test_tree = scoring(y_tr,y_test,representation_tr,representation_test,0,'DecisionTree')"
      ],
      "metadata": {
        "colab": {
          "base_uri": "https://localhost:8080/"
        },
        "id": "V4s_yEOR-Max",
        "outputId": "4d8fea38-9849-4cf2-bc0d-bf2ed24d23ec"
      },
      "execution_count": null,
      "outputs": [
        {
          "output_type": "stream",
          "name": "stdout",
          "text": [
            "Accuracy: 0.8387096774193549\n",
            "Confusion Matrix:\n",
            "[[15  6]\n",
            " [ 4 37]]\n",
            "Classification Report:\n",
            "              precision    recall  f1-score   support\n",
            "\n",
            "           0       0.79      0.71      0.75        21\n",
            "           1       0.86      0.90      0.88        41\n",
            "\n",
            "    accuracy                           0.84        62\n",
            "   macro avg       0.82      0.81      0.82        62\n",
            "weighted avg       0.84      0.84      0.84        62\n",
            "\n"
          ]
        }
      ]
    },
    {
      "cell_type": "code",
      "source": [
        "accuracy_rf,conf_matrix_rf,class_report_rf,y_pred_rf,target_test_rf = scoring(y_tr,y_test,X_tr,X_test,0,\"RandomF\")"
      ],
      "metadata": {
        "colab": {
          "base_uri": "https://localhost:8080/"
        },
        "id": "dLFTywEc-fiI",
        "outputId": "cf39cc57-f6d9-42b7-bdfc-d2309755cb9a"
      },
      "execution_count": null,
      "outputs": [
        {
          "output_type": "stream",
          "name": "stdout",
          "text": [
            "Accuracy: 0.8709677419354839\n",
            "Confusion Matrix:\n",
            "[[15  6]\n",
            " [ 2 39]]\n",
            "Classification Report:\n",
            "              precision    recall  f1-score   support\n",
            "\n",
            "           0       0.88      0.71      0.79        21\n",
            "           1       0.87      0.95      0.91        41\n",
            "\n",
            "    accuracy                           0.87        62\n",
            "   macro avg       0.87      0.83      0.85        62\n",
            "weighted avg       0.87      0.87      0.87        62\n",
            "\n"
          ]
        }
      ]
    },
    {
      "cell_type": "markdown",
      "source": [
        "# scoring svm"
      ],
      "metadata": {
        "id": "i0swx4wu-jdL"
      }
    },
    {
      "cell_type": "code",
      "source": [
        "accuracy_svm,conf_matrix_svm,class_report_svm,y_pred_svm,target_test_svm = scoring(y_tr,y_test,X_tr,X_test,0,\"SVM\")"
      ],
      "metadata": {
        "colab": {
          "base_uri": "https://localhost:8080/"
        },
        "id": "ZPxiExVE-Q7J",
        "outputId": "b361bd97-1751-4261-b593-9e8c49025dd7"
      },
      "execution_count": null,
      "outputs": [
        {
          "output_type": "stream",
          "name": "stdout",
          "text": [
            "Accuracy: 0.8387096774193549\n",
            "Confusion Matrix:\n",
            "[[12  9]\n",
            " [ 1 40]]\n",
            "Classification Report:\n",
            "              precision    recall  f1-score   support\n",
            "\n",
            "           0       0.92      0.57      0.71        21\n",
            "           1       0.82      0.98      0.89        41\n",
            "\n",
            "    accuracy                           0.84        62\n",
            "   macro avg       0.87      0.77      0.80        62\n",
            "weighted avg       0.85      0.84      0.83        62\n",
            "\n"
          ]
        }
      ]
    },
    {
      "cell_type": "code",
      "source": [],
      "metadata": {
        "id": "vHyx0LIm-lAc"
      },
      "execution_count": null,
      "outputs": []
    }
  ]
}