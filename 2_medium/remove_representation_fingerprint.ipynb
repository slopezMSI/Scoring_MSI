{
  "nbformat": 4,
  "nbformat_minor": 0,
  "metadata": {
    "colab": {
      "provenance": [],
      "authorship_tag": "ABX9TyPVtAY2lOWqwFWbIRISUmbR"
    },
    "kernelspec": {
      "name": "python3",
      "display_name": "Python 3"
    },
    "language_info": {
      "name": "python"
    }
  },
  "cells": [
    {
      "cell_type": "code",
      "execution_count": 1,
      "metadata": {
        "colab": {
          "base_uri": "https://localhost:8080/"
        },
        "id": "siq18JraExqF",
        "outputId": "42c9da80-5cec-4727-9966-9b8f68c90f8e"
      },
      "outputs": [
        {
          "output_type": "stream",
          "name": "stdout",
          "text": [
            "Drive already mounted at /content/drive; to attempt to forcibly remount, call drive.mount(\"/content/drive\", force_remount=True).\n",
            "Requirement already satisfied: deepchem in /usr/local/lib/python3.10/dist-packages (2.8.0)\n",
            "Requirement already satisfied: rdkit in /usr/local/lib/python3.10/dist-packages (2024.3.5)\n",
            "Requirement already satisfied: matplotlib in /usr/local/lib/python3.10/dist-packages (3.7.1)\n",
            "Requirement already satisfied: networkx in /usr/local/lib/python3.10/dist-packages (3.3)\n",
            "Requirement already satisfied: joblib in /usr/local/lib/python3.10/dist-packages (from deepchem) (1.4.2)\n",
            "Requirement already satisfied: numpy>=1.21 in /usr/local/lib/python3.10/dist-packages (from deepchem) (1.26.4)\n",
            "Requirement already satisfied: pandas in /usr/local/lib/python3.10/dist-packages (from deepchem) (2.1.4)\n",
            "Requirement already satisfied: scikit-learn in /usr/local/lib/python3.10/dist-packages (from deepchem) (1.3.2)\n",
            "Requirement already satisfied: sympy in /usr/local/lib/python3.10/dist-packages (from deepchem) (1.13.2)\n",
            "Requirement already satisfied: scipy>=1.10.1 in /usr/local/lib/python3.10/dist-packages (from deepchem) (1.13.1)\n",
            "Requirement already satisfied: Pillow in /usr/local/lib/python3.10/dist-packages (from rdkit) (10.4.0)\n",
            "Requirement already satisfied: contourpy>=1.0.1 in /usr/local/lib/python3.10/dist-packages (from matplotlib) (1.3.0)\n",
            "Requirement already satisfied: cycler>=0.10 in /usr/local/lib/python3.10/dist-packages (from matplotlib) (0.12.1)\n",
            "Requirement already satisfied: fonttools>=4.22.0 in /usr/local/lib/python3.10/dist-packages (from matplotlib) (4.53.1)\n",
            "Requirement already satisfied: kiwisolver>=1.0.1 in /usr/local/lib/python3.10/dist-packages (from matplotlib) (1.4.7)\n",
            "Requirement already satisfied: packaging>=20.0 in /usr/local/lib/python3.10/dist-packages (from matplotlib) (24.1)\n",
            "Requirement already satisfied: pyparsing>=2.3.1 in /usr/local/lib/python3.10/dist-packages (from matplotlib) (3.1.4)\n",
            "Requirement already satisfied: python-dateutil>=2.7 in /usr/local/lib/python3.10/dist-packages (from matplotlib) (2.8.2)\n",
            "Requirement already satisfied: six>=1.5 in /usr/local/lib/python3.10/dist-packages (from python-dateutil>=2.7->matplotlib) (1.16.0)\n",
            "Requirement already satisfied: pytz>=2020.1 in /usr/local/lib/python3.10/dist-packages (from pandas->deepchem) (2024.2)\n",
            "Requirement already satisfied: tzdata>=2022.1 in /usr/local/lib/python3.10/dist-packages (from pandas->deepchem) (2024.1)\n",
            "Requirement already satisfied: threadpoolctl>=2.0.0 in /usr/local/lib/python3.10/dist-packages (from scikit-learn->deepchem) (3.5.0)\n",
            "Requirement already satisfied: mpmath<1.4,>=1.1.0 in /usr/local/lib/python3.10/dist-packages (from sympy->deepchem) (1.3.0)\n"
          ]
        },
        {
          "output_type": "stream",
          "name": "stderr",
          "text": [
            "WARNING:deepchem.feat.molecule_featurizers.rdkit_descriptors:No normalization for SPS. Feature removed!\n",
            "WARNING:deepchem.feat.molecule_featurizers.rdkit_descriptors:No normalization for AvgIpc. Feature removed!\n",
            "WARNING:tensorflow:From /usr/local/lib/python3.10/dist-packages/tensorflow/python/util/deprecation.py:588: calling function (from tensorflow.python.eager.polymorphic_function.polymorphic_function) with experimental_relax_shapes is deprecated and will be removed in a future version.\n",
            "Instructions for updating:\n",
            "experimental_relax_shapes is deprecated, use reduce_retracing instead\n",
            "WARNING:deepchem.models.torch_models:Skipped loading modules with pytorch-geometric dependency, missing a dependency. No module named 'torch_geometric'\n",
            "WARNING:deepchem.models:Skipped loading modules with pytorch-geometric dependency, missing a dependency. cannot import name 'DMPNN' from 'deepchem.models.torch_models' (/usr/local/lib/python3.10/dist-packages/deepchem/models/torch_models/__init__.py)\n",
            "WARNING:deepchem.models:Skipped loading modules with pytorch-lightning dependency, missing a dependency. No module named 'lightning'\n",
            "WARNING:deepchem.models:Skipped loading some Jax models, missing a dependency. No module named 'haiku'\n"
          ]
        }
      ],
      "source": [
        "'''from google.colab import drive\n",
        "drive.mount('/content/drive')\n",
        "!pip install deepchem rdkit matplotlib networkx'''\n",
        "\n",
        "import deepchem as dc\n",
        "from rdkit import Chem\n",
        "from rdkit.Chem import Draw\n",
        "import matplotlib.pyplot as plt\n",
        "import networkx as nx\n",
        "from sklearn.svm import SVR\n",
        "from sklearn.model_selection import train_test_split\n",
        "from sklearn.preprocessing import StandardScaler\n",
        "from deepchem.feat import MolGraphConvFeaturizer\n",
        "from deepchem.feat import CircularFingerprint\n",
        "from sklearn.model_selection import GridSearchCV\n",
        "from sklearn.svm import SVR\n",
        "import pandas as pd\n",
        "import numpy as np\n",
        "from sklearn.model_selection import StratifiedKFold\n",
        "from deepchem.feat import ConvMolFeaturizer\n",
        "from rdkit import Chem\n",
        "from rdkit.Chem import AllChem\n",
        "from rdkit.Chem import Descriptors\n",
        "import deepchem as dc\n",
        "from methods_fingerprints import *\n",
        "#from drive.MyDrive.code.methods import *\n",
        "#from drive.MyDrive.code.methods_fingerprints import *"
      ]
    },
    {
      "cell_type": "code",
      "source": [
        "smiles_tr,smiles_test, logSweeter_tr, logSweeter_test, families_tr, families_test = load_data_remove(\"../data/SweetnersDB.xlsx\")"
      ],
      "metadata": {
        "id": "ctWBN0QPE3VA",
        "colab": {
          "base_uri": "https://localhost:8080/"
        },
        "outputId": "7e1c37f6-6375-4143-990b-0febbda639a2"
      },
      "execution_count": 2,
      "outputs": [
        {
          "output_type": "stream",
          "name": "stdout",
          "text": [
            "Index(['Name', 'logSw', 'Chemical family', 'Dataset', 'Smiles'], dtype='object')\n"
          ]
        }
      ]
    },
    {
      "cell_type": "code",
      "source": [
        "smiles_tr"
      ],
      "metadata": {
        "id": "6NCDKaCxDxF1"
      },
      "execution_count": null,
      "outputs": []
    },
    {
      "cell_type": "code",
      "source": [
        "smiles_tr.shape"
      ],
      "metadata": {
        "colab": {
          "base_uri": "https://localhost:8080/"
        },
        "id": "D-8N60hfGtQd",
        "outputId": "6bdbeac5-1345-4a1b-fd80-49881fe9ac99"
      },
      "execution_count": null,
      "outputs": [
        {
          "output_type": "execute_result",
          "data": {
            "text/plain": [
              "(250,)"
            ]
          },
          "metadata": {},
          "execution_count": 3
        }
      ]
    },
    {
      "cell_type": "code",
      "source": [
        "X_tr,X_test,scaler_X = prepare_fingerprint(smiles_tr,smiles_test)\n",
        "y_tr,y_test,scaler_y = prepare_targets(logSweeter_tr,logSweeter_test)\n"
      ],
      "metadata": {
        "colab": {
          "base_uri": "https://localhost:8080/"
        },
        "id": "NvK9_gIOHxDP",
        "outputId": "84efbee2-e66c-40a7-af63-a2c9bbc0d3f8"
      },
      "execution_count": 3,
      "outputs": [
        {
          "output_type": "stream",
          "name": "stderr",
          "text": [
            "[15:00:00] DEPRECATION WARNING: please use MorganGenerator\n",
            "[15:00:00] DEPRECATION WARNING: please use MorganGenerator\n",
            "[15:00:00] DEPRECATION WARNING: please use MorganGenerator\n",
            "[15:00:00] DEPRECATION WARNING: please use MorganGenerator\n",
            "[15:00:00] DEPRECATION WARNING: please use MorganGenerator\n",
            "[15:00:00] DEPRECATION WARNING: please use MorganGenerator\n",
            "[15:00:00] DEPRECATION WARNING: please use MorganGenerator\n",
            "[15:00:00] DEPRECATION WARNING: please use MorganGenerator\n",
            "[15:00:00] DEPRECATION WARNING: please use MorganGenerator\n",
            "[15:00:00] DEPRECATION WARNING: please use MorganGenerator\n",
            "[15:00:00] DEPRECATION WARNING: please use MorganGenerator\n",
            "[15:00:00] DEPRECATION WARNING: please use MorganGenerator\n",
            "[15:00:00] DEPRECATION WARNING: please use MorganGenerator\n",
            "[15:00:00] DEPRECATION WARNING: please use MorganGenerator\n",
            "[15:00:00] DEPRECATION WARNING: please use MorganGenerator\n",
            "[15:00:00] DEPRECATION WARNING: please use MorganGenerator\n",
            "[15:00:00] DEPRECATION WARNING: please use MorganGenerator\n",
            "[15:00:00] DEPRECATION WARNING: please use MorganGenerator\n",
            "[15:00:00] DEPRECATION WARNING: please use MorganGenerator\n",
            "[15:00:00] DEPRECATION WARNING: please use MorganGenerator\n",
            "[15:00:00] DEPRECATION WARNING: please use MorganGenerator\n",
            "[15:00:00] DEPRECATION WARNING: please use MorganGenerator\n",
            "[15:00:00] DEPRECATION WARNING: please use MorganGenerator\n",
            "[15:00:00] DEPRECATION WARNING: please use MorganGenerator\n",
            "[15:00:00] DEPRECATION WARNING: please use MorganGenerator\n",
            "[15:00:00] DEPRECATION WARNING: please use MorganGenerator\n",
            "[15:00:00] DEPRECATION WARNING: please use MorganGenerator\n",
            "[15:00:00] DEPRECATION WARNING: please use MorganGenerator\n",
            "[15:00:00] DEPRECATION WARNING: please use MorganGenerator\n",
            "[15:00:00] DEPRECATION WARNING: please use MorganGenerator\n",
            "[15:00:00] DEPRECATION WARNING: please use MorganGenerator\n",
            "[15:00:00] DEPRECATION WARNING: please use MorganGenerator\n",
            "[15:00:00] DEPRECATION WARNING: please use MorganGenerator\n",
            "[15:00:00] DEPRECATION WARNING: please use MorganGenerator\n",
            "[15:00:00] DEPRECATION WARNING: please use MorganGenerator\n",
            "[15:00:00] DEPRECATION WARNING: please use MorganGenerator\n",
            "[15:00:00] DEPRECATION WARNING: please use MorganGenerator\n",
            "[15:00:00] DEPRECATION WARNING: please use MorganGenerator\n",
            "[15:00:00] DEPRECATION WARNING: please use MorganGenerator\n",
            "[15:00:00] DEPRECATION WARNING: please use MorganGenerator\n",
            "[15:00:00] DEPRECATION WARNING: please use MorganGenerator\n",
            "[15:00:00] DEPRECATION WARNING: please use MorganGenerator\n",
            "[15:00:00] DEPRECATION WARNING: please use MorganGenerator\n",
            "[15:00:00] DEPRECATION WARNING: please use MorganGenerator\n",
            "[15:00:00] DEPRECATION WARNING: please use MorganGenerator\n",
            "[15:00:00] DEPRECATION WARNING: please use MorganGenerator\n",
            "[15:00:00] DEPRECATION WARNING: please use MorganGenerator\n",
            "[15:00:00] DEPRECATION WARNING: please use MorganGenerator\n",
            "[15:00:00] DEPRECATION WARNING: please use MorganGenerator\n",
            "[15:00:00] DEPRECATION WARNING: please use MorganGenerator\n",
            "[15:00:00] DEPRECATION WARNING: please use MorganGenerator\n",
            "[15:00:00] DEPRECATION WARNING: please use MorganGenerator\n",
            "[15:00:00] DEPRECATION WARNING: please use MorganGenerator\n",
            "[15:00:00] DEPRECATION WARNING: please use MorganGenerator\n",
            "[15:00:00] DEPRECATION WARNING: please use MorganGenerator\n",
            "[15:00:00] DEPRECATION WARNING: please use MorganGenerator\n",
            "[15:00:00] DEPRECATION WARNING: please use MorganGenerator\n",
            "[15:00:00] DEPRECATION WARNING: please use MorganGenerator\n",
            "[15:00:00] DEPRECATION WARNING: please use MorganGenerator\n",
            "[15:00:00] DEPRECATION WARNING: please use MorganGenerator\n",
            "[15:00:00] DEPRECATION WARNING: please use MorganGenerator\n",
            "[15:00:00] DEPRECATION WARNING: please use MorganGenerator\n",
            "[15:00:00] DEPRECATION WARNING: please use MorganGenerator\n",
            "[15:00:00] DEPRECATION WARNING: please use MorganGenerator\n",
            "[15:00:00] DEPRECATION WARNING: please use MorganGenerator\n",
            "[15:00:00] DEPRECATION WARNING: please use MorganGenerator\n",
            "[15:00:00] DEPRECATION WARNING: please use MorganGenerator\n",
            "[15:00:00] DEPRECATION WARNING: please use MorganGenerator\n",
            "[15:00:00] DEPRECATION WARNING: please use MorganGenerator\n",
            "[15:00:00] DEPRECATION WARNING: please use MorganGenerator\n",
            "[15:00:00] DEPRECATION WARNING: please use MorganGenerator\n",
            "[15:00:00] DEPRECATION WARNING: please use MorganGenerator\n",
            "[15:00:00] DEPRECATION WARNING: please use MorganGenerator\n",
            "[15:00:00] DEPRECATION WARNING: please use MorganGenerator\n",
            "[15:00:00] DEPRECATION WARNING: please use MorganGenerator\n",
            "[15:00:00] DEPRECATION WARNING: please use MorganGenerator\n",
            "[15:00:00] DEPRECATION WARNING: please use MorganGenerator\n",
            "[15:00:00] DEPRECATION WARNING: please use MorganGenerator\n",
            "[15:00:00] DEPRECATION WARNING: please use MorganGenerator\n",
            "[15:00:00] DEPRECATION WARNING: please use MorganGenerator\n",
            "[15:00:00] DEPRECATION WARNING: please use MorganGenerator\n",
            "[15:00:00] DEPRECATION WARNING: please use MorganGenerator\n",
            "[15:00:00] DEPRECATION WARNING: please use MorganGenerator\n",
            "[15:00:00] DEPRECATION WARNING: please use MorganGenerator\n",
            "[15:00:00] DEPRECATION WARNING: please use MorganGenerator\n",
            "[15:00:00] DEPRECATION WARNING: please use MorganGenerator\n",
            "[15:00:00] DEPRECATION WARNING: please use MorganGenerator\n",
            "[15:00:00] DEPRECATION WARNING: please use MorganGenerator\n",
            "[15:00:00] DEPRECATION WARNING: please use MorganGenerator\n",
            "[15:00:00] DEPRECATION WARNING: please use MorganGenerator\n",
            "[15:00:00] DEPRECATION WARNING: please use MorganGenerator\n",
            "[15:00:00] DEPRECATION WARNING: please use MorganGenerator\n",
            "[15:00:00] DEPRECATION WARNING: please use MorganGenerator\n",
            "[15:00:00] DEPRECATION WARNING: please use MorganGenerator\n",
            "[15:00:00] DEPRECATION WARNING: please use MorganGenerator\n",
            "[15:00:00] DEPRECATION WARNING: please use MorganGenerator\n",
            "[15:00:00] DEPRECATION WARNING: please use MorganGenerator\n",
            "[15:00:00] DEPRECATION WARNING: please use MorganGenerator\n",
            "[15:00:00] DEPRECATION WARNING: please use MorganGenerator\n",
            "[15:00:00] DEPRECATION WARNING: please use MorganGenerator\n",
            "[15:00:00] DEPRECATION WARNING: please use MorganGenerator\n",
            "[15:00:00] DEPRECATION WARNING: please use MorganGenerator\n",
            "[15:00:00] DEPRECATION WARNING: please use MorganGenerator\n",
            "[15:00:00] DEPRECATION WARNING: please use MorganGenerator\n",
            "[15:00:00] DEPRECATION WARNING: please use MorganGenerator\n",
            "[15:00:00] DEPRECATION WARNING: please use MorganGenerator\n",
            "[15:00:00] DEPRECATION WARNING: please use MorganGenerator\n",
            "[15:00:00] DEPRECATION WARNING: please use MorganGenerator\n",
            "[15:00:00] DEPRECATION WARNING: please use MorganGenerator\n",
            "[15:00:00] DEPRECATION WARNING: please use MorganGenerator\n",
            "[15:00:00] DEPRECATION WARNING: please use MorganGenerator\n",
            "[15:00:00] DEPRECATION WARNING: please use MorganGenerator\n",
            "[15:00:00] DEPRECATION WARNING: please use MorganGenerator\n",
            "[15:00:00] DEPRECATION WARNING: please use MorganGenerator\n",
            "[15:00:00] DEPRECATION WARNING: please use MorganGenerator\n",
            "[15:00:00] DEPRECATION WARNING: please use MorganGenerator\n",
            "[15:00:00] DEPRECATION WARNING: please use MorganGenerator\n",
            "[15:00:00] DEPRECATION WARNING: please use MorganGenerator\n",
            "[15:00:00] DEPRECATION WARNING: please use MorganGenerator\n",
            "[15:00:00] DEPRECATION WARNING: please use MorganGenerator\n",
            "[15:00:00] DEPRECATION WARNING: please use MorganGenerator\n",
            "[15:00:00] DEPRECATION WARNING: please use MorganGenerator\n",
            "[15:00:00] DEPRECATION WARNING: please use MorganGenerator\n",
            "[15:00:00] DEPRECATION WARNING: please use MorganGenerator\n",
            "[15:00:00] DEPRECATION WARNING: please use MorganGenerator\n",
            "[15:00:00] DEPRECATION WARNING: please use MorganGenerator\n",
            "[15:00:00] DEPRECATION WARNING: please use MorganGenerator\n",
            "[15:00:00] DEPRECATION WARNING: please use MorganGenerator\n",
            "[15:00:00] DEPRECATION WARNING: please use MorganGenerator\n",
            "[15:00:00] DEPRECATION WARNING: please use MorganGenerator\n",
            "[15:00:00] DEPRECATION WARNING: please use MorganGenerator\n",
            "[15:00:00] DEPRECATION WARNING: please use MorganGenerator\n",
            "[15:00:00] DEPRECATION WARNING: please use MorganGenerator\n",
            "[15:00:00] DEPRECATION WARNING: please use MorganGenerator\n",
            "[15:00:00] DEPRECATION WARNING: please use MorganGenerator\n",
            "[15:00:00] DEPRECATION WARNING: please use MorganGenerator\n",
            "[15:00:00] DEPRECATION WARNING: please use MorganGenerator\n",
            "[15:00:00] DEPRECATION WARNING: please use MorganGenerator\n",
            "[15:00:00] DEPRECATION WARNING: please use MorganGenerator\n",
            "[15:00:00] DEPRECATION WARNING: please use MorganGenerator\n",
            "[15:00:00] DEPRECATION WARNING: please use MorganGenerator\n",
            "[15:00:00] DEPRECATION WARNING: please use MorganGenerator\n",
            "[15:00:00] DEPRECATION WARNING: please use MorganGenerator\n",
            "[15:00:00] DEPRECATION WARNING: please use MorganGenerator\n",
            "[15:00:00] DEPRECATION WARNING: please use MorganGenerator\n",
            "[15:00:00] DEPRECATION WARNING: please use MorganGenerator\n",
            "[15:00:00] DEPRECATION WARNING: please use MorganGenerator\n",
            "[15:00:00] DEPRECATION WARNING: please use MorganGenerator\n",
            "[15:00:00] DEPRECATION WARNING: please use MorganGenerator\n",
            "[15:00:00] DEPRECATION WARNING: please use MorganGenerator\n",
            "[15:00:00] DEPRECATION WARNING: please use MorganGenerator\n",
            "[15:00:00] DEPRECATION WARNING: please use MorganGenerator\n",
            "[15:00:00] DEPRECATION WARNING: please use MorganGenerator\n",
            "[15:00:00] DEPRECATION WARNING: please use MorganGenerator\n",
            "[15:00:00] DEPRECATION WARNING: please use MorganGenerator\n",
            "[15:00:00] DEPRECATION WARNING: please use MorganGenerator\n",
            "[15:00:00] DEPRECATION WARNING: please use MorganGenerator\n",
            "[15:00:00] DEPRECATION WARNING: please use MorganGenerator\n",
            "[15:00:00] DEPRECATION WARNING: please use MorganGenerator\n",
            "[15:00:00] DEPRECATION WARNING: please use MorganGenerator\n",
            "[15:00:00] DEPRECATION WARNING: please use MorganGenerator\n",
            "[15:00:00] DEPRECATION WARNING: please use MorganGenerator\n",
            "[15:00:00] DEPRECATION WARNING: please use MorganGenerator\n",
            "[15:00:00] DEPRECATION WARNING: please use MorganGenerator\n",
            "[15:00:00] DEPRECATION WARNING: please use MorganGenerator\n",
            "[15:00:00] DEPRECATION WARNING: please use MorganGenerator\n",
            "[15:00:00] DEPRECATION WARNING: please use MorganGenerator\n",
            "[15:00:00] DEPRECATION WARNING: please use MorganGenerator\n",
            "[15:00:00] DEPRECATION WARNING: please use MorganGenerator\n",
            "[15:00:00] DEPRECATION WARNING: please use MorganGenerator\n",
            "[15:00:00] DEPRECATION WARNING: please use MorganGenerator\n",
            "[15:00:00] DEPRECATION WARNING: please use MorganGenerator\n",
            "[15:00:00] DEPRECATION WARNING: please use MorganGenerator\n",
            "[15:00:00] DEPRECATION WARNING: please use MorganGenerator\n",
            "[15:00:00] DEPRECATION WARNING: please use MorganGenerator\n",
            "[15:00:00] DEPRECATION WARNING: please use MorganGenerator\n",
            "[15:00:00] DEPRECATION WARNING: please use MorganGenerator\n",
            "[15:00:00] DEPRECATION WARNING: please use MorganGenerator\n",
            "[15:00:00] DEPRECATION WARNING: please use MorganGenerator\n",
            "[15:00:00] DEPRECATION WARNING: please use MorganGenerator\n",
            "[15:00:00] DEPRECATION WARNING: please use MorganGenerator\n",
            "[15:00:00] DEPRECATION WARNING: please use MorganGenerator\n",
            "[15:00:00] DEPRECATION WARNING: please use MorganGenerator\n",
            "[15:00:00] DEPRECATION WARNING: please use MorganGenerator\n",
            "[15:00:00] DEPRECATION WARNING: please use MorganGenerator\n",
            "[15:00:00] DEPRECATION WARNING: please use MorganGenerator\n",
            "[15:00:00] DEPRECATION WARNING: please use MorganGenerator\n",
            "[15:00:00] DEPRECATION WARNING: please use MorganGenerator\n",
            "[15:00:00] DEPRECATION WARNING: please use MorganGenerator\n",
            "[15:00:00] DEPRECATION WARNING: please use MorganGenerator\n",
            "[15:00:00] DEPRECATION WARNING: please use MorganGenerator\n",
            "[15:00:00] DEPRECATION WARNING: please use MorganGenerator\n",
            "[15:00:00] DEPRECATION WARNING: please use MorganGenerator\n",
            "[15:00:00] DEPRECATION WARNING: please use MorganGenerator\n",
            "[15:00:00] DEPRECATION WARNING: please use MorganGenerator\n",
            "[15:00:00] DEPRECATION WARNING: please use MorganGenerator\n",
            "[15:00:00] DEPRECATION WARNING: please use MorganGenerator\n",
            "[15:00:00] DEPRECATION WARNING: please use MorganGenerator\n",
            "[15:00:00] DEPRECATION WARNING: please use MorganGenerator\n",
            "[15:00:00] DEPRECATION WARNING: please use MorganGenerator\n",
            "[15:00:00] DEPRECATION WARNING: please use MorganGenerator\n",
            "[15:00:00] DEPRECATION WARNING: please use MorganGenerator\n",
            "[15:00:00] DEPRECATION WARNING: please use MorganGenerator\n",
            "[15:00:00] DEPRECATION WARNING: please use MorganGenerator\n",
            "[15:00:00] DEPRECATION WARNING: please use MorganGenerator\n",
            "[15:00:00] DEPRECATION WARNING: please use MorganGenerator\n",
            "[15:00:00] DEPRECATION WARNING: please use MorganGenerator\n",
            "[15:00:00] DEPRECATION WARNING: please use MorganGenerator\n",
            "[15:00:00] DEPRECATION WARNING: please use MorganGenerator\n",
            "[15:00:00] DEPRECATION WARNING: please use MorganGenerator\n",
            "[15:00:00] DEPRECATION WARNING: please use MorganGenerator\n",
            "[15:00:00] DEPRECATION WARNING: please use MorganGenerator\n",
            "[15:00:00] DEPRECATION WARNING: please use MorganGenerator\n",
            "[15:00:00] DEPRECATION WARNING: please use MorganGenerator\n",
            "[15:00:00] DEPRECATION WARNING: please use MorganGenerator\n",
            "[15:00:00] DEPRECATION WARNING: please use MorganGenerator\n",
            "[15:00:00] DEPRECATION WARNING: please use MorganGenerator\n",
            "[15:00:00] DEPRECATION WARNING: please use MorganGenerator\n",
            "[15:00:00] DEPRECATION WARNING: please use MorganGenerator\n",
            "[15:00:00] DEPRECATION WARNING: please use MorganGenerator\n",
            "[15:00:00] DEPRECATION WARNING: please use MorganGenerator\n",
            "[15:00:00] DEPRECATION WARNING: please use MorganGenerator\n",
            "[15:00:00] DEPRECATION WARNING: please use MorganGenerator\n",
            "[15:00:00] DEPRECATION WARNING: please use MorganGenerator\n",
            "[15:00:00] DEPRECATION WARNING: please use MorganGenerator\n",
            "[15:00:00] DEPRECATION WARNING: please use MorganGenerator\n",
            "[15:00:00] DEPRECATION WARNING: please use MorganGenerator\n",
            "[15:00:00] DEPRECATION WARNING: please use MorganGenerator\n",
            "[15:00:00] DEPRECATION WARNING: please use MorganGenerator\n",
            "[15:00:00] DEPRECATION WARNING: please use MorganGenerator\n",
            "[15:00:00] DEPRECATION WARNING: please use MorganGenerator\n",
            "[15:00:00] DEPRECATION WARNING: please use MorganGenerator\n",
            "[15:00:00] DEPRECATION WARNING: please use MorganGenerator\n",
            "[15:00:00] DEPRECATION WARNING: please use MorganGenerator\n",
            "[15:00:00] DEPRECATION WARNING: please use MorganGenerator\n",
            "[15:00:00] DEPRECATION WARNING: please use MorganGenerator\n",
            "[15:00:00] DEPRECATION WARNING: please use MorganGenerator\n",
            "[15:00:00] DEPRECATION WARNING: please use MorganGenerator\n",
            "[15:00:00] DEPRECATION WARNING: please use MorganGenerator\n",
            "[15:00:00] DEPRECATION WARNING: please use MorganGenerator\n",
            "[15:00:00] DEPRECATION WARNING: please use MorganGenerator\n",
            "[15:00:00] DEPRECATION WARNING: please use MorganGenerator\n",
            "[15:00:00] DEPRECATION WARNING: please use MorganGenerator\n",
            "[15:00:00] DEPRECATION WARNING: please use MorganGenerator\n",
            "[15:00:00] DEPRECATION WARNING: please use MorganGenerator\n",
            "[15:00:00] DEPRECATION WARNING: please use MorganGenerator\n",
            "[15:00:00] DEPRECATION WARNING: please use MorganGenerator\n",
            "[15:00:00] DEPRECATION WARNING: please use MorganGenerator\n",
            "[15:00:00] DEPRECATION WARNING: please use MorganGenerator\n",
            "[15:00:00] DEPRECATION WARNING: please use MorganGenerator\n",
            "[15:00:00] DEPRECATION WARNING: please use MorganGenerator\n",
            "[15:00:00] DEPRECATION WARNING: please use MorganGenerator\n",
            "[15:00:00] DEPRECATION WARNING: please use MorganGenerator\n",
            "[15:00:00] DEPRECATION WARNING: please use MorganGenerator\n",
            "[15:00:00] DEPRECATION WARNING: please use MorganGenerator\n",
            "[15:00:00] DEPRECATION WARNING: please use MorganGenerator\n",
            "[15:00:00] DEPRECATION WARNING: please use MorganGenerator\n",
            "[15:00:00] DEPRECATION WARNING: please use MorganGenerator\n",
            "[15:00:00] DEPRECATION WARNING: please use MorganGenerator\n",
            "[15:00:00] DEPRECATION WARNING: please use MorganGenerator\n",
            "[15:00:00] DEPRECATION WARNING: please use MorganGenerator\n",
            "[15:00:00] DEPRECATION WARNING: please use MorganGenerator\n",
            "[15:00:00] DEPRECATION WARNING: please use MorganGenerator\n",
            "[15:00:00] DEPRECATION WARNING: please use MorganGenerator\n",
            "[15:00:00] DEPRECATION WARNING: please use MorganGenerator\n",
            "[15:00:00] DEPRECATION WARNING: please use MorganGenerator\n",
            "[15:00:00] DEPRECATION WARNING: please use MorganGenerator\n",
            "[15:00:00] DEPRECATION WARNING: please use MorganGenerator\n",
            "[15:00:00] DEPRECATION WARNING: please use MorganGenerator\n",
            "[15:00:00] DEPRECATION WARNING: please use MorganGenerator\n",
            "[15:00:01] DEPRECATION WARNING: please use MorganGenerator\n",
            "[15:00:01] DEPRECATION WARNING: please use MorganGenerator\n",
            "[15:00:01] DEPRECATION WARNING: please use MorganGenerator\n",
            "[15:00:01] DEPRECATION WARNING: please use MorganGenerator\n",
            "[15:00:01] DEPRECATION WARNING: please use MorganGenerator\n",
            "[15:00:01] DEPRECATION WARNING: please use MorganGenerator\n",
            "[15:00:01] DEPRECATION WARNING: please use MorganGenerator\n",
            "[15:00:01] DEPRECATION WARNING: please use MorganGenerator\n",
            "[15:00:01] DEPRECATION WARNING: please use MorganGenerator\n",
            "[15:00:01] DEPRECATION WARNING: please use MorganGenerator\n",
            "[15:00:01] DEPRECATION WARNING: please use MorganGenerator\n",
            "[15:00:01] DEPRECATION WARNING: please use MorganGenerator\n",
            "[15:00:01] DEPRECATION WARNING: please use MorganGenerator\n",
            "[15:00:01] DEPRECATION WARNING: please use MorganGenerator\n",
            "[15:00:01] DEPRECATION WARNING: please use MorganGenerator\n",
            "[15:00:01] DEPRECATION WARNING: please use MorganGenerator\n",
            "[15:00:01] DEPRECATION WARNING: please use MorganGenerator\n",
            "[15:00:01] DEPRECATION WARNING: please use MorganGenerator\n",
            "[15:00:01] DEPRECATION WARNING: please use MorganGenerator\n",
            "[15:00:01] DEPRECATION WARNING: please use MorganGenerator\n",
            "[15:00:01] DEPRECATION WARNING: please use MorganGenerator\n",
            "[15:00:01] DEPRECATION WARNING: please use MorganGenerator\n",
            "[15:00:01] DEPRECATION WARNING: please use MorganGenerator\n",
            "[15:00:01] DEPRECATION WARNING: please use MorganGenerator\n",
            "[15:00:01] DEPRECATION WARNING: please use MorganGenerator\n",
            "[15:00:01] DEPRECATION WARNING: please use MorganGenerator\n",
            "[15:00:01] DEPRECATION WARNING: please use MorganGenerator\n",
            "[15:00:01] DEPRECATION WARNING: please use MorganGenerator\n",
            "[15:00:01] DEPRECATION WARNING: please use MorganGenerator\n",
            "[15:00:01] DEPRECATION WARNING: please use MorganGenerator\n",
            "[15:00:01] DEPRECATION WARNING: please use MorganGenerator\n",
            "[15:00:01] DEPRECATION WARNING: please use MorganGenerator\n",
            "[15:00:01] DEPRECATION WARNING: please use MorganGenerator\n",
            "[15:00:01] DEPRECATION WARNING: please use MorganGenerator\n",
            "[15:00:01] DEPRECATION WARNING: please use MorganGenerator\n",
            "[15:00:01] DEPRECATION WARNING: please use MorganGenerator\n",
            "[15:00:01] DEPRECATION WARNING: please use MorganGenerator\n",
            "[15:00:01] DEPRECATION WARNING: please use MorganGenerator\n",
            "[15:00:01] DEPRECATION WARNING: please use MorganGenerator\n",
            "[15:00:01] DEPRECATION WARNING: please use MorganGenerator\n",
            "[15:00:01] DEPRECATION WARNING: please use MorganGenerator\n",
            "[15:00:01] DEPRECATION WARNING: please use MorganGenerator\n"
          ]
        }
      ]
    },
    {
      "cell_type": "markdown",
      "source": [
        "# scoring reg log\n"
      ],
      "metadata": {
        "id": "xGCPCVmv0iHq"
      }
    },
    {
      "cell_type": "code",
      "source": [
        "accuracy_log,conf_matrix_log,class_report_log,y_pred_log,target_test_log = scoring(y_tr,y_test,X_tr,X_test,0,\"LogReg\")"
      ],
      "metadata": {
        "colab": {
          "base_uri": "https://localhost:8080/"
        },
        "id": "bNEYnvwS0nJg",
        "outputId": "cf8e1fe2-a6f9-4b18-dc12-1b0e4142f7b3"
      },
      "execution_count": 4,
      "outputs": [
        {
          "output_type": "stream",
          "name": "stdout",
          "text": [
            "Accuracy: 0.7903225806451613\n",
            "Confusion Matrix:\n",
            "[[16  5]\n",
            " [ 8 33]]\n",
            "Classification Report:\n",
            "              precision    recall  f1-score   support\n",
            "\n",
            "           0       0.67      0.76      0.71        21\n",
            "           1       0.87      0.80      0.84        41\n",
            "\n",
            "    accuracy                           0.79        62\n",
            "   macro avg       0.77      0.78      0.77        62\n",
            "weighted avg       0.80      0.79      0.79        62\n",
            "\n"
          ]
        }
      ]
    },
    {
      "cell_type": "markdown",
      "source": [
        "# scoring decision tree"
      ],
      "metadata": {
        "id": "6OXZb3tQ0-6Y"
      }
    },
    {
      "cell_type": "code",
      "source": [
        "accuracy_tree,conf_matrix_tree,class_report_tree,y_pred_tree,target_test_tree = scoring(y_tr,y_test,X_tr,X_test,0,\"DecisionTree\")"
      ],
      "metadata": {
        "colab": {
          "base_uri": "https://localhost:8080/"
        },
        "id": "C88NfRom0-ZN",
        "outputId": "aee2fcba-6765-4024-9ee0-24be3c52e4ad"
      },
      "execution_count": 5,
      "outputs": [
        {
          "output_type": "stream",
          "name": "stdout",
          "text": [
            "Accuracy: 0.8064516129032258\n",
            "Confusion Matrix:\n",
            "[[14  7]\n",
            " [ 5 36]]\n",
            "Classification Report:\n",
            "              precision    recall  f1-score   support\n",
            "\n",
            "           0       0.74      0.67      0.70        21\n",
            "           1       0.84      0.88      0.86        41\n",
            "\n",
            "    accuracy                           0.81        62\n",
            "   macro avg       0.79      0.77      0.78        62\n",
            "weighted avg       0.80      0.81      0.80        62\n",
            "\n"
          ]
        }
      ]
    },
    {
      "cell_type": "markdown",
      "source": [
        "# scoring random forest"
      ],
      "metadata": {
        "id": "XvK2ylJb1NTV"
      }
    },
    {
      "cell_type": "code",
      "source": [
        "accuracy_rf,conf_matrix_rf,class_report_rf,y_pred_rf,target_test_rf = scoring(y_tr,y_test,X_tr,X_test,0,\"RandomF\")"
      ],
      "metadata": {
        "colab": {
          "base_uri": "https://localhost:8080/"
        },
        "id": "8tdiqXGJ1Pg-",
        "outputId": "0d344189-90a7-42d5-981c-da15450383f3"
      },
      "execution_count": 6,
      "outputs": [
        {
          "output_type": "stream",
          "name": "stdout",
          "text": [
            "Accuracy: 0.8709677419354839\n",
            "Confusion Matrix:\n",
            "[[15  6]\n",
            " [ 2 39]]\n",
            "Classification Report:\n",
            "              precision    recall  f1-score   support\n",
            "\n",
            "           0       0.88      0.71      0.79        21\n",
            "           1       0.87      0.95      0.91        41\n",
            "\n",
            "    accuracy                           0.87        62\n",
            "   macro avg       0.87      0.83      0.85        62\n",
            "weighted avg       0.87      0.87      0.87        62\n",
            "\n"
          ]
        }
      ]
    },
    {
      "cell_type": "markdown",
      "source": [
        "# scoring svm"
      ],
      "metadata": {
        "id": "kIoWurjp2jf3"
      }
    },
    {
      "cell_type": "code",
      "source": [
        "accuracy_svm,conf_matrix_svm,class_report_svm,y_pred_svm,target_test_svm = scoring(y_tr,y_test,X_tr,X_test,0,\"SVM\")"
      ],
      "metadata": {
        "colab": {
          "base_uri": "https://localhost:8080/"
        },
        "id": "YcUm5mIu2i2F",
        "outputId": "14f11170-a349-47e4-fd69-ee93980315af"
      },
      "execution_count": 4,
      "outputs": [
        {
          "output_type": "stream",
          "name": "stdout",
          "text": [
            "Accuracy: 0.8387096774193549\n",
            "Confusion Matrix:\n",
            "[[12  9]\n",
            " [ 1 40]]\n",
            "Classification Report:\n",
            "              precision    recall  f1-score   support\n",
            "\n",
            "           0       0.92      0.57      0.71        21\n",
            "           1       0.82      0.98      0.89        41\n",
            "\n",
            "    accuracy                           0.84        62\n",
            "   macro avg       0.87      0.77      0.80        62\n",
            "weighted avg       0.85      0.84      0.83        62\n",
            "\n"
          ]
        }
      ]
    },
    {
      "cell_type": "markdown",
      "source": [
        "# regression"
      ],
      "metadata": {
        "id": "S7Eicn8Q0f1P"
      }
    },
    {
      "cell_type": "code",
      "source": [
        "# Créer et entraîner le modèle SVR\n",
        "svr = SVR(kernel='rbf', C=100, gamma='scale', epsilon=0.1)\n",
        "svr.fit(X_tr, y_tr)"
      ],
      "metadata": {
        "id": "e9uE0rUuH4uC"
      },
      "execution_count": null,
      "outputs": []
    },
    {
      "cell_type": "code",
      "source": [
        "# Évaluer le modèle\n",
        "score = svr.score(X_test, y_test)\n",
        "print(f\"Score R² du modèle: {score:.2f}\")"
      ],
      "metadata": {
        "colab": {
          "base_uri": "https://localhost:8080/"
        },
        "id": "6rR5T_kvH6cd",
        "outputId": "08d24d64-09bd-4732-b459-76ec6d04a2a0"
      },
      "execution_count": null,
      "outputs": [
        {
          "output_type": "stream",
          "name": "stdout",
          "text": [
            "Score R² du modèle: 0.57\n"
          ]
        }
      ]
    },
    {
      "cell_type": "code",
      "source": [
        "# Faire des prédictions\n",
        "y_pred_train = svr.predict(X_tr)\n",
        "y_pred_test = svr.predict(X_test)\n"
      ],
      "metadata": {
        "id": "E7q496RGH8T3"
      },
      "execution_count": null,
      "outputs": []
    },
    {
      "cell_type": "code",
      "source": [
        "# Inverser la normalisation pour obtenir les valeurs réelles\n",
        "y_pred_train = scaler_y.inverse_transform(y_pred_train.reshape(-1, 1)).ravel()\n",
        "y_pred_test = scaler_y.inverse_transform(y_pred_test.reshape(-1, 1)).ravel()\n",
        "y_train = scaler_y.inverse_transform(y_tr.reshape(-1, 1)).ravel()\n",
        "y_test = scaler_y.inverse_transform(y_test.reshape(-1, 1)).ravel()"
      ],
      "metadata": {
        "id": "EF5aACM2H981"
      },
      "execution_count": null,
      "outputs": []
    },
    {
      "cell_type": "code",
      "source": [
        "y = np.hstack((y_train,y_test))\n",
        "# Visualisation : Graphique de dispersion\n",
        "plt.figure(figsize=(10, 5))\n",
        "plt.subplot(1, 2, 1)\n",
        "plt.scatter(y_train, y_pred_train, alpha=0.5, label='Train')\n",
        "plt.scatter(y_test, y_pred_test, alpha=0.5, label='Test')\n",
        "plt.plot([y.min(), y.max()], [y.min(), y.max()], 'r--', lw=2)\n",
        "plt.xlabel('Valeurs réelles')\n",
        "plt.ylabel('Valeurs prédites')\n",
        "plt.title('Graphique de dispersion')\n",
        "plt.legend()"
      ],
      "metadata": {
        "colab": {
          "base_uri": "https://localhost:8080/",
          "height": 505
        },
        "id": "pByPMF9EH_t6",
        "outputId": "5674f1d5-4cb3-4461-b6a2-592059120773"
      },
      "execution_count": null,
      "outputs": [
        {
          "output_type": "execute_result",
          "data": {
            "text/plain": [
              "<matplotlib.legend.Legend at 0x7d60e9a5e800>"
            ]
          },
          "metadata": {},
          "execution_count": 9
        },
        {
          "output_type": "display_data",
          "data": {
            "text/plain": [
              "<Figure size 1000x500 with 1 Axes>"
            ],
            "image/png": "[encoded data removed]"
          },
          "metadata": {}
        }
      ]
    },
    {
      "cell_type": "code",
      "source": [],
      "metadata": {
        "id": "wjaefW-KH_wT"
      },
      "execution_count": null,
      "outputs": []
    },
    {
      "cell_type": "code",
      "source": [],
      "metadata": {
        "id": "53u3DpnZH4wz"
      },
      "execution_count": null,
      "outputs": []
    }
  ]
}