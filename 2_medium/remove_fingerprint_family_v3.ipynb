{
  "nbformat": 4,
  "nbformat_minor": 0,
  "metadata": {
    "colab": {
      "provenance": [],
      "authorship_tag": "ABX9TyNn99BXoKlaZZFVfl48JNW5"
    },
    "kernelspec": {
      "name": "python3",
      "display_name": "Python 3"
    },
    "language_info": {
      "name": "python"
    }
  },
  "cells": [
    {
      "cell_type": "code",
      "execution_count": 1,
      "metadata": {
        "colab": {
          "base_uri": "https://localhost:8080/"
        },
        "id": "OtYCSoCgAM4U",
        "outputId": "ed49c18c-d038-4586-b40a-eb82262998c4"
      },
      "outputs": [
        {
          "output_type": "stream",
          "name": "stdout",
          "text": [
            "Mounted at /content/drive\n",
            "Collecting deepchem\n",
            "  Downloading deepchem-2.8.0-py3-none-any.whl.metadata (2.0 kB)\n",
            "Collecting rdkit\n",
            "  Downloading rdkit-2024.3.5-cp310-cp310-manylinux_2_28_x86_64.whl.metadata (3.9 kB)\n",
            "Requirement already satisfied: matplotlib in /usr/local/lib/python3.10/dist-packages (3.7.1)\n",
            "Requirement already satisfied: networkx in /usr/local/lib/python3.10/dist-packages (3.3)\n",
            "Requirement already satisfied: joblib in /usr/local/lib/python3.10/dist-packages (from deepchem) (1.4.2)\n",
            "Requirement already satisfied: numpy>=1.21 in /usr/local/lib/python3.10/dist-packages (from deepchem) (1.26.4)\n",
            "Requirement already satisfied: pandas in /usr/local/lib/python3.10/dist-packages (from deepchem) (2.1.4)\n",
            "Requirement already satisfied: scikit-learn in /usr/local/lib/python3.10/dist-packages (from deepchem) (1.3.2)\n",
            "Requirement already satisfied: sympy in /usr/local/lib/python3.10/dist-packages (from deepchem) (1.13.2)\n",
            "Requirement already satisfied: scipy>=1.10.1 in /usr/local/lib/python3.10/dist-packages (from deepchem) (1.13.1)\n",
            "Requirement already satisfied: Pillow in /usr/local/lib/python3.10/dist-packages (from rdkit) (10.4.0)\n",
            "Requirement already satisfied: contourpy>=1.0.1 in /usr/local/lib/python3.10/dist-packages (from matplotlib) (1.3.0)\n",
            "Requirement already satisfied: cycler>=0.10 in /usr/local/lib/python3.10/dist-packages (from matplotlib) (0.12.1)\n",
            "Requirement already satisfied: fonttools>=4.22.0 in /usr/local/lib/python3.10/dist-packages (from matplotlib) (4.53.1)\n",
            "Requirement already satisfied: kiwisolver>=1.0.1 in /usr/local/lib/python3.10/dist-packages (from matplotlib) (1.4.7)\n",
            "Requirement already satisfied: packaging>=20.0 in /usr/local/lib/python3.10/dist-packages (from matplotlib) (24.1)\n",
            "Requirement already satisfied: pyparsing>=2.3.1 in /usr/local/lib/python3.10/dist-packages (from matplotlib) (3.1.4)\n",
            "Requirement already satisfied: python-dateutil>=2.7 in /usr/local/lib/python3.10/dist-packages (from matplotlib) (2.8.2)\n",
            "Requirement already satisfied: six>=1.5 in /usr/local/lib/python3.10/dist-packages (from python-dateutil>=2.7->matplotlib) (1.16.0)\n",
            "Requirement already satisfied: pytz>=2020.1 in /usr/local/lib/python3.10/dist-packages (from pandas->deepchem) (2024.2)\n",
            "Requirement already satisfied: tzdata>=2022.1 in /usr/local/lib/python3.10/dist-packages (from pandas->deepchem) (2024.1)\n",
            "Requirement already satisfied: threadpoolctl>=2.0.0 in /usr/local/lib/python3.10/dist-packages (from scikit-learn->deepchem) (3.5.0)\n",
            "Requirement already satisfied: mpmath<1.4,>=1.1.0 in /usr/local/lib/python3.10/dist-packages (from sympy->deepchem) (1.3.0)\n",
            "Downloading deepchem-2.8.0-py3-none-any.whl (1.0 MB)\n",
            "\u001b[2K   \u001b[90m━━━━━━━━━━━━━━━━━━━━━━━━━━━━━━━━━━━━━━━━\u001b[0m \u001b[32m1.0/1.0 MB\u001b[0m \u001b[31m9.5 MB/s\u001b[0m eta \u001b[36m0:00:00\u001b[0m\n",
            "\u001b[?25hDownloading rdkit-2024.3.5-cp310-cp310-manylinux_2_28_x86_64.whl (33.1 MB)\n",
            "\u001b[2K   \u001b[90m━━━━━━━━━━━━━━━━━━━━━━━━━━━━━━━━━━━━━━━━\u001b[0m \u001b[32m33.1/33.1 MB\u001b[0m \u001b[31m35.9 MB/s\u001b[0m eta \u001b[36m0:00:00\u001b[0m\n",
            "\u001b[?25hInstalling collected packages: rdkit, deepchem\n",
            "Successfully installed deepchem-2.8.0 rdkit-2024.3.5\n"
          ]
        },
        {
          "output_type": "stream",
          "name": "stderr",
          "text": [
            "WARNING:deepchem.feat.molecule_featurizers.rdkit_descriptors:No normalization for SPS. Feature removed!\n",
            "WARNING:deepchem.feat.molecule_featurizers.rdkit_descriptors:No normalization for AvgIpc. Feature removed!\n",
            "WARNING:tensorflow:From /usr/local/lib/python3.10/dist-packages/tensorflow/python/util/deprecation.py:588: calling function (from tensorflow.python.eager.polymorphic_function.polymorphic_function) with experimental_relax_shapes is deprecated and will be removed in a future version.\n",
            "Instructions for updating:\n",
            "experimental_relax_shapes is deprecated, use reduce_retracing instead\n",
            "WARNING:deepchem.models.torch_models:Skipped loading modules with pytorch-geometric dependency, missing a dependency. No module named 'torch_geometric'\n",
            "WARNING:deepchem.models:Skipped loading modules with pytorch-geometric dependency, missing a dependency. cannot import name 'DMPNN' from 'deepchem.models.torch_models' (/usr/local/lib/python3.10/dist-packages/deepchem/models/torch_models/__init__.py)\n",
            "WARNING:deepchem.models:Skipped loading modules with pytorch-lightning dependency, missing a dependency. No module named 'lightning'\n",
            "WARNING:deepchem.models:Skipped loading some Jax models, missing a dependency. No module named 'haiku'\n"
          ]
        }
      ],
      "source": [
        "'''from google.colab import drive\n",
        "drive.mount('/content/drive')\n",
        "!pip install deepchem rdkit matplotlib networkx'''\n",
        "\n",
        "import deepchem as dc\n",
        "from rdkit import Chem\n",
        "from rdkit.Chem import Draw\n",
        "import matplotlib.pyplot as plt\n",
        "import networkx as nx\n",
        "from sklearn.svm import SVR\n",
        "from sklearn.model_selection import train_test_split\n",
        "from sklearn.preprocessing import StandardScaler\n",
        "from deepchem.feat import MolGraphConvFeaturizer\n",
        "from deepchem.feat import CircularFingerprint\n",
        "from sklearn.model_selection import GridSearchCV\n",
        "from sklearn.svm import SVR\n",
        "import pandas as pd\n",
        "import numpy as np\n",
        "from sklearn.model_selection import StratifiedKFold\n",
        "from deepchem.feat import ConvMolFeaturizer\n",
        "from rdkit import Chem\n",
        "from rdkit.Chem import AllChem\n",
        "from rdkit.Chem import Descriptors\n",
        "import deepchem as dc\n",
        "from methods_fingerprints import *\n",
        "#from drive.MyDrive.code.methods import *\n",
        "#from drive.MyDrive.code.methods_fingerprints import *"
      ]
    },
    {
      "cell_type": "code",
      "source": [
        "smiles_tr,smiles_test, logSweeter_tr, logSweeter_test, families_tr, families_test = load_data_remove(\"../data/SweetnersDB.xlsx\")#\"/content/drive/MyDrive/code/SweetnersDB.xlsx\")\n",
        "X_tr,X_test,scaler_X = prepare_fingerprint(smiles_tr,smiles_test)\n",
        "y_tr,y_test,scaler_y = prepare_targets(logSweeter_tr,logSweeter_test)"
      ],
      "metadata": {
        "colab": {
          "base_uri": "https://localhost:8080/"
        },
        "id": "Kbi0vjHkAQz4",
        "outputId": "0d5eaa75-b348-476b-9eb0-f61e03aef38c"
      },
      "execution_count": 2,
      "outputs": [
        {
          "output_type": "stream",
          "name": "stdout",
          "text": [
            "Index(['Name', 'logSw', 'Chemical family', 'Dataset', 'Smiles'], dtype='object')\n"
          ]
        },
        {
          "output_type": "stream",
          "name": "stderr",
          "text": [
            "[15:18:44] DEPRECATION WARNING: please use MorganGenerator\n",
            "[15:18:44] DEPRECATION WARNING: please use MorganGenerator\n",
            "[15:18:44] DEPRECATION WARNING: please use MorganGenerator\n",
            "[15:18:44] DEPRECATION WARNING: please use MorganGenerator\n",
            "[15:18:44] DEPRECATION WARNING: please use MorganGenerator\n",
            "[15:18:44] DEPRECATION WARNING: please use MorganGenerator\n",
            "[15:18:44] DEPRECATION WARNING: please use MorganGenerator\n",
            "[15:18:44] DEPRECATION WARNING: please use MorganGenerator\n",
            "[15:18:44] DEPRECATION WARNING: please use MorganGenerator\n",
            "[15:18:44] DEPRECATION WARNING: please use MorganGenerator\n",
            "[15:18:44] DEPRECATION WARNING: please use MorganGenerator\n",
            "[15:18:44] DEPRECATION WARNING: please use MorganGenerator\n",
            "[15:18:44] DEPRECATION WARNING: please use MorganGenerator\n",
            "[15:18:44] DEPRECATION WARNING: please use MorganGenerator\n",
            "[15:18:44] DEPRECATION WARNING: please use MorganGenerator\n",
            "[15:18:44] DEPRECATION WARNING: please use MorganGenerator\n",
            "[15:18:44] DEPRECATION WARNING: please use MorganGenerator\n",
            "[15:18:44] DEPRECATION WARNING: please use MorganGenerator\n",
            "[15:18:44] DEPRECATION WARNING: please use MorganGenerator\n",
            "[15:18:44] DEPRECATION WARNING: please use MorganGenerator\n",
            "[15:18:44] DEPRECATION WARNING: please use MorganGenerator\n",
            "[15:18:44] DEPRECATION WARNING: please use MorganGenerator\n",
            "[15:18:44] DEPRECATION WARNING: please use MorganGenerator\n",
            "[15:18:44] DEPRECATION WARNING: please use MorganGenerator\n",
            "[15:18:44] DEPRECATION WARNING: please use MorganGenerator\n",
            "[15:18:44] DEPRECATION WARNING: please use MorganGenerator\n",
            "[15:18:44] DEPRECATION WARNING: please use MorganGenerator\n",
            "[15:18:44] DEPRECATION WARNING: please use MorganGenerator\n",
            "[15:18:44] DEPRECATION WARNING: please use MorganGenerator\n",
            "[15:18:44] DEPRECATION WARNING: please use MorganGenerator\n",
            "[15:18:44] DEPRECATION WARNING: please use MorganGenerator\n",
            "[15:18:44] DEPRECATION WARNING: please use MorganGenerator\n",
            "[15:18:44] DEPRECATION WARNING: please use MorganGenerator\n",
            "[15:18:44] DEPRECATION WARNING: please use MorganGenerator\n",
            "[15:18:44] DEPRECATION WARNING: please use MorganGenerator\n",
            "[15:18:44] DEPRECATION WARNING: please use MorganGenerator\n",
            "[15:18:44] DEPRECATION WARNING: please use MorganGenerator\n",
            "[15:18:44] DEPRECATION WARNING: please use MorganGenerator\n",
            "[15:18:44] DEPRECATION WARNING: please use MorganGenerator\n",
            "[15:18:44] DEPRECATION WARNING: please use MorganGenerator\n",
            "[15:18:44] DEPRECATION WARNING: please use MorganGenerator\n",
            "[15:18:44] DEPRECATION WARNING: please use MorganGenerator\n",
            "[15:18:44] DEPRECATION WARNING: please use MorganGenerator\n",
            "[15:18:44] DEPRECATION WARNING: please use MorganGenerator\n",
            "[15:18:44] DEPRECATION WARNING: please use MorganGenerator\n",
            "[15:18:44] DEPRECATION WARNING: please use MorganGenerator\n",
            "[15:18:44] DEPRECATION WARNING: please use MorganGenerator\n",
            "[15:18:44] DEPRECATION WARNING: please use MorganGenerator\n",
            "[15:18:44] DEPRECATION WARNING: please use MorganGenerator\n",
            "[15:18:44] DEPRECATION WARNING: please use MorganGenerator\n",
            "[15:18:44] DEPRECATION WARNING: please use MorganGenerator\n",
            "[15:18:44] DEPRECATION WARNING: please use MorganGenerator\n",
            "[15:18:44] DEPRECATION WARNING: please use MorganGenerator\n",
            "[15:18:44] DEPRECATION WARNING: please use MorganGenerator\n",
            "[15:18:44] DEPRECATION WARNING: please use MorganGenerator\n",
            "[15:18:44] DEPRECATION WARNING: please use MorganGenerator\n",
            "[15:18:44] DEPRECATION WARNING: please use MorganGenerator\n",
            "[15:18:44] DEPRECATION WARNING: please use MorganGenerator\n",
            "[15:18:44] DEPRECATION WARNING: please use MorganGenerator\n",
            "[15:18:44] DEPRECATION WARNING: please use MorganGenerator\n",
            "[15:18:44] DEPRECATION WARNING: please use MorganGenerator\n",
            "[15:18:44] DEPRECATION WARNING: please use MorganGenerator\n",
            "[15:18:44] DEPRECATION WARNING: please use MorganGenerator\n",
            "[15:18:44] DEPRECATION WARNING: please use MorganGenerator\n",
            "[15:18:44] DEPRECATION WARNING: please use MorganGenerator\n",
            "[15:18:44] DEPRECATION WARNING: please use MorganGenerator\n",
            "[15:18:44] DEPRECATION WARNING: please use MorganGenerator\n",
            "[15:18:44] DEPRECATION WARNING: please use MorganGenerator\n",
            "[15:18:44] DEPRECATION WARNING: please use MorganGenerator\n",
            "[15:18:44] DEPRECATION WARNING: please use MorganGenerator\n",
            "[15:18:44] DEPRECATION WARNING: please use MorganGenerator\n",
            "[15:18:44] DEPRECATION WARNING: please use MorganGenerator\n",
            "[15:18:44] DEPRECATION WARNING: please use MorganGenerator\n",
            "[15:18:44] DEPRECATION WARNING: please use MorganGenerator\n",
            "[15:18:44] DEPRECATION WARNING: please use MorganGenerator\n",
            "[15:18:44] DEPRECATION WARNING: please use MorganGenerator\n",
            "[15:18:44] DEPRECATION WARNING: please use MorganGenerator\n",
            "[15:18:44] DEPRECATION WARNING: please use MorganGenerator\n",
            "[15:18:44] DEPRECATION WARNING: please use MorganGenerator\n",
            "[15:18:44] DEPRECATION WARNING: please use MorganGenerator\n",
            "[15:18:44] DEPRECATION WARNING: please use MorganGenerator\n",
            "[15:18:44] DEPRECATION WARNING: please use MorganGenerator\n",
            "[15:18:44] DEPRECATION WARNING: please use MorganGenerator\n",
            "[15:18:44] DEPRECATION WARNING: please use MorganGenerator\n",
            "[15:18:44] DEPRECATION WARNING: please use MorganGenerator\n",
            "[15:18:44] DEPRECATION WARNING: please use MorganGenerator\n",
            "[15:18:44] DEPRECATION WARNING: please use MorganGenerator\n",
            "[15:18:44] DEPRECATION WARNING: please use MorganGenerator\n",
            "[15:18:44] DEPRECATION WARNING: please use MorganGenerator\n",
            "[15:18:44] DEPRECATION WARNING: please use MorganGenerator\n",
            "[15:18:44] DEPRECATION WARNING: please use MorganGenerator\n",
            "[15:18:44] DEPRECATION WARNING: please use MorganGenerator\n",
            "[15:18:44] DEPRECATION WARNING: please use MorganGenerator\n",
            "[15:18:44] DEPRECATION WARNING: please use MorganGenerator\n",
            "[15:18:44] DEPRECATION WARNING: please use MorganGenerator\n",
            "[15:18:44] DEPRECATION WARNING: please use MorganGenerator\n",
            "[15:18:44] DEPRECATION WARNING: please use MorganGenerator\n",
            "[15:18:44] DEPRECATION WARNING: please use MorganGenerator\n",
            "[15:18:44] DEPRECATION WARNING: please use MorganGenerator\n",
            "[15:18:44] DEPRECATION WARNING: please use MorganGenerator\n",
            "[15:18:44] DEPRECATION WARNING: please use MorganGenerator\n",
            "[15:18:44] DEPRECATION WARNING: please use MorganGenerator\n",
            "[15:18:44] DEPRECATION WARNING: please use MorganGenerator\n",
            "[15:18:44] DEPRECATION WARNING: please use MorganGenerator\n",
            "[15:18:44] DEPRECATION WARNING: please use MorganGenerator\n",
            "[15:18:44] DEPRECATION WARNING: please use MorganGenerator\n",
            "[15:18:44] DEPRECATION WARNING: please use MorganGenerator\n",
            "[15:18:44] DEPRECATION WARNING: please use MorganGenerator\n",
            "[15:18:44] DEPRECATION WARNING: please use MorganGenerator\n",
            "[15:18:44] DEPRECATION WARNING: please use MorganGenerator\n",
            "[15:18:44] DEPRECATION WARNING: please use MorganGenerator\n",
            "[15:18:44] DEPRECATION WARNING: please use MorganGenerator\n",
            "[15:18:44] DEPRECATION WARNING: please use MorganGenerator\n",
            "[15:18:44] DEPRECATION WARNING: please use MorganGenerator\n",
            "[15:18:44] DEPRECATION WARNING: please use MorganGenerator\n",
            "[15:18:44] DEPRECATION WARNING: please use MorganGenerator\n",
            "[15:18:44] DEPRECATION WARNING: please use MorganGenerator\n",
            "[15:18:44] DEPRECATION WARNING: please use MorganGenerator\n",
            "[15:18:44] DEPRECATION WARNING: please use MorganGenerator\n",
            "[15:18:44] DEPRECATION WARNING: please use MorganGenerator\n",
            "[15:18:44] DEPRECATION WARNING: please use MorganGenerator\n",
            "[15:18:44] DEPRECATION WARNING: please use MorganGenerator\n",
            "[15:18:44] DEPRECATION WARNING: please use MorganGenerator\n",
            "[15:18:44] DEPRECATION WARNING: please use MorganGenerator\n",
            "[15:18:44] DEPRECATION WARNING: please use MorganGenerator\n",
            "[15:18:44] DEPRECATION WARNING: please use MorganGenerator\n",
            "[15:18:44] DEPRECATION WARNING: please use MorganGenerator\n",
            "[15:18:44] DEPRECATION WARNING: please use MorganGenerator\n",
            "[15:18:44] DEPRECATION WARNING: please use MorganGenerator\n",
            "[15:18:44] DEPRECATION WARNING: please use MorganGenerator\n",
            "[15:18:44] DEPRECATION WARNING: please use MorganGenerator\n",
            "[15:18:44] DEPRECATION WARNING: please use MorganGenerator\n",
            "[15:18:44] DEPRECATION WARNING: please use MorganGenerator\n",
            "[15:18:44] DEPRECATION WARNING: please use MorganGenerator\n",
            "[15:18:44] DEPRECATION WARNING: please use MorganGenerator\n",
            "[15:18:44] DEPRECATION WARNING: please use MorganGenerator\n",
            "[15:18:44] DEPRECATION WARNING: please use MorganGenerator\n",
            "[15:18:44] DEPRECATION WARNING: please use MorganGenerator\n",
            "[15:18:44] DEPRECATION WARNING: please use MorganGenerator\n",
            "[15:18:44] DEPRECATION WARNING: please use MorganGenerator\n",
            "[15:18:44] DEPRECATION WARNING: please use MorganGenerator\n",
            "[15:18:44] DEPRECATION WARNING: please use MorganGenerator\n",
            "[15:18:44] DEPRECATION WARNING: please use MorganGenerator\n",
            "[15:18:44] DEPRECATION WARNING: please use MorganGenerator\n",
            "[15:18:44] DEPRECATION WARNING: please use MorganGenerator\n",
            "[15:18:44] DEPRECATION WARNING: please use MorganGenerator\n",
            "[15:18:44] DEPRECATION WARNING: please use MorganGenerator\n",
            "[15:18:44] DEPRECATION WARNING: please use MorganGenerator\n",
            "[15:18:44] DEPRECATION WARNING: please use MorganGenerator\n",
            "[15:18:44] DEPRECATION WARNING: please use MorganGenerator\n",
            "[15:18:44] DEPRECATION WARNING: please use MorganGenerator\n",
            "[15:18:44] DEPRECATION WARNING: please use MorganGenerator\n",
            "[15:18:44] DEPRECATION WARNING: please use MorganGenerator\n",
            "[15:18:44] DEPRECATION WARNING: please use MorganGenerator\n",
            "[15:18:44] DEPRECATION WARNING: please use MorganGenerator\n",
            "[15:18:44] DEPRECATION WARNING: please use MorganGenerator\n",
            "[15:18:44] DEPRECATION WARNING: please use MorganGenerator\n",
            "[15:18:44] DEPRECATION WARNING: please use MorganGenerator\n",
            "[15:18:44] DEPRECATION WARNING: please use MorganGenerator\n",
            "[15:18:44] DEPRECATION WARNING: please use MorganGenerator\n",
            "[15:18:44] DEPRECATION WARNING: please use MorganGenerator\n",
            "[15:18:44] DEPRECATION WARNING: please use MorganGenerator\n",
            "[15:18:44] DEPRECATION WARNING: please use MorganGenerator\n",
            "[15:18:44] DEPRECATION WARNING: please use MorganGenerator\n",
            "[15:18:44] DEPRECATION WARNING: please use MorganGenerator\n",
            "[15:18:44] DEPRECATION WARNING: please use MorganGenerator\n",
            "[15:18:44] DEPRECATION WARNING: please use MorganGenerator\n",
            "[15:18:44] DEPRECATION WARNING: please use MorganGenerator\n",
            "[15:18:44] DEPRECATION WARNING: please use MorganGenerator\n",
            "[15:18:44] DEPRECATION WARNING: please use MorganGenerator\n",
            "[15:18:44] DEPRECATION WARNING: please use MorganGenerator\n",
            "[15:18:44] DEPRECATION WARNING: please use MorganGenerator\n",
            "[15:18:44] DEPRECATION WARNING: please use MorganGenerator\n",
            "[15:18:44] DEPRECATION WARNING: please use MorganGenerator\n",
            "[15:18:44] DEPRECATION WARNING: please use MorganGenerator\n",
            "[15:18:44] DEPRECATION WARNING: please use MorganGenerator\n",
            "[15:18:44] DEPRECATION WARNING: please use MorganGenerator\n",
            "[15:18:44] DEPRECATION WARNING: please use MorganGenerator\n",
            "[15:18:44] DEPRECATION WARNING: please use MorganGenerator\n",
            "[15:18:44] DEPRECATION WARNING: please use MorganGenerator\n",
            "[15:18:44] DEPRECATION WARNING: please use MorganGenerator\n",
            "[15:18:44] DEPRECATION WARNING: please use MorganGenerator\n",
            "[15:18:44] DEPRECATION WARNING: please use MorganGenerator\n",
            "[15:18:44] DEPRECATION WARNING: please use MorganGenerator\n",
            "[15:18:44] DEPRECATION WARNING: please use MorganGenerator\n",
            "[15:18:44] DEPRECATION WARNING: please use MorganGenerator\n",
            "[15:18:44] DEPRECATION WARNING: please use MorganGenerator\n",
            "[15:18:44] DEPRECATION WARNING: please use MorganGenerator\n",
            "[15:18:44] DEPRECATION WARNING: please use MorganGenerator\n",
            "[15:18:44] DEPRECATION WARNING: please use MorganGenerator\n",
            "[15:18:44] DEPRECATION WARNING: please use MorganGenerator\n",
            "[15:18:44] DEPRECATION WARNING: please use MorganGenerator\n",
            "[15:18:44] DEPRECATION WARNING: please use MorganGenerator\n",
            "[15:18:44] DEPRECATION WARNING: please use MorganGenerator\n",
            "[15:18:44] DEPRECATION WARNING: please use MorganGenerator\n",
            "[15:18:44] DEPRECATION WARNING: please use MorganGenerator\n",
            "[15:18:44] DEPRECATION WARNING: please use MorganGenerator\n",
            "[15:18:44] DEPRECATION WARNING: please use MorganGenerator\n",
            "[15:18:44] DEPRECATION WARNING: please use MorganGenerator\n",
            "[15:18:44] DEPRECATION WARNING: please use MorganGenerator\n",
            "[15:18:44] DEPRECATION WARNING: please use MorganGenerator\n",
            "[15:18:44] DEPRECATION WARNING: please use MorganGenerator\n",
            "[15:18:44] DEPRECATION WARNING: please use MorganGenerator\n",
            "[15:18:44] DEPRECATION WARNING: please use MorganGenerator\n",
            "[15:18:44] DEPRECATION WARNING: please use MorganGenerator\n",
            "[15:18:44] DEPRECATION WARNING: please use MorganGenerator\n",
            "[15:18:44] DEPRECATION WARNING: please use MorganGenerator\n",
            "[15:18:44] DEPRECATION WARNING: please use MorganGenerator\n",
            "[15:18:44] DEPRECATION WARNING: please use MorganGenerator\n",
            "[15:18:44] DEPRECATION WARNING: please use MorganGenerator\n",
            "[15:18:44] DEPRECATION WARNING: please use MorganGenerator\n",
            "[15:18:44] DEPRECATION WARNING: please use MorganGenerator\n",
            "[15:18:44] DEPRECATION WARNING: please use MorganGenerator\n",
            "[15:18:44] DEPRECATION WARNING: please use MorganGenerator\n",
            "[15:18:44] DEPRECATION WARNING: please use MorganGenerator\n",
            "[15:18:44] DEPRECATION WARNING: please use MorganGenerator\n",
            "[15:18:44] DEPRECATION WARNING: please use MorganGenerator\n",
            "[15:18:44] DEPRECATION WARNING: please use MorganGenerator\n",
            "[15:18:44] DEPRECATION WARNING: please use MorganGenerator\n",
            "[15:18:44] DEPRECATION WARNING: please use MorganGenerator\n",
            "[15:18:44] DEPRECATION WARNING: please use MorganGenerator\n",
            "[15:18:44] DEPRECATION WARNING: please use MorganGenerator\n",
            "[15:18:44] DEPRECATION WARNING: please use MorganGenerator\n",
            "[15:18:44] DEPRECATION WARNING: please use MorganGenerator\n",
            "[15:18:44] DEPRECATION WARNING: please use MorganGenerator\n",
            "[15:18:44] DEPRECATION WARNING: please use MorganGenerator\n",
            "[15:18:44] DEPRECATION WARNING: please use MorganGenerator\n",
            "[15:18:44] DEPRECATION WARNING: please use MorganGenerator\n",
            "[15:18:44] DEPRECATION WARNING: please use MorganGenerator\n",
            "[15:18:44] DEPRECATION WARNING: please use MorganGenerator\n",
            "[15:18:44] DEPRECATION WARNING: please use MorganGenerator\n",
            "[15:18:44] DEPRECATION WARNING: please use MorganGenerator\n",
            "[15:18:44] DEPRECATION WARNING: please use MorganGenerator\n",
            "[15:18:44] DEPRECATION WARNING: please use MorganGenerator\n",
            "[15:18:44] DEPRECATION WARNING: please use MorganGenerator\n",
            "[15:18:44] DEPRECATION WARNING: please use MorganGenerator\n",
            "[15:18:44] DEPRECATION WARNING: please use MorganGenerator\n",
            "[15:18:44] DEPRECATION WARNING: please use MorganGenerator\n",
            "[15:18:44] DEPRECATION WARNING: please use MorganGenerator\n",
            "[15:18:44] DEPRECATION WARNING: please use MorganGenerator\n",
            "[15:18:44] DEPRECATION WARNING: please use MorganGenerator\n",
            "[15:18:44] DEPRECATION WARNING: please use MorganGenerator\n",
            "[15:18:44] DEPRECATION WARNING: please use MorganGenerator\n",
            "[15:18:44] DEPRECATION WARNING: please use MorganGenerator\n",
            "[15:18:44] DEPRECATION WARNING: please use MorganGenerator\n",
            "[15:18:44] DEPRECATION WARNING: please use MorganGenerator\n",
            "[15:18:44] DEPRECATION WARNING: please use MorganGenerator\n",
            "[15:18:44] DEPRECATION WARNING: please use MorganGenerator\n",
            "[15:18:44] DEPRECATION WARNING: please use MorganGenerator\n",
            "[15:18:44] DEPRECATION WARNING: please use MorganGenerator\n",
            "[15:18:44] DEPRECATION WARNING: please use MorganGenerator\n",
            "[15:18:44] DEPRECATION WARNING: please use MorganGenerator\n",
            "[15:18:44] DEPRECATION WARNING: please use MorganGenerator\n",
            "[15:18:44] DEPRECATION WARNING: please use MorganGenerator\n",
            "[15:18:44] DEPRECATION WARNING: please use MorganGenerator\n",
            "[15:18:44] DEPRECATION WARNING: please use MorganGenerator\n",
            "[15:18:44] DEPRECATION WARNING: please use MorganGenerator\n",
            "[15:18:44] DEPRECATION WARNING: please use MorganGenerator\n",
            "[15:18:44] DEPRECATION WARNING: please use MorganGenerator\n",
            "[15:18:44] DEPRECATION WARNING: please use MorganGenerator\n",
            "[15:18:44] DEPRECATION WARNING: please use MorganGenerator\n",
            "[15:18:44] DEPRECATION WARNING: please use MorganGenerator\n",
            "[15:18:44] DEPRECATION WARNING: please use MorganGenerator\n",
            "[15:18:44] DEPRECATION WARNING: please use MorganGenerator\n",
            "[15:18:44] DEPRECATION WARNING: please use MorganGenerator\n",
            "[15:18:44] DEPRECATION WARNING: please use MorganGenerator\n",
            "[15:18:44] DEPRECATION WARNING: please use MorganGenerator\n",
            "[15:18:44] DEPRECATION WARNING: please use MorganGenerator\n",
            "[15:18:44] DEPRECATION WARNING: please use MorganGenerator\n",
            "[15:18:44] DEPRECATION WARNING: please use MorganGenerator\n",
            "[15:18:44] DEPRECATION WARNING: please use MorganGenerator\n",
            "[15:18:44] DEPRECATION WARNING: please use MorganGenerator\n",
            "[15:18:44] DEPRECATION WARNING: please use MorganGenerator\n",
            "[15:18:44] DEPRECATION WARNING: please use MorganGenerator\n",
            "[15:18:44] DEPRECATION WARNING: please use MorganGenerator\n",
            "[15:18:44] DEPRECATION WARNING: please use MorganGenerator\n",
            "[15:18:44] DEPRECATION WARNING: please use MorganGenerator\n",
            "[15:18:44] DEPRECATION WARNING: please use MorganGenerator\n",
            "[15:18:44] DEPRECATION WARNING: please use MorganGenerator\n",
            "[15:18:44] DEPRECATION WARNING: please use MorganGenerator\n",
            "[15:18:44] DEPRECATION WARNING: please use MorganGenerator\n",
            "[15:18:44] DEPRECATION WARNING: please use MorganGenerator\n",
            "[15:18:44] DEPRECATION WARNING: please use MorganGenerator\n",
            "[15:18:44] DEPRECATION WARNING: please use MorganGenerator\n",
            "[15:18:44] DEPRECATION WARNING: please use MorganGenerator\n",
            "[15:18:44] DEPRECATION WARNING: please use MorganGenerator\n",
            "[15:18:44] DEPRECATION WARNING: please use MorganGenerator\n",
            "[15:18:44] DEPRECATION WARNING: please use MorganGenerator\n",
            "[15:18:44] DEPRECATION WARNING: please use MorganGenerator\n",
            "[15:18:44] DEPRECATION WARNING: please use MorganGenerator\n",
            "[15:18:44] DEPRECATION WARNING: please use MorganGenerator\n",
            "[15:18:44] DEPRECATION WARNING: please use MorganGenerator\n",
            "[15:18:44] DEPRECATION WARNING: please use MorganGenerator\n",
            "[15:18:44] DEPRECATION WARNING: please use MorganGenerator\n",
            "[15:18:44] DEPRECATION WARNING: please use MorganGenerator\n",
            "[15:18:44] DEPRECATION WARNING: please use MorganGenerator\n",
            "[15:18:44] DEPRECATION WARNING: please use MorganGenerator\n",
            "[15:18:44] DEPRECATION WARNING: please use MorganGenerator\n",
            "[15:18:44] DEPRECATION WARNING: please use MorganGenerator\n",
            "[15:18:44] DEPRECATION WARNING: please use MorganGenerator\n",
            "[15:18:44] DEPRECATION WARNING: please use MorganGenerator\n",
            "[15:18:44] DEPRECATION WARNING: please use MorganGenerator\n",
            "[15:18:44] DEPRECATION WARNING: please use MorganGenerator\n",
            "[15:18:44] DEPRECATION WARNING: please use MorganGenerator\n",
            "[15:18:44] DEPRECATION WARNING: please use MorganGenerator\n",
            "[15:18:44] DEPRECATION WARNING: please use MorganGenerator\n",
            "[15:18:44] DEPRECATION WARNING: please use MorganGenerator\n",
            "[15:18:44] DEPRECATION WARNING: please use MorganGenerator\n",
            "[15:18:44] DEPRECATION WARNING: please use MorganGenerator\n",
            "[15:18:44] DEPRECATION WARNING: please use MorganGenerator\n",
            "[15:18:44] DEPRECATION WARNING: please use MorganGenerator\n",
            "[15:18:44] DEPRECATION WARNING: please use MorganGenerator\n"
          ]
        }
      ]
    },
    {
      "cell_type": "code",
      "source": [
        "onehot_tr,onehot_test = prepare_famille_chimique(families_tr, families_test)"
      ],
      "metadata": {
        "colab": {
          "base_uri": "https://localhost:8080/"
        },
        "id": "qlsDPY8UAUgp",
        "outputId": "7aafedf4-18d6-4a52-a514-67cc7a5be8c7"
      },
      "execution_count": 3,
      "outputs": [
        {
          "output_type": "stream",
          "name": "stderr",
          "text": [
            "/usr/local/lib/python3.10/dist-packages/sklearn/preprocessing/_encoders.py:975: FutureWarning: `sparse` was renamed to `sparse_output` in version 1.2 and will be removed in 1.4. `sparse_output` is ignored unless you leave `sparse` to its default value.\n",
            "  warnings.warn(\n",
            "/usr/local/lib/python3.10/dist-packages/sklearn/preprocessing/_encoders.py:975: FutureWarning: `sparse` was renamed to `sparse_output` in version 1.2 and will be removed in 1.4. `sparse_output` is ignored unless you leave `sparse` to its default value.\n",
            "  warnings.warn(\n"
          ]
        }
      ]
    },
    {
      "cell_type": "code",
      "source": [
        "from tensorflow.keras.models import Model\n",
        "from tensorflow.keras.layers import Input, Dense, Concatenate\n",
        "\n",
        "input_fingerprint = Input(shape=(X_tr.shape[1],), name='fingerprint_input')\n",
        "input_famille = Input(shape=(onehot_tr.shape[1],), name='famille_input')\n",
        "\n",
        "# Combiner les entrées\n",
        "concat = Concatenate()([input_fingerprint, input_famille])\n",
        "\n",
        "# Ajouter des couches denses\n",
        "dense = Dense(512, activation='relu')(concat)\n",
        "output = Dense(256, activation='relu')(dense)\n",
        "\n",
        "# Créer le modèle\n",
        "model = Model(inputs=[input_fingerprint, input_famille], outputs=output)\n",
        "model.summary()"
      ],
      "metadata": {
        "colab": {
          "base_uri": "https://localhost:8080/",
          "height": 350
        },
        "id": "RnLjIV6qAWv3",
        "outputId": "94788252-a9a9-4b3d-84e1-17293c437455"
      },
      "execution_count": 4,
      "outputs": [
        {
          "output_type": "display_data",
          "data": {
            "text/plain": [
              "\u001b[1mModel: \"functional\"\u001b[0m\n"
            ],
            "text/html": [
              "<pre style=\"white-space:pre;overflow-x:auto;line-height:normal;font-family:Menlo,'DejaVu Sans Mono',consolas,'Courier New',monospace\"><span style=\"font-weight: bold\">Model: \"functional\"</span>\n",
              "</pre>\n"
            ]
          },
          "metadata": {}
        },
        {
          "output_type": "display_data",
          "data": {
            "text/plain": [
              "┏━━━━━━━━━━━━━━━━━━━━━━━━━━━┳━━━━━━━━━━━━━━━━━━━━━━━━┳━━━━━━━━━━━━━━━━┳━━━━━━━━━━━━━━━━━━━━━━━━┓\n",
              "┃\u001b[1m \u001b[0m\u001b[1mLayer (type)             \u001b[0m\u001b[1m \u001b[0m┃\u001b[1m \u001b[0m\u001b[1mOutput Shape          \u001b[0m\u001b[1m \u001b[0m┃\u001b[1m \u001b[0m\u001b[1m       Param #\u001b[0m\u001b[1m \u001b[0m┃\u001b[1m \u001b[0m\u001b[1mConnected to          \u001b[0m\u001b[1m \u001b[0m┃\n",
              "┡━━━━━━━━━━━━━━━━━━━━━━━━━━━╇━━━━━━━━━━━━━━━━━━━━━━━━╇━━━━━━━━━━━━━━━━╇━━━━━━━━━━━━━━━━━━━━━━━━┩\n",
              "│ fingerprint_input         │ (\u001b[38;5;45mNone\u001b[0m, \u001b[38;5;34m1024\u001b[0m)           │              \u001b[38;5;34m0\u001b[0m │ -                      │\n",
              "│ (\u001b[38;5;33mInputLayer\u001b[0m)              │                        │                │                        │\n",
              "├───────────────────────────┼────────────────────────┼────────────────┼────────────────────────┤\n",
              "│ famille_input             │ (\u001b[38;5;45mNone\u001b[0m, \u001b[38;5;34m9\u001b[0m)              │              \u001b[38;5;34m0\u001b[0m │ -                      │\n",
              "│ (\u001b[38;5;33mInputLayer\u001b[0m)              │                        │                │                        │\n",
              "├───────────────────────────┼────────────────────────┼────────────────┼────────────────────────┤\n",
              "│ concatenate (\u001b[38;5;33mConcatenate\u001b[0m) │ (\u001b[38;5;45mNone\u001b[0m, \u001b[38;5;34m1033\u001b[0m)           │              \u001b[38;5;34m0\u001b[0m │ fingerprint_input[\u001b[38;5;34m0\u001b[0m][\u001b[38;5;34m…\u001b[0m │\n",
              "│                           │                        │                │ famille_input[\u001b[38;5;34m0\u001b[0m][\u001b[38;5;34m0\u001b[0m]    │\n",
              "├───────────────────────────┼────────────────────────┼────────────────┼────────────────────────┤\n",
              "│ dense (\u001b[38;5;33mDense\u001b[0m)             │ (\u001b[38;5;45mNone\u001b[0m, \u001b[38;5;34m512\u001b[0m)            │        \u001b[38;5;34m529,408\u001b[0m │ concatenate[\u001b[38;5;34m0\u001b[0m][\u001b[38;5;34m0\u001b[0m]      │\n",
              "├───────────────────────────┼────────────────────────┼────────────────┼────────────────────────┤\n",
              "│ dense_1 (\u001b[38;5;33mDense\u001b[0m)           │ (\u001b[38;5;45mNone\u001b[0m, \u001b[38;5;34m256\u001b[0m)            │        \u001b[38;5;34m131,328\u001b[0m │ dense[\u001b[38;5;34m0\u001b[0m][\u001b[38;5;34m0\u001b[0m]            │\n",
              "└───────────────────────────┴────────────────────────┴────────────────┴────────────────────────┘\n"
            ],
            "text/html": [
              "<pre style=\"white-space:pre;overflow-x:auto;line-height:normal;font-family:Menlo,'DejaVu Sans Mono',consolas,'Courier New',monospace\">┏━━━━━━━━━━━━━━━━━━━━━━━━━━━┳━━━━━━━━━━━━━━━━━━━━━━━━┳━━━━━━━━━━━━━━━━┳━━━━━━━━━━━━━━━━━━━━━━━━┓\n",
              "┃<span style=\"font-weight: bold\"> Layer (type)              </span>┃<span style=\"font-weight: bold\"> Output Shape           </span>┃<span style=\"font-weight: bold\">        Param # </span>┃<span style=\"font-weight: bold\"> Connected to           </span>┃\n",
              "┡━━━━━━━━━━━━━━━━━━━━━━━━━━━╇━━━━━━━━━━━━━━━━━━━━━━━━╇━━━━━━━━━━━━━━━━╇━━━━━━━━━━━━━━━━━━━━━━━━┩\n",
              "│ fingerprint_input         │ (<span style=\"color: #00d7ff; text-decoration-color: #00d7ff\">None</span>, <span style=\"color: #00af00; text-decoration-color: #00af00\">1024</span>)           │              <span style=\"color: #00af00; text-decoration-color: #00af00\">0</span> │ -                      │\n",
              "│ (<span style=\"color: #0087ff; text-decoration-color: #0087ff\">InputLayer</span>)              │                        │                │                        │\n",
              "├───────────────────────────┼────────────────────────┼────────────────┼────────────────────────┤\n",
              "│ famille_input             │ (<span style=\"color: #00d7ff; text-decoration-color: #00d7ff\">None</span>, <span style=\"color: #00af00; text-decoration-color: #00af00\">9</span>)              │              <span style=\"color: #00af00; text-decoration-color: #00af00\">0</span> │ -                      │\n",
              "│ (<span style=\"color: #0087ff; text-decoration-color: #0087ff\">InputLayer</span>)              │                        │                │                        │\n",
              "├───────────────────────────┼────────────────────────┼────────────────┼────────────────────────┤\n",
              "│ concatenate (<span style=\"color: #0087ff; text-decoration-color: #0087ff\">Concatenate</span>) │ (<span style=\"color: #00d7ff; text-decoration-color: #00d7ff\">None</span>, <span style=\"color: #00af00; text-decoration-color: #00af00\">1033</span>)           │              <span style=\"color: #00af00; text-decoration-color: #00af00\">0</span> │ fingerprint_input[<span style=\"color: #00af00; text-decoration-color: #00af00\">0</span>][<span style=\"color: #00af00; text-decoration-color: #00af00\">…</span> │\n",
              "│                           │                        │                │ famille_input[<span style=\"color: #00af00; text-decoration-color: #00af00\">0</span>][<span style=\"color: #00af00; text-decoration-color: #00af00\">0</span>]    │\n",
              "├───────────────────────────┼────────────────────────┼────────────────┼────────────────────────┤\n",
              "│ dense (<span style=\"color: #0087ff; text-decoration-color: #0087ff\">Dense</span>)             │ (<span style=\"color: #00d7ff; text-decoration-color: #00d7ff\">None</span>, <span style=\"color: #00af00; text-decoration-color: #00af00\">512</span>)            │        <span style=\"color: #00af00; text-decoration-color: #00af00\">529,408</span> │ concatenate[<span style=\"color: #00af00; text-decoration-color: #00af00\">0</span>][<span style=\"color: #00af00; text-decoration-color: #00af00\">0</span>]      │\n",
              "├───────────────────────────┼────────────────────────┼────────────────┼────────────────────────┤\n",
              "│ dense_1 (<span style=\"color: #0087ff; text-decoration-color: #0087ff\">Dense</span>)           │ (<span style=\"color: #00d7ff; text-decoration-color: #00d7ff\">None</span>, <span style=\"color: #00af00; text-decoration-color: #00af00\">256</span>)            │        <span style=\"color: #00af00; text-decoration-color: #00af00\">131,328</span> │ dense[<span style=\"color: #00af00; text-decoration-color: #00af00\">0</span>][<span style=\"color: #00af00; text-decoration-color: #00af00\">0</span>]            │\n",
              "└───────────────────────────┴────────────────────────┴────────────────┴────────────────────────┘\n",
              "</pre>\n"
            ]
          },
          "metadata": {}
        },
        {
          "output_type": "display_data",
          "data": {
            "text/plain": [
              "\u001b[1m Total params: \u001b[0m\u001b[38;5;34m660,736\u001b[0m (2.52 MB)\n"
            ],
            "text/html": [
              "<pre style=\"white-space:pre;overflow-x:auto;line-height:normal;font-family:Menlo,'DejaVu Sans Mono',consolas,'Courier New',monospace\"><span style=\"font-weight: bold\"> Total params: </span><span style=\"color: #00af00; text-decoration-color: #00af00\">660,736</span> (2.52 MB)\n",
              "</pre>\n"
            ]
          },
          "metadata": {}
        },
        {
          "output_type": "display_data",
          "data": {
            "text/plain": [
              "\u001b[1m Trainable params: \u001b[0m\u001b[38;5;34m660,736\u001b[0m (2.52 MB)\n"
            ],
            "text/html": [
              "<pre style=\"white-space:pre;overflow-x:auto;line-height:normal;font-family:Menlo,'DejaVu Sans Mono',consolas,'Courier New',monospace\"><span style=\"font-weight: bold\"> Trainable params: </span><span style=\"color: #00af00; text-decoration-color: #00af00\">660,736</span> (2.52 MB)\n",
              "</pre>\n"
            ]
          },
          "metadata": {}
        },
        {
          "output_type": "display_data",
          "data": {
            "text/plain": [
              "\u001b[1m Non-trainable params: \u001b[0m\u001b[38;5;34m0\u001b[0m (0.00 B)\n"
            ],
            "text/html": [
              "<pre style=\"white-space:pre;overflow-x:auto;line-height:normal;font-family:Menlo,'DejaVu Sans Mono',consolas,'Courier New',monospace\"><span style=\"font-weight: bold\"> Non-trainable params: </span><span style=\"color: #00af00; text-decoration-color: #00af00\">0</span> (0.00 B)\n",
              "</pre>\n"
            ]
          },
          "metadata": {}
        }
      ]
    },
    {
      "cell_type": "code",
      "source": [
        "# Faire une prédiction avec le modèle\n",
        "predictions_tr = model.predict([X_tr, onehot_tr])\n",
        "print(\"\\nPrédictions :\")\n",
        "print(predictions_tr)"
      ],
      "metadata": {
        "colab": {
          "base_uri": "https://localhost:8080/"
        },
        "id": "hvH8aB4_AYPX",
        "outputId": "408f3333-d43d-4096-c168-9b0c503c9d58"
      },
      "execution_count": 5,
      "outputs": [
        {
          "output_type": "stream",
          "name": "stdout",
          "text": [
            "\u001b[1m8/8\u001b[0m \u001b[32m━━━━━━━━━━━━━━━━━━━━\u001b[0m\u001b[37m\u001b[0m \u001b[1m0s\u001b[0m 16ms/step\n",
            "\n",
            "Prédictions :\n",
            "[[0.         0.         0.30067918 ... 0.02240904 0.         0.        ]\n",
            " [0.12108305 0.2037729  0.24556732 ... 0.         0.02892289 0.        ]\n",
            " [0.         0.24263072 0.10437249 ... 0.         0.         0.        ]\n",
            " ...\n",
            " [0.         0.02549958 0.95302284 ... 0.         0.13513121 0.        ]\n",
            " [1.7006503  0.         1.1265434  ... 0.11152619 0.1139127  0.2177144 ]\n",
            " [0.         0.8939491  0.5714333  ... 0.         0.         0.60108685]]\n"
          ]
        }
      ]
    },
    {
      "cell_type": "code",
      "source": [
        "# Faire une prédiction avec le modèle\n",
        "predictions_test = model.predict([X_test, onehot_test])\n",
        "print(\"\\nPrédictions :\")\n",
        "print(predictions_test)"
      ],
      "metadata": {
        "colab": {
          "base_uri": "https://localhost:8080/"
        },
        "id": "jEWnDRZNAZpl",
        "outputId": "067da0cb-c670-451b-9fbb-b19243dc007a"
      },
      "execution_count": 6,
      "outputs": [
        {
          "output_type": "stream",
          "name": "stdout",
          "text": [
            "\u001b[1m2/2\u001b[0m \u001b[32m━━━━━━━━━━━━━━━━━━━━\u001b[0m\u001b[37m\u001b[0m \u001b[1m0s\u001b[0m 8ms/step \n",
            "\n",
            "Prédictions :\n",
            "[[0.         0.3171934  0.06976386 ... 0.         0.         0.        ]\n",
            " [0.28584772 0.02486742 0.18908815 ... 0.         0.53696495 0.        ]\n",
            " [0.9059696  1.3384314  0.9408309  ... 0.         0.         0.33034122]\n",
            " ...\n",
            " [0.         0.8454875  0.         ... 0.         0.         0.        ]\n",
            " [0.46144247 1.2676347  2.8754714  ... 0.         0.         0.39422548]\n",
            " [2.359302   1.619616   2.0652442  ... 0.5897813  0.2832209  0.        ]]\n"
          ]
        }
      ]
    },
    {
      "cell_type": "markdown",
      "source": [
        "# scoring log reg"
      ],
      "metadata": {
        "id": "7BjeD0WBAcNv"
      }
    },
    {
      "cell_type": "code",
      "source": [
        "accuracy_log,conf_matrix_log,class_report_log,y_pred_log,target_test_log = scoring(y_tr,y_test,predictions_tr,predictions_test,0,'LogReg')"
      ],
      "metadata": {
        "colab": {
          "base_uri": "https://localhost:8080/"
        },
        "id": "6Zc9I29eAbM9",
        "outputId": "99728332-ebaa-4511-c0f2-fda0a299b7b6"
      },
      "execution_count": 8,
      "outputs": [
        {
          "output_type": "stream",
          "name": "stdout",
          "text": [
            "Accuracy: 0.8064516129032258\n",
            "Confusion Matrix:\n",
            "[[14  7]\n",
            " [ 5 36]]\n",
            "Classification Report:\n",
            "              precision    recall  f1-score   support\n",
            "\n",
            "           0       0.74      0.67      0.70        21\n",
            "           1       0.84      0.88      0.86        41\n",
            "\n",
            "    accuracy                           0.81        62\n",
            "   macro avg       0.79      0.77      0.78        62\n",
            "weighted avg       0.80      0.81      0.80        62\n",
            "\n"
          ]
        }
      ]
    },
    {
      "cell_type": "markdown",
      "source": [
        "# scoring decision tree"
      ],
      "metadata": {
        "id": "a8PkkVjuA3Ce"
      }
    },
    {
      "cell_type": "code",
      "source": [
        "accuracy_tree,conf_matrix_tree,class_report_tree,y_pred_tree,target_test_tree = scoring(y_tr,y_test,predictions_tr,predictions_test,0,'DecisionTree')\n"
      ],
      "metadata": {
        "colab": {
          "base_uri": "https://localhost:8080/"
        },
        "id": "R9-GdxlUAzh5",
        "outputId": "1b9f095c-636f-4ced-dd28-fa52d8b9a235"
      },
      "execution_count": 11,
      "outputs": [
        {
          "output_type": "stream",
          "name": "stdout",
          "text": [
            "Accuracy: 0.5967741935483871\n",
            "Confusion Matrix:\n",
            "[[11 10]\n",
            " [15 26]]\n",
            "Classification Report:\n",
            "              precision    recall  f1-score   support\n",
            "\n",
            "           0       0.42      0.52      0.47        21\n",
            "           1       0.72      0.63      0.68        41\n",
            "\n",
            "    accuracy                           0.60        62\n",
            "   macro avg       0.57      0.58      0.57        62\n",
            "weighted avg       0.62      0.60      0.61        62\n",
            "\n"
          ]
        }
      ]
    },
    {
      "cell_type": "code",
      "source": [
        "accuracy_rf,conf_matrix_rf,class_report_rf,y_pred_rf,target_test_rf = scoring(y_tr,y_test,predictions_tr,predictions_test,0,\"RandomF\")"
      ],
      "metadata": {
        "colab": {
          "base_uri": "https://localhost:8080/"
        },
        "id": "60bsXO-jBBrT",
        "outputId": "f2f2e3f7-a5e4-4223-87ac-7f59b543e61c"
      },
      "execution_count": 12,
      "outputs": [
        {
          "output_type": "stream",
          "name": "stdout",
          "text": [
            "Accuracy: 0.7903225806451613\n",
            "Confusion Matrix:\n",
            "[[10 11]\n",
            " [ 2 39]]\n",
            "Classification Report:\n",
            "              precision    recall  f1-score   support\n",
            "\n",
            "           0       0.83      0.48      0.61        21\n",
            "           1       0.78      0.95      0.86        41\n",
            "\n",
            "    accuracy                           0.79        62\n",
            "   macro avg       0.81      0.71      0.73        62\n",
            "weighted avg       0.80      0.79      0.77        62\n",
            "\n"
          ]
        }
      ]
    },
    {
      "cell_type": "code",
      "source": [
        "accuracy_svm,conf_matrix_svm,class_report_svm,y_pred_svm,target_test_svm = scoring(y_tr,y_test,predictions_tr,predictions_test,0,\"SVM\")"
      ],
      "metadata": {
        "colab": {
          "base_uri": "https://localhost:8080/"
        },
        "id": "qJhaJ9myBHLq",
        "outputId": "e551033e-4402-4d9c-d019-0de3ac0eabc2"
      },
      "execution_count": 13,
      "outputs": [
        {
          "output_type": "stream",
          "name": "stdout",
          "text": [
            "Accuracy: 0.8225806451612904\n",
            "Confusion Matrix:\n",
            "[[12  9]\n",
            " [ 2 39]]\n",
            "Classification Report:\n",
            "              precision    recall  f1-score   support\n",
            "\n",
            "           0       0.86      0.57      0.69        21\n",
            "           1       0.81      0.95      0.88        41\n",
            "\n",
            "    accuracy                           0.82        62\n",
            "   macro avg       0.83      0.76      0.78        62\n",
            "weighted avg       0.83      0.82      0.81        62\n",
            "\n"
          ]
        }
      ]
    },
    {
      "cell_type": "code",
      "source": [],
      "metadata": {
        "id": "p6YcUf0FB2-E"
      },
      "execution_count": null,
      "outputs": []
    }
  ]
}