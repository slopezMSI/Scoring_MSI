{
  "nbformat": 4,
  "nbformat_minor": 0,
  "metadata": {
    "colab": {
      "provenance": [],
      "authorship_tag": "ABX9TyMM6fVt8j22yvCqlneP8XYJ"
    },
    "kernelspec": {
      "name": "python3",
      "display_name": "Python 3"
    },
    "language_info": {
      "name": "python"
    }
  },
  "cells": [
    {
      "cell_type": "code",
      "execution_count": null,
      "metadata": {
        "colab": {
          "base_uri": "https://localhost:8080/"
        },
        "id": "u6c-Rf6ZfJjx",
        "outputId": "866565a3-3d1f-42c2-d3bc-114759e12087"
      },
      "outputs": [
        {
          "output_type": "stream",
          "name": "stdout",
          "text": [
            "Mounted at /content/drive\n",
            "Collecting deepchem\n",
            "  Downloading deepchem-2.8.0-py3-none-any.whl.metadata (2.0 kB)\n",
            "Collecting rdkit\n",
            "  Downloading rdkit-2024.3.5-cp310-cp310-manylinux_2_28_x86_64.whl.metadata (3.9 kB)\n",
            "Requirement already satisfied: matplotlib in /usr/local/lib/python3.10/dist-packages (3.7.1)\n",
            "Requirement already satisfied: networkx in /usr/local/lib/python3.10/dist-packages (3.3)\n",
            "Requirement already satisfied: joblib in /usr/local/lib/python3.10/dist-packages (from deepchem) (1.4.2)\n",
            "Requirement already satisfied: numpy>=1.21 in /usr/local/lib/python3.10/dist-packages (from deepchem) (1.26.4)\n",
            "Requirement already satisfied: pandas in /usr/local/lib/python3.10/dist-packages (from deepchem) (2.1.4)\n",
            "Requirement already satisfied: scikit-learn in /usr/local/lib/python3.10/dist-packages (from deepchem) (1.3.2)\n",
            "Requirement already satisfied: sympy in /usr/local/lib/python3.10/dist-packages (from deepchem) (1.13.2)\n",
            "Requirement already satisfied: scipy>=1.10.1 in /usr/local/lib/python3.10/dist-packages (from deepchem) (1.13.1)\n",
            "Requirement already satisfied: Pillow in /usr/local/lib/python3.10/dist-packages (from rdkit) (10.4.0)\n",
            "Requirement already satisfied: contourpy>=1.0.1 in /usr/local/lib/python3.10/dist-packages (from matplotlib) (1.3.0)\n",
            "Requirement already satisfied: cycler>=0.10 in /usr/local/lib/python3.10/dist-packages (from matplotlib) (0.12.1)\n",
            "Requirement already satisfied: fonttools>=4.22.0 in /usr/local/lib/python3.10/dist-packages (from matplotlib) (4.53.1)\n",
            "Requirement already satisfied: kiwisolver>=1.0.1 in /usr/local/lib/python3.10/dist-packages (from matplotlib) (1.4.7)\n",
            "Requirement already satisfied: packaging>=20.0 in /usr/local/lib/python3.10/dist-packages (from matplotlib) (24.1)\n",
            "Requirement already satisfied: pyparsing>=2.3.1 in /usr/local/lib/python3.10/dist-packages (from matplotlib) (3.1.4)\n",
            "Requirement already satisfied: python-dateutil>=2.7 in /usr/local/lib/python3.10/dist-packages (from matplotlib) (2.8.2)\n",
            "Requirement already satisfied: six>=1.5 in /usr/local/lib/python3.10/dist-packages (from python-dateutil>=2.7->matplotlib) (1.16.0)\n",
            "Requirement already satisfied: pytz>=2020.1 in /usr/local/lib/python3.10/dist-packages (from pandas->deepchem) (2024.2)\n",
            "Requirement already satisfied: tzdata>=2022.1 in /usr/local/lib/python3.10/dist-packages (from pandas->deepchem) (2024.1)\n",
            "Requirement already satisfied: threadpoolctl>=2.0.0 in /usr/local/lib/python3.10/dist-packages (from scikit-learn->deepchem) (3.5.0)\n",
            "Requirement already satisfied: mpmath<1.4,>=1.1.0 in /usr/local/lib/python3.10/dist-packages (from sympy->deepchem) (1.3.0)\n",
            "Downloading deepchem-2.8.0-py3-none-any.whl (1.0 MB)\n",
            "\u001b[2K   \u001b[90m━━━━━━━━━━━━━━━━━━━━━━━━━━━━━━━━━━━━━━━━\u001b[0m \u001b[32m1.0/1.0 MB\u001b[0m \u001b[31m10.7 MB/s\u001b[0m eta \u001b[36m0:00:00\u001b[0m\n",
            "\u001b[?25hDownloading rdkit-2024.3.5-cp310-cp310-manylinux_2_28_x86_64.whl (33.1 MB)\n",
            "\u001b[2K   \u001b[90m━━━━━━━━━━━━━━━━━━━━━━━━━━━━━━━━━━━━━━━━\u001b[0m \u001b[32m33.1/33.1 MB\u001b[0m \u001b[31m26.2 MB/s\u001b[0m eta \u001b[36m0:00:00\u001b[0m\n",
            "\u001b[?25hInstalling collected packages: rdkit, deepchem\n",
            "Successfully installed deepchem-2.8.0 rdkit-2024.3.5\n"
          ]
        },
        {
          "output_type": "stream",
          "name": "stderr",
          "text": [
            "WARNING:deepchem.feat.molecule_featurizers.rdkit_descriptors:No normalization for SPS. Feature removed!\n",
            "WARNING:deepchem.feat.molecule_featurizers.rdkit_descriptors:No normalization for AvgIpc. Feature removed!\n",
            "WARNING:tensorflow:From /usr/local/lib/python3.10/dist-packages/tensorflow/python/util/deprecation.py:588: calling function (from tensorflow.python.eager.polymorphic_function.polymorphic_function) with experimental_relax_shapes is deprecated and will be removed in a future version.\n",
            "Instructions for updating:\n",
            "experimental_relax_shapes is deprecated, use reduce_retracing instead\n",
            "WARNING:deepchem.models.torch_models:Skipped loading modules with pytorch-geometric dependency, missing a dependency. No module named 'torch_geometric'\n",
            "WARNING:deepchem.models:Skipped loading modules with pytorch-geometric dependency, missing a dependency. cannot import name 'DMPNN' from 'deepchem.models.torch_models' (/usr/local/lib/python3.10/dist-packages/deepchem/models/torch_models/__init__.py)\n",
            "WARNING:deepchem.models:Skipped loading modules with pytorch-lightning dependency, missing a dependency. No module named 'lightning'\n",
            "WARNING:deepchem.models:Skipped loading some Jax models, missing a dependency. No module named 'haiku'\n"
          ]
        }
      ],
      "source": [
        "'''from google.colab import drive\n",
        "drive.mount('/content/drive')\n",
        "!pip install deepchem rdkit matplotlib networkx'''\n",
        "\n",
        "import deepchem as dc\n",
        "from rdkit import Chem\n",
        "from rdkit.Chem import Draw\n",
        "import matplotlib.pyplot as plt\n",
        "import networkx as nx\n",
        "from sklearn.svm import SVR\n",
        "from sklearn.model_selection import train_test_split\n",
        "from sklearn.preprocessing import StandardScaler\n",
        "from deepchem.feat import MolGraphConvFeaturizer\n",
        "from deepchem.feat import CircularFingerprint\n",
        "from sklearn.model_selection import GridSearchCV\n",
        "from sklearn.svm import SVR\n",
        "import pandas as pd\n",
        "import numpy as np\n",
        "from sklearn.model_selection import StratifiedKFold\n",
        "from deepchem.feat import ConvMolFeaturizer\n",
        "from rdkit import Chem\n",
        "from rdkit.Chem import AllChem\n",
        "from rdkit.Chem import Descriptors\n",
        "import deepchem as dc\n",
        "from methods_fingerprints import *\n",
        "#from drive.MyDrive.code.methods import *\n",
        "#from drive.MyDrive.code.methods_fingerprints import *"
      ]
    },
    {
      "cell_type": "code",
      "source": [
        "smiles_tr,smiles_test, logSweeter_tr, logSweeter_test, families_tr, families_test = load_data(\"../data/SweetnersDB.xlsx\")"
      ],
      "metadata": {
        "colab": {
          "base_uri": "https://localhost:8080/"
        },
        "id": "rceA0HEMfPeb",
        "outputId": "bb8d4502-7eb0-4cfd-d344-552216f4c3eb"
      },
      "execution_count": null,
      "outputs": [
        {
          "output_type": "stream",
          "name": "stdout",
          "text": [
            "Index(['Name', 'logSw', 'Chemical family', 'Dataset', 'Smiles'], dtype='object')\n"
          ]
        }
      ]
    },
    {
      "cell_type": "code",
      "source": [
        "X_tr,X_test,scaler_X = prepare_fingerprint(smiles_tr,smiles_test)\n",
        "y_tr,y_test,scaler_y = prepare_targets(logSweeter_tr,logSweeter_test)"
      ],
      "metadata": {
        "colab": {
          "base_uri": "https://localhost:8080/"
        },
        "id": "wwykuTc5fVck",
        "outputId": "c1c9612d-19ba-46d3-e44f-d319da5b4d78"
      },
      "execution_count": null,
      "outputs": [
        {
          "output_type": "stream",
          "name": "stderr",
          "text": [
            "[13:34:40] DEPRECATION WARNING: please use MorganGenerator\n",
            "[13:34:40] DEPRECATION WARNING: please use MorganGenerator\n",
            "[13:34:40] DEPRECATION WARNING: please use MorganGenerator\n",
            "[13:34:40] DEPRECATION WARNING: please use MorganGenerator\n",
            "[13:34:40] DEPRECATION WARNING: please use MorganGenerator\n",
            "[13:34:40] DEPRECATION WARNING: please use MorganGenerator\n",
            "[13:34:40] DEPRECATION WARNING: please use MorganGenerator\n",
            "[13:34:40] DEPRECATION WARNING: please use MorganGenerator\n",
            "[13:34:40] DEPRECATION WARNING: please use MorganGenerator\n",
            "[13:34:40] DEPRECATION WARNING: please use MorganGenerator\n",
            "[13:34:40] DEPRECATION WARNING: please use MorganGenerator\n",
            "[13:34:40] DEPRECATION WARNING: please use MorganGenerator\n",
            "[13:34:40] DEPRECATION WARNING: please use MorganGenerator\n",
            "[13:34:40] DEPRECATION WARNING: please use MorganGenerator\n",
            "[13:34:40] DEPRECATION WARNING: please use MorganGenerator\n",
            "[13:34:40] DEPRECATION WARNING: please use MorganGenerator\n",
            "[13:34:40] DEPRECATION WARNING: please use MorganGenerator\n",
            "[13:34:40] DEPRECATION WARNING: please use MorganGenerator\n",
            "[13:34:40] DEPRECATION WARNING: please use MorganGenerator\n",
            "[13:34:40] DEPRECATION WARNING: please use MorganGenerator\n",
            "[13:34:40] DEPRECATION WARNING: please use MorganGenerator\n",
            "[13:34:40] DEPRECATION WARNING: please use MorganGenerator\n",
            "[13:34:40] DEPRECATION WARNING: please use MorganGenerator\n",
            "[13:34:40] DEPRECATION WARNING: please use MorganGenerator\n",
            "[13:34:40] DEPRECATION WARNING: please use MorganGenerator\n",
            "[13:34:40] DEPRECATION WARNING: please use MorganGenerator\n",
            "[13:34:40] DEPRECATION WARNING: please use MorganGenerator\n",
            "[13:34:40] DEPRECATION WARNING: please use MorganGenerator\n",
            "[13:34:40] DEPRECATION WARNING: please use MorganGenerator\n",
            "[13:34:40] DEPRECATION WARNING: please use MorganGenerator\n",
            "[13:34:40] DEPRECATION WARNING: please use MorganGenerator\n",
            "[13:34:40] DEPRECATION WARNING: please use MorganGenerator\n",
            "[13:34:40] DEPRECATION WARNING: please use MorganGenerator\n",
            "[13:34:40] DEPRECATION WARNING: please use MorganGenerator\n",
            "[13:34:40] DEPRECATION WARNING: please use MorganGenerator\n",
            "[13:34:40] DEPRECATION WARNING: please use MorganGenerator\n",
            "[13:34:40] DEPRECATION WARNING: please use MorganGenerator\n",
            "[13:34:40] DEPRECATION WARNING: please use MorganGenerator\n",
            "[13:34:40] DEPRECATION WARNING: please use MorganGenerator\n",
            "[13:34:40] DEPRECATION WARNING: please use MorganGenerator\n",
            "[13:34:40] DEPRECATION WARNING: please use MorganGenerator\n",
            "[13:34:40] DEPRECATION WARNING: please use MorganGenerator\n",
            "[13:34:40] DEPRECATION WARNING: please use MorganGenerator\n",
            "[13:34:40] DEPRECATION WARNING: please use MorganGenerator\n",
            "[13:34:40] DEPRECATION WARNING: please use MorganGenerator\n",
            "[13:34:40] DEPRECATION WARNING: please use MorganGenerator\n",
            "[13:34:40] DEPRECATION WARNING: please use MorganGenerator\n",
            "[13:34:40] DEPRECATION WARNING: please use MorganGenerator\n",
            "[13:34:40] DEPRECATION WARNING: please use MorganGenerator\n",
            "[13:34:40] DEPRECATION WARNING: please use MorganGenerator\n",
            "[13:34:40] DEPRECATION WARNING: please use MorganGenerator\n",
            "[13:34:40] DEPRECATION WARNING: please use MorganGenerator\n",
            "[13:34:40] DEPRECATION WARNING: please use MorganGenerator\n",
            "[13:34:40] DEPRECATION WARNING: please use MorganGenerator\n",
            "[13:34:40] DEPRECATION WARNING: please use MorganGenerator\n",
            "[13:34:40] DEPRECATION WARNING: please use MorganGenerator\n",
            "[13:34:41] DEPRECATION WARNING: please use MorganGenerator\n",
            "[13:34:41] DEPRECATION WARNING: please use MorganGenerator\n",
            "[13:34:41] DEPRECATION WARNING: please use MorganGenerator\n",
            "[13:34:41] DEPRECATION WARNING: please use MorganGenerator\n",
            "[13:34:41] DEPRECATION WARNING: please use MorganGenerator\n",
            "[13:34:41] DEPRECATION WARNING: please use MorganGenerator\n",
            "[13:34:41] DEPRECATION WARNING: please use MorganGenerator\n",
            "[13:34:41] DEPRECATION WARNING: please use MorganGenerator\n",
            "[13:34:41] DEPRECATION WARNING: please use MorganGenerator\n",
            "[13:34:41] DEPRECATION WARNING: please use MorganGenerator\n",
            "[13:34:41] DEPRECATION WARNING: please use MorganGenerator\n",
            "[13:34:41] DEPRECATION WARNING: please use MorganGenerator\n",
            "[13:34:41] DEPRECATION WARNING: please use MorganGenerator\n",
            "[13:34:41] DEPRECATION WARNING: please use MorganGenerator\n",
            "[13:34:41] DEPRECATION WARNING: please use MorganGenerator\n",
            "[13:34:41] DEPRECATION WARNING: please use MorganGenerator\n",
            "[13:34:41] DEPRECATION WARNING: please use MorganGenerator\n",
            "[13:34:41] DEPRECATION WARNING: please use MorganGenerator\n",
            "[13:34:41] DEPRECATION WARNING: please use MorganGenerator\n",
            "[13:34:41] DEPRECATION WARNING: please use MorganGenerator\n",
            "[13:34:41] DEPRECATION WARNING: please use MorganGenerator\n",
            "[13:34:41] DEPRECATION WARNING: please use MorganGenerator\n",
            "[13:34:41] DEPRECATION WARNING: please use MorganGenerator\n",
            "[13:34:41] DEPRECATION WARNING: please use MorganGenerator\n",
            "[13:34:41] DEPRECATION WARNING: please use MorganGenerator\n",
            "[13:34:41] DEPRECATION WARNING: please use MorganGenerator\n",
            "[13:34:41] DEPRECATION WARNING: please use MorganGenerator\n",
            "[13:34:41] DEPRECATION WARNING: please use MorganGenerator\n",
            "[13:34:41] DEPRECATION WARNING: please use MorganGenerator\n",
            "[13:34:41] DEPRECATION WARNING: please use MorganGenerator\n",
            "[13:34:41] DEPRECATION WARNING: please use MorganGenerator\n",
            "[13:34:41] DEPRECATION WARNING: please use MorganGenerator\n",
            "[13:34:41] DEPRECATION WARNING: please use MorganGenerator\n",
            "[13:34:41] DEPRECATION WARNING: please use MorganGenerator\n",
            "[13:34:41] DEPRECATION WARNING: please use MorganGenerator\n",
            "[13:34:41] DEPRECATION WARNING: please use MorganGenerator\n",
            "[13:34:41] DEPRECATION WARNING: please use MorganGenerator\n",
            "[13:34:41] DEPRECATION WARNING: please use MorganGenerator\n",
            "[13:34:41] DEPRECATION WARNING: please use MorganGenerator\n",
            "[13:34:41] DEPRECATION WARNING: please use MorganGenerator\n",
            "[13:34:41] DEPRECATION WARNING: please use MorganGenerator\n",
            "[13:34:41] DEPRECATION WARNING: please use MorganGenerator\n",
            "[13:34:41] DEPRECATION WARNING: please use MorganGenerator\n",
            "[13:34:41] DEPRECATION WARNING: please use MorganGenerator\n",
            "[13:34:41] DEPRECATION WARNING: please use MorganGenerator\n",
            "[13:34:41] DEPRECATION WARNING: please use MorganGenerator\n",
            "[13:34:41] DEPRECATION WARNING: please use MorganGenerator\n",
            "[13:34:41] DEPRECATION WARNING: please use MorganGenerator\n",
            "[13:34:41] DEPRECATION WARNING: please use MorganGenerator\n",
            "[13:34:41] DEPRECATION WARNING: please use MorganGenerator\n",
            "[13:34:41] DEPRECATION WARNING: please use MorganGenerator\n",
            "[13:34:41] DEPRECATION WARNING: please use MorganGenerator\n",
            "[13:34:41] DEPRECATION WARNING: please use MorganGenerator\n",
            "[13:34:41] DEPRECATION WARNING: please use MorganGenerator\n",
            "[13:34:41] DEPRECATION WARNING: please use MorganGenerator\n",
            "[13:34:41] DEPRECATION WARNING: please use MorganGenerator\n",
            "[13:34:41] DEPRECATION WARNING: please use MorganGenerator\n",
            "[13:34:41] DEPRECATION WARNING: please use MorganGenerator\n",
            "[13:34:41] DEPRECATION WARNING: please use MorganGenerator\n",
            "[13:34:41] DEPRECATION WARNING: please use MorganGenerator\n",
            "[13:34:41] DEPRECATION WARNING: please use MorganGenerator\n",
            "[13:34:41] DEPRECATION WARNING: please use MorganGenerator\n",
            "[13:34:41] DEPRECATION WARNING: please use MorganGenerator\n",
            "[13:34:41] DEPRECATION WARNING: please use MorganGenerator\n",
            "[13:34:41] DEPRECATION WARNING: please use MorganGenerator\n",
            "[13:34:41] DEPRECATION WARNING: please use MorganGenerator\n",
            "[13:34:41] DEPRECATION WARNING: please use MorganGenerator\n",
            "[13:34:41] DEPRECATION WARNING: please use MorganGenerator\n",
            "[13:34:41] DEPRECATION WARNING: please use MorganGenerator\n",
            "[13:34:41] DEPRECATION WARNING: please use MorganGenerator\n",
            "[13:34:41] DEPRECATION WARNING: please use MorganGenerator\n",
            "[13:34:41] DEPRECATION WARNING: please use MorganGenerator\n",
            "[13:34:41] DEPRECATION WARNING: please use MorganGenerator\n",
            "[13:34:41] DEPRECATION WARNING: please use MorganGenerator\n",
            "[13:34:41] DEPRECATION WARNING: please use MorganGenerator\n",
            "[13:34:41] DEPRECATION WARNING: please use MorganGenerator\n",
            "[13:34:41] DEPRECATION WARNING: please use MorganGenerator\n",
            "[13:34:41] DEPRECATION WARNING: please use MorganGenerator\n",
            "[13:34:41] DEPRECATION WARNING: please use MorganGenerator\n",
            "[13:34:41] DEPRECATION WARNING: please use MorganGenerator\n",
            "[13:34:41] DEPRECATION WARNING: please use MorganGenerator\n",
            "[13:34:41] DEPRECATION WARNING: please use MorganGenerator\n",
            "[13:34:41] DEPRECATION WARNING: please use MorganGenerator\n",
            "[13:34:41] DEPRECATION WARNING: please use MorganGenerator\n",
            "[13:34:41] DEPRECATION WARNING: please use MorganGenerator\n",
            "[13:34:41] DEPRECATION WARNING: please use MorganGenerator\n",
            "[13:34:41] DEPRECATION WARNING: please use MorganGenerator\n",
            "[13:34:41] DEPRECATION WARNING: please use MorganGenerator\n",
            "[13:34:41] DEPRECATION WARNING: please use MorganGenerator\n",
            "[13:34:41] DEPRECATION WARNING: please use MorganGenerator\n",
            "[13:34:41] DEPRECATION WARNING: please use MorganGenerator\n",
            "[13:34:41] DEPRECATION WARNING: please use MorganGenerator\n",
            "[13:34:41] DEPRECATION WARNING: please use MorganGenerator\n",
            "[13:34:41] DEPRECATION WARNING: please use MorganGenerator\n",
            "[13:34:41] DEPRECATION WARNING: please use MorganGenerator\n",
            "[13:34:41] DEPRECATION WARNING: please use MorganGenerator\n",
            "[13:34:41] DEPRECATION WARNING: please use MorganGenerator\n",
            "[13:34:41] DEPRECATION WARNING: please use MorganGenerator\n",
            "[13:34:41] DEPRECATION WARNING: please use MorganGenerator\n",
            "[13:34:41] DEPRECATION WARNING: please use MorganGenerator\n",
            "[13:34:41] DEPRECATION WARNING: please use MorganGenerator\n",
            "[13:34:41] DEPRECATION WARNING: please use MorganGenerator\n",
            "[13:34:41] DEPRECATION WARNING: please use MorganGenerator\n",
            "[13:34:41] DEPRECATION WARNING: please use MorganGenerator\n",
            "[13:34:41] DEPRECATION WARNING: please use MorganGenerator\n",
            "[13:34:41] DEPRECATION WARNING: please use MorganGenerator\n",
            "[13:34:41] DEPRECATION WARNING: please use MorganGenerator\n",
            "[13:34:41] DEPRECATION WARNING: please use MorganGenerator\n",
            "[13:34:41] DEPRECATION WARNING: please use MorganGenerator\n",
            "[13:34:41] DEPRECATION WARNING: please use MorganGenerator\n",
            "[13:34:41] DEPRECATION WARNING: please use MorganGenerator\n",
            "[13:34:41] DEPRECATION WARNING: please use MorganGenerator\n",
            "[13:34:41] DEPRECATION WARNING: please use MorganGenerator\n",
            "[13:34:41] DEPRECATION WARNING: please use MorganGenerator\n",
            "[13:34:41] DEPRECATION WARNING: please use MorganGenerator\n",
            "[13:34:41] DEPRECATION WARNING: please use MorganGenerator\n",
            "[13:34:41] DEPRECATION WARNING: please use MorganGenerator\n",
            "[13:34:41] DEPRECATION WARNING: please use MorganGenerator\n",
            "[13:34:41] DEPRECATION WARNING: please use MorganGenerator\n",
            "[13:34:41] DEPRECATION WARNING: please use MorganGenerator\n",
            "[13:34:41] DEPRECATION WARNING: please use MorganGenerator\n",
            "[13:34:41] DEPRECATION WARNING: please use MorganGenerator\n",
            "[13:34:41] DEPRECATION WARNING: please use MorganGenerator\n",
            "[13:34:41] DEPRECATION WARNING: please use MorganGenerator\n",
            "[13:34:41] DEPRECATION WARNING: please use MorganGenerator\n",
            "[13:34:41] DEPRECATION WARNING: please use MorganGenerator\n",
            "[13:34:41] DEPRECATION WARNING: please use MorganGenerator\n",
            "[13:34:41] DEPRECATION WARNING: please use MorganGenerator\n",
            "[13:34:41] DEPRECATION WARNING: please use MorganGenerator\n",
            "[13:34:41] DEPRECATION WARNING: please use MorganGenerator\n",
            "[13:34:41] DEPRECATION WARNING: please use MorganGenerator\n",
            "[13:34:41] DEPRECATION WARNING: please use MorganGenerator\n",
            "[13:34:41] DEPRECATION WARNING: please use MorganGenerator\n",
            "[13:34:41] DEPRECATION WARNING: please use MorganGenerator\n",
            "[13:34:41] DEPRECATION WARNING: please use MorganGenerator\n",
            "[13:34:41] DEPRECATION WARNING: please use MorganGenerator\n",
            "[13:34:41] DEPRECATION WARNING: please use MorganGenerator\n",
            "[13:34:41] DEPRECATION WARNING: please use MorganGenerator\n",
            "[13:34:41] DEPRECATION WARNING: please use MorganGenerator\n",
            "[13:34:41] DEPRECATION WARNING: please use MorganGenerator\n",
            "[13:34:41] DEPRECATION WARNING: please use MorganGenerator\n",
            "[13:34:41] DEPRECATION WARNING: please use MorganGenerator\n",
            "[13:34:41] DEPRECATION WARNING: please use MorganGenerator\n",
            "[13:34:41] DEPRECATION WARNING: please use MorganGenerator\n",
            "[13:34:41] DEPRECATION WARNING: please use MorganGenerator\n",
            "[13:34:41] DEPRECATION WARNING: please use MorganGenerator\n",
            "[13:34:41] DEPRECATION WARNING: please use MorganGenerator\n",
            "[13:34:41] DEPRECATION WARNING: please use MorganGenerator\n",
            "[13:34:41] DEPRECATION WARNING: please use MorganGenerator\n",
            "[13:34:41] DEPRECATION WARNING: please use MorganGenerator\n",
            "[13:34:41] DEPRECATION WARNING: please use MorganGenerator\n",
            "[13:34:41] DEPRECATION WARNING: please use MorganGenerator\n",
            "[13:34:41] DEPRECATION WARNING: please use MorganGenerator\n",
            "[13:34:41] DEPRECATION WARNING: please use MorganGenerator\n",
            "[13:34:41] DEPRECATION WARNING: please use MorganGenerator\n",
            "[13:34:41] DEPRECATION WARNING: please use MorganGenerator\n",
            "[13:34:41] DEPRECATION WARNING: please use MorganGenerator\n",
            "[13:34:41] DEPRECATION WARNING: please use MorganGenerator\n",
            "[13:34:41] DEPRECATION WARNING: please use MorganGenerator\n",
            "[13:34:41] DEPRECATION WARNING: please use MorganGenerator\n",
            "[13:34:41] DEPRECATION WARNING: please use MorganGenerator\n",
            "[13:34:41] DEPRECATION WARNING: please use MorganGenerator\n",
            "[13:34:42] DEPRECATION WARNING: please use MorganGenerator\n",
            "[13:34:42] DEPRECATION WARNING: please use MorganGenerator\n",
            "[13:34:42] DEPRECATION WARNING: please use MorganGenerator\n",
            "[13:34:42] DEPRECATION WARNING: please use MorganGenerator\n",
            "[13:34:42] DEPRECATION WARNING: please use MorganGenerator\n",
            "[13:34:42] DEPRECATION WARNING: please use MorganGenerator\n",
            "[13:34:42] DEPRECATION WARNING: please use MorganGenerator\n",
            "[13:34:42] DEPRECATION WARNING: please use MorganGenerator\n",
            "[13:34:42] DEPRECATION WARNING: please use MorganGenerator\n",
            "[13:34:42] DEPRECATION WARNING: please use MorganGenerator\n",
            "[13:34:42] DEPRECATION WARNING: please use MorganGenerator\n",
            "[13:34:42] DEPRECATION WARNING: please use MorganGenerator\n",
            "[13:34:42] DEPRECATION WARNING: please use MorganGenerator\n",
            "[13:34:42] DEPRECATION WARNING: please use MorganGenerator\n",
            "[13:34:42] DEPRECATION WARNING: please use MorganGenerator\n",
            "[13:34:42] DEPRECATION WARNING: please use MorganGenerator\n",
            "[13:34:42] DEPRECATION WARNING: please use MorganGenerator\n",
            "[13:34:42] DEPRECATION WARNING: please use MorganGenerator\n",
            "[13:34:42] DEPRECATION WARNING: please use MorganGenerator\n",
            "[13:34:42] DEPRECATION WARNING: please use MorganGenerator\n",
            "[13:34:42] DEPRECATION WARNING: please use MorganGenerator\n",
            "[13:34:42] DEPRECATION WARNING: please use MorganGenerator\n",
            "[13:34:42] DEPRECATION WARNING: please use MorganGenerator\n",
            "[13:34:42] DEPRECATION WARNING: please use MorganGenerator\n",
            "[13:34:42] DEPRECATION WARNING: please use MorganGenerator\n",
            "[13:34:42] DEPRECATION WARNING: please use MorganGenerator\n",
            "[13:34:42] DEPRECATION WARNING: please use MorganGenerator\n",
            "[13:34:42] DEPRECATION WARNING: please use MorganGenerator\n",
            "[13:34:42] DEPRECATION WARNING: please use MorganGenerator\n",
            "[13:34:42] DEPRECATION WARNING: please use MorganGenerator\n",
            "[13:34:42] DEPRECATION WARNING: please use MorganGenerator\n",
            "[13:34:42] DEPRECATION WARNING: please use MorganGenerator\n",
            "[13:34:42] DEPRECATION WARNING: please use MorganGenerator\n",
            "[13:34:42] DEPRECATION WARNING: please use MorganGenerator\n",
            "[13:34:42] DEPRECATION WARNING: please use MorganGenerator\n",
            "[13:34:42] DEPRECATION WARNING: please use MorganGenerator\n",
            "[13:34:42] DEPRECATION WARNING: please use MorganGenerator\n",
            "[13:34:42] DEPRECATION WARNING: please use MorganGenerator\n",
            "[13:34:42] DEPRECATION WARNING: please use MorganGenerator\n",
            "[13:34:42] DEPRECATION WARNING: please use MorganGenerator\n",
            "[13:34:42] DEPRECATION WARNING: please use MorganGenerator\n",
            "[13:34:42] DEPRECATION WARNING: please use MorganGenerator\n",
            "[13:34:42] DEPRECATION WARNING: please use MorganGenerator\n",
            "[13:34:42] DEPRECATION WARNING: please use MorganGenerator\n",
            "[13:34:42] DEPRECATION WARNING: please use MorganGenerator\n",
            "[13:34:42] DEPRECATION WARNING: please use MorganGenerator\n",
            "[13:34:42] DEPRECATION WARNING: please use MorganGenerator\n",
            "[13:34:42] DEPRECATION WARNING: please use MorganGenerator\n",
            "[13:34:42] DEPRECATION WARNING: please use MorganGenerator\n",
            "[13:34:42] DEPRECATION WARNING: please use MorganGenerator\n",
            "[13:34:42] DEPRECATION WARNING: please use MorganGenerator\n",
            "[13:34:42] DEPRECATION WARNING: please use MorganGenerator\n",
            "[13:34:42] DEPRECATION WARNING: please use MorganGenerator\n",
            "[13:34:42] DEPRECATION WARNING: please use MorganGenerator\n",
            "[13:34:42] DEPRECATION WARNING: please use MorganGenerator\n",
            "[13:34:42] DEPRECATION WARNING: please use MorganGenerator\n",
            "[13:34:42] DEPRECATION WARNING: please use MorganGenerator\n",
            "[13:34:42] DEPRECATION WARNING: please use MorganGenerator\n",
            "[13:34:42] DEPRECATION WARNING: please use MorganGenerator\n",
            "[13:34:42] DEPRECATION WARNING: please use MorganGenerator\n",
            "[13:34:42] DEPRECATION WARNING: please use MorganGenerator\n",
            "[13:34:42] DEPRECATION WARNING: please use MorganGenerator\n",
            "[13:34:42] DEPRECATION WARNING: please use MorganGenerator\n",
            "[13:34:42] DEPRECATION WARNING: please use MorganGenerator\n",
            "[13:34:42] DEPRECATION WARNING: please use MorganGenerator\n",
            "[13:34:42] DEPRECATION WARNING: please use MorganGenerator\n",
            "[13:34:42] DEPRECATION WARNING: please use MorganGenerator\n",
            "[13:34:42] DEPRECATION WARNING: please use MorganGenerator\n",
            "[13:34:42] DEPRECATION WARNING: please use MorganGenerator\n",
            "[13:34:42] DEPRECATION WARNING: please use MorganGenerator\n",
            "[13:34:42] DEPRECATION WARNING: please use MorganGenerator\n",
            "[13:34:42] DEPRECATION WARNING: please use MorganGenerator\n",
            "[13:34:42] DEPRECATION WARNING: please use MorganGenerator\n",
            "[13:34:42] DEPRECATION WARNING: please use MorganGenerator\n",
            "[13:34:42] DEPRECATION WARNING: please use MorganGenerator\n",
            "[13:34:42] DEPRECATION WARNING: please use MorganGenerator\n",
            "[13:34:42] DEPRECATION WARNING: please use MorganGenerator\n",
            "[13:34:42] DEPRECATION WARNING: please use MorganGenerator\n",
            "[13:34:42] DEPRECATION WARNING: please use MorganGenerator\n",
            "[13:34:42] DEPRECATION WARNING: please use MorganGenerator\n",
            "[13:34:42] DEPRECATION WARNING: please use MorganGenerator\n",
            "[13:34:42] DEPRECATION WARNING: please use MorganGenerator\n",
            "[13:34:42] DEPRECATION WARNING: please use MorganGenerator\n",
            "[13:34:42] DEPRECATION WARNING: please use MorganGenerator\n",
            "[13:34:42] DEPRECATION WARNING: please use MorganGenerator\n",
            "[13:34:42] DEPRECATION WARNING: please use MorganGenerator\n",
            "[13:34:42] DEPRECATION WARNING: please use MorganGenerator\n",
            "[13:34:42] DEPRECATION WARNING: please use MorganGenerator\n",
            "[13:34:42] DEPRECATION WARNING: please use MorganGenerator\n",
            "[13:34:42] DEPRECATION WARNING: please use MorganGenerator\n",
            "[13:34:42] DEPRECATION WARNING: please use MorganGenerator\n",
            "[13:34:42] DEPRECATION WARNING: please use MorganGenerator\n",
            "[13:34:42] DEPRECATION WARNING: please use MorganGenerator\n",
            "[13:34:42] DEPRECATION WARNING: please use MorganGenerator\n",
            "[13:34:42] DEPRECATION WARNING: please use MorganGenerator\n",
            "[13:34:42] DEPRECATION WARNING: please use MorganGenerator\n",
            "[13:34:42] DEPRECATION WARNING: please use MorganGenerator\n",
            "[13:34:42] DEPRECATION WARNING: please use MorganGenerator\n"
          ]
        }
      ]
    },
    {
      "cell_type": "code",
      "source": [
        "onehot_tr,onehot_test = prepare_famille_chimique(families_tr, families_test)"
      ],
      "metadata": {
        "colab": {
          "base_uri": "https://localhost:8080/"
        },
        "id": "IEismZmCfYBB",
        "outputId": "a392d36c-9893-4d1d-af80-bdc586c9932f"
      },
      "execution_count": null,
      "outputs": [
        {
          "output_type": "stream",
          "name": "stderr",
          "text": [
            "/usr/local/lib/python3.10/dist-packages/sklearn/preprocessing/_encoders.py:975: FutureWarning: `sparse` was renamed to `sparse_output` in version 1.2 and will be removed in 1.4. `sparse_output` is ignored unless you leave `sparse` to its default value.\n",
            "  warnings.warn(\n",
            "/usr/local/lib/python3.10/dist-packages/sklearn/preprocessing/_encoders.py:975: FutureWarning: `sparse` was renamed to `sparse_output` in version 1.2 and will be removed in 1.4. `sparse_output` is ignored unless you leave `sparse` to its default value.\n",
            "  warnings.warn(\n"
          ]
        }
      ]
    },
    {
      "cell_type": "markdown",
      "source": [
        "# scoring log reg"
      ],
      "metadata": {
        "id": "-jA23XFWjUFQ"
      }
    },
    {
      "cell_type": "code",
      "source": [
        "accuracy,conf_matrix,class_report,y_pred,target_test = scoring_GridSearch(y_tr,y_test,X_tr,X_test,0,\"LogReg\")"
      ],
      "metadata": {
        "colab": {
          "base_uri": "https://localhost:8080/"
        },
        "id": "TJTygzdufYgh",
        "outputId": "651095b5-0358-4538-9038-408a55f9f2da"
      },
      "execution_count": null,
      "outputs": [
        {
          "output_type": "stream",
          "name": "stdout",
          "text": [
            "Fitting 5 folds for each of 180 candidates, totalling 900 fits\n",
            "[CV] END .......C=0.01, l1_ratio=0, penalty=l1, solver=lbfgs; total time=   0.0s\n",
            "[CV] END .......C=0.01, l1_ratio=0, penalty=l1, solver=lbfgs; total time=   0.0s\n",
            "[CV] END .......C=0.01, l1_ratio=0, penalty=l1, solver=lbfgs; total time=   0.0s\n",
            "[CV] END .......C=0.01, l1_ratio=0, penalty=l1, solver=lbfgs; total time=   0.0s\n",
            "[CV] END .......C=0.01, l1_ratio=0, penalty=l1, solver=lbfgs; total time=   0.0s\n",
            "[CV] END ...C=0.01, l1_ratio=0, penalty=l1, solver=liblinear; total time=   0.0s\n",
            "[CV] END ...C=0.01, l1_ratio=0, penalty=l1, solver=liblinear; total time=   0.0s\n",
            "[CV] END ...C=0.01, l1_ratio=0, penalty=l1, solver=liblinear; total time=   0.0s\n",
            "[CV] END ...C=0.01, l1_ratio=0, penalty=l1, solver=liblinear; total time=   0.0s\n",
            "[CV] END ...C=0.01, l1_ratio=0, penalty=l1, solver=liblinear; total time=   0.0s\n",
            "[CV] END ........C=0.01, l1_ratio=0, penalty=l1, solver=saga; total time=   0.0s\n",
            "[CV] END ........C=0.01, l1_ratio=0, penalty=l1, solver=saga; total time=   0.0s\n"
          ]
        },
        {
          "output_type": "stream",
          "name": "stderr",
          "text": [
            "/usr/local/lib/python3.10/dist-packages/sklearn/linear_model/_logistic.py:1172: UserWarning: l1_ratio parameter is only used when penalty is 'elasticnet'. Got (penalty=l1)\n",
            "  warnings.warn(\n",
            "/usr/local/lib/python3.10/dist-packages/sklearn/linear_model/_logistic.py:1172: UserWarning: l1_ratio parameter is only used when penalty is 'elasticnet'. Got (penalty=l1)\n",
            "  warnings.warn(\n",
            "/usr/local/lib/python3.10/dist-packages/sklearn/linear_model/_logistic.py:1172: UserWarning: l1_ratio parameter is only used when penalty is 'elasticnet'. Got (penalty=l1)\n",
            "  warnings.warn(\n",
            "/usr/local/lib/python3.10/dist-packages/sklearn/linear_model/_logistic.py:1172: UserWarning: l1_ratio parameter is only used when penalty is 'elasticnet'. Got (penalty=l1)\n",
            "  warnings.warn(\n",
            "/usr/local/lib/python3.10/dist-packages/sklearn/linear_model/_logistic.py:1172: UserWarning: l1_ratio parameter is only used when penalty is 'elasticnet'. Got (penalty=l1)\n",
            "  warnings.warn(\n",
            "/usr/local/lib/python3.10/dist-packages/sklearn/linear_model/_logistic.py:1172: UserWarning: l1_ratio parameter is only used when penalty is 'elasticnet'. Got (penalty=l1)\n",
            "  warnings.warn(\n",
            "/usr/local/lib/python3.10/dist-packages/sklearn/linear_model/_logistic.py:1172: UserWarning: l1_ratio parameter is only used when penalty is 'elasticnet'. Got (penalty=l1)\n",
            "  warnings.warn(\n",
            "/usr/local/lib/python3.10/dist-packages/sklearn/linear_model/_logistic.py:1172: UserWarning: l1_ratio parameter is only used when penalty is 'elasticnet'. Got (penalty=l1)\n",
            "  warnings.warn(\n",
            "/usr/local/lib/python3.10/dist-packages/sklearn/linear_model/_logistic.py:1172: UserWarning: l1_ratio parameter is only used when penalty is 'elasticnet'. Got (penalty=l1)\n",
            "  warnings.warn(\n"
          ]
        },
        {
          "output_type": "stream",
          "name": "stdout",
          "text": [
            "[CV] END ........C=0.01, l1_ratio=0, penalty=l1, solver=saga; total time=   0.0s\n",
            "[CV] END ........C=0.01, l1_ratio=0, penalty=l1, solver=saga; total time=   0.0s\n",
            "[CV] END ........C=0.01, l1_ratio=0, penalty=l1, solver=saga; total time=   0.0s\n",
            "[CV] END .......C=0.01, l1_ratio=0, penalty=l2, solver=lbfgs; total time=   0.0s\n",
            "[CV] END .......C=0.01, l1_ratio=0, penalty=l2, solver=lbfgs; total time=   0.0s\n",
            "[CV] END .......C=0.01, l1_ratio=0, penalty=l2, solver=lbfgs; total time=   0.0s\n",
            "[CV] END .......C=0.01, l1_ratio=0, penalty=l2, solver=lbfgs; total time=   0.0s\n"
          ]
        },
        {
          "output_type": "stream",
          "name": "stderr",
          "text": [
            "/usr/local/lib/python3.10/dist-packages/sklearn/linear_model/_logistic.py:1172: UserWarning: l1_ratio parameter is only used when penalty is 'elasticnet'. Got (penalty=l1)\n",
            "  warnings.warn(\n",
            "/usr/local/lib/python3.10/dist-packages/sklearn/linear_model/_logistic.py:1172: UserWarning: l1_ratio parameter is only used when penalty is 'elasticnet'. Got (penalty=l2)\n",
            "  warnings.warn(\n",
            "/usr/local/lib/python3.10/dist-packages/sklearn/linear_model/_logistic.py:1172: UserWarning: l1_ratio parameter is only used when penalty is 'elasticnet'. Got (penalty=l2)\n",
            "  warnings.warn(\n",
            "/usr/local/lib/python3.10/dist-packages/sklearn/linear_model/_logistic.py:1172: UserWarning: l1_ratio parameter is only used when penalty is 'elasticnet'. Got (penalty=l2)\n",
            "  warnings.warn(\n",
            "/usr/local/lib/python3.10/dist-packages/sklearn/linear_model/_logistic.py:1172: UserWarning: l1_ratio parameter is only used when penalty is 'elasticnet'. Got (penalty=l2)\n",
            "  warnings.warn(\n",
            "/usr/local/lib/python3.10/dist-packages/sklearn/linear_model/_logistic.py:1172: UserWarning: l1_ratio parameter is only used when penalty is 'elasticnet'. Got (penalty=l2)\n",
            "  warnings.warn(\n",
            "/usr/local/lib/python3.10/dist-packages/sklearn/linear_model/_logistic.py:1172: UserWarning: l1_ratio parameter is only used when penalty is 'elasticnet'. Got (penalty=l2)\n",
            "  warnings.warn(\n"
          ]
        },
        {
          "output_type": "stream",
          "name": "stdout",
          "text": [
            "[CV] END .......C=0.01, l1_ratio=0, penalty=l2, solver=lbfgs; total time=   0.0s\n",
            "[CV] END ...C=0.01, l1_ratio=0, penalty=l2, solver=liblinear; total time=   0.0s\n",
            "[CV] END ...C=0.01, l1_ratio=0, penalty=l2, solver=liblinear; total time=   0.0s\n",
            "[CV] END ...C=0.01, l1_ratio=0, penalty=l2, solver=liblinear; total time=   0.0s\n",
            "[CV] END ...C=0.01, l1_ratio=0, penalty=l2, solver=liblinear; total time=   0.0s\n",
            "[CV] END ...C=0.01, l1_ratio=0, penalty=l2, solver=liblinear; total time=   0.0s\n"
          ]
        },
        {
          "output_type": "stream",
          "name": "stderr",
          "text": [
            "/usr/local/lib/python3.10/dist-packages/sklearn/linear_model/_logistic.py:1172: UserWarning: l1_ratio parameter is only used when penalty is 'elasticnet'. Got (penalty=l2)\n",
            "  warnings.warn(\n",
            "/usr/local/lib/python3.10/dist-packages/sklearn/linear_model/_logistic.py:1172: UserWarning: l1_ratio parameter is only used when penalty is 'elasticnet'. Got (penalty=l2)\n",
            "  warnings.warn(\n",
            "/usr/local/lib/python3.10/dist-packages/sklearn/linear_model/_logistic.py:1172: UserWarning: l1_ratio parameter is only used when penalty is 'elasticnet'. Got (penalty=l2)\n",
            "  warnings.warn(\n",
            "/usr/local/lib/python3.10/dist-packages/sklearn/linear_model/_logistic.py:1172: UserWarning: l1_ratio parameter is only used when penalty is 'elasticnet'. Got (penalty=l2)\n",
            "  warnings.warn(\n",
            "/usr/local/lib/python3.10/dist-packages/sklearn/linear_model/_logistic.py:1172: UserWarning: l1_ratio parameter is only used when penalty is 'elasticnet'. Got (penalty=l2)\n",
            "  warnings.warn(\n"
          ]
        },
        {
          "output_type": "stream",
          "name": "stdout",
          "text": [
            "[CV] END ........C=0.01, l1_ratio=0, penalty=l2, solver=saga; total time=   0.7s\n"
          ]
        },
        {
          "output_type": "stream",
          "name": "stderr",
          "text": [
            "/usr/local/lib/python3.10/dist-packages/sklearn/linear_model/_logistic.py:1172: UserWarning: l1_ratio parameter is only used when penalty is 'elasticnet'. Got (penalty=l2)\n",
            "  warnings.warn(\n"
          ]
        },
        {
          "output_type": "stream",
          "name": "stdout",
          "text": [
            "[CV] END ........C=0.01, l1_ratio=0, penalty=l2, solver=saga; total time=   0.9s\n"
          ]
        },
        {
          "output_type": "stream",
          "name": "stderr",
          "text": [
            "/usr/local/lib/python3.10/dist-packages/sklearn/linear_model/_logistic.py:1172: UserWarning: l1_ratio parameter is only used when penalty is 'elasticnet'. Got (penalty=l2)\n",
            "  warnings.warn(\n"
          ]
        },
        {
          "output_type": "stream",
          "name": "stdout",
          "text": [
            "[CV] END ........C=0.01, l1_ratio=0, penalty=l2, solver=saga; total time=   0.8s\n"
          ]
        },
        {
          "output_type": "stream",
          "name": "stderr",
          "text": [
            "/usr/local/lib/python3.10/dist-packages/sklearn/linear_model/_logistic.py:1172: UserWarning: l1_ratio parameter is only used when penalty is 'elasticnet'. Got (penalty=l2)\n",
            "  warnings.warn(\n"
          ]
        },
        {
          "output_type": "stream",
          "name": "stdout",
          "text": [
            "[CV] END ........C=0.01, l1_ratio=0, penalty=l2, solver=saga; total time=   0.8s\n"
          ]
        },
        {
          "output_type": "stream",
          "name": "stderr",
          "text": [
            "/usr/local/lib/python3.10/dist-packages/sklearn/linear_model/_logistic.py:1172: UserWarning: l1_ratio parameter is only used when penalty is 'elasticnet'. Got (penalty=l2)\n",
            "  warnings.warn(\n"
          ]
        },
        {
          "output_type": "stream",
          "name": "stdout",
          "text": [
            "[CV] END ........C=0.01, l1_ratio=0, penalty=l2, solver=saga; total time=   0.9s\n",
            "[CV] END C=0.01, l1_ratio=0, penalty=elasticnet, solver=lbfgs; total time=   0.0s\n",
            "[CV] END C=0.01, l1_ratio=0, penalty=elasticnet, solver=lbfgs; total time=   0.0s\n",
            "[CV] END C=0.01, l1_ratio=0, penalty=elasticnet, solver=lbfgs; total time=   0.0s\n",
            "[CV] END C=0.01, l1_ratio=0, penalty=elasticnet, solver=lbfgs; total time=   0.0s\n",
            "[CV] END C=0.01, l1_ratio=0, penalty=elasticnet, solver=lbfgs; total time=   0.0s\n",
            "[CV] END C=0.01, l1_ratio=0, penalty=elasticnet, solver=liblinear; total time=   0.0s\n",
            "[CV] END C=0.01, l1_ratio=0, penalty=elasticnet, solver=liblinear; total time=   0.0s\n",
            "[CV] END C=0.01, l1_ratio=0, penalty=elasticnet, solver=liblinear; total time=   0.0s\n",
            "[CV] END C=0.01, l1_ratio=0, penalty=elasticnet, solver=liblinear; total time=   0.0s\n",
            "[CV] END C=0.01, l1_ratio=0, penalty=elasticnet, solver=liblinear; total time=   0.0s\n",
            "[CV] END C=0.01, l1_ratio=0, penalty=elasticnet, solver=saga; total time=   0.8s\n",
            "[CV] END C=0.01, l1_ratio=0, penalty=elasticnet, solver=saga; total time=   1.3s\n",
            "[CV] END C=0.01, l1_ratio=0, penalty=elasticnet, solver=saga; total time=   1.0s\n",
            "[CV] END C=0.01, l1_ratio=0, penalty=elasticnet, solver=saga; total time=   1.9s\n",
            "[CV] END C=0.01, l1_ratio=0, penalty=elasticnet, solver=saga; total time=   2.3s\n",
            "[CV] END .....C=0.01, l1_ratio=0, penalty=none, solver=lbfgs; total time=   0.1s\n",
            "[CV] END .....C=0.01, l1_ratio=0, penalty=none, solver=lbfgs; total time=   0.1s\n"
          ]
        },
        {
          "output_type": "stream",
          "name": "stderr",
          "text": [
            "/usr/local/lib/python3.10/dist-packages/sklearn/linear_model/_logistic.py:1172: UserWarning: l1_ratio parameter is only used when penalty is 'elasticnet'. Got (penalty=none)\n",
            "  warnings.warn(\n",
            "/usr/local/lib/python3.10/dist-packages/sklearn/linear_model/_logistic.py:1183: FutureWarning: `penalty='none'`has been deprecated in 1.2 and will be removed in 1.4. To keep the past behaviour, set `penalty=None`.\n",
            "  warnings.warn(\n",
            "/usr/local/lib/python3.10/dist-packages/sklearn/linear_model/_logistic.py:1193: UserWarning: Setting penalty=None will ignore the C and l1_ratio parameters\n",
            "  warnings.warn(\n",
            "/usr/local/lib/python3.10/dist-packages/sklearn/linear_model/_logistic.py:1172: UserWarning: l1_ratio parameter is only used when penalty is 'elasticnet'. Got (penalty=none)\n",
            "  warnings.warn(\n",
            "/usr/local/lib/python3.10/dist-packages/sklearn/linear_model/_logistic.py:1183: FutureWarning: `penalty='none'`has been deprecated in 1.2 and will be removed in 1.4. To keep the past behaviour, set `penalty=None`.\n",
            "  warnings.warn(\n",
            "/usr/local/lib/python3.10/dist-packages/sklearn/linear_model/_logistic.py:1193: UserWarning: Setting penalty=None will ignore the C and l1_ratio parameters\n",
            "  warnings.warn(\n",
            "/usr/local/lib/python3.10/dist-packages/sklearn/linear_model/_logistic.py:1172: UserWarning: l1_ratio parameter is only used when penalty is 'elasticnet'. Got (penalty=none)\n",
            "  warnings.warn(\n",
            "/usr/local/lib/python3.10/dist-packages/sklearn/linear_model/_logistic.py:1183: FutureWarning: `penalty='none'`has been deprecated in 1.2 and will be removed in 1.4. To keep the past behaviour, set `penalty=None`.\n",
            "  warnings.warn(\n",
            "/usr/local/lib/python3.10/dist-packages/sklearn/linear_model/_logistic.py:1193: UserWarning: Setting penalty=None will ignore the C and l1_ratio parameters\n",
            "  warnings.warn(\n"
          ]
        },
        {
          "output_type": "stream",
          "name": "stdout",
          "text": [
            "[CV] END .....C=0.01, l1_ratio=0, penalty=none, solver=lbfgs; total time=   0.1s\n",
            "[CV] END .....C=0.01, l1_ratio=0, penalty=none, solver=lbfgs; total time=   0.1s\n",
            "[CV] END .....C=0.01, l1_ratio=0, penalty=none, solver=lbfgs; total time=   0.1s\n"
          ]
        },
        {
          "output_type": "stream",
          "name": "stderr",
          "text": [
            "/usr/local/lib/python3.10/dist-packages/sklearn/linear_model/_logistic.py:1172: UserWarning: l1_ratio parameter is only used when penalty is 'elasticnet'. Got (penalty=none)\n",
            "  warnings.warn(\n",
            "/usr/local/lib/python3.10/dist-packages/sklearn/linear_model/_logistic.py:1183: FutureWarning: `penalty='none'`has been deprecated in 1.2 and will be removed in 1.4. To keep the past behaviour, set `penalty=None`.\n",
            "  warnings.warn(\n",
            "/usr/local/lib/python3.10/dist-packages/sklearn/linear_model/_logistic.py:1193: UserWarning: Setting penalty=None will ignore the C and l1_ratio parameters\n",
            "  warnings.warn(\n",
            "/usr/local/lib/python3.10/dist-packages/sklearn/linear_model/_logistic.py:1172: UserWarning: l1_ratio parameter is only used when penalty is 'elasticnet'. Got (penalty=none)\n",
            "  warnings.warn(\n",
            "/usr/local/lib/python3.10/dist-packages/sklearn/linear_model/_logistic.py:1183: FutureWarning: `penalty='none'`has been deprecated in 1.2 and will be removed in 1.4. To keep the past behaviour, set `penalty=None`.\n",
            "  warnings.warn(\n",
            "/usr/local/lib/python3.10/dist-packages/sklearn/linear_model/_logistic.py:1193: UserWarning: Setting penalty=None will ignore the C and l1_ratio parameters\n",
            "  warnings.warn(\n"
          ]
        },
        {
          "output_type": "stream",
          "name": "stdout",
          "text": [
            "[CV] END .C=0.01, l1_ratio=0, penalty=none, solver=liblinear; total time=   0.0s\n",
            "[CV] END .C=0.01, l1_ratio=0, penalty=none, solver=liblinear; total time=   0.0s\n",
            "[CV] END .C=0.01, l1_ratio=0, penalty=none, solver=liblinear; total time=   0.0s\n",
            "[CV] END .C=0.01, l1_ratio=0, penalty=none, solver=liblinear; total time=   0.0s\n",
            "[CV] END .C=0.01, l1_ratio=0, penalty=none, solver=liblinear; total time=   0.0s\n"
          ]
        },
        {
          "output_type": "stream",
          "name": "stderr",
          "text": [
            "/usr/local/lib/python3.10/dist-packages/sklearn/linear_model/_logistic.py:1172: UserWarning: l1_ratio parameter is only used when penalty is 'elasticnet'. Got (penalty=none)\n",
            "  warnings.warn(\n",
            "/usr/local/lib/python3.10/dist-packages/sklearn/linear_model/_logistic.py:1183: FutureWarning: `penalty='none'`has been deprecated in 1.2 and will be removed in 1.4. To keep the past behaviour, set `penalty=None`.\n",
            "  warnings.warn(\n",
            "/usr/local/lib/python3.10/dist-packages/sklearn/linear_model/_logistic.py:1193: UserWarning: Setting penalty=None will ignore the C and l1_ratio parameters\n",
            "  warnings.warn(\n"
          ]
        },
        {
          "output_type": "stream",
          "name": "stdout",
          "text": [
            "[CV] END ......C=0.01, l1_ratio=0, penalty=none, solver=saga; total time=  10.4s\n"
          ]
        },
        {
          "output_type": "stream",
          "name": "stderr",
          "text": [
            "/usr/local/lib/python3.10/dist-packages/sklearn/linear_model/_logistic.py:1172: UserWarning: l1_ratio parameter is only used when penalty is 'elasticnet'. Got (penalty=none)\n",
            "  warnings.warn(\n",
            "/usr/local/lib/python3.10/dist-packages/sklearn/linear_model/_logistic.py:1183: FutureWarning: `penalty='none'`has been deprecated in 1.2 and will be removed in 1.4. To keep the past behaviour, set `penalty=None`.\n",
            "  warnings.warn(\n",
            "/usr/local/lib/python3.10/dist-packages/sklearn/linear_model/_logistic.py:1193: UserWarning: Setting penalty=None will ignore the C and l1_ratio parameters\n",
            "  warnings.warn(\n"
          ]
        },
        {
          "output_type": "stream",
          "name": "stdout",
          "text": [
            "[CV] END ......C=0.01, l1_ratio=0, penalty=none, solver=saga; total time=  25.4s\n"
          ]
        },
        {
          "output_type": "stream",
          "name": "stderr",
          "text": [
            "/usr/local/lib/python3.10/dist-packages/sklearn/linear_model/_logistic.py:1172: UserWarning: l1_ratio parameter is only used when penalty is 'elasticnet'. Got (penalty=none)\n",
            "  warnings.warn(\n",
            "/usr/local/lib/python3.10/dist-packages/sklearn/linear_model/_logistic.py:1183: FutureWarning: `penalty='none'`has been deprecated in 1.2 and will be removed in 1.4. To keep the past behaviour, set `penalty=None`.\n",
            "  warnings.warn(\n",
            "/usr/local/lib/python3.10/dist-packages/sklearn/linear_model/_logistic.py:1193: UserWarning: Setting penalty=None will ignore the C and l1_ratio parameters\n",
            "  warnings.warn(\n"
          ]
        },
        {
          "output_type": "stream",
          "name": "stdout",
          "text": [
            "[CV] END ......C=0.01, l1_ratio=0, penalty=none, solver=saga; total time=  22.1s\n"
          ]
        },
        {
          "output_type": "stream",
          "name": "stderr",
          "text": [
            "/usr/local/lib/python3.10/dist-packages/sklearn/linear_model/_logistic.py:1172: UserWarning: l1_ratio parameter is only used when penalty is 'elasticnet'. Got (penalty=none)\n",
            "  warnings.warn(\n",
            "/usr/local/lib/python3.10/dist-packages/sklearn/linear_model/_logistic.py:1183: FutureWarning: `penalty='none'`has been deprecated in 1.2 and will be removed in 1.4. To keep the past behaviour, set `penalty=None`.\n",
            "  warnings.warn(\n",
            "/usr/local/lib/python3.10/dist-packages/sklearn/linear_model/_logistic.py:1193: UserWarning: Setting penalty=None will ignore the C and l1_ratio parameters\n",
            "  warnings.warn(\n"
          ]
        },
        {
          "output_type": "stream",
          "name": "stdout",
          "text": [
            "[CV] END ......C=0.01, l1_ratio=0, penalty=none, solver=saga; total time=  13.9s\n"
          ]
        },
        {
          "output_type": "stream",
          "name": "stderr",
          "text": [
            "/usr/local/lib/python3.10/dist-packages/sklearn/linear_model/_logistic.py:1172: UserWarning: l1_ratio parameter is only used when penalty is 'elasticnet'. Got (penalty=none)\n",
            "  warnings.warn(\n",
            "/usr/local/lib/python3.10/dist-packages/sklearn/linear_model/_logistic.py:1183: FutureWarning: `penalty='none'`has been deprecated in 1.2 and will be removed in 1.4. To keep the past behaviour, set `penalty=None`.\n",
            "  warnings.warn(\n",
            "/usr/local/lib/python3.10/dist-packages/sklearn/linear_model/_logistic.py:1193: UserWarning: Setting penalty=None will ignore the C and l1_ratio parameters\n",
            "  warnings.warn(\n"
          ]
        },
        {
          "output_type": "stream",
          "name": "stdout",
          "text": [
            "[CV] END ......C=0.01, l1_ratio=0, penalty=none, solver=saga; total time=  18.9s\n",
            "[CV] END .....C=0.01, l1_ratio=0.5, penalty=l1, solver=lbfgs; total time=   0.0s\n",
            "[CV] END .....C=0.01, l1_ratio=0.5, penalty=l1, solver=lbfgs; total time=   0.0s\n",
            "[CV] END .....C=0.01, l1_ratio=0.5, penalty=l1, solver=lbfgs; total time=   0.0s\n",
            "[CV] END .....C=0.01, l1_ratio=0.5, penalty=l1, solver=lbfgs; total time=   0.0s\n",
            "[CV] END .....C=0.01, l1_ratio=0.5, penalty=l1, solver=lbfgs; total time=   0.0s\n",
            "[CV] END .C=0.01, l1_ratio=0.5, penalty=l1, solver=liblinear; total time=   0.0s\n",
            "[CV] END .C=0.01, l1_ratio=0.5, penalty=l1, solver=liblinear; total time=   0.0s\n",
            "[CV] END .C=0.01, l1_ratio=0.5, penalty=l1, solver=liblinear; total time=   0.0s\n",
            "[CV] END .C=0.01, l1_ratio=0.5, penalty=l1, solver=liblinear; total time=   0.0s\n",
            "[CV] END .C=0.01, l1_ratio=0.5, penalty=l1, solver=liblinear; total time=   0.0s\n",
            "[CV] END ......C=0.01, l1_ratio=0.5, penalty=l1, solver=saga; total time=   0.0s\n",
            "[CV] END ......C=0.01, l1_ratio=0.5, penalty=l1, solver=saga; total time=   0.0s\n",
            "[CV] END ......C=0.01, l1_ratio=0.5, penalty=l1, solver=saga; total time=   0.0s\n"
          ]
        },
        {
          "output_type": "stream",
          "name": "stderr",
          "text": [
            "/usr/local/lib/python3.10/dist-packages/sklearn/linear_model/_logistic.py:1172: UserWarning: l1_ratio parameter is only used when penalty is 'elasticnet'. Got (penalty=l1)\n",
            "  warnings.warn(\n",
            "/usr/local/lib/python3.10/dist-packages/sklearn/linear_model/_logistic.py:1172: UserWarning: l1_ratio parameter is only used when penalty is 'elasticnet'. Got (penalty=l1)\n",
            "  warnings.warn(\n",
            "/usr/local/lib/python3.10/dist-packages/sklearn/linear_model/_logistic.py:1172: UserWarning: l1_ratio parameter is only used when penalty is 'elasticnet'. Got (penalty=l1)\n",
            "  warnings.warn(\n",
            "/usr/local/lib/python3.10/dist-packages/sklearn/linear_model/_logistic.py:1172: UserWarning: l1_ratio parameter is only used when penalty is 'elasticnet'. Got (penalty=l1)\n",
            "  warnings.warn(\n",
            "/usr/local/lib/python3.10/dist-packages/sklearn/linear_model/_logistic.py:1172: UserWarning: l1_ratio parameter is only used when penalty is 'elasticnet'. Got (penalty=l1)\n",
            "  warnings.warn(\n",
            "/usr/local/lib/python3.10/dist-packages/sklearn/linear_model/_logistic.py:1172: UserWarning: l1_ratio parameter is only used when penalty is 'elasticnet'. Got (penalty=l1)\n",
            "  warnings.warn(\n",
            "/usr/local/lib/python3.10/dist-packages/sklearn/linear_model/_logistic.py:1172: UserWarning: l1_ratio parameter is only used when penalty is 'elasticnet'. Got (penalty=l1)\n",
            "  warnings.warn(\n",
            "/usr/local/lib/python3.10/dist-packages/sklearn/linear_model/_logistic.py:1172: UserWarning: l1_ratio parameter is only used when penalty is 'elasticnet'. Got (penalty=l1)\n",
            "  warnings.warn(\n",
            "/usr/local/lib/python3.10/dist-packages/sklearn/linear_model/_logistic.py:1172: UserWarning: l1_ratio parameter is only used when penalty is 'elasticnet'. Got (penalty=l1)\n",
            "  warnings.warn(\n"
          ]
        },
        {
          "output_type": "stream",
          "name": "stdout",
          "text": [
            "[CV] END ......C=0.01, l1_ratio=0.5, penalty=l1, solver=saga; total time=   0.0s\n",
            "[CV] END ......C=0.01, l1_ratio=0.5, penalty=l1, solver=saga; total time=   0.0s\n",
            "[CV] END .....C=0.01, l1_ratio=0.5, penalty=l2, solver=lbfgs; total time=   0.0s\n",
            "[CV] END .....C=0.01, l1_ratio=0.5, penalty=l2, solver=lbfgs; total time=   0.0s\n",
            "[CV] END .....C=0.01, l1_ratio=0.5, penalty=l2, solver=lbfgs; total time=   0.0s\n",
            "[CV] END .....C=0.01, l1_ratio=0.5, penalty=l2, solver=lbfgs; total time=   0.0s\n",
            "[CV] END .....C=0.01, l1_ratio=0.5, penalty=l2, solver=lbfgs; total time=   0.0s\n"
          ]
        },
        {
          "output_type": "stream",
          "name": "stderr",
          "text": [
            "/usr/local/lib/python3.10/dist-packages/sklearn/linear_model/_logistic.py:1172: UserWarning: l1_ratio parameter is only used when penalty is 'elasticnet'. Got (penalty=l1)\n",
            "  warnings.warn(\n",
            "/usr/local/lib/python3.10/dist-packages/sklearn/linear_model/_logistic.py:1172: UserWarning: l1_ratio parameter is only used when penalty is 'elasticnet'. Got (penalty=l2)\n",
            "  warnings.warn(\n",
            "/usr/local/lib/python3.10/dist-packages/sklearn/linear_model/_logistic.py:1172: UserWarning: l1_ratio parameter is only used when penalty is 'elasticnet'. Got (penalty=l2)\n",
            "  warnings.warn(\n",
            "/usr/local/lib/python3.10/dist-packages/sklearn/linear_model/_logistic.py:1172: UserWarning: l1_ratio parameter is only used when penalty is 'elasticnet'. Got (penalty=l2)\n",
            "  warnings.warn(\n",
            "/usr/local/lib/python3.10/dist-packages/sklearn/linear_model/_logistic.py:1172: UserWarning: l1_ratio parameter is only used when penalty is 'elasticnet'. Got (penalty=l2)\n",
            "  warnings.warn(\n",
            "/usr/local/lib/python3.10/dist-packages/sklearn/linear_model/_logistic.py:1172: UserWarning: l1_ratio parameter is only used when penalty is 'elasticnet'. Got (penalty=l2)\n",
            "  warnings.warn(\n",
            "/usr/local/lib/python3.10/dist-packages/sklearn/linear_model/_logistic.py:1172: UserWarning: l1_ratio parameter is only used when penalty is 'elasticnet'. Got (penalty=l2)\n",
            "  warnings.warn(\n"
          ]
        },
        {
          "output_type": "stream",
          "name": "stdout",
          "text": [
            "[CV] END .C=0.01, l1_ratio=0.5, penalty=l2, solver=liblinear; total time=   0.1s\n",
            "[CV] END .C=0.01, l1_ratio=0.5, penalty=l2, solver=liblinear; total time=   0.1s\n",
            "[CV] END .C=0.01, l1_ratio=0.5, penalty=l2, solver=liblinear; total time=   0.1s\n",
            "[CV] END .C=0.01, l1_ratio=0.5, penalty=l2, solver=liblinear; total time=   0.0s\n"
          ]
        },
        {
          "output_type": "stream",
          "name": "stderr",
          "text": [
            "/usr/local/lib/python3.10/dist-packages/sklearn/linear_model/_logistic.py:1172: UserWarning: l1_ratio parameter is only used when penalty is 'elasticnet'. Got (penalty=l2)\n",
            "  warnings.warn(\n",
            "/usr/local/lib/python3.10/dist-packages/sklearn/linear_model/_logistic.py:1172: UserWarning: l1_ratio parameter is only used when penalty is 'elasticnet'. Got (penalty=l2)\n",
            "  warnings.warn(\n",
            "/usr/local/lib/python3.10/dist-packages/sklearn/linear_model/_logistic.py:1172: UserWarning: l1_ratio parameter is only used when penalty is 'elasticnet'. Got (penalty=l2)\n",
            "  warnings.warn(\n",
            "/usr/local/lib/python3.10/dist-packages/sklearn/linear_model/_logistic.py:1172: UserWarning: l1_ratio parameter is only used when penalty is 'elasticnet'. Got (penalty=l2)\n",
            "  warnings.warn(\n"
          ]
        },
        {
          "output_type": "stream",
          "name": "stdout",
          "text": [
            "[CV] END .C=0.01, l1_ratio=0.5, penalty=l2, solver=liblinear; total time=   0.0s\n"
          ]
        },
        {
          "output_type": "stream",
          "name": "stderr",
          "text": [
            "/usr/local/lib/python3.10/dist-packages/sklearn/linear_model/_logistic.py:1172: UserWarning: l1_ratio parameter is only used when penalty is 'elasticnet'. Got (penalty=l2)\n",
            "  warnings.warn(\n"
          ]
        },
        {
          "output_type": "stream",
          "name": "stdout",
          "text": [
            "[CV] END ......C=0.01, l1_ratio=0.5, penalty=l2, solver=saga; total time=   0.9s\n"
          ]
        },
        {
          "output_type": "stream",
          "name": "stderr",
          "text": [
            "/usr/local/lib/python3.10/dist-packages/sklearn/linear_model/_logistic.py:1172: UserWarning: l1_ratio parameter is only used when penalty is 'elasticnet'. Got (penalty=l2)\n",
            "  warnings.warn(\n"
          ]
        },
        {
          "output_type": "stream",
          "name": "stdout",
          "text": [
            "[CV] END ......C=0.01, l1_ratio=0.5, penalty=l2, solver=saga; total time=   1.5s\n"
          ]
        },
        {
          "output_type": "stream",
          "name": "stderr",
          "text": [
            "/usr/local/lib/python3.10/dist-packages/sklearn/linear_model/_logistic.py:1172: UserWarning: l1_ratio parameter is only used when penalty is 'elasticnet'. Got (penalty=l2)\n",
            "  warnings.warn(\n"
          ]
        },
        {
          "output_type": "stream",
          "name": "stdout",
          "text": [
            "[CV] END ......C=0.01, l1_ratio=0.5, penalty=l2, solver=saga; total time=   1.2s\n"
          ]
        },
        {
          "output_type": "stream",
          "name": "stderr",
          "text": [
            "/usr/local/lib/python3.10/dist-packages/sklearn/linear_model/_logistic.py:1172: UserWarning: l1_ratio parameter is only used when penalty is 'elasticnet'. Got (penalty=l2)\n",
            "  warnings.warn(\n"
          ]
        },
        {
          "output_type": "stream",
          "name": "stdout",
          "text": [
            "[CV] END ......C=0.01, l1_ratio=0.5, penalty=l2, solver=saga; total time=   1.3s\n"
          ]
        },
        {
          "output_type": "stream",
          "name": "stderr",
          "text": [
            "/usr/local/lib/python3.10/dist-packages/sklearn/linear_model/_logistic.py:1172: UserWarning: l1_ratio parameter is only used when penalty is 'elasticnet'. Got (penalty=l2)\n",
            "  warnings.warn(\n"
          ]
        },
        {
          "output_type": "stream",
          "name": "stdout",
          "text": [
            "[CV] END ......C=0.01, l1_ratio=0.5, penalty=l2, solver=saga; total time=   1.4s\n",
            "[CV] END C=0.01, l1_ratio=0.5, penalty=elasticnet, solver=lbfgs; total time=   0.0s\n",
            "[CV] END C=0.01, l1_ratio=0.5, penalty=elasticnet, solver=lbfgs; total time=   0.0s\n",
            "[CV] END C=0.01, l1_ratio=0.5, penalty=elasticnet, solver=lbfgs; total time=   0.0s\n",
            "[CV] END C=0.01, l1_ratio=0.5, penalty=elasticnet, solver=lbfgs; total time=   0.0s\n",
            "[CV] END C=0.01, l1_ratio=0.5, penalty=elasticnet, solver=lbfgs; total time=   0.0s\n",
            "[CV] END C=0.01, l1_ratio=0.5, penalty=elasticnet, solver=liblinear; total time=   0.0s\n",
            "[CV] END C=0.01, l1_ratio=0.5, penalty=elasticnet, solver=liblinear; total time=   0.0s\n",
            "[CV] END C=0.01, l1_ratio=0.5, penalty=elasticnet, solver=liblinear; total time=   0.0s\n",
            "[CV] END C=0.01, l1_ratio=0.5, penalty=elasticnet, solver=liblinear; total time=   0.0s\n",
            "[CV] END C=0.01, l1_ratio=0.5, penalty=elasticnet, solver=liblinear; total time=   0.0s\n",
            "[CV] END C=0.01, l1_ratio=0.5, penalty=elasticnet, solver=saga; total time=   0.2s\n",
            "[CV] END C=0.01, l1_ratio=0.5, penalty=elasticnet, solver=saga; total time=   0.1s\n",
            "[CV] END C=0.01, l1_ratio=0.5, penalty=elasticnet, solver=saga; total time=   0.1s\n",
            "[CV] END C=0.01, l1_ratio=0.5, penalty=elasticnet, solver=saga; total time=   0.1s\n",
            "[CV] END C=0.01, l1_ratio=0.5, penalty=elasticnet, solver=saga; total time=   0.1s\n",
            "[CV] END ...C=0.01, l1_ratio=0.5, penalty=none, solver=lbfgs; total time=   0.0s\n",
            "[CV] END ...C=0.01, l1_ratio=0.5, penalty=none, solver=lbfgs; total time=   0.0s\n",
            "[CV] END ...C=0.01, l1_ratio=0.5, penalty=none, solver=lbfgs; total time=   0.0s\n",
            "[CV] END ...C=0.01, l1_ratio=0.5, penalty=none, solver=lbfgs; total time=   0.0s\n",
            "[CV] END ...C=0.01, l1_ratio=0.5, penalty=none, solver=lbfgs; total time=   0.0s\n",
            "[CV] END C=0.01, l1_ratio=0.5, penalty=none, solver=liblinear; total time=   0.0s\n",
            "[CV] END C=0.01, l1_ratio=0.5, penalty=none, solver=liblinear; total time=   0.0s\n",
            "[CV] END C=0.01, l1_ratio=0.5, penalty=none, solver=liblinear; total time=   0.0s\n",
            "[CV] END C=0.01, l1_ratio=0.5, penalty=none, solver=liblinear; total time=   0.0s\n",
            "[CV] END C=0.01, l1_ratio=0.5, penalty=none, solver=liblinear; total time=   0.0s\n"
          ]
        },
        {
          "output_type": "stream",
          "name": "stderr",
          "text": [
            "/usr/local/lib/python3.10/dist-packages/sklearn/linear_model/_logistic.py:1172: UserWarning: l1_ratio parameter is only used when penalty is 'elasticnet'. Got (penalty=none)\n",
            "  warnings.warn(\n",
            "/usr/local/lib/python3.10/dist-packages/sklearn/linear_model/_logistic.py:1183: FutureWarning: `penalty='none'`has been deprecated in 1.2 and will be removed in 1.4. To keep the past behaviour, set `penalty=None`.\n",
            "  warnings.warn(\n",
            "/usr/local/lib/python3.10/dist-packages/sklearn/linear_model/_logistic.py:1193: UserWarning: Setting penalty=None will ignore the C and l1_ratio parameters\n",
            "  warnings.warn(\n",
            "/usr/local/lib/python3.10/dist-packages/sklearn/linear_model/_logistic.py:1172: UserWarning: l1_ratio parameter is only used when penalty is 'elasticnet'. Got (penalty=none)\n",
            "  warnings.warn(\n",
            "/usr/local/lib/python3.10/dist-packages/sklearn/linear_model/_logistic.py:1183: FutureWarning: `penalty='none'`has been deprecated in 1.2 and will be removed in 1.4. To keep the past behaviour, set `penalty=None`.\n",
            "  warnings.warn(\n",
            "/usr/local/lib/python3.10/dist-packages/sklearn/linear_model/_logistic.py:1193: UserWarning: Setting penalty=None will ignore the C and l1_ratio parameters\n",
            "  warnings.warn(\n",
            "/usr/local/lib/python3.10/dist-packages/sklearn/linear_model/_logistic.py:1172: UserWarning: l1_ratio parameter is only used when penalty is 'elasticnet'. Got (penalty=none)\n",
            "  warnings.warn(\n",
            "/usr/local/lib/python3.10/dist-packages/sklearn/linear_model/_logistic.py:1183: FutureWarning: `penalty='none'`has been deprecated in 1.2 and will be removed in 1.4. To keep the past behaviour, set `penalty=None`.\n",
            "  warnings.warn(\n",
            "/usr/local/lib/python3.10/dist-packages/sklearn/linear_model/_logistic.py:1193: UserWarning: Setting penalty=None will ignore the C and l1_ratio parameters\n",
            "  warnings.warn(\n",
            "/usr/local/lib/python3.10/dist-packages/sklearn/linear_model/_logistic.py:1172: UserWarning: l1_ratio parameter is only used when penalty is 'elasticnet'. Got (penalty=none)\n",
            "  warnings.warn(\n",
            "/usr/local/lib/python3.10/dist-packages/sklearn/linear_model/_logistic.py:1183: FutureWarning: `penalty='none'`has been deprecated in 1.2 and will be removed in 1.4. To keep the past behaviour, set `penalty=None`.\n",
            "  warnings.warn(\n",
            "/usr/local/lib/python3.10/dist-packages/sklearn/linear_model/_logistic.py:1193: UserWarning: Setting penalty=None will ignore the C and l1_ratio parameters\n",
            "  warnings.warn(\n",
            "/usr/local/lib/python3.10/dist-packages/sklearn/linear_model/_logistic.py:1172: UserWarning: l1_ratio parameter is only used when penalty is 'elasticnet'. Got (penalty=none)\n",
            "  warnings.warn(\n",
            "/usr/local/lib/python3.10/dist-packages/sklearn/linear_model/_logistic.py:1183: FutureWarning: `penalty='none'`has been deprecated in 1.2 and will be removed in 1.4. To keep the past behaviour, set `penalty=None`.\n",
            "  warnings.warn(\n",
            "/usr/local/lib/python3.10/dist-packages/sklearn/linear_model/_logistic.py:1193: UserWarning: Setting penalty=None will ignore the C and l1_ratio parameters\n",
            "  warnings.warn(\n",
            "/usr/local/lib/python3.10/dist-packages/sklearn/linear_model/_logistic.py:1172: UserWarning: l1_ratio parameter is only used when penalty is 'elasticnet'. Got (penalty=none)\n",
            "  warnings.warn(\n",
            "/usr/local/lib/python3.10/dist-packages/sklearn/linear_model/_logistic.py:1183: FutureWarning: `penalty='none'`has been deprecated in 1.2 and will be removed in 1.4. To keep the past behaviour, set `penalty=None`.\n",
            "  warnings.warn(\n",
            "/usr/local/lib/python3.10/dist-packages/sklearn/linear_model/_logistic.py:1193: UserWarning: Setting penalty=None will ignore the C and l1_ratio parameters\n",
            "  warnings.warn(\n"
          ]
        },
        {
          "output_type": "stream",
          "name": "stdout",
          "text": [
            "[CV] END ....C=0.01, l1_ratio=0.5, penalty=none, solver=saga; total time=   8.0s\n"
          ]
        },
        {
          "output_type": "stream",
          "name": "stderr",
          "text": [
            "/usr/local/lib/python3.10/dist-packages/sklearn/linear_model/_logistic.py:1172: UserWarning: l1_ratio parameter is only used when penalty is 'elasticnet'. Got (penalty=none)\n",
            "  warnings.warn(\n",
            "/usr/local/lib/python3.10/dist-packages/sklearn/linear_model/_logistic.py:1183: FutureWarning: `penalty='none'`has been deprecated in 1.2 and will be removed in 1.4. To keep the past behaviour, set `penalty=None`.\n",
            "  warnings.warn(\n",
            "/usr/local/lib/python3.10/dist-packages/sklearn/linear_model/_logistic.py:1193: UserWarning: Setting penalty=None will ignore the C and l1_ratio parameters\n",
            "  warnings.warn(\n"
          ]
        },
        {
          "output_type": "stream",
          "name": "stdout",
          "text": [
            "[CV] END ....C=0.01, l1_ratio=0.5, penalty=none, solver=saga; total time=  23.8s\n"
          ]
        },
        {
          "output_type": "stream",
          "name": "stderr",
          "text": [
            "/usr/local/lib/python3.10/dist-packages/sklearn/linear_model/_logistic.py:1172: UserWarning: l1_ratio parameter is only used when penalty is 'elasticnet'. Got (penalty=none)\n",
            "  warnings.warn(\n",
            "/usr/local/lib/python3.10/dist-packages/sklearn/linear_model/_logistic.py:1183: FutureWarning: `penalty='none'`has been deprecated in 1.2 and will be removed in 1.4. To keep the past behaviour, set `penalty=None`.\n",
            "  warnings.warn(\n",
            "/usr/local/lib/python3.10/dist-packages/sklearn/linear_model/_logistic.py:1193: UserWarning: Setting penalty=None will ignore the C and l1_ratio parameters\n",
            "  warnings.warn(\n"
          ]
        },
        {
          "output_type": "stream",
          "name": "stdout",
          "text": [
            "[CV] END ....C=0.01, l1_ratio=0.5, penalty=none, solver=saga; total time=  22.1s\n"
          ]
        },
        {
          "output_type": "stream",
          "name": "stderr",
          "text": [
            "/usr/local/lib/python3.10/dist-packages/sklearn/linear_model/_logistic.py:1172: UserWarning: l1_ratio parameter is only used when penalty is 'elasticnet'. Got (penalty=none)\n",
            "  warnings.warn(\n",
            "/usr/local/lib/python3.10/dist-packages/sklearn/linear_model/_logistic.py:1183: FutureWarning: `penalty='none'`has been deprecated in 1.2 and will be removed in 1.4. To keep the past behaviour, set `penalty=None`.\n",
            "  warnings.warn(\n",
            "/usr/local/lib/python3.10/dist-packages/sklearn/linear_model/_logistic.py:1193: UserWarning: Setting penalty=None will ignore the C and l1_ratio parameters\n",
            "  warnings.warn(\n"
          ]
        },
        {
          "output_type": "stream",
          "name": "stdout",
          "text": [
            "[CV] END ....C=0.01, l1_ratio=0.5, penalty=none, solver=saga; total time=  14.0s\n"
          ]
        },
        {
          "output_type": "stream",
          "name": "stderr",
          "text": [
            "/usr/local/lib/python3.10/dist-packages/sklearn/linear_model/_logistic.py:1172: UserWarning: l1_ratio parameter is only used when penalty is 'elasticnet'. Got (penalty=none)\n",
            "  warnings.warn(\n",
            "/usr/local/lib/python3.10/dist-packages/sklearn/linear_model/_logistic.py:1183: FutureWarning: `penalty='none'`has been deprecated in 1.2 and will be removed in 1.4. To keep the past behaviour, set `penalty=None`.\n",
            "  warnings.warn(\n",
            "/usr/local/lib/python3.10/dist-packages/sklearn/linear_model/_logistic.py:1193: UserWarning: Setting penalty=None will ignore the C and l1_ratio parameters\n",
            "  warnings.warn(\n"
          ]
        },
        {
          "output_type": "stream",
          "name": "stdout",
          "text": [
            "[CV] END ....C=0.01, l1_ratio=0.5, penalty=none, solver=saga; total time=  18.8s\n",
            "[CV] END .......C=0.01, l1_ratio=1, penalty=l1, solver=lbfgs; total time=   0.0s\n",
            "[CV] END .......C=0.01, l1_ratio=1, penalty=l1, solver=lbfgs; total time=   0.0s\n",
            "[CV] END .......C=0.01, l1_ratio=1, penalty=l1, solver=lbfgs; total time=   0.0s\n",
            "[CV] END .......C=0.01, l1_ratio=1, penalty=l1, solver=lbfgs; total time=   0.0s\n",
            "[CV] END .......C=0.01, l1_ratio=1, penalty=l1, solver=lbfgs; total time=   0.0s\n",
            "[CV] END ...C=0.01, l1_ratio=1, penalty=l1, solver=liblinear; total time=   0.0s\n",
            "[CV] END ...C=0.01, l1_ratio=1, penalty=l1, solver=liblinear; total time=   0.0s\n",
            "[CV] END ...C=0.01, l1_ratio=1, penalty=l1, solver=liblinear; total time=   0.0s\n",
            "[CV] END ...C=0.01, l1_ratio=1, penalty=l1, solver=liblinear; total time=   0.0s\n",
            "[CV] END ...C=0.01, l1_ratio=1, penalty=l1, solver=liblinear; total time=   0.0s\n",
            "[CV] END ........C=0.01, l1_ratio=1, penalty=l1, solver=saga; total time=   0.0s\n",
            "[CV] END ........C=0.01, l1_ratio=1, penalty=l1, solver=saga; total time=   0.0s\n",
            "[CV] END ........C=0.01, l1_ratio=1, penalty=l1, solver=saga; total time=   0.0s\n",
            "[CV] END ........C=0.01, l1_ratio=1, penalty=l1, solver=saga; total time=   0.0s\n"
          ]
        },
        {
          "output_type": "stream",
          "name": "stderr",
          "text": [
            "/usr/local/lib/python3.10/dist-packages/sklearn/linear_model/_logistic.py:1172: UserWarning: l1_ratio parameter is only used when penalty is 'elasticnet'. Got (penalty=l1)\n",
            "  warnings.warn(\n",
            "/usr/local/lib/python3.10/dist-packages/sklearn/linear_model/_logistic.py:1172: UserWarning: l1_ratio parameter is only used when penalty is 'elasticnet'. Got (penalty=l1)\n",
            "  warnings.warn(\n",
            "/usr/local/lib/python3.10/dist-packages/sklearn/linear_model/_logistic.py:1172: UserWarning: l1_ratio parameter is only used when penalty is 'elasticnet'. Got (penalty=l1)\n",
            "  warnings.warn(\n",
            "/usr/local/lib/python3.10/dist-packages/sklearn/linear_model/_logistic.py:1172: UserWarning: l1_ratio parameter is only used when penalty is 'elasticnet'. Got (penalty=l1)\n",
            "  warnings.warn(\n",
            "/usr/local/lib/python3.10/dist-packages/sklearn/linear_model/_logistic.py:1172: UserWarning: l1_ratio parameter is only used when penalty is 'elasticnet'. Got (penalty=l1)\n",
            "  warnings.warn(\n",
            "/usr/local/lib/python3.10/dist-packages/sklearn/linear_model/_logistic.py:1172: UserWarning: l1_ratio parameter is only used when penalty is 'elasticnet'. Got (penalty=l1)\n",
            "  warnings.warn(\n",
            "/usr/local/lib/python3.10/dist-packages/sklearn/linear_model/_logistic.py:1172: UserWarning: l1_ratio parameter is only used when penalty is 'elasticnet'. Got (penalty=l1)\n",
            "  warnings.warn(\n",
            "/usr/local/lib/python3.10/dist-packages/sklearn/linear_model/_logistic.py:1172: UserWarning: l1_ratio parameter is only used when penalty is 'elasticnet'. Got (penalty=l1)\n",
            "  warnings.warn(\n",
            "/usr/local/lib/python3.10/dist-packages/sklearn/linear_model/_logistic.py:1172: UserWarning: l1_ratio parameter is only used when penalty is 'elasticnet'. Got (penalty=l1)\n",
            "  warnings.warn(\n",
            "/usr/local/lib/python3.10/dist-packages/sklearn/linear_model/_logistic.py:1172: UserWarning: l1_ratio parameter is only used when penalty is 'elasticnet'. Got (penalty=l1)\n",
            "  warnings.warn(\n"
          ]
        },
        {
          "output_type": "stream",
          "name": "stdout",
          "text": [
            "[CV] END ........C=0.01, l1_ratio=1, penalty=l1, solver=saga; total time=   0.0s\n",
            "[CV] END .......C=0.01, l1_ratio=1, penalty=l2, solver=lbfgs; total time=   0.0s\n",
            "[CV] END .......C=0.01, l1_ratio=1, penalty=l2, solver=lbfgs; total time=   0.0s\n",
            "[CV] END .......C=0.01, l1_ratio=1, penalty=l2, solver=lbfgs; total time=   0.0s\n",
            "[CV] END .......C=0.01, l1_ratio=1, penalty=l2, solver=lbfgs; total time=   0.0s\n",
            "[CV] END .......C=0.01, l1_ratio=1, penalty=l2, solver=lbfgs; total time=   0.0s\n",
            "[CV] END ...C=0.01, l1_ratio=1, penalty=l2, solver=liblinear; total time=   0.0s\n",
            "[CV] END ...C=0.01, l1_ratio=1, penalty=l2, solver=liblinear; total time=   0.0s\n",
            "[CV] END ...C=0.01, l1_ratio=1, penalty=l2, solver=liblinear; total time=   0.0s\n",
            "[CV] END ...C=0.01, l1_ratio=1, penalty=l2, solver=liblinear; total time=   0.0s\n"
          ]
        },
        {
          "output_type": "stream",
          "name": "stderr",
          "text": [
            "/usr/local/lib/python3.10/dist-packages/sklearn/linear_model/_logistic.py:1172: UserWarning: l1_ratio parameter is only used when penalty is 'elasticnet'. Got (penalty=l2)\n",
            "  warnings.warn(\n",
            "/usr/local/lib/python3.10/dist-packages/sklearn/linear_model/_logistic.py:1172: UserWarning: l1_ratio parameter is only used when penalty is 'elasticnet'. Got (penalty=l2)\n",
            "  warnings.warn(\n",
            "/usr/local/lib/python3.10/dist-packages/sklearn/linear_model/_logistic.py:1172: UserWarning: l1_ratio parameter is only used when penalty is 'elasticnet'. Got (penalty=l2)\n",
            "  warnings.warn(\n",
            "/usr/local/lib/python3.10/dist-packages/sklearn/linear_model/_logistic.py:1172: UserWarning: l1_ratio parameter is only used when penalty is 'elasticnet'. Got (penalty=l2)\n",
            "  warnings.warn(\n",
            "/usr/local/lib/python3.10/dist-packages/sklearn/linear_model/_logistic.py:1172: UserWarning: l1_ratio parameter is only used when penalty is 'elasticnet'. Got (penalty=l2)\n",
            "  warnings.warn(\n",
            "/usr/local/lib/python3.10/dist-packages/sklearn/linear_model/_logistic.py:1172: UserWarning: l1_ratio parameter is only used when penalty is 'elasticnet'. Got (penalty=l2)\n",
            "  warnings.warn(\n",
            "/usr/local/lib/python3.10/dist-packages/sklearn/linear_model/_logistic.py:1172: UserWarning: l1_ratio parameter is only used when penalty is 'elasticnet'. Got (penalty=l2)\n",
            "  warnings.warn(\n",
            "/usr/local/lib/python3.10/dist-packages/sklearn/linear_model/_logistic.py:1172: UserWarning: l1_ratio parameter is only used when penalty is 'elasticnet'. Got (penalty=l2)\n",
            "  warnings.warn(\n",
            "/usr/local/lib/python3.10/dist-packages/sklearn/linear_model/_logistic.py:1172: UserWarning: l1_ratio parameter is only used when penalty is 'elasticnet'. Got (penalty=l2)\n",
            "  warnings.warn(\n",
            "/usr/local/lib/python3.10/dist-packages/sklearn/linear_model/_logistic.py:1172: UserWarning: l1_ratio parameter is only used when penalty is 'elasticnet'. Got (penalty=l2)\n",
            "  warnings.warn(\n"
          ]
        },
        {
          "output_type": "stream",
          "name": "stdout",
          "text": [
            "[CV] END ...C=0.01, l1_ratio=1, penalty=l2, solver=liblinear; total time=   0.0s\n"
          ]
        },
        {
          "output_type": "stream",
          "name": "stderr",
          "text": [
            "/usr/local/lib/python3.10/dist-packages/sklearn/linear_model/_logistic.py:1172: UserWarning: l1_ratio parameter is only used when penalty is 'elasticnet'. Got (penalty=l2)\n",
            "  warnings.warn(\n"
          ]
        },
        {
          "output_type": "stream",
          "name": "stdout",
          "text": [
            "[CV] END ........C=0.01, l1_ratio=1, penalty=l2, solver=saga; total time=   0.7s\n"
          ]
        },
        {
          "output_type": "stream",
          "name": "stderr",
          "text": [
            "/usr/local/lib/python3.10/dist-packages/sklearn/linear_model/_logistic.py:1172: UserWarning: l1_ratio parameter is only used when penalty is 'elasticnet'. Got (penalty=l2)\n",
            "  warnings.warn(\n"
          ]
        },
        {
          "output_type": "stream",
          "name": "stdout",
          "text": [
            "[CV] END ........C=0.01, l1_ratio=1, penalty=l2, solver=saga; total time=   1.2s\n"
          ]
        },
        {
          "output_type": "stream",
          "name": "stderr",
          "text": [
            "/usr/local/lib/python3.10/dist-packages/sklearn/linear_model/_logistic.py:1172: UserWarning: l1_ratio parameter is only used when penalty is 'elasticnet'. Got (penalty=l2)\n",
            "  warnings.warn(\n"
          ]
        },
        {
          "output_type": "stream",
          "name": "stdout",
          "text": [
            "[CV] END ........C=0.01, l1_ratio=1, penalty=l2, solver=saga; total time=   1.3s\n"
          ]
        },
        {
          "output_type": "stream",
          "name": "stderr",
          "text": [
            "/usr/local/lib/python3.10/dist-packages/sklearn/linear_model/_logistic.py:1172: UserWarning: l1_ratio parameter is only used when penalty is 'elasticnet'. Got (penalty=l2)\n",
            "  warnings.warn(\n"
          ]
        },
        {
          "output_type": "stream",
          "name": "stdout",
          "text": [
            "[CV] END ........C=0.01, l1_ratio=1, penalty=l2, solver=saga; total time=   1.4s\n"
          ]
        },
        {
          "output_type": "stream",
          "name": "stderr",
          "text": [
            "/usr/local/lib/python3.10/dist-packages/sklearn/linear_model/_logistic.py:1172: UserWarning: l1_ratio parameter is only used when penalty is 'elasticnet'. Got (penalty=l2)\n",
            "  warnings.warn(\n"
          ]
        },
        {
          "output_type": "stream",
          "name": "stdout",
          "text": [
            "[CV] END ........C=0.01, l1_ratio=1, penalty=l2, solver=saga; total time=   1.4s\n",
            "[CV] END C=0.01, l1_ratio=1, penalty=elasticnet, solver=lbfgs; total time=   0.0s\n",
            "[CV] END C=0.01, l1_ratio=1, penalty=elasticnet, solver=lbfgs; total time=   0.0s\n",
            "[CV] END C=0.01, l1_ratio=1, penalty=elasticnet, solver=lbfgs; total time=   0.0s\n",
            "[CV] END C=0.01, l1_ratio=1, penalty=elasticnet, solver=lbfgs; total time=   0.0s\n",
            "[CV] END C=0.01, l1_ratio=1, penalty=elasticnet, solver=lbfgs; total time=   0.0s\n",
            "[CV] END C=0.01, l1_ratio=1, penalty=elasticnet, solver=liblinear; total time=   0.0s\n",
            "[CV] END C=0.01, l1_ratio=1, penalty=elasticnet, solver=liblinear; total time=   0.0s\n",
            "[CV] END C=0.01, l1_ratio=1, penalty=elasticnet, solver=liblinear; total time=   0.0s\n",
            "[CV] END C=0.01, l1_ratio=1, penalty=elasticnet, solver=liblinear; total time=   0.0s\n",
            "[CV] END C=0.01, l1_ratio=1, penalty=elasticnet, solver=liblinear; total time=   0.0s\n",
            "[CV] END C=0.01, l1_ratio=1, penalty=elasticnet, solver=saga; total time=   0.1s\n",
            "[CV] END C=0.01, l1_ratio=1, penalty=elasticnet, solver=saga; total time=   0.0s\n",
            "[CV] END C=0.01, l1_ratio=1, penalty=elasticnet, solver=saga; total time=   0.0s\n",
            "[CV] END C=0.01, l1_ratio=1, penalty=elasticnet, solver=saga; total time=   0.1s\n",
            "[CV] END C=0.01, l1_ratio=1, penalty=elasticnet, solver=saga; total time=   0.1s\n",
            "[CV] END .....C=0.01, l1_ratio=1, penalty=none, solver=lbfgs; total time=   0.0s\n"
          ]
        },
        {
          "output_type": "stream",
          "name": "stderr",
          "text": [
            "/usr/local/lib/python3.10/dist-packages/sklearn/linear_model/_logistic.py:1172: UserWarning: l1_ratio parameter is only used when penalty is 'elasticnet'. Got (penalty=none)\n",
            "  warnings.warn(\n",
            "/usr/local/lib/python3.10/dist-packages/sklearn/linear_model/_logistic.py:1183: FutureWarning: `penalty='none'`has been deprecated in 1.2 and will be removed in 1.4. To keep the past behaviour, set `penalty=None`.\n",
            "  warnings.warn(\n",
            "/usr/local/lib/python3.10/dist-packages/sklearn/linear_model/_logistic.py:1193: UserWarning: Setting penalty=None will ignore the C and l1_ratio parameters\n",
            "  warnings.warn(\n",
            "/usr/local/lib/python3.10/dist-packages/sklearn/linear_model/_logistic.py:1172: UserWarning: l1_ratio parameter is only used when penalty is 'elasticnet'. Got (penalty=none)\n",
            "  warnings.warn(\n",
            "/usr/local/lib/python3.10/dist-packages/sklearn/linear_model/_logistic.py:1183: FutureWarning: `penalty='none'`has been deprecated in 1.2 and will be removed in 1.4. To keep the past behaviour, set `penalty=None`.\n",
            "  warnings.warn(\n",
            "/usr/local/lib/python3.10/dist-packages/sklearn/linear_model/_logistic.py:1193: UserWarning: Setting penalty=None will ignore the C and l1_ratio parameters\n",
            "  warnings.warn(\n",
            "/usr/local/lib/python3.10/dist-packages/sklearn/linear_model/_logistic.py:1172: UserWarning: l1_ratio parameter is only used when penalty is 'elasticnet'. Got (penalty=none)\n",
            "  warnings.warn(\n",
            "/usr/local/lib/python3.10/dist-packages/sklearn/linear_model/_logistic.py:1183: FutureWarning: `penalty='none'`has been deprecated in 1.2 and will be removed in 1.4. To keep the past behaviour, set `penalty=None`.\n",
            "  warnings.warn(\n",
            "/usr/local/lib/python3.10/dist-packages/sklearn/linear_model/_logistic.py:1193: UserWarning: Setting penalty=None will ignore the C and l1_ratio parameters\n",
            "  warnings.warn(\n",
            "/usr/local/lib/python3.10/dist-packages/sklearn/linear_model/_logistic.py:1172: UserWarning: l1_ratio parameter is only used when penalty is 'elasticnet'. Got (penalty=none)\n",
            "  warnings.warn(\n",
            "/usr/local/lib/python3.10/dist-packages/sklearn/linear_model/_logistic.py:1183: FutureWarning: `penalty='none'`has been deprecated in 1.2 and will be removed in 1.4. To keep the past behaviour, set `penalty=None`.\n",
            "  warnings.warn(\n",
            "/usr/local/lib/python3.10/dist-packages/sklearn/linear_model/_logistic.py:1193: UserWarning: Setting penalty=None will ignore the C and l1_ratio parameters\n",
            "  warnings.warn(\n",
            "/usr/local/lib/python3.10/dist-packages/sklearn/linear_model/_logistic.py:1172: UserWarning: l1_ratio parameter is only used when penalty is 'elasticnet'. Got (penalty=none)\n",
            "  warnings.warn(\n",
            "/usr/local/lib/python3.10/dist-packages/sklearn/linear_model/_logistic.py:1183: FutureWarning: `penalty='none'`has been deprecated in 1.2 and will be removed in 1.4. To keep the past behaviour, set `penalty=None`.\n",
            "  warnings.warn(\n",
            "/usr/local/lib/python3.10/dist-packages/sklearn/linear_model/_logistic.py:1193: UserWarning: Setting penalty=None will ignore the C and l1_ratio parameters\n",
            "  warnings.warn(\n"
          ]
        },
        {
          "output_type": "stream",
          "name": "stdout",
          "text": [
            "[CV] END .....C=0.01, l1_ratio=1, penalty=none, solver=lbfgs; total time=   0.0s\n",
            "[CV] END .....C=0.01, l1_ratio=1, penalty=none, solver=lbfgs; total time=   0.1s\n",
            "[CV] END .....C=0.01, l1_ratio=1, penalty=none, solver=lbfgs; total time=   0.0s\n",
            "[CV] END .....C=0.01, l1_ratio=1, penalty=none, solver=lbfgs; total time=   0.0s\n",
            "[CV] END .C=0.01, l1_ratio=1, penalty=none, solver=liblinear; total time=   0.0s\n",
            "[CV] END .C=0.01, l1_ratio=1, penalty=none, solver=liblinear; total time=   0.0s\n",
            "[CV] END .C=0.01, l1_ratio=1, penalty=none, solver=liblinear; total time=   0.0s\n",
            "[CV] END .C=0.01, l1_ratio=1, penalty=none, solver=liblinear; total time=   0.0s\n",
            "[CV] END .C=0.01, l1_ratio=1, penalty=none, solver=liblinear; total time=   0.0s\n"
          ]
        },
        {
          "output_type": "stream",
          "name": "stderr",
          "text": [
            "/usr/local/lib/python3.10/dist-packages/sklearn/linear_model/_logistic.py:1172: UserWarning: l1_ratio parameter is only used when penalty is 'elasticnet'. Got (penalty=none)\n",
            "  warnings.warn(\n",
            "/usr/local/lib/python3.10/dist-packages/sklearn/linear_model/_logistic.py:1183: FutureWarning: `penalty='none'`has been deprecated in 1.2 and will be removed in 1.4. To keep the past behaviour, set `penalty=None`.\n",
            "  warnings.warn(\n",
            "/usr/local/lib/python3.10/dist-packages/sklearn/linear_model/_logistic.py:1193: UserWarning: Setting penalty=None will ignore the C and l1_ratio parameters\n",
            "  warnings.warn(\n"
          ]
        },
        {
          "output_type": "stream",
          "name": "stdout",
          "text": [
            "[CV] END ......C=0.01, l1_ratio=1, penalty=none, solver=saga; total time=   8.0s\n"
          ]
        },
        {
          "output_type": "stream",
          "name": "stderr",
          "text": [
            "/usr/local/lib/python3.10/dist-packages/sklearn/linear_model/_logistic.py:1172: UserWarning: l1_ratio parameter is only used when penalty is 'elasticnet'. Got (penalty=none)\n",
            "  warnings.warn(\n",
            "/usr/local/lib/python3.10/dist-packages/sklearn/linear_model/_logistic.py:1183: FutureWarning: `penalty='none'`has been deprecated in 1.2 and will be removed in 1.4. To keep the past behaviour, set `penalty=None`.\n",
            "  warnings.warn(\n",
            "/usr/local/lib/python3.10/dist-packages/sklearn/linear_model/_logistic.py:1193: UserWarning: Setting penalty=None will ignore the C and l1_ratio parameters\n",
            "  warnings.warn(\n"
          ]
        },
        {
          "output_type": "stream",
          "name": "stdout",
          "text": [
            "[CV] END ......C=0.01, l1_ratio=1, penalty=none, solver=saga; total time=  23.7s\n"
          ]
        },
        {
          "output_type": "stream",
          "name": "stderr",
          "text": [
            "/usr/local/lib/python3.10/dist-packages/sklearn/linear_model/_logistic.py:1172: UserWarning: l1_ratio parameter is only used when penalty is 'elasticnet'. Got (penalty=none)\n",
            "  warnings.warn(\n",
            "/usr/local/lib/python3.10/dist-packages/sklearn/linear_model/_logistic.py:1183: FutureWarning: `penalty='none'`has been deprecated in 1.2 and will be removed in 1.4. To keep the past behaviour, set `penalty=None`.\n",
            "  warnings.warn(\n",
            "/usr/local/lib/python3.10/dist-packages/sklearn/linear_model/_logistic.py:1193: UserWarning: Setting penalty=None will ignore the C and l1_ratio parameters\n",
            "  warnings.warn(\n"
          ]
        },
        {
          "output_type": "stream",
          "name": "stdout",
          "text": [
            "[CV] END ......C=0.01, l1_ratio=1, penalty=none, solver=saga; total time=  22.5s\n"
          ]
        },
        {
          "output_type": "stream",
          "name": "stderr",
          "text": [
            "/usr/local/lib/python3.10/dist-packages/sklearn/linear_model/_logistic.py:1172: UserWarning: l1_ratio parameter is only used when penalty is 'elasticnet'. Got (penalty=none)\n",
            "  warnings.warn(\n",
            "/usr/local/lib/python3.10/dist-packages/sklearn/linear_model/_logistic.py:1183: FutureWarning: `penalty='none'`has been deprecated in 1.2 and will be removed in 1.4. To keep the past behaviour, set `penalty=None`.\n",
            "  warnings.warn(\n",
            "/usr/local/lib/python3.10/dist-packages/sklearn/linear_model/_logistic.py:1193: UserWarning: Setting penalty=None will ignore the C and l1_ratio parameters\n",
            "  warnings.warn(\n"
          ]
        },
        {
          "output_type": "stream",
          "name": "stdout",
          "text": [
            "[CV] END ......C=0.01, l1_ratio=1, penalty=none, solver=saga; total time=  13.9s\n"
          ]
        },
        {
          "output_type": "stream",
          "name": "stderr",
          "text": [
            "/usr/local/lib/python3.10/dist-packages/sklearn/linear_model/_logistic.py:1172: UserWarning: l1_ratio parameter is only used when penalty is 'elasticnet'. Got (penalty=none)\n",
            "  warnings.warn(\n",
            "/usr/local/lib/python3.10/dist-packages/sklearn/linear_model/_logistic.py:1183: FutureWarning: `penalty='none'`has been deprecated in 1.2 and will be removed in 1.4. To keep the past behaviour, set `penalty=None`.\n",
            "  warnings.warn(\n",
            "/usr/local/lib/python3.10/dist-packages/sklearn/linear_model/_logistic.py:1193: UserWarning: Setting penalty=None will ignore the C and l1_ratio parameters\n",
            "  warnings.warn(\n"
          ]
        },
        {
          "output_type": "stream",
          "name": "stdout",
          "text": [
            "[CV] END ......C=0.01, l1_ratio=1, penalty=none, solver=saga; total time=  18.7s\n",
            "[CV] END ........C=0.1, l1_ratio=0, penalty=l1, solver=lbfgs; total time=   0.0s\n",
            "[CV] END ........C=0.1, l1_ratio=0, penalty=l1, solver=lbfgs; total time=   0.0s\n",
            "[CV] END ........C=0.1, l1_ratio=0, penalty=l1, solver=lbfgs; total time=   0.0s\n",
            "[CV] END ........C=0.1, l1_ratio=0, penalty=l1, solver=lbfgs; total time=   0.0s\n",
            "[CV] END ........C=0.1, l1_ratio=0, penalty=l1, solver=lbfgs; total time=   0.0s\n",
            "[CV] END ....C=0.1, l1_ratio=0, penalty=l1, solver=liblinear; total time=   0.0s\n",
            "[CV] END ....C=0.1, l1_ratio=0, penalty=l1, solver=liblinear; total time=   0.0s\n",
            "[CV] END ....C=0.1, l1_ratio=0, penalty=l1, solver=liblinear; total time=   0.0s\n",
            "[CV] END ....C=0.1, l1_ratio=0, penalty=l1, solver=liblinear; total time=   0.0s\n",
            "[CV] END ....C=0.1, l1_ratio=0, penalty=l1, solver=liblinear; total time=   0.0s\n"
          ]
        },
        {
          "output_type": "stream",
          "name": "stderr",
          "text": [
            "/usr/local/lib/python3.10/dist-packages/sklearn/linear_model/_logistic.py:1172: UserWarning: l1_ratio parameter is only used when penalty is 'elasticnet'. Got (penalty=l1)\n",
            "  warnings.warn(\n",
            "/usr/local/lib/python3.10/dist-packages/sklearn/linear_model/_logistic.py:1172: UserWarning: l1_ratio parameter is only used when penalty is 'elasticnet'. Got (penalty=l1)\n",
            "  warnings.warn(\n",
            "/usr/local/lib/python3.10/dist-packages/sklearn/linear_model/_logistic.py:1172: UserWarning: l1_ratio parameter is only used when penalty is 'elasticnet'. Got (penalty=l1)\n",
            "  warnings.warn(\n",
            "/usr/local/lib/python3.10/dist-packages/sklearn/linear_model/_logistic.py:1172: UserWarning: l1_ratio parameter is only used when penalty is 'elasticnet'. Got (penalty=l1)\n",
            "  warnings.warn(\n",
            "/usr/local/lib/python3.10/dist-packages/sklearn/linear_model/_logistic.py:1172: UserWarning: l1_ratio parameter is only used when penalty is 'elasticnet'. Got (penalty=l1)\n",
            "  warnings.warn(\n",
            "/usr/local/lib/python3.10/dist-packages/sklearn/linear_model/_logistic.py:1172: UserWarning: l1_ratio parameter is only used when penalty is 'elasticnet'. Got (penalty=l1)\n",
            "  warnings.warn(\n"
          ]
        },
        {
          "output_type": "stream",
          "name": "stdout",
          "text": [
            "[CV] END .........C=0.1, l1_ratio=0, penalty=l1, solver=saga; total time=   7.3s\n"
          ]
        },
        {
          "output_type": "stream",
          "name": "stderr",
          "text": [
            "/usr/local/lib/python3.10/dist-packages/sklearn/linear_model/_logistic.py:1172: UserWarning: l1_ratio parameter is only used when penalty is 'elasticnet'. Got (penalty=l1)\n",
            "  warnings.warn(\n"
          ]
        },
        {
          "output_type": "stream",
          "name": "stdout",
          "text": [
            "[CV] END .........C=0.1, l1_ratio=0, penalty=l1, solver=saga; total time=   8.2s\n"
          ]
        },
        {
          "output_type": "stream",
          "name": "stderr",
          "text": [
            "/usr/local/lib/python3.10/dist-packages/sklearn/linear_model/_logistic.py:1172: UserWarning: l1_ratio parameter is only used when penalty is 'elasticnet'. Got (penalty=l1)\n",
            "  warnings.warn(\n"
          ]
        },
        {
          "output_type": "stream",
          "name": "stdout",
          "text": [
            "[CV] END .........C=0.1, l1_ratio=0, penalty=l1, solver=saga; total time=   5.3s\n"
          ]
        },
        {
          "output_type": "stream",
          "name": "stderr",
          "text": [
            "/usr/local/lib/python3.10/dist-packages/sklearn/linear_model/_logistic.py:1172: UserWarning: l1_ratio parameter is only used when penalty is 'elasticnet'. Got (penalty=l1)\n",
            "  warnings.warn(\n"
          ]
        },
        {
          "output_type": "stream",
          "name": "stdout",
          "text": [
            "[CV] END .........C=0.1, l1_ratio=0, penalty=l1, solver=saga; total time=   6.5s\n"
          ]
        },
        {
          "output_type": "stream",
          "name": "stderr",
          "text": [
            "/usr/local/lib/python3.10/dist-packages/sklearn/linear_model/_logistic.py:1172: UserWarning: l1_ratio parameter is only used when penalty is 'elasticnet'. Got (penalty=l1)\n",
            "  warnings.warn(\n"
          ]
        },
        {
          "output_type": "stream",
          "name": "stdout",
          "text": [
            "[CV] END .........C=0.1, l1_ratio=0, penalty=l1, solver=saga; total time=   7.2s\n",
            "[CV] END ........C=0.1, l1_ratio=0, penalty=l2, solver=lbfgs; total time=   0.1s\n",
            "[CV] END ........C=0.1, l1_ratio=0, penalty=l2, solver=lbfgs; total time=   0.1s\n"
          ]
        },
        {
          "output_type": "stream",
          "name": "stderr",
          "text": [
            "/usr/local/lib/python3.10/dist-packages/sklearn/linear_model/_logistic.py:1172: UserWarning: l1_ratio parameter is only used when penalty is 'elasticnet'. Got (penalty=l2)\n",
            "  warnings.warn(\n",
            "/usr/local/lib/python3.10/dist-packages/sklearn/linear_model/_logistic.py:1172: UserWarning: l1_ratio parameter is only used when penalty is 'elasticnet'. Got (penalty=l2)\n",
            "  warnings.warn(\n",
            "/usr/local/lib/python3.10/dist-packages/sklearn/linear_model/_logistic.py:1172: UserWarning: l1_ratio parameter is only used when penalty is 'elasticnet'. Got (penalty=l2)\n",
            "  warnings.warn(\n"
          ]
        },
        {
          "output_type": "stream",
          "name": "stdout",
          "text": [
            "[CV] END ........C=0.1, l1_ratio=0, penalty=l2, solver=lbfgs; total time=   0.1s\n",
            "[CV] END ........C=0.1, l1_ratio=0, penalty=l2, solver=lbfgs; total time=   0.1s\n"
          ]
        },
        {
          "output_type": "stream",
          "name": "stderr",
          "text": [
            "/usr/local/lib/python3.10/dist-packages/sklearn/linear_model/_logistic.py:1172: UserWarning: l1_ratio parameter is only used when penalty is 'elasticnet'. Got (penalty=l2)\n",
            "  warnings.warn(\n",
            "/usr/local/lib/python3.10/dist-packages/sklearn/linear_model/_logistic.py:1172: UserWarning: l1_ratio parameter is only used when penalty is 'elasticnet'. Got (penalty=l2)\n",
            "  warnings.warn(\n"
          ]
        },
        {
          "output_type": "stream",
          "name": "stdout",
          "text": [
            "[CV] END ........C=0.1, l1_ratio=0, penalty=l2, solver=lbfgs; total time=   0.1s\n",
            "[CV] END ....C=0.1, l1_ratio=0, penalty=l2, solver=liblinear; total time=   0.1s\n",
            "[CV] END ....C=0.1, l1_ratio=0, penalty=l2, solver=liblinear; total time=   0.1s\n"
          ]
        },
        {
          "output_type": "stream",
          "name": "stderr",
          "text": [
            "/usr/local/lib/python3.10/dist-packages/sklearn/linear_model/_logistic.py:1172: UserWarning: l1_ratio parameter is only used when penalty is 'elasticnet'. Got (penalty=l2)\n",
            "  warnings.warn(\n",
            "/usr/local/lib/python3.10/dist-packages/sklearn/linear_model/_logistic.py:1172: UserWarning: l1_ratio parameter is only used when penalty is 'elasticnet'. Got (penalty=l2)\n",
            "  warnings.warn(\n",
            "/usr/local/lib/python3.10/dist-packages/sklearn/linear_model/_logistic.py:1172: UserWarning: l1_ratio parameter is only used when penalty is 'elasticnet'. Got (penalty=l2)\n",
            "  warnings.warn(\n"
          ]
        },
        {
          "output_type": "stream",
          "name": "stdout",
          "text": [
            "[CV] END ....C=0.1, l1_ratio=0, penalty=l2, solver=liblinear; total time=   0.1s\n",
            "[CV] END ....C=0.1, l1_ratio=0, penalty=l2, solver=liblinear; total time=   0.1s\n",
            "[CV] END ....C=0.1, l1_ratio=0, penalty=l2, solver=liblinear; total time=   0.1s\n"
          ]
        },
        {
          "output_type": "stream",
          "name": "stderr",
          "text": [
            "/usr/local/lib/python3.10/dist-packages/sklearn/linear_model/_logistic.py:1172: UserWarning: l1_ratio parameter is only used when penalty is 'elasticnet'. Got (penalty=l2)\n",
            "  warnings.warn(\n",
            "/usr/local/lib/python3.10/dist-packages/sklearn/linear_model/_logistic.py:1172: UserWarning: l1_ratio parameter is only used when penalty is 'elasticnet'. Got (penalty=l2)\n",
            "  warnings.warn(\n",
            "/usr/local/lib/python3.10/dist-packages/sklearn/linear_model/_logistic.py:1172: UserWarning: l1_ratio parameter is only used when penalty is 'elasticnet'. Got (penalty=l2)\n",
            "  warnings.warn(\n"
          ]
        },
        {
          "output_type": "stream",
          "name": "stdout",
          "text": [
            "[CV] END .........C=0.1, l1_ratio=0, penalty=l2, solver=saga; total time=   2.4s\n"
          ]
        },
        {
          "output_type": "stream",
          "name": "stderr",
          "text": [
            "/usr/local/lib/python3.10/dist-packages/sklearn/linear_model/_logistic.py:1172: UserWarning: l1_ratio parameter is only used when penalty is 'elasticnet'. Got (penalty=l2)\n",
            "  warnings.warn(\n"
          ]
        },
        {
          "output_type": "stream",
          "name": "stdout",
          "text": [
            "[CV] END .........C=0.1, l1_ratio=0, penalty=l2, solver=saga; total time=   2.8s\n"
          ]
        },
        {
          "output_type": "stream",
          "name": "stderr",
          "text": [
            "/usr/local/lib/python3.10/dist-packages/sklearn/linear_model/_logistic.py:1172: UserWarning: l1_ratio parameter is only used when penalty is 'elasticnet'. Got (penalty=l2)\n",
            "  warnings.warn(\n"
          ]
        },
        {
          "output_type": "stream",
          "name": "stdout",
          "text": [
            "[CV] END .........C=0.1, l1_ratio=0, penalty=l2, solver=saga; total time=   1.8s\n"
          ]
        },
        {
          "output_type": "stream",
          "name": "stderr",
          "text": [
            "/usr/local/lib/python3.10/dist-packages/sklearn/linear_model/_logistic.py:1172: UserWarning: l1_ratio parameter is only used when penalty is 'elasticnet'. Got (penalty=l2)\n",
            "  warnings.warn(\n"
          ]
        },
        {
          "output_type": "stream",
          "name": "stdout",
          "text": [
            "[CV] END .........C=0.1, l1_ratio=0, penalty=l2, solver=saga; total time=   1.7s\n"
          ]
        },
        {
          "output_type": "stream",
          "name": "stderr",
          "text": [
            "/usr/local/lib/python3.10/dist-packages/sklearn/linear_model/_logistic.py:1172: UserWarning: l1_ratio parameter is only used when penalty is 'elasticnet'. Got (penalty=l2)\n",
            "  warnings.warn(\n"
          ]
        },
        {
          "output_type": "stream",
          "name": "stdout",
          "text": [
            "[CV] END .........C=0.1, l1_ratio=0, penalty=l2, solver=saga; total time=   1.7s\n",
            "[CV] END C=0.1, l1_ratio=0, penalty=elasticnet, solver=lbfgs; total time=   0.0s\n",
            "[CV] END C=0.1, l1_ratio=0, penalty=elasticnet, solver=lbfgs; total time=   0.0s\n",
            "[CV] END C=0.1, l1_ratio=0, penalty=elasticnet, solver=lbfgs; total time=   0.0s\n",
            "[CV] END C=0.1, l1_ratio=0, penalty=elasticnet, solver=lbfgs; total time=   0.0s\n",
            "[CV] END C=0.1, l1_ratio=0, penalty=elasticnet, solver=lbfgs; total time=   0.0s\n",
            "[CV] END C=0.1, l1_ratio=0, penalty=elasticnet, solver=liblinear; total time=   0.0s\n",
            "[CV] END C=0.1, l1_ratio=0, penalty=elasticnet, solver=liblinear; total time=   0.0s\n",
            "[CV] END C=0.1, l1_ratio=0, penalty=elasticnet, solver=liblinear; total time=   0.0s\n",
            "[CV] END C=0.1, l1_ratio=0, penalty=elasticnet, solver=liblinear; total time=   0.0s\n",
            "[CV] END C=0.1, l1_ratio=0, penalty=elasticnet, solver=liblinear; total time=   0.0s\n",
            "[CV] END .C=0.1, l1_ratio=0, penalty=elasticnet, solver=saga; total time=   1.4s\n",
            "[CV] END .C=0.1, l1_ratio=0, penalty=elasticnet, solver=saga; total time=   1.8s\n",
            "[CV] END .C=0.1, l1_ratio=0, penalty=elasticnet, solver=saga; total time=   2.3s\n",
            "[CV] END .C=0.1, l1_ratio=0, penalty=elasticnet, solver=saga; total time=   2.8s\n",
            "[CV] END .C=0.1, l1_ratio=0, penalty=elasticnet, solver=saga; total time=   2.5s\n",
            "[CV] END ......C=0.1, l1_ratio=0, penalty=none, solver=lbfgs; total time=   0.0s\n",
            "[CV] END ......C=0.1, l1_ratio=0, penalty=none, solver=lbfgs; total time=   0.0s\n",
            "[CV] END ......C=0.1, l1_ratio=0, penalty=none, solver=lbfgs; total time=   0.0s\n",
            "[CV] END ......C=0.1, l1_ratio=0, penalty=none, solver=lbfgs; total time=   0.0s\n",
            "[CV] END ......C=0.1, l1_ratio=0, penalty=none, solver=lbfgs; total time=   0.0s\n",
            "[CV] END ..C=0.1, l1_ratio=0, penalty=none, solver=liblinear; total time=   0.0s\n",
            "[CV] END ..C=0.1, l1_ratio=0, penalty=none, solver=liblinear; total time=   0.0s\n",
            "[CV] END ..C=0.1, l1_ratio=0, penalty=none, solver=liblinear; total time=   0.0s\n",
            "[CV] END ..C=0.1, l1_ratio=0, penalty=none, solver=liblinear; total time=   0.0s\n",
            "[CV] END ..C=0.1, l1_ratio=0, penalty=none, solver=liblinear; total time=   0.0s\n"
          ]
        },
        {
          "output_type": "stream",
          "name": "stderr",
          "text": [
            "/usr/local/lib/python3.10/dist-packages/sklearn/linear_model/_logistic.py:1172: UserWarning: l1_ratio parameter is only used when penalty is 'elasticnet'. Got (penalty=none)\n",
            "  warnings.warn(\n",
            "/usr/local/lib/python3.10/dist-packages/sklearn/linear_model/_logistic.py:1183: FutureWarning: `penalty='none'`has been deprecated in 1.2 and will be removed in 1.4. To keep the past behaviour, set `penalty=None`.\n",
            "  warnings.warn(\n",
            "/usr/local/lib/python3.10/dist-packages/sklearn/linear_model/_logistic.py:1193: UserWarning: Setting penalty=None will ignore the C and l1_ratio parameters\n",
            "  warnings.warn(\n",
            "/usr/local/lib/python3.10/dist-packages/sklearn/linear_model/_logistic.py:1172: UserWarning: l1_ratio parameter is only used when penalty is 'elasticnet'. Got (penalty=none)\n",
            "  warnings.warn(\n",
            "/usr/local/lib/python3.10/dist-packages/sklearn/linear_model/_logistic.py:1183: FutureWarning: `penalty='none'`has been deprecated in 1.2 and will be removed in 1.4. To keep the past behaviour, set `penalty=None`.\n",
            "  warnings.warn(\n",
            "/usr/local/lib/python3.10/dist-packages/sklearn/linear_model/_logistic.py:1193: UserWarning: Setting penalty=None will ignore the C and l1_ratio parameters\n",
            "  warnings.warn(\n",
            "/usr/local/lib/python3.10/dist-packages/sklearn/linear_model/_logistic.py:1172: UserWarning: l1_ratio parameter is only used when penalty is 'elasticnet'. Got (penalty=none)\n",
            "  warnings.warn(\n",
            "/usr/local/lib/python3.10/dist-packages/sklearn/linear_model/_logistic.py:1183: FutureWarning: `penalty='none'`has been deprecated in 1.2 and will be removed in 1.4. To keep the past behaviour, set `penalty=None`.\n",
            "  warnings.warn(\n",
            "/usr/local/lib/python3.10/dist-packages/sklearn/linear_model/_logistic.py:1193: UserWarning: Setting penalty=None will ignore the C and l1_ratio parameters\n",
            "  warnings.warn(\n",
            "/usr/local/lib/python3.10/dist-packages/sklearn/linear_model/_logistic.py:1172: UserWarning: l1_ratio parameter is only used when penalty is 'elasticnet'. Got (penalty=none)\n",
            "  warnings.warn(\n",
            "/usr/local/lib/python3.10/dist-packages/sklearn/linear_model/_logistic.py:1183: FutureWarning: `penalty='none'`has been deprecated in 1.2 and will be removed in 1.4. To keep the past behaviour, set `penalty=None`.\n",
            "  warnings.warn(\n",
            "/usr/local/lib/python3.10/dist-packages/sklearn/linear_model/_logistic.py:1193: UserWarning: Setting penalty=None will ignore the C and l1_ratio parameters\n",
            "  warnings.warn(\n",
            "/usr/local/lib/python3.10/dist-packages/sklearn/linear_model/_logistic.py:1172: UserWarning: l1_ratio parameter is only used when penalty is 'elasticnet'. Got (penalty=none)\n",
            "  warnings.warn(\n",
            "/usr/local/lib/python3.10/dist-packages/sklearn/linear_model/_logistic.py:1183: FutureWarning: `penalty='none'`has been deprecated in 1.2 and will be removed in 1.4. To keep the past behaviour, set `penalty=None`.\n",
            "  warnings.warn(\n",
            "/usr/local/lib/python3.10/dist-packages/sklearn/linear_model/_logistic.py:1193: UserWarning: Setting penalty=None will ignore the C and l1_ratio parameters\n",
            "  warnings.warn(\n",
            "/usr/local/lib/python3.10/dist-packages/sklearn/linear_model/_logistic.py:1172: UserWarning: l1_ratio parameter is only used when penalty is 'elasticnet'. Got (penalty=none)\n",
            "  warnings.warn(\n",
            "/usr/local/lib/python3.10/dist-packages/sklearn/linear_model/_logistic.py:1183: FutureWarning: `penalty='none'`has been deprecated in 1.2 and will be removed in 1.4. To keep the past behaviour, set `penalty=None`.\n",
            "  warnings.warn(\n",
            "/usr/local/lib/python3.10/dist-packages/sklearn/linear_model/_logistic.py:1193: UserWarning: Setting penalty=None will ignore the C and l1_ratio parameters\n",
            "  warnings.warn(\n"
          ]
        },
        {
          "output_type": "stream",
          "name": "stdout",
          "text": [
            "[CV] END .......C=0.1, l1_ratio=0, penalty=none, solver=saga; total time=   7.7s\n"
          ]
        },
        {
          "output_type": "stream",
          "name": "stderr",
          "text": [
            "/usr/local/lib/python3.10/dist-packages/sklearn/linear_model/_logistic.py:1172: UserWarning: l1_ratio parameter is only used when penalty is 'elasticnet'. Got (penalty=none)\n",
            "  warnings.warn(\n",
            "/usr/local/lib/python3.10/dist-packages/sklearn/linear_model/_logistic.py:1183: FutureWarning: `penalty='none'`has been deprecated in 1.2 and will be removed in 1.4. To keep the past behaviour, set `penalty=None`.\n",
            "  warnings.warn(\n",
            "/usr/local/lib/python3.10/dist-packages/sklearn/linear_model/_logistic.py:1193: UserWarning: Setting penalty=None will ignore the C and l1_ratio parameters\n",
            "  warnings.warn(\n"
          ]
        },
        {
          "output_type": "stream",
          "name": "stdout",
          "text": [
            "[CV] END .......C=0.1, l1_ratio=0, penalty=none, solver=saga; total time=  23.8s\n"
          ]
        },
        {
          "output_type": "stream",
          "name": "stderr",
          "text": [
            "/usr/local/lib/python3.10/dist-packages/sklearn/linear_model/_logistic.py:1172: UserWarning: l1_ratio parameter is only used when penalty is 'elasticnet'. Got (penalty=none)\n",
            "  warnings.warn(\n",
            "/usr/local/lib/python3.10/dist-packages/sklearn/linear_model/_logistic.py:1183: FutureWarning: `penalty='none'`has been deprecated in 1.2 and will be removed in 1.4. To keep the past behaviour, set `penalty=None`.\n",
            "  warnings.warn(\n",
            "/usr/local/lib/python3.10/dist-packages/sklearn/linear_model/_logistic.py:1193: UserWarning: Setting penalty=None will ignore the C and l1_ratio parameters\n",
            "  warnings.warn(\n"
          ]
        },
        {
          "output_type": "stream",
          "name": "stdout",
          "text": [
            "[CV] END .......C=0.1, l1_ratio=0, penalty=none, solver=saga; total time=  22.3s\n"
          ]
        },
        {
          "output_type": "stream",
          "name": "stderr",
          "text": [
            "/usr/local/lib/python3.10/dist-packages/sklearn/linear_model/_logistic.py:1172: UserWarning: l1_ratio parameter is only used when penalty is 'elasticnet'. Got (penalty=none)\n",
            "  warnings.warn(\n",
            "/usr/local/lib/python3.10/dist-packages/sklearn/linear_model/_logistic.py:1183: FutureWarning: `penalty='none'`has been deprecated in 1.2 and will be removed in 1.4. To keep the past behaviour, set `penalty=None`.\n",
            "  warnings.warn(\n",
            "/usr/local/lib/python3.10/dist-packages/sklearn/linear_model/_logistic.py:1193: UserWarning: Setting penalty=None will ignore the C and l1_ratio parameters\n",
            "  warnings.warn(\n"
          ]
        },
        {
          "output_type": "stream",
          "name": "stdout",
          "text": [
            "[CV] END .......C=0.1, l1_ratio=0, penalty=none, solver=saga; total time=  14.1s\n"
          ]
        },
        {
          "output_type": "stream",
          "name": "stderr",
          "text": [
            "/usr/local/lib/python3.10/dist-packages/sklearn/linear_model/_logistic.py:1172: UserWarning: l1_ratio parameter is only used when penalty is 'elasticnet'. Got (penalty=none)\n",
            "  warnings.warn(\n",
            "/usr/local/lib/python3.10/dist-packages/sklearn/linear_model/_logistic.py:1183: FutureWarning: `penalty='none'`has been deprecated in 1.2 and will be removed in 1.4. To keep the past behaviour, set `penalty=None`.\n",
            "  warnings.warn(\n",
            "/usr/local/lib/python3.10/dist-packages/sklearn/linear_model/_logistic.py:1193: UserWarning: Setting penalty=None will ignore the C and l1_ratio parameters\n",
            "  warnings.warn(\n"
          ]
        },
        {
          "output_type": "stream",
          "name": "stdout",
          "text": [
            "[CV] END .......C=0.1, l1_ratio=0, penalty=none, solver=saga; total time=  19.0s\n",
            "[CV] END ......C=0.1, l1_ratio=0.5, penalty=l1, solver=lbfgs; total time=   0.0s\n",
            "[CV] END ......C=0.1, l1_ratio=0.5, penalty=l1, solver=lbfgs; total time=   0.0s\n",
            "[CV] END ......C=0.1, l1_ratio=0.5, penalty=l1, solver=lbfgs; total time=   0.0s\n",
            "[CV] END ......C=0.1, l1_ratio=0.5, penalty=l1, solver=lbfgs; total time=   0.0s\n",
            "[CV] END ......C=0.1, l1_ratio=0.5, penalty=l1, solver=lbfgs; total time=   0.0s\n",
            "[CV] END ..C=0.1, l1_ratio=0.5, penalty=l1, solver=liblinear; total time=   0.0s\n",
            "[CV] END ..C=0.1, l1_ratio=0.5, penalty=l1, solver=liblinear; total time=   0.0s\n",
            "[CV] END ..C=0.1, l1_ratio=0.5, penalty=l1, solver=liblinear; total time=   0.0s\n",
            "[CV] END ..C=0.1, l1_ratio=0.5, penalty=l1, solver=liblinear; total time=   0.0s\n",
            "[CV] END ..C=0.1, l1_ratio=0.5, penalty=l1, solver=liblinear; total time=   0.0s\n"
          ]
        },
        {
          "output_type": "stream",
          "name": "stderr",
          "text": [
            "/usr/local/lib/python3.10/dist-packages/sklearn/linear_model/_logistic.py:1172: UserWarning: l1_ratio parameter is only used when penalty is 'elasticnet'. Got (penalty=l1)\n",
            "  warnings.warn(\n",
            "/usr/local/lib/python3.10/dist-packages/sklearn/linear_model/_logistic.py:1172: UserWarning: l1_ratio parameter is only used when penalty is 'elasticnet'. Got (penalty=l1)\n",
            "  warnings.warn(\n",
            "/usr/local/lib/python3.10/dist-packages/sklearn/linear_model/_logistic.py:1172: UserWarning: l1_ratio parameter is only used when penalty is 'elasticnet'. Got (penalty=l1)\n",
            "  warnings.warn(\n",
            "/usr/local/lib/python3.10/dist-packages/sklearn/linear_model/_logistic.py:1172: UserWarning: l1_ratio parameter is only used when penalty is 'elasticnet'. Got (penalty=l1)\n",
            "  warnings.warn(\n",
            "/usr/local/lib/python3.10/dist-packages/sklearn/linear_model/_logistic.py:1172: UserWarning: l1_ratio parameter is only used when penalty is 'elasticnet'. Got (penalty=l1)\n",
            "  warnings.warn(\n",
            "/usr/local/lib/python3.10/dist-packages/sklearn/linear_model/_logistic.py:1172: UserWarning: l1_ratio parameter is only used when penalty is 'elasticnet'. Got (penalty=l1)\n",
            "  warnings.warn(\n"
          ]
        },
        {
          "output_type": "stream",
          "name": "stdout",
          "text": [
            "[CV] END .......C=0.1, l1_ratio=0.5, penalty=l1, solver=saga; total time=   7.8s\n"
          ]
        },
        {
          "output_type": "stream",
          "name": "stderr",
          "text": [
            "/usr/local/lib/python3.10/dist-packages/sklearn/linear_model/_logistic.py:1172: UserWarning: l1_ratio parameter is only used when penalty is 'elasticnet'. Got (penalty=l1)\n",
            "  warnings.warn(\n"
          ]
        },
        {
          "output_type": "stream",
          "name": "stdout",
          "text": [
            "[CV] END .......C=0.1, l1_ratio=0.5, penalty=l1, solver=saga; total time=   7.7s\n"
          ]
        },
        {
          "output_type": "stream",
          "name": "stderr",
          "text": [
            "/usr/local/lib/python3.10/dist-packages/sklearn/linear_model/_logistic.py:1172: UserWarning: l1_ratio parameter is only used when penalty is 'elasticnet'. Got (penalty=l1)\n",
            "  warnings.warn(\n"
          ]
        },
        {
          "output_type": "stream",
          "name": "stdout",
          "text": [
            "[CV] END .......C=0.1, l1_ratio=0.5, penalty=l1, solver=saga; total time=   6.0s\n"
          ]
        },
        {
          "output_type": "stream",
          "name": "stderr",
          "text": [
            "/usr/local/lib/python3.10/dist-packages/sklearn/linear_model/_logistic.py:1172: UserWarning: l1_ratio parameter is only used when penalty is 'elasticnet'. Got (penalty=l1)\n",
            "  warnings.warn(\n"
          ]
        },
        {
          "output_type": "stream",
          "name": "stdout",
          "text": [
            "[CV] END .......C=0.1, l1_ratio=0.5, penalty=l1, solver=saga; total time=   6.0s\n"
          ]
        },
        {
          "output_type": "stream",
          "name": "stderr",
          "text": [
            "/usr/local/lib/python3.10/dist-packages/sklearn/linear_model/_logistic.py:1172: UserWarning: l1_ratio parameter is only used when penalty is 'elasticnet'. Got (penalty=l1)\n",
            "  warnings.warn(\n"
          ]
        },
        {
          "output_type": "stream",
          "name": "stdout",
          "text": [
            "[CV] END .......C=0.1, l1_ratio=0.5, penalty=l1, solver=saga; total time=   8.1s\n",
            "[CV] END ......C=0.1, l1_ratio=0.5, penalty=l2, solver=lbfgs; total time=   0.0s\n",
            "[CV] END ......C=0.1, l1_ratio=0.5, penalty=l2, solver=lbfgs; total time=   0.1s\n",
            "[CV] END ......C=0.1, l1_ratio=0.5, penalty=l2, solver=lbfgs; total time=   0.1s\n"
          ]
        },
        {
          "output_type": "stream",
          "name": "stderr",
          "text": [
            "/usr/local/lib/python3.10/dist-packages/sklearn/linear_model/_logistic.py:1172: UserWarning: l1_ratio parameter is only used when penalty is 'elasticnet'. Got (penalty=l2)\n",
            "  warnings.warn(\n",
            "/usr/local/lib/python3.10/dist-packages/sklearn/linear_model/_logistic.py:1172: UserWarning: l1_ratio parameter is only used when penalty is 'elasticnet'. Got (penalty=l2)\n",
            "  warnings.warn(\n",
            "/usr/local/lib/python3.10/dist-packages/sklearn/linear_model/_logistic.py:1172: UserWarning: l1_ratio parameter is only used when penalty is 'elasticnet'. Got (penalty=l2)\n",
            "  warnings.warn(\n",
            "/usr/local/lib/python3.10/dist-packages/sklearn/linear_model/_logistic.py:1172: UserWarning: l1_ratio parameter is only used when penalty is 'elasticnet'. Got (penalty=l2)\n",
            "  warnings.warn(\n"
          ]
        },
        {
          "output_type": "stream",
          "name": "stdout",
          "text": [
            "[CV] END ......C=0.1, l1_ratio=0.5, penalty=l2, solver=lbfgs; total time=   0.1s\n",
            "[CV] END ......C=0.1, l1_ratio=0.5, penalty=l2, solver=lbfgs; total time=   0.1s\n",
            "[CV] END ..C=0.1, l1_ratio=0.5, penalty=l2, solver=liblinear; total time=   0.1s\n",
            "[CV] END ..C=0.1, l1_ratio=0.5, penalty=l2, solver=liblinear; total time=   0.1s\n"
          ]
        },
        {
          "output_type": "stream",
          "name": "stderr",
          "text": [
            "/usr/local/lib/python3.10/dist-packages/sklearn/linear_model/_logistic.py:1172: UserWarning: l1_ratio parameter is only used when penalty is 'elasticnet'. Got (penalty=l2)\n",
            "  warnings.warn(\n",
            "/usr/local/lib/python3.10/dist-packages/sklearn/linear_model/_logistic.py:1172: UserWarning: l1_ratio parameter is only used when penalty is 'elasticnet'. Got (penalty=l2)\n",
            "  warnings.warn(\n",
            "/usr/local/lib/python3.10/dist-packages/sklearn/linear_model/_logistic.py:1172: UserWarning: l1_ratio parameter is only used when penalty is 'elasticnet'. Got (penalty=l2)\n",
            "  warnings.warn(\n",
            "/usr/local/lib/python3.10/dist-packages/sklearn/linear_model/_logistic.py:1172: UserWarning: l1_ratio parameter is only used when penalty is 'elasticnet'. Got (penalty=l2)\n",
            "  warnings.warn(\n"
          ]
        },
        {
          "output_type": "stream",
          "name": "stdout",
          "text": [
            "[CV] END ..C=0.1, l1_ratio=0.5, penalty=l2, solver=liblinear; total time=   0.1s\n",
            "[CV] END ..C=0.1, l1_ratio=0.5, penalty=l2, solver=liblinear; total time=   0.1s\n",
            "[CV] END ..C=0.1, l1_ratio=0.5, penalty=l2, solver=liblinear; total time=   0.1s\n"
          ]
        },
        {
          "output_type": "stream",
          "name": "stderr",
          "text": [
            "/usr/local/lib/python3.10/dist-packages/sklearn/linear_model/_logistic.py:1172: UserWarning: l1_ratio parameter is only used when penalty is 'elasticnet'. Got (penalty=l2)\n",
            "  warnings.warn(\n",
            "/usr/local/lib/python3.10/dist-packages/sklearn/linear_model/_logistic.py:1172: UserWarning: l1_ratio parameter is only used when penalty is 'elasticnet'. Got (penalty=l2)\n",
            "  warnings.warn(\n",
            "/usr/local/lib/python3.10/dist-packages/sklearn/linear_model/_logistic.py:1172: UserWarning: l1_ratio parameter is only used when penalty is 'elasticnet'. Got (penalty=l2)\n",
            "  warnings.warn(\n"
          ]
        },
        {
          "output_type": "stream",
          "name": "stdout",
          "text": [
            "[CV] END .......C=0.1, l1_ratio=0.5, penalty=l2, solver=saga; total time=   2.5s\n"
          ]
        },
        {
          "output_type": "stream",
          "name": "stderr",
          "text": [
            "/usr/local/lib/python3.10/dist-packages/sklearn/linear_model/_logistic.py:1172: UserWarning: l1_ratio parameter is only used when penalty is 'elasticnet'. Got (penalty=l2)\n",
            "  warnings.warn(\n"
          ]
        },
        {
          "output_type": "stream",
          "name": "stdout",
          "text": [
            "[CV] END .......C=0.1, l1_ratio=0.5, penalty=l2, solver=saga; total time=   2.0s\n"
          ]
        },
        {
          "output_type": "stream",
          "name": "stderr",
          "text": [
            "/usr/local/lib/python3.10/dist-packages/sklearn/linear_model/_logistic.py:1172: UserWarning: l1_ratio parameter is only used when penalty is 'elasticnet'. Got (penalty=l2)\n",
            "  warnings.warn(\n"
          ]
        },
        {
          "output_type": "stream",
          "name": "stdout",
          "text": [
            "[CV] END .......C=0.1, l1_ratio=0.5, penalty=l2, solver=saga; total time=   1.8s\n"
          ]
        },
        {
          "output_type": "stream",
          "name": "stderr",
          "text": [
            "/usr/local/lib/python3.10/dist-packages/sklearn/linear_model/_logistic.py:1172: UserWarning: l1_ratio parameter is only used when penalty is 'elasticnet'. Got (penalty=l2)\n",
            "  warnings.warn(\n"
          ]
        },
        {
          "output_type": "stream",
          "name": "stdout",
          "text": [
            "[CV] END .......C=0.1, l1_ratio=0.5, penalty=l2, solver=saga; total time=   1.7s\n"
          ]
        },
        {
          "output_type": "stream",
          "name": "stderr",
          "text": [
            "/usr/local/lib/python3.10/dist-packages/sklearn/linear_model/_logistic.py:1172: UserWarning: l1_ratio parameter is only used when penalty is 'elasticnet'. Got (penalty=l2)\n",
            "  warnings.warn(\n"
          ]
        },
        {
          "output_type": "stream",
          "name": "stdout",
          "text": [
            "[CV] END .......C=0.1, l1_ratio=0.5, penalty=l2, solver=saga; total time=   1.7s\n",
            "[CV] END C=0.1, l1_ratio=0.5, penalty=elasticnet, solver=lbfgs; total time=   0.0s\n",
            "[CV] END C=0.1, l1_ratio=0.5, penalty=elasticnet, solver=lbfgs; total time=   0.0s\n",
            "[CV] END C=0.1, l1_ratio=0.5, penalty=elasticnet, solver=lbfgs; total time=   0.0s\n",
            "[CV] END C=0.1, l1_ratio=0.5, penalty=elasticnet, solver=lbfgs; total time=   0.0s\n",
            "[CV] END C=0.1, l1_ratio=0.5, penalty=elasticnet, solver=lbfgs; total time=   0.0s\n",
            "[CV] END C=0.1, l1_ratio=0.5, penalty=elasticnet, solver=liblinear; total time=   0.0s\n",
            "[CV] END C=0.1, l1_ratio=0.5, penalty=elasticnet, solver=liblinear; total time=   0.0s\n",
            "[CV] END C=0.1, l1_ratio=0.5, penalty=elasticnet, solver=liblinear; total time=   0.0s\n",
            "[CV] END C=0.1, l1_ratio=0.5, penalty=elasticnet, solver=liblinear; total time=   0.0s\n",
            "[CV] END C=0.1, l1_ratio=0.5, penalty=elasticnet, solver=liblinear; total time=   0.0s\n",
            "[CV] END C=0.1, l1_ratio=0.5, penalty=elasticnet, solver=saga; total time=   3.1s\n",
            "[CV] END C=0.1, l1_ratio=0.5, penalty=elasticnet, solver=saga; total time=   5.8s\n",
            "[CV] END C=0.1, l1_ratio=0.5, penalty=elasticnet, solver=saga; total time=   3.2s\n",
            "[CV] END C=0.1, l1_ratio=0.5, penalty=elasticnet, solver=saga; total time=   3.1s\n",
            "[CV] END C=0.1, l1_ratio=0.5, penalty=elasticnet, solver=saga; total time=   2.6s\n",
            "[CV] END ....C=0.1, l1_ratio=0.5, penalty=none, solver=lbfgs; total time=   0.0s\n",
            "[CV] END ....C=0.1, l1_ratio=0.5, penalty=none, solver=lbfgs; total time=   0.0s\n",
            "[CV] END ....C=0.1, l1_ratio=0.5, penalty=none, solver=lbfgs; total time=   0.0s\n",
            "[CV] END ....C=0.1, l1_ratio=0.5, penalty=none, solver=lbfgs; total time=   0.0s\n",
            "[CV] END ....C=0.1, l1_ratio=0.5, penalty=none, solver=lbfgs; total time=   0.0s\n",
            "[CV] END C=0.1, l1_ratio=0.5, penalty=none, solver=liblinear; total time=   0.0s\n",
            "[CV] END C=0.1, l1_ratio=0.5, penalty=none, solver=liblinear; total time=   0.0s\n",
            "[CV] END C=0.1, l1_ratio=0.5, penalty=none, solver=liblinear; total time=   0.0s\n",
            "[CV] END C=0.1, l1_ratio=0.5, penalty=none, solver=liblinear; total time=   0.0s\n",
            "[CV] END C=0.1, l1_ratio=0.5, penalty=none, solver=liblinear; total time=   0.0s\n"
          ]
        },
        {
          "output_type": "stream",
          "name": "stderr",
          "text": [
            "/usr/local/lib/python3.10/dist-packages/sklearn/linear_model/_logistic.py:1172: UserWarning: l1_ratio parameter is only used when penalty is 'elasticnet'. Got (penalty=none)\n",
            "  warnings.warn(\n",
            "/usr/local/lib/python3.10/dist-packages/sklearn/linear_model/_logistic.py:1183: FutureWarning: `penalty='none'`has been deprecated in 1.2 and will be removed in 1.4. To keep the past behaviour, set `penalty=None`.\n",
            "  warnings.warn(\n",
            "/usr/local/lib/python3.10/dist-packages/sklearn/linear_model/_logistic.py:1193: UserWarning: Setting penalty=None will ignore the C and l1_ratio parameters\n",
            "  warnings.warn(\n",
            "/usr/local/lib/python3.10/dist-packages/sklearn/linear_model/_logistic.py:1172: UserWarning: l1_ratio parameter is only used when penalty is 'elasticnet'. Got (penalty=none)\n",
            "  warnings.warn(\n",
            "/usr/local/lib/python3.10/dist-packages/sklearn/linear_model/_logistic.py:1183: FutureWarning: `penalty='none'`has been deprecated in 1.2 and will be removed in 1.4. To keep the past behaviour, set `penalty=None`.\n",
            "  warnings.warn(\n",
            "/usr/local/lib/python3.10/dist-packages/sklearn/linear_model/_logistic.py:1193: UserWarning: Setting penalty=None will ignore the C and l1_ratio parameters\n",
            "  warnings.warn(\n",
            "/usr/local/lib/python3.10/dist-packages/sklearn/linear_model/_logistic.py:1172: UserWarning: l1_ratio parameter is only used when penalty is 'elasticnet'. Got (penalty=none)\n",
            "  warnings.warn(\n",
            "/usr/local/lib/python3.10/dist-packages/sklearn/linear_model/_logistic.py:1183: FutureWarning: `penalty='none'`has been deprecated in 1.2 and will be removed in 1.4. To keep the past behaviour, set `penalty=None`.\n",
            "  warnings.warn(\n",
            "/usr/local/lib/python3.10/dist-packages/sklearn/linear_model/_logistic.py:1193: UserWarning: Setting penalty=None will ignore the C and l1_ratio parameters\n",
            "  warnings.warn(\n",
            "/usr/local/lib/python3.10/dist-packages/sklearn/linear_model/_logistic.py:1172: UserWarning: l1_ratio parameter is only used when penalty is 'elasticnet'. Got (penalty=none)\n",
            "  warnings.warn(\n",
            "/usr/local/lib/python3.10/dist-packages/sklearn/linear_model/_logistic.py:1183: FutureWarning: `penalty='none'`has been deprecated in 1.2 and will be removed in 1.4. To keep the past behaviour, set `penalty=None`.\n",
            "  warnings.warn(\n",
            "/usr/local/lib/python3.10/dist-packages/sklearn/linear_model/_logistic.py:1193: UserWarning: Setting penalty=None will ignore the C and l1_ratio parameters\n",
            "  warnings.warn(\n",
            "/usr/local/lib/python3.10/dist-packages/sklearn/linear_model/_logistic.py:1172: UserWarning: l1_ratio parameter is only used when penalty is 'elasticnet'. Got (penalty=none)\n",
            "  warnings.warn(\n",
            "/usr/local/lib/python3.10/dist-packages/sklearn/linear_model/_logistic.py:1183: FutureWarning: `penalty='none'`has been deprecated in 1.2 and will be removed in 1.4. To keep the past behaviour, set `penalty=None`.\n",
            "  warnings.warn(\n",
            "/usr/local/lib/python3.10/dist-packages/sklearn/linear_model/_logistic.py:1193: UserWarning: Setting penalty=None will ignore the C and l1_ratio parameters\n",
            "  warnings.warn(\n",
            "/usr/local/lib/python3.10/dist-packages/sklearn/linear_model/_logistic.py:1172: UserWarning: l1_ratio parameter is only used when penalty is 'elasticnet'. Got (penalty=none)\n",
            "  warnings.warn(\n",
            "/usr/local/lib/python3.10/dist-packages/sklearn/linear_model/_logistic.py:1183: FutureWarning: `penalty='none'`has been deprecated in 1.2 and will be removed in 1.4. To keep the past behaviour, set `penalty=None`.\n",
            "  warnings.warn(\n",
            "/usr/local/lib/python3.10/dist-packages/sklearn/linear_model/_logistic.py:1193: UserWarning: Setting penalty=None will ignore the C and l1_ratio parameters\n",
            "  warnings.warn(\n"
          ]
        },
        {
          "output_type": "stream",
          "name": "stdout",
          "text": [
            "[CV] END .....C=0.1, l1_ratio=0.5, penalty=none, solver=saga; total time=  10.1s\n"
          ]
        },
        {
          "output_type": "stream",
          "name": "stderr",
          "text": [
            "/usr/local/lib/python3.10/dist-packages/sklearn/linear_model/_logistic.py:1172: UserWarning: l1_ratio parameter is only used when penalty is 'elasticnet'. Got (penalty=none)\n",
            "  warnings.warn(\n",
            "/usr/local/lib/python3.10/dist-packages/sklearn/linear_model/_logistic.py:1183: FutureWarning: `penalty='none'`has been deprecated in 1.2 and will be removed in 1.4. To keep the past behaviour, set `penalty=None`.\n",
            "  warnings.warn(\n",
            "/usr/local/lib/python3.10/dist-packages/sklearn/linear_model/_logistic.py:1193: UserWarning: Setting penalty=None will ignore the C and l1_ratio parameters\n",
            "  warnings.warn(\n"
          ]
        },
        {
          "output_type": "stream",
          "name": "stdout",
          "text": [
            "[CV] END .....C=0.1, l1_ratio=0.5, penalty=none, solver=saga; total time=  21.6s\n"
          ]
        },
        {
          "output_type": "stream",
          "name": "stderr",
          "text": [
            "/usr/local/lib/python3.10/dist-packages/sklearn/linear_model/_logistic.py:1172: UserWarning: l1_ratio parameter is only used when penalty is 'elasticnet'. Got (penalty=none)\n",
            "  warnings.warn(\n",
            "/usr/local/lib/python3.10/dist-packages/sklearn/linear_model/_logistic.py:1183: FutureWarning: `penalty='none'`has been deprecated in 1.2 and will be removed in 1.4. To keep the past behaviour, set `penalty=None`.\n",
            "  warnings.warn(\n",
            "/usr/local/lib/python3.10/dist-packages/sklearn/linear_model/_logistic.py:1193: UserWarning: Setting penalty=None will ignore the C and l1_ratio parameters\n",
            "  warnings.warn(\n"
          ]
        },
        {
          "output_type": "stream",
          "name": "stdout",
          "text": [
            "[CV] END .....C=0.1, l1_ratio=0.5, penalty=none, solver=saga; total time=  24.8s\n"
          ]
        },
        {
          "output_type": "stream",
          "name": "stderr",
          "text": [
            "/usr/local/lib/python3.10/dist-packages/sklearn/linear_model/_logistic.py:1172: UserWarning: l1_ratio parameter is only used when penalty is 'elasticnet'. Got (penalty=none)\n",
            "  warnings.warn(\n",
            "/usr/local/lib/python3.10/dist-packages/sklearn/linear_model/_logistic.py:1183: FutureWarning: `penalty='none'`has been deprecated in 1.2 and will be removed in 1.4. To keep the past behaviour, set `penalty=None`.\n",
            "  warnings.warn(\n",
            "/usr/local/lib/python3.10/dist-packages/sklearn/linear_model/_logistic.py:1193: UserWarning: Setting penalty=None will ignore the C and l1_ratio parameters\n",
            "  warnings.warn(\n"
          ]
        },
        {
          "output_type": "stream",
          "name": "stdout",
          "text": [
            "[CV] END .....C=0.1, l1_ratio=0.5, penalty=none, solver=saga; total time=  13.8s\n"
          ]
        },
        {
          "output_type": "stream",
          "name": "stderr",
          "text": [
            "/usr/local/lib/python3.10/dist-packages/sklearn/linear_model/_logistic.py:1172: UserWarning: l1_ratio parameter is only used when penalty is 'elasticnet'. Got (penalty=none)\n",
            "  warnings.warn(\n",
            "/usr/local/lib/python3.10/dist-packages/sklearn/linear_model/_logistic.py:1183: FutureWarning: `penalty='none'`has been deprecated in 1.2 and will be removed in 1.4. To keep the past behaviour, set `penalty=None`.\n",
            "  warnings.warn(\n",
            "/usr/local/lib/python3.10/dist-packages/sklearn/linear_model/_logistic.py:1193: UserWarning: Setting penalty=None will ignore the C and l1_ratio parameters\n",
            "  warnings.warn(\n"
          ]
        },
        {
          "output_type": "stream",
          "name": "stdout",
          "text": [
            "[CV] END .....C=0.1, l1_ratio=0.5, penalty=none, solver=saga; total time=  19.3s\n",
            "[CV] END ........C=0.1, l1_ratio=1, penalty=l1, solver=lbfgs; total time=   0.0s\n",
            "[CV] END ........C=0.1, l1_ratio=1, penalty=l1, solver=lbfgs; total time=   0.0s\n",
            "[CV] END ........C=0.1, l1_ratio=1, penalty=l1, solver=lbfgs; total time=   0.0s\n",
            "[CV] END ........C=0.1, l1_ratio=1, penalty=l1, solver=lbfgs; total time=   0.0s\n",
            "[CV] END ........C=0.1, l1_ratio=1, penalty=l1, solver=lbfgs; total time=   0.0s\n",
            "[CV] END ....C=0.1, l1_ratio=1, penalty=l1, solver=liblinear; total time=   0.0s\n",
            "[CV] END ....C=0.1, l1_ratio=1, penalty=l1, solver=liblinear; total time=   0.0s\n",
            "[CV] END ....C=0.1, l1_ratio=1, penalty=l1, solver=liblinear; total time=   0.0s\n",
            "[CV] END ....C=0.1, l1_ratio=1, penalty=l1, solver=liblinear; total time=   0.0s\n",
            "[CV] END ....C=0.1, l1_ratio=1, penalty=l1, solver=liblinear; total time=   0.0s\n"
          ]
        },
        {
          "output_type": "stream",
          "name": "stderr",
          "text": [
            "/usr/local/lib/python3.10/dist-packages/sklearn/linear_model/_logistic.py:1172: UserWarning: l1_ratio parameter is only used when penalty is 'elasticnet'. Got (penalty=l1)\n",
            "  warnings.warn(\n",
            "/usr/local/lib/python3.10/dist-packages/sklearn/linear_model/_logistic.py:1172: UserWarning: l1_ratio parameter is only used when penalty is 'elasticnet'. Got (penalty=l1)\n",
            "  warnings.warn(\n",
            "/usr/local/lib/python3.10/dist-packages/sklearn/linear_model/_logistic.py:1172: UserWarning: l1_ratio parameter is only used when penalty is 'elasticnet'. Got (penalty=l1)\n",
            "  warnings.warn(\n",
            "/usr/local/lib/python3.10/dist-packages/sklearn/linear_model/_logistic.py:1172: UserWarning: l1_ratio parameter is only used when penalty is 'elasticnet'. Got (penalty=l1)\n",
            "  warnings.warn(\n",
            "/usr/local/lib/python3.10/dist-packages/sklearn/linear_model/_logistic.py:1172: UserWarning: l1_ratio parameter is only used when penalty is 'elasticnet'. Got (penalty=l1)\n",
            "  warnings.warn(\n",
            "/usr/local/lib/python3.10/dist-packages/sklearn/linear_model/_logistic.py:1172: UserWarning: l1_ratio parameter is only used when penalty is 'elasticnet'. Got (penalty=l1)\n",
            "  warnings.warn(\n"
          ]
        },
        {
          "output_type": "stream",
          "name": "stdout",
          "text": [
            "[CV] END .........C=0.1, l1_ratio=1, penalty=l1, solver=saga; total time=   5.3s\n"
          ]
        },
        {
          "output_type": "stream",
          "name": "stderr",
          "text": [
            "/usr/local/lib/python3.10/dist-packages/sklearn/linear_model/_logistic.py:1172: UserWarning: l1_ratio parameter is only used when penalty is 'elasticnet'. Got (penalty=l1)\n",
            "  warnings.warn(\n"
          ]
        },
        {
          "output_type": "stream",
          "name": "stdout",
          "text": [
            "[CV] END .........C=0.1, l1_ratio=1, penalty=l1, solver=saga; total time=  10.3s\n"
          ]
        },
        {
          "output_type": "stream",
          "name": "stderr",
          "text": [
            "/usr/local/lib/python3.10/dist-packages/sklearn/linear_model/_logistic.py:1172: UserWarning: l1_ratio parameter is only used when penalty is 'elasticnet'. Got (penalty=l1)\n",
            "  warnings.warn(\n"
          ]
        },
        {
          "output_type": "stream",
          "name": "stdout",
          "text": [
            "[CV] END .........C=0.1, l1_ratio=1, penalty=l1, solver=saga; total time=   4.4s\n"
          ]
        },
        {
          "output_type": "stream",
          "name": "stderr",
          "text": [
            "/usr/local/lib/python3.10/dist-packages/sklearn/linear_model/_logistic.py:1172: UserWarning: l1_ratio parameter is only used when penalty is 'elasticnet'. Got (penalty=l1)\n",
            "  warnings.warn(\n"
          ]
        },
        {
          "output_type": "stream",
          "name": "stdout",
          "text": [
            "[CV] END .........C=0.1, l1_ratio=1, penalty=l1, solver=saga; total time=   6.8s\n"
          ]
        },
        {
          "output_type": "stream",
          "name": "stderr",
          "text": [
            "/usr/local/lib/python3.10/dist-packages/sklearn/linear_model/_logistic.py:1172: UserWarning: l1_ratio parameter is only used when penalty is 'elasticnet'. Got (penalty=l1)\n",
            "  warnings.warn(\n"
          ]
        },
        {
          "output_type": "stream",
          "name": "stdout",
          "text": [
            "[CV] END .........C=0.1, l1_ratio=1, penalty=l1, solver=saga; total time=   9.9s\n",
            "[CV] END ........C=0.1, l1_ratio=1, penalty=l2, solver=lbfgs; total time=   0.0s\n",
            "[CV] END ........C=0.1, l1_ratio=1, penalty=l2, solver=lbfgs; total time=   0.0s\n",
            "[CV] END ........C=0.1, l1_ratio=1, penalty=l2, solver=lbfgs; total time=   0.0s\n",
            "[CV] END ........C=0.1, l1_ratio=1, penalty=l2, solver=lbfgs; total time=   0.0s\n",
            "[CV] END ........C=0.1, l1_ratio=1, penalty=l2, solver=lbfgs; total time=   0.0s\n",
            "[CV] END ....C=0.1, l1_ratio=1, penalty=l2, solver=liblinear; total time=   0.0s\n",
            "[CV] END ....C=0.1, l1_ratio=1, penalty=l2, solver=liblinear; total time=   0.0s\n"
          ]
        },
        {
          "output_type": "stream",
          "name": "stderr",
          "text": [
            "/usr/local/lib/python3.10/dist-packages/sklearn/linear_model/_logistic.py:1172: UserWarning: l1_ratio parameter is only used when penalty is 'elasticnet'. Got (penalty=l2)\n",
            "  warnings.warn(\n",
            "/usr/local/lib/python3.10/dist-packages/sklearn/linear_model/_logistic.py:1172: UserWarning: l1_ratio parameter is only used when penalty is 'elasticnet'. Got (penalty=l2)\n",
            "  warnings.warn(\n",
            "/usr/local/lib/python3.10/dist-packages/sklearn/linear_model/_logistic.py:1172: UserWarning: l1_ratio parameter is only used when penalty is 'elasticnet'. Got (penalty=l2)\n",
            "  warnings.warn(\n",
            "/usr/local/lib/python3.10/dist-packages/sklearn/linear_model/_logistic.py:1172: UserWarning: l1_ratio parameter is only used when penalty is 'elasticnet'. Got (penalty=l2)\n",
            "  warnings.warn(\n",
            "/usr/local/lib/python3.10/dist-packages/sklearn/linear_model/_logistic.py:1172: UserWarning: l1_ratio parameter is only used when penalty is 'elasticnet'. Got (penalty=l2)\n",
            "  warnings.warn(\n",
            "/usr/local/lib/python3.10/dist-packages/sklearn/linear_model/_logistic.py:1172: UserWarning: l1_ratio parameter is only used when penalty is 'elasticnet'. Got (penalty=l2)\n",
            "  warnings.warn(\n",
            "/usr/local/lib/python3.10/dist-packages/sklearn/linear_model/_logistic.py:1172: UserWarning: l1_ratio parameter is only used when penalty is 'elasticnet'. Got (penalty=l2)\n",
            "  warnings.warn(\n",
            "/usr/local/lib/python3.10/dist-packages/sklearn/linear_model/_logistic.py:1172: UserWarning: l1_ratio parameter is only used when penalty is 'elasticnet'. Got (penalty=l2)\n",
            "  warnings.warn(\n"
          ]
        },
        {
          "output_type": "stream",
          "name": "stdout",
          "text": [
            "[CV] END ....C=0.1, l1_ratio=1, penalty=l2, solver=liblinear; total time=   0.0s\n",
            "[CV] END ....C=0.1, l1_ratio=1, penalty=l2, solver=liblinear; total time=   0.0s\n",
            "[CV] END ....C=0.1, l1_ratio=1, penalty=l2, solver=liblinear; total time=   0.0s\n"
          ]
        },
        {
          "output_type": "stream",
          "name": "stderr",
          "text": [
            "/usr/local/lib/python3.10/dist-packages/sklearn/linear_model/_logistic.py:1172: UserWarning: l1_ratio parameter is only used when penalty is 'elasticnet'. Got (penalty=l2)\n",
            "  warnings.warn(\n",
            "/usr/local/lib/python3.10/dist-packages/sklearn/linear_model/_logistic.py:1172: UserWarning: l1_ratio parameter is only used when penalty is 'elasticnet'. Got (penalty=l2)\n",
            "  warnings.warn(\n",
            "/usr/local/lib/python3.10/dist-packages/sklearn/linear_model/_logistic.py:1172: UserWarning: l1_ratio parameter is only used when penalty is 'elasticnet'. Got (penalty=l2)\n",
            "  warnings.warn(\n"
          ]
        },
        {
          "output_type": "stream",
          "name": "stdout",
          "text": [
            "[CV] END .........C=0.1, l1_ratio=1, penalty=l2, solver=saga; total time=   1.5s\n"
          ]
        },
        {
          "output_type": "stream",
          "name": "stderr",
          "text": [
            "/usr/local/lib/python3.10/dist-packages/sklearn/linear_model/_logistic.py:1172: UserWarning: l1_ratio parameter is only used when penalty is 'elasticnet'. Got (penalty=l2)\n",
            "  warnings.warn(\n"
          ]
        },
        {
          "output_type": "stream",
          "name": "stdout",
          "text": [
            "[CV] END .........C=0.1, l1_ratio=1, penalty=l2, solver=saga; total time=   2.3s\n"
          ]
        },
        {
          "output_type": "stream",
          "name": "stderr",
          "text": [
            "/usr/local/lib/python3.10/dist-packages/sklearn/linear_model/_logistic.py:1172: UserWarning: l1_ratio parameter is only used when penalty is 'elasticnet'. Got (penalty=l2)\n",
            "  warnings.warn(\n"
          ]
        },
        {
          "output_type": "stream",
          "name": "stdout",
          "text": [
            "[CV] END .........C=0.1, l1_ratio=1, penalty=l2, solver=saga; total time=   3.1s\n"
          ]
        },
        {
          "output_type": "stream",
          "name": "stderr",
          "text": [
            "/usr/local/lib/python3.10/dist-packages/sklearn/linear_model/_logistic.py:1172: UserWarning: l1_ratio parameter is only used when penalty is 'elasticnet'. Got (penalty=l2)\n",
            "  warnings.warn(\n"
          ]
        },
        {
          "output_type": "stream",
          "name": "stdout",
          "text": [
            "[CV] END .........C=0.1, l1_ratio=1, penalty=l2, solver=saga; total time=   2.4s\n"
          ]
        },
        {
          "output_type": "stream",
          "name": "stderr",
          "text": [
            "/usr/local/lib/python3.10/dist-packages/sklearn/linear_model/_logistic.py:1172: UserWarning: l1_ratio parameter is only used when penalty is 'elasticnet'. Got (penalty=l2)\n",
            "  warnings.warn(\n"
          ]
        },
        {
          "output_type": "stream",
          "name": "stdout",
          "text": [
            "[CV] END .........C=0.1, l1_ratio=1, penalty=l2, solver=saga; total time=   1.7s\n",
            "[CV] END C=0.1, l1_ratio=1, penalty=elasticnet, solver=lbfgs; total time=   0.0s\n",
            "[CV] END C=0.1, l1_ratio=1, penalty=elasticnet, solver=lbfgs; total time=   0.0s\n",
            "[CV] END C=0.1, l1_ratio=1, penalty=elasticnet, solver=lbfgs; total time=   0.0s\n",
            "[CV] END C=0.1, l1_ratio=1, penalty=elasticnet, solver=lbfgs; total time=   0.0s\n",
            "[CV] END C=0.1, l1_ratio=1, penalty=elasticnet, solver=lbfgs; total time=   0.0s\n",
            "[CV] END C=0.1, l1_ratio=1, penalty=elasticnet, solver=liblinear; total time=   0.0s\n",
            "[CV] END C=0.1, l1_ratio=1, penalty=elasticnet, solver=liblinear; total time=   0.0s\n",
            "[CV] END C=0.1, l1_ratio=1, penalty=elasticnet, solver=liblinear; total time=   0.0s\n",
            "[CV] END C=0.1, l1_ratio=1, penalty=elasticnet, solver=liblinear; total time=   0.0s\n",
            "[CV] END C=0.1, l1_ratio=1, penalty=elasticnet, solver=liblinear; total time=   0.0s\n",
            "[CV] END .C=0.1, l1_ratio=1, penalty=elasticnet, solver=saga; total time=   5.5s\n",
            "[CV] END .C=0.1, l1_ratio=1, penalty=elasticnet, solver=saga; total time=  10.3s\n",
            "[CV] END .C=0.1, l1_ratio=1, penalty=elasticnet, solver=saga; total time=   4.2s\n",
            "[CV] END .C=0.1, l1_ratio=1, penalty=elasticnet, solver=saga; total time=   6.3s\n",
            "[CV] END .C=0.1, l1_ratio=1, penalty=elasticnet, solver=saga; total time=   8.6s\n",
            "[CV] END ......C=0.1, l1_ratio=1, penalty=none, solver=lbfgs; total time=   0.0s\n",
            "[CV] END ......C=0.1, l1_ratio=1, penalty=none, solver=lbfgs; total time=   0.0s\n",
            "[CV] END ......C=0.1, l1_ratio=1, penalty=none, solver=lbfgs; total time=   0.0s\n",
            "[CV] END ......C=0.1, l1_ratio=1, penalty=none, solver=lbfgs; total time=   0.0s\n",
            "[CV] END ......C=0.1, l1_ratio=1, penalty=none, solver=lbfgs; total time=   0.0s\n",
            "[CV] END ..C=0.1, l1_ratio=1, penalty=none, solver=liblinear; total time=   0.0s\n",
            "[CV] END ..C=0.1, l1_ratio=1, penalty=none, solver=liblinear; total time=   0.0s\n",
            "[CV] END ..C=0.1, l1_ratio=1, penalty=none, solver=liblinear; total time=   0.0s\n",
            "[CV] END ..C=0.1, l1_ratio=1, penalty=none, solver=liblinear; total time=   0.0s\n",
            "[CV] END ..C=0.1, l1_ratio=1, penalty=none, solver=liblinear; total time=   0.0s\n"
          ]
        },
        {
          "output_type": "stream",
          "name": "stderr",
          "text": [
            "/usr/local/lib/python3.10/dist-packages/sklearn/linear_model/_logistic.py:1172: UserWarning: l1_ratio parameter is only used when penalty is 'elasticnet'. Got (penalty=none)\n",
            "  warnings.warn(\n",
            "/usr/local/lib/python3.10/dist-packages/sklearn/linear_model/_logistic.py:1183: FutureWarning: `penalty='none'`has been deprecated in 1.2 and will be removed in 1.4. To keep the past behaviour, set `penalty=None`.\n",
            "  warnings.warn(\n",
            "/usr/local/lib/python3.10/dist-packages/sklearn/linear_model/_logistic.py:1193: UserWarning: Setting penalty=None will ignore the C and l1_ratio parameters\n",
            "  warnings.warn(\n",
            "/usr/local/lib/python3.10/dist-packages/sklearn/linear_model/_logistic.py:1172: UserWarning: l1_ratio parameter is only used when penalty is 'elasticnet'. Got (penalty=none)\n",
            "  warnings.warn(\n",
            "/usr/local/lib/python3.10/dist-packages/sklearn/linear_model/_logistic.py:1183: FutureWarning: `penalty='none'`has been deprecated in 1.2 and will be removed in 1.4. To keep the past behaviour, set `penalty=None`.\n",
            "  warnings.warn(\n",
            "/usr/local/lib/python3.10/dist-packages/sklearn/linear_model/_logistic.py:1193: UserWarning: Setting penalty=None will ignore the C and l1_ratio parameters\n",
            "  warnings.warn(\n",
            "/usr/local/lib/python3.10/dist-packages/sklearn/linear_model/_logistic.py:1172: UserWarning: l1_ratio parameter is only used when penalty is 'elasticnet'. Got (penalty=none)\n",
            "  warnings.warn(\n",
            "/usr/local/lib/python3.10/dist-packages/sklearn/linear_model/_logistic.py:1183: FutureWarning: `penalty='none'`has been deprecated in 1.2 and will be removed in 1.4. To keep the past behaviour, set `penalty=None`.\n",
            "  warnings.warn(\n",
            "/usr/local/lib/python3.10/dist-packages/sklearn/linear_model/_logistic.py:1193: UserWarning: Setting penalty=None will ignore the C and l1_ratio parameters\n",
            "  warnings.warn(\n",
            "/usr/local/lib/python3.10/dist-packages/sklearn/linear_model/_logistic.py:1172: UserWarning: l1_ratio parameter is only used when penalty is 'elasticnet'. Got (penalty=none)\n",
            "  warnings.warn(\n",
            "/usr/local/lib/python3.10/dist-packages/sklearn/linear_model/_logistic.py:1183: FutureWarning: `penalty='none'`has been deprecated in 1.2 and will be removed in 1.4. To keep the past behaviour, set `penalty=None`.\n",
            "  warnings.warn(\n",
            "/usr/local/lib/python3.10/dist-packages/sklearn/linear_model/_logistic.py:1193: UserWarning: Setting penalty=None will ignore the C and l1_ratio parameters\n",
            "  warnings.warn(\n",
            "/usr/local/lib/python3.10/dist-packages/sklearn/linear_model/_logistic.py:1172: UserWarning: l1_ratio parameter is only used when penalty is 'elasticnet'. Got (penalty=none)\n",
            "  warnings.warn(\n",
            "/usr/local/lib/python3.10/dist-packages/sklearn/linear_model/_logistic.py:1183: FutureWarning: `penalty='none'`has been deprecated in 1.2 and will be removed in 1.4. To keep the past behaviour, set `penalty=None`.\n",
            "  warnings.warn(\n",
            "/usr/local/lib/python3.10/dist-packages/sklearn/linear_model/_logistic.py:1193: UserWarning: Setting penalty=None will ignore the C and l1_ratio parameters\n",
            "  warnings.warn(\n",
            "/usr/local/lib/python3.10/dist-packages/sklearn/linear_model/_logistic.py:1172: UserWarning: l1_ratio parameter is only used when penalty is 'elasticnet'. Got (penalty=none)\n",
            "  warnings.warn(\n",
            "/usr/local/lib/python3.10/dist-packages/sklearn/linear_model/_logistic.py:1183: FutureWarning: `penalty='none'`has been deprecated in 1.2 and will be removed in 1.4. To keep the past behaviour, set `penalty=None`.\n",
            "  warnings.warn(\n",
            "/usr/local/lib/python3.10/dist-packages/sklearn/linear_model/_logistic.py:1193: UserWarning: Setting penalty=None will ignore the C and l1_ratio parameters\n",
            "  warnings.warn(\n"
          ]
        },
        {
          "output_type": "stream",
          "name": "stdout",
          "text": [
            "[CV] END .......C=0.1, l1_ratio=1, penalty=none, solver=saga; total time=  10.2s\n"
          ]
        },
        {
          "output_type": "stream",
          "name": "stderr",
          "text": [
            "/usr/local/lib/python3.10/dist-packages/sklearn/linear_model/_logistic.py:1172: UserWarning: l1_ratio parameter is only used when penalty is 'elasticnet'. Got (penalty=none)\n",
            "  warnings.warn(\n",
            "/usr/local/lib/python3.10/dist-packages/sklearn/linear_model/_logistic.py:1183: FutureWarning: `penalty='none'`has been deprecated in 1.2 and will be removed in 1.4. To keep the past behaviour, set `penalty=None`.\n",
            "  warnings.warn(\n",
            "/usr/local/lib/python3.10/dist-packages/sklearn/linear_model/_logistic.py:1193: UserWarning: Setting penalty=None will ignore the C and l1_ratio parameters\n",
            "  warnings.warn(\n"
          ]
        },
        {
          "output_type": "stream",
          "name": "stdout",
          "text": [
            "[CV] END .......C=0.1, l1_ratio=1, penalty=none, solver=saga; total time=  21.2s\n"
          ]
        },
        {
          "output_type": "stream",
          "name": "stderr",
          "text": [
            "/usr/local/lib/python3.10/dist-packages/sklearn/linear_model/_logistic.py:1172: UserWarning: l1_ratio parameter is only used when penalty is 'elasticnet'. Got (penalty=none)\n",
            "  warnings.warn(\n",
            "/usr/local/lib/python3.10/dist-packages/sklearn/linear_model/_logistic.py:1183: FutureWarning: `penalty='none'`has been deprecated in 1.2 and will be removed in 1.4. To keep the past behaviour, set `penalty=None`.\n",
            "  warnings.warn(\n",
            "/usr/local/lib/python3.10/dist-packages/sklearn/linear_model/_logistic.py:1193: UserWarning: Setting penalty=None will ignore the C and l1_ratio parameters\n",
            "  warnings.warn(\n"
          ]
        },
        {
          "output_type": "stream",
          "name": "stdout",
          "text": [
            "[CV] END .......C=0.1, l1_ratio=1, penalty=none, solver=saga; total time=  23.8s\n"
          ]
        },
        {
          "output_type": "stream",
          "name": "stderr",
          "text": [
            "/usr/local/lib/python3.10/dist-packages/sklearn/linear_model/_logistic.py:1172: UserWarning: l1_ratio parameter is only used when penalty is 'elasticnet'. Got (penalty=none)\n",
            "  warnings.warn(\n",
            "/usr/local/lib/python3.10/dist-packages/sklearn/linear_model/_logistic.py:1183: FutureWarning: `penalty='none'`has been deprecated in 1.2 and will be removed in 1.4. To keep the past behaviour, set `penalty=None`.\n",
            "  warnings.warn(\n",
            "/usr/local/lib/python3.10/dist-packages/sklearn/linear_model/_logistic.py:1193: UserWarning: Setting penalty=None will ignore the C and l1_ratio parameters\n",
            "  warnings.warn(\n"
          ]
        },
        {
          "output_type": "stream",
          "name": "stdout",
          "text": [
            "[CV] END .......C=0.1, l1_ratio=1, penalty=none, solver=saga; total time=  13.1s\n"
          ]
        },
        {
          "output_type": "stream",
          "name": "stderr",
          "text": [
            "/usr/local/lib/python3.10/dist-packages/sklearn/linear_model/_logistic.py:1172: UserWarning: l1_ratio parameter is only used when penalty is 'elasticnet'. Got (penalty=none)\n",
            "  warnings.warn(\n",
            "/usr/local/lib/python3.10/dist-packages/sklearn/linear_model/_logistic.py:1183: FutureWarning: `penalty='none'`has been deprecated in 1.2 and will be removed in 1.4. To keep the past behaviour, set `penalty=None`.\n",
            "  warnings.warn(\n",
            "/usr/local/lib/python3.10/dist-packages/sklearn/linear_model/_logistic.py:1193: UserWarning: Setting penalty=None will ignore the C and l1_ratio parameters\n",
            "  warnings.warn(\n"
          ]
        },
        {
          "output_type": "stream",
          "name": "stdout",
          "text": [
            "[CV] END .......C=0.1, l1_ratio=1, penalty=none, solver=saga; total time=  21.5s\n",
            "[CV] END ..........C=1, l1_ratio=0, penalty=l1, solver=lbfgs; total time=   0.0s\n",
            "[CV] END ..........C=1, l1_ratio=0, penalty=l1, solver=lbfgs; total time=   0.0s\n",
            "[CV] END ..........C=1, l1_ratio=0, penalty=l1, solver=lbfgs; total time=   0.0s\n",
            "[CV] END ..........C=1, l1_ratio=0, penalty=l1, solver=lbfgs; total time=   0.0s\n",
            "[CV] END ..........C=1, l1_ratio=0, penalty=l1, solver=lbfgs; total time=   0.0s\n",
            "[CV] END ......C=1, l1_ratio=0, penalty=l1, solver=liblinear; total time=   0.0s\n",
            "[CV] END ......C=1, l1_ratio=0, penalty=l1, solver=liblinear; total time=   0.0s\n",
            "[CV] END ......C=1, l1_ratio=0, penalty=l1, solver=liblinear; total time=   0.0s\n",
            "[CV] END ......C=1, l1_ratio=0, penalty=l1, solver=liblinear; total time=   0.0s\n",
            "[CV] END ......C=1, l1_ratio=0, penalty=l1, solver=liblinear; total time=   0.0s\n"
          ]
        },
        {
          "output_type": "stream",
          "name": "stderr",
          "text": [
            "/usr/local/lib/python3.10/dist-packages/sklearn/linear_model/_logistic.py:1172: UserWarning: l1_ratio parameter is only used when penalty is 'elasticnet'. Got (penalty=l1)\n",
            "  warnings.warn(\n",
            "/usr/local/lib/python3.10/dist-packages/sklearn/linear_model/_logistic.py:1172: UserWarning: l1_ratio parameter is only used when penalty is 'elasticnet'. Got (penalty=l1)\n",
            "  warnings.warn(\n",
            "/usr/local/lib/python3.10/dist-packages/sklearn/linear_model/_logistic.py:1172: UserWarning: l1_ratio parameter is only used when penalty is 'elasticnet'. Got (penalty=l1)\n",
            "  warnings.warn(\n",
            "/usr/local/lib/python3.10/dist-packages/sklearn/linear_model/_logistic.py:1172: UserWarning: l1_ratio parameter is only used when penalty is 'elasticnet'. Got (penalty=l1)\n",
            "  warnings.warn(\n",
            "/usr/local/lib/python3.10/dist-packages/sklearn/linear_model/_logistic.py:1172: UserWarning: l1_ratio parameter is only used when penalty is 'elasticnet'. Got (penalty=l1)\n",
            "  warnings.warn(\n",
            "/usr/local/lib/python3.10/dist-packages/sklearn/linear_model/_logistic.py:1172: UserWarning: l1_ratio parameter is only used when penalty is 'elasticnet'. Got (penalty=l1)\n",
            "  warnings.warn(\n"
          ]
        },
        {
          "output_type": "stream",
          "name": "stdout",
          "text": [
            "[CV] END ...........C=1, l1_ratio=0, penalty=l1, solver=saga; total time=  11.9s\n"
          ]
        },
        {
          "output_type": "stream",
          "name": "stderr",
          "text": [
            "/usr/local/lib/python3.10/dist-packages/sklearn/linear_model/_logistic.py:1172: UserWarning: l1_ratio parameter is only used when penalty is 'elasticnet'. Got (penalty=l1)\n",
            "  warnings.warn(\n"
          ]
        },
        {
          "output_type": "stream",
          "name": "stdout",
          "text": [
            "[CV] END ...........C=1, l1_ratio=0, penalty=l1, solver=saga; total time=  14.6s\n"
          ]
        },
        {
          "output_type": "stream",
          "name": "stderr",
          "text": [
            "/usr/local/lib/python3.10/dist-packages/sklearn/linear_model/_logistic.py:1172: UserWarning: l1_ratio parameter is only used when penalty is 'elasticnet'. Got (penalty=l1)\n",
            "  warnings.warn(\n"
          ]
        },
        {
          "output_type": "stream",
          "name": "stdout",
          "text": [
            "[CV] END ...........C=1, l1_ratio=0, penalty=l1, solver=saga; total time=  13.1s\n"
          ]
        },
        {
          "output_type": "stream",
          "name": "stderr",
          "text": [
            "/usr/local/lib/python3.10/dist-packages/sklearn/linear_model/_logistic.py:1172: UserWarning: l1_ratio parameter is only used when penalty is 'elasticnet'. Got (penalty=l1)\n",
            "  warnings.warn(\n"
          ]
        },
        {
          "output_type": "stream",
          "name": "stdout",
          "text": [
            "[CV] END ...........C=1, l1_ratio=0, penalty=l1, solver=saga; total time=  19.6s\n"
          ]
        },
        {
          "output_type": "stream",
          "name": "stderr",
          "text": [
            "/usr/local/lib/python3.10/dist-packages/sklearn/linear_model/_logistic.py:1172: UserWarning: l1_ratio parameter is only used when penalty is 'elasticnet'. Got (penalty=l1)\n",
            "  warnings.warn(\n"
          ]
        },
        {
          "output_type": "stream",
          "name": "stdout",
          "text": [
            "[CV] END ...........C=1, l1_ratio=0, penalty=l1, solver=saga; total time=  14.2s\n",
            "[CV] END ..........C=1, l1_ratio=0, penalty=l2, solver=lbfgs; total time=   0.1s\n"
          ]
        },
        {
          "output_type": "stream",
          "name": "stderr",
          "text": [
            "/usr/local/lib/python3.10/dist-packages/sklearn/linear_model/_logistic.py:1172: UserWarning: l1_ratio parameter is only used when penalty is 'elasticnet'. Got (penalty=l2)\n",
            "  warnings.warn(\n",
            "/usr/local/lib/python3.10/dist-packages/sklearn/linear_model/_logistic.py:1172: UserWarning: l1_ratio parameter is only used when penalty is 'elasticnet'. Got (penalty=l2)\n",
            "  warnings.warn(\n"
          ]
        },
        {
          "output_type": "stream",
          "name": "stdout",
          "text": [
            "[CV] END ..........C=1, l1_ratio=0, penalty=l2, solver=lbfgs; total time=   0.1s\n",
            "[CV] END ..........C=1, l1_ratio=0, penalty=l2, solver=lbfgs; total time=   0.2s\n"
          ]
        },
        {
          "output_type": "stream",
          "name": "stderr",
          "text": [
            "/usr/local/lib/python3.10/dist-packages/sklearn/linear_model/_logistic.py:1172: UserWarning: l1_ratio parameter is only used when penalty is 'elasticnet'. Got (penalty=l2)\n",
            "  warnings.warn(\n",
            "/usr/local/lib/python3.10/dist-packages/sklearn/linear_model/_logistic.py:1172: UserWarning: l1_ratio parameter is only used when penalty is 'elasticnet'. Got (penalty=l2)\n",
            "  warnings.warn(\n"
          ]
        },
        {
          "output_type": "stream",
          "name": "stdout",
          "text": [
            "[CV] END ..........C=1, l1_ratio=0, penalty=l2, solver=lbfgs; total time=   0.2s\n",
            "[CV] END ..........C=1, l1_ratio=0, penalty=l2, solver=lbfgs; total time=   0.1s\n",
            "[CV] END ......C=1, l1_ratio=0, penalty=l2, solver=liblinear; total time=   0.1s\n"
          ]
        },
        {
          "output_type": "stream",
          "name": "stderr",
          "text": [
            "/usr/local/lib/python3.10/dist-packages/sklearn/linear_model/_logistic.py:1172: UserWarning: l1_ratio parameter is only used when penalty is 'elasticnet'. Got (penalty=l2)\n",
            "  warnings.warn(\n",
            "/usr/local/lib/python3.10/dist-packages/sklearn/linear_model/_logistic.py:1172: UserWarning: l1_ratio parameter is only used when penalty is 'elasticnet'. Got (penalty=l2)\n",
            "  warnings.warn(\n",
            "/usr/local/lib/python3.10/dist-packages/sklearn/linear_model/_logistic.py:1172: UserWarning: l1_ratio parameter is only used when penalty is 'elasticnet'. Got (penalty=l2)\n",
            "  warnings.warn(\n"
          ]
        },
        {
          "output_type": "stream",
          "name": "stdout",
          "text": [
            "[CV] END ......C=1, l1_ratio=0, penalty=l2, solver=liblinear; total time=   0.1s\n",
            "[CV] END ......C=1, l1_ratio=0, penalty=l2, solver=liblinear; total time=   0.1s\n"
          ]
        },
        {
          "output_type": "stream",
          "name": "stderr",
          "text": [
            "/usr/local/lib/python3.10/dist-packages/sklearn/linear_model/_logistic.py:1172: UserWarning: l1_ratio parameter is only used when penalty is 'elasticnet'. Got (penalty=l2)\n",
            "  warnings.warn(\n",
            "/usr/local/lib/python3.10/dist-packages/sklearn/linear_model/_logistic.py:1172: UserWarning: l1_ratio parameter is only used when penalty is 'elasticnet'. Got (penalty=l2)\n",
            "  warnings.warn(\n"
          ]
        },
        {
          "output_type": "stream",
          "name": "stdout",
          "text": [
            "[CV] END ......C=1, l1_ratio=0, penalty=l2, solver=liblinear; total time=   0.1s\n",
            "[CV] END ......C=1, l1_ratio=0, penalty=l2, solver=liblinear; total time=   0.1s\n"
          ]
        },
        {
          "output_type": "stream",
          "name": "stderr",
          "text": [
            "/usr/local/lib/python3.10/dist-packages/sklearn/linear_model/_logistic.py:1172: UserWarning: l1_ratio parameter is only used when penalty is 'elasticnet'. Got (penalty=l2)\n",
            "  warnings.warn(\n",
            "/usr/local/lib/python3.10/dist-packages/sklearn/linear_model/_logistic.py:1172: UserWarning: l1_ratio parameter is only used when penalty is 'elasticnet'. Got (penalty=l2)\n",
            "  warnings.warn(\n"
          ]
        },
        {
          "output_type": "stream",
          "name": "stdout",
          "text": [
            "[CV] END ...........C=1, l1_ratio=0, penalty=l2, solver=saga; total time=   5.8s\n"
          ]
        },
        {
          "output_type": "stream",
          "name": "stderr",
          "text": [
            "/usr/local/lib/python3.10/dist-packages/sklearn/linear_model/_logistic.py:1172: UserWarning: l1_ratio parameter is only used when penalty is 'elasticnet'. Got (penalty=l2)\n",
            "  warnings.warn(\n"
          ]
        },
        {
          "output_type": "stream",
          "name": "stdout",
          "text": [
            "[CV] END ...........C=1, l1_ratio=0, penalty=l2, solver=saga; total time=   7.0s\n"
          ]
        },
        {
          "output_type": "stream",
          "name": "stderr",
          "text": [
            "/usr/local/lib/python3.10/dist-packages/sklearn/linear_model/_logistic.py:1172: UserWarning: l1_ratio parameter is only used when penalty is 'elasticnet'. Got (penalty=l2)\n",
            "  warnings.warn(\n"
          ]
        },
        {
          "output_type": "stream",
          "name": "stdout",
          "text": [
            "[CV] END ...........C=1, l1_ratio=0, penalty=l2, solver=saga; total time=  10.2s\n"
          ]
        },
        {
          "output_type": "stream",
          "name": "stderr",
          "text": [
            "/usr/local/lib/python3.10/dist-packages/sklearn/linear_model/_logistic.py:1172: UserWarning: l1_ratio parameter is only used when penalty is 'elasticnet'. Got (penalty=l2)\n",
            "  warnings.warn(\n"
          ]
        },
        {
          "output_type": "stream",
          "name": "stdout",
          "text": [
            "[CV] END ...........C=1, l1_ratio=0, penalty=l2, solver=saga; total time=   6.3s\n"
          ]
        },
        {
          "output_type": "stream",
          "name": "stderr",
          "text": [
            "/usr/local/lib/python3.10/dist-packages/sklearn/linear_model/_logistic.py:1172: UserWarning: l1_ratio parameter is only used when penalty is 'elasticnet'. Got (penalty=l2)\n",
            "  warnings.warn(\n"
          ]
        },
        {
          "output_type": "stream",
          "name": "stdout",
          "text": [
            "[CV] END ...........C=1, l1_ratio=0, penalty=l2, solver=saga; total time=   9.7s\n",
            "[CV] END ..C=1, l1_ratio=0, penalty=elasticnet, solver=lbfgs; total time=   0.0s\n",
            "[CV] END ..C=1, l1_ratio=0, penalty=elasticnet, solver=lbfgs; total time=   0.0s\n",
            "[CV] END ..C=1, l1_ratio=0, penalty=elasticnet, solver=lbfgs; total time=   0.0s\n",
            "[CV] END ..C=1, l1_ratio=0, penalty=elasticnet, solver=lbfgs; total time=   0.0s\n",
            "[CV] END ..C=1, l1_ratio=0, penalty=elasticnet, solver=lbfgs; total time=   0.0s\n",
            "[CV] END C=1, l1_ratio=0, penalty=elasticnet, solver=liblinear; total time=   0.0s\n",
            "[CV] END C=1, l1_ratio=0, penalty=elasticnet, solver=liblinear; total time=   0.0s\n",
            "[CV] END C=1, l1_ratio=0, penalty=elasticnet, solver=liblinear; total time=   0.0s\n",
            "[CV] END C=1, l1_ratio=0, penalty=elasticnet, solver=liblinear; total time=   0.0s\n",
            "[CV] END C=1, l1_ratio=0, penalty=elasticnet, solver=liblinear; total time=   0.0s\n",
            "[CV] END ...C=1, l1_ratio=0, penalty=elasticnet, solver=saga; total time=   3.9s\n",
            "[CV] END ...C=1, l1_ratio=0, penalty=elasticnet, solver=saga; total time=   9.5s\n",
            "[CV] END ...C=1, l1_ratio=0, penalty=elasticnet, solver=saga; total time=   7.7s\n",
            "[CV] END ...C=1, l1_ratio=0, penalty=elasticnet, solver=saga; total time=   8.6s\n",
            "[CV] END ...C=1, l1_ratio=0, penalty=elasticnet, solver=saga; total time=   7.4s\n",
            "[CV] END ........C=1, l1_ratio=0, penalty=none, solver=lbfgs; total time=   0.0s\n",
            "[CV] END ........C=1, l1_ratio=0, penalty=none, solver=lbfgs; total time=   0.0s\n",
            "[CV] END ........C=1, l1_ratio=0, penalty=none, solver=lbfgs; total time=   0.0s\n",
            "[CV] END ........C=1, l1_ratio=0, penalty=none, solver=lbfgs; total time=   0.0s\n",
            "[CV] END ........C=1, l1_ratio=0, penalty=none, solver=lbfgs; total time=   0.0s\n",
            "[CV] END ....C=1, l1_ratio=0, penalty=none, solver=liblinear; total time=   0.0s\n",
            "[CV] END ....C=1, l1_ratio=0, penalty=none, solver=liblinear; total time=   0.0s\n",
            "[CV] END ....C=1, l1_ratio=0, penalty=none, solver=liblinear; total time=   0.0s\n",
            "[CV] END ....C=1, l1_ratio=0, penalty=none, solver=liblinear; total time=   0.0s\n",
            "[CV] END ....C=1, l1_ratio=0, penalty=none, solver=liblinear; total time=   0.0s\n"
          ]
        },
        {
          "output_type": "stream",
          "name": "stderr",
          "text": [
            "/usr/local/lib/python3.10/dist-packages/sklearn/linear_model/_logistic.py:1172: UserWarning: l1_ratio parameter is only used when penalty is 'elasticnet'. Got (penalty=none)\n",
            "  warnings.warn(\n",
            "/usr/local/lib/python3.10/dist-packages/sklearn/linear_model/_logistic.py:1183: FutureWarning: `penalty='none'`has been deprecated in 1.2 and will be removed in 1.4. To keep the past behaviour, set `penalty=None`.\n",
            "  warnings.warn(\n",
            "/usr/local/lib/python3.10/dist-packages/sklearn/linear_model/_logistic.py:1172: UserWarning: l1_ratio parameter is only used when penalty is 'elasticnet'. Got (penalty=none)\n",
            "  warnings.warn(\n",
            "/usr/local/lib/python3.10/dist-packages/sklearn/linear_model/_logistic.py:1183: FutureWarning: `penalty='none'`has been deprecated in 1.2 and will be removed in 1.4. To keep the past behaviour, set `penalty=None`.\n",
            "  warnings.warn(\n",
            "/usr/local/lib/python3.10/dist-packages/sklearn/linear_model/_logistic.py:1172: UserWarning: l1_ratio parameter is only used when penalty is 'elasticnet'. Got (penalty=none)\n",
            "  warnings.warn(\n",
            "/usr/local/lib/python3.10/dist-packages/sklearn/linear_model/_logistic.py:1183: FutureWarning: `penalty='none'`has been deprecated in 1.2 and will be removed in 1.4. To keep the past behaviour, set `penalty=None`.\n",
            "  warnings.warn(\n",
            "/usr/local/lib/python3.10/dist-packages/sklearn/linear_model/_logistic.py:1172: UserWarning: l1_ratio parameter is only used when penalty is 'elasticnet'. Got (penalty=none)\n",
            "  warnings.warn(\n",
            "/usr/local/lib/python3.10/dist-packages/sklearn/linear_model/_logistic.py:1183: FutureWarning: `penalty='none'`has been deprecated in 1.2 and will be removed in 1.4. To keep the past behaviour, set `penalty=None`.\n",
            "  warnings.warn(\n",
            "/usr/local/lib/python3.10/dist-packages/sklearn/linear_model/_logistic.py:1172: UserWarning: l1_ratio parameter is only used when penalty is 'elasticnet'. Got (penalty=none)\n",
            "  warnings.warn(\n",
            "/usr/local/lib/python3.10/dist-packages/sklearn/linear_model/_logistic.py:1183: FutureWarning: `penalty='none'`has been deprecated in 1.2 and will be removed in 1.4. To keep the past behaviour, set `penalty=None`.\n",
            "  warnings.warn(\n",
            "/usr/local/lib/python3.10/dist-packages/sklearn/linear_model/_logistic.py:1172: UserWarning: l1_ratio parameter is only used when penalty is 'elasticnet'. Got (penalty=none)\n",
            "  warnings.warn(\n",
            "/usr/local/lib/python3.10/dist-packages/sklearn/linear_model/_logistic.py:1183: FutureWarning: `penalty='none'`has been deprecated in 1.2 and will be removed in 1.4. To keep the past behaviour, set `penalty=None`.\n",
            "  warnings.warn(\n"
          ]
        },
        {
          "output_type": "stream",
          "name": "stdout",
          "text": [
            "[CV] END .........C=1, l1_ratio=0, penalty=none, solver=saga; total time=  10.2s\n"
          ]
        },
        {
          "output_type": "stream",
          "name": "stderr",
          "text": [
            "/usr/local/lib/python3.10/dist-packages/sklearn/linear_model/_logistic.py:1172: UserWarning: l1_ratio parameter is only used when penalty is 'elasticnet'. Got (penalty=none)\n",
            "  warnings.warn(\n",
            "/usr/local/lib/python3.10/dist-packages/sklearn/linear_model/_logistic.py:1183: FutureWarning: `penalty='none'`has been deprecated in 1.2 and will be removed in 1.4. To keep the past behaviour, set `penalty=None`.\n",
            "  warnings.warn(\n"
          ]
        },
        {
          "output_type": "stream",
          "name": "stdout",
          "text": [
            "[CV] END .........C=1, l1_ratio=0, penalty=none, solver=saga; total time=  21.7s\n"
          ]
        },
        {
          "output_type": "stream",
          "name": "stderr",
          "text": [
            "/usr/local/lib/python3.10/dist-packages/sklearn/linear_model/_logistic.py:1172: UserWarning: l1_ratio parameter is only used when penalty is 'elasticnet'. Got (penalty=none)\n",
            "  warnings.warn(\n",
            "/usr/local/lib/python3.10/dist-packages/sklearn/linear_model/_logistic.py:1183: FutureWarning: `penalty='none'`has been deprecated in 1.2 and will be removed in 1.4. To keep the past behaviour, set `penalty=None`.\n",
            "  warnings.warn(\n"
          ]
        },
        {
          "output_type": "stream",
          "name": "stdout",
          "text": [
            "[CV] END .........C=1, l1_ratio=0, penalty=none, solver=saga; total time=  24.8s\n"
          ]
        },
        {
          "output_type": "stream",
          "name": "stderr",
          "text": [
            "/usr/local/lib/python3.10/dist-packages/sklearn/linear_model/_logistic.py:1172: UserWarning: l1_ratio parameter is only used when penalty is 'elasticnet'. Got (penalty=none)\n",
            "  warnings.warn(\n",
            "/usr/local/lib/python3.10/dist-packages/sklearn/linear_model/_logistic.py:1183: FutureWarning: `penalty='none'`has been deprecated in 1.2 and will be removed in 1.4. To keep the past behaviour, set `penalty=None`.\n",
            "  warnings.warn(\n"
          ]
        },
        {
          "output_type": "stream",
          "name": "stdout",
          "text": [
            "[CV] END .........C=1, l1_ratio=0, penalty=none, solver=saga; total time=  13.8s\n"
          ]
        },
        {
          "output_type": "stream",
          "name": "stderr",
          "text": [
            "/usr/local/lib/python3.10/dist-packages/sklearn/linear_model/_logistic.py:1172: UserWarning: l1_ratio parameter is only used when penalty is 'elasticnet'. Got (penalty=none)\n",
            "  warnings.warn(\n",
            "/usr/local/lib/python3.10/dist-packages/sklearn/linear_model/_logistic.py:1183: FutureWarning: `penalty='none'`has been deprecated in 1.2 and will be removed in 1.4. To keep the past behaviour, set `penalty=None`.\n",
            "  warnings.warn(\n"
          ]
        },
        {
          "output_type": "stream",
          "name": "stdout",
          "text": [
            "[CV] END .........C=1, l1_ratio=0, penalty=none, solver=saga; total time=  19.3s\n",
            "[CV] END ........C=1, l1_ratio=0.5, penalty=l1, solver=lbfgs; total time=   0.0s\n",
            "[CV] END ........C=1, l1_ratio=0.5, penalty=l1, solver=lbfgs; total time=   0.0s\n",
            "[CV] END ........C=1, l1_ratio=0.5, penalty=l1, solver=lbfgs; total time=   0.0s\n",
            "[CV] END ........C=1, l1_ratio=0.5, penalty=l1, solver=lbfgs; total time=   0.0s\n",
            "[CV] END ........C=1, l1_ratio=0.5, penalty=l1, solver=lbfgs; total time=   0.0s\n",
            "[CV] END ....C=1, l1_ratio=0.5, penalty=l1, solver=liblinear; total time=   0.0s\n",
            "[CV] END ....C=1, l1_ratio=0.5, penalty=l1, solver=liblinear; total time=   0.0s\n",
            "[CV] END ....C=1, l1_ratio=0.5, penalty=l1, solver=liblinear; total time=   0.0s\n",
            "[CV] END ....C=1, l1_ratio=0.5, penalty=l1, solver=liblinear; total time=   0.0s\n",
            "[CV] END ....C=1, l1_ratio=0.5, penalty=l1, solver=liblinear; total time=   0.0s\n"
          ]
        },
        {
          "output_type": "stream",
          "name": "stderr",
          "text": [
            "/usr/local/lib/python3.10/dist-packages/sklearn/linear_model/_logistic.py:1172: UserWarning: l1_ratio parameter is only used when penalty is 'elasticnet'. Got (penalty=l1)\n",
            "  warnings.warn(\n",
            "/usr/local/lib/python3.10/dist-packages/sklearn/linear_model/_logistic.py:1172: UserWarning: l1_ratio parameter is only used when penalty is 'elasticnet'. Got (penalty=l1)\n",
            "  warnings.warn(\n",
            "/usr/local/lib/python3.10/dist-packages/sklearn/linear_model/_logistic.py:1172: UserWarning: l1_ratio parameter is only used when penalty is 'elasticnet'. Got (penalty=l1)\n",
            "  warnings.warn(\n",
            "/usr/local/lib/python3.10/dist-packages/sklearn/linear_model/_logistic.py:1172: UserWarning: l1_ratio parameter is only used when penalty is 'elasticnet'. Got (penalty=l1)\n",
            "  warnings.warn(\n",
            "/usr/local/lib/python3.10/dist-packages/sklearn/linear_model/_logistic.py:1172: UserWarning: l1_ratio parameter is only used when penalty is 'elasticnet'. Got (penalty=l1)\n",
            "  warnings.warn(\n",
            "/usr/local/lib/python3.10/dist-packages/sklearn/linear_model/_logistic.py:1172: UserWarning: l1_ratio parameter is only used when penalty is 'elasticnet'. Got (penalty=l1)\n",
            "  warnings.warn(\n"
          ]
        },
        {
          "output_type": "stream",
          "name": "stdout",
          "text": [
            "[CV] END .........C=1, l1_ratio=0.5, penalty=l1, solver=saga; total time=  13.2s\n"
          ]
        },
        {
          "output_type": "stream",
          "name": "stderr",
          "text": [
            "/usr/local/lib/python3.10/dist-packages/sklearn/linear_model/_logistic.py:1172: UserWarning: l1_ratio parameter is only used when penalty is 'elasticnet'. Got (penalty=l1)\n",
            "  warnings.warn(\n"
          ]
        },
        {
          "output_type": "stream",
          "name": "stdout",
          "text": [
            "[CV] END .........C=1, l1_ratio=0.5, penalty=l1, solver=saga; total time=  14.5s\n"
          ]
        },
        {
          "output_type": "stream",
          "name": "stderr",
          "text": [
            "/usr/local/lib/python3.10/dist-packages/sklearn/linear_model/_logistic.py:1172: UserWarning: l1_ratio parameter is only used when penalty is 'elasticnet'. Got (penalty=l1)\n",
            "  warnings.warn(\n"
          ]
        },
        {
          "output_type": "stream",
          "name": "stdout",
          "text": [
            "[CV] END .........C=1, l1_ratio=0.5, penalty=l1, solver=saga; total time=  11.6s\n"
          ]
        },
        {
          "output_type": "stream",
          "name": "stderr",
          "text": [
            "/usr/local/lib/python3.10/dist-packages/sklearn/linear_model/_logistic.py:1172: UserWarning: l1_ratio parameter is only used when penalty is 'elasticnet'. Got (penalty=l1)\n",
            "  warnings.warn(\n"
          ]
        },
        {
          "output_type": "stream",
          "name": "stdout",
          "text": [
            "[CV] END .........C=1, l1_ratio=0.5, penalty=l1, solver=saga; total time=  20.8s\n"
          ]
        },
        {
          "output_type": "stream",
          "name": "stderr",
          "text": [
            "/usr/local/lib/python3.10/dist-packages/sklearn/linear_model/_logistic.py:1172: UserWarning: l1_ratio parameter is only used when penalty is 'elasticnet'. Got (penalty=l1)\n",
            "  warnings.warn(\n"
          ]
        },
        {
          "output_type": "stream",
          "name": "stdout",
          "text": [
            "[CV] END .........C=1, l1_ratio=0.5, penalty=l1, solver=saga; total time=  13.9s\n",
            "[CV] END ........C=1, l1_ratio=0.5, penalty=l2, solver=lbfgs; total time=   0.1s\n"
          ]
        },
        {
          "output_type": "stream",
          "name": "stderr",
          "text": [
            "/usr/local/lib/python3.10/dist-packages/sklearn/linear_model/_logistic.py:1172: UserWarning: l1_ratio parameter is only used when penalty is 'elasticnet'. Got (penalty=l2)\n",
            "  warnings.warn(\n",
            "/usr/local/lib/python3.10/dist-packages/sklearn/linear_model/_logistic.py:1172: UserWarning: l1_ratio parameter is only used when penalty is 'elasticnet'. Got (penalty=l2)\n",
            "  warnings.warn(\n"
          ]
        },
        {
          "output_type": "stream",
          "name": "stdout",
          "text": [
            "[CV] END ........C=1, l1_ratio=0.5, penalty=l2, solver=lbfgs; total time=   0.1s\n",
            "[CV] END ........C=1, l1_ratio=0.5, penalty=l2, solver=lbfgs; total time=   0.1s\n"
          ]
        },
        {
          "output_type": "stream",
          "name": "stderr",
          "text": [
            "/usr/local/lib/python3.10/dist-packages/sklearn/linear_model/_logistic.py:1172: UserWarning: l1_ratio parameter is only used when penalty is 'elasticnet'. Got (penalty=l2)\n",
            "  warnings.warn(\n",
            "/usr/local/lib/python3.10/dist-packages/sklearn/linear_model/_logistic.py:1172: UserWarning: l1_ratio parameter is only used when penalty is 'elasticnet'. Got (penalty=l2)\n",
            "  warnings.warn(\n"
          ]
        },
        {
          "output_type": "stream",
          "name": "stdout",
          "text": [
            "[CV] END ........C=1, l1_ratio=0.5, penalty=l2, solver=lbfgs; total time=   0.1s\n",
            "[CV] END ........C=1, l1_ratio=0.5, penalty=l2, solver=lbfgs; total time=   0.2s\n"
          ]
        },
        {
          "output_type": "stream",
          "name": "stderr",
          "text": [
            "/usr/local/lib/python3.10/dist-packages/sklearn/linear_model/_logistic.py:1172: UserWarning: l1_ratio parameter is only used when penalty is 'elasticnet'. Got (penalty=l2)\n",
            "  warnings.warn(\n",
            "/usr/local/lib/python3.10/dist-packages/sklearn/linear_model/_logistic.py:1172: UserWarning: l1_ratio parameter is only used when penalty is 'elasticnet'. Got (penalty=l2)\n",
            "  warnings.warn(\n"
          ]
        },
        {
          "output_type": "stream",
          "name": "stdout",
          "text": [
            "[CV] END ....C=1, l1_ratio=0.5, penalty=l2, solver=liblinear; total time=   0.1s\n",
            "[CV] END ....C=1, l1_ratio=0.5, penalty=l2, solver=liblinear; total time=   0.1s\n"
          ]
        },
        {
          "output_type": "stream",
          "name": "stderr",
          "text": [
            "/usr/local/lib/python3.10/dist-packages/sklearn/linear_model/_logistic.py:1172: UserWarning: l1_ratio parameter is only used when penalty is 'elasticnet'. Got (penalty=l2)\n",
            "  warnings.warn(\n",
            "/usr/local/lib/python3.10/dist-packages/sklearn/linear_model/_logistic.py:1172: UserWarning: l1_ratio parameter is only used when penalty is 'elasticnet'. Got (penalty=l2)\n",
            "  warnings.warn(\n"
          ]
        },
        {
          "output_type": "stream",
          "name": "stdout",
          "text": [
            "[CV] END ....C=1, l1_ratio=0.5, penalty=l2, solver=liblinear; total time=   0.1s\n",
            "[CV] END ....C=1, l1_ratio=0.5, penalty=l2, solver=liblinear; total time=   0.1s\n"
          ]
        },
        {
          "output_type": "stream",
          "name": "stderr",
          "text": [
            "/usr/local/lib/python3.10/dist-packages/sklearn/linear_model/_logistic.py:1172: UserWarning: l1_ratio parameter is only used when penalty is 'elasticnet'. Got (penalty=l2)\n",
            "  warnings.warn(\n",
            "/usr/local/lib/python3.10/dist-packages/sklearn/linear_model/_logistic.py:1172: UserWarning: l1_ratio parameter is only used when penalty is 'elasticnet'. Got (penalty=l2)\n",
            "  warnings.warn(\n"
          ]
        },
        {
          "output_type": "stream",
          "name": "stdout",
          "text": [
            "[CV] END ....C=1, l1_ratio=0.5, penalty=l2, solver=liblinear; total time=   0.1s\n"
          ]
        },
        {
          "output_type": "stream",
          "name": "stderr",
          "text": [
            "/usr/local/lib/python3.10/dist-packages/sklearn/linear_model/_logistic.py:1172: UserWarning: l1_ratio parameter is only used when penalty is 'elasticnet'. Got (penalty=l2)\n",
            "  warnings.warn(\n"
          ]
        },
        {
          "output_type": "stream",
          "name": "stdout",
          "text": [
            "[CV] END .........C=1, l1_ratio=0.5, penalty=l2, solver=saga; total time=   4.9s\n"
          ]
        },
        {
          "output_type": "stream",
          "name": "stderr",
          "text": [
            "/usr/local/lib/python3.10/dist-packages/sklearn/linear_model/_logistic.py:1172: UserWarning: l1_ratio parameter is only used when penalty is 'elasticnet'. Got (penalty=l2)\n",
            "  warnings.warn(\n"
          ]
        },
        {
          "output_type": "stream",
          "name": "stdout",
          "text": [
            "[CV] END .........C=1, l1_ratio=0.5, penalty=l2, solver=saga; total time=   7.1s\n"
          ]
        },
        {
          "output_type": "stream",
          "name": "stderr",
          "text": [
            "/usr/local/lib/python3.10/dist-packages/sklearn/linear_model/_logistic.py:1172: UserWarning: l1_ratio parameter is only used when penalty is 'elasticnet'. Got (penalty=l2)\n",
            "  warnings.warn(\n"
          ]
        },
        {
          "output_type": "stream",
          "name": "stdout",
          "text": [
            "[CV] END .........C=1, l1_ratio=0.5, penalty=l2, solver=saga; total time=  10.1s\n"
          ]
        },
        {
          "output_type": "stream",
          "name": "stderr",
          "text": [
            "/usr/local/lib/python3.10/dist-packages/sklearn/linear_model/_logistic.py:1172: UserWarning: l1_ratio parameter is only used when penalty is 'elasticnet'. Got (penalty=l2)\n",
            "  warnings.warn(\n"
          ]
        },
        {
          "output_type": "stream",
          "name": "stdout",
          "text": [
            "[CV] END .........C=1, l1_ratio=0.5, penalty=l2, solver=saga; total time=   6.4s\n"
          ]
        },
        {
          "output_type": "stream",
          "name": "stderr",
          "text": [
            "/usr/local/lib/python3.10/dist-packages/sklearn/linear_model/_logistic.py:1172: UserWarning: l1_ratio parameter is only used when penalty is 'elasticnet'. Got (penalty=l2)\n",
            "  warnings.warn(\n"
          ]
        },
        {
          "output_type": "stream",
          "name": "stdout",
          "text": [
            "[CV] END .........C=1, l1_ratio=0.5, penalty=l2, solver=saga; total time=   9.6s\n",
            "[CV] END C=1, l1_ratio=0.5, penalty=elasticnet, solver=lbfgs; total time=   0.0s\n",
            "[CV] END C=1, l1_ratio=0.5, penalty=elasticnet, solver=lbfgs; total time=   0.0s\n",
            "[CV] END C=1, l1_ratio=0.5, penalty=elasticnet, solver=lbfgs; total time=   0.0s\n",
            "[CV] END C=1, l1_ratio=0.5, penalty=elasticnet, solver=lbfgs; total time=   0.0s\n",
            "[CV] END C=1, l1_ratio=0.5, penalty=elasticnet, solver=lbfgs; total time=   0.0s\n",
            "[CV] END C=1, l1_ratio=0.5, penalty=elasticnet, solver=liblinear; total time=   0.0s\n",
            "[CV] END C=1, l1_ratio=0.5, penalty=elasticnet, solver=liblinear; total time=   0.0s\n",
            "[CV] END C=1, l1_ratio=0.5, penalty=elasticnet, solver=liblinear; total time=   0.0s\n",
            "[CV] END C=1, l1_ratio=0.5, penalty=elasticnet, solver=liblinear; total time=   0.0s\n",
            "[CV] END C=1, l1_ratio=0.5, penalty=elasticnet, solver=liblinear; total time=   0.0s\n",
            "[CV] END .C=1, l1_ratio=0.5, penalty=elasticnet, solver=saga; total time=   9.5s\n",
            "[CV] END .C=1, l1_ratio=0.5, penalty=elasticnet, solver=saga; total time=   9.6s\n",
            "[CV] END .C=1, l1_ratio=0.5, penalty=elasticnet, solver=saga; total time=  11.8s\n",
            "[CV] END .C=1, l1_ratio=0.5, penalty=elasticnet, solver=saga; total time=   9.8s\n",
            "[CV] END .C=1, l1_ratio=0.5, penalty=elasticnet, solver=saga; total time=  11.1s\n",
            "[CV] END ......C=1, l1_ratio=0.5, penalty=none, solver=lbfgs; total time=   0.0s\n",
            "[CV] END ......C=1, l1_ratio=0.5, penalty=none, solver=lbfgs; total time=   0.0s\n",
            "[CV] END ......C=1, l1_ratio=0.5, penalty=none, solver=lbfgs; total time=   0.0s\n",
            "[CV] END ......C=1, l1_ratio=0.5, penalty=none, solver=lbfgs; total time=   0.0s\n",
            "[CV] END ......C=1, l1_ratio=0.5, penalty=none, solver=lbfgs; total time=   0.0s\n",
            "[CV] END ..C=1, l1_ratio=0.5, penalty=none, solver=liblinear; total time=   0.0s\n",
            "[CV] END ..C=1, l1_ratio=0.5, penalty=none, solver=liblinear; total time=   0.0s\n",
            "[CV] END ..C=1, l1_ratio=0.5, penalty=none, solver=liblinear; total time=   0.0s\n",
            "[CV] END ..C=1, l1_ratio=0.5, penalty=none, solver=liblinear; total time=   0.0s\n",
            "[CV] END ..C=1, l1_ratio=0.5, penalty=none, solver=liblinear; total time=   0.0s\n"
          ]
        },
        {
          "output_type": "stream",
          "name": "stderr",
          "text": [
            "/usr/local/lib/python3.10/dist-packages/sklearn/linear_model/_logistic.py:1172: UserWarning: l1_ratio parameter is only used when penalty is 'elasticnet'. Got (penalty=none)\n",
            "  warnings.warn(\n",
            "/usr/local/lib/python3.10/dist-packages/sklearn/linear_model/_logistic.py:1183: FutureWarning: `penalty='none'`has been deprecated in 1.2 and will be removed in 1.4. To keep the past behaviour, set `penalty=None`.\n",
            "  warnings.warn(\n",
            "/usr/local/lib/python3.10/dist-packages/sklearn/linear_model/_logistic.py:1172: UserWarning: l1_ratio parameter is only used when penalty is 'elasticnet'. Got (penalty=none)\n",
            "  warnings.warn(\n",
            "/usr/local/lib/python3.10/dist-packages/sklearn/linear_model/_logistic.py:1183: FutureWarning: `penalty='none'`has been deprecated in 1.2 and will be removed in 1.4. To keep the past behaviour, set `penalty=None`.\n",
            "  warnings.warn(\n",
            "/usr/local/lib/python3.10/dist-packages/sklearn/linear_model/_logistic.py:1172: UserWarning: l1_ratio parameter is only used when penalty is 'elasticnet'. Got (penalty=none)\n",
            "  warnings.warn(\n",
            "/usr/local/lib/python3.10/dist-packages/sklearn/linear_model/_logistic.py:1183: FutureWarning: `penalty='none'`has been deprecated in 1.2 and will be removed in 1.4. To keep the past behaviour, set `penalty=None`.\n",
            "  warnings.warn(\n",
            "/usr/local/lib/python3.10/dist-packages/sklearn/linear_model/_logistic.py:1172: UserWarning: l1_ratio parameter is only used when penalty is 'elasticnet'. Got (penalty=none)\n",
            "  warnings.warn(\n",
            "/usr/local/lib/python3.10/dist-packages/sklearn/linear_model/_logistic.py:1183: FutureWarning: `penalty='none'`has been deprecated in 1.2 and will be removed in 1.4. To keep the past behaviour, set `penalty=None`.\n",
            "  warnings.warn(\n",
            "/usr/local/lib/python3.10/dist-packages/sklearn/linear_model/_logistic.py:1172: UserWarning: l1_ratio parameter is only used when penalty is 'elasticnet'. Got (penalty=none)\n",
            "  warnings.warn(\n",
            "/usr/local/lib/python3.10/dist-packages/sklearn/linear_model/_logistic.py:1183: FutureWarning: `penalty='none'`has been deprecated in 1.2 and will be removed in 1.4. To keep the past behaviour, set `penalty=None`.\n",
            "  warnings.warn(\n",
            "/usr/local/lib/python3.10/dist-packages/sklearn/linear_model/_logistic.py:1172: UserWarning: l1_ratio parameter is only used when penalty is 'elasticnet'. Got (penalty=none)\n",
            "  warnings.warn(\n",
            "/usr/local/lib/python3.10/dist-packages/sklearn/linear_model/_logistic.py:1183: FutureWarning: `penalty='none'`has been deprecated in 1.2 and will be removed in 1.4. To keep the past behaviour, set `penalty=None`.\n",
            "  warnings.warn(\n"
          ]
        },
        {
          "output_type": "stream",
          "name": "stdout",
          "text": [
            "[CV] END .......C=1, l1_ratio=0.5, penalty=none, solver=saga; total time=  11.0s\n"
          ]
        },
        {
          "output_type": "stream",
          "name": "stderr",
          "text": [
            "/usr/local/lib/python3.10/dist-packages/sklearn/linear_model/_logistic.py:1172: UserWarning: l1_ratio parameter is only used when penalty is 'elasticnet'. Got (penalty=none)\n",
            "  warnings.warn(\n",
            "/usr/local/lib/python3.10/dist-packages/sklearn/linear_model/_logistic.py:1183: FutureWarning: `penalty='none'`has been deprecated in 1.2 and will be removed in 1.4. To keep the past behaviour, set `penalty=None`.\n",
            "  warnings.warn(\n"
          ]
        },
        {
          "output_type": "stream",
          "name": "stdout",
          "text": [
            "[CV] END .......C=1, l1_ratio=0.5, penalty=none, solver=saga; total time=  22.0s\n"
          ]
        },
        {
          "output_type": "stream",
          "name": "stderr",
          "text": [
            "/usr/local/lib/python3.10/dist-packages/sklearn/linear_model/_logistic.py:1172: UserWarning: l1_ratio parameter is only used when penalty is 'elasticnet'. Got (penalty=none)\n",
            "  warnings.warn(\n",
            "/usr/local/lib/python3.10/dist-packages/sklearn/linear_model/_logistic.py:1183: FutureWarning: `penalty='none'`has been deprecated in 1.2 and will be removed in 1.4. To keep the past behaviour, set `penalty=None`.\n",
            "  warnings.warn(\n"
          ]
        },
        {
          "output_type": "stream",
          "name": "stdout",
          "text": [
            "[CV] END .......C=1, l1_ratio=0.5, penalty=none, solver=saga; total time=  24.9s\n"
          ]
        },
        {
          "output_type": "stream",
          "name": "stderr",
          "text": [
            "/usr/local/lib/python3.10/dist-packages/sklearn/linear_model/_logistic.py:1172: UserWarning: l1_ratio parameter is only used when penalty is 'elasticnet'. Got (penalty=none)\n",
            "  warnings.warn(\n",
            "/usr/local/lib/python3.10/dist-packages/sklearn/linear_model/_logistic.py:1183: FutureWarning: `penalty='none'`has been deprecated in 1.2 and will be removed in 1.4. To keep the past behaviour, set `penalty=None`.\n",
            "  warnings.warn(\n"
          ]
        },
        {
          "output_type": "stream",
          "name": "stdout",
          "text": [
            "[CV] END .......C=1, l1_ratio=0.5, penalty=none, solver=saga; total time=  13.8s\n"
          ]
        },
        {
          "output_type": "stream",
          "name": "stderr",
          "text": [
            "/usr/local/lib/python3.10/dist-packages/sklearn/linear_model/_logistic.py:1172: UserWarning: l1_ratio parameter is only used when penalty is 'elasticnet'. Got (penalty=none)\n",
            "  warnings.warn(\n",
            "/usr/local/lib/python3.10/dist-packages/sklearn/linear_model/_logistic.py:1183: FutureWarning: `penalty='none'`has been deprecated in 1.2 and will be removed in 1.4. To keep the past behaviour, set `penalty=None`.\n",
            "  warnings.warn(\n"
          ]
        },
        {
          "output_type": "stream",
          "name": "stdout",
          "text": [
            "[CV] END .......C=1, l1_ratio=0.5, penalty=none, solver=saga; total time=  19.2s\n",
            "[CV] END ..........C=1, l1_ratio=1, penalty=l1, solver=lbfgs; total time=   0.0s\n",
            "[CV] END ..........C=1, l1_ratio=1, penalty=l1, solver=lbfgs; total time=   0.0s\n",
            "[CV] END ..........C=1, l1_ratio=1, penalty=l1, solver=lbfgs; total time=   0.0s\n",
            "[CV] END ..........C=1, l1_ratio=1, penalty=l1, solver=lbfgs; total time=   0.0s\n",
            "[CV] END ..........C=1, l1_ratio=1, penalty=l1, solver=lbfgs; total time=   0.0s\n",
            "[CV] END ......C=1, l1_ratio=1, penalty=l1, solver=liblinear; total time=   0.0s\n",
            "[CV] END ......C=1, l1_ratio=1, penalty=l1, solver=liblinear; total time=   0.0s\n",
            "[CV] END ......C=1, l1_ratio=1, penalty=l1, solver=liblinear; total time=   0.0s\n",
            "[CV] END ......C=1, l1_ratio=1, penalty=l1, solver=liblinear; total time=   0.0s\n",
            "[CV] END ......C=1, l1_ratio=1, penalty=l1, solver=liblinear; total time=   0.0s\n"
          ]
        },
        {
          "output_type": "stream",
          "name": "stderr",
          "text": [
            "/usr/local/lib/python3.10/dist-packages/sklearn/linear_model/_logistic.py:1172: UserWarning: l1_ratio parameter is only used when penalty is 'elasticnet'. Got (penalty=l1)\n",
            "  warnings.warn(\n",
            "/usr/local/lib/python3.10/dist-packages/sklearn/linear_model/_logistic.py:1172: UserWarning: l1_ratio parameter is only used when penalty is 'elasticnet'. Got (penalty=l1)\n",
            "  warnings.warn(\n",
            "/usr/local/lib/python3.10/dist-packages/sklearn/linear_model/_logistic.py:1172: UserWarning: l1_ratio parameter is only used when penalty is 'elasticnet'. Got (penalty=l1)\n",
            "  warnings.warn(\n",
            "/usr/local/lib/python3.10/dist-packages/sklearn/linear_model/_logistic.py:1172: UserWarning: l1_ratio parameter is only used when penalty is 'elasticnet'. Got (penalty=l1)\n",
            "  warnings.warn(\n",
            "/usr/local/lib/python3.10/dist-packages/sklearn/linear_model/_logistic.py:1172: UserWarning: l1_ratio parameter is only used when penalty is 'elasticnet'. Got (penalty=l1)\n",
            "  warnings.warn(\n",
            "/usr/local/lib/python3.10/dist-packages/sklearn/linear_model/_logistic.py:1172: UserWarning: l1_ratio parameter is only used when penalty is 'elasticnet'. Got (penalty=l1)\n",
            "  warnings.warn(\n"
          ]
        },
        {
          "output_type": "stream",
          "name": "stdout",
          "text": [
            "[CV] END ...........C=1, l1_ratio=1, penalty=l1, solver=saga; total time=  13.4s\n"
          ]
        },
        {
          "output_type": "stream",
          "name": "stderr",
          "text": [
            "/usr/local/lib/python3.10/dist-packages/sklearn/linear_model/_logistic.py:1172: UserWarning: l1_ratio parameter is only used when penalty is 'elasticnet'. Got (penalty=l1)\n",
            "  warnings.warn(\n"
          ]
        },
        {
          "output_type": "stream",
          "name": "stdout",
          "text": [
            "[CV] END ...........C=1, l1_ratio=1, penalty=l1, solver=saga; total time=  14.7s\n"
          ]
        },
        {
          "output_type": "stream",
          "name": "stderr",
          "text": [
            "/usr/local/lib/python3.10/dist-packages/sklearn/linear_model/_logistic.py:1172: UserWarning: l1_ratio parameter is only used when penalty is 'elasticnet'. Got (penalty=l1)\n",
            "  warnings.warn(\n"
          ]
        },
        {
          "output_type": "stream",
          "name": "stdout",
          "text": [
            "[CV] END ...........C=1, l1_ratio=1, penalty=l1, solver=saga; total time=  11.6s\n"
          ]
        },
        {
          "output_type": "stream",
          "name": "stderr",
          "text": [
            "/usr/local/lib/python3.10/dist-packages/sklearn/linear_model/_logistic.py:1172: UserWarning: l1_ratio parameter is only used when penalty is 'elasticnet'. Got (penalty=l1)\n",
            "  warnings.warn(\n"
          ]
        },
        {
          "output_type": "stream",
          "name": "stdout",
          "text": [
            "[CV] END ...........C=1, l1_ratio=1, penalty=l1, solver=saga; total time=  20.7s\n"
          ]
        },
        {
          "output_type": "stream",
          "name": "stderr",
          "text": [
            "/usr/local/lib/python3.10/dist-packages/sklearn/linear_model/_logistic.py:1172: UserWarning: l1_ratio parameter is only used when penalty is 'elasticnet'. Got (penalty=l1)\n",
            "  warnings.warn(\n"
          ]
        },
        {
          "output_type": "stream",
          "name": "stdout",
          "text": [
            "[CV] END ...........C=1, l1_ratio=1, penalty=l1, solver=saga; total time=  14.2s\n",
            "[CV] END ..........C=1, l1_ratio=1, penalty=l2, solver=lbfgs; total time=   0.1s\n"
          ]
        },
        {
          "output_type": "stream",
          "name": "stderr",
          "text": [
            "/usr/local/lib/python3.10/dist-packages/sklearn/linear_model/_logistic.py:1172: UserWarning: l1_ratio parameter is only used when penalty is 'elasticnet'. Got (penalty=l2)\n",
            "  warnings.warn(\n",
            "/usr/local/lib/python3.10/dist-packages/sklearn/linear_model/_logistic.py:1172: UserWarning: l1_ratio parameter is only used when penalty is 'elasticnet'. Got (penalty=l2)\n",
            "  warnings.warn(\n"
          ]
        },
        {
          "output_type": "stream",
          "name": "stdout",
          "text": [
            "[CV] END ..........C=1, l1_ratio=1, penalty=l2, solver=lbfgs; total time=   0.2s\n",
            "[CV] END ..........C=1, l1_ratio=1, penalty=l2, solver=lbfgs; total time=   0.1s\n"
          ]
        },
        {
          "output_type": "stream",
          "name": "stderr",
          "text": [
            "/usr/local/lib/python3.10/dist-packages/sklearn/linear_model/_logistic.py:1172: UserWarning: l1_ratio parameter is only used when penalty is 'elasticnet'. Got (penalty=l2)\n",
            "  warnings.warn(\n",
            "/usr/local/lib/python3.10/dist-packages/sklearn/linear_model/_logistic.py:1172: UserWarning: l1_ratio parameter is only used when penalty is 'elasticnet'. Got (penalty=l2)\n",
            "  warnings.warn(\n"
          ]
        },
        {
          "output_type": "stream",
          "name": "stdout",
          "text": [
            "[CV] END ..........C=1, l1_ratio=1, penalty=l2, solver=lbfgs; total time=   0.1s\n",
            "[CV] END ..........C=1, l1_ratio=1, penalty=l2, solver=lbfgs; total time=   0.1s\n"
          ]
        },
        {
          "output_type": "stream",
          "name": "stderr",
          "text": [
            "/usr/local/lib/python3.10/dist-packages/sklearn/linear_model/_logistic.py:1172: UserWarning: l1_ratio parameter is only used when penalty is 'elasticnet'. Got (penalty=l2)\n",
            "  warnings.warn(\n",
            "/usr/local/lib/python3.10/dist-packages/sklearn/linear_model/_logistic.py:1172: UserWarning: l1_ratio parameter is only used when penalty is 'elasticnet'. Got (penalty=l2)\n",
            "  warnings.warn(\n"
          ]
        },
        {
          "output_type": "stream",
          "name": "stdout",
          "text": [
            "[CV] END ......C=1, l1_ratio=1, penalty=l2, solver=liblinear; total time=   0.1s\n",
            "[CV] END ......C=1, l1_ratio=1, penalty=l2, solver=liblinear; total time=   0.1s\n"
          ]
        },
        {
          "output_type": "stream",
          "name": "stderr",
          "text": [
            "/usr/local/lib/python3.10/dist-packages/sklearn/linear_model/_logistic.py:1172: UserWarning: l1_ratio parameter is only used when penalty is 'elasticnet'. Got (penalty=l2)\n",
            "  warnings.warn(\n",
            "/usr/local/lib/python3.10/dist-packages/sklearn/linear_model/_logistic.py:1172: UserWarning: l1_ratio parameter is only used when penalty is 'elasticnet'. Got (penalty=l2)\n",
            "  warnings.warn(\n"
          ]
        },
        {
          "output_type": "stream",
          "name": "stdout",
          "text": [
            "[CV] END ......C=1, l1_ratio=1, penalty=l2, solver=liblinear; total time=   0.1s\n",
            "[CV] END ......C=1, l1_ratio=1, penalty=l2, solver=liblinear; total time=   0.1s\n",
            "[CV] END ......C=1, l1_ratio=1, penalty=l2, solver=liblinear; total time=   0.1s\n"
          ]
        },
        {
          "output_type": "stream",
          "name": "stderr",
          "text": [
            "/usr/local/lib/python3.10/dist-packages/sklearn/linear_model/_logistic.py:1172: UserWarning: l1_ratio parameter is only used when penalty is 'elasticnet'. Got (penalty=l2)\n",
            "  warnings.warn(\n",
            "/usr/local/lib/python3.10/dist-packages/sklearn/linear_model/_logistic.py:1172: UserWarning: l1_ratio parameter is only used when penalty is 'elasticnet'. Got (penalty=l2)\n",
            "  warnings.warn(\n",
            "/usr/local/lib/python3.10/dist-packages/sklearn/linear_model/_logistic.py:1172: UserWarning: l1_ratio parameter is only used when penalty is 'elasticnet'. Got (penalty=l2)\n",
            "  warnings.warn(\n"
          ]
        },
        {
          "output_type": "stream",
          "name": "stdout",
          "text": [
            "[CV] END ...........C=1, l1_ratio=1, penalty=l2, solver=saga; total time=   4.3s\n"
          ]
        },
        {
          "output_type": "stream",
          "name": "stderr",
          "text": [
            "/usr/local/lib/python3.10/dist-packages/sklearn/linear_model/_logistic.py:1172: UserWarning: l1_ratio parameter is only used when penalty is 'elasticnet'. Got (penalty=l2)\n",
            "  warnings.warn(\n"
          ]
        },
        {
          "output_type": "stream",
          "name": "stdout",
          "text": [
            "[CV] END ...........C=1, l1_ratio=1, penalty=l2, solver=saga; total time=   7.3s\n"
          ]
        },
        {
          "output_type": "stream",
          "name": "stderr",
          "text": [
            "/usr/local/lib/python3.10/dist-packages/sklearn/linear_model/_logistic.py:1172: UserWarning: l1_ratio parameter is only used when penalty is 'elasticnet'. Got (penalty=l2)\n",
            "  warnings.warn(\n"
          ]
        },
        {
          "output_type": "stream",
          "name": "stdout",
          "text": [
            "[CV] END ...........C=1, l1_ratio=1, penalty=l2, solver=saga; total time=  10.0s\n"
          ]
        },
        {
          "output_type": "stream",
          "name": "stderr",
          "text": [
            "/usr/local/lib/python3.10/dist-packages/sklearn/linear_model/_logistic.py:1172: UserWarning: l1_ratio parameter is only used when penalty is 'elasticnet'. Got (penalty=l2)\n",
            "  warnings.warn(\n"
          ]
        },
        {
          "output_type": "stream",
          "name": "stdout",
          "text": [
            "[CV] END ...........C=1, l1_ratio=1, penalty=l2, solver=saga; total time=   6.9s\n"
          ]
        },
        {
          "output_type": "stream",
          "name": "stderr",
          "text": [
            "/usr/local/lib/python3.10/dist-packages/sklearn/linear_model/_logistic.py:1172: UserWarning: l1_ratio parameter is only used when penalty is 'elasticnet'. Got (penalty=l2)\n",
            "  warnings.warn(\n"
          ]
        },
        {
          "output_type": "stream",
          "name": "stdout",
          "text": [
            "[CV] END ...........C=1, l1_ratio=1, penalty=l2, solver=saga; total time=   9.1s\n",
            "[CV] END ..C=1, l1_ratio=1, penalty=elasticnet, solver=lbfgs; total time=   0.0s\n",
            "[CV] END ..C=1, l1_ratio=1, penalty=elasticnet, solver=lbfgs; total time=   0.0s\n",
            "[CV] END ..C=1, l1_ratio=1, penalty=elasticnet, solver=lbfgs; total time=   0.0s\n",
            "[CV] END ..C=1, l1_ratio=1, penalty=elasticnet, solver=lbfgs; total time=   0.0s\n",
            "[CV] END ..C=1, l1_ratio=1, penalty=elasticnet, solver=lbfgs; total time=   0.0s\n",
            "[CV] END C=1, l1_ratio=1, penalty=elasticnet, solver=liblinear; total time=   0.0s\n",
            "[CV] END C=1, l1_ratio=1, penalty=elasticnet, solver=liblinear; total time=   0.0s\n",
            "[CV] END C=1, l1_ratio=1, penalty=elasticnet, solver=liblinear; total time=   0.0s\n",
            "[CV] END C=1, l1_ratio=1, penalty=elasticnet, solver=liblinear; total time=   0.0s\n",
            "[CV] END C=1, l1_ratio=1, penalty=elasticnet, solver=liblinear; total time=   0.0s\n",
            "[CV] END ...C=1, l1_ratio=1, penalty=elasticnet, solver=saga; total time=  13.4s\n",
            "[CV] END ...C=1, l1_ratio=1, penalty=elasticnet, solver=saga; total time=  15.2s\n",
            "[CV] END ...C=1, l1_ratio=1, penalty=elasticnet, solver=saga; total time=  12.8s\n",
            "[CV] END ...C=1, l1_ratio=1, penalty=elasticnet, solver=saga; total time=  19.3s\n",
            "[CV] END ...C=1, l1_ratio=1, penalty=elasticnet, solver=saga; total time=  14.7s\n",
            "[CV] END ........C=1, l1_ratio=1, penalty=none, solver=lbfgs; total time=   0.0s\n",
            "[CV] END ........C=1, l1_ratio=1, penalty=none, solver=lbfgs; total time=   0.0s\n",
            "[CV] END ........C=1, l1_ratio=1, penalty=none, solver=lbfgs; total time=   0.0s\n",
            "[CV] END ........C=1, l1_ratio=1, penalty=none, solver=lbfgs; total time=   0.0s\n",
            "[CV] END ........C=1, l1_ratio=1, penalty=none, solver=lbfgs; total time=   0.0s\n",
            "[CV] END ....C=1, l1_ratio=1, penalty=none, solver=liblinear; total time=   0.0s\n",
            "[CV] END ....C=1, l1_ratio=1, penalty=none, solver=liblinear; total time=   0.0s\n",
            "[CV] END ....C=1, l1_ratio=1, penalty=none, solver=liblinear; total time=   0.0s\n",
            "[CV] END ....C=1, l1_ratio=1, penalty=none, solver=liblinear; total time=   0.0s\n",
            "[CV] END ....C=1, l1_ratio=1, penalty=none, solver=liblinear; total time=   0.0s\n"
          ]
        },
        {
          "output_type": "stream",
          "name": "stderr",
          "text": [
            "/usr/local/lib/python3.10/dist-packages/sklearn/linear_model/_logistic.py:1172: UserWarning: l1_ratio parameter is only used when penalty is 'elasticnet'. Got (penalty=none)\n",
            "  warnings.warn(\n",
            "/usr/local/lib/python3.10/dist-packages/sklearn/linear_model/_logistic.py:1183: FutureWarning: `penalty='none'`has been deprecated in 1.2 and will be removed in 1.4. To keep the past behaviour, set `penalty=None`.\n",
            "  warnings.warn(\n",
            "/usr/local/lib/python3.10/dist-packages/sklearn/linear_model/_logistic.py:1172: UserWarning: l1_ratio parameter is only used when penalty is 'elasticnet'. Got (penalty=none)\n",
            "  warnings.warn(\n",
            "/usr/local/lib/python3.10/dist-packages/sklearn/linear_model/_logistic.py:1183: FutureWarning: `penalty='none'`has been deprecated in 1.2 and will be removed in 1.4. To keep the past behaviour, set `penalty=None`.\n",
            "  warnings.warn(\n",
            "/usr/local/lib/python3.10/dist-packages/sklearn/linear_model/_logistic.py:1172: UserWarning: l1_ratio parameter is only used when penalty is 'elasticnet'. Got (penalty=none)\n",
            "  warnings.warn(\n",
            "/usr/local/lib/python3.10/dist-packages/sklearn/linear_model/_logistic.py:1183: FutureWarning: `penalty='none'`has been deprecated in 1.2 and will be removed in 1.4. To keep the past behaviour, set `penalty=None`.\n",
            "  warnings.warn(\n",
            "/usr/local/lib/python3.10/dist-packages/sklearn/linear_model/_logistic.py:1172: UserWarning: l1_ratio parameter is only used when penalty is 'elasticnet'. Got (penalty=none)\n",
            "  warnings.warn(\n",
            "/usr/local/lib/python3.10/dist-packages/sklearn/linear_model/_logistic.py:1183: FutureWarning: `penalty='none'`has been deprecated in 1.2 and will be removed in 1.4. To keep the past behaviour, set `penalty=None`.\n",
            "  warnings.warn(\n",
            "/usr/local/lib/python3.10/dist-packages/sklearn/linear_model/_logistic.py:1172: UserWarning: l1_ratio parameter is only used when penalty is 'elasticnet'. Got (penalty=none)\n",
            "  warnings.warn(\n",
            "/usr/local/lib/python3.10/dist-packages/sklearn/linear_model/_logistic.py:1183: FutureWarning: `penalty='none'`has been deprecated in 1.2 and will be removed in 1.4. To keep the past behaviour, set `penalty=None`.\n",
            "  warnings.warn(\n",
            "/usr/local/lib/python3.10/dist-packages/sklearn/linear_model/_logistic.py:1172: UserWarning: l1_ratio parameter is only used when penalty is 'elasticnet'. Got (penalty=none)\n",
            "  warnings.warn(\n",
            "/usr/local/lib/python3.10/dist-packages/sklearn/linear_model/_logistic.py:1183: FutureWarning: `penalty='none'`has been deprecated in 1.2 and will be removed in 1.4. To keep the past behaviour, set `penalty=None`.\n",
            "  warnings.warn(\n"
          ]
        },
        {
          "output_type": "stream",
          "name": "stdout",
          "text": [
            "[CV] END .........C=1, l1_ratio=1, penalty=none, solver=saga; total time=   7.7s\n"
          ]
        },
        {
          "output_type": "stream",
          "name": "stderr",
          "text": [
            "/usr/local/lib/python3.10/dist-packages/sklearn/linear_model/_logistic.py:1172: UserWarning: l1_ratio parameter is only used when penalty is 'elasticnet'. Got (penalty=none)\n",
            "  warnings.warn(\n",
            "/usr/local/lib/python3.10/dist-packages/sklearn/linear_model/_logistic.py:1183: FutureWarning: `penalty='none'`has been deprecated in 1.2 and will be removed in 1.4. To keep the past behaviour, set `penalty=None`.\n",
            "  warnings.warn(\n"
          ]
        },
        {
          "output_type": "stream",
          "name": "stdout",
          "text": [
            "[CV] END .........C=1, l1_ratio=1, penalty=none, solver=saga; total time=  23.6s\n"
          ]
        },
        {
          "output_type": "stream",
          "name": "stderr",
          "text": [
            "/usr/local/lib/python3.10/dist-packages/sklearn/linear_model/_logistic.py:1172: UserWarning: l1_ratio parameter is only used when penalty is 'elasticnet'. Got (penalty=none)\n",
            "  warnings.warn(\n",
            "/usr/local/lib/python3.10/dist-packages/sklearn/linear_model/_logistic.py:1183: FutureWarning: `penalty='none'`has been deprecated in 1.2 and will be removed in 1.4. To keep the past behaviour, set `penalty=None`.\n",
            "  warnings.warn(\n"
          ]
        },
        {
          "output_type": "stream",
          "name": "stdout",
          "text": [
            "[CV] END .........C=1, l1_ratio=1, penalty=none, solver=saga; total time=  22.3s\n"
          ]
        },
        {
          "output_type": "stream",
          "name": "stderr",
          "text": [
            "/usr/local/lib/python3.10/dist-packages/sklearn/linear_model/_logistic.py:1172: UserWarning: l1_ratio parameter is only used when penalty is 'elasticnet'. Got (penalty=none)\n",
            "  warnings.warn(\n",
            "/usr/local/lib/python3.10/dist-packages/sklearn/linear_model/_logistic.py:1183: FutureWarning: `penalty='none'`has been deprecated in 1.2 and will be removed in 1.4. To keep the past behaviour, set `penalty=None`.\n",
            "  warnings.warn(\n"
          ]
        },
        {
          "output_type": "stream",
          "name": "stdout",
          "text": [
            "[CV] END .........C=1, l1_ratio=1, penalty=none, solver=saga; total time=  14.0s\n"
          ]
        },
        {
          "output_type": "stream",
          "name": "stderr",
          "text": [
            "/usr/local/lib/python3.10/dist-packages/sklearn/linear_model/_logistic.py:1172: UserWarning: l1_ratio parameter is only used when penalty is 'elasticnet'. Got (penalty=none)\n",
            "  warnings.warn(\n",
            "/usr/local/lib/python3.10/dist-packages/sklearn/linear_model/_logistic.py:1183: FutureWarning: `penalty='none'`has been deprecated in 1.2 and will be removed in 1.4. To keep the past behaviour, set `penalty=None`.\n",
            "  warnings.warn(\n"
          ]
        },
        {
          "output_type": "stream",
          "name": "stdout",
          "text": [
            "[CV] END .........C=1, l1_ratio=1, penalty=none, solver=saga; total time=  18.7s\n",
            "[CV] END .........C=10, l1_ratio=0, penalty=l1, solver=lbfgs; total time=   0.0s\n",
            "[CV] END .........C=10, l1_ratio=0, penalty=l1, solver=lbfgs; total time=   0.0s\n",
            "[CV] END .........C=10, l1_ratio=0, penalty=l1, solver=lbfgs; total time=   0.0s\n",
            "[CV] END .........C=10, l1_ratio=0, penalty=l1, solver=lbfgs; total time=   0.0s\n",
            "[CV] END .........C=10, l1_ratio=0, penalty=l1, solver=lbfgs; total time=   0.0s\n",
            "[CV] END .....C=10, l1_ratio=0, penalty=l1, solver=liblinear; total time=   0.0s\n",
            "[CV] END .....C=10, l1_ratio=0, penalty=l1, solver=liblinear; total time=   0.0s\n",
            "[CV] END .....C=10, l1_ratio=0, penalty=l1, solver=liblinear; total time=   0.0s\n",
            "[CV] END .....C=10, l1_ratio=0, penalty=l1, solver=liblinear; total time=   0.0s\n",
            "[CV] END .....C=10, l1_ratio=0, penalty=l1, solver=liblinear; total time=   0.0s\n"
          ]
        },
        {
          "output_type": "stream",
          "name": "stderr",
          "text": [
            "/usr/local/lib/python3.10/dist-packages/sklearn/linear_model/_logistic.py:1172: UserWarning: l1_ratio parameter is only used when penalty is 'elasticnet'. Got (penalty=l1)\n",
            "  warnings.warn(\n",
            "/usr/local/lib/python3.10/dist-packages/sklearn/linear_model/_logistic.py:1172: UserWarning: l1_ratio parameter is only used when penalty is 'elasticnet'. Got (penalty=l1)\n",
            "  warnings.warn(\n",
            "/usr/local/lib/python3.10/dist-packages/sklearn/linear_model/_logistic.py:1172: UserWarning: l1_ratio parameter is only used when penalty is 'elasticnet'. Got (penalty=l1)\n",
            "  warnings.warn(\n",
            "/usr/local/lib/python3.10/dist-packages/sklearn/linear_model/_logistic.py:1172: UserWarning: l1_ratio parameter is only used when penalty is 'elasticnet'. Got (penalty=l1)\n",
            "  warnings.warn(\n",
            "/usr/local/lib/python3.10/dist-packages/sklearn/linear_model/_logistic.py:1172: UserWarning: l1_ratio parameter is only used when penalty is 'elasticnet'. Got (penalty=l1)\n",
            "  warnings.warn(\n",
            "/usr/local/lib/python3.10/dist-packages/sklearn/linear_model/_logistic.py:1172: UserWarning: l1_ratio parameter is only used when penalty is 'elasticnet'. Got (penalty=l1)\n",
            "  warnings.warn(\n"
          ]
        },
        {
          "output_type": "stream",
          "name": "stdout",
          "text": [
            "[CV] END ..........C=10, l1_ratio=0, penalty=l1, solver=saga; total time=  12.5s\n"
          ]
        },
        {
          "output_type": "stream",
          "name": "stderr",
          "text": [
            "/usr/local/lib/python3.10/dist-packages/sklearn/linear_model/_logistic.py:1172: UserWarning: l1_ratio parameter is only used when penalty is 'elasticnet'. Got (penalty=l1)\n",
            "  warnings.warn(\n"
          ]
        },
        {
          "output_type": "stream",
          "name": "stdout",
          "text": [
            "[CV] END ..........C=10, l1_ratio=0, penalty=l1, solver=saga; total time=  25.4s\n"
          ]
        },
        {
          "output_type": "stream",
          "name": "stderr",
          "text": [
            "/usr/local/lib/python3.10/dist-packages/sklearn/linear_model/_logistic.py:1172: UserWarning: l1_ratio parameter is only used when penalty is 'elasticnet'. Got (penalty=l1)\n",
            "  warnings.warn(\n"
          ]
        },
        {
          "output_type": "stream",
          "name": "stdout",
          "text": [
            "[CV] END ..........C=10, l1_ratio=0, penalty=l1, solver=saga; total time=  25.5s\n"
          ]
        },
        {
          "output_type": "stream",
          "name": "stderr",
          "text": [
            "/usr/local/lib/python3.10/dist-packages/sklearn/linear_model/_logistic.py:1172: UserWarning: l1_ratio parameter is only used when penalty is 'elasticnet'. Got (penalty=l1)\n",
            "  warnings.warn(\n"
          ]
        },
        {
          "output_type": "stream",
          "name": "stdout",
          "text": [
            "[CV] END ..........C=10, l1_ratio=0, penalty=l1, solver=saga; total time=  15.8s\n"
          ]
        },
        {
          "output_type": "stream",
          "name": "stderr",
          "text": [
            "/usr/local/lib/python3.10/dist-packages/sklearn/linear_model/_logistic.py:1172: UserWarning: l1_ratio parameter is only used when penalty is 'elasticnet'. Got (penalty=l1)\n",
            "  warnings.warn(\n"
          ]
        },
        {
          "output_type": "stream",
          "name": "stdout",
          "text": [
            "[CV] END ..........C=10, l1_ratio=0, penalty=l1, solver=saga; total time=  24.1s\n",
            "[CV] END .........C=10, l1_ratio=0, penalty=l2, solver=lbfgs; total time=   0.0s\n",
            "[CV] END .........C=10, l1_ratio=0, penalty=l2, solver=lbfgs; total time=   0.1s\n"
          ]
        },
        {
          "output_type": "stream",
          "name": "stderr",
          "text": [
            "/usr/local/lib/python3.10/dist-packages/sklearn/linear_model/_logistic.py:1172: UserWarning: l1_ratio parameter is only used when penalty is 'elasticnet'. Got (penalty=l2)\n",
            "  warnings.warn(\n",
            "/usr/local/lib/python3.10/dist-packages/sklearn/linear_model/_logistic.py:1172: UserWarning: l1_ratio parameter is only used when penalty is 'elasticnet'. Got (penalty=l2)\n",
            "  warnings.warn(\n",
            "/usr/local/lib/python3.10/dist-packages/sklearn/linear_model/_logistic.py:1172: UserWarning: l1_ratio parameter is only used when penalty is 'elasticnet'. Got (penalty=l2)\n",
            "  warnings.warn(\n"
          ]
        },
        {
          "output_type": "stream",
          "name": "stdout",
          "text": [
            "[CV] END .........C=10, l1_ratio=0, penalty=l2, solver=lbfgs; total time=   0.1s\n",
            "[CV] END .........C=10, l1_ratio=0, penalty=l2, solver=lbfgs; total time=   0.1s\n",
            "[CV] END .........C=10, l1_ratio=0, penalty=l2, solver=lbfgs; total time=   0.1s\n",
            "[CV] END .....C=10, l1_ratio=0, penalty=l2, solver=liblinear; total time=   0.1s\n"
          ]
        },
        {
          "output_type": "stream",
          "name": "stderr",
          "text": [
            "/usr/local/lib/python3.10/dist-packages/sklearn/linear_model/_logistic.py:1172: UserWarning: l1_ratio parameter is only used when penalty is 'elasticnet'. Got (penalty=l2)\n",
            "  warnings.warn(\n",
            "/usr/local/lib/python3.10/dist-packages/sklearn/linear_model/_logistic.py:1172: UserWarning: l1_ratio parameter is only used when penalty is 'elasticnet'. Got (penalty=l2)\n",
            "  warnings.warn(\n",
            "/usr/local/lib/python3.10/dist-packages/sklearn/linear_model/_logistic.py:1172: UserWarning: l1_ratio parameter is only used when penalty is 'elasticnet'. Got (penalty=l2)\n",
            "  warnings.warn(\n",
            "/usr/local/lib/python3.10/dist-packages/sklearn/linear_model/_logistic.py:1172: UserWarning: l1_ratio parameter is only used when penalty is 'elasticnet'. Got (penalty=l2)\n",
            "  warnings.warn(\n"
          ]
        },
        {
          "output_type": "stream",
          "name": "stdout",
          "text": [
            "[CV] END .....C=10, l1_ratio=0, penalty=l2, solver=liblinear; total time=   0.1s\n",
            "[CV] END .....C=10, l1_ratio=0, penalty=l2, solver=liblinear; total time=   0.1s\n",
            "[CV] END .....C=10, l1_ratio=0, penalty=l2, solver=liblinear; total time=   0.1s\n"
          ]
        },
        {
          "output_type": "stream",
          "name": "stderr",
          "text": [
            "/usr/local/lib/python3.10/dist-packages/sklearn/linear_model/_logistic.py:1172: UserWarning: l1_ratio parameter is only used when penalty is 'elasticnet'. Got (penalty=l2)\n",
            "  warnings.warn(\n",
            "/usr/local/lib/python3.10/dist-packages/sklearn/linear_model/_logistic.py:1172: UserWarning: l1_ratio parameter is only used when penalty is 'elasticnet'. Got (penalty=l2)\n",
            "  warnings.warn(\n",
            "/usr/local/lib/python3.10/dist-packages/sklearn/linear_model/_logistic.py:1172: UserWarning: l1_ratio parameter is only used when penalty is 'elasticnet'. Got (penalty=l2)\n",
            "  warnings.warn(\n"
          ]
        },
        {
          "output_type": "stream",
          "name": "stdout",
          "text": [
            "[CV] END .....C=10, l1_ratio=0, penalty=l2, solver=liblinear; total time=   0.1s\n"
          ]
        },
        {
          "output_type": "stream",
          "name": "stderr",
          "text": [
            "/usr/local/lib/python3.10/dist-packages/sklearn/linear_model/_logistic.py:1172: UserWarning: l1_ratio parameter is only used when penalty is 'elasticnet'. Got (penalty=l2)\n",
            "  warnings.warn(\n"
          ]
        },
        {
          "output_type": "stream",
          "name": "stdout",
          "text": [
            "[CV] END ..........C=10, l1_ratio=0, penalty=l2, solver=saga; total time=   6.7s\n"
          ]
        },
        {
          "output_type": "stream",
          "name": "stderr",
          "text": [
            "/usr/local/lib/python3.10/dist-packages/sklearn/linear_model/_logistic.py:1172: UserWarning: l1_ratio parameter is only used when penalty is 'elasticnet'. Got (penalty=l2)\n",
            "  warnings.warn(\n"
          ]
        },
        {
          "output_type": "stream",
          "name": "stdout",
          "text": [
            "[CV] END ..........C=10, l1_ratio=0, penalty=l2, solver=saga; total time=  19.2s\n"
          ]
        },
        {
          "output_type": "stream",
          "name": "stderr",
          "text": [
            "/usr/local/lib/python3.10/dist-packages/sklearn/linear_model/_logistic.py:1172: UserWarning: l1_ratio parameter is only used when penalty is 'elasticnet'. Got (penalty=l2)\n",
            "  warnings.warn(\n"
          ]
        },
        {
          "output_type": "stream",
          "name": "stdout",
          "text": [
            "[CV] END ..........C=10, l1_ratio=0, penalty=l2, solver=saga; total time=  21.5s\n"
          ]
        },
        {
          "output_type": "stream",
          "name": "stderr",
          "text": [
            "/usr/local/lib/python3.10/dist-packages/sklearn/linear_model/_logistic.py:1172: UserWarning: l1_ratio parameter is only used when penalty is 'elasticnet'. Got (penalty=l2)\n",
            "  warnings.warn(\n"
          ]
        },
        {
          "output_type": "stream",
          "name": "stdout",
          "text": [
            "[CV] END ..........C=10, l1_ratio=0, penalty=l2, solver=saga; total time=  11.8s\n"
          ]
        },
        {
          "output_type": "stream",
          "name": "stderr",
          "text": [
            "/usr/local/lib/python3.10/dist-packages/sklearn/linear_model/_logistic.py:1172: UserWarning: l1_ratio parameter is only used when penalty is 'elasticnet'. Got (penalty=l2)\n",
            "  warnings.warn(\n"
          ]
        },
        {
          "output_type": "stream",
          "name": "stdout",
          "text": [
            "[CV] END ..........C=10, l1_ratio=0, penalty=l2, solver=saga; total time=  17.0s\n",
            "[CV] END .C=10, l1_ratio=0, penalty=elasticnet, solver=lbfgs; total time=   0.0s\n",
            "[CV] END .C=10, l1_ratio=0, penalty=elasticnet, solver=lbfgs; total time=   0.0s\n",
            "[CV] END .C=10, l1_ratio=0, penalty=elasticnet, solver=lbfgs; total time=   0.0s\n",
            "[CV] END .C=10, l1_ratio=0, penalty=elasticnet, solver=lbfgs; total time=   0.0s\n",
            "[CV] END .C=10, l1_ratio=0, penalty=elasticnet, solver=lbfgs; total time=   0.0s\n",
            "[CV] END C=10, l1_ratio=0, penalty=elasticnet, solver=liblinear; total time=   0.0s\n",
            "[CV] END C=10, l1_ratio=0, penalty=elasticnet, solver=liblinear; total time=   0.0s\n",
            "[CV] END C=10, l1_ratio=0, penalty=elasticnet, solver=liblinear; total time=   0.0s\n",
            "[CV] END C=10, l1_ratio=0, penalty=elasticnet, solver=liblinear; total time=   0.0s\n",
            "[CV] END C=10, l1_ratio=0, penalty=elasticnet, solver=liblinear; total time=   0.0s\n",
            "[CV] END ..C=10, l1_ratio=0, penalty=elasticnet, solver=saga; total time=   7.3s\n",
            "[CV] END ..C=10, l1_ratio=0, penalty=elasticnet, solver=saga; total time=  18.7s\n",
            "[CV] END ..C=10, l1_ratio=0, penalty=elasticnet, solver=saga; total time=  21.5s\n",
            "[CV] END ..C=10, l1_ratio=0, penalty=elasticnet, solver=saga; total time=  10.8s\n",
            "[CV] END ..C=10, l1_ratio=0, penalty=elasticnet, solver=saga; total time=  16.8s\n",
            "[CV] END .......C=10, l1_ratio=0, penalty=none, solver=lbfgs; total time=   0.1s\n",
            "[CV] END .......C=10, l1_ratio=0, penalty=none, solver=lbfgs; total time=   0.0s\n",
            "[CV] END .......C=10, l1_ratio=0, penalty=none, solver=lbfgs; total time=   0.1s\n"
          ]
        },
        {
          "output_type": "stream",
          "name": "stderr",
          "text": [
            "/usr/local/lib/python3.10/dist-packages/sklearn/linear_model/_logistic.py:1172: UserWarning: l1_ratio parameter is only used when penalty is 'elasticnet'. Got (penalty=none)\n",
            "  warnings.warn(\n",
            "/usr/local/lib/python3.10/dist-packages/sklearn/linear_model/_logistic.py:1183: FutureWarning: `penalty='none'`has been deprecated in 1.2 and will be removed in 1.4. To keep the past behaviour, set `penalty=None`.\n",
            "  warnings.warn(\n",
            "/usr/local/lib/python3.10/dist-packages/sklearn/linear_model/_logistic.py:1193: UserWarning: Setting penalty=None will ignore the C and l1_ratio parameters\n",
            "  warnings.warn(\n",
            "/usr/local/lib/python3.10/dist-packages/sklearn/linear_model/_logistic.py:1172: UserWarning: l1_ratio parameter is only used when penalty is 'elasticnet'. Got (penalty=none)\n",
            "  warnings.warn(\n",
            "/usr/local/lib/python3.10/dist-packages/sklearn/linear_model/_logistic.py:1183: FutureWarning: `penalty='none'`has been deprecated in 1.2 and will be removed in 1.4. To keep the past behaviour, set `penalty=None`.\n",
            "  warnings.warn(\n",
            "/usr/local/lib/python3.10/dist-packages/sklearn/linear_model/_logistic.py:1193: UserWarning: Setting penalty=None will ignore the C and l1_ratio parameters\n",
            "  warnings.warn(\n",
            "/usr/local/lib/python3.10/dist-packages/sklearn/linear_model/_logistic.py:1172: UserWarning: l1_ratio parameter is only used when penalty is 'elasticnet'. Got (penalty=none)\n",
            "  warnings.warn(\n",
            "/usr/local/lib/python3.10/dist-packages/sklearn/linear_model/_logistic.py:1183: FutureWarning: `penalty='none'`has been deprecated in 1.2 and will be removed in 1.4. To keep the past behaviour, set `penalty=None`.\n",
            "  warnings.warn(\n",
            "/usr/local/lib/python3.10/dist-packages/sklearn/linear_model/_logistic.py:1193: UserWarning: Setting penalty=None will ignore the C and l1_ratio parameters\n",
            "  warnings.warn(\n",
            "/usr/local/lib/python3.10/dist-packages/sklearn/linear_model/_logistic.py:1172: UserWarning: l1_ratio parameter is only used when penalty is 'elasticnet'. Got (penalty=none)\n",
            "  warnings.warn(\n",
            "/usr/local/lib/python3.10/dist-packages/sklearn/linear_model/_logistic.py:1183: FutureWarning: `penalty='none'`has been deprecated in 1.2 and will be removed in 1.4. To keep the past behaviour, set `penalty=None`.\n",
            "  warnings.warn(\n",
            "/usr/local/lib/python3.10/dist-packages/sklearn/linear_model/_logistic.py:1193: UserWarning: Setting penalty=None will ignore the C and l1_ratio parameters\n",
            "  warnings.warn(\n"
          ]
        },
        {
          "output_type": "stream",
          "name": "stdout",
          "text": [
            "[CV] END .......C=10, l1_ratio=0, penalty=none, solver=lbfgs; total time=   0.0s\n",
            "[CV] END .......C=10, l1_ratio=0, penalty=none, solver=lbfgs; total time=   0.0s\n",
            "[CV] END ...C=10, l1_ratio=0, penalty=none, solver=liblinear; total time=   0.0s\n",
            "[CV] END ...C=10, l1_ratio=0, penalty=none, solver=liblinear; total time=   0.0s\n",
            "[CV] END ...C=10, l1_ratio=0, penalty=none, solver=liblinear; total time=   0.0s\n",
            "[CV] END ...C=10, l1_ratio=0, penalty=none, solver=liblinear; total time=   0.0s\n",
            "[CV] END ...C=10, l1_ratio=0, penalty=none, solver=liblinear; total time=   0.0s\n"
          ]
        },
        {
          "output_type": "stream",
          "name": "stderr",
          "text": [
            "/usr/local/lib/python3.10/dist-packages/sklearn/linear_model/_logistic.py:1172: UserWarning: l1_ratio parameter is only used when penalty is 'elasticnet'. Got (penalty=none)\n",
            "  warnings.warn(\n",
            "/usr/local/lib/python3.10/dist-packages/sklearn/linear_model/_logistic.py:1183: FutureWarning: `penalty='none'`has been deprecated in 1.2 and will be removed in 1.4. To keep the past behaviour, set `penalty=None`.\n",
            "  warnings.warn(\n",
            "/usr/local/lib/python3.10/dist-packages/sklearn/linear_model/_logistic.py:1193: UserWarning: Setting penalty=None will ignore the C and l1_ratio parameters\n",
            "  warnings.warn(\n",
            "/usr/local/lib/python3.10/dist-packages/sklearn/linear_model/_logistic.py:1172: UserWarning: l1_ratio parameter is only used when penalty is 'elasticnet'. Got (penalty=none)\n",
            "  warnings.warn(\n",
            "/usr/local/lib/python3.10/dist-packages/sklearn/linear_model/_logistic.py:1183: FutureWarning: `penalty='none'`has been deprecated in 1.2 and will be removed in 1.4. To keep the past behaviour, set `penalty=None`.\n",
            "  warnings.warn(\n",
            "/usr/local/lib/python3.10/dist-packages/sklearn/linear_model/_logistic.py:1193: UserWarning: Setting penalty=None will ignore the C and l1_ratio parameters\n",
            "  warnings.warn(\n"
          ]
        },
        {
          "output_type": "stream",
          "name": "stdout",
          "text": [
            "[CV] END ........C=10, l1_ratio=0, penalty=none, solver=saga; total time=   9.8s\n"
          ]
        },
        {
          "output_type": "stream",
          "name": "stderr",
          "text": [
            "/usr/local/lib/python3.10/dist-packages/sklearn/linear_model/_logistic.py:1172: UserWarning: l1_ratio parameter is only used when penalty is 'elasticnet'. Got (penalty=none)\n",
            "  warnings.warn(\n",
            "/usr/local/lib/python3.10/dist-packages/sklearn/linear_model/_logistic.py:1183: FutureWarning: `penalty='none'`has been deprecated in 1.2 and will be removed in 1.4. To keep the past behaviour, set `penalty=None`.\n",
            "  warnings.warn(\n",
            "/usr/local/lib/python3.10/dist-packages/sklearn/linear_model/_logistic.py:1193: UserWarning: Setting penalty=None will ignore the C and l1_ratio parameters\n",
            "  warnings.warn(\n"
          ]
        },
        {
          "output_type": "stream",
          "name": "stdout",
          "text": [
            "[CV] END ........C=10, l1_ratio=0, penalty=none, solver=saga; total time=  21.7s\n"
          ]
        },
        {
          "output_type": "stream",
          "name": "stderr",
          "text": [
            "/usr/local/lib/python3.10/dist-packages/sklearn/linear_model/_logistic.py:1172: UserWarning: l1_ratio parameter is only used when penalty is 'elasticnet'. Got (penalty=none)\n",
            "  warnings.warn(\n",
            "/usr/local/lib/python3.10/dist-packages/sklearn/linear_model/_logistic.py:1183: FutureWarning: `penalty='none'`has been deprecated in 1.2 and will be removed in 1.4. To keep the past behaviour, set `penalty=None`.\n",
            "  warnings.warn(\n",
            "/usr/local/lib/python3.10/dist-packages/sklearn/linear_model/_logistic.py:1193: UserWarning: Setting penalty=None will ignore the C and l1_ratio parameters\n",
            "  warnings.warn(\n"
          ]
        },
        {
          "output_type": "stream",
          "name": "stdout",
          "text": [
            "[CV] END ........C=10, l1_ratio=0, penalty=none, solver=saga; total time=  24.5s\n"
          ]
        },
        {
          "output_type": "stream",
          "name": "stderr",
          "text": [
            "/usr/local/lib/python3.10/dist-packages/sklearn/linear_model/_logistic.py:1172: UserWarning: l1_ratio parameter is only used when penalty is 'elasticnet'. Got (penalty=none)\n",
            "  warnings.warn(\n",
            "/usr/local/lib/python3.10/dist-packages/sklearn/linear_model/_logistic.py:1183: FutureWarning: `penalty='none'`has been deprecated in 1.2 and will be removed in 1.4. To keep the past behaviour, set `penalty=None`.\n",
            "  warnings.warn(\n",
            "/usr/local/lib/python3.10/dist-packages/sklearn/linear_model/_logistic.py:1193: UserWarning: Setting penalty=None will ignore the C and l1_ratio parameters\n",
            "  warnings.warn(\n"
          ]
        },
        {
          "output_type": "stream",
          "name": "stdout",
          "text": [
            "[CV] END ........C=10, l1_ratio=0, penalty=none, solver=saga; total time=  14.1s\n"
          ]
        },
        {
          "output_type": "stream",
          "name": "stderr",
          "text": [
            "/usr/local/lib/python3.10/dist-packages/sklearn/linear_model/_logistic.py:1172: UserWarning: l1_ratio parameter is only used when penalty is 'elasticnet'. Got (penalty=none)\n",
            "  warnings.warn(\n",
            "/usr/local/lib/python3.10/dist-packages/sklearn/linear_model/_logistic.py:1183: FutureWarning: `penalty='none'`has been deprecated in 1.2 and will be removed in 1.4. To keep the past behaviour, set `penalty=None`.\n",
            "  warnings.warn(\n",
            "/usr/local/lib/python3.10/dist-packages/sklearn/linear_model/_logistic.py:1193: UserWarning: Setting penalty=None will ignore the C and l1_ratio parameters\n",
            "  warnings.warn(\n"
          ]
        },
        {
          "output_type": "stream",
          "name": "stdout",
          "text": [
            "[CV] END ........C=10, l1_ratio=0, penalty=none, solver=saga; total time=  18.9s\n",
            "[CV] END .......C=10, l1_ratio=0.5, penalty=l1, solver=lbfgs; total time=   0.0s\n",
            "[CV] END .......C=10, l1_ratio=0.5, penalty=l1, solver=lbfgs; total time=   0.0s\n",
            "[CV] END .......C=10, l1_ratio=0.5, penalty=l1, solver=lbfgs; total time=   0.0s\n",
            "[CV] END .......C=10, l1_ratio=0.5, penalty=l1, solver=lbfgs; total time=   0.0s\n",
            "[CV] END .......C=10, l1_ratio=0.5, penalty=l1, solver=lbfgs; total time=   0.0s\n",
            "[CV] END ...C=10, l1_ratio=0.5, penalty=l1, solver=liblinear; total time=   0.0s\n",
            "[CV] END ...C=10, l1_ratio=0.5, penalty=l1, solver=liblinear; total time=   0.0s\n",
            "[CV] END ...C=10, l1_ratio=0.5, penalty=l1, solver=liblinear; total time=   0.0s\n",
            "[CV] END ...C=10, l1_ratio=0.5, penalty=l1, solver=liblinear; total time=   0.0s\n",
            "[CV] END ...C=10, l1_ratio=0.5, penalty=l1, solver=liblinear; total time=   0.0s\n"
          ]
        },
        {
          "output_type": "stream",
          "name": "stderr",
          "text": [
            "/usr/local/lib/python3.10/dist-packages/sklearn/linear_model/_logistic.py:1172: UserWarning: l1_ratio parameter is only used when penalty is 'elasticnet'. Got (penalty=l1)\n",
            "  warnings.warn(\n",
            "/usr/local/lib/python3.10/dist-packages/sklearn/linear_model/_logistic.py:1172: UserWarning: l1_ratio parameter is only used when penalty is 'elasticnet'. Got (penalty=l1)\n",
            "  warnings.warn(\n",
            "/usr/local/lib/python3.10/dist-packages/sklearn/linear_model/_logistic.py:1172: UserWarning: l1_ratio parameter is only used when penalty is 'elasticnet'. Got (penalty=l1)\n",
            "  warnings.warn(\n",
            "/usr/local/lib/python3.10/dist-packages/sklearn/linear_model/_logistic.py:1172: UserWarning: l1_ratio parameter is only used when penalty is 'elasticnet'. Got (penalty=l1)\n",
            "  warnings.warn(\n",
            "/usr/local/lib/python3.10/dist-packages/sklearn/linear_model/_logistic.py:1172: UserWarning: l1_ratio parameter is only used when penalty is 'elasticnet'. Got (penalty=l1)\n",
            "  warnings.warn(\n",
            "/usr/local/lib/python3.10/dist-packages/sklearn/linear_model/_logistic.py:1172: UserWarning: l1_ratio parameter is only used when penalty is 'elasticnet'. Got (penalty=l1)\n",
            "  warnings.warn(\n"
          ]
        },
        {
          "output_type": "stream",
          "name": "stdout",
          "text": [
            "[CV] END ........C=10, l1_ratio=0.5, penalty=l1, solver=saga; total time=  12.7s\n"
          ]
        },
        {
          "output_type": "stream",
          "name": "stderr",
          "text": [
            "/usr/local/lib/python3.10/dist-packages/sklearn/linear_model/_logistic.py:1172: UserWarning: l1_ratio parameter is only used when penalty is 'elasticnet'. Got (penalty=l1)\n",
            "  warnings.warn(\n"
          ]
        },
        {
          "output_type": "stream",
          "name": "stdout",
          "text": [
            "[CV] END ........C=10, l1_ratio=0.5, penalty=l1, solver=saga; total time=  23.8s\n"
          ]
        },
        {
          "output_type": "stream",
          "name": "stderr",
          "text": [
            "/usr/local/lib/python3.10/dist-packages/sklearn/linear_model/_logistic.py:1172: UserWarning: l1_ratio parameter is only used when penalty is 'elasticnet'. Got (penalty=l1)\n",
            "  warnings.warn(\n"
          ]
        },
        {
          "output_type": "stream",
          "name": "stdout",
          "text": [
            "[CV] END ........C=10, l1_ratio=0.5, penalty=l1, solver=saga; total time=  28.2s\n"
          ]
        },
        {
          "output_type": "stream",
          "name": "stderr",
          "text": [
            "/usr/local/lib/python3.10/dist-packages/sklearn/linear_model/_logistic.py:1172: UserWarning: l1_ratio parameter is only used when penalty is 'elasticnet'. Got (penalty=l1)\n",
            "  warnings.warn(\n"
          ]
        },
        {
          "output_type": "stream",
          "name": "stdout",
          "text": [
            "[CV] END ........C=10, l1_ratio=0.5, penalty=l1, solver=saga; total time=  16.1s\n"
          ]
        },
        {
          "output_type": "stream",
          "name": "stderr",
          "text": [
            "/usr/local/lib/python3.10/dist-packages/sklearn/linear_model/_logistic.py:1172: UserWarning: l1_ratio parameter is only used when penalty is 'elasticnet'. Got (penalty=l1)\n",
            "  warnings.warn(\n"
          ]
        },
        {
          "output_type": "stream",
          "name": "stdout",
          "text": [
            "[CV] END ........C=10, l1_ratio=0.5, penalty=l1, solver=saga; total time=  23.1s\n",
            "[CV] END .......C=10, l1_ratio=0.5, penalty=l2, solver=lbfgs; total time=   0.1s\n"
          ]
        },
        {
          "output_type": "stream",
          "name": "stderr",
          "text": [
            "/usr/local/lib/python3.10/dist-packages/sklearn/linear_model/_logistic.py:1172: UserWarning: l1_ratio parameter is only used when penalty is 'elasticnet'. Got (penalty=l2)\n",
            "  warnings.warn(\n",
            "/usr/local/lib/python3.10/dist-packages/sklearn/linear_model/_logistic.py:1172: UserWarning: l1_ratio parameter is only used when penalty is 'elasticnet'. Got (penalty=l2)\n",
            "  warnings.warn(\n"
          ]
        },
        {
          "output_type": "stream",
          "name": "stdout",
          "text": [
            "[CV] END .......C=10, l1_ratio=0.5, penalty=l2, solver=lbfgs; total time=   0.2s\n"
          ]
        },
        {
          "output_type": "stream",
          "name": "stderr",
          "text": [
            "/usr/local/lib/python3.10/dist-packages/sklearn/linear_model/_logistic.py:1172: UserWarning: l1_ratio parameter is only used when penalty is 'elasticnet'. Got (penalty=l2)\n",
            "  warnings.warn(\n"
          ]
        },
        {
          "output_type": "stream",
          "name": "stdout",
          "text": [
            "[CV] END .......C=10, l1_ratio=0.5, penalty=l2, solver=lbfgs; total time=   0.2s\n",
            "[CV] END .......C=10, l1_ratio=0.5, penalty=l2, solver=lbfgs; total time=   0.1s\n"
          ]
        },
        {
          "output_type": "stream",
          "name": "stderr",
          "text": [
            "/usr/local/lib/python3.10/dist-packages/sklearn/linear_model/_logistic.py:1172: UserWarning: l1_ratio parameter is only used when penalty is 'elasticnet'. Got (penalty=l2)\n",
            "  warnings.warn(\n",
            "/usr/local/lib/python3.10/dist-packages/sklearn/linear_model/_logistic.py:1172: UserWarning: l1_ratio parameter is only used when penalty is 'elasticnet'. Got (penalty=l2)\n",
            "  warnings.warn(\n"
          ]
        },
        {
          "output_type": "stream",
          "name": "stdout",
          "text": [
            "[CV] END .......C=10, l1_ratio=0.5, penalty=l2, solver=lbfgs; total time=   0.2s\n",
            "[CV] END ...C=10, l1_ratio=0.5, penalty=l2, solver=liblinear; total time=   0.1s\n"
          ]
        },
        {
          "output_type": "stream",
          "name": "stderr",
          "text": [
            "/usr/local/lib/python3.10/dist-packages/sklearn/linear_model/_logistic.py:1172: UserWarning: l1_ratio parameter is only used when penalty is 'elasticnet'. Got (penalty=l2)\n",
            "  warnings.warn(\n",
            "/usr/local/lib/python3.10/dist-packages/sklearn/linear_model/_logistic.py:1172: UserWarning: l1_ratio parameter is only used when penalty is 'elasticnet'. Got (penalty=l2)\n",
            "  warnings.warn(\n"
          ]
        },
        {
          "output_type": "stream",
          "name": "stdout",
          "text": [
            "[CV] END ...C=10, l1_ratio=0.5, penalty=l2, solver=liblinear; total time=   0.2s\n",
            "[CV] END ...C=10, l1_ratio=0.5, penalty=l2, solver=liblinear; total time=   0.1s\n"
          ]
        },
        {
          "output_type": "stream",
          "name": "stderr",
          "text": [
            "/usr/local/lib/python3.10/dist-packages/sklearn/linear_model/_logistic.py:1172: UserWarning: l1_ratio parameter is only used when penalty is 'elasticnet'. Got (penalty=l2)\n",
            "  warnings.warn(\n",
            "/usr/local/lib/python3.10/dist-packages/sklearn/linear_model/_logistic.py:1172: UserWarning: l1_ratio parameter is only used when penalty is 'elasticnet'. Got (penalty=l2)\n",
            "  warnings.warn(\n"
          ]
        },
        {
          "output_type": "stream",
          "name": "stdout",
          "text": [
            "[CV] END ...C=10, l1_ratio=0.5, penalty=l2, solver=liblinear; total time=   0.1s\n",
            "[CV] END ...C=10, l1_ratio=0.5, penalty=l2, solver=liblinear; total time=   0.1s\n"
          ]
        },
        {
          "output_type": "stream",
          "name": "stderr",
          "text": [
            "/usr/local/lib/python3.10/dist-packages/sklearn/linear_model/_logistic.py:1172: UserWarning: l1_ratio parameter is only used when penalty is 'elasticnet'. Got (penalty=l2)\n",
            "  warnings.warn(\n",
            "/usr/local/lib/python3.10/dist-packages/sklearn/linear_model/_logistic.py:1172: UserWarning: l1_ratio parameter is only used when penalty is 'elasticnet'. Got (penalty=l2)\n",
            "  warnings.warn(\n"
          ]
        },
        {
          "output_type": "stream",
          "name": "stdout",
          "text": [
            "[CV] END ........C=10, l1_ratio=0.5, penalty=l2, solver=saga; total time=   7.4s\n"
          ]
        },
        {
          "output_type": "stream",
          "name": "stderr",
          "text": [
            "/usr/local/lib/python3.10/dist-packages/sklearn/linear_model/_logistic.py:1172: UserWarning: l1_ratio parameter is only used when penalty is 'elasticnet'. Got (penalty=l2)\n",
            "  warnings.warn(\n"
          ]
        },
        {
          "output_type": "stream",
          "name": "stdout",
          "text": [
            "[CV] END ........C=10, l1_ratio=0.5, penalty=l2, solver=saga; total time=  18.8s\n"
          ]
        },
        {
          "output_type": "stream",
          "name": "stderr",
          "text": [
            "/usr/local/lib/python3.10/dist-packages/sklearn/linear_model/_logistic.py:1172: UserWarning: l1_ratio parameter is only used when penalty is 'elasticnet'. Got (penalty=l2)\n",
            "  warnings.warn(\n"
          ]
        },
        {
          "output_type": "stream",
          "name": "stdout",
          "text": [
            "[CV] END ........C=10, l1_ratio=0.5, penalty=l2, solver=saga; total time=  21.9s\n"
          ]
        },
        {
          "output_type": "stream",
          "name": "stderr",
          "text": [
            "/usr/local/lib/python3.10/dist-packages/sklearn/linear_model/_logistic.py:1172: UserWarning: l1_ratio parameter is only used when penalty is 'elasticnet'. Got (penalty=l2)\n",
            "  warnings.warn(\n"
          ]
        },
        {
          "output_type": "stream",
          "name": "stdout",
          "text": [
            "[CV] END ........C=10, l1_ratio=0.5, penalty=l2, solver=saga; total time=  10.8s\n"
          ]
        },
        {
          "output_type": "stream",
          "name": "stderr",
          "text": [
            "/usr/local/lib/python3.10/dist-packages/sklearn/linear_model/_logistic.py:1172: UserWarning: l1_ratio parameter is only used when penalty is 'elasticnet'. Got (penalty=l2)\n",
            "  warnings.warn(\n"
          ]
        },
        {
          "output_type": "stream",
          "name": "stdout",
          "text": [
            "[CV] END ........C=10, l1_ratio=0.5, penalty=l2, solver=saga; total time=  16.9s\n",
            "[CV] END C=10, l1_ratio=0.5, penalty=elasticnet, solver=lbfgs; total time=   0.0s\n",
            "[CV] END C=10, l1_ratio=0.5, penalty=elasticnet, solver=lbfgs; total time=   0.0s\n",
            "[CV] END C=10, l1_ratio=0.5, penalty=elasticnet, solver=lbfgs; total time=   0.0s\n",
            "[CV] END C=10, l1_ratio=0.5, penalty=elasticnet, solver=lbfgs; total time=   0.0s\n",
            "[CV] END C=10, l1_ratio=0.5, penalty=elasticnet, solver=lbfgs; total time=   0.0s\n",
            "[CV] END C=10, l1_ratio=0.5, penalty=elasticnet, solver=liblinear; total time=   0.0s\n",
            "[CV] END C=10, l1_ratio=0.5, penalty=elasticnet, solver=liblinear; total time=   0.0s\n",
            "[CV] END C=10, l1_ratio=0.5, penalty=elasticnet, solver=liblinear; total time=   0.0s\n",
            "[CV] END C=10, l1_ratio=0.5, penalty=elasticnet, solver=liblinear; total time=   0.0s\n",
            "[CV] END C=10, l1_ratio=0.5, penalty=elasticnet, solver=liblinear; total time=   0.0s\n",
            "[CV] END C=10, l1_ratio=0.5, penalty=elasticnet, solver=saga; total time=  11.9s\n",
            "[CV] END C=10, l1_ratio=0.5, penalty=elasticnet, solver=saga; total time=  26.5s\n",
            "[CV] END C=10, l1_ratio=0.5, penalty=elasticnet, solver=saga; total time=  26.1s\n",
            "[CV] END C=10, l1_ratio=0.5, penalty=elasticnet, solver=saga; total time=  16.5s\n",
            "[CV] END C=10, l1_ratio=0.5, penalty=elasticnet, solver=saga; total time=  23.2s\n",
            "[CV] END .....C=10, l1_ratio=0.5, penalty=none, solver=lbfgs; total time=   0.0s\n",
            "[CV] END .....C=10, l1_ratio=0.5, penalty=none, solver=lbfgs; total time=   0.0s\n",
            "[CV] END .....C=10, l1_ratio=0.5, penalty=none, solver=lbfgs; total time=   0.0s\n",
            "[CV] END .....C=10, l1_ratio=0.5, penalty=none, solver=lbfgs; total time=   0.0s\n",
            "[CV] END .....C=10, l1_ratio=0.5, penalty=none, solver=lbfgs; total time=   0.0s\n",
            "[CV] END .C=10, l1_ratio=0.5, penalty=none, solver=liblinear; total time=   0.0s\n",
            "[CV] END .C=10, l1_ratio=0.5, penalty=none, solver=liblinear; total time=   0.0s\n",
            "[CV] END .C=10, l1_ratio=0.5, penalty=none, solver=liblinear; total time=   0.0s\n",
            "[CV] END .C=10, l1_ratio=0.5, penalty=none, solver=liblinear; total time=   0.0s\n",
            "[CV] END .C=10, l1_ratio=0.5, penalty=none, solver=liblinear; total time=   0.0s\n"
          ]
        },
        {
          "output_type": "stream",
          "name": "stderr",
          "text": [
            "/usr/local/lib/python3.10/dist-packages/sklearn/linear_model/_logistic.py:1172: UserWarning: l1_ratio parameter is only used when penalty is 'elasticnet'. Got (penalty=none)\n",
            "  warnings.warn(\n",
            "/usr/local/lib/python3.10/dist-packages/sklearn/linear_model/_logistic.py:1183: FutureWarning: `penalty='none'`has been deprecated in 1.2 and will be removed in 1.4. To keep the past behaviour, set `penalty=None`.\n",
            "  warnings.warn(\n",
            "/usr/local/lib/python3.10/dist-packages/sklearn/linear_model/_logistic.py:1193: UserWarning: Setting penalty=None will ignore the C and l1_ratio parameters\n",
            "  warnings.warn(\n",
            "/usr/local/lib/python3.10/dist-packages/sklearn/linear_model/_logistic.py:1172: UserWarning: l1_ratio parameter is only used when penalty is 'elasticnet'. Got (penalty=none)\n",
            "  warnings.warn(\n",
            "/usr/local/lib/python3.10/dist-packages/sklearn/linear_model/_logistic.py:1183: FutureWarning: `penalty='none'`has been deprecated in 1.2 and will be removed in 1.4. To keep the past behaviour, set `penalty=None`.\n",
            "  warnings.warn(\n",
            "/usr/local/lib/python3.10/dist-packages/sklearn/linear_model/_logistic.py:1193: UserWarning: Setting penalty=None will ignore the C and l1_ratio parameters\n",
            "  warnings.warn(\n",
            "/usr/local/lib/python3.10/dist-packages/sklearn/linear_model/_logistic.py:1172: UserWarning: l1_ratio parameter is only used when penalty is 'elasticnet'. Got (penalty=none)\n",
            "  warnings.warn(\n",
            "/usr/local/lib/python3.10/dist-packages/sklearn/linear_model/_logistic.py:1183: FutureWarning: `penalty='none'`has been deprecated in 1.2 and will be removed in 1.4. To keep the past behaviour, set `penalty=None`.\n",
            "  warnings.warn(\n",
            "/usr/local/lib/python3.10/dist-packages/sklearn/linear_model/_logistic.py:1193: UserWarning: Setting penalty=None will ignore the C and l1_ratio parameters\n",
            "  warnings.warn(\n",
            "/usr/local/lib/python3.10/dist-packages/sklearn/linear_model/_logistic.py:1172: UserWarning: l1_ratio parameter is only used when penalty is 'elasticnet'. Got (penalty=none)\n",
            "  warnings.warn(\n",
            "/usr/local/lib/python3.10/dist-packages/sklearn/linear_model/_logistic.py:1183: FutureWarning: `penalty='none'`has been deprecated in 1.2 and will be removed in 1.4. To keep the past behaviour, set `penalty=None`.\n",
            "  warnings.warn(\n",
            "/usr/local/lib/python3.10/dist-packages/sklearn/linear_model/_logistic.py:1193: UserWarning: Setting penalty=None will ignore the C and l1_ratio parameters\n",
            "  warnings.warn(\n",
            "/usr/local/lib/python3.10/dist-packages/sklearn/linear_model/_logistic.py:1172: UserWarning: l1_ratio parameter is only used when penalty is 'elasticnet'. Got (penalty=none)\n",
            "  warnings.warn(\n",
            "/usr/local/lib/python3.10/dist-packages/sklearn/linear_model/_logistic.py:1183: FutureWarning: `penalty='none'`has been deprecated in 1.2 and will be removed in 1.4. To keep the past behaviour, set `penalty=None`.\n",
            "  warnings.warn(\n",
            "/usr/local/lib/python3.10/dist-packages/sklearn/linear_model/_logistic.py:1193: UserWarning: Setting penalty=None will ignore the C and l1_ratio parameters\n",
            "  warnings.warn(\n",
            "/usr/local/lib/python3.10/dist-packages/sklearn/linear_model/_logistic.py:1172: UserWarning: l1_ratio parameter is only used when penalty is 'elasticnet'. Got (penalty=none)\n",
            "  warnings.warn(\n",
            "/usr/local/lib/python3.10/dist-packages/sklearn/linear_model/_logistic.py:1183: FutureWarning: `penalty='none'`has been deprecated in 1.2 and will be removed in 1.4. To keep the past behaviour, set `penalty=None`.\n",
            "  warnings.warn(\n",
            "/usr/local/lib/python3.10/dist-packages/sklearn/linear_model/_logistic.py:1193: UserWarning: Setting penalty=None will ignore the C and l1_ratio parameters\n",
            "  warnings.warn(\n"
          ]
        },
        {
          "output_type": "stream",
          "name": "stdout",
          "text": [
            "[CV] END ......C=10, l1_ratio=0.5, penalty=none, solver=saga; total time=   9.1s\n"
          ]
        },
        {
          "output_type": "stream",
          "name": "stderr",
          "text": [
            "/usr/local/lib/python3.10/dist-packages/sklearn/linear_model/_logistic.py:1172: UserWarning: l1_ratio parameter is only used when penalty is 'elasticnet'. Got (penalty=none)\n",
            "  warnings.warn(\n",
            "/usr/local/lib/python3.10/dist-packages/sklearn/linear_model/_logistic.py:1183: FutureWarning: `penalty='none'`has been deprecated in 1.2 and will be removed in 1.4. To keep the past behaviour, set `penalty=None`.\n",
            "  warnings.warn(\n",
            "/usr/local/lib/python3.10/dist-packages/sklearn/linear_model/_logistic.py:1193: UserWarning: Setting penalty=None will ignore the C and l1_ratio parameters\n",
            "  warnings.warn(\n"
          ]
        },
        {
          "output_type": "stream",
          "name": "stdout",
          "text": [
            "[CV] END ......C=10, l1_ratio=0.5, penalty=none, solver=saga; total time=  22.6s\n"
          ]
        },
        {
          "output_type": "stream",
          "name": "stderr",
          "text": [
            "/usr/local/lib/python3.10/dist-packages/sklearn/linear_model/_logistic.py:1172: UserWarning: l1_ratio parameter is only used when penalty is 'elasticnet'. Got (penalty=none)\n",
            "  warnings.warn(\n",
            "/usr/local/lib/python3.10/dist-packages/sklearn/linear_model/_logistic.py:1183: FutureWarning: `penalty='none'`has been deprecated in 1.2 and will be removed in 1.4. To keep the past behaviour, set `penalty=None`.\n",
            "  warnings.warn(\n",
            "/usr/local/lib/python3.10/dist-packages/sklearn/linear_model/_logistic.py:1193: UserWarning: Setting penalty=None will ignore the C and l1_ratio parameters\n",
            "  warnings.warn(\n"
          ]
        },
        {
          "output_type": "stream",
          "name": "stdout",
          "text": [
            "[CV] END ......C=10, l1_ratio=0.5, penalty=none, solver=saga; total time=  22.5s\n"
          ]
        },
        {
          "output_type": "stream",
          "name": "stderr",
          "text": [
            "/usr/local/lib/python3.10/dist-packages/sklearn/linear_model/_logistic.py:1172: UserWarning: l1_ratio parameter is only used when penalty is 'elasticnet'. Got (penalty=none)\n",
            "  warnings.warn(\n",
            "/usr/local/lib/python3.10/dist-packages/sklearn/linear_model/_logistic.py:1183: FutureWarning: `penalty='none'`has been deprecated in 1.2 and will be removed in 1.4. To keep the past behaviour, set `penalty=None`.\n",
            "  warnings.warn(\n",
            "/usr/local/lib/python3.10/dist-packages/sklearn/linear_model/_logistic.py:1193: UserWarning: Setting penalty=None will ignore the C and l1_ratio parameters\n",
            "  warnings.warn(\n"
          ]
        },
        {
          "output_type": "stream",
          "name": "stdout",
          "text": [
            "[CV] END ......C=10, l1_ratio=0.5, penalty=none, solver=saga; total time=  13.4s\n"
          ]
        },
        {
          "output_type": "stream",
          "name": "stderr",
          "text": [
            "/usr/local/lib/python3.10/dist-packages/sklearn/linear_model/_logistic.py:1172: UserWarning: l1_ratio parameter is only used when penalty is 'elasticnet'. Got (penalty=none)\n",
            "  warnings.warn(\n",
            "/usr/local/lib/python3.10/dist-packages/sklearn/linear_model/_logistic.py:1183: FutureWarning: `penalty='none'`has been deprecated in 1.2 and will be removed in 1.4. To keep the past behaviour, set `penalty=None`.\n",
            "  warnings.warn(\n",
            "/usr/local/lib/python3.10/dist-packages/sklearn/linear_model/_logistic.py:1193: UserWarning: Setting penalty=None will ignore the C and l1_ratio parameters\n",
            "  warnings.warn(\n"
          ]
        },
        {
          "output_type": "stream",
          "name": "stdout",
          "text": [
            "[CV] END ......C=10, l1_ratio=0.5, penalty=none, solver=saga; total time=  20.4s\n",
            "[CV] END .........C=10, l1_ratio=1, penalty=l1, solver=lbfgs; total time=   0.0s\n",
            "[CV] END .........C=10, l1_ratio=1, penalty=l1, solver=lbfgs; total time=   0.0s\n",
            "[CV] END .........C=10, l1_ratio=1, penalty=l1, solver=lbfgs; total time=   0.0s\n",
            "[CV] END .........C=10, l1_ratio=1, penalty=l1, solver=lbfgs; total time=   0.0s\n",
            "[CV] END .........C=10, l1_ratio=1, penalty=l1, solver=lbfgs; total time=   0.0s\n",
            "[CV] END .....C=10, l1_ratio=1, penalty=l1, solver=liblinear; total time=   0.1s\n",
            "[CV] END .....C=10, l1_ratio=1, penalty=l1, solver=liblinear; total time=   0.1s\n"
          ]
        },
        {
          "output_type": "stream",
          "name": "stderr",
          "text": [
            "/usr/local/lib/python3.10/dist-packages/sklearn/linear_model/_logistic.py:1172: UserWarning: l1_ratio parameter is only used when penalty is 'elasticnet'. Got (penalty=l1)\n",
            "  warnings.warn(\n",
            "/usr/local/lib/python3.10/dist-packages/sklearn/linear_model/_logistic.py:1172: UserWarning: l1_ratio parameter is only used when penalty is 'elasticnet'. Got (penalty=l1)\n",
            "  warnings.warn(\n",
            "/usr/local/lib/python3.10/dist-packages/sklearn/linear_model/_logistic.py:1172: UserWarning: l1_ratio parameter is only used when penalty is 'elasticnet'. Got (penalty=l1)\n",
            "  warnings.warn(\n"
          ]
        },
        {
          "output_type": "stream",
          "name": "stdout",
          "text": [
            "[CV] END .....C=10, l1_ratio=1, penalty=l1, solver=liblinear; total time=   0.1s\n",
            "[CV] END .....C=10, l1_ratio=1, penalty=l1, solver=liblinear; total time=   0.1s\n",
            "[CV] END .....C=10, l1_ratio=1, penalty=l1, solver=liblinear; total time=   0.1s\n"
          ]
        },
        {
          "output_type": "stream",
          "name": "stderr",
          "text": [
            "/usr/local/lib/python3.10/dist-packages/sklearn/linear_model/_logistic.py:1172: UserWarning: l1_ratio parameter is only used when penalty is 'elasticnet'. Got (penalty=l1)\n",
            "  warnings.warn(\n",
            "/usr/local/lib/python3.10/dist-packages/sklearn/linear_model/_logistic.py:1172: UserWarning: l1_ratio parameter is only used when penalty is 'elasticnet'. Got (penalty=l1)\n",
            "  warnings.warn(\n",
            "/usr/local/lib/python3.10/dist-packages/sklearn/linear_model/_logistic.py:1172: UserWarning: l1_ratio parameter is only used when penalty is 'elasticnet'. Got (penalty=l1)\n",
            "  warnings.warn(\n"
          ]
        },
        {
          "output_type": "stream",
          "name": "stdout",
          "text": [
            "[CV] END ..........C=10, l1_ratio=1, penalty=l1, solver=saga; total time=  10.9s\n"
          ]
        },
        {
          "output_type": "stream",
          "name": "stderr",
          "text": [
            "/usr/local/lib/python3.10/dist-packages/sklearn/linear_model/_logistic.py:1172: UserWarning: l1_ratio parameter is only used when penalty is 'elasticnet'. Got (penalty=l1)\n",
            "  warnings.warn(\n"
          ]
        },
        {
          "output_type": "stream",
          "name": "stdout",
          "text": [
            "[CV] END ..........C=10, l1_ratio=1, penalty=l1, solver=saga; total time=  26.5s\n"
          ]
        },
        {
          "output_type": "stream",
          "name": "stderr",
          "text": [
            "/usr/local/lib/python3.10/dist-packages/sklearn/linear_model/_logistic.py:1172: UserWarning: l1_ratio parameter is only used when penalty is 'elasticnet'. Got (penalty=l1)\n",
            "  warnings.warn(\n"
          ]
        },
        {
          "output_type": "stream",
          "name": "stdout",
          "text": [
            "[CV] END ..........C=10, l1_ratio=1, penalty=l1, solver=saga; total time=  27.7s\n"
          ]
        },
        {
          "output_type": "stream",
          "name": "stderr",
          "text": [
            "/usr/local/lib/python3.10/dist-packages/sklearn/linear_model/_logistic.py:1172: UserWarning: l1_ratio parameter is only used when penalty is 'elasticnet'. Got (penalty=l1)\n",
            "  warnings.warn(\n"
          ]
        },
        {
          "output_type": "stream",
          "name": "stdout",
          "text": [
            "[CV] END ..........C=10, l1_ratio=1, penalty=l1, solver=saga; total time=  15.9s\n"
          ]
        },
        {
          "output_type": "stream",
          "name": "stderr",
          "text": [
            "/usr/local/lib/python3.10/dist-packages/sklearn/linear_model/_logistic.py:1172: UserWarning: l1_ratio parameter is only used when penalty is 'elasticnet'. Got (penalty=l1)\n",
            "  warnings.warn(\n"
          ]
        },
        {
          "output_type": "stream",
          "name": "stdout",
          "text": [
            "[CV] END ..........C=10, l1_ratio=1, penalty=l1, solver=saga; total time=  22.0s\n",
            "[CV] END .........C=10, l1_ratio=1, penalty=l2, solver=lbfgs; total time=   0.0s\n",
            "[CV] END .........C=10, l1_ratio=1, penalty=l2, solver=lbfgs; total time=   0.1s\n"
          ]
        },
        {
          "output_type": "stream",
          "name": "stderr",
          "text": [
            "/usr/local/lib/python3.10/dist-packages/sklearn/linear_model/_logistic.py:1172: UserWarning: l1_ratio parameter is only used when penalty is 'elasticnet'. Got (penalty=l2)\n",
            "  warnings.warn(\n",
            "/usr/local/lib/python3.10/dist-packages/sklearn/linear_model/_logistic.py:1172: UserWarning: l1_ratio parameter is only used when penalty is 'elasticnet'. Got (penalty=l2)\n",
            "  warnings.warn(\n",
            "/usr/local/lib/python3.10/dist-packages/sklearn/linear_model/_logistic.py:1172: UserWarning: l1_ratio parameter is only used when penalty is 'elasticnet'. Got (penalty=l2)\n",
            "  warnings.warn(\n"
          ]
        },
        {
          "output_type": "stream",
          "name": "stdout",
          "text": [
            "[CV] END .........C=10, l1_ratio=1, penalty=l2, solver=lbfgs; total time=   0.1s\n",
            "[CV] END .........C=10, l1_ratio=1, penalty=l2, solver=lbfgs; total time=   0.1s\n",
            "[CV] END .........C=10, l1_ratio=1, penalty=l2, solver=lbfgs; total time=   0.1s\n",
            "[CV] END .....C=10, l1_ratio=1, penalty=l2, solver=liblinear; total time=   0.1s\n"
          ]
        },
        {
          "output_type": "stream",
          "name": "stderr",
          "text": [
            "/usr/local/lib/python3.10/dist-packages/sklearn/linear_model/_logistic.py:1172: UserWarning: l1_ratio parameter is only used when penalty is 'elasticnet'. Got (penalty=l2)\n",
            "  warnings.warn(\n",
            "/usr/local/lib/python3.10/dist-packages/sklearn/linear_model/_logistic.py:1172: UserWarning: l1_ratio parameter is only used when penalty is 'elasticnet'. Got (penalty=l2)\n",
            "  warnings.warn(\n",
            "/usr/local/lib/python3.10/dist-packages/sklearn/linear_model/_logistic.py:1172: UserWarning: l1_ratio parameter is only used when penalty is 'elasticnet'. Got (penalty=l2)\n",
            "  warnings.warn(\n",
            "/usr/local/lib/python3.10/dist-packages/sklearn/linear_model/_logistic.py:1172: UserWarning: l1_ratio parameter is only used when penalty is 'elasticnet'. Got (penalty=l2)\n",
            "  warnings.warn(\n",
            "/usr/local/lib/python3.10/dist-packages/sklearn/linear_model/_logistic.py:1172: UserWarning: l1_ratio parameter is only used when penalty is 'elasticnet'. Got (penalty=l2)\n",
            "  warnings.warn(\n",
            "/usr/local/lib/python3.10/dist-packages/sklearn/linear_model/_logistic.py:1172: UserWarning: l1_ratio parameter is only used when penalty is 'elasticnet'. Got (penalty=l2)\n",
            "  warnings.warn(\n"
          ]
        },
        {
          "output_type": "stream",
          "name": "stdout",
          "text": [
            "[CV] END .....C=10, l1_ratio=1, penalty=l2, solver=liblinear; total time=   0.1s\n",
            "[CV] END .....C=10, l1_ratio=1, penalty=l2, solver=liblinear; total time=   0.1s\n",
            "[CV] END .....C=10, l1_ratio=1, penalty=l2, solver=liblinear; total time=   0.1s\n"
          ]
        },
        {
          "output_type": "stream",
          "name": "stderr",
          "text": [
            "/usr/local/lib/python3.10/dist-packages/sklearn/linear_model/_logistic.py:1172: UserWarning: l1_ratio parameter is only used when penalty is 'elasticnet'. Got (penalty=l2)\n",
            "  warnings.warn(\n",
            "/usr/local/lib/python3.10/dist-packages/sklearn/linear_model/_logistic.py:1172: UserWarning: l1_ratio parameter is only used when penalty is 'elasticnet'. Got (penalty=l2)\n",
            "  warnings.warn(\n"
          ]
        },
        {
          "output_type": "stream",
          "name": "stdout",
          "text": [
            "[CV] END .....C=10, l1_ratio=1, penalty=l2, solver=liblinear; total time=   0.1s\n",
            "[CV] END ..........C=10, l1_ratio=1, penalty=l2, solver=saga; total time=   9.1s\n"
          ]
        },
        {
          "output_type": "stream",
          "name": "stderr",
          "text": [
            "/usr/local/lib/python3.10/dist-packages/sklearn/linear_model/_logistic.py:1172: UserWarning: l1_ratio parameter is only used when penalty is 'elasticnet'. Got (penalty=l2)\n",
            "  warnings.warn(\n"
          ]
        },
        {
          "output_type": "stream",
          "name": "stdout",
          "text": [
            "[CV] END ..........C=10, l1_ratio=1, penalty=l2, solver=saga; total time=  18.6s\n"
          ]
        },
        {
          "output_type": "stream",
          "name": "stderr",
          "text": [
            "/usr/local/lib/python3.10/dist-packages/sklearn/linear_model/_logistic.py:1172: UserWarning: l1_ratio parameter is only used when penalty is 'elasticnet'. Got (penalty=l2)\n",
            "  warnings.warn(\n"
          ]
        },
        {
          "output_type": "stream",
          "name": "stdout",
          "text": [
            "[CV] END ..........C=10, l1_ratio=1, penalty=l2, solver=saga; total time=  19.9s\n"
          ]
        },
        {
          "output_type": "stream",
          "name": "stderr",
          "text": [
            "/usr/local/lib/python3.10/dist-packages/sklearn/linear_model/_logistic.py:1172: UserWarning: l1_ratio parameter is only used when penalty is 'elasticnet'. Got (penalty=l2)\n",
            "  warnings.warn(\n"
          ]
        },
        {
          "output_type": "stream",
          "name": "stdout",
          "text": [
            "[CV] END ..........C=10, l1_ratio=1, penalty=l2, solver=saga; total time=  12.8s\n"
          ]
        },
        {
          "output_type": "stream",
          "name": "stderr",
          "text": [
            "/usr/local/lib/python3.10/dist-packages/sklearn/linear_model/_logistic.py:1172: UserWarning: l1_ratio parameter is only used when penalty is 'elasticnet'. Got (penalty=l2)\n",
            "  warnings.warn(\n"
          ]
        },
        {
          "output_type": "stream",
          "name": "stdout",
          "text": [
            "[CV] END ..........C=10, l1_ratio=1, penalty=l2, solver=saga; total time=  16.5s\n",
            "[CV] END .C=10, l1_ratio=1, penalty=elasticnet, solver=lbfgs; total time=   0.0s\n",
            "[CV] END .C=10, l1_ratio=1, penalty=elasticnet, solver=lbfgs; total time=   0.0s\n",
            "[CV] END .C=10, l1_ratio=1, penalty=elasticnet, solver=lbfgs; total time=   0.0s\n",
            "[CV] END .C=10, l1_ratio=1, penalty=elasticnet, solver=lbfgs; total time=   0.0s\n",
            "[CV] END .C=10, l1_ratio=1, penalty=elasticnet, solver=lbfgs; total time=   0.0s\n",
            "[CV] END C=10, l1_ratio=1, penalty=elasticnet, solver=liblinear; total time=   0.0s\n",
            "[CV] END C=10, l1_ratio=1, penalty=elasticnet, solver=liblinear; total time=   0.0s\n",
            "[CV] END C=10, l1_ratio=1, penalty=elasticnet, solver=liblinear; total time=   0.0s\n",
            "[CV] END C=10, l1_ratio=1, penalty=elasticnet, solver=liblinear; total time=   0.0s\n",
            "[CV] END C=10, l1_ratio=1, penalty=elasticnet, solver=liblinear; total time=   0.0s\n",
            "[CV] END ..C=10, l1_ratio=1, penalty=elasticnet, solver=saga; total time=  12.5s\n",
            "[CV] END ..C=10, l1_ratio=1, penalty=elasticnet, solver=saga; total time=  23.6s\n",
            "[CV] END ..C=10, l1_ratio=1, penalty=elasticnet, solver=saga; total time=  27.7s\n",
            "[CV] END ..C=10, l1_ratio=1, penalty=elasticnet, solver=saga; total time=  15.8s\n",
            "[CV] END ..C=10, l1_ratio=1, penalty=elasticnet, solver=saga; total time=  22.4s\n",
            "[CV] END .......C=10, l1_ratio=1, penalty=none, solver=lbfgs; total time=   0.0s\n",
            "[CV] END .......C=10, l1_ratio=1, penalty=none, solver=lbfgs; total time=   0.0s\n",
            "[CV] END .......C=10, l1_ratio=1, penalty=none, solver=lbfgs; total time=   0.0s\n",
            "[CV] END .......C=10, l1_ratio=1, penalty=none, solver=lbfgs; total time=   0.1s\n"
          ]
        },
        {
          "output_type": "stream",
          "name": "stderr",
          "text": [
            "/usr/local/lib/python3.10/dist-packages/sklearn/linear_model/_logistic.py:1172: UserWarning: l1_ratio parameter is only used when penalty is 'elasticnet'. Got (penalty=none)\n",
            "  warnings.warn(\n",
            "/usr/local/lib/python3.10/dist-packages/sklearn/linear_model/_logistic.py:1183: FutureWarning: `penalty='none'`has been deprecated in 1.2 and will be removed in 1.4. To keep the past behaviour, set `penalty=None`.\n",
            "  warnings.warn(\n",
            "/usr/local/lib/python3.10/dist-packages/sklearn/linear_model/_logistic.py:1193: UserWarning: Setting penalty=None will ignore the C and l1_ratio parameters\n",
            "  warnings.warn(\n",
            "/usr/local/lib/python3.10/dist-packages/sklearn/linear_model/_logistic.py:1172: UserWarning: l1_ratio parameter is only used when penalty is 'elasticnet'. Got (penalty=none)\n",
            "  warnings.warn(\n",
            "/usr/local/lib/python3.10/dist-packages/sklearn/linear_model/_logistic.py:1183: FutureWarning: `penalty='none'`has been deprecated in 1.2 and will be removed in 1.4. To keep the past behaviour, set `penalty=None`.\n",
            "  warnings.warn(\n",
            "/usr/local/lib/python3.10/dist-packages/sklearn/linear_model/_logistic.py:1193: UserWarning: Setting penalty=None will ignore the C and l1_ratio parameters\n",
            "  warnings.warn(\n",
            "/usr/local/lib/python3.10/dist-packages/sklearn/linear_model/_logistic.py:1172: UserWarning: l1_ratio parameter is only used when penalty is 'elasticnet'. Got (penalty=none)\n",
            "  warnings.warn(\n",
            "/usr/local/lib/python3.10/dist-packages/sklearn/linear_model/_logistic.py:1183: FutureWarning: `penalty='none'`has been deprecated in 1.2 and will be removed in 1.4. To keep the past behaviour, set `penalty=None`.\n",
            "  warnings.warn(\n",
            "/usr/local/lib/python3.10/dist-packages/sklearn/linear_model/_logistic.py:1193: UserWarning: Setting penalty=None will ignore the C and l1_ratio parameters\n",
            "  warnings.warn(\n",
            "/usr/local/lib/python3.10/dist-packages/sklearn/linear_model/_logistic.py:1172: UserWarning: l1_ratio parameter is only used when penalty is 'elasticnet'. Got (penalty=none)\n",
            "  warnings.warn(\n",
            "/usr/local/lib/python3.10/dist-packages/sklearn/linear_model/_logistic.py:1183: FutureWarning: `penalty='none'`has been deprecated in 1.2 and will be removed in 1.4. To keep the past behaviour, set `penalty=None`.\n",
            "  warnings.warn(\n",
            "/usr/local/lib/python3.10/dist-packages/sklearn/linear_model/_logistic.py:1193: UserWarning: Setting penalty=None will ignore the C and l1_ratio parameters\n",
            "  warnings.warn(\n",
            "/usr/local/lib/python3.10/dist-packages/sklearn/linear_model/_logistic.py:1172: UserWarning: l1_ratio parameter is only used when penalty is 'elasticnet'. Got (penalty=none)\n",
            "  warnings.warn(\n",
            "/usr/local/lib/python3.10/dist-packages/sklearn/linear_model/_logistic.py:1183: FutureWarning: `penalty='none'`has been deprecated in 1.2 and will be removed in 1.4. To keep the past behaviour, set `penalty=None`.\n",
            "  warnings.warn(\n",
            "/usr/local/lib/python3.10/dist-packages/sklearn/linear_model/_logistic.py:1193: UserWarning: Setting penalty=None will ignore the C and l1_ratio parameters\n",
            "  warnings.warn(\n"
          ]
        },
        {
          "output_type": "stream",
          "name": "stdout",
          "text": [
            "[CV] END .......C=10, l1_ratio=1, penalty=none, solver=lbfgs; total time=   0.1s\n",
            "[CV] END ...C=10, l1_ratio=1, penalty=none, solver=liblinear; total time=   0.0s\n",
            "[CV] END ...C=10, l1_ratio=1, penalty=none, solver=liblinear; total time=   0.0s\n",
            "[CV] END ...C=10, l1_ratio=1, penalty=none, solver=liblinear; total time=   0.0s\n",
            "[CV] END ...C=10, l1_ratio=1, penalty=none, solver=liblinear; total time=   0.0s\n",
            "[CV] END ...C=10, l1_ratio=1, penalty=none, solver=liblinear; total time=   0.0s\n"
          ]
        },
        {
          "output_type": "stream",
          "name": "stderr",
          "text": [
            "/usr/local/lib/python3.10/dist-packages/sklearn/linear_model/_logistic.py:1172: UserWarning: l1_ratio parameter is only used when penalty is 'elasticnet'. Got (penalty=none)\n",
            "  warnings.warn(\n",
            "/usr/local/lib/python3.10/dist-packages/sklearn/linear_model/_logistic.py:1183: FutureWarning: `penalty='none'`has been deprecated in 1.2 and will be removed in 1.4. To keep the past behaviour, set `penalty=None`.\n",
            "  warnings.warn(\n",
            "/usr/local/lib/python3.10/dist-packages/sklearn/linear_model/_logistic.py:1193: UserWarning: Setting penalty=None will ignore the C and l1_ratio parameters\n",
            "  warnings.warn(\n"
          ]
        },
        {
          "output_type": "stream",
          "name": "stdout",
          "text": [
            "[CV] END ........C=10, l1_ratio=1, penalty=none, solver=saga; total time=   9.4s\n"
          ]
        },
        {
          "output_type": "stream",
          "name": "stderr",
          "text": [
            "/usr/local/lib/python3.10/dist-packages/sklearn/linear_model/_logistic.py:1172: UserWarning: l1_ratio parameter is only used when penalty is 'elasticnet'. Got (penalty=none)\n",
            "  warnings.warn(\n",
            "/usr/local/lib/python3.10/dist-packages/sklearn/linear_model/_logistic.py:1183: FutureWarning: `penalty='none'`has been deprecated in 1.2 and will be removed in 1.4. To keep the past behaviour, set `penalty=None`.\n",
            "  warnings.warn(\n",
            "/usr/local/lib/python3.10/dist-packages/sklearn/linear_model/_logistic.py:1193: UserWarning: Setting penalty=None will ignore the C and l1_ratio parameters\n",
            "  warnings.warn(\n"
          ]
        },
        {
          "output_type": "stream",
          "name": "stdout",
          "text": [
            "[CV] END ........C=10, l1_ratio=1, penalty=none, solver=saga; total time=  21.8s\n"
          ]
        },
        {
          "output_type": "stream",
          "name": "stderr",
          "text": [
            "/usr/local/lib/python3.10/dist-packages/sklearn/linear_model/_logistic.py:1172: UserWarning: l1_ratio parameter is only used when penalty is 'elasticnet'. Got (penalty=none)\n",
            "  warnings.warn(\n",
            "/usr/local/lib/python3.10/dist-packages/sklearn/linear_model/_logistic.py:1183: FutureWarning: `penalty='none'`has been deprecated in 1.2 and will be removed in 1.4. To keep the past behaviour, set `penalty=None`.\n",
            "  warnings.warn(\n",
            "/usr/local/lib/python3.10/dist-packages/sklearn/linear_model/_logistic.py:1193: UserWarning: Setting penalty=None will ignore the C and l1_ratio parameters\n",
            "  warnings.warn(\n"
          ]
        },
        {
          "output_type": "stream",
          "name": "stdout",
          "text": [
            "[CV] END ........C=10, l1_ratio=1, penalty=none, solver=saga; total time=  24.4s\n"
          ]
        },
        {
          "output_type": "stream",
          "name": "stderr",
          "text": [
            "/usr/local/lib/python3.10/dist-packages/sklearn/linear_model/_logistic.py:1172: UserWarning: l1_ratio parameter is only used when penalty is 'elasticnet'. Got (penalty=none)\n",
            "  warnings.warn(\n",
            "/usr/local/lib/python3.10/dist-packages/sklearn/linear_model/_logistic.py:1183: FutureWarning: `penalty='none'`has been deprecated in 1.2 and will be removed in 1.4. To keep the past behaviour, set `penalty=None`.\n",
            "  warnings.warn(\n",
            "/usr/local/lib/python3.10/dist-packages/sklearn/linear_model/_logistic.py:1193: UserWarning: Setting penalty=None will ignore the C and l1_ratio parameters\n",
            "  warnings.warn(\n"
          ]
        },
        {
          "output_type": "stream",
          "name": "stdout",
          "text": [
            "[CV] END ........C=10, l1_ratio=1, penalty=none, solver=saga; total time=  14.1s\n"
          ]
        },
        {
          "output_type": "stream",
          "name": "stderr",
          "text": [
            "/usr/local/lib/python3.10/dist-packages/sklearn/linear_model/_logistic.py:1172: UserWarning: l1_ratio parameter is only used when penalty is 'elasticnet'. Got (penalty=none)\n",
            "  warnings.warn(\n",
            "/usr/local/lib/python3.10/dist-packages/sklearn/linear_model/_logistic.py:1183: FutureWarning: `penalty='none'`has been deprecated in 1.2 and will be removed in 1.4. To keep the past behaviour, set `penalty=None`.\n",
            "  warnings.warn(\n",
            "/usr/local/lib/python3.10/dist-packages/sklearn/linear_model/_logistic.py:1193: UserWarning: Setting penalty=None will ignore the C and l1_ratio parameters\n",
            "  warnings.warn(\n"
          ]
        },
        {
          "output_type": "stream",
          "name": "stdout",
          "text": [
            "[CV] END ........C=10, l1_ratio=1, penalty=none, solver=saga; total time=  18.9s\n",
            "[CV] END ........C=100, l1_ratio=0, penalty=l1, solver=lbfgs; total time=   0.0s\n",
            "[CV] END ........C=100, l1_ratio=0, penalty=l1, solver=lbfgs; total time=   0.0s\n",
            "[CV] END ........C=100, l1_ratio=0, penalty=l1, solver=lbfgs; total time=   0.0s\n",
            "[CV] END ........C=100, l1_ratio=0, penalty=l1, solver=lbfgs; total time=   0.0s\n",
            "[CV] END ........C=100, l1_ratio=0, penalty=l1, solver=lbfgs; total time=   0.0s\n",
            "[CV] END ....C=100, l1_ratio=0, penalty=l1, solver=liblinear; total time=   0.0s\n",
            "[CV] END ....C=100, l1_ratio=0, penalty=l1, solver=liblinear; total time=   0.0s\n",
            "[CV] END ....C=100, l1_ratio=0, penalty=l1, solver=liblinear; total time=   0.0s\n",
            "[CV] END ....C=100, l1_ratio=0, penalty=l1, solver=liblinear; total time=   0.0s\n",
            "[CV] END ....C=100, l1_ratio=0, penalty=l1, solver=liblinear; total time=   0.0s\n"
          ]
        },
        {
          "output_type": "stream",
          "name": "stderr",
          "text": [
            "/usr/local/lib/python3.10/dist-packages/sklearn/linear_model/_logistic.py:1172: UserWarning: l1_ratio parameter is only used when penalty is 'elasticnet'. Got (penalty=l1)\n",
            "  warnings.warn(\n",
            "/usr/local/lib/python3.10/dist-packages/sklearn/linear_model/_logistic.py:1172: UserWarning: l1_ratio parameter is only used when penalty is 'elasticnet'. Got (penalty=l1)\n",
            "  warnings.warn(\n",
            "/usr/local/lib/python3.10/dist-packages/sklearn/linear_model/_logistic.py:1172: UserWarning: l1_ratio parameter is only used when penalty is 'elasticnet'. Got (penalty=l1)\n",
            "  warnings.warn(\n",
            "/usr/local/lib/python3.10/dist-packages/sklearn/linear_model/_logistic.py:1172: UserWarning: l1_ratio parameter is only used when penalty is 'elasticnet'. Got (penalty=l1)\n",
            "  warnings.warn(\n",
            "/usr/local/lib/python3.10/dist-packages/sklearn/linear_model/_logistic.py:1172: UserWarning: l1_ratio parameter is only used when penalty is 'elasticnet'. Got (penalty=l1)\n",
            "  warnings.warn(\n",
            "/usr/local/lib/python3.10/dist-packages/sklearn/linear_model/_logistic.py:1172: UserWarning: l1_ratio parameter is only used when penalty is 'elasticnet'. Got (penalty=l1)\n",
            "  warnings.warn(\n"
          ]
        },
        {
          "output_type": "stream",
          "name": "stdout",
          "text": [
            "[CV] END .........C=100, l1_ratio=0, penalty=l1, solver=saga; total time=  13.5s\n"
          ]
        },
        {
          "output_type": "stream",
          "name": "stderr",
          "text": [
            "/usr/local/lib/python3.10/dist-packages/sklearn/linear_model/_logistic.py:1172: UserWarning: l1_ratio parameter is only used when penalty is 'elasticnet'. Got (penalty=l1)\n",
            "  warnings.warn(\n"
          ]
        },
        {
          "output_type": "stream",
          "name": "stdout",
          "text": [
            "[CV] END .........C=100, l1_ratio=0, penalty=l1, solver=saga; total time=  30.8s\n"
          ]
        },
        {
          "output_type": "stream",
          "name": "stderr",
          "text": [
            "/usr/local/lib/python3.10/dist-packages/sklearn/linear_model/_logistic.py:1172: UserWarning: l1_ratio parameter is only used when penalty is 'elasticnet'. Got (penalty=l1)\n",
            "  warnings.warn(\n"
          ]
        },
        {
          "output_type": "stream",
          "name": "stdout",
          "text": [
            "[CV] END .........C=100, l1_ratio=0, penalty=l1, solver=saga; total time=  32.0s\n"
          ]
        },
        {
          "output_type": "stream",
          "name": "stderr",
          "text": [
            "/usr/local/lib/python3.10/dist-packages/sklearn/linear_model/_logistic.py:1172: UserWarning: l1_ratio parameter is only used when penalty is 'elasticnet'. Got (penalty=l1)\n",
            "  warnings.warn(\n"
          ]
        },
        {
          "output_type": "stream",
          "name": "stdout",
          "text": [
            "[CV] END .........C=100, l1_ratio=0, penalty=l1, solver=saga; total time=  19.0s\n"
          ]
        },
        {
          "output_type": "stream",
          "name": "stderr",
          "text": [
            "/usr/local/lib/python3.10/dist-packages/sklearn/linear_model/_logistic.py:1172: UserWarning: l1_ratio parameter is only used when penalty is 'elasticnet'. Got (penalty=l1)\n",
            "  warnings.warn(\n"
          ]
        },
        {
          "output_type": "stream",
          "name": "stdout",
          "text": [
            "[CV] END .........C=100, l1_ratio=0, penalty=l1, solver=saga; total time=  27.8s\n",
            "[CV] END ........C=100, l1_ratio=0, penalty=l2, solver=lbfgs; total time=   0.0s\n",
            "[CV] END ........C=100, l1_ratio=0, penalty=l2, solver=lbfgs; total time=   0.1s\n"
          ]
        },
        {
          "output_type": "stream",
          "name": "stderr",
          "text": [
            "/usr/local/lib/python3.10/dist-packages/sklearn/linear_model/_logistic.py:1172: UserWarning: l1_ratio parameter is only used when penalty is 'elasticnet'. Got (penalty=l2)\n",
            "  warnings.warn(\n",
            "/usr/local/lib/python3.10/dist-packages/sklearn/linear_model/_logistic.py:1172: UserWarning: l1_ratio parameter is only used when penalty is 'elasticnet'. Got (penalty=l2)\n",
            "  warnings.warn(\n",
            "/usr/local/lib/python3.10/dist-packages/sklearn/linear_model/_logistic.py:1172: UserWarning: l1_ratio parameter is only used when penalty is 'elasticnet'. Got (penalty=l2)\n",
            "  warnings.warn(\n"
          ]
        },
        {
          "output_type": "stream",
          "name": "stdout",
          "text": [
            "[CV] END ........C=100, l1_ratio=0, penalty=l2, solver=lbfgs; total time=   0.2s\n",
            "[CV] END ........C=100, l1_ratio=0, penalty=l2, solver=lbfgs; total time=   0.1s\n",
            "[CV] END ........C=100, l1_ratio=0, penalty=l2, solver=lbfgs; total time=   0.1s\n"
          ]
        },
        {
          "output_type": "stream",
          "name": "stderr",
          "text": [
            "/usr/local/lib/python3.10/dist-packages/sklearn/linear_model/_logistic.py:1172: UserWarning: l1_ratio parameter is only used when penalty is 'elasticnet'. Got (penalty=l2)\n",
            "  warnings.warn(\n",
            "/usr/local/lib/python3.10/dist-packages/sklearn/linear_model/_logistic.py:1172: UserWarning: l1_ratio parameter is only used when penalty is 'elasticnet'. Got (penalty=l2)\n",
            "  warnings.warn(\n",
            "/usr/local/lib/python3.10/dist-packages/sklearn/linear_model/_logistic.py:1172: UserWarning: l1_ratio parameter is only used when penalty is 'elasticnet'. Got (penalty=l2)\n",
            "  warnings.warn(\n"
          ]
        },
        {
          "output_type": "stream",
          "name": "stdout",
          "text": [
            "[CV] END ....C=100, l1_ratio=0, penalty=l2, solver=liblinear; total time=   0.1s\n",
            "[CV] END ....C=100, l1_ratio=0, penalty=l2, solver=liblinear; total time=   0.1s\n",
            "[CV] END ....C=100, l1_ratio=0, penalty=l2, solver=liblinear; total time=   0.1s\n"
          ]
        },
        {
          "output_type": "stream",
          "name": "stderr",
          "text": [
            "/usr/local/lib/python3.10/dist-packages/sklearn/linear_model/_logistic.py:1172: UserWarning: l1_ratio parameter is only used when penalty is 'elasticnet'. Got (penalty=l2)\n",
            "  warnings.warn(\n",
            "/usr/local/lib/python3.10/dist-packages/sklearn/linear_model/_logistic.py:1172: UserWarning: l1_ratio parameter is only used when penalty is 'elasticnet'. Got (penalty=l2)\n",
            "  warnings.warn(\n",
            "/usr/local/lib/python3.10/dist-packages/sklearn/linear_model/_logistic.py:1172: UserWarning: l1_ratio parameter is only used when penalty is 'elasticnet'. Got (penalty=l2)\n",
            "  warnings.warn(\n"
          ]
        },
        {
          "output_type": "stream",
          "name": "stdout",
          "text": [
            "[CV] END ....C=100, l1_ratio=0, penalty=l2, solver=liblinear; total time=   0.1s\n",
            "[CV] END ....C=100, l1_ratio=0, penalty=l2, solver=liblinear; total time=   0.1s\n"
          ]
        },
        {
          "output_type": "stream",
          "name": "stderr",
          "text": [
            "/usr/local/lib/python3.10/dist-packages/sklearn/linear_model/_logistic.py:1172: UserWarning: l1_ratio parameter is only used when penalty is 'elasticnet'. Got (penalty=l2)\n",
            "  warnings.warn(\n",
            "/usr/local/lib/python3.10/dist-packages/sklearn/linear_model/_logistic.py:1172: UserWarning: l1_ratio parameter is only used when penalty is 'elasticnet'. Got (penalty=l2)\n",
            "  warnings.warn(\n"
          ]
        },
        {
          "output_type": "stream",
          "name": "stdout",
          "text": [
            "[CV] END .........C=100, l1_ratio=0, penalty=l2, solver=saga; total time=   7.5s\n"
          ]
        },
        {
          "output_type": "stream",
          "name": "stderr",
          "text": [
            "/usr/local/lib/python3.10/dist-packages/sklearn/linear_model/_logistic.py:1172: UserWarning: l1_ratio parameter is only used when penalty is 'elasticnet'. Got (penalty=l2)\n",
            "  warnings.warn(\n"
          ]
        },
        {
          "output_type": "stream",
          "name": "stdout",
          "text": [
            "[CV] END .........C=100, l1_ratio=0, penalty=l2, solver=saga; total time=  23.3s\n"
          ]
        },
        {
          "output_type": "stream",
          "name": "stderr",
          "text": [
            "/usr/local/lib/python3.10/dist-packages/sklearn/linear_model/_logistic.py:1172: UserWarning: l1_ratio parameter is only used when penalty is 'elasticnet'. Got (penalty=l2)\n",
            "  warnings.warn(\n"
          ]
        },
        {
          "output_type": "stream",
          "name": "stdout",
          "text": [
            "[CV] END .........C=100, l1_ratio=0, penalty=l2, solver=saga; total time=  21.8s\n"
          ]
        },
        {
          "output_type": "stream",
          "name": "stderr",
          "text": [
            "/usr/local/lib/python3.10/dist-packages/sklearn/linear_model/_logistic.py:1172: UserWarning: l1_ratio parameter is only used when penalty is 'elasticnet'. Got (penalty=l2)\n",
            "  warnings.warn(\n"
          ]
        },
        {
          "output_type": "stream",
          "name": "stdout",
          "text": [
            "[CV] END .........C=100, l1_ratio=0, penalty=l2, solver=saga; total time=  13.9s\n"
          ]
        },
        {
          "output_type": "stream",
          "name": "stderr",
          "text": [
            "/usr/local/lib/python3.10/dist-packages/sklearn/linear_model/_logistic.py:1172: UserWarning: l1_ratio parameter is only used when penalty is 'elasticnet'. Got (penalty=l2)\n",
            "  warnings.warn(\n"
          ]
        },
        {
          "output_type": "stream",
          "name": "stdout",
          "text": [
            "[CV] END .........C=100, l1_ratio=0, penalty=l2, solver=saga; total time=  18.5s\n",
            "[CV] END C=100, l1_ratio=0, penalty=elasticnet, solver=lbfgs; total time=   0.0s\n",
            "[CV] END C=100, l1_ratio=0, penalty=elasticnet, solver=lbfgs; total time=   0.0s\n",
            "[CV] END C=100, l1_ratio=0, penalty=elasticnet, solver=lbfgs; total time=   0.0s\n",
            "[CV] END C=100, l1_ratio=0, penalty=elasticnet, solver=lbfgs; total time=   0.0s\n",
            "[CV] END C=100, l1_ratio=0, penalty=elasticnet, solver=lbfgs; total time=   0.0s\n",
            "[CV] END C=100, l1_ratio=0, penalty=elasticnet, solver=liblinear; total time=   0.0s\n",
            "[CV] END C=100, l1_ratio=0, penalty=elasticnet, solver=liblinear; total time=   0.0s\n",
            "[CV] END C=100, l1_ratio=0, penalty=elasticnet, solver=liblinear; total time=   0.0s\n",
            "[CV] END C=100, l1_ratio=0, penalty=elasticnet, solver=liblinear; total time=   0.0s\n",
            "[CV] END C=100, l1_ratio=0, penalty=elasticnet, solver=liblinear; total time=   0.0s\n",
            "[CV] END .C=100, l1_ratio=0, penalty=elasticnet, solver=saga; total time=  10.0s\n",
            "[CV] END .C=100, l1_ratio=0, penalty=elasticnet, solver=saga; total time=  20.9s\n",
            "[CV] END .C=100, l1_ratio=0, penalty=elasticnet, solver=saga; total time=  24.1s\n",
            "[CV] END .C=100, l1_ratio=0, penalty=elasticnet, solver=saga; total time=  12.4s\n",
            "[CV] END .C=100, l1_ratio=0, penalty=elasticnet, solver=saga; total time=  20.1s\n",
            "[CV] END ......C=100, l1_ratio=0, penalty=none, solver=lbfgs; total time=   0.0s\n",
            "[CV] END ......C=100, l1_ratio=0, penalty=none, solver=lbfgs; total time=   0.0s\n",
            "[CV] END ......C=100, l1_ratio=0, penalty=none, solver=lbfgs; total time=   0.0s\n",
            "[CV] END ......C=100, l1_ratio=0, penalty=none, solver=lbfgs; total time=   0.0s\n",
            "[CV] END ......C=100, l1_ratio=0, penalty=none, solver=lbfgs; total time=   0.0s\n",
            "[CV] END ..C=100, l1_ratio=0, penalty=none, solver=liblinear; total time=   0.0s\n",
            "[CV] END ..C=100, l1_ratio=0, penalty=none, solver=liblinear; total time=   0.0s\n",
            "[CV] END ..C=100, l1_ratio=0, penalty=none, solver=liblinear; total time=   0.0s\n",
            "[CV] END ..C=100, l1_ratio=0, penalty=none, solver=liblinear; total time=   0.0s\n",
            "[CV] END ..C=100, l1_ratio=0, penalty=none, solver=liblinear; total time=   0.0s\n"
          ]
        },
        {
          "output_type": "stream",
          "name": "stderr",
          "text": [
            "/usr/local/lib/python3.10/dist-packages/sklearn/linear_model/_logistic.py:1172: UserWarning: l1_ratio parameter is only used when penalty is 'elasticnet'. Got (penalty=none)\n",
            "  warnings.warn(\n",
            "/usr/local/lib/python3.10/dist-packages/sklearn/linear_model/_logistic.py:1183: FutureWarning: `penalty='none'`has been deprecated in 1.2 and will be removed in 1.4. To keep the past behaviour, set `penalty=None`.\n",
            "  warnings.warn(\n",
            "/usr/local/lib/python3.10/dist-packages/sklearn/linear_model/_logistic.py:1193: UserWarning: Setting penalty=None will ignore the C and l1_ratio parameters\n",
            "  warnings.warn(\n",
            "/usr/local/lib/python3.10/dist-packages/sklearn/linear_model/_logistic.py:1172: UserWarning: l1_ratio parameter is only used when penalty is 'elasticnet'. Got (penalty=none)\n",
            "  warnings.warn(\n",
            "/usr/local/lib/python3.10/dist-packages/sklearn/linear_model/_logistic.py:1183: FutureWarning: `penalty='none'`has been deprecated in 1.2 and will be removed in 1.4. To keep the past behaviour, set `penalty=None`.\n",
            "  warnings.warn(\n",
            "/usr/local/lib/python3.10/dist-packages/sklearn/linear_model/_logistic.py:1193: UserWarning: Setting penalty=None will ignore the C and l1_ratio parameters\n",
            "  warnings.warn(\n",
            "/usr/local/lib/python3.10/dist-packages/sklearn/linear_model/_logistic.py:1172: UserWarning: l1_ratio parameter is only used when penalty is 'elasticnet'. Got (penalty=none)\n",
            "  warnings.warn(\n",
            "/usr/local/lib/python3.10/dist-packages/sklearn/linear_model/_logistic.py:1183: FutureWarning: `penalty='none'`has been deprecated in 1.2 and will be removed in 1.4. To keep the past behaviour, set `penalty=None`.\n",
            "  warnings.warn(\n",
            "/usr/local/lib/python3.10/dist-packages/sklearn/linear_model/_logistic.py:1193: UserWarning: Setting penalty=None will ignore the C and l1_ratio parameters\n",
            "  warnings.warn(\n",
            "/usr/local/lib/python3.10/dist-packages/sklearn/linear_model/_logistic.py:1172: UserWarning: l1_ratio parameter is only used when penalty is 'elasticnet'. Got (penalty=none)\n",
            "  warnings.warn(\n",
            "/usr/local/lib/python3.10/dist-packages/sklearn/linear_model/_logistic.py:1183: FutureWarning: `penalty='none'`has been deprecated in 1.2 and will be removed in 1.4. To keep the past behaviour, set `penalty=None`.\n",
            "  warnings.warn(\n",
            "/usr/local/lib/python3.10/dist-packages/sklearn/linear_model/_logistic.py:1193: UserWarning: Setting penalty=None will ignore the C and l1_ratio parameters\n",
            "  warnings.warn(\n",
            "/usr/local/lib/python3.10/dist-packages/sklearn/linear_model/_logistic.py:1172: UserWarning: l1_ratio parameter is only used when penalty is 'elasticnet'. Got (penalty=none)\n",
            "  warnings.warn(\n",
            "/usr/local/lib/python3.10/dist-packages/sklearn/linear_model/_logistic.py:1183: FutureWarning: `penalty='none'`has been deprecated in 1.2 and will be removed in 1.4. To keep the past behaviour, set `penalty=None`.\n",
            "  warnings.warn(\n",
            "/usr/local/lib/python3.10/dist-packages/sklearn/linear_model/_logistic.py:1193: UserWarning: Setting penalty=None will ignore the C and l1_ratio parameters\n",
            "  warnings.warn(\n",
            "/usr/local/lib/python3.10/dist-packages/sklearn/linear_model/_logistic.py:1172: UserWarning: l1_ratio parameter is only used when penalty is 'elasticnet'. Got (penalty=none)\n",
            "  warnings.warn(\n",
            "/usr/local/lib/python3.10/dist-packages/sklearn/linear_model/_logistic.py:1183: FutureWarning: `penalty='none'`has been deprecated in 1.2 and will be removed in 1.4. To keep the past behaviour, set `penalty=None`.\n",
            "  warnings.warn(\n",
            "/usr/local/lib/python3.10/dist-packages/sklearn/linear_model/_logistic.py:1193: UserWarning: Setting penalty=None will ignore the C and l1_ratio parameters\n",
            "  warnings.warn(\n"
          ]
        },
        {
          "output_type": "stream",
          "name": "stdout",
          "text": [
            "[CV] END .......C=100, l1_ratio=0, penalty=none, solver=saga; total time=   7.7s\n"
          ]
        },
        {
          "output_type": "stream",
          "name": "stderr",
          "text": [
            "/usr/local/lib/python3.10/dist-packages/sklearn/linear_model/_logistic.py:1172: UserWarning: l1_ratio parameter is only used when penalty is 'elasticnet'. Got (penalty=none)\n",
            "  warnings.warn(\n",
            "/usr/local/lib/python3.10/dist-packages/sklearn/linear_model/_logistic.py:1183: FutureWarning: `penalty='none'`has been deprecated in 1.2 and will be removed in 1.4. To keep the past behaviour, set `penalty=None`.\n",
            "  warnings.warn(\n",
            "/usr/local/lib/python3.10/dist-packages/sklearn/linear_model/_logistic.py:1193: UserWarning: Setting penalty=None will ignore the C and l1_ratio parameters\n",
            "  warnings.warn(\n"
          ]
        },
        {
          "output_type": "stream",
          "name": "stdout",
          "text": [
            "[CV] END .......C=100, l1_ratio=0, penalty=none, solver=saga; total time=  23.9s\n"
          ]
        },
        {
          "output_type": "stream",
          "name": "stderr",
          "text": [
            "/usr/local/lib/python3.10/dist-packages/sklearn/linear_model/_logistic.py:1172: UserWarning: l1_ratio parameter is only used when penalty is 'elasticnet'. Got (penalty=none)\n",
            "  warnings.warn(\n",
            "/usr/local/lib/python3.10/dist-packages/sklearn/linear_model/_logistic.py:1183: FutureWarning: `penalty='none'`has been deprecated in 1.2 and will be removed in 1.4. To keep the past behaviour, set `penalty=None`.\n",
            "  warnings.warn(\n",
            "/usr/local/lib/python3.10/dist-packages/sklearn/linear_model/_logistic.py:1193: UserWarning: Setting penalty=None will ignore the C and l1_ratio parameters\n",
            "  warnings.warn(\n"
          ]
        },
        {
          "output_type": "stream",
          "name": "stdout",
          "text": [
            "[CV] END .......C=100, l1_ratio=0, penalty=none, solver=saga; total time=  22.3s\n"
          ]
        },
        {
          "output_type": "stream",
          "name": "stderr",
          "text": [
            "/usr/local/lib/python3.10/dist-packages/sklearn/linear_model/_logistic.py:1172: UserWarning: l1_ratio parameter is only used when penalty is 'elasticnet'. Got (penalty=none)\n",
            "  warnings.warn(\n",
            "/usr/local/lib/python3.10/dist-packages/sklearn/linear_model/_logistic.py:1183: FutureWarning: `penalty='none'`has been deprecated in 1.2 and will be removed in 1.4. To keep the past behaviour, set `penalty=None`.\n",
            "  warnings.warn(\n",
            "/usr/local/lib/python3.10/dist-packages/sklearn/linear_model/_logistic.py:1193: UserWarning: Setting penalty=None will ignore the C and l1_ratio parameters\n",
            "  warnings.warn(\n"
          ]
        },
        {
          "output_type": "stream",
          "name": "stdout",
          "text": [
            "[CV] END .......C=100, l1_ratio=0, penalty=none, solver=saga; total time=  14.1s\n"
          ]
        },
        {
          "output_type": "stream",
          "name": "stderr",
          "text": [
            "/usr/local/lib/python3.10/dist-packages/sklearn/linear_model/_logistic.py:1172: UserWarning: l1_ratio parameter is only used when penalty is 'elasticnet'. Got (penalty=none)\n",
            "  warnings.warn(\n",
            "/usr/local/lib/python3.10/dist-packages/sklearn/linear_model/_logistic.py:1183: FutureWarning: `penalty='none'`has been deprecated in 1.2 and will be removed in 1.4. To keep the past behaviour, set `penalty=None`.\n",
            "  warnings.warn(\n",
            "/usr/local/lib/python3.10/dist-packages/sklearn/linear_model/_logistic.py:1193: UserWarning: Setting penalty=None will ignore the C and l1_ratio parameters\n",
            "  warnings.warn(\n"
          ]
        },
        {
          "output_type": "stream",
          "name": "stdout",
          "text": [
            "[CV] END .......C=100, l1_ratio=0, penalty=none, solver=saga; total time=  18.9s\n",
            "[CV] END ......C=100, l1_ratio=0.5, penalty=l1, solver=lbfgs; total time=   0.0s\n",
            "[CV] END ......C=100, l1_ratio=0.5, penalty=l1, solver=lbfgs; total time=   0.0s\n",
            "[CV] END ......C=100, l1_ratio=0.5, penalty=l1, solver=lbfgs; total time=   0.0s\n",
            "[CV] END ......C=100, l1_ratio=0.5, penalty=l1, solver=lbfgs; total time=   0.0s\n",
            "[CV] END ......C=100, l1_ratio=0.5, penalty=l1, solver=lbfgs; total time=   0.0s\n",
            "[CV] END ..C=100, l1_ratio=0.5, penalty=l1, solver=liblinear; total time=   0.0s\n",
            "[CV] END ..C=100, l1_ratio=0.5, penalty=l1, solver=liblinear; total time=   0.0s\n",
            "[CV] END ..C=100, l1_ratio=0.5, penalty=l1, solver=liblinear; total time=   0.0s\n",
            "[CV] END ..C=100, l1_ratio=0.5, penalty=l1, solver=liblinear; total time=   0.0s\n",
            "[CV] END ..C=100, l1_ratio=0.5, penalty=l1, solver=liblinear; total time=   0.0s\n"
          ]
        },
        {
          "output_type": "stream",
          "name": "stderr",
          "text": [
            "/usr/local/lib/python3.10/dist-packages/sklearn/linear_model/_logistic.py:1172: UserWarning: l1_ratio parameter is only used when penalty is 'elasticnet'. Got (penalty=l1)\n",
            "  warnings.warn(\n",
            "/usr/local/lib/python3.10/dist-packages/sklearn/linear_model/_logistic.py:1172: UserWarning: l1_ratio parameter is only used when penalty is 'elasticnet'. Got (penalty=l1)\n",
            "  warnings.warn(\n",
            "/usr/local/lib/python3.10/dist-packages/sklearn/linear_model/_logistic.py:1172: UserWarning: l1_ratio parameter is only used when penalty is 'elasticnet'. Got (penalty=l1)\n",
            "  warnings.warn(\n",
            "/usr/local/lib/python3.10/dist-packages/sklearn/linear_model/_logistic.py:1172: UserWarning: l1_ratio parameter is only used when penalty is 'elasticnet'. Got (penalty=l1)\n",
            "  warnings.warn(\n",
            "/usr/local/lib/python3.10/dist-packages/sklearn/linear_model/_logistic.py:1172: UserWarning: l1_ratio parameter is only used when penalty is 'elasticnet'. Got (penalty=l1)\n",
            "  warnings.warn(\n",
            "/usr/local/lib/python3.10/dist-packages/sklearn/linear_model/_logistic.py:1172: UserWarning: l1_ratio parameter is only used when penalty is 'elasticnet'. Got (penalty=l1)\n",
            "  warnings.warn(\n"
          ]
        },
        {
          "output_type": "stream",
          "name": "stdout",
          "text": [
            "[CV] END .......C=100, l1_ratio=0.5, penalty=l1, solver=saga; total time=  13.4s\n"
          ]
        },
        {
          "output_type": "stream",
          "name": "stderr",
          "text": [
            "/usr/local/lib/python3.10/dist-packages/sklearn/linear_model/_logistic.py:1172: UserWarning: l1_ratio parameter is only used when penalty is 'elasticnet'. Got (penalty=l1)\n",
            "  warnings.warn(\n"
          ]
        },
        {
          "output_type": "stream",
          "name": "stdout",
          "text": [
            "[CV] END .......C=100, l1_ratio=0.5, penalty=l1, solver=saga; total time=  30.9s\n"
          ]
        },
        {
          "output_type": "stream",
          "name": "stderr",
          "text": [
            "/usr/local/lib/python3.10/dist-packages/sklearn/linear_model/_logistic.py:1172: UserWarning: l1_ratio parameter is only used when penalty is 'elasticnet'. Got (penalty=l1)\n",
            "  warnings.warn(\n"
          ]
        },
        {
          "output_type": "stream",
          "name": "stdout",
          "text": [
            "[CV] END .......C=100, l1_ratio=0.5, penalty=l1, solver=saga; total time=  32.0s\n"
          ]
        },
        {
          "output_type": "stream",
          "name": "stderr",
          "text": [
            "/usr/local/lib/python3.10/dist-packages/sklearn/linear_model/_logistic.py:1172: UserWarning: l1_ratio parameter is only used when penalty is 'elasticnet'. Got (penalty=l1)\n",
            "  warnings.warn(\n"
          ]
        },
        {
          "output_type": "stream",
          "name": "stdout",
          "text": [
            "[CV] END .......C=100, l1_ratio=0.5, penalty=l1, solver=saga; total time=  18.8s\n"
          ]
        },
        {
          "output_type": "stream",
          "name": "stderr",
          "text": [
            "/usr/local/lib/python3.10/dist-packages/sklearn/linear_model/_logistic.py:1172: UserWarning: l1_ratio parameter is only used when penalty is 'elasticnet'. Got (penalty=l1)\n",
            "  warnings.warn(\n"
          ]
        },
        {
          "output_type": "stream",
          "name": "stdout",
          "text": [
            "[CV] END .......C=100, l1_ratio=0.5, penalty=l1, solver=saga; total time=  27.6s\n",
            "[CV] END ......C=100, l1_ratio=0.5, penalty=l2, solver=lbfgs; total time=   0.0s\n",
            "[CV] END ......C=100, l1_ratio=0.5, penalty=l2, solver=lbfgs; total time=   0.1s\n"
          ]
        },
        {
          "output_type": "stream",
          "name": "stderr",
          "text": [
            "/usr/local/lib/python3.10/dist-packages/sklearn/linear_model/_logistic.py:1172: UserWarning: l1_ratio parameter is only used when penalty is 'elasticnet'. Got (penalty=l2)\n",
            "  warnings.warn(\n",
            "/usr/local/lib/python3.10/dist-packages/sklearn/linear_model/_logistic.py:1172: UserWarning: l1_ratio parameter is only used when penalty is 'elasticnet'. Got (penalty=l2)\n",
            "  warnings.warn(\n",
            "/usr/local/lib/python3.10/dist-packages/sklearn/linear_model/_logistic.py:1172: UserWarning: l1_ratio parameter is only used when penalty is 'elasticnet'. Got (penalty=l2)\n",
            "  warnings.warn(\n"
          ]
        },
        {
          "output_type": "stream",
          "name": "stdout",
          "text": [
            "[CV] END ......C=100, l1_ratio=0.5, penalty=l2, solver=lbfgs; total time=   0.2s\n",
            "[CV] END ......C=100, l1_ratio=0.5, penalty=l2, solver=lbfgs; total time=   0.1s\n",
            "[CV] END ......C=100, l1_ratio=0.5, penalty=l2, solver=lbfgs; total time=   0.1s\n"
          ]
        },
        {
          "output_type": "stream",
          "name": "stderr",
          "text": [
            "/usr/local/lib/python3.10/dist-packages/sklearn/linear_model/_logistic.py:1172: UserWarning: l1_ratio parameter is only used when penalty is 'elasticnet'. Got (penalty=l2)\n",
            "  warnings.warn(\n",
            "/usr/local/lib/python3.10/dist-packages/sklearn/linear_model/_logistic.py:1172: UserWarning: l1_ratio parameter is only used when penalty is 'elasticnet'. Got (penalty=l2)\n",
            "  warnings.warn(\n",
            "/usr/local/lib/python3.10/dist-packages/sklearn/linear_model/_logistic.py:1172: UserWarning: l1_ratio parameter is only used when penalty is 'elasticnet'. Got (penalty=l2)\n",
            "  warnings.warn(\n"
          ]
        },
        {
          "output_type": "stream",
          "name": "stdout",
          "text": [
            "[CV] END ..C=100, l1_ratio=0.5, penalty=l2, solver=liblinear; total time=   0.1s\n",
            "[CV] END ..C=100, l1_ratio=0.5, penalty=l2, solver=liblinear; total time=   0.1s\n",
            "[CV] END ..C=100, l1_ratio=0.5, penalty=l2, solver=liblinear; total time=   0.1s\n"
          ]
        },
        {
          "output_type": "stream",
          "name": "stderr",
          "text": [
            "/usr/local/lib/python3.10/dist-packages/sklearn/linear_model/_logistic.py:1172: UserWarning: l1_ratio parameter is only used when penalty is 'elasticnet'. Got (penalty=l2)\n",
            "  warnings.warn(\n",
            "/usr/local/lib/python3.10/dist-packages/sklearn/linear_model/_logistic.py:1172: UserWarning: l1_ratio parameter is only used when penalty is 'elasticnet'. Got (penalty=l2)\n",
            "  warnings.warn(\n",
            "/usr/local/lib/python3.10/dist-packages/sklearn/linear_model/_logistic.py:1172: UserWarning: l1_ratio parameter is only used when penalty is 'elasticnet'. Got (penalty=l2)\n",
            "  warnings.warn(\n"
          ]
        },
        {
          "output_type": "stream",
          "name": "stdout",
          "text": [
            "[CV] END ..C=100, l1_ratio=0.5, penalty=l2, solver=liblinear; total time=   0.1s\n",
            "[CV] END ..C=100, l1_ratio=0.5, penalty=l2, solver=liblinear; total time=   0.1s\n"
          ]
        },
        {
          "output_type": "stream",
          "name": "stderr",
          "text": [
            "/usr/local/lib/python3.10/dist-packages/sklearn/linear_model/_logistic.py:1172: UserWarning: l1_ratio parameter is only used when penalty is 'elasticnet'. Got (penalty=l2)\n",
            "  warnings.warn(\n",
            "/usr/local/lib/python3.10/dist-packages/sklearn/linear_model/_logistic.py:1172: UserWarning: l1_ratio parameter is only used when penalty is 'elasticnet'. Got (penalty=l2)\n",
            "  warnings.warn(\n"
          ]
        },
        {
          "output_type": "stream",
          "name": "stdout",
          "text": [
            "[CV] END .......C=100, l1_ratio=0.5, penalty=l2, solver=saga; total time=   9.4s\n"
          ]
        },
        {
          "output_type": "stream",
          "name": "stderr",
          "text": [
            "/usr/local/lib/python3.10/dist-packages/sklearn/linear_model/_logistic.py:1172: UserWarning: l1_ratio parameter is only used when penalty is 'elasticnet'. Got (penalty=l2)\n",
            "  warnings.warn(\n"
          ]
        },
        {
          "output_type": "stream",
          "name": "stdout",
          "text": [
            "[CV] END .......C=100, l1_ratio=0.5, penalty=l2, solver=saga; total time=  21.3s\n"
          ]
        },
        {
          "output_type": "stream",
          "name": "stderr",
          "text": [
            "/usr/local/lib/python3.10/dist-packages/sklearn/linear_model/_logistic.py:1172: UserWarning: l1_ratio parameter is only used when penalty is 'elasticnet'. Got (penalty=l2)\n",
            "  warnings.warn(\n"
          ]
        },
        {
          "output_type": "stream",
          "name": "stdout",
          "text": [
            "[CV] END .......C=100, l1_ratio=0.5, penalty=l2, solver=saga; total time=  22.5s\n"
          ]
        },
        {
          "output_type": "stream",
          "name": "stderr",
          "text": [
            "/usr/local/lib/python3.10/dist-packages/sklearn/linear_model/_logistic.py:1172: UserWarning: l1_ratio parameter is only used when penalty is 'elasticnet'. Got (penalty=l2)\n",
            "  warnings.warn(\n"
          ]
        },
        {
          "output_type": "stream",
          "name": "stdout",
          "text": [
            "[CV] END .......C=100, l1_ratio=0.5, penalty=l2, solver=saga; total time=  13.5s\n"
          ]
        },
        {
          "output_type": "stream",
          "name": "stderr",
          "text": [
            "/usr/local/lib/python3.10/dist-packages/sklearn/linear_model/_logistic.py:1172: UserWarning: l1_ratio parameter is only used when penalty is 'elasticnet'. Got (penalty=l2)\n",
            "  warnings.warn(\n"
          ]
        },
        {
          "output_type": "stream",
          "name": "stdout",
          "text": [
            "[CV] END .......C=100, l1_ratio=0.5, penalty=l2, solver=saga; total time=  20.0s\n",
            "[CV] END C=100, l1_ratio=0.5, penalty=elasticnet, solver=lbfgs; total time=   0.0s\n",
            "[CV] END C=100, l1_ratio=0.5, penalty=elasticnet, solver=lbfgs; total time=   0.0s\n",
            "[CV] END C=100, l1_ratio=0.5, penalty=elasticnet, solver=lbfgs; total time=   0.0s\n",
            "[CV] END C=100, l1_ratio=0.5, penalty=elasticnet, solver=lbfgs; total time=   0.0s\n",
            "[CV] END C=100, l1_ratio=0.5, penalty=elasticnet, solver=lbfgs; total time=   0.0s\n",
            "[CV] END C=100, l1_ratio=0.5, penalty=elasticnet, solver=liblinear; total time=   0.0s\n",
            "[CV] END C=100, l1_ratio=0.5, penalty=elasticnet, solver=liblinear; total time=   0.0s\n",
            "[CV] END C=100, l1_ratio=0.5, penalty=elasticnet, solver=liblinear; total time=   0.0s\n",
            "[CV] END C=100, l1_ratio=0.5, penalty=elasticnet, solver=liblinear; total time=   0.0s\n",
            "[CV] END C=100, l1_ratio=0.5, penalty=elasticnet, solver=liblinear; total time=   0.0s\n",
            "[CV] END C=100, l1_ratio=0.5, penalty=elasticnet, solver=saga; total time=  12.6s\n",
            "[CV] END C=100, l1_ratio=0.5, penalty=elasticnet, solver=saga; total time=  31.8s\n",
            "[CV] END C=100, l1_ratio=0.5, penalty=elasticnet, solver=saga; total time=  34.1s\n",
            "[CV] END C=100, l1_ratio=0.5, penalty=elasticnet, solver=saga; total time=  21.8s\n",
            "[CV] END C=100, l1_ratio=0.5, penalty=elasticnet, solver=saga; total time=  26.4s\n",
            "[CV] END ....C=100, l1_ratio=0.5, penalty=none, solver=lbfgs; total time=   0.0s\n",
            "[CV] END ....C=100, l1_ratio=0.5, penalty=none, solver=lbfgs; total time=   0.0s\n",
            "[CV] END ....C=100, l1_ratio=0.5, penalty=none, solver=lbfgs; total time=   0.0s\n"
          ]
        },
        {
          "output_type": "stream",
          "name": "stderr",
          "text": [
            "/usr/local/lib/python3.10/dist-packages/sklearn/linear_model/_logistic.py:1172: UserWarning: l1_ratio parameter is only used when penalty is 'elasticnet'. Got (penalty=none)\n",
            "  warnings.warn(\n",
            "/usr/local/lib/python3.10/dist-packages/sklearn/linear_model/_logistic.py:1183: FutureWarning: `penalty='none'`has been deprecated in 1.2 and will be removed in 1.4. To keep the past behaviour, set `penalty=None`.\n",
            "  warnings.warn(\n",
            "/usr/local/lib/python3.10/dist-packages/sklearn/linear_model/_logistic.py:1193: UserWarning: Setting penalty=None will ignore the C and l1_ratio parameters\n",
            "  warnings.warn(\n",
            "/usr/local/lib/python3.10/dist-packages/sklearn/linear_model/_logistic.py:1172: UserWarning: l1_ratio parameter is only used when penalty is 'elasticnet'. Got (penalty=none)\n",
            "  warnings.warn(\n",
            "/usr/local/lib/python3.10/dist-packages/sklearn/linear_model/_logistic.py:1183: FutureWarning: `penalty='none'`has been deprecated in 1.2 and will be removed in 1.4. To keep the past behaviour, set `penalty=None`.\n",
            "  warnings.warn(\n",
            "/usr/local/lib/python3.10/dist-packages/sklearn/linear_model/_logistic.py:1193: UserWarning: Setting penalty=None will ignore the C and l1_ratio parameters\n",
            "  warnings.warn(\n",
            "/usr/local/lib/python3.10/dist-packages/sklearn/linear_model/_logistic.py:1172: UserWarning: l1_ratio parameter is only used when penalty is 'elasticnet'. Got (penalty=none)\n",
            "  warnings.warn(\n",
            "/usr/local/lib/python3.10/dist-packages/sklearn/linear_model/_logistic.py:1183: FutureWarning: `penalty='none'`has been deprecated in 1.2 and will be removed in 1.4. To keep the past behaviour, set `penalty=None`.\n",
            "  warnings.warn(\n",
            "/usr/local/lib/python3.10/dist-packages/sklearn/linear_model/_logistic.py:1193: UserWarning: Setting penalty=None will ignore the C and l1_ratio parameters\n",
            "  warnings.warn(\n",
            "/usr/local/lib/python3.10/dist-packages/sklearn/linear_model/_logistic.py:1172: UserWarning: l1_ratio parameter is only used when penalty is 'elasticnet'. Got (penalty=none)\n",
            "  warnings.warn(\n",
            "/usr/local/lib/python3.10/dist-packages/sklearn/linear_model/_logistic.py:1183: FutureWarning: `penalty='none'`has been deprecated in 1.2 and will be removed in 1.4. To keep the past behaviour, set `penalty=None`.\n",
            "  warnings.warn(\n",
            "/usr/local/lib/python3.10/dist-packages/sklearn/linear_model/_logistic.py:1193: UserWarning: Setting penalty=None will ignore the C and l1_ratio parameters\n",
            "  warnings.warn(\n"
          ]
        },
        {
          "output_type": "stream",
          "name": "stdout",
          "text": [
            "[CV] END ....C=100, l1_ratio=0.5, penalty=none, solver=lbfgs; total time=   0.1s\n",
            "[CV] END ....C=100, l1_ratio=0.5, penalty=none, solver=lbfgs; total time=   0.1s\n",
            "[CV] END C=100, l1_ratio=0.5, penalty=none, solver=liblinear; total time=   0.0s\n",
            "[CV] END C=100, l1_ratio=0.5, penalty=none, solver=liblinear; total time=   0.0s\n",
            "[CV] END C=100, l1_ratio=0.5, penalty=none, solver=liblinear; total time=   0.0s\n",
            "[CV] END C=100, l1_ratio=0.5, penalty=none, solver=liblinear; total time=   0.0s\n",
            "[CV] END C=100, l1_ratio=0.5, penalty=none, solver=liblinear; total time=   0.0s\n"
          ]
        },
        {
          "output_type": "stream",
          "name": "stderr",
          "text": [
            "/usr/local/lib/python3.10/dist-packages/sklearn/linear_model/_logistic.py:1172: UserWarning: l1_ratio parameter is only used when penalty is 'elasticnet'. Got (penalty=none)\n",
            "  warnings.warn(\n",
            "/usr/local/lib/python3.10/dist-packages/sklearn/linear_model/_logistic.py:1183: FutureWarning: `penalty='none'`has been deprecated in 1.2 and will be removed in 1.4. To keep the past behaviour, set `penalty=None`.\n",
            "  warnings.warn(\n",
            "/usr/local/lib/python3.10/dist-packages/sklearn/linear_model/_logistic.py:1193: UserWarning: Setting penalty=None will ignore the C and l1_ratio parameters\n",
            "  warnings.warn(\n",
            "/usr/local/lib/python3.10/dist-packages/sklearn/linear_model/_logistic.py:1172: UserWarning: l1_ratio parameter is only used when penalty is 'elasticnet'. Got (penalty=none)\n",
            "  warnings.warn(\n",
            "/usr/local/lib/python3.10/dist-packages/sklearn/linear_model/_logistic.py:1183: FutureWarning: `penalty='none'`has been deprecated in 1.2 and will be removed in 1.4. To keep the past behaviour, set `penalty=None`.\n",
            "  warnings.warn(\n",
            "/usr/local/lib/python3.10/dist-packages/sklearn/linear_model/_logistic.py:1193: UserWarning: Setting penalty=None will ignore the C and l1_ratio parameters\n",
            "  warnings.warn(\n"
          ]
        },
        {
          "output_type": "stream",
          "name": "stdout",
          "text": [
            "[CV] END .....C=100, l1_ratio=0.5, penalty=none, solver=saga; total time=   9.5s\n"
          ]
        },
        {
          "output_type": "stream",
          "name": "stderr",
          "text": [
            "/usr/local/lib/python3.10/dist-packages/sklearn/linear_model/_logistic.py:1172: UserWarning: l1_ratio parameter is only used when penalty is 'elasticnet'. Got (penalty=none)\n",
            "  warnings.warn(\n",
            "/usr/local/lib/python3.10/dist-packages/sklearn/linear_model/_logistic.py:1183: FutureWarning: `penalty='none'`has been deprecated in 1.2 and will be removed in 1.4. To keep the past behaviour, set `penalty=None`.\n",
            "  warnings.warn(\n",
            "/usr/local/lib/python3.10/dist-packages/sklearn/linear_model/_logistic.py:1193: UserWarning: Setting penalty=None will ignore the C and l1_ratio parameters\n",
            "  warnings.warn(\n"
          ]
        },
        {
          "output_type": "stream",
          "name": "stdout",
          "text": [
            "[CV] END .....C=100, l1_ratio=0.5, penalty=none, solver=saga; total time=  22.1s\n"
          ]
        },
        {
          "output_type": "stream",
          "name": "stderr",
          "text": [
            "/usr/local/lib/python3.10/dist-packages/sklearn/linear_model/_logistic.py:1172: UserWarning: l1_ratio parameter is only used when penalty is 'elasticnet'. Got (penalty=none)\n",
            "  warnings.warn(\n",
            "/usr/local/lib/python3.10/dist-packages/sklearn/linear_model/_logistic.py:1183: FutureWarning: `penalty='none'`has been deprecated in 1.2 and will be removed in 1.4. To keep the past behaviour, set `penalty=None`.\n",
            "  warnings.warn(\n",
            "/usr/local/lib/python3.10/dist-packages/sklearn/linear_model/_logistic.py:1193: UserWarning: Setting penalty=None will ignore the C and l1_ratio parameters\n",
            "  warnings.warn(\n"
          ]
        },
        {
          "output_type": "stream",
          "name": "stdout",
          "text": [
            "[CV] END .....C=100, l1_ratio=0.5, penalty=none, solver=saga; total time=  24.8s\n"
          ]
        },
        {
          "output_type": "stream",
          "name": "stderr",
          "text": [
            "/usr/local/lib/python3.10/dist-packages/sklearn/linear_model/_logistic.py:1172: UserWarning: l1_ratio parameter is only used when penalty is 'elasticnet'. Got (penalty=none)\n",
            "  warnings.warn(\n",
            "/usr/local/lib/python3.10/dist-packages/sklearn/linear_model/_logistic.py:1183: FutureWarning: `penalty='none'`has been deprecated in 1.2 and will be removed in 1.4. To keep the past behaviour, set `penalty=None`.\n",
            "  warnings.warn(\n",
            "/usr/local/lib/python3.10/dist-packages/sklearn/linear_model/_logistic.py:1193: UserWarning: Setting penalty=None will ignore the C and l1_ratio parameters\n",
            "  warnings.warn(\n"
          ]
        },
        {
          "output_type": "stream",
          "name": "stdout",
          "text": [
            "[CV] END .....C=100, l1_ratio=0.5, penalty=none, solver=saga; total time=  14.3s\n"
          ]
        },
        {
          "output_type": "stream",
          "name": "stderr",
          "text": [
            "/usr/local/lib/python3.10/dist-packages/sklearn/linear_model/_logistic.py:1172: UserWarning: l1_ratio parameter is only used when penalty is 'elasticnet'. Got (penalty=none)\n",
            "  warnings.warn(\n",
            "/usr/local/lib/python3.10/dist-packages/sklearn/linear_model/_logistic.py:1183: FutureWarning: `penalty='none'`has been deprecated in 1.2 and will be removed in 1.4. To keep the past behaviour, set `penalty=None`.\n",
            "  warnings.warn(\n",
            "/usr/local/lib/python3.10/dist-packages/sklearn/linear_model/_logistic.py:1193: UserWarning: Setting penalty=None will ignore the C and l1_ratio parameters\n",
            "  warnings.warn(\n"
          ]
        },
        {
          "output_type": "stream",
          "name": "stdout",
          "text": [
            "[CV] END .....C=100, l1_ratio=0.5, penalty=none, solver=saga; total time=  19.1s\n",
            "[CV] END ........C=100, l1_ratio=1, penalty=l1, solver=lbfgs; total time=   0.0s\n",
            "[CV] END ........C=100, l1_ratio=1, penalty=l1, solver=lbfgs; total time=   0.0s\n",
            "[CV] END ........C=100, l1_ratio=1, penalty=l1, solver=lbfgs; total time=   0.0s\n",
            "[CV] END ........C=100, l1_ratio=1, penalty=l1, solver=lbfgs; total time=   0.0s\n",
            "[CV] END ........C=100, l1_ratio=1, penalty=l1, solver=lbfgs; total time=   0.0s\n",
            "[CV] END ....C=100, l1_ratio=1, penalty=l1, solver=liblinear; total time=   0.0s\n",
            "[CV] END ....C=100, l1_ratio=1, penalty=l1, solver=liblinear; total time=   0.0s\n",
            "[CV] END ....C=100, l1_ratio=1, penalty=l1, solver=liblinear; total time=   0.0s\n",
            "[CV] END ....C=100, l1_ratio=1, penalty=l1, solver=liblinear; total time=   0.0s\n",
            "[CV] END ....C=100, l1_ratio=1, penalty=l1, solver=liblinear; total time=   0.0s\n"
          ]
        },
        {
          "output_type": "stream",
          "name": "stderr",
          "text": [
            "/usr/local/lib/python3.10/dist-packages/sklearn/linear_model/_logistic.py:1172: UserWarning: l1_ratio parameter is only used when penalty is 'elasticnet'. Got (penalty=l1)\n",
            "  warnings.warn(\n",
            "/usr/local/lib/python3.10/dist-packages/sklearn/linear_model/_logistic.py:1172: UserWarning: l1_ratio parameter is only used when penalty is 'elasticnet'. Got (penalty=l1)\n",
            "  warnings.warn(\n",
            "/usr/local/lib/python3.10/dist-packages/sklearn/linear_model/_logistic.py:1172: UserWarning: l1_ratio parameter is only used when penalty is 'elasticnet'. Got (penalty=l1)\n",
            "  warnings.warn(\n",
            "/usr/local/lib/python3.10/dist-packages/sklearn/linear_model/_logistic.py:1172: UserWarning: l1_ratio parameter is only used when penalty is 'elasticnet'. Got (penalty=l1)\n",
            "  warnings.warn(\n",
            "/usr/local/lib/python3.10/dist-packages/sklearn/linear_model/_logistic.py:1172: UserWarning: l1_ratio parameter is only used when penalty is 'elasticnet'. Got (penalty=l1)\n",
            "  warnings.warn(\n",
            "/usr/local/lib/python3.10/dist-packages/sklearn/linear_model/_logistic.py:1172: UserWarning: l1_ratio parameter is only used when penalty is 'elasticnet'. Got (penalty=l1)\n",
            "  warnings.warn(\n"
          ]
        },
        {
          "output_type": "stream",
          "name": "stdout",
          "text": [
            "[CV] END .........C=100, l1_ratio=1, penalty=l1, solver=saga; total time=  13.5s\n"
          ]
        },
        {
          "output_type": "stream",
          "name": "stderr",
          "text": [
            "/usr/local/lib/python3.10/dist-packages/sklearn/linear_model/_logistic.py:1172: UserWarning: l1_ratio parameter is only used when penalty is 'elasticnet'. Got (penalty=l1)\n",
            "  warnings.warn(\n"
          ]
        },
        {
          "output_type": "stream",
          "name": "stdout",
          "text": [
            "[CV] END .........C=100, l1_ratio=1, penalty=l1, solver=saga; total time=  30.9s\n"
          ]
        },
        {
          "output_type": "stream",
          "name": "stderr",
          "text": [
            "/usr/local/lib/python3.10/dist-packages/sklearn/linear_model/_logistic.py:1172: UserWarning: l1_ratio parameter is only used when penalty is 'elasticnet'. Got (penalty=l1)\n",
            "  warnings.warn(\n"
          ]
        },
        {
          "output_type": "stream",
          "name": "stdout",
          "text": [
            "[CV] END .........C=100, l1_ratio=1, penalty=l1, solver=saga; total time=  32.0s\n"
          ]
        },
        {
          "output_type": "stream",
          "name": "stderr",
          "text": [
            "/usr/local/lib/python3.10/dist-packages/sklearn/linear_model/_logistic.py:1172: UserWarning: l1_ratio parameter is only used when penalty is 'elasticnet'. Got (penalty=l1)\n",
            "  warnings.warn(\n"
          ]
        },
        {
          "output_type": "stream",
          "name": "stdout",
          "text": [
            "[CV] END .........C=100, l1_ratio=1, penalty=l1, solver=saga; total time=  19.0s\n"
          ]
        },
        {
          "output_type": "stream",
          "name": "stderr",
          "text": [
            "/usr/local/lib/python3.10/dist-packages/sklearn/linear_model/_logistic.py:1172: UserWarning: l1_ratio parameter is only used when penalty is 'elasticnet'. Got (penalty=l1)\n",
            "  warnings.warn(\n"
          ]
        },
        {
          "output_type": "stream",
          "name": "stdout",
          "text": [
            "[CV] END .........C=100, l1_ratio=1, penalty=l1, solver=saga; total time=  28.4s\n",
            "[CV] END ........C=100, l1_ratio=1, penalty=l2, solver=lbfgs; total time=   0.0s\n",
            "[CV] END ........C=100, l1_ratio=1, penalty=l2, solver=lbfgs; total time=   0.1s\n"
          ]
        },
        {
          "output_type": "stream",
          "name": "stderr",
          "text": [
            "/usr/local/lib/python3.10/dist-packages/sklearn/linear_model/_logistic.py:1172: UserWarning: l1_ratio parameter is only used when penalty is 'elasticnet'. Got (penalty=l2)\n",
            "  warnings.warn(\n",
            "/usr/local/lib/python3.10/dist-packages/sklearn/linear_model/_logistic.py:1172: UserWarning: l1_ratio parameter is only used when penalty is 'elasticnet'. Got (penalty=l2)\n",
            "  warnings.warn(\n",
            "/usr/local/lib/python3.10/dist-packages/sklearn/linear_model/_logistic.py:1172: UserWarning: l1_ratio parameter is only used when penalty is 'elasticnet'. Got (penalty=l2)\n",
            "  warnings.warn(\n"
          ]
        },
        {
          "output_type": "stream",
          "name": "stdout",
          "text": [
            "[CV] END ........C=100, l1_ratio=1, penalty=l2, solver=lbfgs; total time=   0.1s\n",
            "[CV] END ........C=100, l1_ratio=1, penalty=l2, solver=lbfgs; total time=   0.1s\n",
            "[CV] END ........C=100, l1_ratio=1, penalty=l2, solver=lbfgs; total time=   0.1s\n"
          ]
        },
        {
          "output_type": "stream",
          "name": "stderr",
          "text": [
            "/usr/local/lib/python3.10/dist-packages/sklearn/linear_model/_logistic.py:1172: UserWarning: l1_ratio parameter is only used when penalty is 'elasticnet'. Got (penalty=l2)\n",
            "  warnings.warn(\n",
            "/usr/local/lib/python3.10/dist-packages/sklearn/linear_model/_logistic.py:1172: UserWarning: l1_ratio parameter is only used when penalty is 'elasticnet'. Got (penalty=l2)\n",
            "  warnings.warn(\n",
            "/usr/local/lib/python3.10/dist-packages/sklearn/linear_model/_logistic.py:1172: UserWarning: l1_ratio parameter is only used when penalty is 'elasticnet'. Got (penalty=l2)\n",
            "  warnings.warn(\n"
          ]
        },
        {
          "output_type": "stream",
          "name": "stdout",
          "text": [
            "[CV] END ....C=100, l1_ratio=1, penalty=l2, solver=liblinear; total time=   0.1s\n",
            "[CV] END ....C=100, l1_ratio=1, penalty=l2, solver=liblinear; total time=   0.1s\n"
          ]
        },
        {
          "output_type": "stream",
          "name": "stderr",
          "text": [
            "/usr/local/lib/python3.10/dist-packages/sklearn/linear_model/_logistic.py:1172: UserWarning: l1_ratio parameter is only used when penalty is 'elasticnet'. Got (penalty=l2)\n",
            "  warnings.warn(\n",
            "/usr/local/lib/python3.10/dist-packages/sklearn/linear_model/_logistic.py:1172: UserWarning: l1_ratio parameter is only used when penalty is 'elasticnet'. Got (penalty=l2)\n",
            "  warnings.warn(\n"
          ]
        },
        {
          "output_type": "stream",
          "name": "stdout",
          "text": [
            "[CV] END ....C=100, l1_ratio=1, penalty=l2, solver=liblinear; total time=   0.1s\n",
            "[CV] END ....C=100, l1_ratio=1, penalty=l2, solver=liblinear; total time=   0.1s\n",
            "[CV] END ....C=100, l1_ratio=1, penalty=l2, solver=liblinear; total time=   0.1s\n"
          ]
        },
        {
          "output_type": "stream",
          "name": "stderr",
          "text": [
            "/usr/local/lib/python3.10/dist-packages/sklearn/linear_model/_logistic.py:1172: UserWarning: l1_ratio parameter is only used when penalty is 'elasticnet'. Got (penalty=l2)\n",
            "  warnings.warn(\n",
            "/usr/local/lib/python3.10/dist-packages/sklearn/linear_model/_logistic.py:1172: UserWarning: l1_ratio parameter is only used when penalty is 'elasticnet'. Got (penalty=l2)\n",
            "  warnings.warn(\n",
            "/usr/local/lib/python3.10/dist-packages/sklearn/linear_model/_logistic.py:1172: UserWarning: l1_ratio parameter is only used when penalty is 'elasticnet'. Got (penalty=l2)\n",
            "  warnings.warn(\n"
          ]
        },
        {
          "output_type": "stream",
          "name": "stdout",
          "text": [
            "[CV] END .........C=100, l1_ratio=1, penalty=l2, solver=saga; total time=   7.7s\n"
          ]
        },
        {
          "output_type": "stream",
          "name": "stderr",
          "text": [
            "/usr/local/lib/python3.10/dist-packages/sklearn/linear_model/_logistic.py:1172: UserWarning: l1_ratio parameter is only used when penalty is 'elasticnet'. Got (penalty=l2)\n",
            "  warnings.warn(\n"
          ]
        },
        {
          "output_type": "stream",
          "name": "stdout",
          "text": [
            "[CV] END .........C=100, l1_ratio=1, penalty=l2, solver=saga; total time=  23.8s\n"
          ]
        },
        {
          "output_type": "stream",
          "name": "stderr",
          "text": [
            "/usr/local/lib/python3.10/dist-packages/sklearn/linear_model/_logistic.py:1172: UserWarning: l1_ratio parameter is only used when penalty is 'elasticnet'. Got (penalty=l2)\n",
            "  warnings.warn(\n"
          ]
        },
        {
          "output_type": "stream",
          "name": "stdout",
          "text": [
            "[CV] END .........C=100, l1_ratio=1, penalty=l2, solver=saga; total time=  22.4s\n"
          ]
        },
        {
          "output_type": "stream",
          "name": "stderr",
          "text": [
            "/usr/local/lib/python3.10/dist-packages/sklearn/linear_model/_logistic.py:1172: UserWarning: l1_ratio parameter is only used when penalty is 'elasticnet'. Got (penalty=l2)\n",
            "  warnings.warn(\n"
          ]
        },
        {
          "output_type": "stream",
          "name": "stdout",
          "text": [
            "[CV] END .........C=100, l1_ratio=1, penalty=l2, solver=saga; total time=  14.2s\n"
          ]
        },
        {
          "output_type": "stream",
          "name": "stderr",
          "text": [
            "/usr/local/lib/python3.10/dist-packages/sklearn/linear_model/_logistic.py:1172: UserWarning: l1_ratio parameter is only used when penalty is 'elasticnet'. Got (penalty=l2)\n",
            "  warnings.warn(\n"
          ]
        },
        {
          "output_type": "stream",
          "name": "stdout",
          "text": [
            "[CV] END .........C=100, l1_ratio=1, penalty=l2, solver=saga; total time=  18.8s\n",
            "[CV] END C=100, l1_ratio=1, penalty=elasticnet, solver=lbfgs; total time=   0.0s\n",
            "[CV] END C=100, l1_ratio=1, penalty=elasticnet, solver=lbfgs; total time=   0.0s\n",
            "[CV] END C=100, l1_ratio=1, penalty=elasticnet, solver=lbfgs; total time=   0.0s\n",
            "[CV] END C=100, l1_ratio=1, penalty=elasticnet, solver=lbfgs; total time=   0.0s\n",
            "[CV] END C=100, l1_ratio=1, penalty=elasticnet, solver=lbfgs; total time=   0.0s\n",
            "[CV] END C=100, l1_ratio=1, penalty=elasticnet, solver=liblinear; total time=   0.0s\n",
            "[CV] END C=100, l1_ratio=1, penalty=elasticnet, solver=liblinear; total time=   0.0s\n",
            "[CV] END C=100, l1_ratio=1, penalty=elasticnet, solver=liblinear; total time=   0.0s\n",
            "[CV] END C=100, l1_ratio=1, penalty=elasticnet, solver=liblinear; total time=   0.0s\n",
            "[CV] END C=100, l1_ratio=1, penalty=elasticnet, solver=liblinear; total time=   0.0s\n",
            "[CV] END .C=100, l1_ratio=1, penalty=elasticnet, solver=saga; total time=  13.7s\n",
            "[CV] END .C=100, l1_ratio=1, penalty=elasticnet, solver=saga; total time=  31.2s\n",
            "[CV] END .C=100, l1_ratio=1, penalty=elasticnet, solver=saga; total time=  32.4s\n",
            "[CV] END .C=100, l1_ratio=1, penalty=elasticnet, solver=saga; total time=  19.1s\n",
            "[CV] END .C=100, l1_ratio=1, penalty=elasticnet, solver=saga; total time=  28.1s\n",
            "[CV] END ......C=100, l1_ratio=1, penalty=none, solver=lbfgs; total time=   0.0s\n",
            "[CV] END ......C=100, l1_ratio=1, penalty=none, solver=lbfgs; total time=   0.0s\n",
            "[CV] END ......C=100, l1_ratio=1, penalty=none, solver=lbfgs; total time=   0.0s\n",
            "[CV] END ......C=100, l1_ratio=1, penalty=none, solver=lbfgs; total time=   0.0s\n",
            "[CV] END ......C=100, l1_ratio=1, penalty=none, solver=lbfgs; total time=   0.0s\n",
            "[CV] END ..C=100, l1_ratio=1, penalty=none, solver=liblinear; total time=   0.0s\n",
            "[CV] END ..C=100, l1_ratio=1, penalty=none, solver=liblinear; total time=   0.0s\n",
            "[CV] END ..C=100, l1_ratio=1, penalty=none, solver=liblinear; total time=   0.0s\n",
            "[CV] END ..C=100, l1_ratio=1, penalty=none, solver=liblinear; total time=   0.0s\n",
            "[CV] END ..C=100, l1_ratio=1, penalty=none, solver=liblinear; total time=   0.0s\n"
          ]
        },
        {
          "output_type": "stream",
          "name": "stderr",
          "text": [
            "/usr/local/lib/python3.10/dist-packages/sklearn/linear_model/_logistic.py:1172: UserWarning: l1_ratio parameter is only used when penalty is 'elasticnet'. Got (penalty=none)\n",
            "  warnings.warn(\n",
            "/usr/local/lib/python3.10/dist-packages/sklearn/linear_model/_logistic.py:1183: FutureWarning: `penalty='none'`has been deprecated in 1.2 and will be removed in 1.4. To keep the past behaviour, set `penalty=None`.\n",
            "  warnings.warn(\n",
            "/usr/local/lib/python3.10/dist-packages/sklearn/linear_model/_logistic.py:1193: UserWarning: Setting penalty=None will ignore the C and l1_ratio parameters\n",
            "  warnings.warn(\n",
            "/usr/local/lib/python3.10/dist-packages/sklearn/linear_model/_logistic.py:1172: UserWarning: l1_ratio parameter is only used when penalty is 'elasticnet'. Got (penalty=none)\n",
            "  warnings.warn(\n",
            "/usr/local/lib/python3.10/dist-packages/sklearn/linear_model/_logistic.py:1183: FutureWarning: `penalty='none'`has been deprecated in 1.2 and will be removed in 1.4. To keep the past behaviour, set `penalty=None`.\n",
            "  warnings.warn(\n",
            "/usr/local/lib/python3.10/dist-packages/sklearn/linear_model/_logistic.py:1193: UserWarning: Setting penalty=None will ignore the C and l1_ratio parameters\n",
            "  warnings.warn(\n",
            "/usr/local/lib/python3.10/dist-packages/sklearn/linear_model/_logistic.py:1172: UserWarning: l1_ratio parameter is only used when penalty is 'elasticnet'. Got (penalty=none)\n",
            "  warnings.warn(\n",
            "/usr/local/lib/python3.10/dist-packages/sklearn/linear_model/_logistic.py:1183: FutureWarning: `penalty='none'`has been deprecated in 1.2 and will be removed in 1.4. To keep the past behaviour, set `penalty=None`.\n",
            "  warnings.warn(\n",
            "/usr/local/lib/python3.10/dist-packages/sklearn/linear_model/_logistic.py:1193: UserWarning: Setting penalty=None will ignore the C and l1_ratio parameters\n",
            "  warnings.warn(\n",
            "/usr/local/lib/python3.10/dist-packages/sklearn/linear_model/_logistic.py:1172: UserWarning: l1_ratio parameter is only used when penalty is 'elasticnet'. Got (penalty=none)\n",
            "  warnings.warn(\n",
            "/usr/local/lib/python3.10/dist-packages/sklearn/linear_model/_logistic.py:1183: FutureWarning: `penalty='none'`has been deprecated in 1.2 and will be removed in 1.4. To keep the past behaviour, set `penalty=None`.\n",
            "  warnings.warn(\n",
            "/usr/local/lib/python3.10/dist-packages/sklearn/linear_model/_logistic.py:1193: UserWarning: Setting penalty=None will ignore the C and l1_ratio parameters\n",
            "  warnings.warn(\n",
            "/usr/local/lib/python3.10/dist-packages/sklearn/linear_model/_logistic.py:1172: UserWarning: l1_ratio parameter is only used when penalty is 'elasticnet'. Got (penalty=none)\n",
            "  warnings.warn(\n",
            "/usr/local/lib/python3.10/dist-packages/sklearn/linear_model/_logistic.py:1183: FutureWarning: `penalty='none'`has been deprecated in 1.2 and will be removed in 1.4. To keep the past behaviour, set `penalty=None`.\n",
            "  warnings.warn(\n",
            "/usr/local/lib/python3.10/dist-packages/sklearn/linear_model/_logistic.py:1193: UserWarning: Setting penalty=None will ignore the C and l1_ratio parameters\n",
            "  warnings.warn(\n",
            "/usr/local/lib/python3.10/dist-packages/sklearn/linear_model/_logistic.py:1172: UserWarning: l1_ratio parameter is only used when penalty is 'elasticnet'. Got (penalty=none)\n",
            "  warnings.warn(\n",
            "/usr/local/lib/python3.10/dist-packages/sklearn/linear_model/_logistic.py:1183: FutureWarning: `penalty='none'`has been deprecated in 1.2 and will be removed in 1.4. To keep the past behaviour, set `penalty=None`.\n",
            "  warnings.warn(\n",
            "/usr/local/lib/python3.10/dist-packages/sklearn/linear_model/_logistic.py:1193: UserWarning: Setting penalty=None will ignore the C and l1_ratio parameters\n",
            "  warnings.warn(\n"
          ]
        },
        {
          "output_type": "stream",
          "name": "stdout",
          "text": [
            "[CV] END .......C=100, l1_ratio=1, penalty=none, solver=saga; total time=   9.5s\n"
          ]
        },
        {
          "output_type": "stream",
          "name": "stderr",
          "text": [
            "/usr/local/lib/python3.10/dist-packages/sklearn/linear_model/_logistic.py:1172: UserWarning: l1_ratio parameter is only used when penalty is 'elasticnet'. Got (penalty=none)\n",
            "  warnings.warn(\n",
            "/usr/local/lib/python3.10/dist-packages/sklearn/linear_model/_logistic.py:1183: FutureWarning: `penalty='none'`has been deprecated in 1.2 and will be removed in 1.4. To keep the past behaviour, set `penalty=None`.\n",
            "  warnings.warn(\n",
            "/usr/local/lib/python3.10/dist-packages/sklearn/linear_model/_logistic.py:1193: UserWarning: Setting penalty=None will ignore the C and l1_ratio parameters\n",
            "  warnings.warn(\n"
          ]
        },
        {
          "output_type": "stream",
          "name": "stdout",
          "text": [
            "[CV] END .......C=100, l1_ratio=1, penalty=none, solver=saga; total time=  22.5s\n"
          ]
        },
        {
          "output_type": "stream",
          "name": "stderr",
          "text": [
            "/usr/local/lib/python3.10/dist-packages/sklearn/linear_model/_logistic.py:1172: UserWarning: l1_ratio parameter is only used when penalty is 'elasticnet'. Got (penalty=none)\n",
            "  warnings.warn(\n",
            "/usr/local/lib/python3.10/dist-packages/sklearn/linear_model/_logistic.py:1183: FutureWarning: `penalty='none'`has been deprecated in 1.2 and will be removed in 1.4. To keep the past behaviour, set `penalty=None`.\n",
            "  warnings.warn(\n",
            "/usr/local/lib/python3.10/dist-packages/sklearn/linear_model/_logistic.py:1193: UserWarning: Setting penalty=None will ignore the C and l1_ratio parameters\n",
            "  warnings.warn(\n"
          ]
        },
        {
          "output_type": "stream",
          "name": "stdout",
          "text": [
            "[CV] END .......C=100, l1_ratio=1, penalty=none, solver=saga; total time=  23.2s\n"
          ]
        },
        {
          "output_type": "stream",
          "name": "stderr",
          "text": [
            "/usr/local/lib/python3.10/dist-packages/sklearn/linear_model/_logistic.py:1172: UserWarning: l1_ratio parameter is only used when penalty is 'elasticnet'. Got (penalty=none)\n",
            "  warnings.warn(\n",
            "/usr/local/lib/python3.10/dist-packages/sklearn/linear_model/_logistic.py:1183: FutureWarning: `penalty='none'`has been deprecated in 1.2 and will be removed in 1.4. To keep the past behaviour, set `penalty=None`.\n",
            "  warnings.warn(\n",
            "/usr/local/lib/python3.10/dist-packages/sklearn/linear_model/_logistic.py:1193: UserWarning: Setting penalty=None will ignore the C and l1_ratio parameters\n",
            "  warnings.warn(\n"
          ]
        },
        {
          "output_type": "stream",
          "name": "stdout",
          "text": [
            "[CV] END .......C=100, l1_ratio=1, penalty=none, solver=saga; total time=  13.6s\n"
          ]
        },
        {
          "output_type": "stream",
          "name": "stderr",
          "text": [
            "/usr/local/lib/python3.10/dist-packages/sklearn/linear_model/_logistic.py:1172: UserWarning: l1_ratio parameter is only used when penalty is 'elasticnet'. Got (penalty=none)\n",
            "  warnings.warn(\n",
            "/usr/local/lib/python3.10/dist-packages/sklearn/linear_model/_logistic.py:1183: FutureWarning: `penalty='none'`has been deprecated in 1.2 and will be removed in 1.4. To keep the past behaviour, set `penalty=None`.\n",
            "  warnings.warn(\n",
            "/usr/local/lib/python3.10/dist-packages/sklearn/linear_model/_logistic.py:1193: UserWarning: Setting penalty=None will ignore the C and l1_ratio parameters\n",
            "  warnings.warn(\n"
          ]
        },
        {
          "output_type": "stream",
          "name": "stdout",
          "text": [
            "[CV] END .......C=100, l1_ratio=1, penalty=none, solver=saga; total time=  20.5s\n",
            "Best Parameters: {'C': 0.1, 'l1_ratio': 0, 'penalty': 'l2', 'solver': 'lbfgs'}\n",
            "Best Cross-validation Score: 0.7892549019607843\n",
            "Accuracy: 0.8125\n",
            "Confusion Matrix:\n",
            "[[15  6]\n",
            " [ 6 37]]\n",
            "Classification Report:\n",
            "              precision    recall  f1-score   support\n",
            "\n",
            "           0       0.71      0.71      0.71        21\n",
            "           1       0.86      0.86      0.86        43\n",
            "\n",
            "    accuracy                           0.81        64\n",
            "   macro avg       0.79      0.79      0.79        64\n",
            "weighted avg       0.81      0.81      0.81        64\n",
            "\n"
          ]
        },
        {
          "output_type": "stream",
          "name": "stderr",
          "text": [
            "/usr/local/lib/python3.10/dist-packages/sklearn/model_selection/_validation.py:425: FitFailedWarning: \n",
            "300 fits failed out of a total of 900.\n",
            "The score on these train-test partitions for these parameters will be set to nan.\n",
            "If these failures are not expected, you can try to debug them by setting error_score='raise'.\n",
            "\n",
            "Below are more details about the failures:\n",
            "--------------------------------------------------------------------------------\n",
            "75 fits failed with the following error:\n",
            "Traceback (most recent call last):\n",
            "  File \"/usr/local/lib/python3.10/dist-packages/sklearn/model_selection/_validation.py\", line 729, in _fit_and_score\n",
            "    estimator.fit(X_train, y_train, **fit_params)\n",
            "  File \"/usr/local/lib/python3.10/dist-packages/sklearn/base.py\", line 1152, in wrapper\n",
            "    return fit_method(estimator, *args, **kwargs)\n",
            "  File \"/usr/local/lib/python3.10/dist-packages/sklearn/linear_model/_logistic.py\", line 1169, in fit\n",
            "    solver = _check_solver(self.solver, self.penalty, self.dual)\n",
            "  File \"/usr/local/lib/python3.10/dist-packages/sklearn/linear_model/_logistic.py\", line 56, in _check_solver\n",
            "    raise ValueError(\n",
            "ValueError: Solver lbfgs supports only 'l2' or 'none' penalties, got l1 penalty.\n",
            "\n",
            "--------------------------------------------------------------------------------\n",
            "75 fits failed with the following error:\n",
            "Traceback (most recent call last):\n",
            "  File \"/usr/local/lib/python3.10/dist-packages/sklearn/model_selection/_validation.py\", line 729, in _fit_and_score\n",
            "    estimator.fit(X_train, y_train, **fit_params)\n",
            "  File \"/usr/local/lib/python3.10/dist-packages/sklearn/base.py\", line 1152, in wrapper\n",
            "    return fit_method(estimator, *args, **kwargs)\n",
            "  File \"/usr/local/lib/python3.10/dist-packages/sklearn/linear_model/_logistic.py\", line 1169, in fit\n",
            "    solver = _check_solver(self.solver, self.penalty, self.dual)\n",
            "  File \"/usr/local/lib/python3.10/dist-packages/sklearn/linear_model/_logistic.py\", line 56, in _check_solver\n",
            "    raise ValueError(\n",
            "ValueError: Solver lbfgs supports only 'l2' or 'none' penalties, got elasticnet penalty.\n",
            "\n",
            "--------------------------------------------------------------------------------\n",
            "75 fits failed with the following error:\n",
            "Traceback (most recent call last):\n",
            "  File \"/usr/local/lib/python3.10/dist-packages/sklearn/model_selection/_validation.py\", line 729, in _fit_and_score\n",
            "    estimator.fit(X_train, y_train, **fit_params)\n",
            "  File \"/usr/local/lib/python3.10/dist-packages/sklearn/base.py\", line 1152, in wrapper\n",
            "    return fit_method(estimator, *args, **kwargs)\n",
            "  File \"/usr/local/lib/python3.10/dist-packages/sklearn/linear_model/_logistic.py\", line 1169, in fit\n",
            "    solver = _check_solver(self.solver, self.penalty, self.dual)\n",
            "  File \"/usr/local/lib/python3.10/dist-packages/sklearn/linear_model/_logistic.py\", line 66, in _check_solver\n",
            "    raise ValueError(\n",
            "ValueError: Only 'saga' solver supports elasticnet penalty, got solver=liblinear.\n",
            "\n",
            "--------------------------------------------------------------------------------\n",
            "75 fits failed with the following error:\n",
            "Traceback (most recent call last):\n",
            "  File \"/usr/local/lib/python3.10/dist-packages/sklearn/model_selection/_validation.py\", line 729, in _fit_and_score\n",
            "    estimator.fit(X_train, y_train, **fit_params)\n",
            "  File \"/usr/local/lib/python3.10/dist-packages/sklearn/base.py\", line 1152, in wrapper\n",
            "    return fit_method(estimator, *args, **kwargs)\n",
            "  File \"/usr/local/lib/python3.10/dist-packages/sklearn/linear_model/_logistic.py\", line 1169, in fit\n",
            "    solver = _check_solver(self.solver, self.penalty, self.dual)\n",
            "  File \"/usr/local/lib/python3.10/dist-packages/sklearn/linear_model/_logistic.py\", line 73, in _check_solver\n",
            "    raise ValueError(\"penalty='none' is not supported for the liblinear solver\")\n",
            "ValueError: penalty='none' is not supported for the liblinear solver\n",
            "\n",
            "  warnings.warn(some_fits_failed_message, FitFailedWarning)\n",
            "/usr/local/lib/python3.10/dist-packages/sklearn/model_selection/_search.py:979: UserWarning: One or more of the test scores are non-finite: [       nan 0.42854902 0.57145098 0.7694902  0.75403922 0.7734902\n",
            "        nan        nan 0.7734902  0.73380392        nan 0.73380392\n",
            "        nan 0.42854902 0.57145098 0.7694902  0.75403922 0.7734902\n",
            "        nan        nan 0.57145098 0.73380392        nan 0.73380392\n",
            "        nan 0.42854902 0.57145098 0.7694902  0.75403922 0.7734902\n",
            "        nan        nan 0.57145098 0.73380392        nan 0.73380392\n",
            "        nan 0.7065098  0.71443137 0.7892549  0.74588235 0.77741176\n",
            "        nan        nan 0.77741176 0.73380392        nan 0.73380392\n",
            "        nan 0.7065098  0.71443137 0.7892549  0.74588235 0.77741176\n",
            "        nan        nan 0.74964706 0.73380392        nan 0.73380392\n",
            "        nan 0.7065098  0.71443137 0.7892549  0.74588235 0.77741176\n",
            "        nan        nan 0.71443137 0.73380392        nan 0.73380392\n",
            "        nan 0.75764706 0.77741176 0.78541176 0.74180392 0.74180392\n",
            "        nan        nan 0.74180392 0.73380392        nan 0.73380392\n",
            "        nan 0.75764706 0.77741176 0.78541176 0.74180392 0.74180392\n",
            "        nan        nan 0.76941176 0.73380392        nan 0.73380392\n",
            "        nan 0.75764706 0.77741176 0.78541176 0.74180392 0.74180392\n",
            "        nan        nan 0.77741176 0.73380392        nan 0.73380392\n",
            "        nan 0.74541176 0.76541176 0.78141176 0.72980392 0.73380392\n",
            "        nan        nan 0.73380392 0.73380392        nan 0.73380392\n",
            "        nan 0.74541176 0.76541176 0.78141176 0.72980392 0.73380392\n",
            "        nan        nan 0.77333333 0.73380392        nan 0.73380392\n",
            "        nan 0.74541176 0.76541176 0.78141176 0.72980392 0.73380392\n",
            "        nan        nan 0.76541176 0.73380392        nan 0.73380392\n",
            "        nan 0.72941176 0.73372549 0.7574902  0.71764706 0.73380392\n",
            "        nan        nan 0.73380392 0.73380392        nan 0.73380392\n",
            "        nan 0.72941176 0.73372549 0.7574902  0.71764706 0.73380392\n",
            "        nan        nan 0.72980392 0.73380392        nan 0.73380392\n",
            "        nan 0.72941176 0.73372549 0.7574902  0.71764706 0.73380392\n",
            "        nan        nan 0.73372549 0.73380392        nan 0.73380392]\n",
            "  warnings.warn(\n",
            "/usr/local/lib/python3.10/dist-packages/sklearn/linear_model/_logistic.py:1172: UserWarning: l1_ratio parameter is only used when penalty is 'elasticnet'. Got (penalty=l2)\n",
            "  warnings.warn(\n"
          ]
        }
      ]
    },
    {
      "cell_type": "code",
      "source": [
        "accuracy2,conf_matrix2,class_report2,y_pred2,target_test2 = scoring_GridSearch(y_tr,y_test,onehot_tr,onehot_test,0,\"LogReg\")"
      ],
      "metadata": {
        "colab": {
          "base_uri": "https://localhost:8080/"
        },
        "id": "QMkIStG0jZHm",
        "outputId": "32c03be6-621f-4bc0-d7e6-974bfb3f2b81"
      },
      "execution_count": null,
      "outputs": [
        {
          "output_type": "stream",
          "name": "stdout",
          "text": [
            "Fitting 5 folds for each of 180 candidates, totalling 900 fits\n",
            "[CV] END .......C=0.01, l1_ratio=0, penalty=l1, solver=lbfgs; total time=   0.0s\n",
            "[CV] END .......C=0.01, l1_ratio=0, penalty=l1, solver=lbfgs; total time=   0.0s\n",
            "[CV] END .......C=0.01, l1_ratio=0, penalty=l1, solver=lbfgs; total time=   0.0s\n",
            "[CV] END .......C=0.01, l1_ratio=0, penalty=l1, solver=lbfgs; total time=   0.0s\n",
            "[CV] END .......C=0.01, l1_ratio=0, penalty=l1, solver=lbfgs; total time=   0.0s\n",
            "[CV] END ...C=0.01, l1_ratio=0, penalty=l1, solver=liblinear; total time=   0.0s\n",
            "[CV] END ...C=0.01, l1_ratio=0, penalty=l1, solver=liblinear; total time=   0.0s\n",
            "[CV] END ...C=0.01, l1_ratio=0, penalty=l1, solver=liblinear; total time=   0.0s\n",
            "[CV] END ...C=0.01, l1_ratio=0, penalty=l1, solver=liblinear; total time=   0.0s\n",
            "[CV] END ...C=0.01, l1_ratio=0, penalty=l1, solver=liblinear; total time=   0.0s\n",
            "[CV] END ........C=0.01, l1_ratio=0, penalty=l1, solver=saga; total time=   0.0s\n",
            "[CV] END ........C=0.01, l1_ratio=0, penalty=l1, solver=saga; total time=   0.0s\n",
            "[CV] END ........C=0.01, l1_ratio=0, penalty=l1, solver=saga; total time=   0.0s\n",
            "[CV] END ........C=0.01, l1_ratio=0, penalty=l1, solver=saga; total time=   0.0s\n",
            "[CV] END ........C=0.01, l1_ratio=0, penalty=l1, solver=saga; total time=   0.0s\n",
            "[CV] END .......C=0.01, l1_ratio=0, penalty=l2, solver=lbfgs; total time=   0.0s\n",
            "[CV] END .......C=0.01, l1_ratio=0, penalty=l2, solver=lbfgs; total time=   0.0s\n",
            "[CV] END .......C=0.01, l1_ratio=0, penalty=l2, solver=lbfgs; total time=   0.0s\n",
            "[CV] END .......C=0.01, l1_ratio=0, penalty=l2, solver=lbfgs; total time=   0.0s\n",
            "[CV] END .......C=0.01, l1_ratio=0, penalty=l2, solver=lbfgs; total time=   0.0s\n",
            "[CV] END ...C=0.01, l1_ratio=0, penalty=l2, solver=liblinear; total time=   0.0s\n",
            "[CV] END ...C=0.01, l1_ratio=0, penalty=l2, solver=liblinear; total time=   0.0s\n",
            "[CV] END ...C=0.01, l1_ratio=0, penalty=l2, solver=liblinear; total time=   0.0s\n",
            "[CV] END ...C=0.01, l1_ratio=0, penalty=l2, solver=liblinear; total time=   0.0s\n",
            "[CV] END ...C=0.01, l1_ratio=0, penalty=l2, solver=liblinear; total time=   0.0s\n",
            "[CV] END ........C=0.01, l1_ratio=0, penalty=l2, solver=saga; total time=   0.0s\n",
            "[CV] END ........C=0.01, l1_ratio=0, penalty=l2, solver=saga; total time=   0.0s\n"
          ]
        },
        {
          "output_type": "stream",
          "name": "stderr",
          "text": [
            "/usr/local/lib/python3.10/dist-packages/sklearn/linear_model/_logistic.py:1172: UserWarning: l1_ratio parameter is only used when penalty is 'elasticnet'. Got (penalty=l1)\n",
            "  warnings.warn(\n",
            "/usr/local/lib/python3.10/dist-packages/sklearn/linear_model/_logistic.py:1172: UserWarning: l1_ratio parameter is only used when penalty is 'elasticnet'. Got (penalty=l1)\n",
            "  warnings.warn(\n",
            "/usr/local/lib/python3.10/dist-packages/sklearn/linear_model/_logistic.py:1172: UserWarning: l1_ratio parameter is only used when penalty is 'elasticnet'. Got (penalty=l1)\n",
            "  warnings.warn(\n",
            "/usr/local/lib/python3.10/dist-packages/sklearn/linear_model/_logistic.py:1172: UserWarning: l1_ratio parameter is only used when penalty is 'elasticnet'. Got (penalty=l1)\n",
            "  warnings.warn(\n",
            "/usr/local/lib/python3.10/dist-packages/sklearn/linear_model/_logistic.py:1172: UserWarning: l1_ratio parameter is only used when penalty is 'elasticnet'. Got (penalty=l1)\n",
            "  warnings.warn(\n",
            "/usr/local/lib/python3.10/dist-packages/sklearn/linear_model/_logistic.py:1172: UserWarning: l1_ratio parameter is only used when penalty is 'elasticnet'. Got (penalty=l1)\n",
            "  warnings.warn(\n",
            "/usr/local/lib/python3.10/dist-packages/sklearn/linear_model/_logistic.py:1172: UserWarning: l1_ratio parameter is only used when penalty is 'elasticnet'. Got (penalty=l1)\n",
            "  warnings.warn(\n",
            "/usr/local/lib/python3.10/dist-packages/sklearn/linear_model/_logistic.py:1172: UserWarning: l1_ratio parameter is only used when penalty is 'elasticnet'. Got (penalty=l1)\n",
            "  warnings.warn(\n",
            "/usr/local/lib/python3.10/dist-packages/sklearn/linear_model/_logistic.py:1172: UserWarning: l1_ratio parameter is only used when penalty is 'elasticnet'. Got (penalty=l1)\n",
            "  warnings.warn(\n",
            "/usr/local/lib/python3.10/dist-packages/sklearn/linear_model/_logistic.py:1172: UserWarning: l1_ratio parameter is only used when penalty is 'elasticnet'. Got (penalty=l1)\n",
            "  warnings.warn(\n",
            "/usr/local/lib/python3.10/dist-packages/sklearn/linear_model/_logistic.py:1172: UserWarning: l1_ratio parameter is only used when penalty is 'elasticnet'. Got (penalty=l2)\n",
            "  warnings.warn(\n",
            "/usr/local/lib/python3.10/dist-packages/sklearn/linear_model/_logistic.py:1172: UserWarning: l1_ratio parameter is only used when penalty is 'elasticnet'. Got (penalty=l2)\n",
            "  warnings.warn(\n",
            "/usr/local/lib/python3.10/dist-packages/sklearn/linear_model/_logistic.py:1172: UserWarning: l1_ratio parameter is only used when penalty is 'elasticnet'. Got (penalty=l2)\n",
            "  warnings.warn(\n",
            "/usr/local/lib/python3.10/dist-packages/sklearn/linear_model/_logistic.py:1172: UserWarning: l1_ratio parameter is only used when penalty is 'elasticnet'. Got (penalty=l2)\n",
            "  warnings.warn(\n",
            "/usr/local/lib/python3.10/dist-packages/sklearn/linear_model/_logistic.py:1172: UserWarning: l1_ratio parameter is only used when penalty is 'elasticnet'. Got (penalty=l2)\n",
            "  warnings.warn(\n",
            "/usr/local/lib/python3.10/dist-packages/sklearn/linear_model/_logistic.py:1172: UserWarning: l1_ratio parameter is only used when penalty is 'elasticnet'. Got (penalty=l2)\n",
            "  warnings.warn(\n",
            "/usr/local/lib/python3.10/dist-packages/sklearn/linear_model/_logistic.py:1172: UserWarning: l1_ratio parameter is only used when penalty is 'elasticnet'. Got (penalty=l2)\n",
            "  warnings.warn(\n",
            "/usr/local/lib/python3.10/dist-packages/sklearn/linear_model/_logistic.py:1172: UserWarning: l1_ratio parameter is only used when penalty is 'elasticnet'. Got (penalty=l2)\n",
            "  warnings.warn(\n",
            "/usr/local/lib/python3.10/dist-packages/sklearn/linear_model/_logistic.py:1172: UserWarning: l1_ratio parameter is only used when penalty is 'elasticnet'. Got (penalty=l2)\n",
            "  warnings.warn(\n",
            "/usr/local/lib/python3.10/dist-packages/sklearn/linear_model/_logistic.py:1172: UserWarning: l1_ratio parameter is only used when penalty is 'elasticnet'. Got (penalty=l2)\n",
            "  warnings.warn(\n",
            "/usr/local/lib/python3.10/dist-packages/sklearn/linear_model/_logistic.py:1172: UserWarning: l1_ratio parameter is only used when penalty is 'elasticnet'. Got (penalty=l2)\n",
            "  warnings.warn(\n",
            "/usr/local/lib/python3.10/dist-packages/sklearn/linear_model/_logistic.py:1172: UserWarning: l1_ratio parameter is only used when penalty is 'elasticnet'. Got (penalty=l2)\n",
            "  warnings.warn(\n",
            "/usr/local/lib/python3.10/dist-packages/sklearn/linear_model/_logistic.py:1172: UserWarning: l1_ratio parameter is only used when penalty is 'elasticnet'. Got (penalty=l2)\n",
            "  warnings.warn(\n",
            "/usr/local/lib/python3.10/dist-packages/sklearn/linear_model/_logistic.py:1172: UserWarning: l1_ratio parameter is only used when penalty is 'elasticnet'. Got (penalty=l2)\n",
            "  warnings.warn(\n",
            "/usr/local/lib/python3.10/dist-packages/sklearn/linear_model/_logistic.py:1172: UserWarning: l1_ratio parameter is only used when penalty is 'elasticnet'. Got (penalty=l2)\n",
            "  warnings.warn(\n"
          ]
        },
        {
          "output_type": "stream",
          "name": "stdout",
          "text": [
            "[CV] END ........C=0.01, l1_ratio=0, penalty=l2, solver=saga; total time=   0.0s\n",
            "[CV] END ........C=0.01, l1_ratio=0, penalty=l2, solver=saga; total time=   0.0s\n",
            "[CV] END ........C=0.01, l1_ratio=0, penalty=l2, solver=saga; total time=   0.0s\n",
            "[CV] END C=0.01, l1_ratio=0, penalty=elasticnet, solver=lbfgs; total time=   0.0s\n",
            "[CV] END C=0.01, l1_ratio=0, penalty=elasticnet, solver=lbfgs; total time=   0.0s\n",
            "[CV] END C=0.01, l1_ratio=0, penalty=elasticnet, solver=lbfgs; total time=   0.0s\n",
            "[CV] END C=0.01, l1_ratio=0, penalty=elasticnet, solver=lbfgs; total time=   0.0s\n",
            "[CV] END C=0.01, l1_ratio=0, penalty=elasticnet, solver=lbfgs; total time=   0.0s\n",
            "[CV] END C=0.01, l1_ratio=0, penalty=elasticnet, solver=liblinear; total time=   0.0s\n",
            "[CV] END C=0.01, l1_ratio=0, penalty=elasticnet, solver=liblinear; total time=   0.0s\n",
            "[CV] END C=0.01, l1_ratio=0, penalty=elasticnet, solver=liblinear; total time=   0.0s\n",
            "[CV] END C=0.01, l1_ratio=0, penalty=elasticnet, solver=liblinear; total time=   0.0s\n",
            "[CV] END C=0.01, l1_ratio=0, penalty=elasticnet, solver=liblinear; total time=   0.0s\n",
            "[CV] END C=0.01, l1_ratio=0, penalty=elasticnet, solver=saga; total time=   0.0s\n",
            "[CV] END C=0.01, l1_ratio=0, penalty=elasticnet, solver=saga; total time=   0.0s\n",
            "[CV] END C=0.01, l1_ratio=0, penalty=elasticnet, solver=saga; total time=   0.0s\n",
            "[CV] END C=0.01, l1_ratio=0, penalty=elasticnet, solver=saga; total time=   0.0s\n",
            "[CV] END C=0.01, l1_ratio=0, penalty=elasticnet, solver=saga; total time=   0.0s\n",
            "[CV] END .....C=0.01, l1_ratio=0, penalty=none, solver=lbfgs; total time=   0.0s\n",
            "[CV] END .....C=0.01, l1_ratio=0, penalty=none, solver=lbfgs; total time=   0.0s\n",
            "[CV] END .....C=0.01, l1_ratio=0, penalty=none, solver=lbfgs; total time=   0.0s\n",
            "[CV] END .....C=0.01, l1_ratio=0, penalty=none, solver=lbfgs; total time=   0.0s\n",
            "[CV] END .....C=0.01, l1_ratio=0, penalty=none, solver=lbfgs; total time=   0.0s\n",
            "[CV] END .C=0.01, l1_ratio=0, penalty=none, solver=liblinear; total time=   0.0s\n",
            "[CV] END .C=0.01, l1_ratio=0, penalty=none, solver=liblinear; total time=   0.0s\n",
            "[CV] END .C=0.01, l1_ratio=0, penalty=none, solver=liblinear; total time=   0.0s\n",
            "[CV] END .C=0.01, l1_ratio=0, penalty=none, solver=liblinear; total time=   0.0s\n",
            "[CV] END .C=0.01, l1_ratio=0, penalty=none, solver=liblinear; total time=   0.0s\n"
          ]
        },
        {
          "output_type": "stream",
          "name": "stderr",
          "text": [
            "/usr/local/lib/python3.10/dist-packages/sklearn/linear_model/_logistic.py:1172: UserWarning: l1_ratio parameter is only used when penalty is 'elasticnet'. Got (penalty=none)\n",
            "  warnings.warn(\n",
            "/usr/local/lib/python3.10/dist-packages/sklearn/linear_model/_logistic.py:1183: FutureWarning: `penalty='none'`has been deprecated in 1.2 and will be removed in 1.4. To keep the past behaviour, set `penalty=None`.\n",
            "  warnings.warn(\n",
            "/usr/local/lib/python3.10/dist-packages/sklearn/linear_model/_logistic.py:1193: UserWarning: Setting penalty=None will ignore the C and l1_ratio parameters\n",
            "  warnings.warn(\n",
            "/usr/local/lib/python3.10/dist-packages/sklearn/linear_model/_logistic.py:1172: UserWarning: l1_ratio parameter is only used when penalty is 'elasticnet'. Got (penalty=none)\n",
            "  warnings.warn(\n",
            "/usr/local/lib/python3.10/dist-packages/sklearn/linear_model/_logistic.py:1183: FutureWarning: `penalty='none'`has been deprecated in 1.2 and will be removed in 1.4. To keep the past behaviour, set `penalty=None`.\n",
            "  warnings.warn(\n",
            "/usr/local/lib/python3.10/dist-packages/sklearn/linear_model/_logistic.py:1193: UserWarning: Setting penalty=None will ignore the C and l1_ratio parameters\n",
            "  warnings.warn(\n",
            "/usr/local/lib/python3.10/dist-packages/sklearn/linear_model/_logistic.py:1172: UserWarning: l1_ratio parameter is only used when penalty is 'elasticnet'. Got (penalty=none)\n",
            "  warnings.warn(\n",
            "/usr/local/lib/python3.10/dist-packages/sklearn/linear_model/_logistic.py:1183: FutureWarning: `penalty='none'`has been deprecated in 1.2 and will be removed in 1.4. To keep the past behaviour, set `penalty=None`.\n",
            "  warnings.warn(\n",
            "/usr/local/lib/python3.10/dist-packages/sklearn/linear_model/_logistic.py:1193: UserWarning: Setting penalty=None will ignore the C and l1_ratio parameters\n",
            "  warnings.warn(\n",
            "/usr/local/lib/python3.10/dist-packages/sklearn/linear_model/_logistic.py:1172: UserWarning: l1_ratio parameter is only used when penalty is 'elasticnet'. Got (penalty=none)\n",
            "  warnings.warn(\n",
            "/usr/local/lib/python3.10/dist-packages/sklearn/linear_model/_logistic.py:1183: FutureWarning: `penalty='none'`has been deprecated in 1.2 and will be removed in 1.4. To keep the past behaviour, set `penalty=None`.\n",
            "  warnings.warn(\n",
            "/usr/local/lib/python3.10/dist-packages/sklearn/linear_model/_logistic.py:1193: UserWarning: Setting penalty=None will ignore the C and l1_ratio parameters\n",
            "  warnings.warn(\n",
            "/usr/local/lib/python3.10/dist-packages/sklearn/linear_model/_logistic.py:1172: UserWarning: l1_ratio parameter is only used when penalty is 'elasticnet'. Got (penalty=none)\n",
            "  warnings.warn(\n",
            "/usr/local/lib/python3.10/dist-packages/sklearn/linear_model/_logistic.py:1183: FutureWarning: `penalty='none'`has been deprecated in 1.2 and will be removed in 1.4. To keep the past behaviour, set `penalty=None`.\n",
            "  warnings.warn(\n",
            "/usr/local/lib/python3.10/dist-packages/sklearn/linear_model/_logistic.py:1193: UserWarning: Setting penalty=None will ignore the C and l1_ratio parameters\n",
            "  warnings.warn(\n",
            "/usr/local/lib/python3.10/dist-packages/sklearn/linear_model/_logistic.py:1172: UserWarning: l1_ratio parameter is only used when penalty is 'elasticnet'. Got (penalty=none)\n",
            "  warnings.warn(\n",
            "/usr/local/lib/python3.10/dist-packages/sklearn/linear_model/_logistic.py:1183: FutureWarning: `penalty='none'`has been deprecated in 1.2 and will be removed in 1.4. To keep the past behaviour, set `penalty=None`.\n",
            "  warnings.warn(\n",
            "/usr/local/lib/python3.10/dist-packages/sklearn/linear_model/_logistic.py:1193: UserWarning: Setting penalty=None will ignore the C and l1_ratio parameters\n",
            "  warnings.warn(\n",
            "/usr/local/lib/python3.10/dist-packages/sklearn/linear_model/_logistic.py:1172: UserWarning: l1_ratio parameter is only used when penalty is 'elasticnet'. Got (penalty=none)\n",
            "  warnings.warn(\n",
            "/usr/local/lib/python3.10/dist-packages/sklearn/linear_model/_logistic.py:1183: FutureWarning: `penalty='none'`has been deprecated in 1.2 and will be removed in 1.4. To keep the past behaviour, set `penalty=None`.\n",
            "  warnings.warn(\n",
            "/usr/local/lib/python3.10/dist-packages/sklearn/linear_model/_logistic.py:1193: UserWarning: Setting penalty=None will ignore the C and l1_ratio parameters\n",
            "  warnings.warn(\n",
            "/usr/local/lib/python3.10/dist-packages/sklearn/linear_model/_logistic.py:1172: UserWarning: l1_ratio parameter is only used when penalty is 'elasticnet'. Got (penalty=none)\n",
            "  warnings.warn(\n",
            "/usr/local/lib/python3.10/dist-packages/sklearn/linear_model/_logistic.py:1183: FutureWarning: `penalty='none'`has been deprecated in 1.2 and will be removed in 1.4. To keep the past behaviour, set `penalty=None`.\n",
            "  warnings.warn(\n",
            "/usr/local/lib/python3.10/dist-packages/sklearn/linear_model/_logistic.py:1193: UserWarning: Setting penalty=None will ignore the C and l1_ratio parameters\n",
            "  warnings.warn(\n"
          ]
        },
        {
          "output_type": "stream",
          "name": "stdout",
          "text": [
            "[CV] END ......C=0.01, l1_ratio=0, penalty=none, solver=saga; total time=   0.1s\n",
            "[CV] END ......C=0.01, l1_ratio=0, penalty=none, solver=saga; total time=   0.1s\n",
            "[CV] END ......C=0.01, l1_ratio=0, penalty=none, solver=saga; total time=   0.1s\n",
            "[CV] END ......C=0.01, l1_ratio=0, penalty=none, solver=saga; total time=   0.0s\n"
          ]
        },
        {
          "output_type": "stream",
          "name": "stderr",
          "text": [
            "/usr/local/lib/python3.10/dist-packages/sklearn/linear_model/_logistic.py:1172: UserWarning: l1_ratio parameter is only used when penalty is 'elasticnet'. Got (penalty=none)\n",
            "  warnings.warn(\n",
            "/usr/local/lib/python3.10/dist-packages/sklearn/linear_model/_logistic.py:1183: FutureWarning: `penalty='none'`has been deprecated in 1.2 and will be removed in 1.4. To keep the past behaviour, set `penalty=None`.\n",
            "  warnings.warn(\n",
            "/usr/local/lib/python3.10/dist-packages/sklearn/linear_model/_logistic.py:1193: UserWarning: Setting penalty=None will ignore the C and l1_ratio parameters\n",
            "  warnings.warn(\n",
            "/usr/local/lib/python3.10/dist-packages/sklearn/linear_model/_logistic.py:1172: UserWarning: l1_ratio parameter is only used when penalty is 'elasticnet'. Got (penalty=none)\n",
            "  warnings.warn(\n",
            "/usr/local/lib/python3.10/dist-packages/sklearn/linear_model/_logistic.py:1183: FutureWarning: `penalty='none'`has been deprecated in 1.2 and will be removed in 1.4. To keep the past behaviour, set `penalty=None`.\n",
            "  warnings.warn(\n",
            "/usr/local/lib/python3.10/dist-packages/sklearn/linear_model/_logistic.py:1193: UserWarning: Setting penalty=None will ignore the C and l1_ratio parameters\n",
            "  warnings.warn(\n",
            "/usr/local/lib/python3.10/dist-packages/sklearn/linear_model/_logistic.py:1172: UserWarning: l1_ratio parameter is only used when penalty is 'elasticnet'. Got (penalty=l1)\n",
            "  warnings.warn(\n",
            "/usr/local/lib/python3.10/dist-packages/sklearn/linear_model/_logistic.py:1172: UserWarning: l1_ratio parameter is only used when penalty is 'elasticnet'. Got (penalty=l1)\n",
            "  warnings.warn(\n",
            "/usr/local/lib/python3.10/dist-packages/sklearn/linear_model/_logistic.py:1172: UserWarning: l1_ratio parameter is only used when penalty is 'elasticnet'. Got (penalty=l1)\n",
            "  warnings.warn(\n",
            "/usr/local/lib/python3.10/dist-packages/sklearn/linear_model/_logistic.py:1172: UserWarning: l1_ratio parameter is only used when penalty is 'elasticnet'. Got (penalty=l1)\n",
            "  warnings.warn(\n",
            "/usr/local/lib/python3.10/dist-packages/sklearn/linear_model/_logistic.py:1172: UserWarning: l1_ratio parameter is only used when penalty is 'elasticnet'. Got (penalty=l1)\n",
            "  warnings.warn(\n",
            "/usr/local/lib/python3.10/dist-packages/sklearn/linear_model/_logistic.py:1172: UserWarning: l1_ratio parameter is only used when penalty is 'elasticnet'. Got (penalty=l1)\n",
            "  warnings.warn(\n",
            "/usr/local/lib/python3.10/dist-packages/sklearn/linear_model/_logistic.py:1172: UserWarning: l1_ratio parameter is only used when penalty is 'elasticnet'. Got (penalty=l1)\n",
            "  warnings.warn(\n",
            "/usr/local/lib/python3.10/dist-packages/sklearn/linear_model/_logistic.py:1172: UserWarning: l1_ratio parameter is only used when penalty is 'elasticnet'. Got (penalty=l1)\n",
            "  warnings.warn(\n",
            "/usr/local/lib/python3.10/dist-packages/sklearn/linear_model/_logistic.py:1172: UserWarning: l1_ratio parameter is only used when penalty is 'elasticnet'. Got (penalty=l1)\n",
            "  warnings.warn(\n",
            "/usr/local/lib/python3.10/dist-packages/sklearn/linear_model/_logistic.py:1172: UserWarning: l1_ratio parameter is only used when penalty is 'elasticnet'. Got (penalty=l1)\n",
            "  warnings.warn(\n",
            "/usr/local/lib/python3.10/dist-packages/sklearn/linear_model/_logistic.py:1172: UserWarning: l1_ratio parameter is only used when penalty is 'elasticnet'. Got (penalty=l2)\n",
            "  warnings.warn(\n",
            "/usr/local/lib/python3.10/dist-packages/sklearn/linear_model/_logistic.py:1172: UserWarning: l1_ratio parameter is only used when penalty is 'elasticnet'. Got (penalty=l2)\n",
            "  warnings.warn(\n",
            "/usr/local/lib/python3.10/dist-packages/sklearn/linear_model/_logistic.py:1172: UserWarning: l1_ratio parameter is only used when penalty is 'elasticnet'. Got (penalty=l2)\n",
            "  warnings.warn(\n",
            "/usr/local/lib/python3.10/dist-packages/sklearn/linear_model/_logistic.py:1172: UserWarning: l1_ratio parameter is only used when penalty is 'elasticnet'. Got (penalty=l2)\n",
            "  warnings.warn(\n",
            "/usr/local/lib/python3.10/dist-packages/sklearn/linear_model/_logistic.py:1172: UserWarning: l1_ratio parameter is only used when penalty is 'elasticnet'. Got (penalty=l2)\n",
            "  warnings.warn(\n",
            "/usr/local/lib/python3.10/dist-packages/sklearn/linear_model/_logistic.py:1172: UserWarning: l1_ratio parameter is only used when penalty is 'elasticnet'. Got (penalty=l2)\n",
            "  warnings.warn(\n"
          ]
        },
        {
          "output_type": "stream",
          "name": "stdout",
          "text": [
            "[CV] END ......C=0.01, l1_ratio=0, penalty=none, solver=saga; total time=   0.0s\n",
            "[CV] END .....C=0.01, l1_ratio=0.5, penalty=l1, solver=lbfgs; total time=   0.0s\n",
            "[CV] END .....C=0.01, l1_ratio=0.5, penalty=l1, solver=lbfgs; total time=   0.0s\n",
            "[CV] END .....C=0.01, l1_ratio=0.5, penalty=l1, solver=lbfgs; total time=   0.0s\n",
            "[CV] END .....C=0.01, l1_ratio=0.5, penalty=l1, solver=lbfgs; total time=   0.0s\n",
            "[CV] END .....C=0.01, l1_ratio=0.5, penalty=l1, solver=lbfgs; total time=   0.0s\n",
            "[CV] END .C=0.01, l1_ratio=0.5, penalty=l1, solver=liblinear; total time=   0.0s\n",
            "[CV] END .C=0.01, l1_ratio=0.5, penalty=l1, solver=liblinear; total time=   0.0s\n",
            "[CV] END .C=0.01, l1_ratio=0.5, penalty=l1, solver=liblinear; total time=   0.0s\n",
            "[CV] END .C=0.01, l1_ratio=0.5, penalty=l1, solver=liblinear; total time=   0.0s\n",
            "[CV] END .C=0.01, l1_ratio=0.5, penalty=l1, solver=liblinear; total time=   0.0s\n",
            "[CV] END ......C=0.01, l1_ratio=0.5, penalty=l1, solver=saga; total time=   0.0s\n",
            "[CV] END ......C=0.01, l1_ratio=0.5, penalty=l1, solver=saga; total time=   0.0s\n",
            "[CV] END ......C=0.01, l1_ratio=0.5, penalty=l1, solver=saga; total time=   0.0s\n",
            "[CV] END ......C=0.01, l1_ratio=0.5, penalty=l1, solver=saga; total time=   0.0s\n",
            "[CV] END ......C=0.01, l1_ratio=0.5, penalty=l1, solver=saga; total time=   0.0s\n",
            "[CV] END .....C=0.01, l1_ratio=0.5, penalty=l2, solver=lbfgs; total time=   0.0s\n",
            "[CV] END .....C=0.01, l1_ratio=0.5, penalty=l2, solver=lbfgs; total time=   0.0s\n",
            "[CV] END .....C=0.01, l1_ratio=0.5, penalty=l2, solver=lbfgs; total time=   0.0s\n",
            "[CV] END .....C=0.01, l1_ratio=0.5, penalty=l2, solver=lbfgs; total time=   0.0s\n",
            "[CV] END .....C=0.01, l1_ratio=0.5, penalty=l2, solver=lbfgs; total time=   0.0s\n",
            "[CV] END .C=0.01, l1_ratio=0.5, penalty=l2, solver=liblinear; total time=   0.0s\n",
            "[CV] END .C=0.01, l1_ratio=0.5, penalty=l2, solver=liblinear; total time=   0.0s\n",
            "[CV] END .C=0.01, l1_ratio=0.5, penalty=l2, solver=liblinear; total time=   0.0s\n",
            "[CV] END .C=0.01, l1_ratio=0.5, penalty=l2, solver=liblinear; total time=   0.0s\n",
            "[CV] END .C=0.01, l1_ratio=0.5, penalty=l2, solver=liblinear; total time=   0.0s\n",
            "[CV] END ......C=0.01, l1_ratio=0.5, penalty=l2, solver=saga; total time=   0.0s\n",
            "[CV] END ......C=0.01, l1_ratio=0.5, penalty=l2, solver=saga; total time=   0.0s\n",
            "[CV] END ......C=0.01, l1_ratio=0.5, penalty=l2, solver=saga; total time=   0.0s\n",
            "[CV] END ......C=0.01, l1_ratio=0.5, penalty=l2, solver=saga; total time=   0.0s\n",
            "[CV] END ......C=0.01, l1_ratio=0.5, penalty=l2, solver=saga; total time=   0.0s\n",
            "[CV] END C=0.01, l1_ratio=0.5, penalty=elasticnet, solver=lbfgs; total time=   0.0s\n",
            "[CV] END C=0.01, l1_ratio=0.5, penalty=elasticnet, solver=lbfgs; total time=   0.0s\n",
            "[CV] END C=0.01, l1_ratio=0.5, penalty=elasticnet, solver=lbfgs; total time=   0.0s\n",
            "[CV] END C=0.01, l1_ratio=0.5, penalty=elasticnet, solver=lbfgs; total time=   0.0s\n",
            "[CV] END C=0.01, l1_ratio=0.5, penalty=elasticnet, solver=lbfgs; total time=   0.0s\n",
            "[CV] END C=0.01, l1_ratio=0.5, penalty=elasticnet, solver=liblinear; total time=   0.0s\n",
            "[CV] END C=0.01, l1_ratio=0.5, penalty=elasticnet, solver=liblinear; total time=   0.0s\n",
            "[CV] END C=0.01, l1_ratio=0.5, penalty=elasticnet, solver=liblinear; total time=   0.0s\n",
            "[CV] END C=0.01, l1_ratio=0.5, penalty=elasticnet, solver=liblinear; total time=   0.0s\n",
            "[CV] END C=0.01, l1_ratio=0.5, penalty=elasticnet, solver=liblinear; total time=   0.0s\n",
            "[CV] END C=0.01, l1_ratio=0.5, penalty=elasticnet, solver=saga; total time=   0.0s\n",
            "[CV] END C=0.01, l1_ratio=0.5, penalty=elasticnet, solver=saga; total time=   0.0s\n",
            "[CV] END C=0.01, l1_ratio=0.5, penalty=elasticnet, solver=saga; total time=   0.0s\n",
            "[CV] END C=0.01, l1_ratio=0.5, penalty=elasticnet, solver=saga; total time=   0.0s\n",
            "[CV] END C=0.01, l1_ratio=0.5, penalty=elasticnet, solver=saga; total time=   0.0s\n"
          ]
        },
        {
          "output_type": "stream",
          "name": "stderr",
          "text": [
            "/usr/local/lib/python3.10/dist-packages/sklearn/linear_model/_logistic.py:1172: UserWarning: l1_ratio parameter is only used when penalty is 'elasticnet'. Got (penalty=l2)\n",
            "  warnings.warn(\n",
            "/usr/local/lib/python3.10/dist-packages/sklearn/linear_model/_logistic.py:1172: UserWarning: l1_ratio parameter is only used when penalty is 'elasticnet'. Got (penalty=l2)\n",
            "  warnings.warn(\n",
            "/usr/local/lib/python3.10/dist-packages/sklearn/linear_model/_logistic.py:1172: UserWarning: l1_ratio parameter is only used when penalty is 'elasticnet'. Got (penalty=l2)\n",
            "  warnings.warn(\n",
            "/usr/local/lib/python3.10/dist-packages/sklearn/linear_model/_logistic.py:1172: UserWarning: l1_ratio parameter is only used when penalty is 'elasticnet'. Got (penalty=l2)\n",
            "  warnings.warn(\n",
            "/usr/local/lib/python3.10/dist-packages/sklearn/linear_model/_logistic.py:1172: UserWarning: l1_ratio parameter is only used when penalty is 'elasticnet'. Got (penalty=l2)\n",
            "  warnings.warn(\n",
            "/usr/local/lib/python3.10/dist-packages/sklearn/linear_model/_logistic.py:1172: UserWarning: l1_ratio parameter is only used when penalty is 'elasticnet'. Got (penalty=l2)\n",
            "  warnings.warn(\n",
            "/usr/local/lib/python3.10/dist-packages/sklearn/linear_model/_logistic.py:1172: UserWarning: l1_ratio parameter is only used when penalty is 'elasticnet'. Got (penalty=l2)\n",
            "  warnings.warn(\n",
            "/usr/local/lib/python3.10/dist-packages/sklearn/linear_model/_logistic.py:1172: UserWarning: l1_ratio parameter is only used when penalty is 'elasticnet'. Got (penalty=l2)\n",
            "  warnings.warn(\n",
            "/usr/local/lib/python3.10/dist-packages/sklearn/linear_model/_logistic.py:1172: UserWarning: l1_ratio parameter is only used when penalty is 'elasticnet'. Got (penalty=l2)\n",
            "  warnings.warn(\n",
            "/usr/local/lib/python3.10/dist-packages/sklearn/linear_model/_logistic.py:1172: UserWarning: l1_ratio parameter is only used when penalty is 'elasticnet'. Got (penalty=none)\n",
            "  warnings.warn(\n",
            "/usr/local/lib/python3.10/dist-packages/sklearn/linear_model/_logistic.py:1183: FutureWarning: `penalty='none'`has been deprecated in 1.2 and will be removed in 1.4. To keep the past behaviour, set `penalty=None`.\n",
            "  warnings.warn(\n",
            "/usr/local/lib/python3.10/dist-packages/sklearn/linear_model/_logistic.py:1193: UserWarning: Setting penalty=None will ignore the C and l1_ratio parameters\n",
            "  warnings.warn(\n",
            "/usr/local/lib/python3.10/dist-packages/sklearn/linear_model/_logistic.py:1172: UserWarning: l1_ratio parameter is only used when penalty is 'elasticnet'. Got (penalty=none)\n",
            "  warnings.warn(\n",
            "/usr/local/lib/python3.10/dist-packages/sklearn/linear_model/_logistic.py:1183: FutureWarning: `penalty='none'`has been deprecated in 1.2 and will be removed in 1.4. To keep the past behaviour, set `penalty=None`.\n",
            "  warnings.warn(\n",
            "/usr/local/lib/python3.10/dist-packages/sklearn/linear_model/_logistic.py:1193: UserWarning: Setting penalty=None will ignore the C and l1_ratio parameters\n",
            "  warnings.warn(\n",
            "/usr/local/lib/python3.10/dist-packages/sklearn/linear_model/_logistic.py:1172: UserWarning: l1_ratio parameter is only used when penalty is 'elasticnet'. Got (penalty=none)\n",
            "  warnings.warn(\n",
            "/usr/local/lib/python3.10/dist-packages/sklearn/linear_model/_logistic.py:1183: FutureWarning: `penalty='none'`has been deprecated in 1.2 and will be removed in 1.4. To keep the past behaviour, set `penalty=None`.\n",
            "  warnings.warn(\n",
            "/usr/local/lib/python3.10/dist-packages/sklearn/linear_model/_logistic.py:1193: UserWarning: Setting penalty=None will ignore the C and l1_ratio parameters\n",
            "  warnings.warn(\n",
            "/usr/local/lib/python3.10/dist-packages/sklearn/linear_model/_logistic.py:1172: UserWarning: l1_ratio parameter is only used when penalty is 'elasticnet'. Got (penalty=none)\n",
            "  warnings.warn(\n",
            "/usr/local/lib/python3.10/dist-packages/sklearn/linear_model/_logistic.py:1183: FutureWarning: `penalty='none'`has been deprecated in 1.2 and will be removed in 1.4. To keep the past behaviour, set `penalty=None`.\n",
            "  warnings.warn(\n",
            "/usr/local/lib/python3.10/dist-packages/sklearn/linear_model/_logistic.py:1193: UserWarning: Setting penalty=None will ignore the C and l1_ratio parameters\n",
            "  warnings.warn(\n",
            "/usr/local/lib/python3.10/dist-packages/sklearn/linear_model/_logistic.py:1172: UserWarning: l1_ratio parameter is only used when penalty is 'elasticnet'. Got (penalty=none)\n",
            "  warnings.warn(\n",
            "/usr/local/lib/python3.10/dist-packages/sklearn/linear_model/_logistic.py:1183: FutureWarning: `penalty='none'`has been deprecated in 1.2 and will be removed in 1.4. To keep the past behaviour, set `penalty=None`.\n",
            "  warnings.warn(\n",
            "/usr/local/lib/python3.10/dist-packages/sklearn/linear_model/_logistic.py:1193: UserWarning: Setting penalty=None will ignore the C and l1_ratio parameters\n",
            "  warnings.warn(\n",
            "/usr/local/lib/python3.10/dist-packages/sklearn/linear_model/_logistic.py:1172: UserWarning: l1_ratio parameter is only used when penalty is 'elasticnet'. Got (penalty=none)\n",
            "  warnings.warn(\n",
            "/usr/local/lib/python3.10/dist-packages/sklearn/linear_model/_logistic.py:1183: FutureWarning: `penalty='none'`has been deprecated in 1.2 and will be removed in 1.4. To keep the past behaviour, set `penalty=None`.\n",
            "  warnings.warn(\n",
            "/usr/local/lib/python3.10/dist-packages/sklearn/linear_model/_logistic.py:1193: UserWarning: Setting penalty=None will ignore the C and l1_ratio parameters\n",
            "  warnings.warn(\n"
          ]
        },
        {
          "output_type": "stream",
          "name": "stdout",
          "text": [
            "[CV] END ...C=0.01, l1_ratio=0.5, penalty=none, solver=lbfgs; total time=   0.0s\n",
            "[CV] END ...C=0.01, l1_ratio=0.5, penalty=none, solver=lbfgs; total time=   0.0s\n",
            "[CV] END ...C=0.01, l1_ratio=0.5, penalty=none, solver=lbfgs; total time=   0.0s\n",
            "[CV] END ...C=0.01, l1_ratio=0.5, penalty=none, solver=lbfgs; total time=   0.0s\n",
            "[CV] END ...C=0.01, l1_ratio=0.5, penalty=none, solver=lbfgs; total time=   0.0s\n",
            "[CV] END C=0.01, l1_ratio=0.5, penalty=none, solver=liblinear; total time=   0.0s\n",
            "[CV] END C=0.01, l1_ratio=0.5, penalty=none, solver=liblinear; total time=   0.0s\n",
            "[CV] END C=0.01, l1_ratio=0.5, penalty=none, solver=liblinear; total time=   0.0s\n",
            "[CV] END C=0.01, l1_ratio=0.5, penalty=none, solver=liblinear; total time=   0.0s\n",
            "[CV] END C=0.01, l1_ratio=0.5, penalty=none, solver=liblinear; total time=   0.0s\n",
            "[CV] END ....C=0.01, l1_ratio=0.5, penalty=none, solver=saga; total time=   0.1s\n",
            "[CV] END ....C=0.01, l1_ratio=0.5, penalty=none, solver=saga; total time=   0.1s\n"
          ]
        },
        {
          "output_type": "stream",
          "name": "stderr",
          "text": [
            "/usr/local/lib/python3.10/dist-packages/sklearn/linear_model/_logistic.py:1172: UserWarning: l1_ratio parameter is only used when penalty is 'elasticnet'. Got (penalty=none)\n",
            "  warnings.warn(\n",
            "/usr/local/lib/python3.10/dist-packages/sklearn/linear_model/_logistic.py:1183: FutureWarning: `penalty='none'`has been deprecated in 1.2 and will be removed in 1.4. To keep the past behaviour, set `penalty=None`.\n",
            "  warnings.warn(\n",
            "/usr/local/lib/python3.10/dist-packages/sklearn/linear_model/_logistic.py:1193: UserWarning: Setting penalty=None will ignore the C and l1_ratio parameters\n",
            "  warnings.warn(\n",
            "/usr/local/lib/python3.10/dist-packages/sklearn/linear_model/_logistic.py:1172: UserWarning: l1_ratio parameter is only used when penalty is 'elasticnet'. Got (penalty=none)\n",
            "  warnings.warn(\n",
            "/usr/local/lib/python3.10/dist-packages/sklearn/linear_model/_logistic.py:1183: FutureWarning: `penalty='none'`has been deprecated in 1.2 and will be removed in 1.4. To keep the past behaviour, set `penalty=None`.\n",
            "  warnings.warn(\n",
            "/usr/local/lib/python3.10/dist-packages/sklearn/linear_model/_logistic.py:1193: UserWarning: Setting penalty=None will ignore the C and l1_ratio parameters\n",
            "  warnings.warn(\n",
            "/usr/local/lib/python3.10/dist-packages/sklearn/linear_model/_logistic.py:1172: UserWarning: l1_ratio parameter is only used when penalty is 'elasticnet'. Got (penalty=none)\n",
            "  warnings.warn(\n",
            "/usr/local/lib/python3.10/dist-packages/sklearn/linear_model/_logistic.py:1183: FutureWarning: `penalty='none'`has been deprecated in 1.2 and will be removed in 1.4. To keep the past behaviour, set `penalty=None`.\n",
            "  warnings.warn(\n",
            "/usr/local/lib/python3.10/dist-packages/sklearn/linear_model/_logistic.py:1193: UserWarning: Setting penalty=None will ignore the C and l1_ratio parameters\n",
            "  warnings.warn(\n",
            "/usr/local/lib/python3.10/dist-packages/sklearn/linear_model/_logistic.py:1172: UserWarning: l1_ratio parameter is only used when penalty is 'elasticnet'. Got (penalty=none)\n",
            "  warnings.warn(\n",
            "/usr/local/lib/python3.10/dist-packages/sklearn/linear_model/_logistic.py:1183: FutureWarning: `penalty='none'`has been deprecated in 1.2 and will be removed in 1.4. To keep the past behaviour, set `penalty=None`.\n",
            "  warnings.warn(\n",
            "/usr/local/lib/python3.10/dist-packages/sklearn/linear_model/_logistic.py:1193: UserWarning: Setting penalty=None will ignore the C and l1_ratio parameters\n",
            "  warnings.warn(\n"
          ]
        },
        {
          "output_type": "stream",
          "name": "stdout",
          "text": [
            "[CV] END ....C=0.01, l1_ratio=0.5, penalty=none, solver=saga; total time=   0.1s\n",
            "[CV] END ....C=0.01, l1_ratio=0.5, penalty=none, solver=saga; total time=   0.1s\n",
            "[CV] END ....C=0.01, l1_ratio=0.5, penalty=none, solver=saga; total time=   0.1s\n",
            "[CV] END .......C=0.01, l1_ratio=1, penalty=l1, solver=lbfgs; total time=   0.0s\n",
            "[CV] END .......C=0.01, l1_ratio=1, penalty=l1, solver=lbfgs; total time=   0.0s\n",
            "[CV] END .......C=0.01, l1_ratio=1, penalty=l1, solver=lbfgs; total time=   0.0s\n",
            "[CV] END .......C=0.01, l1_ratio=1, penalty=l1, solver=lbfgs; total time=   0.0s\n",
            "[CV] END .......C=0.01, l1_ratio=1, penalty=l1, solver=lbfgs; total time=   0.0s\n",
            "[CV] END ...C=0.01, l1_ratio=1, penalty=l1, solver=liblinear; total time=   0.0s\n",
            "[CV] END ...C=0.01, l1_ratio=1, penalty=l1, solver=liblinear; total time=   0.0s\n",
            "[CV] END ...C=0.01, l1_ratio=1, penalty=l1, solver=liblinear; total time=   0.0s\n",
            "[CV] END ...C=0.01, l1_ratio=1, penalty=l1, solver=liblinear; total time=   0.0s\n",
            "[CV] END ...C=0.01, l1_ratio=1, penalty=l1, solver=liblinear; total time=   0.0s\n",
            "[CV] END ........C=0.01, l1_ratio=1, penalty=l1, solver=saga; total time=   0.0s\n",
            "[CV] END ........C=0.01, l1_ratio=1, penalty=l1, solver=saga; total time=   0.0s\n",
            "[CV] END ........C=0.01, l1_ratio=1, penalty=l1, solver=saga; total time=   0.0s\n",
            "[CV] END ........C=0.01, l1_ratio=1, penalty=l1, solver=saga; total time=   0.0s\n",
            "[CV] END ........C=0.01, l1_ratio=1, penalty=l1, solver=saga; total time=   0.0s\n"
          ]
        },
        {
          "output_type": "stream",
          "name": "stderr",
          "text": [
            "/usr/local/lib/python3.10/dist-packages/sklearn/linear_model/_logistic.py:1172: UserWarning: l1_ratio parameter is only used when penalty is 'elasticnet'. Got (penalty=l1)\n",
            "  warnings.warn(\n",
            "/usr/local/lib/python3.10/dist-packages/sklearn/linear_model/_logistic.py:1172: UserWarning: l1_ratio parameter is only used when penalty is 'elasticnet'. Got (penalty=l1)\n",
            "  warnings.warn(\n",
            "/usr/local/lib/python3.10/dist-packages/sklearn/linear_model/_logistic.py:1172: UserWarning: l1_ratio parameter is only used when penalty is 'elasticnet'. Got (penalty=l1)\n",
            "  warnings.warn(\n",
            "/usr/local/lib/python3.10/dist-packages/sklearn/linear_model/_logistic.py:1172: UserWarning: l1_ratio parameter is only used when penalty is 'elasticnet'. Got (penalty=l1)\n",
            "  warnings.warn(\n",
            "/usr/local/lib/python3.10/dist-packages/sklearn/linear_model/_logistic.py:1172: UserWarning: l1_ratio parameter is only used when penalty is 'elasticnet'. Got (penalty=l1)\n",
            "  warnings.warn(\n",
            "/usr/local/lib/python3.10/dist-packages/sklearn/linear_model/_logistic.py:1172: UserWarning: l1_ratio parameter is only used when penalty is 'elasticnet'. Got (penalty=l1)\n",
            "  warnings.warn(\n",
            "/usr/local/lib/python3.10/dist-packages/sklearn/linear_model/_logistic.py:1172: UserWarning: l1_ratio parameter is only used when penalty is 'elasticnet'. Got (penalty=l1)\n",
            "  warnings.warn(\n",
            "/usr/local/lib/python3.10/dist-packages/sklearn/linear_model/_logistic.py:1172: UserWarning: l1_ratio parameter is only used when penalty is 'elasticnet'. Got (penalty=l1)\n",
            "  warnings.warn(\n",
            "/usr/local/lib/python3.10/dist-packages/sklearn/linear_model/_logistic.py:1172: UserWarning: l1_ratio parameter is only used when penalty is 'elasticnet'. Got (penalty=l1)\n",
            "  warnings.warn(\n",
            "/usr/local/lib/python3.10/dist-packages/sklearn/linear_model/_logistic.py:1172: UserWarning: l1_ratio parameter is only used when penalty is 'elasticnet'. Got (penalty=l1)\n",
            "  warnings.warn(\n",
            "/usr/local/lib/python3.10/dist-packages/sklearn/linear_model/_logistic.py:1172: UserWarning: l1_ratio parameter is only used when penalty is 'elasticnet'. Got (penalty=l2)\n",
            "  warnings.warn(\n",
            "/usr/local/lib/python3.10/dist-packages/sklearn/linear_model/_logistic.py:1172: UserWarning: l1_ratio parameter is only used when penalty is 'elasticnet'. Got (penalty=l2)\n",
            "  warnings.warn(\n",
            "/usr/local/lib/python3.10/dist-packages/sklearn/linear_model/_logistic.py:1172: UserWarning: l1_ratio parameter is only used when penalty is 'elasticnet'. Got (penalty=l2)\n",
            "  warnings.warn(\n",
            "/usr/local/lib/python3.10/dist-packages/sklearn/linear_model/_logistic.py:1172: UserWarning: l1_ratio parameter is only used when penalty is 'elasticnet'. Got (penalty=l2)\n",
            "  warnings.warn(\n",
            "/usr/local/lib/python3.10/dist-packages/sklearn/linear_model/_logistic.py:1172: UserWarning: l1_ratio parameter is only used when penalty is 'elasticnet'. Got (penalty=l2)\n",
            "  warnings.warn(\n",
            "/usr/local/lib/python3.10/dist-packages/sklearn/linear_model/_logistic.py:1172: UserWarning: l1_ratio parameter is only used when penalty is 'elasticnet'. Got (penalty=l2)\n",
            "  warnings.warn(\n",
            "/usr/local/lib/python3.10/dist-packages/sklearn/linear_model/_logistic.py:1172: UserWarning: l1_ratio parameter is only used when penalty is 'elasticnet'. Got (penalty=l2)\n",
            "  warnings.warn(\n",
            "/usr/local/lib/python3.10/dist-packages/sklearn/linear_model/_logistic.py:1172: UserWarning: l1_ratio parameter is only used when penalty is 'elasticnet'. Got (penalty=l2)\n",
            "  warnings.warn(\n",
            "/usr/local/lib/python3.10/dist-packages/sklearn/linear_model/_logistic.py:1172: UserWarning: l1_ratio parameter is only used when penalty is 'elasticnet'. Got (penalty=l2)\n",
            "  warnings.warn(\n",
            "/usr/local/lib/python3.10/dist-packages/sklearn/linear_model/_logistic.py:1172: UserWarning: l1_ratio parameter is only used when penalty is 'elasticnet'. Got (penalty=l2)\n",
            "  warnings.warn(\n",
            "/usr/local/lib/python3.10/dist-packages/sklearn/linear_model/_logistic.py:1172: UserWarning: l1_ratio parameter is only used when penalty is 'elasticnet'. Got (penalty=l2)\n",
            "  warnings.warn(\n",
            "/usr/local/lib/python3.10/dist-packages/sklearn/linear_model/_logistic.py:1172: UserWarning: l1_ratio parameter is only used when penalty is 'elasticnet'. Got (penalty=l2)\n",
            "  warnings.warn(\n",
            "/usr/local/lib/python3.10/dist-packages/sklearn/linear_model/_logistic.py:1172: UserWarning: l1_ratio parameter is only used when penalty is 'elasticnet'. Got (penalty=l2)\n",
            "  warnings.warn(\n",
            "/usr/local/lib/python3.10/dist-packages/sklearn/linear_model/_logistic.py:1172: UserWarning: l1_ratio parameter is only used when penalty is 'elasticnet'. Got (penalty=l2)\n",
            "  warnings.warn(\n",
            "/usr/local/lib/python3.10/dist-packages/sklearn/linear_model/_logistic.py:1172: UserWarning: l1_ratio parameter is only used when penalty is 'elasticnet'. Got (penalty=l2)\n",
            "  warnings.warn(\n",
            "/usr/local/lib/python3.10/dist-packages/sklearn/linear_model/_logistic.py:1172: UserWarning: l1_ratio parameter is only used when penalty is 'elasticnet'. Got (penalty=none)\n",
            "  warnings.warn(\n",
            "/usr/local/lib/python3.10/dist-packages/sklearn/linear_model/_logistic.py:1183: FutureWarning: `penalty='none'`has been deprecated in 1.2 and will be removed in 1.4. To keep the past behaviour, set `penalty=None`.\n",
            "  warnings.warn(\n",
            "/usr/local/lib/python3.10/dist-packages/sklearn/linear_model/_logistic.py:1193: UserWarning: Setting penalty=None will ignore the C and l1_ratio parameters\n",
            "  warnings.warn(\n"
          ]
        },
        {
          "output_type": "stream",
          "name": "stdout",
          "text": [
            "[CV] END .......C=0.01, l1_ratio=1, penalty=l2, solver=lbfgs; total time=   0.0s\n",
            "[CV] END .......C=0.01, l1_ratio=1, penalty=l2, solver=lbfgs; total time=   0.0s\n",
            "[CV] END .......C=0.01, l1_ratio=1, penalty=l2, solver=lbfgs; total time=   0.0s\n",
            "[CV] END .......C=0.01, l1_ratio=1, penalty=l2, solver=lbfgs; total time=   0.0s\n",
            "[CV] END .......C=0.01, l1_ratio=1, penalty=l2, solver=lbfgs; total time=   0.0s\n",
            "[CV] END ...C=0.01, l1_ratio=1, penalty=l2, solver=liblinear; total time=   0.0s\n",
            "[CV] END ...C=0.01, l1_ratio=1, penalty=l2, solver=liblinear; total time=   0.0s\n",
            "[CV] END ...C=0.01, l1_ratio=1, penalty=l2, solver=liblinear; total time=   0.0s\n",
            "[CV] END ...C=0.01, l1_ratio=1, penalty=l2, solver=liblinear; total time=   0.0s\n",
            "[CV] END ...C=0.01, l1_ratio=1, penalty=l2, solver=liblinear; total time=   0.0s\n",
            "[CV] END ........C=0.01, l1_ratio=1, penalty=l2, solver=saga; total time=   0.0s\n",
            "[CV] END ........C=0.01, l1_ratio=1, penalty=l2, solver=saga; total time=   0.0s\n",
            "[CV] END ........C=0.01, l1_ratio=1, penalty=l2, solver=saga; total time=   0.0s\n",
            "[CV] END ........C=0.01, l1_ratio=1, penalty=l2, solver=saga; total time=   0.0s\n",
            "[CV] END ........C=0.01, l1_ratio=1, penalty=l2, solver=saga; total time=   0.0s\n",
            "[CV] END C=0.01, l1_ratio=1, penalty=elasticnet, solver=lbfgs; total time=   0.0s\n",
            "[CV] END C=0.01, l1_ratio=1, penalty=elasticnet, solver=lbfgs; total time=   0.0s\n",
            "[CV] END C=0.01, l1_ratio=1, penalty=elasticnet, solver=lbfgs; total time=   0.0s\n",
            "[CV] END C=0.01, l1_ratio=1, penalty=elasticnet, solver=lbfgs; total time=   0.0s\n",
            "[CV] END C=0.01, l1_ratio=1, penalty=elasticnet, solver=lbfgs; total time=   0.0s\n",
            "[CV] END C=0.01, l1_ratio=1, penalty=elasticnet, solver=liblinear; total time=   0.0s\n",
            "[CV] END C=0.01, l1_ratio=1, penalty=elasticnet, solver=liblinear; total time=   0.0s\n",
            "[CV] END C=0.01, l1_ratio=1, penalty=elasticnet, solver=liblinear; total time=   0.0s\n",
            "[CV] END C=0.01, l1_ratio=1, penalty=elasticnet, solver=liblinear; total time=   0.0s\n",
            "[CV] END C=0.01, l1_ratio=1, penalty=elasticnet, solver=liblinear; total time=   0.0s\n",
            "[CV] END C=0.01, l1_ratio=1, penalty=elasticnet, solver=saga; total time=   0.0s\n",
            "[CV] END C=0.01, l1_ratio=1, penalty=elasticnet, solver=saga; total time=   0.0s\n",
            "[CV] END C=0.01, l1_ratio=1, penalty=elasticnet, solver=saga; total time=   0.0s\n",
            "[CV] END C=0.01, l1_ratio=1, penalty=elasticnet, solver=saga; total time=   0.0s\n",
            "[CV] END C=0.01, l1_ratio=1, penalty=elasticnet, solver=saga; total time=   0.0s\n",
            "[CV] END .....C=0.01, l1_ratio=1, penalty=none, solver=lbfgs; total time=   0.0s\n",
            "[CV] END .....C=0.01, l1_ratio=1, penalty=none, solver=lbfgs; total time=   0.0s\n",
            "[CV] END .....C=0.01, l1_ratio=1, penalty=none, solver=lbfgs; total time=   0.0s\n",
            "[CV] END .....C=0.01, l1_ratio=1, penalty=none, solver=lbfgs; total time=   0.0s\n",
            "[CV] END .....C=0.01, l1_ratio=1, penalty=none, solver=lbfgs; total time=   0.0s\n",
            "[CV] END .C=0.01, l1_ratio=1, penalty=none, solver=liblinear; total time=   0.0s\n",
            "[CV] END .C=0.01, l1_ratio=1, penalty=none, solver=liblinear; total time=   0.0s\n",
            "[CV] END .C=0.01, l1_ratio=1, penalty=none, solver=liblinear; total time=   0.0s\n",
            "[CV] END .C=0.01, l1_ratio=1, penalty=none, solver=liblinear; total time=   0.0s\n",
            "[CV] END .C=0.01, l1_ratio=1, penalty=none, solver=liblinear; total time=   0.0s\n"
          ]
        },
        {
          "output_type": "stream",
          "name": "stderr",
          "text": [
            "/usr/local/lib/python3.10/dist-packages/sklearn/linear_model/_logistic.py:1172: UserWarning: l1_ratio parameter is only used when penalty is 'elasticnet'. Got (penalty=none)\n",
            "  warnings.warn(\n",
            "/usr/local/lib/python3.10/dist-packages/sklearn/linear_model/_logistic.py:1183: FutureWarning: `penalty='none'`has been deprecated in 1.2 and will be removed in 1.4. To keep the past behaviour, set `penalty=None`.\n",
            "  warnings.warn(\n",
            "/usr/local/lib/python3.10/dist-packages/sklearn/linear_model/_logistic.py:1193: UserWarning: Setting penalty=None will ignore the C and l1_ratio parameters\n",
            "  warnings.warn(\n",
            "/usr/local/lib/python3.10/dist-packages/sklearn/linear_model/_logistic.py:1172: UserWarning: l1_ratio parameter is only used when penalty is 'elasticnet'. Got (penalty=none)\n",
            "  warnings.warn(\n",
            "/usr/local/lib/python3.10/dist-packages/sklearn/linear_model/_logistic.py:1183: FutureWarning: `penalty='none'`has been deprecated in 1.2 and will be removed in 1.4. To keep the past behaviour, set `penalty=None`.\n",
            "  warnings.warn(\n",
            "/usr/local/lib/python3.10/dist-packages/sklearn/linear_model/_logistic.py:1193: UserWarning: Setting penalty=None will ignore the C and l1_ratio parameters\n",
            "  warnings.warn(\n",
            "/usr/local/lib/python3.10/dist-packages/sklearn/linear_model/_logistic.py:1172: UserWarning: l1_ratio parameter is only used when penalty is 'elasticnet'. Got (penalty=none)\n",
            "  warnings.warn(\n",
            "/usr/local/lib/python3.10/dist-packages/sklearn/linear_model/_logistic.py:1183: FutureWarning: `penalty='none'`has been deprecated in 1.2 and will be removed in 1.4. To keep the past behaviour, set `penalty=None`.\n",
            "  warnings.warn(\n",
            "/usr/local/lib/python3.10/dist-packages/sklearn/linear_model/_logistic.py:1193: UserWarning: Setting penalty=None will ignore the C and l1_ratio parameters\n",
            "  warnings.warn(\n",
            "/usr/local/lib/python3.10/dist-packages/sklearn/linear_model/_logistic.py:1172: UserWarning: l1_ratio parameter is only used when penalty is 'elasticnet'. Got (penalty=none)\n",
            "  warnings.warn(\n",
            "/usr/local/lib/python3.10/dist-packages/sklearn/linear_model/_logistic.py:1183: FutureWarning: `penalty='none'`has been deprecated in 1.2 and will be removed in 1.4. To keep the past behaviour, set `penalty=None`.\n",
            "  warnings.warn(\n",
            "/usr/local/lib/python3.10/dist-packages/sklearn/linear_model/_logistic.py:1193: UserWarning: Setting penalty=None will ignore the C and l1_ratio parameters\n",
            "  warnings.warn(\n",
            "/usr/local/lib/python3.10/dist-packages/sklearn/linear_model/_logistic.py:1172: UserWarning: l1_ratio parameter is only used when penalty is 'elasticnet'. Got (penalty=none)\n",
            "  warnings.warn(\n",
            "/usr/local/lib/python3.10/dist-packages/sklearn/linear_model/_logistic.py:1183: FutureWarning: `penalty='none'`has been deprecated in 1.2 and will be removed in 1.4. To keep the past behaviour, set `penalty=None`.\n",
            "  warnings.warn(\n",
            "/usr/local/lib/python3.10/dist-packages/sklearn/linear_model/_logistic.py:1193: UserWarning: Setting penalty=None will ignore the C and l1_ratio parameters\n",
            "  warnings.warn(\n",
            "/usr/local/lib/python3.10/dist-packages/sklearn/linear_model/_logistic.py:1172: UserWarning: l1_ratio parameter is only used when penalty is 'elasticnet'. Got (penalty=none)\n",
            "  warnings.warn(\n",
            "/usr/local/lib/python3.10/dist-packages/sklearn/linear_model/_logistic.py:1183: FutureWarning: `penalty='none'`has been deprecated in 1.2 and will be removed in 1.4. To keep the past behaviour, set `penalty=None`.\n",
            "  warnings.warn(\n",
            "/usr/local/lib/python3.10/dist-packages/sklearn/linear_model/_logistic.py:1193: UserWarning: Setting penalty=None will ignore the C and l1_ratio parameters\n",
            "  warnings.warn(\n",
            "/usr/local/lib/python3.10/dist-packages/sklearn/linear_model/_logistic.py:1172: UserWarning: l1_ratio parameter is only used when penalty is 'elasticnet'. Got (penalty=none)\n",
            "  warnings.warn(\n",
            "/usr/local/lib/python3.10/dist-packages/sklearn/linear_model/_logistic.py:1183: FutureWarning: `penalty='none'`has been deprecated in 1.2 and will be removed in 1.4. To keep the past behaviour, set `penalty=None`.\n",
            "  warnings.warn(\n",
            "/usr/local/lib/python3.10/dist-packages/sklearn/linear_model/_logistic.py:1193: UserWarning: Setting penalty=None will ignore the C and l1_ratio parameters\n",
            "  warnings.warn(\n",
            "/usr/local/lib/python3.10/dist-packages/sklearn/linear_model/_logistic.py:1172: UserWarning: l1_ratio parameter is only used when penalty is 'elasticnet'. Got (penalty=none)\n",
            "  warnings.warn(\n",
            "/usr/local/lib/python3.10/dist-packages/sklearn/linear_model/_logistic.py:1183: FutureWarning: `penalty='none'`has been deprecated in 1.2 and will be removed in 1.4. To keep the past behaviour, set `penalty=None`.\n",
            "  warnings.warn(\n",
            "/usr/local/lib/python3.10/dist-packages/sklearn/linear_model/_logistic.py:1193: UserWarning: Setting penalty=None will ignore the C and l1_ratio parameters\n",
            "  warnings.warn(\n"
          ]
        },
        {
          "output_type": "stream",
          "name": "stdout",
          "text": [
            "[CV] END ......C=0.01, l1_ratio=1, penalty=none, solver=saga; total time=   0.1s\n",
            "[CV] END ......C=0.01, l1_ratio=1, penalty=none, solver=saga; total time=   0.1s\n",
            "[CV] END ......C=0.01, l1_ratio=1, penalty=none, solver=saga; total time=   0.0s\n",
            "[CV] END ......C=0.01, l1_ratio=1, penalty=none, solver=saga; total time=   0.1s\n"
          ]
        },
        {
          "output_type": "stream",
          "name": "stderr",
          "text": [
            "/usr/local/lib/python3.10/dist-packages/sklearn/linear_model/_logistic.py:1172: UserWarning: l1_ratio parameter is only used when penalty is 'elasticnet'. Got (penalty=none)\n",
            "  warnings.warn(\n",
            "/usr/local/lib/python3.10/dist-packages/sklearn/linear_model/_logistic.py:1183: FutureWarning: `penalty='none'`has been deprecated in 1.2 and will be removed in 1.4. To keep the past behaviour, set `penalty=None`.\n",
            "  warnings.warn(\n",
            "/usr/local/lib/python3.10/dist-packages/sklearn/linear_model/_logistic.py:1193: UserWarning: Setting penalty=None will ignore the C and l1_ratio parameters\n",
            "  warnings.warn(\n",
            "/usr/local/lib/python3.10/dist-packages/sklearn/linear_model/_logistic.py:1172: UserWarning: l1_ratio parameter is only used when penalty is 'elasticnet'. Got (penalty=l1)\n",
            "  warnings.warn(\n",
            "/usr/local/lib/python3.10/dist-packages/sklearn/linear_model/_logistic.py:1172: UserWarning: l1_ratio parameter is only used when penalty is 'elasticnet'. Got (penalty=l1)\n",
            "  warnings.warn(\n",
            "/usr/local/lib/python3.10/dist-packages/sklearn/linear_model/_logistic.py:1172: UserWarning: l1_ratio parameter is only used when penalty is 'elasticnet'. Got (penalty=l1)\n",
            "  warnings.warn(\n",
            "/usr/local/lib/python3.10/dist-packages/sklearn/linear_model/_logistic.py:1172: UserWarning: l1_ratio parameter is only used when penalty is 'elasticnet'. Got (penalty=l1)\n",
            "  warnings.warn(\n",
            "/usr/local/lib/python3.10/dist-packages/sklearn/linear_model/_logistic.py:1172: UserWarning: l1_ratio parameter is only used when penalty is 'elasticnet'. Got (penalty=l1)\n",
            "  warnings.warn(\n",
            "/usr/local/lib/python3.10/dist-packages/sklearn/linear_model/_logistic.py:1172: UserWarning: l1_ratio parameter is only used when penalty is 'elasticnet'. Got (penalty=l1)\n",
            "  warnings.warn(\n",
            "/usr/local/lib/python3.10/dist-packages/sklearn/linear_model/_logistic.py:1172: UserWarning: l1_ratio parameter is only used when penalty is 'elasticnet'. Got (penalty=l1)\n",
            "  warnings.warn(\n",
            "/usr/local/lib/python3.10/dist-packages/sklearn/linear_model/_logistic.py:1172: UserWarning: l1_ratio parameter is only used when penalty is 'elasticnet'. Got (penalty=l1)\n",
            "  warnings.warn(\n",
            "/usr/local/lib/python3.10/dist-packages/sklearn/linear_model/_logistic.py:1172: UserWarning: l1_ratio parameter is only used when penalty is 'elasticnet'. Got (penalty=l1)\n",
            "  warnings.warn(\n",
            "/usr/local/lib/python3.10/dist-packages/sklearn/linear_model/_logistic.py:1172: UserWarning: l1_ratio parameter is only used when penalty is 'elasticnet'. Got (penalty=l1)\n",
            "  warnings.warn(\n",
            "/usr/local/lib/python3.10/dist-packages/sklearn/linear_model/_logistic.py:1172: UserWarning: l1_ratio parameter is only used when penalty is 'elasticnet'. Got (penalty=l2)\n",
            "  warnings.warn(\n",
            "/usr/local/lib/python3.10/dist-packages/sklearn/linear_model/_logistic.py:1172: UserWarning: l1_ratio parameter is only used when penalty is 'elasticnet'. Got (penalty=l2)\n",
            "  warnings.warn(\n",
            "/usr/local/lib/python3.10/dist-packages/sklearn/linear_model/_logistic.py:1172: UserWarning: l1_ratio parameter is only used when penalty is 'elasticnet'. Got (penalty=l2)\n",
            "  warnings.warn(\n",
            "/usr/local/lib/python3.10/dist-packages/sklearn/linear_model/_logistic.py:1172: UserWarning: l1_ratio parameter is only used when penalty is 'elasticnet'. Got (penalty=l2)\n",
            "  warnings.warn(\n",
            "/usr/local/lib/python3.10/dist-packages/sklearn/linear_model/_logistic.py:1172: UserWarning: l1_ratio parameter is only used when penalty is 'elasticnet'. Got (penalty=l2)\n",
            "  warnings.warn(\n",
            "/usr/local/lib/python3.10/dist-packages/sklearn/linear_model/_logistic.py:1172: UserWarning: l1_ratio parameter is only used when penalty is 'elasticnet'. Got (penalty=l2)\n",
            "  warnings.warn(\n",
            "/usr/local/lib/python3.10/dist-packages/sklearn/linear_model/_logistic.py:1172: UserWarning: l1_ratio parameter is only used when penalty is 'elasticnet'. Got (penalty=l2)\n",
            "  warnings.warn(\n",
            "/usr/local/lib/python3.10/dist-packages/sklearn/linear_model/_logistic.py:1172: UserWarning: l1_ratio parameter is only used when penalty is 'elasticnet'. Got (penalty=l2)\n",
            "  warnings.warn(\n",
            "/usr/local/lib/python3.10/dist-packages/sklearn/linear_model/_logistic.py:1172: UserWarning: l1_ratio parameter is only used when penalty is 'elasticnet'. Got (penalty=l2)\n",
            "  warnings.warn(\n",
            "/usr/local/lib/python3.10/dist-packages/sklearn/linear_model/_logistic.py:1172: UserWarning: l1_ratio parameter is only used when penalty is 'elasticnet'. Got (penalty=l2)\n",
            "  warnings.warn(\n",
            "/usr/local/lib/python3.10/dist-packages/sklearn/linear_model/_logistic.py:1172: UserWarning: l1_ratio parameter is only used when penalty is 'elasticnet'. Got (penalty=l2)\n",
            "  warnings.warn(\n"
          ]
        },
        {
          "output_type": "stream",
          "name": "stdout",
          "text": [
            "[CV] END ......C=0.01, l1_ratio=1, penalty=none, solver=saga; total time=   0.1s\n",
            "[CV] END ........C=0.1, l1_ratio=0, penalty=l1, solver=lbfgs; total time=   0.0s\n",
            "[CV] END ........C=0.1, l1_ratio=0, penalty=l1, solver=lbfgs; total time=   0.0s\n",
            "[CV] END ........C=0.1, l1_ratio=0, penalty=l1, solver=lbfgs; total time=   0.0s\n",
            "[CV] END ........C=0.1, l1_ratio=0, penalty=l1, solver=lbfgs; total time=   0.0s\n",
            "[CV] END ........C=0.1, l1_ratio=0, penalty=l1, solver=lbfgs; total time=   0.0s\n",
            "[CV] END ....C=0.1, l1_ratio=0, penalty=l1, solver=liblinear; total time=   0.0s\n",
            "[CV] END ....C=0.1, l1_ratio=0, penalty=l1, solver=liblinear; total time=   0.0s\n",
            "[CV] END ....C=0.1, l1_ratio=0, penalty=l1, solver=liblinear; total time=   0.0s\n",
            "[CV] END ....C=0.1, l1_ratio=0, penalty=l1, solver=liblinear; total time=   0.0s\n",
            "[CV] END ....C=0.1, l1_ratio=0, penalty=l1, solver=liblinear; total time=   0.0s\n",
            "[CV] END .........C=0.1, l1_ratio=0, penalty=l1, solver=saga; total time=   0.0s\n",
            "[CV] END .........C=0.1, l1_ratio=0, penalty=l1, solver=saga; total time=   0.0s\n",
            "[CV] END .........C=0.1, l1_ratio=0, penalty=l1, solver=saga; total time=   0.0s\n",
            "[CV] END .........C=0.1, l1_ratio=0, penalty=l1, solver=saga; total time=   0.0s\n",
            "[CV] END .........C=0.1, l1_ratio=0, penalty=l1, solver=saga; total time=   0.0s\n",
            "[CV] END ........C=0.1, l1_ratio=0, penalty=l2, solver=lbfgs; total time=   0.0s\n",
            "[CV] END ........C=0.1, l1_ratio=0, penalty=l2, solver=lbfgs; total time=   0.0s\n",
            "[CV] END ........C=0.1, l1_ratio=0, penalty=l2, solver=lbfgs; total time=   0.0s\n",
            "[CV] END ........C=0.1, l1_ratio=0, penalty=l2, solver=lbfgs; total time=   0.0s\n",
            "[CV] END ........C=0.1, l1_ratio=0, penalty=l2, solver=lbfgs; total time=   0.0s\n",
            "[CV] END ....C=0.1, l1_ratio=0, penalty=l2, solver=liblinear; total time=   0.0s\n",
            "[CV] END ....C=0.1, l1_ratio=0, penalty=l2, solver=liblinear; total time=   0.0s\n",
            "[CV] END ....C=0.1, l1_ratio=0, penalty=l2, solver=liblinear; total time=   0.0s\n",
            "[CV] END ....C=0.1, l1_ratio=0, penalty=l2, solver=liblinear; total time=   0.0s\n",
            "[CV] END ....C=0.1, l1_ratio=0, penalty=l2, solver=liblinear; total time=   0.0s\n",
            "[CV] END .........C=0.1, l1_ratio=0, penalty=l2, solver=saga; total time=   0.0s\n",
            "[CV] END .........C=0.1, l1_ratio=0, penalty=l2, solver=saga; total time=   0.0s\n",
            "[CV] END .........C=0.1, l1_ratio=0, penalty=l2, solver=saga; total time=   0.0s\n",
            "[CV] END .........C=0.1, l1_ratio=0, penalty=l2, solver=saga; total time=   0.0s\n",
            "[CV] END .........C=0.1, l1_ratio=0, penalty=l2, solver=saga; total time=   0.0s\n",
            "[CV] END C=0.1, l1_ratio=0, penalty=elasticnet, solver=lbfgs; total time=   0.0s\n",
            "[CV] END C=0.1, l1_ratio=0, penalty=elasticnet, solver=lbfgs; total time=   0.0s\n",
            "[CV] END C=0.1, l1_ratio=0, penalty=elasticnet, solver=lbfgs; total time=   0.0s\n",
            "[CV] END C=0.1, l1_ratio=0, penalty=elasticnet, solver=lbfgs; total time=   0.0s\n",
            "[CV] END C=0.1, l1_ratio=0, penalty=elasticnet, solver=lbfgs; total time=   0.0s\n",
            "[CV] END C=0.1, l1_ratio=0, penalty=elasticnet, solver=liblinear; total time=   0.0s\n",
            "[CV] END C=0.1, l1_ratio=0, penalty=elasticnet, solver=liblinear; total time=   0.0s\n",
            "[CV] END C=0.1, l1_ratio=0, penalty=elasticnet, solver=liblinear; total time=   0.0s\n",
            "[CV] END C=0.1, l1_ratio=0, penalty=elasticnet, solver=liblinear; total time=   0.0s\n",
            "[CV] END C=0.1, l1_ratio=0, penalty=elasticnet, solver=liblinear; total time=   0.0s\n",
            "[CV] END .C=0.1, l1_ratio=0, penalty=elasticnet, solver=saga; total time=   0.0s\n"
          ]
        },
        {
          "output_type": "stream",
          "name": "stderr",
          "text": [
            "/usr/local/lib/python3.10/dist-packages/sklearn/linear_model/_logistic.py:1172: UserWarning: l1_ratio parameter is only used when penalty is 'elasticnet'. Got (penalty=l2)\n",
            "  warnings.warn(\n",
            "/usr/local/lib/python3.10/dist-packages/sklearn/linear_model/_logistic.py:1172: UserWarning: l1_ratio parameter is only used when penalty is 'elasticnet'. Got (penalty=l2)\n",
            "  warnings.warn(\n",
            "/usr/local/lib/python3.10/dist-packages/sklearn/linear_model/_logistic.py:1172: UserWarning: l1_ratio parameter is only used when penalty is 'elasticnet'. Got (penalty=l2)\n",
            "  warnings.warn(\n",
            "/usr/local/lib/python3.10/dist-packages/sklearn/linear_model/_logistic.py:1172: UserWarning: l1_ratio parameter is only used when penalty is 'elasticnet'. Got (penalty=l2)\n",
            "  warnings.warn(\n",
            "/usr/local/lib/python3.10/dist-packages/sklearn/linear_model/_logistic.py:1172: UserWarning: l1_ratio parameter is only used when penalty is 'elasticnet'. Got (penalty=none)\n",
            "  warnings.warn(\n",
            "/usr/local/lib/python3.10/dist-packages/sklearn/linear_model/_logistic.py:1183: FutureWarning: `penalty='none'`has been deprecated in 1.2 and will be removed in 1.4. To keep the past behaviour, set `penalty=None`.\n",
            "  warnings.warn(\n",
            "/usr/local/lib/python3.10/dist-packages/sklearn/linear_model/_logistic.py:1193: UserWarning: Setting penalty=None will ignore the C and l1_ratio parameters\n",
            "  warnings.warn(\n",
            "/usr/local/lib/python3.10/dist-packages/sklearn/linear_model/_logistic.py:1172: UserWarning: l1_ratio parameter is only used when penalty is 'elasticnet'. Got (penalty=none)\n",
            "  warnings.warn(\n",
            "/usr/local/lib/python3.10/dist-packages/sklearn/linear_model/_logistic.py:1183: FutureWarning: `penalty='none'`has been deprecated in 1.2 and will be removed in 1.4. To keep the past behaviour, set `penalty=None`.\n",
            "  warnings.warn(\n",
            "/usr/local/lib/python3.10/dist-packages/sklearn/linear_model/_logistic.py:1193: UserWarning: Setting penalty=None will ignore the C and l1_ratio parameters\n",
            "  warnings.warn(\n",
            "/usr/local/lib/python3.10/dist-packages/sklearn/linear_model/_logistic.py:1172: UserWarning: l1_ratio parameter is only used when penalty is 'elasticnet'. Got (penalty=none)\n",
            "  warnings.warn(\n",
            "/usr/local/lib/python3.10/dist-packages/sklearn/linear_model/_logistic.py:1183: FutureWarning: `penalty='none'`has been deprecated in 1.2 and will be removed in 1.4. To keep the past behaviour, set `penalty=None`.\n",
            "  warnings.warn(\n",
            "/usr/local/lib/python3.10/dist-packages/sklearn/linear_model/_logistic.py:1193: UserWarning: Setting penalty=None will ignore the C and l1_ratio parameters\n",
            "  warnings.warn(\n",
            "/usr/local/lib/python3.10/dist-packages/sklearn/linear_model/_logistic.py:1172: UserWarning: l1_ratio parameter is only used when penalty is 'elasticnet'. Got (penalty=none)\n",
            "  warnings.warn(\n",
            "/usr/local/lib/python3.10/dist-packages/sklearn/linear_model/_logistic.py:1183: FutureWarning: `penalty='none'`has been deprecated in 1.2 and will be removed in 1.4. To keep the past behaviour, set `penalty=None`.\n",
            "  warnings.warn(\n",
            "/usr/local/lib/python3.10/dist-packages/sklearn/linear_model/_logistic.py:1193: UserWarning: Setting penalty=None will ignore the C and l1_ratio parameters\n",
            "  warnings.warn(\n",
            "/usr/local/lib/python3.10/dist-packages/sklearn/linear_model/_logistic.py:1172: UserWarning: l1_ratio parameter is only used when penalty is 'elasticnet'. Got (penalty=none)\n",
            "  warnings.warn(\n",
            "/usr/local/lib/python3.10/dist-packages/sklearn/linear_model/_logistic.py:1183: FutureWarning: `penalty='none'`has been deprecated in 1.2 and will be removed in 1.4. To keep the past behaviour, set `penalty=None`.\n",
            "  warnings.warn(\n",
            "/usr/local/lib/python3.10/dist-packages/sklearn/linear_model/_logistic.py:1193: UserWarning: Setting penalty=None will ignore the C and l1_ratio parameters\n",
            "  warnings.warn(\n",
            "/usr/local/lib/python3.10/dist-packages/sklearn/linear_model/_logistic.py:1172: UserWarning: l1_ratio parameter is only used when penalty is 'elasticnet'. Got (penalty=none)\n",
            "  warnings.warn(\n",
            "/usr/local/lib/python3.10/dist-packages/sklearn/linear_model/_logistic.py:1183: FutureWarning: `penalty='none'`has been deprecated in 1.2 and will be removed in 1.4. To keep the past behaviour, set `penalty=None`.\n",
            "  warnings.warn(\n",
            "/usr/local/lib/python3.10/dist-packages/sklearn/linear_model/_logistic.py:1193: UserWarning: Setting penalty=None will ignore the C and l1_ratio parameters\n",
            "  warnings.warn(\n",
            "/usr/local/lib/python3.10/dist-packages/sklearn/linear_model/_logistic.py:1172: UserWarning: l1_ratio parameter is only used when penalty is 'elasticnet'. Got (penalty=none)\n",
            "  warnings.warn(\n",
            "/usr/local/lib/python3.10/dist-packages/sklearn/linear_model/_logistic.py:1183: FutureWarning: `penalty='none'`has been deprecated in 1.2 and will be removed in 1.4. To keep the past behaviour, set `penalty=None`.\n",
            "  warnings.warn(\n",
            "/usr/local/lib/python3.10/dist-packages/sklearn/linear_model/_logistic.py:1193: UserWarning: Setting penalty=None will ignore the C and l1_ratio parameters\n",
            "  warnings.warn(\n"
          ]
        },
        {
          "output_type": "stream",
          "name": "stdout",
          "text": [
            "[CV] END .C=0.1, l1_ratio=0, penalty=elasticnet, solver=saga; total time=   0.0s\n",
            "[CV] END .C=0.1, l1_ratio=0, penalty=elasticnet, solver=saga; total time=   0.0s\n",
            "[CV] END .C=0.1, l1_ratio=0, penalty=elasticnet, solver=saga; total time=   0.0s\n",
            "[CV] END .C=0.1, l1_ratio=0, penalty=elasticnet, solver=saga; total time=   0.0s\n",
            "[CV] END ......C=0.1, l1_ratio=0, penalty=none, solver=lbfgs; total time=   0.0s\n",
            "[CV] END ......C=0.1, l1_ratio=0, penalty=none, solver=lbfgs; total time=   0.0s\n",
            "[CV] END ......C=0.1, l1_ratio=0, penalty=none, solver=lbfgs; total time=   0.0s\n",
            "[CV] END ......C=0.1, l1_ratio=0, penalty=none, solver=lbfgs; total time=   0.0s\n",
            "[CV] END ......C=0.1, l1_ratio=0, penalty=none, solver=lbfgs; total time=   0.0s\n",
            "[CV] END ..C=0.1, l1_ratio=0, penalty=none, solver=liblinear; total time=   0.0s\n",
            "[CV] END ..C=0.1, l1_ratio=0, penalty=none, solver=liblinear; total time=   0.0s\n",
            "[CV] END ..C=0.1, l1_ratio=0, penalty=none, solver=liblinear; total time=   0.0s\n",
            "[CV] END ..C=0.1, l1_ratio=0, penalty=none, solver=liblinear; total time=   0.0s\n",
            "[CV] END ..C=0.1, l1_ratio=0, penalty=none, solver=liblinear; total time=   0.0s\n",
            "[CV] END .......C=0.1, l1_ratio=0, penalty=none, solver=saga; total time=   0.1s\n",
            "[CV] END .......C=0.1, l1_ratio=0, penalty=none, solver=saga; total time=   0.1s\n"
          ]
        },
        {
          "output_type": "stream",
          "name": "stderr",
          "text": [
            "/usr/local/lib/python3.10/dist-packages/sklearn/linear_model/_logistic.py:1172: UserWarning: l1_ratio parameter is only used when penalty is 'elasticnet'. Got (penalty=none)\n",
            "  warnings.warn(\n",
            "/usr/local/lib/python3.10/dist-packages/sklearn/linear_model/_logistic.py:1183: FutureWarning: `penalty='none'`has been deprecated in 1.2 and will be removed in 1.4. To keep the past behaviour, set `penalty=None`.\n",
            "  warnings.warn(\n",
            "/usr/local/lib/python3.10/dist-packages/sklearn/linear_model/_logistic.py:1193: UserWarning: Setting penalty=None will ignore the C and l1_ratio parameters\n",
            "  warnings.warn(\n",
            "/usr/local/lib/python3.10/dist-packages/sklearn/linear_model/_logistic.py:1172: UserWarning: l1_ratio parameter is only used when penalty is 'elasticnet'. Got (penalty=none)\n",
            "  warnings.warn(\n",
            "/usr/local/lib/python3.10/dist-packages/sklearn/linear_model/_logistic.py:1183: FutureWarning: `penalty='none'`has been deprecated in 1.2 and will be removed in 1.4. To keep the past behaviour, set `penalty=None`.\n",
            "  warnings.warn(\n",
            "/usr/local/lib/python3.10/dist-packages/sklearn/linear_model/_logistic.py:1193: UserWarning: Setting penalty=None will ignore the C and l1_ratio parameters\n",
            "  warnings.warn(\n",
            "/usr/local/lib/python3.10/dist-packages/sklearn/linear_model/_logistic.py:1172: UserWarning: l1_ratio parameter is only used when penalty is 'elasticnet'. Got (penalty=none)\n",
            "  warnings.warn(\n",
            "/usr/local/lib/python3.10/dist-packages/sklearn/linear_model/_logistic.py:1183: FutureWarning: `penalty='none'`has been deprecated in 1.2 and will be removed in 1.4. To keep the past behaviour, set `penalty=None`.\n",
            "  warnings.warn(\n",
            "/usr/local/lib/python3.10/dist-packages/sklearn/linear_model/_logistic.py:1193: UserWarning: Setting penalty=None will ignore the C and l1_ratio parameters\n",
            "  warnings.warn(\n",
            "/usr/local/lib/python3.10/dist-packages/sklearn/linear_model/_logistic.py:1172: UserWarning: l1_ratio parameter is only used when penalty is 'elasticnet'. Got (penalty=l1)\n",
            "  warnings.warn(\n",
            "/usr/local/lib/python3.10/dist-packages/sklearn/linear_model/_logistic.py:1172: UserWarning: l1_ratio parameter is only used when penalty is 'elasticnet'. Got (penalty=l1)\n",
            "  warnings.warn(\n",
            "/usr/local/lib/python3.10/dist-packages/sklearn/linear_model/_logistic.py:1172: UserWarning: l1_ratio parameter is only used when penalty is 'elasticnet'. Got (penalty=l1)\n",
            "  warnings.warn(\n",
            "/usr/local/lib/python3.10/dist-packages/sklearn/linear_model/_logistic.py:1172: UserWarning: l1_ratio parameter is only used when penalty is 'elasticnet'. Got (penalty=l1)\n",
            "  warnings.warn(\n"
          ]
        },
        {
          "output_type": "stream",
          "name": "stdout",
          "text": [
            "[CV] END .......C=0.1, l1_ratio=0, penalty=none, solver=saga; total time=   0.1s\n",
            "[CV] END .......C=0.1, l1_ratio=0, penalty=none, solver=saga; total time=   0.1s\n",
            "[CV] END .......C=0.1, l1_ratio=0, penalty=none, solver=saga; total time=   0.1s\n",
            "[CV] END ......C=0.1, l1_ratio=0.5, penalty=l1, solver=lbfgs; total time=   0.0s\n",
            "[CV] END ......C=0.1, l1_ratio=0.5, penalty=l1, solver=lbfgs; total time=   0.0s\n",
            "[CV] END ......C=0.1, l1_ratio=0.5, penalty=l1, solver=lbfgs; total time=   0.0s\n",
            "[CV] END ......C=0.1, l1_ratio=0.5, penalty=l1, solver=lbfgs; total time=   0.0s\n",
            "[CV] END ......C=0.1, l1_ratio=0.5, penalty=l1, solver=lbfgs; total time=   0.0s\n",
            "[CV] END ..C=0.1, l1_ratio=0.5, penalty=l1, solver=liblinear; total time=   0.0s\n",
            "[CV] END ..C=0.1, l1_ratio=0.5, penalty=l1, solver=liblinear; total time=   0.0s\n",
            "[CV] END ..C=0.1, l1_ratio=0.5, penalty=l1, solver=liblinear; total time=   0.0s\n",
            "[CV] END ..C=0.1, l1_ratio=0.5, penalty=l1, solver=liblinear; total time=   0.0s\n",
            "[CV] END ..C=0.1, l1_ratio=0.5, penalty=l1, solver=liblinear; total time=   0.0s\n",
            "[CV] END .......C=0.1, l1_ratio=0.5, penalty=l1, solver=saga; total time=   0.0s\n",
            "[CV] END .......C=0.1, l1_ratio=0.5, penalty=l1, solver=saga; total time=   0.0s\n",
            "[CV] END .......C=0.1, l1_ratio=0.5, penalty=l1, solver=saga; total time=   0.0s\n",
            "[CV] END .......C=0.1, l1_ratio=0.5, penalty=l1, solver=saga; total time=   0.0s\n",
            "[CV] END .......C=0.1, l1_ratio=0.5, penalty=l1, solver=saga; total time=   0.0s\n",
            "[CV] END ......C=0.1, l1_ratio=0.5, penalty=l2, solver=lbfgs; total time=   0.0s\n"
          ]
        },
        {
          "output_type": "stream",
          "name": "stderr",
          "text": [
            "/usr/local/lib/python3.10/dist-packages/sklearn/linear_model/_logistic.py:1172: UserWarning: l1_ratio parameter is only used when penalty is 'elasticnet'. Got (penalty=l1)\n",
            "  warnings.warn(\n",
            "/usr/local/lib/python3.10/dist-packages/sklearn/linear_model/_logistic.py:1172: UserWarning: l1_ratio parameter is only used when penalty is 'elasticnet'. Got (penalty=l1)\n",
            "  warnings.warn(\n",
            "/usr/local/lib/python3.10/dist-packages/sklearn/linear_model/_logistic.py:1172: UserWarning: l1_ratio parameter is only used when penalty is 'elasticnet'. Got (penalty=l1)\n",
            "  warnings.warn(\n",
            "/usr/local/lib/python3.10/dist-packages/sklearn/linear_model/_logistic.py:1172: UserWarning: l1_ratio parameter is only used when penalty is 'elasticnet'. Got (penalty=l1)\n",
            "  warnings.warn(\n",
            "/usr/local/lib/python3.10/dist-packages/sklearn/linear_model/_logistic.py:1172: UserWarning: l1_ratio parameter is only used when penalty is 'elasticnet'. Got (penalty=l1)\n",
            "  warnings.warn(\n",
            "/usr/local/lib/python3.10/dist-packages/sklearn/linear_model/_logistic.py:1172: UserWarning: l1_ratio parameter is only used when penalty is 'elasticnet'. Got (penalty=l1)\n",
            "  warnings.warn(\n",
            "/usr/local/lib/python3.10/dist-packages/sklearn/linear_model/_logistic.py:1172: UserWarning: l1_ratio parameter is only used when penalty is 'elasticnet'. Got (penalty=l2)\n",
            "  warnings.warn(\n",
            "/usr/local/lib/python3.10/dist-packages/sklearn/linear_model/_logistic.py:1172: UserWarning: l1_ratio parameter is only used when penalty is 'elasticnet'. Got (penalty=l2)\n",
            "  warnings.warn(\n",
            "/usr/local/lib/python3.10/dist-packages/sklearn/linear_model/_logistic.py:1172: UserWarning: l1_ratio parameter is only used when penalty is 'elasticnet'. Got (penalty=l2)\n",
            "  warnings.warn(\n",
            "/usr/local/lib/python3.10/dist-packages/sklearn/linear_model/_logistic.py:1172: UserWarning: l1_ratio parameter is only used when penalty is 'elasticnet'. Got (penalty=l2)\n",
            "  warnings.warn(\n",
            "/usr/local/lib/python3.10/dist-packages/sklearn/linear_model/_logistic.py:1172: UserWarning: l1_ratio parameter is only used when penalty is 'elasticnet'. Got (penalty=l2)\n",
            "  warnings.warn(\n",
            "/usr/local/lib/python3.10/dist-packages/sklearn/linear_model/_logistic.py:1172: UserWarning: l1_ratio parameter is only used when penalty is 'elasticnet'. Got (penalty=l2)\n",
            "  warnings.warn(\n",
            "/usr/local/lib/python3.10/dist-packages/sklearn/linear_model/_logistic.py:1172: UserWarning: l1_ratio parameter is only used when penalty is 'elasticnet'. Got (penalty=l2)\n",
            "  warnings.warn(\n",
            "/usr/local/lib/python3.10/dist-packages/sklearn/linear_model/_logistic.py:1172: UserWarning: l1_ratio parameter is only used when penalty is 'elasticnet'. Got (penalty=l2)\n",
            "  warnings.warn(\n",
            "/usr/local/lib/python3.10/dist-packages/sklearn/linear_model/_logistic.py:1172: UserWarning: l1_ratio parameter is only used when penalty is 'elasticnet'. Got (penalty=l2)\n",
            "  warnings.warn(\n",
            "/usr/local/lib/python3.10/dist-packages/sklearn/linear_model/_logistic.py:1172: UserWarning: l1_ratio parameter is only used when penalty is 'elasticnet'. Got (penalty=l2)\n",
            "  warnings.warn(\n",
            "/usr/local/lib/python3.10/dist-packages/sklearn/linear_model/_logistic.py:1172: UserWarning: l1_ratio parameter is only used when penalty is 'elasticnet'. Got (penalty=l2)\n",
            "  warnings.warn(\n",
            "/usr/local/lib/python3.10/dist-packages/sklearn/linear_model/_logistic.py:1172: UserWarning: l1_ratio parameter is only used when penalty is 'elasticnet'. Got (penalty=l2)\n",
            "  warnings.warn(\n",
            "/usr/local/lib/python3.10/dist-packages/sklearn/linear_model/_logistic.py:1172: UserWarning: l1_ratio parameter is only used when penalty is 'elasticnet'. Got (penalty=l2)\n",
            "  warnings.warn(\n",
            "/usr/local/lib/python3.10/dist-packages/sklearn/linear_model/_logistic.py:1172: UserWarning: l1_ratio parameter is only used when penalty is 'elasticnet'. Got (penalty=l2)\n",
            "  warnings.warn(\n",
            "/usr/local/lib/python3.10/dist-packages/sklearn/linear_model/_logistic.py:1172: UserWarning: l1_ratio parameter is only used when penalty is 'elasticnet'. Got (penalty=l2)\n",
            "  warnings.warn(\n",
            "/usr/local/lib/python3.10/dist-packages/sklearn/linear_model/_logistic.py:1172: UserWarning: l1_ratio parameter is only used when penalty is 'elasticnet'. Got (penalty=none)\n",
            "  warnings.warn(\n",
            "/usr/local/lib/python3.10/dist-packages/sklearn/linear_model/_logistic.py:1183: FutureWarning: `penalty='none'`has been deprecated in 1.2 and will be removed in 1.4. To keep the past behaviour, set `penalty=None`.\n",
            "  warnings.warn(\n",
            "/usr/local/lib/python3.10/dist-packages/sklearn/linear_model/_logistic.py:1193: UserWarning: Setting penalty=None will ignore the C and l1_ratio parameters\n",
            "  warnings.warn(\n",
            "/usr/local/lib/python3.10/dist-packages/sklearn/linear_model/_logistic.py:1172: UserWarning: l1_ratio parameter is only used when penalty is 'elasticnet'. Got (penalty=none)\n",
            "  warnings.warn(\n",
            "/usr/local/lib/python3.10/dist-packages/sklearn/linear_model/_logistic.py:1183: FutureWarning: `penalty='none'`has been deprecated in 1.2 and will be removed in 1.4. To keep the past behaviour, set `penalty=None`.\n",
            "  warnings.warn(\n",
            "/usr/local/lib/python3.10/dist-packages/sklearn/linear_model/_logistic.py:1193: UserWarning: Setting penalty=None will ignore the C and l1_ratio parameters\n",
            "  warnings.warn(\n"
          ]
        },
        {
          "output_type": "stream",
          "name": "stdout",
          "text": [
            "[CV] END ......C=0.1, l1_ratio=0.5, penalty=l2, solver=lbfgs; total time=   0.0s\n",
            "[CV] END ......C=0.1, l1_ratio=0.5, penalty=l2, solver=lbfgs; total time=   0.0s\n",
            "[CV] END ......C=0.1, l1_ratio=0.5, penalty=l2, solver=lbfgs; total time=   0.0s\n",
            "[CV] END ......C=0.1, l1_ratio=0.5, penalty=l2, solver=lbfgs; total time=   0.0s\n",
            "[CV] END ..C=0.1, l1_ratio=0.5, penalty=l2, solver=liblinear; total time=   0.0s\n",
            "[CV] END ..C=0.1, l1_ratio=0.5, penalty=l2, solver=liblinear; total time=   0.0s\n",
            "[CV] END ..C=0.1, l1_ratio=0.5, penalty=l2, solver=liblinear; total time=   0.0s\n",
            "[CV] END ..C=0.1, l1_ratio=0.5, penalty=l2, solver=liblinear; total time=   0.0s\n",
            "[CV] END ..C=0.1, l1_ratio=0.5, penalty=l2, solver=liblinear; total time=   0.0s\n",
            "[CV] END .......C=0.1, l1_ratio=0.5, penalty=l2, solver=saga; total time=   0.0s\n",
            "[CV] END .......C=0.1, l1_ratio=0.5, penalty=l2, solver=saga; total time=   0.0s\n",
            "[CV] END .......C=0.1, l1_ratio=0.5, penalty=l2, solver=saga; total time=   0.0s\n",
            "[CV] END .......C=0.1, l1_ratio=0.5, penalty=l2, solver=saga; total time=   0.0s\n",
            "[CV] END .......C=0.1, l1_ratio=0.5, penalty=l2, solver=saga; total time=   0.0s\n",
            "[CV] END C=0.1, l1_ratio=0.5, penalty=elasticnet, solver=lbfgs; total time=   0.0s\n",
            "[CV] END C=0.1, l1_ratio=0.5, penalty=elasticnet, solver=lbfgs; total time=   0.0s\n",
            "[CV] END C=0.1, l1_ratio=0.5, penalty=elasticnet, solver=lbfgs; total time=   0.0s\n",
            "[CV] END C=0.1, l1_ratio=0.5, penalty=elasticnet, solver=lbfgs; total time=   0.0s\n",
            "[CV] END C=0.1, l1_ratio=0.5, penalty=elasticnet, solver=lbfgs; total time=   0.0s\n",
            "[CV] END C=0.1, l1_ratio=0.5, penalty=elasticnet, solver=liblinear; total time=   0.0s\n",
            "[CV] END C=0.1, l1_ratio=0.5, penalty=elasticnet, solver=liblinear; total time=   0.0s\n",
            "[CV] END C=0.1, l1_ratio=0.5, penalty=elasticnet, solver=liblinear; total time=   0.0s\n",
            "[CV] END C=0.1, l1_ratio=0.5, penalty=elasticnet, solver=liblinear; total time=   0.0s\n",
            "[CV] END C=0.1, l1_ratio=0.5, penalty=elasticnet, solver=liblinear; total time=   0.0s\n",
            "[CV] END C=0.1, l1_ratio=0.5, penalty=elasticnet, solver=saga; total time=   0.0s\n",
            "[CV] END C=0.1, l1_ratio=0.5, penalty=elasticnet, solver=saga; total time=   0.0s\n",
            "[CV] END C=0.1, l1_ratio=0.5, penalty=elasticnet, solver=saga; total time=   0.0s\n",
            "[CV] END C=0.1, l1_ratio=0.5, penalty=elasticnet, solver=saga; total time=   0.0s\n",
            "[CV] END C=0.1, l1_ratio=0.5, penalty=elasticnet, solver=saga; total time=   0.0s\n",
            "[CV] END ....C=0.1, l1_ratio=0.5, penalty=none, solver=lbfgs; total time=   0.0s\n",
            "[CV] END ....C=0.1, l1_ratio=0.5, penalty=none, solver=lbfgs; total time=   0.0s\n",
            "[CV] END ....C=0.1, l1_ratio=0.5, penalty=none, solver=lbfgs; total time=   0.0s\n",
            "[CV] END ....C=0.1, l1_ratio=0.5, penalty=none, solver=lbfgs; total time=   0.0s\n",
            "[CV] END ....C=0.1, l1_ratio=0.5, penalty=none, solver=lbfgs; total time=   0.0s\n",
            "[CV] END C=0.1, l1_ratio=0.5, penalty=none, solver=liblinear; total time=   0.0s\n",
            "[CV] END C=0.1, l1_ratio=0.5, penalty=none, solver=liblinear; total time=   0.0s\n",
            "[CV] END C=0.1, l1_ratio=0.5, penalty=none, solver=liblinear; total time=   0.0s\n",
            "[CV] END C=0.1, l1_ratio=0.5, penalty=none, solver=liblinear; total time=   0.0s\n",
            "[CV] END C=0.1, l1_ratio=0.5, penalty=none, solver=liblinear; total time=   0.0s\n"
          ]
        },
        {
          "output_type": "stream",
          "name": "stderr",
          "text": [
            "/usr/local/lib/python3.10/dist-packages/sklearn/linear_model/_logistic.py:1172: UserWarning: l1_ratio parameter is only used when penalty is 'elasticnet'. Got (penalty=none)\n",
            "  warnings.warn(\n",
            "/usr/local/lib/python3.10/dist-packages/sklearn/linear_model/_logistic.py:1183: FutureWarning: `penalty='none'`has been deprecated in 1.2 and will be removed in 1.4. To keep the past behaviour, set `penalty=None`.\n",
            "  warnings.warn(\n",
            "/usr/local/lib/python3.10/dist-packages/sklearn/linear_model/_logistic.py:1193: UserWarning: Setting penalty=None will ignore the C and l1_ratio parameters\n",
            "  warnings.warn(\n",
            "/usr/local/lib/python3.10/dist-packages/sklearn/linear_model/_logistic.py:1172: UserWarning: l1_ratio parameter is only used when penalty is 'elasticnet'. Got (penalty=none)\n",
            "  warnings.warn(\n",
            "/usr/local/lib/python3.10/dist-packages/sklearn/linear_model/_logistic.py:1183: FutureWarning: `penalty='none'`has been deprecated in 1.2 and will be removed in 1.4. To keep the past behaviour, set `penalty=None`.\n",
            "  warnings.warn(\n",
            "/usr/local/lib/python3.10/dist-packages/sklearn/linear_model/_logistic.py:1193: UserWarning: Setting penalty=None will ignore the C and l1_ratio parameters\n",
            "  warnings.warn(\n",
            "/usr/local/lib/python3.10/dist-packages/sklearn/linear_model/_logistic.py:1172: UserWarning: l1_ratio parameter is only used when penalty is 'elasticnet'. Got (penalty=none)\n",
            "  warnings.warn(\n",
            "/usr/local/lib/python3.10/dist-packages/sklearn/linear_model/_logistic.py:1183: FutureWarning: `penalty='none'`has been deprecated in 1.2 and will be removed in 1.4. To keep the past behaviour, set `penalty=None`.\n",
            "  warnings.warn(\n",
            "/usr/local/lib/python3.10/dist-packages/sklearn/linear_model/_logistic.py:1193: UserWarning: Setting penalty=None will ignore the C and l1_ratio parameters\n",
            "  warnings.warn(\n",
            "/usr/local/lib/python3.10/dist-packages/sklearn/linear_model/_logistic.py:1172: UserWarning: l1_ratio parameter is only used when penalty is 'elasticnet'. Got (penalty=none)\n",
            "  warnings.warn(\n",
            "/usr/local/lib/python3.10/dist-packages/sklearn/linear_model/_logistic.py:1183: FutureWarning: `penalty='none'`has been deprecated in 1.2 and will be removed in 1.4. To keep the past behaviour, set `penalty=None`.\n",
            "  warnings.warn(\n",
            "/usr/local/lib/python3.10/dist-packages/sklearn/linear_model/_logistic.py:1193: UserWarning: Setting penalty=None will ignore the C and l1_ratio parameters\n",
            "  warnings.warn(\n",
            "/usr/local/lib/python3.10/dist-packages/sklearn/linear_model/_logistic.py:1172: UserWarning: l1_ratio parameter is only used when penalty is 'elasticnet'. Got (penalty=none)\n",
            "  warnings.warn(\n",
            "/usr/local/lib/python3.10/dist-packages/sklearn/linear_model/_logistic.py:1183: FutureWarning: `penalty='none'`has been deprecated in 1.2 and will be removed in 1.4. To keep the past behaviour, set `penalty=None`.\n",
            "  warnings.warn(\n",
            "/usr/local/lib/python3.10/dist-packages/sklearn/linear_model/_logistic.py:1193: UserWarning: Setting penalty=None will ignore the C and l1_ratio parameters\n",
            "  warnings.warn(\n",
            "/usr/local/lib/python3.10/dist-packages/sklearn/linear_model/_logistic.py:1172: UserWarning: l1_ratio parameter is only used when penalty is 'elasticnet'. Got (penalty=none)\n",
            "  warnings.warn(\n",
            "/usr/local/lib/python3.10/dist-packages/sklearn/linear_model/_logistic.py:1183: FutureWarning: `penalty='none'`has been deprecated in 1.2 and will be removed in 1.4. To keep the past behaviour, set `penalty=None`.\n",
            "  warnings.warn(\n",
            "/usr/local/lib/python3.10/dist-packages/sklearn/linear_model/_logistic.py:1193: UserWarning: Setting penalty=None will ignore the C and l1_ratio parameters\n",
            "  warnings.warn(\n"
          ]
        },
        {
          "output_type": "stream",
          "name": "stdout",
          "text": [
            "[CV] END .....C=0.1, l1_ratio=0.5, penalty=none, solver=saga; total time=   0.1s\n",
            "[CV] END .....C=0.1, l1_ratio=0.5, penalty=none, solver=saga; total time=   0.1s\n",
            "[CV] END .....C=0.1, l1_ratio=0.5, penalty=none, solver=saga; total time=   0.0s\n",
            "[CV] END .....C=0.1, l1_ratio=0.5, penalty=none, solver=saga; total time=   0.1s\n"
          ]
        },
        {
          "output_type": "stream",
          "name": "stderr",
          "text": [
            "/usr/local/lib/python3.10/dist-packages/sklearn/linear_model/_logistic.py:1172: UserWarning: l1_ratio parameter is only used when penalty is 'elasticnet'. Got (penalty=none)\n",
            "  warnings.warn(\n",
            "/usr/local/lib/python3.10/dist-packages/sklearn/linear_model/_logistic.py:1183: FutureWarning: `penalty='none'`has been deprecated in 1.2 and will be removed in 1.4. To keep the past behaviour, set `penalty=None`.\n",
            "  warnings.warn(\n",
            "/usr/local/lib/python3.10/dist-packages/sklearn/linear_model/_logistic.py:1193: UserWarning: Setting penalty=None will ignore the C and l1_ratio parameters\n",
            "  warnings.warn(\n",
            "/usr/local/lib/python3.10/dist-packages/sklearn/linear_model/_logistic.py:1172: UserWarning: l1_ratio parameter is only used when penalty is 'elasticnet'. Got (penalty=none)\n",
            "  warnings.warn(\n",
            "/usr/local/lib/python3.10/dist-packages/sklearn/linear_model/_logistic.py:1183: FutureWarning: `penalty='none'`has been deprecated in 1.2 and will be removed in 1.4. To keep the past behaviour, set `penalty=None`.\n",
            "  warnings.warn(\n",
            "/usr/local/lib/python3.10/dist-packages/sklearn/linear_model/_logistic.py:1193: UserWarning: Setting penalty=None will ignore the C and l1_ratio parameters\n",
            "  warnings.warn(\n",
            "/usr/local/lib/python3.10/dist-packages/sklearn/linear_model/_logistic.py:1172: UserWarning: l1_ratio parameter is only used when penalty is 'elasticnet'. Got (penalty=l1)\n",
            "  warnings.warn(\n",
            "/usr/local/lib/python3.10/dist-packages/sklearn/linear_model/_logistic.py:1172: UserWarning: l1_ratio parameter is only used when penalty is 'elasticnet'. Got (penalty=l1)\n",
            "  warnings.warn(\n",
            "/usr/local/lib/python3.10/dist-packages/sklearn/linear_model/_logistic.py:1172: UserWarning: l1_ratio parameter is only used when penalty is 'elasticnet'. Got (penalty=l1)\n",
            "  warnings.warn(\n",
            "/usr/local/lib/python3.10/dist-packages/sklearn/linear_model/_logistic.py:1172: UserWarning: l1_ratio parameter is only used when penalty is 'elasticnet'. Got (penalty=l1)\n",
            "  warnings.warn(\n",
            "/usr/local/lib/python3.10/dist-packages/sklearn/linear_model/_logistic.py:1172: UserWarning: l1_ratio parameter is only used when penalty is 'elasticnet'. Got (penalty=l1)\n",
            "  warnings.warn(\n",
            "/usr/local/lib/python3.10/dist-packages/sklearn/linear_model/_logistic.py:1172: UserWarning: l1_ratio parameter is only used when penalty is 'elasticnet'. Got (penalty=l1)\n",
            "  warnings.warn(\n",
            "/usr/local/lib/python3.10/dist-packages/sklearn/linear_model/_logistic.py:1172: UserWarning: l1_ratio parameter is only used when penalty is 'elasticnet'. Got (penalty=l1)\n",
            "  warnings.warn(\n",
            "/usr/local/lib/python3.10/dist-packages/sklearn/linear_model/_logistic.py:1172: UserWarning: l1_ratio parameter is only used when penalty is 'elasticnet'. Got (penalty=l1)\n",
            "  warnings.warn(\n",
            "/usr/local/lib/python3.10/dist-packages/sklearn/linear_model/_logistic.py:1172: UserWarning: l1_ratio parameter is only used when penalty is 'elasticnet'. Got (penalty=l1)\n",
            "  warnings.warn(\n",
            "/usr/local/lib/python3.10/dist-packages/sklearn/linear_model/_logistic.py:1172: UserWarning: l1_ratio parameter is only used when penalty is 'elasticnet'. Got (penalty=l1)\n",
            "  warnings.warn(\n",
            "/usr/local/lib/python3.10/dist-packages/sklearn/linear_model/_logistic.py:1172: UserWarning: l1_ratio parameter is only used when penalty is 'elasticnet'. Got (penalty=l2)\n",
            "  warnings.warn(\n",
            "/usr/local/lib/python3.10/dist-packages/sklearn/linear_model/_logistic.py:1172: UserWarning: l1_ratio parameter is only used when penalty is 'elasticnet'. Got (penalty=l2)\n",
            "  warnings.warn(\n",
            "/usr/local/lib/python3.10/dist-packages/sklearn/linear_model/_logistic.py:1172: UserWarning: l1_ratio parameter is only used when penalty is 'elasticnet'. Got (penalty=l2)\n",
            "  warnings.warn(\n",
            "/usr/local/lib/python3.10/dist-packages/sklearn/linear_model/_logistic.py:1172: UserWarning: l1_ratio parameter is only used when penalty is 'elasticnet'. Got (penalty=l2)\n",
            "  warnings.warn(\n",
            "/usr/local/lib/python3.10/dist-packages/sklearn/linear_model/_logistic.py:1172: UserWarning: l1_ratio parameter is only used when penalty is 'elasticnet'. Got (penalty=l2)\n",
            "  warnings.warn(\n",
            "/usr/local/lib/python3.10/dist-packages/sklearn/linear_model/_logistic.py:1172: UserWarning: l1_ratio parameter is only used when penalty is 'elasticnet'. Got (penalty=l2)\n",
            "  warnings.warn(\n",
            "/usr/local/lib/python3.10/dist-packages/sklearn/linear_model/_logistic.py:1172: UserWarning: l1_ratio parameter is only used when penalty is 'elasticnet'. Got (penalty=l2)\n",
            "  warnings.warn(\n",
            "/usr/local/lib/python3.10/dist-packages/sklearn/linear_model/_logistic.py:1172: UserWarning: l1_ratio parameter is only used when penalty is 'elasticnet'. Got (penalty=l2)\n",
            "  warnings.warn(\n",
            "/usr/local/lib/python3.10/dist-packages/sklearn/linear_model/_logistic.py:1172: UserWarning: l1_ratio parameter is only used when penalty is 'elasticnet'. Got (penalty=l2)\n",
            "  warnings.warn(\n",
            "/usr/local/lib/python3.10/dist-packages/sklearn/linear_model/_logistic.py:1172: UserWarning: l1_ratio parameter is only used when penalty is 'elasticnet'. Got (penalty=l2)\n",
            "  warnings.warn(\n",
            "/usr/local/lib/python3.10/dist-packages/sklearn/linear_model/_logistic.py:1172: UserWarning: l1_ratio parameter is only used when penalty is 'elasticnet'. Got (penalty=l2)\n",
            "  warnings.warn(\n",
            "/usr/local/lib/python3.10/dist-packages/sklearn/linear_model/_logistic.py:1172: UserWarning: l1_ratio parameter is only used when penalty is 'elasticnet'. Got (penalty=l2)\n",
            "  warnings.warn(\n",
            "/usr/local/lib/python3.10/dist-packages/sklearn/linear_model/_logistic.py:1172: UserWarning: l1_ratio parameter is only used when penalty is 'elasticnet'. Got (penalty=l2)\n",
            "  warnings.warn(\n",
            "/usr/local/lib/python3.10/dist-packages/sklearn/linear_model/_logistic.py:1172: UserWarning: l1_ratio parameter is only used when penalty is 'elasticnet'. Got (penalty=l2)\n",
            "  warnings.warn(\n"
          ]
        },
        {
          "output_type": "stream",
          "name": "stdout",
          "text": [
            "[CV] END .....C=0.1, l1_ratio=0.5, penalty=none, solver=saga; total time=   0.1s\n",
            "[CV] END ........C=0.1, l1_ratio=1, penalty=l1, solver=lbfgs; total time=   0.0s\n",
            "[CV] END ........C=0.1, l1_ratio=1, penalty=l1, solver=lbfgs; total time=   0.0s\n",
            "[CV] END ........C=0.1, l1_ratio=1, penalty=l1, solver=lbfgs; total time=   0.0s\n",
            "[CV] END ........C=0.1, l1_ratio=1, penalty=l1, solver=lbfgs; total time=   0.0s\n",
            "[CV] END ........C=0.1, l1_ratio=1, penalty=l1, solver=lbfgs; total time=   0.0s\n",
            "[CV] END ....C=0.1, l1_ratio=1, penalty=l1, solver=liblinear; total time=   0.0s\n",
            "[CV] END ....C=0.1, l1_ratio=1, penalty=l1, solver=liblinear; total time=   0.0s\n",
            "[CV] END ....C=0.1, l1_ratio=1, penalty=l1, solver=liblinear; total time=   0.0s\n",
            "[CV] END ....C=0.1, l1_ratio=1, penalty=l1, solver=liblinear; total time=   0.0s\n",
            "[CV] END ....C=0.1, l1_ratio=1, penalty=l1, solver=liblinear; total time=   0.0s\n",
            "[CV] END .........C=0.1, l1_ratio=1, penalty=l1, solver=saga; total time=   0.0s\n",
            "[CV] END .........C=0.1, l1_ratio=1, penalty=l1, solver=saga; total time=   0.0s\n",
            "[CV] END .........C=0.1, l1_ratio=1, penalty=l1, solver=saga; total time=   0.0s\n",
            "[CV] END .........C=0.1, l1_ratio=1, penalty=l1, solver=saga; total time=   0.0s\n",
            "[CV] END .........C=0.1, l1_ratio=1, penalty=l1, solver=saga; total time=   0.0s\n",
            "[CV] END ........C=0.1, l1_ratio=1, penalty=l2, solver=lbfgs; total time=   0.0s\n",
            "[CV] END ........C=0.1, l1_ratio=1, penalty=l2, solver=lbfgs; total time=   0.0s\n",
            "[CV] END ........C=0.1, l1_ratio=1, penalty=l2, solver=lbfgs; total time=   0.0s\n",
            "[CV] END ........C=0.1, l1_ratio=1, penalty=l2, solver=lbfgs; total time=   0.0s\n",
            "[CV] END ........C=0.1, l1_ratio=1, penalty=l2, solver=lbfgs; total time=   0.0s\n",
            "[CV] END ....C=0.1, l1_ratio=1, penalty=l2, solver=liblinear; total time=   0.0s\n",
            "[CV] END ....C=0.1, l1_ratio=1, penalty=l2, solver=liblinear; total time=   0.0s\n",
            "[CV] END ....C=0.1, l1_ratio=1, penalty=l2, solver=liblinear; total time=   0.0s\n",
            "[CV] END ....C=0.1, l1_ratio=1, penalty=l2, solver=liblinear; total time=   0.0s\n",
            "[CV] END ....C=0.1, l1_ratio=1, penalty=l2, solver=liblinear; total time=   0.0s\n",
            "[CV] END .........C=0.1, l1_ratio=1, penalty=l2, solver=saga; total time=   0.0s\n",
            "[CV] END .........C=0.1, l1_ratio=1, penalty=l2, solver=saga; total time=   0.0s\n",
            "[CV] END .........C=0.1, l1_ratio=1, penalty=l2, solver=saga; total time=   0.0s\n",
            "[CV] END .........C=0.1, l1_ratio=1, penalty=l2, solver=saga; total time=   0.0s\n",
            "[CV] END .........C=0.1, l1_ratio=1, penalty=l2, solver=saga; total time=   0.0s\n",
            "[CV] END C=0.1, l1_ratio=1, penalty=elasticnet, solver=lbfgs; total time=   0.0s\n",
            "[CV] END C=0.1, l1_ratio=1, penalty=elasticnet, solver=lbfgs; total time=   0.0s\n",
            "[CV] END C=0.1, l1_ratio=1, penalty=elasticnet, solver=lbfgs; total time=   0.0s\n",
            "[CV] END C=0.1, l1_ratio=1, penalty=elasticnet, solver=lbfgs; total time=   0.0s\n",
            "[CV] END C=0.1, l1_ratio=1, penalty=elasticnet, solver=lbfgs; total time=   0.0s\n",
            "[CV] END C=0.1, l1_ratio=1, penalty=elasticnet, solver=liblinear; total time=   0.0s\n",
            "[CV] END C=0.1, l1_ratio=1, penalty=elasticnet, solver=liblinear; total time=   0.0s\n",
            "[CV] END C=0.1, l1_ratio=1, penalty=elasticnet, solver=liblinear; total time=   0.0s\n",
            "[CV] END C=0.1, l1_ratio=1, penalty=elasticnet, solver=liblinear; total time=   0.0s\n",
            "[CV] END C=0.1, l1_ratio=1, penalty=elasticnet, solver=liblinear; total time=   0.0s\n",
            "[CV] END .C=0.1, l1_ratio=1, penalty=elasticnet, solver=saga; total time=   0.0s\n"
          ]
        },
        {
          "output_type": "stream",
          "name": "stderr",
          "text": [
            "/usr/local/lib/python3.10/dist-packages/sklearn/linear_model/_logistic.py:1172: UserWarning: l1_ratio parameter is only used when penalty is 'elasticnet'. Got (penalty=l2)\n",
            "  warnings.warn(\n",
            "/usr/local/lib/python3.10/dist-packages/sklearn/linear_model/_logistic.py:1172: UserWarning: l1_ratio parameter is only used when penalty is 'elasticnet'. Got (penalty=none)\n",
            "  warnings.warn(\n",
            "/usr/local/lib/python3.10/dist-packages/sklearn/linear_model/_logistic.py:1183: FutureWarning: `penalty='none'`has been deprecated in 1.2 and will be removed in 1.4. To keep the past behaviour, set `penalty=None`.\n",
            "  warnings.warn(\n",
            "/usr/local/lib/python3.10/dist-packages/sklearn/linear_model/_logistic.py:1193: UserWarning: Setting penalty=None will ignore the C and l1_ratio parameters\n",
            "  warnings.warn(\n",
            "/usr/local/lib/python3.10/dist-packages/sklearn/linear_model/_logistic.py:1172: UserWarning: l1_ratio parameter is only used when penalty is 'elasticnet'. Got (penalty=none)\n",
            "  warnings.warn(\n",
            "/usr/local/lib/python3.10/dist-packages/sklearn/linear_model/_logistic.py:1183: FutureWarning: `penalty='none'`has been deprecated in 1.2 and will be removed in 1.4. To keep the past behaviour, set `penalty=None`.\n",
            "  warnings.warn(\n",
            "/usr/local/lib/python3.10/dist-packages/sklearn/linear_model/_logistic.py:1193: UserWarning: Setting penalty=None will ignore the C and l1_ratio parameters\n",
            "  warnings.warn(\n",
            "/usr/local/lib/python3.10/dist-packages/sklearn/linear_model/_logistic.py:1172: UserWarning: l1_ratio parameter is only used when penalty is 'elasticnet'. Got (penalty=none)\n",
            "  warnings.warn(\n",
            "/usr/local/lib/python3.10/dist-packages/sklearn/linear_model/_logistic.py:1183: FutureWarning: `penalty='none'`has been deprecated in 1.2 and will be removed in 1.4. To keep the past behaviour, set `penalty=None`.\n",
            "  warnings.warn(\n",
            "/usr/local/lib/python3.10/dist-packages/sklearn/linear_model/_logistic.py:1193: UserWarning: Setting penalty=None will ignore the C and l1_ratio parameters\n",
            "  warnings.warn(\n",
            "/usr/local/lib/python3.10/dist-packages/sklearn/linear_model/_logistic.py:1172: UserWarning: l1_ratio parameter is only used when penalty is 'elasticnet'. Got (penalty=none)\n",
            "  warnings.warn(\n",
            "/usr/local/lib/python3.10/dist-packages/sklearn/linear_model/_logistic.py:1183: FutureWarning: `penalty='none'`has been deprecated in 1.2 and will be removed in 1.4. To keep the past behaviour, set `penalty=None`.\n",
            "  warnings.warn(\n",
            "/usr/local/lib/python3.10/dist-packages/sklearn/linear_model/_logistic.py:1193: UserWarning: Setting penalty=None will ignore the C and l1_ratio parameters\n",
            "  warnings.warn(\n",
            "/usr/local/lib/python3.10/dist-packages/sklearn/linear_model/_logistic.py:1172: UserWarning: l1_ratio parameter is only used when penalty is 'elasticnet'. Got (penalty=none)\n",
            "  warnings.warn(\n",
            "/usr/local/lib/python3.10/dist-packages/sklearn/linear_model/_logistic.py:1183: FutureWarning: `penalty='none'`has been deprecated in 1.2 and will be removed in 1.4. To keep the past behaviour, set `penalty=None`.\n",
            "  warnings.warn(\n",
            "/usr/local/lib/python3.10/dist-packages/sklearn/linear_model/_logistic.py:1193: UserWarning: Setting penalty=None will ignore the C and l1_ratio parameters\n",
            "  warnings.warn(\n",
            "/usr/local/lib/python3.10/dist-packages/sklearn/linear_model/_logistic.py:1172: UserWarning: l1_ratio parameter is only used when penalty is 'elasticnet'. Got (penalty=none)\n",
            "  warnings.warn(\n",
            "/usr/local/lib/python3.10/dist-packages/sklearn/linear_model/_logistic.py:1183: FutureWarning: `penalty='none'`has been deprecated in 1.2 and will be removed in 1.4. To keep the past behaviour, set `penalty=None`.\n",
            "  warnings.warn(\n",
            "/usr/local/lib/python3.10/dist-packages/sklearn/linear_model/_logistic.py:1193: UserWarning: Setting penalty=None will ignore the C and l1_ratio parameters\n",
            "  warnings.warn(\n",
            "/usr/local/lib/python3.10/dist-packages/sklearn/linear_model/_logistic.py:1172: UserWarning: l1_ratio parameter is only used when penalty is 'elasticnet'. Got (penalty=none)\n",
            "  warnings.warn(\n",
            "/usr/local/lib/python3.10/dist-packages/sklearn/linear_model/_logistic.py:1183: FutureWarning: `penalty='none'`has been deprecated in 1.2 and will be removed in 1.4. To keep the past behaviour, set `penalty=None`.\n",
            "  warnings.warn(\n",
            "/usr/local/lib/python3.10/dist-packages/sklearn/linear_model/_logistic.py:1193: UserWarning: Setting penalty=None will ignore the C and l1_ratio parameters\n",
            "  warnings.warn(\n"
          ]
        },
        {
          "output_type": "stream",
          "name": "stdout",
          "text": [
            "[CV] END .C=0.1, l1_ratio=1, penalty=elasticnet, solver=saga; total time=   0.0s\n",
            "[CV] END .C=0.1, l1_ratio=1, penalty=elasticnet, solver=saga; total time=   0.0s\n",
            "[CV] END .C=0.1, l1_ratio=1, penalty=elasticnet, solver=saga; total time=   0.0s\n",
            "[CV] END .C=0.1, l1_ratio=1, penalty=elasticnet, solver=saga; total time=   0.0s\n",
            "[CV] END ......C=0.1, l1_ratio=1, penalty=none, solver=lbfgs; total time=   0.0s\n",
            "[CV] END ......C=0.1, l1_ratio=1, penalty=none, solver=lbfgs; total time=   0.0s\n",
            "[CV] END ......C=0.1, l1_ratio=1, penalty=none, solver=lbfgs; total time=   0.0s\n",
            "[CV] END ......C=0.1, l1_ratio=1, penalty=none, solver=lbfgs; total time=   0.0s\n",
            "[CV] END ......C=0.1, l1_ratio=1, penalty=none, solver=lbfgs; total time=   0.0s\n",
            "[CV] END ..C=0.1, l1_ratio=1, penalty=none, solver=liblinear; total time=   0.0s\n",
            "[CV] END ..C=0.1, l1_ratio=1, penalty=none, solver=liblinear; total time=   0.0s\n",
            "[CV] END ..C=0.1, l1_ratio=1, penalty=none, solver=liblinear; total time=   0.0s\n",
            "[CV] END ..C=0.1, l1_ratio=1, penalty=none, solver=liblinear; total time=   0.0s\n",
            "[CV] END ..C=0.1, l1_ratio=1, penalty=none, solver=liblinear; total time=   0.0s\n",
            "[CV] END .......C=0.1, l1_ratio=1, penalty=none, solver=saga; total time=   0.1s\n",
            "[CV] END .......C=0.1, l1_ratio=1, penalty=none, solver=saga; total time=   0.1s\n"
          ]
        },
        {
          "output_type": "stream",
          "name": "stderr",
          "text": [
            "/usr/local/lib/python3.10/dist-packages/sklearn/linear_model/_logistic.py:1172: UserWarning: l1_ratio parameter is only used when penalty is 'elasticnet'. Got (penalty=none)\n",
            "  warnings.warn(\n",
            "/usr/local/lib/python3.10/dist-packages/sklearn/linear_model/_logistic.py:1183: FutureWarning: `penalty='none'`has been deprecated in 1.2 and will be removed in 1.4. To keep the past behaviour, set `penalty=None`.\n",
            "  warnings.warn(\n",
            "/usr/local/lib/python3.10/dist-packages/sklearn/linear_model/_logistic.py:1193: UserWarning: Setting penalty=None will ignore the C and l1_ratio parameters\n",
            "  warnings.warn(\n",
            "/usr/local/lib/python3.10/dist-packages/sklearn/linear_model/_logistic.py:1172: UserWarning: l1_ratio parameter is only used when penalty is 'elasticnet'. Got (penalty=none)\n",
            "  warnings.warn(\n",
            "/usr/local/lib/python3.10/dist-packages/sklearn/linear_model/_logistic.py:1183: FutureWarning: `penalty='none'`has been deprecated in 1.2 and will be removed in 1.4. To keep the past behaviour, set `penalty=None`.\n",
            "  warnings.warn(\n",
            "/usr/local/lib/python3.10/dist-packages/sklearn/linear_model/_logistic.py:1193: UserWarning: Setting penalty=None will ignore the C and l1_ratio parameters\n",
            "  warnings.warn(\n",
            "/usr/local/lib/python3.10/dist-packages/sklearn/linear_model/_logistic.py:1172: UserWarning: l1_ratio parameter is only used when penalty is 'elasticnet'. Got (penalty=none)\n",
            "  warnings.warn(\n",
            "/usr/local/lib/python3.10/dist-packages/sklearn/linear_model/_logistic.py:1183: FutureWarning: `penalty='none'`has been deprecated in 1.2 and will be removed in 1.4. To keep the past behaviour, set `penalty=None`.\n",
            "  warnings.warn(\n",
            "/usr/local/lib/python3.10/dist-packages/sklearn/linear_model/_logistic.py:1193: UserWarning: Setting penalty=None will ignore the C and l1_ratio parameters\n",
            "  warnings.warn(\n",
            "/usr/local/lib/python3.10/dist-packages/sklearn/linear_model/_logistic.py:1172: UserWarning: l1_ratio parameter is only used when penalty is 'elasticnet'. Got (penalty=l1)\n",
            "  warnings.warn(\n",
            "/usr/local/lib/python3.10/dist-packages/sklearn/linear_model/_logistic.py:1172: UserWarning: l1_ratio parameter is only used when penalty is 'elasticnet'. Got (penalty=l1)\n",
            "  warnings.warn(\n",
            "/usr/local/lib/python3.10/dist-packages/sklearn/linear_model/_logistic.py:1172: UserWarning: l1_ratio parameter is only used when penalty is 'elasticnet'. Got (penalty=l1)\n",
            "  warnings.warn(\n",
            "/usr/local/lib/python3.10/dist-packages/sklearn/linear_model/_logistic.py:1172: UserWarning: l1_ratio parameter is only used when penalty is 'elasticnet'. Got (penalty=l1)\n",
            "  warnings.warn(\n",
            "/usr/local/lib/python3.10/dist-packages/sklearn/linear_model/_logistic.py:1172: UserWarning: l1_ratio parameter is only used when penalty is 'elasticnet'. Got (penalty=l1)\n",
            "  warnings.warn(\n",
            "/usr/local/lib/python3.10/dist-packages/sklearn/linear_model/_logistic.py:1172: UserWarning: l1_ratio parameter is only used when penalty is 'elasticnet'. Got (penalty=l1)\n",
            "  warnings.warn(\n",
            "/usr/local/lib/python3.10/dist-packages/sklearn/linear_model/_logistic.py:1172: UserWarning: l1_ratio parameter is only used when penalty is 'elasticnet'. Got (penalty=l1)\n",
            "  warnings.warn(\n"
          ]
        },
        {
          "output_type": "stream",
          "name": "stdout",
          "text": [
            "[CV] END .......C=0.1, l1_ratio=1, penalty=none, solver=saga; total time=   0.1s\n",
            "[CV] END .......C=0.1, l1_ratio=1, penalty=none, solver=saga; total time=   0.1s\n",
            "[CV] END .......C=0.1, l1_ratio=1, penalty=none, solver=saga; total time=   0.0s\n",
            "[CV] END ..........C=1, l1_ratio=0, penalty=l1, solver=lbfgs; total time=   0.0s\n",
            "[CV] END ..........C=1, l1_ratio=0, penalty=l1, solver=lbfgs; total time=   0.0s\n",
            "[CV] END ..........C=1, l1_ratio=0, penalty=l1, solver=lbfgs; total time=   0.0s\n",
            "[CV] END ..........C=1, l1_ratio=0, penalty=l1, solver=lbfgs; total time=   0.0s\n",
            "[CV] END ..........C=1, l1_ratio=0, penalty=l1, solver=lbfgs; total time=   0.0s\n",
            "[CV] END ......C=1, l1_ratio=0, penalty=l1, solver=liblinear; total time=   0.0s\n",
            "[CV] END ......C=1, l1_ratio=0, penalty=l1, solver=liblinear; total time=   0.0s\n",
            "[CV] END ......C=1, l1_ratio=0, penalty=l1, solver=liblinear; total time=   0.0s\n",
            "[CV] END ......C=1, l1_ratio=0, penalty=l1, solver=liblinear; total time=   0.0s\n",
            "[CV] END ......C=1, l1_ratio=0, penalty=l1, solver=liblinear; total time=   0.0s\n",
            "[CV] END ...........C=1, l1_ratio=0, penalty=l1, solver=saga; total time=   0.0s\n",
            "[CV] END ...........C=1, l1_ratio=0, penalty=l1, solver=saga; total time=   0.0s\n",
            "[CV] END ...........C=1, l1_ratio=0, penalty=l1, solver=saga; total time=   0.0s\n",
            "[CV] END ...........C=1, l1_ratio=0, penalty=l1, solver=saga; total time=   0.0s\n",
            "[CV] END ...........C=1, l1_ratio=0, penalty=l1, solver=saga; total time=   0.0s\n",
            "[CV] END ..........C=1, l1_ratio=0, penalty=l2, solver=lbfgs; total time=   0.0s\n",
            "[CV] END ..........C=1, l1_ratio=0, penalty=l2, solver=lbfgs; total time=   0.0s\n",
            "[CV] END ..........C=1, l1_ratio=0, penalty=l2, solver=lbfgs; total time=   0.0s\n"
          ]
        },
        {
          "output_type": "stream",
          "name": "stderr",
          "text": [
            "/usr/local/lib/python3.10/dist-packages/sklearn/linear_model/_logistic.py:1172: UserWarning: l1_ratio parameter is only used when penalty is 'elasticnet'. Got (penalty=l1)\n",
            "  warnings.warn(\n",
            "/usr/local/lib/python3.10/dist-packages/sklearn/linear_model/_logistic.py:1172: UserWarning: l1_ratio parameter is only used when penalty is 'elasticnet'. Got (penalty=l1)\n",
            "  warnings.warn(\n",
            "/usr/local/lib/python3.10/dist-packages/sklearn/linear_model/_logistic.py:1172: UserWarning: l1_ratio parameter is only used when penalty is 'elasticnet'. Got (penalty=l1)\n",
            "  warnings.warn(\n",
            "/usr/local/lib/python3.10/dist-packages/sklearn/linear_model/_logistic.py:1172: UserWarning: l1_ratio parameter is only used when penalty is 'elasticnet'. Got (penalty=l2)\n",
            "  warnings.warn(\n",
            "/usr/local/lib/python3.10/dist-packages/sklearn/linear_model/_logistic.py:1172: UserWarning: l1_ratio parameter is only used when penalty is 'elasticnet'. Got (penalty=l2)\n",
            "  warnings.warn(\n",
            "/usr/local/lib/python3.10/dist-packages/sklearn/linear_model/_logistic.py:1172: UserWarning: l1_ratio parameter is only used when penalty is 'elasticnet'. Got (penalty=l2)\n",
            "  warnings.warn(\n",
            "/usr/local/lib/python3.10/dist-packages/sklearn/linear_model/_logistic.py:1172: UserWarning: l1_ratio parameter is only used when penalty is 'elasticnet'. Got (penalty=l2)\n",
            "  warnings.warn(\n",
            "/usr/local/lib/python3.10/dist-packages/sklearn/linear_model/_logistic.py:1172: UserWarning: l1_ratio parameter is only used when penalty is 'elasticnet'. Got (penalty=l2)\n",
            "  warnings.warn(\n",
            "/usr/local/lib/python3.10/dist-packages/sklearn/linear_model/_logistic.py:1172: UserWarning: l1_ratio parameter is only used when penalty is 'elasticnet'. Got (penalty=l2)\n",
            "  warnings.warn(\n",
            "/usr/local/lib/python3.10/dist-packages/sklearn/linear_model/_logistic.py:1172: UserWarning: l1_ratio parameter is only used when penalty is 'elasticnet'. Got (penalty=l2)\n",
            "  warnings.warn(\n",
            "/usr/local/lib/python3.10/dist-packages/sklearn/linear_model/_logistic.py:1172: UserWarning: l1_ratio parameter is only used when penalty is 'elasticnet'. Got (penalty=l2)\n",
            "  warnings.warn(\n",
            "/usr/local/lib/python3.10/dist-packages/sklearn/linear_model/_logistic.py:1172: UserWarning: l1_ratio parameter is only used when penalty is 'elasticnet'. Got (penalty=l2)\n",
            "  warnings.warn(\n",
            "/usr/local/lib/python3.10/dist-packages/sklearn/linear_model/_logistic.py:1172: UserWarning: l1_ratio parameter is only used when penalty is 'elasticnet'. Got (penalty=l2)\n",
            "  warnings.warn(\n",
            "/usr/local/lib/python3.10/dist-packages/sklearn/linear_model/_logistic.py:1172: UserWarning: l1_ratio parameter is only used when penalty is 'elasticnet'. Got (penalty=l2)\n",
            "  warnings.warn(\n",
            "/usr/local/lib/python3.10/dist-packages/sklearn/linear_model/_logistic.py:1172: UserWarning: l1_ratio parameter is only used when penalty is 'elasticnet'. Got (penalty=l2)\n",
            "  warnings.warn(\n",
            "/usr/local/lib/python3.10/dist-packages/sklearn/linear_model/_logistic.py:1172: UserWarning: l1_ratio parameter is only used when penalty is 'elasticnet'. Got (penalty=l2)\n",
            "  warnings.warn(\n",
            "/usr/local/lib/python3.10/dist-packages/sklearn/linear_model/_logistic.py:1172: UserWarning: l1_ratio parameter is only used when penalty is 'elasticnet'. Got (penalty=l2)\n",
            "  warnings.warn(\n",
            "/usr/local/lib/python3.10/dist-packages/sklearn/linear_model/_logistic.py:1172: UserWarning: l1_ratio parameter is only used when penalty is 'elasticnet'. Got (penalty=l2)\n",
            "  warnings.warn(\n",
            "/usr/local/lib/python3.10/dist-packages/sklearn/linear_model/_logistic.py:1172: UserWarning: l1_ratio parameter is only used when penalty is 'elasticnet'. Got (penalty=none)\n",
            "  warnings.warn(\n",
            "/usr/local/lib/python3.10/dist-packages/sklearn/linear_model/_logistic.py:1183: FutureWarning: `penalty='none'`has been deprecated in 1.2 and will be removed in 1.4. To keep the past behaviour, set `penalty=None`.\n",
            "  warnings.warn(\n",
            "/usr/local/lib/python3.10/dist-packages/sklearn/linear_model/_logistic.py:1172: UserWarning: l1_ratio parameter is only used when penalty is 'elasticnet'. Got (penalty=none)\n",
            "  warnings.warn(\n",
            "/usr/local/lib/python3.10/dist-packages/sklearn/linear_model/_logistic.py:1183: FutureWarning: `penalty='none'`has been deprecated in 1.2 and will be removed in 1.4. To keep the past behaviour, set `penalty=None`.\n",
            "  warnings.warn(\n",
            "/usr/local/lib/python3.10/dist-packages/sklearn/linear_model/_logistic.py:1172: UserWarning: l1_ratio parameter is only used when penalty is 'elasticnet'. Got (penalty=none)\n",
            "  warnings.warn(\n",
            "/usr/local/lib/python3.10/dist-packages/sklearn/linear_model/_logistic.py:1183: FutureWarning: `penalty='none'`has been deprecated in 1.2 and will be removed in 1.4. To keep the past behaviour, set `penalty=None`.\n",
            "  warnings.warn(\n",
            "/usr/local/lib/python3.10/dist-packages/sklearn/linear_model/_logistic.py:1172: UserWarning: l1_ratio parameter is only used when penalty is 'elasticnet'. Got (penalty=none)\n",
            "  warnings.warn(\n",
            "/usr/local/lib/python3.10/dist-packages/sklearn/linear_model/_logistic.py:1183: FutureWarning: `penalty='none'`has been deprecated in 1.2 and will be removed in 1.4. To keep the past behaviour, set `penalty=None`.\n",
            "  warnings.warn(\n"
          ]
        },
        {
          "output_type": "stream",
          "name": "stdout",
          "text": [
            "[CV] END ..........C=1, l1_ratio=0, penalty=l2, solver=lbfgs; total time=   0.0s\n",
            "[CV] END ..........C=1, l1_ratio=0, penalty=l2, solver=lbfgs; total time=   0.0s\n",
            "[CV] END ......C=1, l1_ratio=0, penalty=l2, solver=liblinear; total time=   0.0s\n",
            "[CV] END ......C=1, l1_ratio=0, penalty=l2, solver=liblinear; total time=   0.0s\n",
            "[CV] END ......C=1, l1_ratio=0, penalty=l2, solver=liblinear; total time=   0.0s\n",
            "[CV] END ......C=1, l1_ratio=0, penalty=l2, solver=liblinear; total time=   0.0s\n",
            "[CV] END ......C=1, l1_ratio=0, penalty=l2, solver=liblinear; total time=   0.0s\n",
            "[CV] END ...........C=1, l1_ratio=0, penalty=l2, solver=saga; total time=   0.0s\n",
            "[CV] END ...........C=1, l1_ratio=0, penalty=l2, solver=saga; total time=   0.0s\n",
            "[CV] END ...........C=1, l1_ratio=0, penalty=l2, solver=saga; total time=   0.0s\n",
            "[CV] END ...........C=1, l1_ratio=0, penalty=l2, solver=saga; total time=   0.0s\n",
            "[CV] END ...........C=1, l1_ratio=0, penalty=l2, solver=saga; total time=   0.0s\n",
            "[CV] END ..C=1, l1_ratio=0, penalty=elasticnet, solver=lbfgs; total time=   0.0s\n",
            "[CV] END ..C=1, l1_ratio=0, penalty=elasticnet, solver=lbfgs; total time=   0.0s\n",
            "[CV] END ..C=1, l1_ratio=0, penalty=elasticnet, solver=lbfgs; total time=   0.0s\n",
            "[CV] END ..C=1, l1_ratio=0, penalty=elasticnet, solver=lbfgs; total time=   0.0s\n",
            "[CV] END ..C=1, l1_ratio=0, penalty=elasticnet, solver=lbfgs; total time=   0.0s\n",
            "[CV] END C=1, l1_ratio=0, penalty=elasticnet, solver=liblinear; total time=   0.0s\n",
            "[CV] END C=1, l1_ratio=0, penalty=elasticnet, solver=liblinear; total time=   0.0s\n",
            "[CV] END C=1, l1_ratio=0, penalty=elasticnet, solver=liblinear; total time=   0.0s\n",
            "[CV] END C=1, l1_ratio=0, penalty=elasticnet, solver=liblinear; total time=   0.0s\n",
            "[CV] END C=1, l1_ratio=0, penalty=elasticnet, solver=liblinear; total time=   0.0s\n",
            "[CV] END ...C=1, l1_ratio=0, penalty=elasticnet, solver=saga; total time=   0.0s\n",
            "[CV] END ...C=1, l1_ratio=0, penalty=elasticnet, solver=saga; total time=   0.0s\n",
            "[CV] END ...C=1, l1_ratio=0, penalty=elasticnet, solver=saga; total time=   0.0s\n",
            "[CV] END ...C=1, l1_ratio=0, penalty=elasticnet, solver=saga; total time=   0.0s\n",
            "[CV] END ...C=1, l1_ratio=0, penalty=elasticnet, solver=saga; total time=   0.0s\n",
            "[CV] END ........C=1, l1_ratio=0, penalty=none, solver=lbfgs; total time=   0.0s\n",
            "[CV] END ........C=1, l1_ratio=0, penalty=none, solver=lbfgs; total time=   0.0s\n",
            "[CV] END ........C=1, l1_ratio=0, penalty=none, solver=lbfgs; total time=   0.0s\n",
            "[CV] END ........C=1, l1_ratio=0, penalty=none, solver=lbfgs; total time=   0.0s\n",
            "[CV] END ........C=1, l1_ratio=0, penalty=none, solver=lbfgs; total time=   0.0s\n",
            "[CV] END ....C=1, l1_ratio=0, penalty=none, solver=liblinear; total time=   0.0s\n",
            "[CV] END ....C=1, l1_ratio=0, penalty=none, solver=liblinear; total time=   0.0s\n",
            "[CV] END ....C=1, l1_ratio=0, penalty=none, solver=liblinear; total time=   0.0s\n",
            "[CV] END ....C=1, l1_ratio=0, penalty=none, solver=liblinear; total time=   0.0s\n",
            "[CV] END ....C=1, l1_ratio=0, penalty=none, solver=liblinear; total time=   0.0s\n"
          ]
        },
        {
          "output_type": "stream",
          "name": "stderr",
          "text": [
            "/usr/local/lib/python3.10/dist-packages/sklearn/linear_model/_logistic.py:1172: UserWarning: l1_ratio parameter is only used when penalty is 'elasticnet'. Got (penalty=none)\n",
            "  warnings.warn(\n",
            "/usr/local/lib/python3.10/dist-packages/sklearn/linear_model/_logistic.py:1183: FutureWarning: `penalty='none'`has been deprecated in 1.2 and will be removed in 1.4. To keep the past behaviour, set `penalty=None`.\n",
            "  warnings.warn(\n",
            "/usr/local/lib/python3.10/dist-packages/sklearn/linear_model/_logistic.py:1172: UserWarning: l1_ratio parameter is only used when penalty is 'elasticnet'. Got (penalty=none)\n",
            "  warnings.warn(\n",
            "/usr/local/lib/python3.10/dist-packages/sklearn/linear_model/_logistic.py:1183: FutureWarning: `penalty='none'`has been deprecated in 1.2 and will be removed in 1.4. To keep the past behaviour, set `penalty=None`.\n",
            "  warnings.warn(\n",
            "/usr/local/lib/python3.10/dist-packages/sklearn/linear_model/_logistic.py:1172: UserWarning: l1_ratio parameter is only used when penalty is 'elasticnet'. Got (penalty=none)\n",
            "  warnings.warn(\n",
            "/usr/local/lib/python3.10/dist-packages/sklearn/linear_model/_logistic.py:1183: FutureWarning: `penalty='none'`has been deprecated in 1.2 and will be removed in 1.4. To keep the past behaviour, set `penalty=None`.\n",
            "  warnings.warn(\n",
            "/usr/local/lib/python3.10/dist-packages/sklearn/linear_model/_logistic.py:1172: UserWarning: l1_ratio parameter is only used when penalty is 'elasticnet'. Got (penalty=none)\n",
            "  warnings.warn(\n",
            "/usr/local/lib/python3.10/dist-packages/sklearn/linear_model/_logistic.py:1183: FutureWarning: `penalty='none'`has been deprecated in 1.2 and will be removed in 1.4. To keep the past behaviour, set `penalty=None`.\n",
            "  warnings.warn(\n",
            "/usr/local/lib/python3.10/dist-packages/sklearn/linear_model/_logistic.py:1172: UserWarning: l1_ratio parameter is only used when penalty is 'elasticnet'. Got (penalty=none)\n",
            "  warnings.warn(\n",
            "/usr/local/lib/python3.10/dist-packages/sklearn/linear_model/_logistic.py:1183: FutureWarning: `penalty='none'`has been deprecated in 1.2 and will be removed in 1.4. To keep the past behaviour, set `penalty=None`.\n",
            "  warnings.warn(\n"
          ]
        },
        {
          "output_type": "stream",
          "name": "stdout",
          "text": [
            "[CV] END .........C=1, l1_ratio=0, penalty=none, solver=saga; total time=   0.1s\n",
            "[CV] END .........C=1, l1_ratio=0, penalty=none, solver=saga; total time=   0.1s\n",
            "[CV] END .........C=1, l1_ratio=0, penalty=none, solver=saga; total time=   0.0s\n",
            "[CV] END .........C=1, l1_ratio=0, penalty=none, solver=saga; total time=   0.1s\n"
          ]
        },
        {
          "output_type": "stream",
          "name": "stderr",
          "text": [
            "/usr/local/lib/python3.10/dist-packages/sklearn/linear_model/_logistic.py:1172: UserWarning: l1_ratio parameter is only used when penalty is 'elasticnet'. Got (penalty=none)\n",
            "  warnings.warn(\n",
            "/usr/local/lib/python3.10/dist-packages/sklearn/linear_model/_logistic.py:1183: FutureWarning: `penalty='none'`has been deprecated in 1.2 and will be removed in 1.4. To keep the past behaviour, set `penalty=None`.\n",
            "  warnings.warn(\n",
            "/usr/local/lib/python3.10/dist-packages/sklearn/linear_model/_logistic.py:1172: UserWarning: l1_ratio parameter is only used when penalty is 'elasticnet'. Got (penalty=l1)\n",
            "  warnings.warn(\n",
            "/usr/local/lib/python3.10/dist-packages/sklearn/linear_model/_logistic.py:1172: UserWarning: l1_ratio parameter is only used when penalty is 'elasticnet'. Got (penalty=l1)\n",
            "  warnings.warn(\n",
            "/usr/local/lib/python3.10/dist-packages/sklearn/linear_model/_logistic.py:1172: UserWarning: l1_ratio parameter is only used when penalty is 'elasticnet'. Got (penalty=l1)\n",
            "  warnings.warn(\n",
            "/usr/local/lib/python3.10/dist-packages/sklearn/linear_model/_logistic.py:1172: UserWarning: l1_ratio parameter is only used when penalty is 'elasticnet'. Got (penalty=l1)\n",
            "  warnings.warn(\n",
            "/usr/local/lib/python3.10/dist-packages/sklearn/linear_model/_logistic.py:1172: UserWarning: l1_ratio parameter is only used when penalty is 'elasticnet'. Got (penalty=l1)\n",
            "  warnings.warn(\n",
            "/usr/local/lib/python3.10/dist-packages/sklearn/linear_model/_logistic.py:1172: UserWarning: l1_ratio parameter is only used when penalty is 'elasticnet'. Got (penalty=l1)\n",
            "  warnings.warn(\n",
            "/usr/local/lib/python3.10/dist-packages/sklearn/linear_model/_logistic.py:1172: UserWarning: l1_ratio parameter is only used when penalty is 'elasticnet'. Got (penalty=l1)\n",
            "  warnings.warn(\n",
            "/usr/local/lib/python3.10/dist-packages/sklearn/linear_model/_logistic.py:1172: UserWarning: l1_ratio parameter is only used when penalty is 'elasticnet'. Got (penalty=l1)\n",
            "  warnings.warn(\n",
            "/usr/local/lib/python3.10/dist-packages/sklearn/linear_model/_logistic.py:1172: UserWarning: l1_ratio parameter is only used when penalty is 'elasticnet'. Got (penalty=l1)\n",
            "  warnings.warn(\n",
            "/usr/local/lib/python3.10/dist-packages/sklearn/linear_model/_logistic.py:1172: UserWarning: l1_ratio parameter is only used when penalty is 'elasticnet'. Got (penalty=l1)\n",
            "  warnings.warn(\n",
            "/usr/local/lib/python3.10/dist-packages/sklearn/linear_model/_logistic.py:1172: UserWarning: l1_ratio parameter is only used when penalty is 'elasticnet'. Got (penalty=l2)\n",
            "  warnings.warn(\n",
            "/usr/local/lib/python3.10/dist-packages/sklearn/linear_model/_logistic.py:1172: UserWarning: l1_ratio parameter is only used when penalty is 'elasticnet'. Got (penalty=l2)\n",
            "  warnings.warn(\n",
            "/usr/local/lib/python3.10/dist-packages/sklearn/linear_model/_logistic.py:1172: UserWarning: l1_ratio parameter is only used when penalty is 'elasticnet'. Got (penalty=l2)\n",
            "  warnings.warn(\n",
            "/usr/local/lib/python3.10/dist-packages/sklearn/linear_model/_logistic.py:1172: UserWarning: l1_ratio parameter is only used when penalty is 'elasticnet'. Got (penalty=l2)\n",
            "  warnings.warn(\n",
            "/usr/local/lib/python3.10/dist-packages/sklearn/linear_model/_logistic.py:1172: UserWarning: l1_ratio parameter is only used when penalty is 'elasticnet'. Got (penalty=l2)\n",
            "  warnings.warn(\n",
            "/usr/local/lib/python3.10/dist-packages/sklearn/linear_model/_logistic.py:1172: UserWarning: l1_ratio parameter is only used when penalty is 'elasticnet'. Got (penalty=l2)\n",
            "  warnings.warn(\n",
            "/usr/local/lib/python3.10/dist-packages/sklearn/linear_model/_logistic.py:1172: UserWarning: l1_ratio parameter is only used when penalty is 'elasticnet'. Got (penalty=l2)\n",
            "  warnings.warn(\n",
            "/usr/local/lib/python3.10/dist-packages/sklearn/linear_model/_logistic.py:1172: UserWarning: l1_ratio parameter is only used when penalty is 'elasticnet'. Got (penalty=l2)\n",
            "  warnings.warn(\n",
            "/usr/local/lib/python3.10/dist-packages/sklearn/linear_model/_logistic.py:1172: UserWarning: l1_ratio parameter is only used when penalty is 'elasticnet'. Got (penalty=l2)\n",
            "  warnings.warn(\n",
            "/usr/local/lib/python3.10/dist-packages/sklearn/linear_model/_logistic.py:1172: UserWarning: l1_ratio parameter is only used when penalty is 'elasticnet'. Got (penalty=l2)\n",
            "  warnings.warn(\n",
            "/usr/local/lib/python3.10/dist-packages/sklearn/linear_model/_logistic.py:1172: UserWarning: l1_ratio parameter is only used when penalty is 'elasticnet'. Got (penalty=l2)\n",
            "  warnings.warn(\n",
            "/usr/local/lib/python3.10/dist-packages/sklearn/linear_model/_logistic.py:1172: UserWarning: l1_ratio parameter is only used when penalty is 'elasticnet'. Got (penalty=l2)\n",
            "  warnings.warn(\n",
            "/usr/local/lib/python3.10/dist-packages/sklearn/linear_model/_logistic.py:1172: UserWarning: l1_ratio parameter is only used when penalty is 'elasticnet'. Got (penalty=l2)\n",
            "  warnings.warn(\n",
            "/usr/local/lib/python3.10/dist-packages/sklearn/linear_model/_logistic.py:1172: UserWarning: l1_ratio parameter is only used when penalty is 'elasticnet'. Got (penalty=l2)\n",
            "  warnings.warn(\n"
          ]
        },
        {
          "output_type": "stream",
          "name": "stdout",
          "text": [
            "[CV] END .........C=1, l1_ratio=0, penalty=none, solver=saga; total time=   0.0s\n",
            "[CV] END ........C=1, l1_ratio=0.5, penalty=l1, solver=lbfgs; total time=   0.0s\n",
            "[CV] END ........C=1, l1_ratio=0.5, penalty=l1, solver=lbfgs; total time=   0.0s\n",
            "[CV] END ........C=1, l1_ratio=0.5, penalty=l1, solver=lbfgs; total time=   0.0s\n",
            "[CV] END ........C=1, l1_ratio=0.5, penalty=l1, solver=lbfgs; total time=   0.0s\n",
            "[CV] END ........C=1, l1_ratio=0.5, penalty=l1, solver=lbfgs; total time=   0.0s\n",
            "[CV] END ....C=1, l1_ratio=0.5, penalty=l1, solver=liblinear; total time=   0.0s\n",
            "[CV] END ....C=1, l1_ratio=0.5, penalty=l1, solver=liblinear; total time=   0.0s\n",
            "[CV] END ....C=1, l1_ratio=0.5, penalty=l1, solver=liblinear; total time=   0.0s\n",
            "[CV] END ....C=1, l1_ratio=0.5, penalty=l1, solver=liblinear; total time=   0.0s\n",
            "[CV] END ....C=1, l1_ratio=0.5, penalty=l1, solver=liblinear; total time=   0.0s\n",
            "[CV] END .........C=1, l1_ratio=0.5, penalty=l1, solver=saga; total time=   0.0s\n",
            "[CV] END .........C=1, l1_ratio=0.5, penalty=l1, solver=saga; total time=   0.0s\n",
            "[CV] END .........C=1, l1_ratio=0.5, penalty=l1, solver=saga; total time=   0.0s\n",
            "[CV] END .........C=1, l1_ratio=0.5, penalty=l1, solver=saga; total time=   0.0s\n",
            "[CV] END .........C=1, l1_ratio=0.5, penalty=l1, solver=saga; total time=   0.0s\n",
            "[CV] END ........C=1, l1_ratio=0.5, penalty=l2, solver=lbfgs; total time=   0.0s\n",
            "[CV] END ........C=1, l1_ratio=0.5, penalty=l2, solver=lbfgs; total time=   0.0s\n",
            "[CV] END ........C=1, l1_ratio=0.5, penalty=l2, solver=lbfgs; total time=   0.0s\n",
            "[CV] END ........C=1, l1_ratio=0.5, penalty=l2, solver=lbfgs; total time=   0.0s\n",
            "[CV] END ........C=1, l1_ratio=0.5, penalty=l2, solver=lbfgs; total time=   0.0s\n",
            "[CV] END ....C=1, l1_ratio=0.5, penalty=l2, solver=liblinear; total time=   0.0s\n",
            "[CV] END ....C=1, l1_ratio=0.5, penalty=l2, solver=liblinear; total time=   0.0s\n",
            "[CV] END ....C=1, l1_ratio=0.5, penalty=l2, solver=liblinear; total time=   0.0s\n",
            "[CV] END ....C=1, l1_ratio=0.5, penalty=l2, solver=liblinear; total time=   0.0s\n",
            "[CV] END ....C=1, l1_ratio=0.5, penalty=l2, solver=liblinear; total time=   0.0s\n",
            "[CV] END .........C=1, l1_ratio=0.5, penalty=l2, solver=saga; total time=   0.0s\n",
            "[CV] END .........C=1, l1_ratio=0.5, penalty=l2, solver=saga; total time=   0.0s\n",
            "[CV] END .........C=1, l1_ratio=0.5, penalty=l2, solver=saga; total time=   0.0s\n",
            "[CV] END .........C=1, l1_ratio=0.5, penalty=l2, solver=saga; total time=   0.0s\n",
            "[CV] END .........C=1, l1_ratio=0.5, penalty=l2, solver=saga; total time=   0.0s\n",
            "[CV] END C=1, l1_ratio=0.5, penalty=elasticnet, solver=lbfgs; total time=   0.0s\n",
            "[CV] END C=1, l1_ratio=0.5, penalty=elasticnet, solver=lbfgs; total time=   0.0s\n",
            "[CV] END C=1, l1_ratio=0.5, penalty=elasticnet, solver=lbfgs; total time=   0.0s\n",
            "[CV] END C=1, l1_ratio=0.5, penalty=elasticnet, solver=lbfgs; total time=   0.0s\n",
            "[CV] END C=1, l1_ratio=0.5, penalty=elasticnet, solver=lbfgs; total time=   0.0s\n",
            "[CV] END C=1, l1_ratio=0.5, penalty=elasticnet, solver=liblinear; total time=   0.0s\n",
            "[CV] END C=1, l1_ratio=0.5, penalty=elasticnet, solver=liblinear; total time=   0.0s\n",
            "[CV] END C=1, l1_ratio=0.5, penalty=elasticnet, solver=liblinear; total time=   0.0s\n",
            "[CV] END C=1, l1_ratio=0.5, penalty=elasticnet, solver=liblinear; total time=   0.0s\n",
            "[CV] END C=1, l1_ratio=0.5, penalty=elasticnet, solver=liblinear; total time=   0.0s\n",
            "[CV] END .C=1, l1_ratio=0.5, penalty=elasticnet, solver=saga; total time=   0.0s\n"
          ]
        },
        {
          "output_type": "stream",
          "name": "stderr",
          "text": [
            "/usr/local/lib/python3.10/dist-packages/sklearn/linear_model/_logistic.py:1172: UserWarning: l1_ratio parameter is only used when penalty is 'elasticnet'. Got (penalty=l2)\n",
            "  warnings.warn(\n",
            "/usr/local/lib/python3.10/dist-packages/sklearn/linear_model/_logistic.py:1172: UserWarning: l1_ratio parameter is only used when penalty is 'elasticnet'. Got (penalty=none)\n",
            "  warnings.warn(\n",
            "/usr/local/lib/python3.10/dist-packages/sklearn/linear_model/_logistic.py:1183: FutureWarning: `penalty='none'`has been deprecated in 1.2 and will be removed in 1.4. To keep the past behaviour, set `penalty=None`.\n",
            "  warnings.warn(\n",
            "/usr/local/lib/python3.10/dist-packages/sklearn/linear_model/_logistic.py:1172: UserWarning: l1_ratio parameter is only used when penalty is 'elasticnet'. Got (penalty=none)\n",
            "  warnings.warn(\n",
            "/usr/local/lib/python3.10/dist-packages/sklearn/linear_model/_logistic.py:1183: FutureWarning: `penalty='none'`has been deprecated in 1.2 and will be removed in 1.4. To keep the past behaviour, set `penalty=None`.\n",
            "  warnings.warn(\n",
            "/usr/local/lib/python3.10/dist-packages/sklearn/linear_model/_logistic.py:1172: UserWarning: l1_ratio parameter is only used when penalty is 'elasticnet'. Got (penalty=none)\n",
            "  warnings.warn(\n",
            "/usr/local/lib/python3.10/dist-packages/sklearn/linear_model/_logistic.py:1183: FutureWarning: `penalty='none'`has been deprecated in 1.2 and will be removed in 1.4. To keep the past behaviour, set `penalty=None`.\n",
            "  warnings.warn(\n",
            "/usr/local/lib/python3.10/dist-packages/sklearn/linear_model/_logistic.py:1172: UserWarning: l1_ratio parameter is only used when penalty is 'elasticnet'. Got (penalty=none)\n",
            "  warnings.warn(\n",
            "/usr/local/lib/python3.10/dist-packages/sklearn/linear_model/_logistic.py:1183: FutureWarning: `penalty='none'`has been deprecated in 1.2 and will be removed in 1.4. To keep the past behaviour, set `penalty=None`.\n",
            "  warnings.warn(\n",
            "/usr/local/lib/python3.10/dist-packages/sklearn/linear_model/_logistic.py:1172: UserWarning: l1_ratio parameter is only used when penalty is 'elasticnet'. Got (penalty=none)\n",
            "  warnings.warn(\n",
            "/usr/local/lib/python3.10/dist-packages/sklearn/linear_model/_logistic.py:1183: FutureWarning: `penalty='none'`has been deprecated in 1.2 and will be removed in 1.4. To keep the past behaviour, set `penalty=None`.\n",
            "  warnings.warn(\n",
            "/usr/local/lib/python3.10/dist-packages/sklearn/linear_model/_logistic.py:1172: UserWarning: l1_ratio parameter is only used when penalty is 'elasticnet'. Got (penalty=none)\n",
            "  warnings.warn(\n",
            "/usr/local/lib/python3.10/dist-packages/sklearn/linear_model/_logistic.py:1183: FutureWarning: `penalty='none'`has been deprecated in 1.2 and will be removed in 1.4. To keep the past behaviour, set `penalty=None`.\n",
            "  warnings.warn(\n",
            "/usr/local/lib/python3.10/dist-packages/sklearn/linear_model/_logistic.py:1172: UserWarning: l1_ratio parameter is only used when penalty is 'elasticnet'. Got (penalty=none)\n",
            "  warnings.warn(\n",
            "/usr/local/lib/python3.10/dist-packages/sklearn/linear_model/_logistic.py:1183: FutureWarning: `penalty='none'`has been deprecated in 1.2 and will be removed in 1.4. To keep the past behaviour, set `penalty=None`.\n",
            "  warnings.warn(\n"
          ]
        },
        {
          "output_type": "stream",
          "name": "stdout",
          "text": [
            "[CV] END .C=1, l1_ratio=0.5, penalty=elasticnet, solver=saga; total time=   0.0s\n",
            "[CV] END .C=1, l1_ratio=0.5, penalty=elasticnet, solver=saga; total time=   0.0s\n",
            "[CV] END .C=1, l1_ratio=0.5, penalty=elasticnet, solver=saga; total time=   0.0s\n",
            "[CV] END .C=1, l1_ratio=0.5, penalty=elasticnet, solver=saga; total time=   0.0s\n",
            "[CV] END ......C=1, l1_ratio=0.5, penalty=none, solver=lbfgs; total time=   0.0s\n",
            "[CV] END ......C=1, l1_ratio=0.5, penalty=none, solver=lbfgs; total time=   0.0s\n",
            "[CV] END ......C=1, l1_ratio=0.5, penalty=none, solver=lbfgs; total time=   0.0s\n",
            "[CV] END ......C=1, l1_ratio=0.5, penalty=none, solver=lbfgs; total time=   0.0s\n",
            "[CV] END ......C=1, l1_ratio=0.5, penalty=none, solver=lbfgs; total time=   0.0s\n",
            "[CV] END ..C=1, l1_ratio=0.5, penalty=none, solver=liblinear; total time=   0.0s\n",
            "[CV] END ..C=1, l1_ratio=0.5, penalty=none, solver=liblinear; total time=   0.0s\n",
            "[CV] END ..C=1, l1_ratio=0.5, penalty=none, solver=liblinear; total time=   0.0s\n",
            "[CV] END ..C=1, l1_ratio=0.5, penalty=none, solver=liblinear; total time=   0.0s\n",
            "[CV] END ..C=1, l1_ratio=0.5, penalty=none, solver=liblinear; total time=   0.0s\n",
            "[CV] END .......C=1, l1_ratio=0.5, penalty=none, solver=saga; total time=   0.1s\n",
            "[CV] END .......C=1, l1_ratio=0.5, penalty=none, solver=saga; total time=   0.1s\n",
            "[CV] END .......C=1, l1_ratio=0.5, penalty=none, solver=saga; total time=   0.1s\n",
            "[CV] END .......C=1, l1_ratio=0.5, penalty=none, solver=saga; total time=   0.0s\n",
            "[CV] END .......C=1, l1_ratio=0.5, penalty=none, solver=saga; total time=   0.0s\n",
            "[CV] END ..........C=1, l1_ratio=1, penalty=l1, solver=lbfgs; total time=   0.0s\n",
            "[CV] END ..........C=1, l1_ratio=1, penalty=l1, solver=lbfgs; total time=   0.0s\n",
            "[CV] END ..........C=1, l1_ratio=1, penalty=l1, solver=lbfgs; total time=   0.0s\n",
            "[CV] END ..........C=1, l1_ratio=1, penalty=l1, solver=lbfgs; total time=   0.0s\n",
            "[CV] END ..........C=1, l1_ratio=1, penalty=l1, solver=lbfgs; total time=   0.0s\n",
            "[CV] END ......C=1, l1_ratio=1, penalty=l1, solver=liblinear; total time=   0.0s\n",
            "[CV] END ......C=1, l1_ratio=1, penalty=l1, solver=liblinear; total time=   0.0s\n",
            "[CV] END ......C=1, l1_ratio=1, penalty=l1, solver=liblinear; total time=   0.0s\n",
            "[CV] END ......C=1, l1_ratio=1, penalty=l1, solver=liblinear; total time=   0.0s\n",
            "[CV] END ......C=1, l1_ratio=1, penalty=l1, solver=liblinear; total time=   0.0s\n",
            "[CV] END ...........C=1, l1_ratio=1, penalty=l1, solver=saga; total time=   0.0s\n",
            "[CV] END ...........C=1, l1_ratio=1, penalty=l1, solver=saga; total time=   0.0s\n"
          ]
        },
        {
          "output_type": "stream",
          "name": "stderr",
          "text": [
            "/usr/local/lib/python3.10/dist-packages/sklearn/linear_model/_logistic.py:1172: UserWarning: l1_ratio parameter is only used when penalty is 'elasticnet'. Got (penalty=none)\n",
            "  warnings.warn(\n",
            "/usr/local/lib/python3.10/dist-packages/sklearn/linear_model/_logistic.py:1183: FutureWarning: `penalty='none'`has been deprecated in 1.2 and will be removed in 1.4. To keep the past behaviour, set `penalty=None`.\n",
            "  warnings.warn(\n",
            "/usr/local/lib/python3.10/dist-packages/sklearn/linear_model/_logistic.py:1172: UserWarning: l1_ratio parameter is only used when penalty is 'elasticnet'. Got (penalty=none)\n",
            "  warnings.warn(\n",
            "/usr/local/lib/python3.10/dist-packages/sklearn/linear_model/_logistic.py:1183: FutureWarning: `penalty='none'`has been deprecated in 1.2 and will be removed in 1.4. To keep the past behaviour, set `penalty=None`.\n",
            "  warnings.warn(\n",
            "/usr/local/lib/python3.10/dist-packages/sklearn/linear_model/_logistic.py:1172: UserWarning: l1_ratio parameter is only used when penalty is 'elasticnet'. Got (penalty=none)\n",
            "  warnings.warn(\n",
            "/usr/local/lib/python3.10/dist-packages/sklearn/linear_model/_logistic.py:1183: FutureWarning: `penalty='none'`has been deprecated in 1.2 and will be removed in 1.4. To keep the past behaviour, set `penalty=None`.\n",
            "  warnings.warn(\n",
            "/usr/local/lib/python3.10/dist-packages/sklearn/linear_model/_logistic.py:1172: UserWarning: l1_ratio parameter is only used when penalty is 'elasticnet'. Got (penalty=l1)\n",
            "  warnings.warn(\n",
            "/usr/local/lib/python3.10/dist-packages/sklearn/linear_model/_logistic.py:1172: UserWarning: l1_ratio parameter is only used when penalty is 'elasticnet'. Got (penalty=l1)\n",
            "  warnings.warn(\n",
            "/usr/local/lib/python3.10/dist-packages/sklearn/linear_model/_logistic.py:1172: UserWarning: l1_ratio parameter is only used when penalty is 'elasticnet'. Got (penalty=l1)\n",
            "  warnings.warn(\n",
            "/usr/local/lib/python3.10/dist-packages/sklearn/linear_model/_logistic.py:1172: UserWarning: l1_ratio parameter is only used when penalty is 'elasticnet'. Got (penalty=l1)\n",
            "  warnings.warn(\n",
            "/usr/local/lib/python3.10/dist-packages/sklearn/linear_model/_logistic.py:1172: UserWarning: l1_ratio parameter is only used when penalty is 'elasticnet'. Got (penalty=l1)\n",
            "  warnings.warn(\n",
            "/usr/local/lib/python3.10/dist-packages/sklearn/linear_model/_logistic.py:1172: UserWarning: l1_ratio parameter is only used when penalty is 'elasticnet'. Got (penalty=l1)\n",
            "  warnings.warn(\n",
            "/usr/local/lib/python3.10/dist-packages/sklearn/linear_model/_logistic.py:1172: UserWarning: l1_ratio parameter is only used when penalty is 'elasticnet'. Got (penalty=l1)\n",
            "  warnings.warn(\n",
            "/usr/local/lib/python3.10/dist-packages/sklearn/linear_model/_logistic.py:1172: UserWarning: l1_ratio parameter is only used when penalty is 'elasticnet'. Got (penalty=l1)\n",
            "  warnings.warn(\n"
          ]
        },
        {
          "output_type": "stream",
          "name": "stdout",
          "text": [
            "[CV] END ...........C=1, l1_ratio=1, penalty=l1, solver=saga; total time=   0.0s\n",
            "[CV] END ...........C=1, l1_ratio=1, penalty=l1, solver=saga; total time=   0.0s\n",
            "[CV] END ...........C=1, l1_ratio=1, penalty=l1, solver=saga; total time=   0.0s\n",
            "[CV] END ..........C=1, l1_ratio=1, penalty=l2, solver=lbfgs; total time=   0.0s\n",
            "[CV] END ..........C=1, l1_ratio=1, penalty=l2, solver=lbfgs; total time=   0.0s\n",
            "[CV] END ..........C=1, l1_ratio=1, penalty=l2, solver=lbfgs; total time=   0.0s\n",
            "[CV] END ..........C=1, l1_ratio=1, penalty=l2, solver=lbfgs; total time=   0.0s\n",
            "[CV] END ..........C=1, l1_ratio=1, penalty=l2, solver=lbfgs; total time=   0.0s\n",
            "[CV] END ......C=1, l1_ratio=1, penalty=l2, solver=liblinear; total time=   0.0s\n",
            "[CV] END ......C=1, l1_ratio=1, penalty=l2, solver=liblinear; total time=   0.0s\n",
            "[CV] END ......C=1, l1_ratio=1, penalty=l2, solver=liblinear; total time=   0.0s\n",
            "[CV] END ......C=1, l1_ratio=1, penalty=l2, solver=liblinear; total time=   0.0s\n",
            "[CV] END ......C=1, l1_ratio=1, penalty=l2, solver=liblinear; total time=   0.0s\n",
            "[CV] END ...........C=1, l1_ratio=1, penalty=l2, solver=saga; total time=   0.0s\n",
            "[CV] END ...........C=1, l1_ratio=1, penalty=l2, solver=saga; total time=   0.0s\n",
            "[CV] END ...........C=1, l1_ratio=1, penalty=l2, solver=saga; total time=   0.0s\n",
            "[CV] END ...........C=1, l1_ratio=1, penalty=l2, solver=saga; total time=   0.0s\n",
            "[CV] END ...........C=1, l1_ratio=1, penalty=l2, solver=saga; total time=   0.0s\n",
            "[CV] END ..C=1, l1_ratio=1, penalty=elasticnet, solver=lbfgs; total time=   0.0s\n",
            "[CV] END ..C=1, l1_ratio=1, penalty=elasticnet, solver=lbfgs; total time=   0.0s\n",
            "[CV] END ..C=1, l1_ratio=1, penalty=elasticnet, solver=lbfgs; total time=   0.0s\n",
            "[CV] END ..C=1, l1_ratio=1, penalty=elasticnet, solver=lbfgs; total time=   0.0s\n",
            "[CV] END ..C=1, l1_ratio=1, penalty=elasticnet, solver=lbfgs; total time=   0.0s\n",
            "[CV] END C=1, l1_ratio=1, penalty=elasticnet, solver=liblinear; total time=   0.0s\n",
            "[CV] END C=1, l1_ratio=1, penalty=elasticnet, solver=liblinear; total time=   0.0s\n",
            "[CV] END C=1, l1_ratio=1, penalty=elasticnet, solver=liblinear; total time=   0.0s\n",
            "[CV] END C=1, l1_ratio=1, penalty=elasticnet, solver=liblinear; total time=   0.0s\n",
            "[CV] END C=1, l1_ratio=1, penalty=elasticnet, solver=liblinear; total time=   0.0s\n",
            "[CV] END ...C=1, l1_ratio=1, penalty=elasticnet, solver=saga; total time=   0.0s\n",
            "[CV] END ...C=1, l1_ratio=1, penalty=elasticnet, solver=saga; total time=   0.0s\n",
            "[CV] END ...C=1, l1_ratio=1, penalty=elasticnet, solver=saga; total time=   0.0s\n",
            "[CV] END ...C=1, l1_ratio=1, penalty=elasticnet, solver=saga; total time=   0.0s\n",
            "[CV] END ...C=1, l1_ratio=1, penalty=elasticnet, solver=saga; total time=   0.0s\n",
            "[CV] END ........C=1, l1_ratio=1, penalty=none, solver=lbfgs; total time=   0.0s\n",
            "[CV] END ........C=1, l1_ratio=1, penalty=none, solver=lbfgs; total time=   0.0s\n",
            "[CV] END ........C=1, l1_ratio=1, penalty=none, solver=lbfgs; total time=   0.0s\n"
          ]
        },
        {
          "output_type": "stream",
          "name": "stderr",
          "text": [
            "/usr/local/lib/python3.10/dist-packages/sklearn/linear_model/_logistic.py:1172: UserWarning: l1_ratio parameter is only used when penalty is 'elasticnet'. Got (penalty=l1)\n",
            "  warnings.warn(\n",
            "/usr/local/lib/python3.10/dist-packages/sklearn/linear_model/_logistic.py:1172: UserWarning: l1_ratio parameter is only used when penalty is 'elasticnet'. Got (penalty=l1)\n",
            "  warnings.warn(\n",
            "/usr/local/lib/python3.10/dist-packages/sklearn/linear_model/_logistic.py:1172: UserWarning: l1_ratio parameter is only used when penalty is 'elasticnet'. Got (penalty=l2)\n",
            "  warnings.warn(\n",
            "/usr/local/lib/python3.10/dist-packages/sklearn/linear_model/_logistic.py:1172: UserWarning: l1_ratio parameter is only used when penalty is 'elasticnet'. Got (penalty=l2)\n",
            "  warnings.warn(\n",
            "/usr/local/lib/python3.10/dist-packages/sklearn/linear_model/_logistic.py:1172: UserWarning: l1_ratio parameter is only used when penalty is 'elasticnet'. Got (penalty=l2)\n",
            "  warnings.warn(\n",
            "/usr/local/lib/python3.10/dist-packages/sklearn/linear_model/_logistic.py:1172: UserWarning: l1_ratio parameter is only used when penalty is 'elasticnet'. Got (penalty=l2)\n",
            "  warnings.warn(\n",
            "/usr/local/lib/python3.10/dist-packages/sklearn/linear_model/_logistic.py:1172: UserWarning: l1_ratio parameter is only used when penalty is 'elasticnet'. Got (penalty=l2)\n",
            "  warnings.warn(\n",
            "/usr/local/lib/python3.10/dist-packages/sklearn/linear_model/_logistic.py:1172: UserWarning: l1_ratio parameter is only used when penalty is 'elasticnet'. Got (penalty=l2)\n",
            "  warnings.warn(\n",
            "/usr/local/lib/python3.10/dist-packages/sklearn/linear_model/_logistic.py:1172: UserWarning: l1_ratio parameter is only used when penalty is 'elasticnet'. Got (penalty=l2)\n",
            "  warnings.warn(\n",
            "/usr/local/lib/python3.10/dist-packages/sklearn/linear_model/_logistic.py:1172: UserWarning: l1_ratio parameter is only used when penalty is 'elasticnet'. Got (penalty=l2)\n",
            "  warnings.warn(\n",
            "/usr/local/lib/python3.10/dist-packages/sklearn/linear_model/_logistic.py:1172: UserWarning: l1_ratio parameter is only used when penalty is 'elasticnet'. Got (penalty=l2)\n",
            "  warnings.warn(\n",
            "/usr/local/lib/python3.10/dist-packages/sklearn/linear_model/_logistic.py:1172: UserWarning: l1_ratio parameter is only used when penalty is 'elasticnet'. Got (penalty=l2)\n",
            "  warnings.warn(\n",
            "/usr/local/lib/python3.10/dist-packages/sklearn/linear_model/_logistic.py:1172: UserWarning: l1_ratio parameter is only used when penalty is 'elasticnet'. Got (penalty=l2)\n",
            "  warnings.warn(\n",
            "/usr/local/lib/python3.10/dist-packages/sklearn/linear_model/_logistic.py:1172: UserWarning: l1_ratio parameter is only used when penalty is 'elasticnet'. Got (penalty=l2)\n",
            "  warnings.warn(\n",
            "/usr/local/lib/python3.10/dist-packages/sklearn/linear_model/_logistic.py:1172: UserWarning: l1_ratio parameter is only used when penalty is 'elasticnet'. Got (penalty=l2)\n",
            "  warnings.warn(\n",
            "/usr/local/lib/python3.10/dist-packages/sklearn/linear_model/_logistic.py:1172: UserWarning: l1_ratio parameter is only used when penalty is 'elasticnet'. Got (penalty=l2)\n",
            "  warnings.warn(\n",
            "/usr/local/lib/python3.10/dist-packages/sklearn/linear_model/_logistic.py:1172: UserWarning: l1_ratio parameter is only used when penalty is 'elasticnet'. Got (penalty=l2)\n",
            "  warnings.warn(\n",
            "/usr/local/lib/python3.10/dist-packages/sklearn/linear_model/_logistic.py:1172: UserWarning: l1_ratio parameter is only used when penalty is 'elasticnet'. Got (penalty=none)\n",
            "  warnings.warn(\n",
            "/usr/local/lib/python3.10/dist-packages/sklearn/linear_model/_logistic.py:1183: FutureWarning: `penalty='none'`has been deprecated in 1.2 and will be removed in 1.4. To keep the past behaviour, set `penalty=None`.\n",
            "  warnings.warn(\n",
            "/usr/local/lib/python3.10/dist-packages/sklearn/linear_model/_logistic.py:1172: UserWarning: l1_ratio parameter is only used when penalty is 'elasticnet'. Got (penalty=none)\n",
            "  warnings.warn(\n",
            "/usr/local/lib/python3.10/dist-packages/sklearn/linear_model/_logistic.py:1183: FutureWarning: `penalty='none'`has been deprecated in 1.2 and will be removed in 1.4. To keep the past behaviour, set `penalty=None`.\n",
            "  warnings.warn(\n",
            "/usr/local/lib/python3.10/dist-packages/sklearn/linear_model/_logistic.py:1172: UserWarning: l1_ratio parameter is only used when penalty is 'elasticnet'. Got (penalty=none)\n",
            "  warnings.warn(\n",
            "/usr/local/lib/python3.10/dist-packages/sklearn/linear_model/_logistic.py:1183: FutureWarning: `penalty='none'`has been deprecated in 1.2 and will be removed in 1.4. To keep the past behaviour, set `penalty=None`.\n",
            "  warnings.warn(\n",
            "/usr/local/lib/python3.10/dist-packages/sklearn/linear_model/_logistic.py:1172: UserWarning: l1_ratio parameter is only used when penalty is 'elasticnet'. Got (penalty=none)\n",
            "  warnings.warn(\n",
            "/usr/local/lib/python3.10/dist-packages/sklearn/linear_model/_logistic.py:1183: FutureWarning: `penalty='none'`has been deprecated in 1.2 and will be removed in 1.4. To keep the past behaviour, set `penalty=None`.\n",
            "  warnings.warn(\n"
          ]
        },
        {
          "output_type": "stream",
          "name": "stdout",
          "text": [
            "[CV] END ........C=1, l1_ratio=1, penalty=none, solver=lbfgs; total time=   0.0s\n",
            "[CV] END ........C=1, l1_ratio=1, penalty=none, solver=lbfgs; total time=   0.0s\n",
            "[CV] END ....C=1, l1_ratio=1, penalty=none, solver=liblinear; total time=   0.0s\n",
            "[CV] END ....C=1, l1_ratio=1, penalty=none, solver=liblinear; total time=   0.0s\n",
            "[CV] END ....C=1, l1_ratio=1, penalty=none, solver=liblinear; total time=   0.0s\n",
            "[CV] END ....C=1, l1_ratio=1, penalty=none, solver=liblinear; total time=   0.0s\n",
            "[CV] END ....C=1, l1_ratio=1, penalty=none, solver=liblinear; total time=   0.0s\n",
            "[CV] END .........C=1, l1_ratio=1, penalty=none, solver=saga; total time=   0.0s\n",
            "[CV] END .........C=1, l1_ratio=1, penalty=none, solver=saga; total time=   0.1s\n",
            "[CV] END .........C=1, l1_ratio=1, penalty=none, solver=saga; total time=   0.0s\n"
          ]
        },
        {
          "output_type": "stream",
          "name": "stderr",
          "text": [
            "/usr/local/lib/python3.10/dist-packages/sklearn/linear_model/_logistic.py:1172: UserWarning: l1_ratio parameter is only used when penalty is 'elasticnet'. Got (penalty=none)\n",
            "  warnings.warn(\n",
            "/usr/local/lib/python3.10/dist-packages/sklearn/linear_model/_logistic.py:1183: FutureWarning: `penalty='none'`has been deprecated in 1.2 and will be removed in 1.4. To keep the past behaviour, set `penalty=None`.\n",
            "  warnings.warn(\n",
            "/usr/local/lib/python3.10/dist-packages/sklearn/linear_model/_logistic.py:1172: UserWarning: l1_ratio parameter is only used when penalty is 'elasticnet'. Got (penalty=none)\n",
            "  warnings.warn(\n",
            "/usr/local/lib/python3.10/dist-packages/sklearn/linear_model/_logistic.py:1183: FutureWarning: `penalty='none'`has been deprecated in 1.2 and will be removed in 1.4. To keep the past behaviour, set `penalty=None`.\n",
            "  warnings.warn(\n",
            "/usr/local/lib/python3.10/dist-packages/sklearn/linear_model/_logistic.py:1172: UserWarning: l1_ratio parameter is only used when penalty is 'elasticnet'. Got (penalty=none)\n",
            "  warnings.warn(\n",
            "/usr/local/lib/python3.10/dist-packages/sklearn/linear_model/_logistic.py:1183: FutureWarning: `penalty='none'`has been deprecated in 1.2 and will be removed in 1.4. To keep the past behaviour, set `penalty=None`.\n",
            "  warnings.warn(\n",
            "/usr/local/lib/python3.10/dist-packages/sklearn/linear_model/_logistic.py:1172: UserWarning: l1_ratio parameter is only used when penalty is 'elasticnet'. Got (penalty=none)\n",
            "  warnings.warn(\n",
            "/usr/local/lib/python3.10/dist-packages/sklearn/linear_model/_logistic.py:1183: FutureWarning: `penalty='none'`has been deprecated in 1.2 and will be removed in 1.4. To keep the past behaviour, set `penalty=None`.\n",
            "  warnings.warn(\n",
            "/usr/local/lib/python3.10/dist-packages/sklearn/linear_model/_logistic.py:1172: UserWarning: l1_ratio parameter is only used when penalty is 'elasticnet'. Got (penalty=none)\n",
            "  warnings.warn(\n",
            "/usr/local/lib/python3.10/dist-packages/sklearn/linear_model/_logistic.py:1183: FutureWarning: `penalty='none'`has been deprecated in 1.2 and will be removed in 1.4. To keep the past behaviour, set `penalty=None`.\n",
            "  warnings.warn(\n"
          ]
        },
        {
          "output_type": "stream",
          "name": "stdout",
          "text": [
            "[CV] END .........C=1, l1_ratio=1, penalty=none, solver=saga; total time=   0.1s\n",
            "[CV] END .........C=1, l1_ratio=1, penalty=none, solver=saga; total time=   0.0s\n",
            "[CV] END .........C=10, l1_ratio=0, penalty=l1, solver=lbfgs; total time=   0.0s\n",
            "[CV] END .........C=10, l1_ratio=0, penalty=l1, solver=lbfgs; total time=   0.0s\n",
            "[CV] END .........C=10, l1_ratio=0, penalty=l1, solver=lbfgs; total time=   0.0s\n",
            "[CV] END .........C=10, l1_ratio=0, penalty=l1, solver=lbfgs; total time=   0.0s\n",
            "[CV] END .........C=10, l1_ratio=0, penalty=l1, solver=lbfgs; total time=   0.0s\n",
            "[CV] END .....C=10, l1_ratio=0, penalty=l1, solver=liblinear; total time=   0.0s\n",
            "[CV] END .....C=10, l1_ratio=0, penalty=l1, solver=liblinear; total time=   0.0s\n",
            "[CV] END .....C=10, l1_ratio=0, penalty=l1, solver=liblinear; total time=   0.0s\n",
            "[CV] END .....C=10, l1_ratio=0, penalty=l1, solver=liblinear; total time=   0.0s\n",
            "[CV] END .....C=10, l1_ratio=0, penalty=l1, solver=liblinear; total time=   0.0s\n",
            "[CV] END ..........C=10, l1_ratio=0, penalty=l1, solver=saga; total time=   0.0s\n",
            "[CV] END ..........C=10, l1_ratio=0, penalty=l1, solver=saga; total time=   0.0s\n",
            "[CV] END ..........C=10, l1_ratio=0, penalty=l1, solver=saga; total time=   0.0s\n",
            "[CV] END ..........C=10, l1_ratio=0, penalty=l1, solver=saga; total time=   0.0s\n",
            "[CV] END ..........C=10, l1_ratio=0, penalty=l1, solver=saga; total time=   0.0s\n"
          ]
        },
        {
          "output_type": "stream",
          "name": "stderr",
          "text": [
            "/usr/local/lib/python3.10/dist-packages/sklearn/linear_model/_logistic.py:1172: UserWarning: l1_ratio parameter is only used when penalty is 'elasticnet'. Got (penalty=none)\n",
            "  warnings.warn(\n",
            "/usr/local/lib/python3.10/dist-packages/sklearn/linear_model/_logistic.py:1183: FutureWarning: `penalty='none'`has been deprecated in 1.2 and will be removed in 1.4. To keep the past behaviour, set `penalty=None`.\n",
            "  warnings.warn(\n",
            "/usr/local/lib/python3.10/dist-packages/sklearn/linear_model/_logistic.py:1172: UserWarning: l1_ratio parameter is only used when penalty is 'elasticnet'. Got (penalty=l1)\n",
            "  warnings.warn(\n",
            "/usr/local/lib/python3.10/dist-packages/sklearn/linear_model/_logistic.py:1172: UserWarning: l1_ratio parameter is only used when penalty is 'elasticnet'. Got (penalty=l1)\n",
            "  warnings.warn(\n",
            "/usr/local/lib/python3.10/dist-packages/sklearn/linear_model/_logistic.py:1172: UserWarning: l1_ratio parameter is only used when penalty is 'elasticnet'. Got (penalty=l1)\n",
            "  warnings.warn(\n",
            "/usr/local/lib/python3.10/dist-packages/sklearn/linear_model/_logistic.py:1172: UserWarning: l1_ratio parameter is only used when penalty is 'elasticnet'. Got (penalty=l1)\n",
            "  warnings.warn(\n",
            "/usr/local/lib/python3.10/dist-packages/sklearn/linear_model/_logistic.py:1172: UserWarning: l1_ratio parameter is only used when penalty is 'elasticnet'. Got (penalty=l1)\n",
            "  warnings.warn(\n",
            "/usr/local/lib/python3.10/dist-packages/sklearn/linear_model/_logistic.py:1172: UserWarning: l1_ratio parameter is only used when penalty is 'elasticnet'. Got (penalty=l1)\n",
            "  warnings.warn(\n",
            "/usr/local/lib/python3.10/dist-packages/sklearn/linear_model/_logistic.py:1172: UserWarning: l1_ratio parameter is only used when penalty is 'elasticnet'. Got (penalty=l1)\n",
            "  warnings.warn(\n",
            "/usr/local/lib/python3.10/dist-packages/sklearn/linear_model/_logistic.py:1172: UserWarning: l1_ratio parameter is only used when penalty is 'elasticnet'. Got (penalty=l1)\n",
            "  warnings.warn(\n",
            "/usr/local/lib/python3.10/dist-packages/sklearn/linear_model/_logistic.py:1172: UserWarning: l1_ratio parameter is only used when penalty is 'elasticnet'. Got (penalty=l1)\n",
            "  warnings.warn(\n",
            "/usr/local/lib/python3.10/dist-packages/sklearn/linear_model/_logistic.py:1172: UserWarning: l1_ratio parameter is only used when penalty is 'elasticnet'. Got (penalty=l1)\n",
            "  warnings.warn(\n",
            "/usr/local/lib/python3.10/dist-packages/sklearn/linear_model/_logistic.py:1172: UserWarning: l1_ratio parameter is only used when penalty is 'elasticnet'. Got (penalty=l2)\n",
            "  warnings.warn(\n"
          ]
        },
        {
          "output_type": "stream",
          "name": "stdout",
          "text": [
            "[CV] END .........C=10, l1_ratio=0, penalty=l2, solver=lbfgs; total time=   0.0s\n",
            "[CV] END .........C=10, l1_ratio=0, penalty=l2, solver=lbfgs; total time=   0.0s\n",
            "[CV] END .........C=10, l1_ratio=0, penalty=l2, solver=lbfgs; total time=   0.0s\n",
            "[CV] END .........C=10, l1_ratio=0, penalty=l2, solver=lbfgs; total time=   0.0s\n",
            "[CV] END .........C=10, l1_ratio=0, penalty=l2, solver=lbfgs; total time=   0.0s\n",
            "[CV] END .....C=10, l1_ratio=0, penalty=l2, solver=liblinear; total time=   0.0s\n",
            "[CV] END .....C=10, l1_ratio=0, penalty=l2, solver=liblinear; total time=   0.0s\n",
            "[CV] END .....C=10, l1_ratio=0, penalty=l2, solver=liblinear; total time=   0.0s\n",
            "[CV] END .....C=10, l1_ratio=0, penalty=l2, solver=liblinear; total time=   0.0s\n",
            "[CV] END .....C=10, l1_ratio=0, penalty=l2, solver=liblinear; total time=   0.0s\n",
            "[CV] END ..........C=10, l1_ratio=0, penalty=l2, solver=saga; total time=   0.0s\n",
            "[CV] END ..........C=10, l1_ratio=0, penalty=l2, solver=saga; total time=   0.0s\n",
            "[CV] END ..........C=10, l1_ratio=0, penalty=l2, solver=saga; total time=   0.0s\n",
            "[CV] END ..........C=10, l1_ratio=0, penalty=l2, solver=saga; total time=   0.0s\n",
            "[CV] END ..........C=10, l1_ratio=0, penalty=l2, solver=saga; total time=   0.0s\n",
            "[CV] END .C=10, l1_ratio=0, penalty=elasticnet, solver=lbfgs; total time=   0.0s\n",
            "[CV] END .C=10, l1_ratio=0, penalty=elasticnet, solver=lbfgs; total time=   0.0s\n",
            "[CV] END .C=10, l1_ratio=0, penalty=elasticnet, solver=lbfgs; total time=   0.0s\n",
            "[CV] END .C=10, l1_ratio=0, penalty=elasticnet, solver=lbfgs; total time=   0.0s\n",
            "[CV] END .C=10, l1_ratio=0, penalty=elasticnet, solver=lbfgs; total time=   0.0s\n",
            "[CV] END C=10, l1_ratio=0, penalty=elasticnet, solver=liblinear; total time=   0.0s\n",
            "[CV] END C=10, l1_ratio=0, penalty=elasticnet, solver=liblinear; total time=   0.0s\n",
            "[CV] END C=10, l1_ratio=0, penalty=elasticnet, solver=liblinear; total time=   0.0s\n",
            "[CV] END C=10, l1_ratio=0, penalty=elasticnet, solver=liblinear; total time=   0.0s\n",
            "[CV] END C=10, l1_ratio=0, penalty=elasticnet, solver=liblinear; total time=   0.0s\n",
            "[CV] END ..C=10, l1_ratio=0, penalty=elasticnet, solver=saga; total time=   0.0s\n",
            "[CV] END ..C=10, l1_ratio=0, penalty=elasticnet, solver=saga; total time=   0.0s\n",
            "[CV] END ..C=10, l1_ratio=0, penalty=elasticnet, solver=saga; total time=   0.0s\n",
            "[CV] END ..C=10, l1_ratio=0, penalty=elasticnet, solver=saga; total time=   0.0s\n",
            "[CV] END ..C=10, l1_ratio=0, penalty=elasticnet, solver=saga; total time=   0.0s\n",
            "[CV] END .......C=10, l1_ratio=0, penalty=none, solver=lbfgs; total time=   0.0s\n",
            "[CV] END .......C=10, l1_ratio=0, penalty=none, solver=lbfgs; total time=   0.0s\n",
            "[CV] END .......C=10, l1_ratio=0, penalty=none, solver=lbfgs; total time=   0.0s\n",
            "[CV] END .......C=10, l1_ratio=0, penalty=none, solver=lbfgs; total time=   0.0s\n"
          ]
        },
        {
          "output_type": "stream",
          "name": "stderr",
          "text": [
            "/usr/local/lib/python3.10/dist-packages/sklearn/linear_model/_logistic.py:1172: UserWarning: l1_ratio parameter is only used when penalty is 'elasticnet'. Got (penalty=l2)\n",
            "  warnings.warn(\n",
            "/usr/local/lib/python3.10/dist-packages/sklearn/linear_model/_logistic.py:1172: UserWarning: l1_ratio parameter is only used when penalty is 'elasticnet'. Got (penalty=l2)\n",
            "  warnings.warn(\n",
            "/usr/local/lib/python3.10/dist-packages/sklearn/linear_model/_logistic.py:1172: UserWarning: l1_ratio parameter is only used when penalty is 'elasticnet'. Got (penalty=l2)\n",
            "  warnings.warn(\n",
            "/usr/local/lib/python3.10/dist-packages/sklearn/linear_model/_logistic.py:1172: UserWarning: l1_ratio parameter is only used when penalty is 'elasticnet'. Got (penalty=l2)\n",
            "  warnings.warn(\n",
            "/usr/local/lib/python3.10/dist-packages/sklearn/linear_model/_logistic.py:1172: UserWarning: l1_ratio parameter is only used when penalty is 'elasticnet'. Got (penalty=l2)\n",
            "  warnings.warn(\n",
            "/usr/local/lib/python3.10/dist-packages/sklearn/linear_model/_logistic.py:1172: UserWarning: l1_ratio parameter is only used when penalty is 'elasticnet'. Got (penalty=l2)\n",
            "  warnings.warn(\n",
            "/usr/local/lib/python3.10/dist-packages/sklearn/linear_model/_logistic.py:1172: UserWarning: l1_ratio parameter is only used when penalty is 'elasticnet'. Got (penalty=l2)\n",
            "  warnings.warn(\n",
            "/usr/local/lib/python3.10/dist-packages/sklearn/linear_model/_logistic.py:1172: UserWarning: l1_ratio parameter is only used when penalty is 'elasticnet'. Got (penalty=l2)\n",
            "  warnings.warn(\n",
            "/usr/local/lib/python3.10/dist-packages/sklearn/linear_model/_logistic.py:1172: UserWarning: l1_ratio parameter is only used when penalty is 'elasticnet'. Got (penalty=l2)\n",
            "  warnings.warn(\n",
            "/usr/local/lib/python3.10/dist-packages/sklearn/linear_model/_logistic.py:1172: UserWarning: l1_ratio parameter is only used when penalty is 'elasticnet'. Got (penalty=l2)\n",
            "  warnings.warn(\n",
            "/usr/local/lib/python3.10/dist-packages/sklearn/linear_model/_logistic.py:1172: UserWarning: l1_ratio parameter is only used when penalty is 'elasticnet'. Got (penalty=l2)\n",
            "  warnings.warn(\n",
            "/usr/local/lib/python3.10/dist-packages/sklearn/linear_model/_logistic.py:1172: UserWarning: l1_ratio parameter is only used when penalty is 'elasticnet'. Got (penalty=l2)\n",
            "  warnings.warn(\n",
            "/usr/local/lib/python3.10/dist-packages/sklearn/linear_model/_logistic.py:1172: UserWarning: l1_ratio parameter is only used when penalty is 'elasticnet'. Got (penalty=l2)\n",
            "  warnings.warn(\n",
            "/usr/local/lib/python3.10/dist-packages/sklearn/linear_model/_logistic.py:1172: UserWarning: l1_ratio parameter is only used when penalty is 'elasticnet'. Got (penalty=l2)\n",
            "  warnings.warn(\n",
            "/usr/local/lib/python3.10/dist-packages/sklearn/linear_model/_logistic.py:1172: UserWarning: l1_ratio parameter is only used when penalty is 'elasticnet'. Got (penalty=none)\n",
            "  warnings.warn(\n",
            "/usr/local/lib/python3.10/dist-packages/sklearn/linear_model/_logistic.py:1183: FutureWarning: `penalty='none'`has been deprecated in 1.2 and will be removed in 1.4. To keep the past behaviour, set `penalty=None`.\n",
            "  warnings.warn(\n",
            "/usr/local/lib/python3.10/dist-packages/sklearn/linear_model/_logistic.py:1193: UserWarning: Setting penalty=None will ignore the C and l1_ratio parameters\n",
            "  warnings.warn(\n",
            "/usr/local/lib/python3.10/dist-packages/sklearn/linear_model/_logistic.py:1172: UserWarning: l1_ratio parameter is only used when penalty is 'elasticnet'. Got (penalty=none)\n",
            "  warnings.warn(\n",
            "/usr/local/lib/python3.10/dist-packages/sklearn/linear_model/_logistic.py:1183: FutureWarning: `penalty='none'`has been deprecated in 1.2 and will be removed in 1.4. To keep the past behaviour, set `penalty=None`.\n",
            "  warnings.warn(\n",
            "/usr/local/lib/python3.10/dist-packages/sklearn/linear_model/_logistic.py:1193: UserWarning: Setting penalty=None will ignore the C and l1_ratio parameters\n",
            "  warnings.warn(\n",
            "/usr/local/lib/python3.10/dist-packages/sklearn/linear_model/_logistic.py:1172: UserWarning: l1_ratio parameter is only used when penalty is 'elasticnet'. Got (penalty=none)\n",
            "  warnings.warn(\n",
            "/usr/local/lib/python3.10/dist-packages/sklearn/linear_model/_logistic.py:1183: FutureWarning: `penalty='none'`has been deprecated in 1.2 and will be removed in 1.4. To keep the past behaviour, set `penalty=None`.\n",
            "  warnings.warn(\n",
            "/usr/local/lib/python3.10/dist-packages/sklearn/linear_model/_logistic.py:1193: UserWarning: Setting penalty=None will ignore the C and l1_ratio parameters\n",
            "  warnings.warn(\n",
            "/usr/local/lib/python3.10/dist-packages/sklearn/linear_model/_logistic.py:1172: UserWarning: l1_ratio parameter is only used when penalty is 'elasticnet'. Got (penalty=none)\n",
            "  warnings.warn(\n",
            "/usr/local/lib/python3.10/dist-packages/sklearn/linear_model/_logistic.py:1183: FutureWarning: `penalty='none'`has been deprecated in 1.2 and will be removed in 1.4. To keep the past behaviour, set `penalty=None`.\n",
            "  warnings.warn(\n",
            "/usr/local/lib/python3.10/dist-packages/sklearn/linear_model/_logistic.py:1193: UserWarning: Setting penalty=None will ignore the C and l1_ratio parameters\n",
            "  warnings.warn(\n",
            "/usr/local/lib/python3.10/dist-packages/sklearn/linear_model/_logistic.py:1172: UserWarning: l1_ratio parameter is only used when penalty is 'elasticnet'. Got (penalty=none)\n",
            "  warnings.warn(\n",
            "/usr/local/lib/python3.10/dist-packages/sklearn/linear_model/_logistic.py:1183: FutureWarning: `penalty='none'`has been deprecated in 1.2 and will be removed in 1.4. To keep the past behaviour, set `penalty=None`.\n",
            "  warnings.warn(\n",
            "/usr/local/lib/python3.10/dist-packages/sklearn/linear_model/_logistic.py:1193: UserWarning: Setting penalty=None will ignore the C and l1_ratio parameters\n",
            "  warnings.warn(\n"
          ]
        },
        {
          "output_type": "stream",
          "name": "stdout",
          "text": [
            "[CV] END .......C=10, l1_ratio=0, penalty=none, solver=lbfgs; total time=   0.0s\n",
            "[CV] END ...C=10, l1_ratio=0, penalty=none, solver=liblinear; total time=   0.0s\n",
            "[CV] END ...C=10, l1_ratio=0, penalty=none, solver=liblinear; total time=   0.0s\n",
            "[CV] END ...C=10, l1_ratio=0, penalty=none, solver=liblinear; total time=   0.0s\n",
            "[CV] END ...C=10, l1_ratio=0, penalty=none, solver=liblinear; total time=   0.0s\n",
            "[CV] END ...C=10, l1_ratio=0, penalty=none, solver=liblinear; total time=   0.0s\n",
            "[CV] END ........C=10, l1_ratio=0, penalty=none, solver=saga; total time=   0.1s\n",
            "[CV] END ........C=10, l1_ratio=0, penalty=none, solver=saga; total time=   0.1s\n",
            "[CV] END ........C=10, l1_ratio=0, penalty=none, solver=saga; total time=   0.0s\n"
          ]
        },
        {
          "output_type": "stream",
          "name": "stderr",
          "text": [
            "/usr/local/lib/python3.10/dist-packages/sklearn/linear_model/_logistic.py:1172: UserWarning: l1_ratio parameter is only used when penalty is 'elasticnet'. Got (penalty=none)\n",
            "  warnings.warn(\n",
            "/usr/local/lib/python3.10/dist-packages/sklearn/linear_model/_logistic.py:1183: FutureWarning: `penalty='none'`has been deprecated in 1.2 and will be removed in 1.4. To keep the past behaviour, set `penalty=None`.\n",
            "  warnings.warn(\n",
            "/usr/local/lib/python3.10/dist-packages/sklearn/linear_model/_logistic.py:1193: UserWarning: Setting penalty=None will ignore the C and l1_ratio parameters\n",
            "  warnings.warn(\n",
            "/usr/local/lib/python3.10/dist-packages/sklearn/linear_model/_logistic.py:1172: UserWarning: l1_ratio parameter is only used when penalty is 'elasticnet'. Got (penalty=none)\n",
            "  warnings.warn(\n",
            "/usr/local/lib/python3.10/dist-packages/sklearn/linear_model/_logistic.py:1183: FutureWarning: `penalty='none'`has been deprecated in 1.2 and will be removed in 1.4. To keep the past behaviour, set `penalty=None`.\n",
            "  warnings.warn(\n",
            "/usr/local/lib/python3.10/dist-packages/sklearn/linear_model/_logistic.py:1193: UserWarning: Setting penalty=None will ignore the C and l1_ratio parameters\n",
            "  warnings.warn(\n",
            "/usr/local/lib/python3.10/dist-packages/sklearn/linear_model/_logistic.py:1172: UserWarning: l1_ratio parameter is only used when penalty is 'elasticnet'. Got (penalty=none)\n",
            "  warnings.warn(\n",
            "/usr/local/lib/python3.10/dist-packages/sklearn/linear_model/_logistic.py:1183: FutureWarning: `penalty='none'`has been deprecated in 1.2 and will be removed in 1.4. To keep the past behaviour, set `penalty=None`.\n",
            "  warnings.warn(\n",
            "/usr/local/lib/python3.10/dist-packages/sklearn/linear_model/_logistic.py:1193: UserWarning: Setting penalty=None will ignore the C and l1_ratio parameters\n",
            "  warnings.warn(\n",
            "/usr/local/lib/python3.10/dist-packages/sklearn/linear_model/_logistic.py:1172: UserWarning: l1_ratio parameter is only used when penalty is 'elasticnet'. Got (penalty=none)\n",
            "  warnings.warn(\n",
            "/usr/local/lib/python3.10/dist-packages/sklearn/linear_model/_logistic.py:1183: FutureWarning: `penalty='none'`has been deprecated in 1.2 and will be removed in 1.4. To keep the past behaviour, set `penalty=None`.\n",
            "  warnings.warn(\n",
            "/usr/local/lib/python3.10/dist-packages/sklearn/linear_model/_logistic.py:1193: UserWarning: Setting penalty=None will ignore the C and l1_ratio parameters\n",
            "  warnings.warn(\n"
          ]
        },
        {
          "output_type": "stream",
          "name": "stdout",
          "text": [
            "[CV] END ........C=10, l1_ratio=0, penalty=none, solver=saga; total time=   0.1s\n",
            "[CV] END ........C=10, l1_ratio=0, penalty=none, solver=saga; total time=   0.1s\n",
            "[CV] END .......C=10, l1_ratio=0.5, penalty=l1, solver=lbfgs; total time=   0.0s\n",
            "[CV] END .......C=10, l1_ratio=0.5, penalty=l1, solver=lbfgs; total time=   0.0s\n",
            "[CV] END .......C=10, l1_ratio=0.5, penalty=l1, solver=lbfgs; total time=   0.0s\n",
            "[CV] END .......C=10, l1_ratio=0.5, penalty=l1, solver=lbfgs; total time=   0.0s\n",
            "[CV] END .......C=10, l1_ratio=0.5, penalty=l1, solver=lbfgs; total time=   0.0s\n",
            "[CV] END ...C=10, l1_ratio=0.5, penalty=l1, solver=liblinear; total time=   0.0s\n",
            "[CV] END ...C=10, l1_ratio=0.5, penalty=l1, solver=liblinear; total time=   0.0s\n",
            "[CV] END ...C=10, l1_ratio=0.5, penalty=l1, solver=liblinear; total time=   0.0s\n",
            "[CV] END ...C=10, l1_ratio=0.5, penalty=l1, solver=liblinear; total time=   0.0s\n",
            "[CV] END ...C=10, l1_ratio=0.5, penalty=l1, solver=liblinear; total time=   0.0s\n",
            "[CV] END ........C=10, l1_ratio=0.5, penalty=l1, solver=saga; total time=   0.0s\n",
            "[CV] END ........C=10, l1_ratio=0.5, penalty=l1, solver=saga; total time=   0.0s\n",
            "[CV] END ........C=10, l1_ratio=0.5, penalty=l1, solver=saga; total time=   0.0s\n",
            "[CV] END ........C=10, l1_ratio=0.5, penalty=l1, solver=saga; total time=   0.0s\n",
            "[CV] END ........C=10, l1_ratio=0.5, penalty=l1, solver=saga; total time=   0.0s\n",
            "[CV] END .......C=10, l1_ratio=0.5, penalty=l2, solver=lbfgs; total time=   0.0s\n",
            "[CV] END .......C=10, l1_ratio=0.5, penalty=l2, solver=lbfgs; total time=   0.0s\n"
          ]
        },
        {
          "output_type": "stream",
          "name": "stderr",
          "text": [
            "/usr/local/lib/python3.10/dist-packages/sklearn/linear_model/_logistic.py:1172: UserWarning: l1_ratio parameter is only used when penalty is 'elasticnet'. Got (penalty=none)\n",
            "  warnings.warn(\n",
            "/usr/local/lib/python3.10/dist-packages/sklearn/linear_model/_logistic.py:1183: FutureWarning: `penalty='none'`has been deprecated in 1.2 and will be removed in 1.4. To keep the past behaviour, set `penalty=None`.\n",
            "  warnings.warn(\n",
            "/usr/local/lib/python3.10/dist-packages/sklearn/linear_model/_logistic.py:1193: UserWarning: Setting penalty=None will ignore the C and l1_ratio parameters\n",
            "  warnings.warn(\n",
            "/usr/local/lib/python3.10/dist-packages/sklearn/linear_model/_logistic.py:1172: UserWarning: l1_ratio parameter is only used when penalty is 'elasticnet'. Got (penalty=l1)\n",
            "  warnings.warn(\n",
            "/usr/local/lib/python3.10/dist-packages/sklearn/linear_model/_logistic.py:1172: UserWarning: l1_ratio parameter is only used when penalty is 'elasticnet'. Got (penalty=l1)\n",
            "  warnings.warn(\n",
            "/usr/local/lib/python3.10/dist-packages/sklearn/linear_model/_logistic.py:1172: UserWarning: l1_ratio parameter is only used when penalty is 'elasticnet'. Got (penalty=l1)\n",
            "  warnings.warn(\n",
            "/usr/local/lib/python3.10/dist-packages/sklearn/linear_model/_logistic.py:1172: UserWarning: l1_ratio parameter is only used when penalty is 'elasticnet'. Got (penalty=l1)\n",
            "  warnings.warn(\n",
            "/usr/local/lib/python3.10/dist-packages/sklearn/linear_model/_logistic.py:1172: UserWarning: l1_ratio parameter is only used when penalty is 'elasticnet'. Got (penalty=l1)\n",
            "  warnings.warn(\n",
            "/usr/local/lib/python3.10/dist-packages/sklearn/linear_model/_logistic.py:1172: UserWarning: l1_ratio parameter is only used when penalty is 'elasticnet'. Got (penalty=l1)\n",
            "  warnings.warn(\n",
            "/usr/local/lib/python3.10/dist-packages/sklearn/linear_model/_logistic.py:1172: UserWarning: l1_ratio parameter is only used when penalty is 'elasticnet'. Got (penalty=l1)\n",
            "  warnings.warn(\n",
            "/usr/local/lib/python3.10/dist-packages/sklearn/linear_model/_logistic.py:1172: UserWarning: l1_ratio parameter is only used when penalty is 'elasticnet'. Got (penalty=l1)\n",
            "  warnings.warn(\n",
            "/usr/local/lib/python3.10/dist-packages/sklearn/linear_model/_logistic.py:1172: UserWarning: l1_ratio parameter is only used when penalty is 'elasticnet'. Got (penalty=l1)\n",
            "  warnings.warn(\n",
            "/usr/local/lib/python3.10/dist-packages/sklearn/linear_model/_logistic.py:1172: UserWarning: l1_ratio parameter is only used when penalty is 'elasticnet'. Got (penalty=l1)\n",
            "  warnings.warn(\n",
            "/usr/local/lib/python3.10/dist-packages/sklearn/linear_model/_logistic.py:1172: UserWarning: l1_ratio parameter is only used when penalty is 'elasticnet'. Got (penalty=l2)\n",
            "  warnings.warn(\n",
            "/usr/local/lib/python3.10/dist-packages/sklearn/linear_model/_logistic.py:1172: UserWarning: l1_ratio parameter is only used when penalty is 'elasticnet'. Got (penalty=l2)\n",
            "  warnings.warn(\n",
            "/usr/local/lib/python3.10/dist-packages/sklearn/linear_model/_logistic.py:1172: UserWarning: l1_ratio parameter is only used when penalty is 'elasticnet'. Got (penalty=l2)\n",
            "  warnings.warn(\n"
          ]
        },
        {
          "output_type": "stream",
          "name": "stdout",
          "text": [
            "[CV] END .......C=10, l1_ratio=0.5, penalty=l2, solver=lbfgs; total time=   0.0s\n",
            "[CV] END .......C=10, l1_ratio=0.5, penalty=l2, solver=lbfgs; total time=   0.0s\n",
            "[CV] END .......C=10, l1_ratio=0.5, penalty=l2, solver=lbfgs; total time=   0.0s\n",
            "[CV] END ...C=10, l1_ratio=0.5, penalty=l2, solver=liblinear; total time=   0.0s\n",
            "[CV] END ...C=10, l1_ratio=0.5, penalty=l2, solver=liblinear; total time=   0.0s\n",
            "[CV] END ...C=10, l1_ratio=0.5, penalty=l2, solver=liblinear; total time=   0.0s\n",
            "[CV] END ...C=10, l1_ratio=0.5, penalty=l2, solver=liblinear; total time=   0.0s\n",
            "[CV] END ...C=10, l1_ratio=0.5, penalty=l2, solver=liblinear; total time=   0.0s\n",
            "[CV] END ........C=10, l1_ratio=0.5, penalty=l2, solver=saga; total time=   0.0s\n",
            "[CV] END ........C=10, l1_ratio=0.5, penalty=l2, solver=saga; total time=   0.0s\n",
            "[CV] END ........C=10, l1_ratio=0.5, penalty=l2, solver=saga; total time=   0.0s\n",
            "[CV] END ........C=10, l1_ratio=0.5, penalty=l2, solver=saga; total time=   0.0s\n",
            "[CV] END ........C=10, l1_ratio=0.5, penalty=l2, solver=saga; total time=   0.0s\n",
            "[CV] END C=10, l1_ratio=0.5, penalty=elasticnet, solver=lbfgs; total time=   0.0s\n",
            "[CV] END C=10, l1_ratio=0.5, penalty=elasticnet, solver=lbfgs; total time=   0.0s\n",
            "[CV] END C=10, l1_ratio=0.5, penalty=elasticnet, solver=lbfgs; total time=   0.0s\n",
            "[CV] END C=10, l1_ratio=0.5, penalty=elasticnet, solver=lbfgs; total time=   0.0s\n",
            "[CV] END C=10, l1_ratio=0.5, penalty=elasticnet, solver=lbfgs; total time=   0.0s\n",
            "[CV] END C=10, l1_ratio=0.5, penalty=elasticnet, solver=liblinear; total time=   0.0s\n",
            "[CV] END C=10, l1_ratio=0.5, penalty=elasticnet, solver=liblinear; total time=   0.0s\n",
            "[CV] END C=10, l1_ratio=0.5, penalty=elasticnet, solver=liblinear; total time=   0.0s\n",
            "[CV] END C=10, l1_ratio=0.5, penalty=elasticnet, solver=liblinear; total time=   0.0s\n",
            "[CV] END C=10, l1_ratio=0.5, penalty=elasticnet, solver=liblinear; total time=   0.0s\n",
            "[CV] END C=10, l1_ratio=0.5, penalty=elasticnet, solver=saga; total time=   0.0s\n",
            "[CV] END C=10, l1_ratio=0.5, penalty=elasticnet, solver=saga; total time=   0.0s\n",
            "[CV] END C=10, l1_ratio=0.5, penalty=elasticnet, solver=saga; total time=   0.0s\n",
            "[CV] END C=10, l1_ratio=0.5, penalty=elasticnet, solver=saga; total time=   0.0s\n",
            "[CV] END C=10, l1_ratio=0.5, penalty=elasticnet, solver=saga; total time=   0.0s\n",
            "[CV] END .....C=10, l1_ratio=0.5, penalty=none, solver=lbfgs; total time=   0.0s\n",
            "[CV] END .....C=10, l1_ratio=0.5, penalty=none, solver=lbfgs; total time=   0.0s\n",
            "[CV] END .....C=10, l1_ratio=0.5, penalty=none, solver=lbfgs; total time=   0.0s\n",
            "[CV] END .....C=10, l1_ratio=0.5, penalty=none, solver=lbfgs; total time=   0.0s\n"
          ]
        },
        {
          "output_type": "stream",
          "name": "stderr",
          "text": [
            "/usr/local/lib/python3.10/dist-packages/sklearn/linear_model/_logistic.py:1172: UserWarning: l1_ratio parameter is only used when penalty is 'elasticnet'. Got (penalty=l2)\n",
            "  warnings.warn(\n",
            "/usr/local/lib/python3.10/dist-packages/sklearn/linear_model/_logistic.py:1172: UserWarning: l1_ratio parameter is only used when penalty is 'elasticnet'. Got (penalty=l2)\n",
            "  warnings.warn(\n",
            "/usr/local/lib/python3.10/dist-packages/sklearn/linear_model/_logistic.py:1172: UserWarning: l1_ratio parameter is only used when penalty is 'elasticnet'. Got (penalty=l2)\n",
            "  warnings.warn(\n",
            "/usr/local/lib/python3.10/dist-packages/sklearn/linear_model/_logistic.py:1172: UserWarning: l1_ratio parameter is only used when penalty is 'elasticnet'. Got (penalty=l2)\n",
            "  warnings.warn(\n",
            "/usr/local/lib/python3.10/dist-packages/sklearn/linear_model/_logistic.py:1172: UserWarning: l1_ratio parameter is only used when penalty is 'elasticnet'. Got (penalty=l2)\n",
            "  warnings.warn(\n",
            "/usr/local/lib/python3.10/dist-packages/sklearn/linear_model/_logistic.py:1172: UserWarning: l1_ratio parameter is only used when penalty is 'elasticnet'. Got (penalty=l2)\n",
            "  warnings.warn(\n",
            "/usr/local/lib/python3.10/dist-packages/sklearn/linear_model/_logistic.py:1172: UserWarning: l1_ratio parameter is only used when penalty is 'elasticnet'. Got (penalty=l2)\n",
            "  warnings.warn(\n",
            "/usr/local/lib/python3.10/dist-packages/sklearn/linear_model/_logistic.py:1172: UserWarning: l1_ratio parameter is only used when penalty is 'elasticnet'. Got (penalty=l2)\n",
            "  warnings.warn(\n",
            "/usr/local/lib/python3.10/dist-packages/sklearn/linear_model/_logistic.py:1172: UserWarning: l1_ratio parameter is only used when penalty is 'elasticnet'. Got (penalty=l2)\n",
            "  warnings.warn(\n",
            "/usr/local/lib/python3.10/dist-packages/sklearn/linear_model/_logistic.py:1172: UserWarning: l1_ratio parameter is only used when penalty is 'elasticnet'. Got (penalty=l2)\n",
            "  warnings.warn(\n",
            "/usr/local/lib/python3.10/dist-packages/sklearn/linear_model/_logistic.py:1172: UserWarning: l1_ratio parameter is only used when penalty is 'elasticnet'. Got (penalty=l2)\n",
            "  warnings.warn(\n",
            "/usr/local/lib/python3.10/dist-packages/sklearn/linear_model/_logistic.py:1172: UserWarning: l1_ratio parameter is only used when penalty is 'elasticnet'. Got (penalty=l2)\n",
            "  warnings.warn(\n",
            "/usr/local/lib/python3.10/dist-packages/sklearn/linear_model/_logistic.py:1172: UserWarning: l1_ratio parameter is only used when penalty is 'elasticnet'. Got (penalty=none)\n",
            "  warnings.warn(\n",
            "/usr/local/lib/python3.10/dist-packages/sklearn/linear_model/_logistic.py:1183: FutureWarning: `penalty='none'`has been deprecated in 1.2 and will be removed in 1.4. To keep the past behaviour, set `penalty=None`.\n",
            "  warnings.warn(\n",
            "/usr/local/lib/python3.10/dist-packages/sklearn/linear_model/_logistic.py:1193: UserWarning: Setting penalty=None will ignore the C and l1_ratio parameters\n",
            "  warnings.warn(\n",
            "/usr/local/lib/python3.10/dist-packages/sklearn/linear_model/_logistic.py:1172: UserWarning: l1_ratio parameter is only used when penalty is 'elasticnet'. Got (penalty=none)\n",
            "  warnings.warn(\n",
            "/usr/local/lib/python3.10/dist-packages/sklearn/linear_model/_logistic.py:1183: FutureWarning: `penalty='none'`has been deprecated in 1.2 and will be removed in 1.4. To keep the past behaviour, set `penalty=None`.\n",
            "  warnings.warn(\n",
            "/usr/local/lib/python3.10/dist-packages/sklearn/linear_model/_logistic.py:1193: UserWarning: Setting penalty=None will ignore the C and l1_ratio parameters\n",
            "  warnings.warn(\n",
            "/usr/local/lib/python3.10/dist-packages/sklearn/linear_model/_logistic.py:1172: UserWarning: l1_ratio parameter is only used when penalty is 'elasticnet'. Got (penalty=none)\n",
            "  warnings.warn(\n",
            "/usr/local/lib/python3.10/dist-packages/sklearn/linear_model/_logistic.py:1183: FutureWarning: `penalty='none'`has been deprecated in 1.2 and will be removed in 1.4. To keep the past behaviour, set `penalty=None`.\n",
            "  warnings.warn(\n",
            "/usr/local/lib/python3.10/dist-packages/sklearn/linear_model/_logistic.py:1193: UserWarning: Setting penalty=None will ignore the C and l1_ratio parameters\n",
            "  warnings.warn(\n",
            "/usr/local/lib/python3.10/dist-packages/sklearn/linear_model/_logistic.py:1172: UserWarning: l1_ratio parameter is only used when penalty is 'elasticnet'. Got (penalty=none)\n",
            "  warnings.warn(\n",
            "/usr/local/lib/python3.10/dist-packages/sklearn/linear_model/_logistic.py:1183: FutureWarning: `penalty='none'`has been deprecated in 1.2 and will be removed in 1.4. To keep the past behaviour, set `penalty=None`.\n",
            "  warnings.warn(\n",
            "/usr/local/lib/python3.10/dist-packages/sklearn/linear_model/_logistic.py:1193: UserWarning: Setting penalty=None will ignore the C and l1_ratio parameters\n",
            "  warnings.warn(\n",
            "/usr/local/lib/python3.10/dist-packages/sklearn/linear_model/_logistic.py:1172: UserWarning: l1_ratio parameter is only used when penalty is 'elasticnet'. Got (penalty=none)\n",
            "  warnings.warn(\n",
            "/usr/local/lib/python3.10/dist-packages/sklearn/linear_model/_logistic.py:1183: FutureWarning: `penalty='none'`has been deprecated in 1.2 and will be removed in 1.4. To keep the past behaviour, set `penalty=None`.\n",
            "  warnings.warn(\n",
            "/usr/local/lib/python3.10/dist-packages/sklearn/linear_model/_logistic.py:1193: UserWarning: Setting penalty=None will ignore the C and l1_ratio parameters\n",
            "  warnings.warn(\n"
          ]
        },
        {
          "output_type": "stream",
          "name": "stdout",
          "text": [
            "[CV] END .....C=10, l1_ratio=0.5, penalty=none, solver=lbfgs; total time=   0.0s\n",
            "[CV] END .C=10, l1_ratio=0.5, penalty=none, solver=liblinear; total time=   0.0s\n",
            "[CV] END .C=10, l1_ratio=0.5, penalty=none, solver=liblinear; total time=   0.0s\n",
            "[CV] END .C=10, l1_ratio=0.5, penalty=none, solver=liblinear; total time=   0.0s\n",
            "[CV] END .C=10, l1_ratio=0.5, penalty=none, solver=liblinear; total time=   0.0s\n",
            "[CV] END .C=10, l1_ratio=0.5, penalty=none, solver=liblinear; total time=   0.0s\n",
            "[CV] END ......C=10, l1_ratio=0.5, penalty=none, solver=saga; total time=   0.1s\n",
            "[CV] END ......C=10, l1_ratio=0.5, penalty=none, solver=saga; total time=   0.1s\n",
            "[CV] END ......C=10, l1_ratio=0.5, penalty=none, solver=saga; total time=   0.0s\n"
          ]
        },
        {
          "output_type": "stream",
          "name": "stderr",
          "text": [
            "/usr/local/lib/python3.10/dist-packages/sklearn/linear_model/_logistic.py:1172: UserWarning: l1_ratio parameter is only used when penalty is 'elasticnet'. Got (penalty=none)\n",
            "  warnings.warn(\n",
            "/usr/local/lib/python3.10/dist-packages/sklearn/linear_model/_logistic.py:1183: FutureWarning: `penalty='none'`has been deprecated in 1.2 and will be removed in 1.4. To keep the past behaviour, set `penalty=None`.\n",
            "  warnings.warn(\n",
            "/usr/local/lib/python3.10/dist-packages/sklearn/linear_model/_logistic.py:1193: UserWarning: Setting penalty=None will ignore the C and l1_ratio parameters\n",
            "  warnings.warn(\n",
            "/usr/local/lib/python3.10/dist-packages/sklearn/linear_model/_logistic.py:1172: UserWarning: l1_ratio parameter is only used when penalty is 'elasticnet'. Got (penalty=none)\n",
            "  warnings.warn(\n",
            "/usr/local/lib/python3.10/dist-packages/sklearn/linear_model/_logistic.py:1183: FutureWarning: `penalty='none'`has been deprecated in 1.2 and will be removed in 1.4. To keep the past behaviour, set `penalty=None`.\n",
            "  warnings.warn(\n",
            "/usr/local/lib/python3.10/dist-packages/sklearn/linear_model/_logistic.py:1193: UserWarning: Setting penalty=None will ignore the C and l1_ratio parameters\n",
            "  warnings.warn(\n",
            "/usr/local/lib/python3.10/dist-packages/sklearn/linear_model/_logistic.py:1172: UserWarning: l1_ratio parameter is only used when penalty is 'elasticnet'. Got (penalty=none)\n",
            "  warnings.warn(\n",
            "/usr/local/lib/python3.10/dist-packages/sklearn/linear_model/_logistic.py:1183: FutureWarning: `penalty='none'`has been deprecated in 1.2 and will be removed in 1.4. To keep the past behaviour, set `penalty=None`.\n",
            "  warnings.warn(\n",
            "/usr/local/lib/python3.10/dist-packages/sklearn/linear_model/_logistic.py:1193: UserWarning: Setting penalty=None will ignore the C and l1_ratio parameters\n",
            "  warnings.warn(\n",
            "/usr/local/lib/python3.10/dist-packages/sklearn/linear_model/_logistic.py:1172: UserWarning: l1_ratio parameter is only used when penalty is 'elasticnet'. Got (penalty=none)\n",
            "  warnings.warn(\n",
            "/usr/local/lib/python3.10/dist-packages/sklearn/linear_model/_logistic.py:1183: FutureWarning: `penalty='none'`has been deprecated in 1.2 and will be removed in 1.4. To keep the past behaviour, set `penalty=None`.\n",
            "  warnings.warn(\n",
            "/usr/local/lib/python3.10/dist-packages/sklearn/linear_model/_logistic.py:1193: UserWarning: Setting penalty=None will ignore the C and l1_ratio parameters\n",
            "  warnings.warn(\n"
          ]
        },
        {
          "output_type": "stream",
          "name": "stdout",
          "text": [
            "[CV] END ......C=10, l1_ratio=0.5, penalty=none, solver=saga; total time=   0.1s\n",
            "[CV] END ......C=10, l1_ratio=0.5, penalty=none, solver=saga; total time=   0.1s\n",
            "[CV] END .........C=10, l1_ratio=1, penalty=l1, solver=lbfgs; total time=   0.0s\n",
            "[CV] END .........C=10, l1_ratio=1, penalty=l1, solver=lbfgs; total time=   0.0s\n",
            "[CV] END .........C=10, l1_ratio=1, penalty=l1, solver=lbfgs; total time=   0.0s\n",
            "[CV] END .........C=10, l1_ratio=1, penalty=l1, solver=lbfgs; total time=   0.0s\n",
            "[CV] END .........C=10, l1_ratio=1, penalty=l1, solver=lbfgs; total time=   0.0s\n",
            "[CV] END .....C=10, l1_ratio=1, penalty=l1, solver=liblinear; total time=   0.0s\n",
            "[CV] END .....C=10, l1_ratio=1, penalty=l1, solver=liblinear; total time=   0.0s\n",
            "[CV] END .....C=10, l1_ratio=1, penalty=l1, solver=liblinear; total time=   0.0s\n",
            "[CV] END .....C=10, l1_ratio=1, penalty=l1, solver=liblinear; total time=   0.0s\n",
            "[CV] END .....C=10, l1_ratio=1, penalty=l1, solver=liblinear; total time=   0.0s\n",
            "[CV] END ..........C=10, l1_ratio=1, penalty=l1, solver=saga; total time=   0.0s\n",
            "[CV] END ..........C=10, l1_ratio=1, penalty=l1, solver=saga; total time=   0.0s\n",
            "[CV] END ..........C=10, l1_ratio=1, penalty=l1, solver=saga; total time=   0.0s\n",
            "[CV] END ..........C=10, l1_ratio=1, penalty=l1, solver=saga; total time=   0.0s\n",
            "[CV] END ..........C=10, l1_ratio=1, penalty=l1, solver=saga; total time=   0.0s\n",
            "[CV] END .........C=10, l1_ratio=1, penalty=l2, solver=lbfgs; total time=   0.0s\n",
            "[CV] END .........C=10, l1_ratio=1, penalty=l2, solver=lbfgs; total time=   0.0s\n"
          ]
        },
        {
          "output_type": "stream",
          "name": "stderr",
          "text": [
            "/usr/local/lib/python3.10/dist-packages/sklearn/linear_model/_logistic.py:1172: UserWarning: l1_ratio parameter is only used when penalty is 'elasticnet'. Got (penalty=none)\n",
            "  warnings.warn(\n",
            "/usr/local/lib/python3.10/dist-packages/sklearn/linear_model/_logistic.py:1183: FutureWarning: `penalty='none'`has been deprecated in 1.2 and will be removed in 1.4. To keep the past behaviour, set `penalty=None`.\n",
            "  warnings.warn(\n",
            "/usr/local/lib/python3.10/dist-packages/sklearn/linear_model/_logistic.py:1193: UserWarning: Setting penalty=None will ignore the C and l1_ratio parameters\n",
            "  warnings.warn(\n",
            "/usr/local/lib/python3.10/dist-packages/sklearn/linear_model/_logistic.py:1172: UserWarning: l1_ratio parameter is only used when penalty is 'elasticnet'. Got (penalty=l1)\n",
            "  warnings.warn(\n",
            "/usr/local/lib/python3.10/dist-packages/sklearn/linear_model/_logistic.py:1172: UserWarning: l1_ratio parameter is only used when penalty is 'elasticnet'. Got (penalty=l1)\n",
            "  warnings.warn(\n",
            "/usr/local/lib/python3.10/dist-packages/sklearn/linear_model/_logistic.py:1172: UserWarning: l1_ratio parameter is only used when penalty is 'elasticnet'. Got (penalty=l1)\n",
            "  warnings.warn(\n",
            "/usr/local/lib/python3.10/dist-packages/sklearn/linear_model/_logistic.py:1172: UserWarning: l1_ratio parameter is only used when penalty is 'elasticnet'. Got (penalty=l1)\n",
            "  warnings.warn(\n",
            "/usr/local/lib/python3.10/dist-packages/sklearn/linear_model/_logistic.py:1172: UserWarning: l1_ratio parameter is only used when penalty is 'elasticnet'. Got (penalty=l1)\n",
            "  warnings.warn(\n",
            "/usr/local/lib/python3.10/dist-packages/sklearn/linear_model/_logistic.py:1172: UserWarning: l1_ratio parameter is only used when penalty is 'elasticnet'. Got (penalty=l1)\n",
            "  warnings.warn(\n",
            "/usr/local/lib/python3.10/dist-packages/sklearn/linear_model/_logistic.py:1172: UserWarning: l1_ratio parameter is only used when penalty is 'elasticnet'. Got (penalty=l1)\n",
            "  warnings.warn(\n",
            "/usr/local/lib/python3.10/dist-packages/sklearn/linear_model/_logistic.py:1172: UserWarning: l1_ratio parameter is only used when penalty is 'elasticnet'. Got (penalty=l1)\n",
            "  warnings.warn(\n",
            "/usr/local/lib/python3.10/dist-packages/sklearn/linear_model/_logistic.py:1172: UserWarning: l1_ratio parameter is only used when penalty is 'elasticnet'. Got (penalty=l1)\n",
            "  warnings.warn(\n",
            "/usr/local/lib/python3.10/dist-packages/sklearn/linear_model/_logistic.py:1172: UserWarning: l1_ratio parameter is only used when penalty is 'elasticnet'. Got (penalty=l1)\n",
            "  warnings.warn(\n",
            "/usr/local/lib/python3.10/dist-packages/sklearn/linear_model/_logistic.py:1172: UserWarning: l1_ratio parameter is only used when penalty is 'elasticnet'. Got (penalty=l2)\n",
            "  warnings.warn(\n",
            "/usr/local/lib/python3.10/dist-packages/sklearn/linear_model/_logistic.py:1172: UserWarning: l1_ratio parameter is only used when penalty is 'elasticnet'. Got (penalty=l2)\n",
            "  warnings.warn(\n",
            "/usr/local/lib/python3.10/dist-packages/sklearn/linear_model/_logistic.py:1172: UserWarning: l1_ratio parameter is only used when penalty is 'elasticnet'. Got (penalty=l2)\n",
            "  warnings.warn(\n"
          ]
        },
        {
          "output_type": "stream",
          "name": "stdout",
          "text": [
            "[CV] END .........C=10, l1_ratio=1, penalty=l2, solver=lbfgs; total time=   0.0s\n",
            "[CV] END .........C=10, l1_ratio=1, penalty=l2, solver=lbfgs; total time=   0.0s\n",
            "[CV] END .........C=10, l1_ratio=1, penalty=l2, solver=lbfgs; total time=   0.0s\n",
            "[CV] END .....C=10, l1_ratio=1, penalty=l2, solver=liblinear; total time=   0.0s\n",
            "[CV] END .....C=10, l1_ratio=1, penalty=l2, solver=liblinear; total time=   0.0s\n",
            "[CV] END .....C=10, l1_ratio=1, penalty=l2, solver=liblinear; total time=   0.0s\n",
            "[CV] END .....C=10, l1_ratio=1, penalty=l2, solver=liblinear; total time=   0.0s\n",
            "[CV] END .....C=10, l1_ratio=1, penalty=l2, solver=liblinear; total time=   0.0s\n",
            "[CV] END ..........C=10, l1_ratio=1, penalty=l2, solver=saga; total time=   0.0s\n",
            "[CV] END ..........C=10, l1_ratio=1, penalty=l2, solver=saga; total time=   0.0s\n",
            "[CV] END ..........C=10, l1_ratio=1, penalty=l2, solver=saga; total time=   0.0s\n",
            "[CV] END ..........C=10, l1_ratio=1, penalty=l2, solver=saga; total time=   0.0s\n",
            "[CV] END ..........C=10, l1_ratio=1, penalty=l2, solver=saga; total time=   0.0s\n",
            "[CV] END .C=10, l1_ratio=1, penalty=elasticnet, solver=lbfgs; total time=   0.0s\n",
            "[CV] END .C=10, l1_ratio=1, penalty=elasticnet, solver=lbfgs; total time=   0.0s\n",
            "[CV] END .C=10, l1_ratio=1, penalty=elasticnet, solver=lbfgs; total time=   0.0s\n",
            "[CV] END .C=10, l1_ratio=1, penalty=elasticnet, solver=lbfgs; total time=   0.0s\n",
            "[CV] END .C=10, l1_ratio=1, penalty=elasticnet, solver=lbfgs; total time=   0.0s\n",
            "[CV] END C=10, l1_ratio=1, penalty=elasticnet, solver=liblinear; total time=   0.0s\n",
            "[CV] END C=10, l1_ratio=1, penalty=elasticnet, solver=liblinear; total time=   0.0s\n",
            "[CV] END C=10, l1_ratio=1, penalty=elasticnet, solver=liblinear; total time=   0.0s\n",
            "[CV] END C=10, l1_ratio=1, penalty=elasticnet, solver=liblinear; total time=   0.0s\n",
            "[CV] END C=10, l1_ratio=1, penalty=elasticnet, solver=liblinear; total time=   0.0s\n",
            "[CV] END ..C=10, l1_ratio=1, penalty=elasticnet, solver=saga; total time=   0.0s\n",
            "[CV] END ..C=10, l1_ratio=1, penalty=elasticnet, solver=saga; total time=   0.0s\n",
            "[CV] END ..C=10, l1_ratio=1, penalty=elasticnet, solver=saga; total time=   0.0s\n",
            "[CV] END ..C=10, l1_ratio=1, penalty=elasticnet, solver=saga; total time=   0.0s\n",
            "[CV] END ..C=10, l1_ratio=1, penalty=elasticnet, solver=saga; total time=   0.0s\n",
            "[CV] END .......C=10, l1_ratio=1, penalty=none, solver=lbfgs; total time=   0.0s\n"
          ]
        },
        {
          "output_type": "stream",
          "name": "stderr",
          "text": [
            "/usr/local/lib/python3.10/dist-packages/sklearn/linear_model/_logistic.py:1172: UserWarning: l1_ratio parameter is only used when penalty is 'elasticnet'. Got (penalty=l2)\n",
            "  warnings.warn(\n",
            "/usr/local/lib/python3.10/dist-packages/sklearn/linear_model/_logistic.py:1172: UserWarning: l1_ratio parameter is only used when penalty is 'elasticnet'. Got (penalty=l2)\n",
            "  warnings.warn(\n",
            "/usr/local/lib/python3.10/dist-packages/sklearn/linear_model/_logistic.py:1172: UserWarning: l1_ratio parameter is only used when penalty is 'elasticnet'. Got (penalty=l2)\n",
            "  warnings.warn(\n",
            "/usr/local/lib/python3.10/dist-packages/sklearn/linear_model/_logistic.py:1172: UserWarning: l1_ratio parameter is only used when penalty is 'elasticnet'. Got (penalty=l2)\n",
            "  warnings.warn(\n",
            "/usr/local/lib/python3.10/dist-packages/sklearn/linear_model/_logistic.py:1172: UserWarning: l1_ratio parameter is only used when penalty is 'elasticnet'. Got (penalty=l2)\n",
            "  warnings.warn(\n",
            "/usr/local/lib/python3.10/dist-packages/sklearn/linear_model/_logistic.py:1172: UserWarning: l1_ratio parameter is only used when penalty is 'elasticnet'. Got (penalty=l2)\n",
            "  warnings.warn(\n",
            "/usr/local/lib/python3.10/dist-packages/sklearn/linear_model/_logistic.py:1172: UserWarning: l1_ratio parameter is only used when penalty is 'elasticnet'. Got (penalty=l2)\n",
            "  warnings.warn(\n",
            "/usr/local/lib/python3.10/dist-packages/sklearn/linear_model/_logistic.py:1172: UserWarning: l1_ratio parameter is only used when penalty is 'elasticnet'. Got (penalty=l2)\n",
            "  warnings.warn(\n",
            "/usr/local/lib/python3.10/dist-packages/sklearn/linear_model/_logistic.py:1172: UserWarning: l1_ratio parameter is only used when penalty is 'elasticnet'. Got (penalty=l2)\n",
            "  warnings.warn(\n",
            "/usr/local/lib/python3.10/dist-packages/sklearn/linear_model/_logistic.py:1172: UserWarning: l1_ratio parameter is only used when penalty is 'elasticnet'. Got (penalty=l2)\n",
            "  warnings.warn(\n",
            "/usr/local/lib/python3.10/dist-packages/sklearn/linear_model/_logistic.py:1172: UserWarning: l1_ratio parameter is only used when penalty is 'elasticnet'. Got (penalty=l2)\n",
            "  warnings.warn(\n",
            "/usr/local/lib/python3.10/dist-packages/sklearn/linear_model/_logistic.py:1172: UserWarning: l1_ratio parameter is only used when penalty is 'elasticnet'. Got (penalty=l2)\n",
            "  warnings.warn(\n",
            "/usr/local/lib/python3.10/dist-packages/sklearn/linear_model/_logistic.py:1172: UserWarning: l1_ratio parameter is only used when penalty is 'elasticnet'. Got (penalty=none)\n",
            "  warnings.warn(\n",
            "/usr/local/lib/python3.10/dist-packages/sklearn/linear_model/_logistic.py:1183: FutureWarning: `penalty='none'`has been deprecated in 1.2 and will be removed in 1.4. To keep the past behaviour, set `penalty=None`.\n",
            "  warnings.warn(\n",
            "/usr/local/lib/python3.10/dist-packages/sklearn/linear_model/_logistic.py:1193: UserWarning: Setting penalty=None will ignore the C and l1_ratio parameters\n",
            "  warnings.warn(\n",
            "/usr/local/lib/python3.10/dist-packages/sklearn/linear_model/_logistic.py:1172: UserWarning: l1_ratio parameter is only used when penalty is 'elasticnet'. Got (penalty=none)\n",
            "  warnings.warn(\n",
            "/usr/local/lib/python3.10/dist-packages/sklearn/linear_model/_logistic.py:1183: FutureWarning: `penalty='none'`has been deprecated in 1.2 and will be removed in 1.4. To keep the past behaviour, set `penalty=None`.\n",
            "  warnings.warn(\n",
            "/usr/local/lib/python3.10/dist-packages/sklearn/linear_model/_logistic.py:1193: UserWarning: Setting penalty=None will ignore the C and l1_ratio parameters\n",
            "  warnings.warn(\n"
          ]
        },
        {
          "output_type": "stream",
          "name": "stdout",
          "text": [
            "[CV] END .......C=10, l1_ratio=1, penalty=none, solver=lbfgs; total time=   0.0s\n",
            "[CV] END .......C=10, l1_ratio=1, penalty=none, solver=lbfgs; total time=   0.0s\n",
            "[CV] END .......C=10, l1_ratio=1, penalty=none, solver=lbfgs; total time=   0.0s\n",
            "[CV] END .......C=10, l1_ratio=1, penalty=none, solver=lbfgs; total time=   0.0s\n",
            "[CV] END ...C=10, l1_ratio=1, penalty=none, solver=liblinear; total time=   0.0s\n",
            "[CV] END ...C=10, l1_ratio=1, penalty=none, solver=liblinear; total time=   0.0s\n",
            "[CV] END ...C=10, l1_ratio=1, penalty=none, solver=liblinear; total time=   0.0s\n",
            "[CV] END ...C=10, l1_ratio=1, penalty=none, solver=liblinear; total time=   0.0s\n",
            "[CV] END ...C=10, l1_ratio=1, penalty=none, solver=liblinear; total time=   0.0s\n",
            "[CV] END ........C=10, l1_ratio=1, penalty=none, solver=saga; total time=   0.1s\n",
            "[CV] END ........C=10, l1_ratio=1, penalty=none, solver=saga; total time=   0.1s\n",
            "[CV] END ........C=10, l1_ratio=1, penalty=none, solver=saga; total time=   0.0s\n"
          ]
        },
        {
          "output_type": "stream",
          "name": "stderr",
          "text": [
            "/usr/local/lib/python3.10/dist-packages/sklearn/linear_model/_logistic.py:1172: UserWarning: l1_ratio parameter is only used when penalty is 'elasticnet'. Got (penalty=none)\n",
            "  warnings.warn(\n",
            "/usr/local/lib/python3.10/dist-packages/sklearn/linear_model/_logistic.py:1183: FutureWarning: `penalty='none'`has been deprecated in 1.2 and will be removed in 1.4. To keep the past behaviour, set `penalty=None`.\n",
            "  warnings.warn(\n",
            "/usr/local/lib/python3.10/dist-packages/sklearn/linear_model/_logistic.py:1193: UserWarning: Setting penalty=None will ignore the C and l1_ratio parameters\n",
            "  warnings.warn(\n",
            "/usr/local/lib/python3.10/dist-packages/sklearn/linear_model/_logistic.py:1172: UserWarning: l1_ratio parameter is only used when penalty is 'elasticnet'. Got (penalty=none)\n",
            "  warnings.warn(\n",
            "/usr/local/lib/python3.10/dist-packages/sklearn/linear_model/_logistic.py:1183: FutureWarning: `penalty='none'`has been deprecated in 1.2 and will be removed in 1.4. To keep the past behaviour, set `penalty=None`.\n",
            "  warnings.warn(\n",
            "/usr/local/lib/python3.10/dist-packages/sklearn/linear_model/_logistic.py:1193: UserWarning: Setting penalty=None will ignore the C and l1_ratio parameters\n",
            "  warnings.warn(\n",
            "/usr/local/lib/python3.10/dist-packages/sklearn/linear_model/_logistic.py:1172: UserWarning: l1_ratio parameter is only used when penalty is 'elasticnet'. Got (penalty=none)\n",
            "  warnings.warn(\n",
            "/usr/local/lib/python3.10/dist-packages/sklearn/linear_model/_logistic.py:1183: FutureWarning: `penalty='none'`has been deprecated in 1.2 and will be removed in 1.4. To keep the past behaviour, set `penalty=None`.\n",
            "  warnings.warn(\n",
            "/usr/local/lib/python3.10/dist-packages/sklearn/linear_model/_logistic.py:1193: UserWarning: Setting penalty=None will ignore the C and l1_ratio parameters\n",
            "  warnings.warn(\n",
            "/usr/local/lib/python3.10/dist-packages/sklearn/linear_model/_logistic.py:1172: UserWarning: l1_ratio parameter is only used when penalty is 'elasticnet'. Got (penalty=none)\n",
            "  warnings.warn(\n",
            "/usr/local/lib/python3.10/dist-packages/sklearn/linear_model/_logistic.py:1183: FutureWarning: `penalty='none'`has been deprecated in 1.2 and will be removed in 1.4. To keep the past behaviour, set `penalty=None`.\n",
            "  warnings.warn(\n",
            "/usr/local/lib/python3.10/dist-packages/sklearn/linear_model/_logistic.py:1193: UserWarning: Setting penalty=None will ignore the C and l1_ratio parameters\n",
            "  warnings.warn(\n",
            "/usr/local/lib/python3.10/dist-packages/sklearn/linear_model/_logistic.py:1172: UserWarning: l1_ratio parameter is only used when penalty is 'elasticnet'. Got (penalty=none)\n",
            "  warnings.warn(\n",
            "/usr/local/lib/python3.10/dist-packages/sklearn/linear_model/_logistic.py:1183: FutureWarning: `penalty='none'`has been deprecated in 1.2 and will be removed in 1.4. To keep the past behaviour, set `penalty=None`.\n",
            "  warnings.warn(\n",
            "/usr/local/lib/python3.10/dist-packages/sklearn/linear_model/_logistic.py:1193: UserWarning: Setting penalty=None will ignore the C and l1_ratio parameters\n",
            "  warnings.warn(\n",
            "/usr/local/lib/python3.10/dist-packages/sklearn/linear_model/_logistic.py:1172: UserWarning: l1_ratio parameter is only used when penalty is 'elasticnet'. Got (penalty=none)\n",
            "  warnings.warn(\n",
            "/usr/local/lib/python3.10/dist-packages/sklearn/linear_model/_logistic.py:1183: FutureWarning: `penalty='none'`has been deprecated in 1.2 and will be removed in 1.4. To keep the past behaviour, set `penalty=None`.\n",
            "  warnings.warn(\n",
            "/usr/local/lib/python3.10/dist-packages/sklearn/linear_model/_logistic.py:1193: UserWarning: Setting penalty=None will ignore the C and l1_ratio parameters\n",
            "  warnings.warn(\n",
            "/usr/local/lib/python3.10/dist-packages/sklearn/linear_model/_logistic.py:1172: UserWarning: l1_ratio parameter is only used when penalty is 'elasticnet'. Got (penalty=none)\n",
            "  warnings.warn(\n",
            "/usr/local/lib/python3.10/dist-packages/sklearn/linear_model/_logistic.py:1183: FutureWarning: `penalty='none'`has been deprecated in 1.2 and will be removed in 1.4. To keep the past behaviour, set `penalty=None`.\n",
            "  warnings.warn(\n",
            "/usr/local/lib/python3.10/dist-packages/sklearn/linear_model/_logistic.py:1193: UserWarning: Setting penalty=None will ignore the C and l1_ratio parameters\n",
            "  warnings.warn(\n"
          ]
        },
        {
          "output_type": "stream",
          "name": "stdout",
          "text": [
            "[CV] END ........C=10, l1_ratio=1, penalty=none, solver=saga; total time=   0.1s\n",
            "[CV] END ........C=10, l1_ratio=1, penalty=none, solver=saga; total time=   0.0s\n",
            "[CV] END ........C=100, l1_ratio=0, penalty=l1, solver=lbfgs; total time=   0.0s\n",
            "[CV] END ........C=100, l1_ratio=0, penalty=l1, solver=lbfgs; total time=   0.0s\n",
            "[CV] END ........C=100, l1_ratio=0, penalty=l1, solver=lbfgs; total time=   0.0s\n",
            "[CV] END ........C=100, l1_ratio=0, penalty=l1, solver=lbfgs; total time=   0.0s\n",
            "[CV] END ........C=100, l1_ratio=0, penalty=l1, solver=lbfgs; total time=   0.0s\n",
            "[CV] END ....C=100, l1_ratio=0, penalty=l1, solver=liblinear; total time=   0.0s\n",
            "[CV] END ....C=100, l1_ratio=0, penalty=l1, solver=liblinear; total time=   0.0s\n",
            "[CV] END ....C=100, l1_ratio=0, penalty=l1, solver=liblinear; total time=   0.0s\n",
            "[CV] END ....C=100, l1_ratio=0, penalty=l1, solver=liblinear; total time=   0.0s\n",
            "[CV] END ....C=100, l1_ratio=0, penalty=l1, solver=liblinear; total time=   0.0s\n"
          ]
        },
        {
          "output_type": "stream",
          "name": "stderr",
          "text": [
            "/usr/local/lib/python3.10/dist-packages/sklearn/linear_model/_logistic.py:1172: UserWarning: l1_ratio parameter is only used when penalty is 'elasticnet'. Got (penalty=none)\n",
            "  warnings.warn(\n",
            "/usr/local/lib/python3.10/dist-packages/sklearn/linear_model/_logistic.py:1183: FutureWarning: `penalty='none'`has been deprecated in 1.2 and will be removed in 1.4. To keep the past behaviour, set `penalty=None`.\n",
            "  warnings.warn(\n",
            "/usr/local/lib/python3.10/dist-packages/sklearn/linear_model/_logistic.py:1193: UserWarning: Setting penalty=None will ignore the C and l1_ratio parameters\n",
            "  warnings.warn(\n",
            "/usr/local/lib/python3.10/dist-packages/sklearn/linear_model/_logistic.py:1172: UserWarning: l1_ratio parameter is only used when penalty is 'elasticnet'. Got (penalty=l1)\n",
            "  warnings.warn(\n",
            "/usr/local/lib/python3.10/dist-packages/sklearn/linear_model/_logistic.py:1172: UserWarning: l1_ratio parameter is only used when penalty is 'elasticnet'. Got (penalty=l1)\n",
            "  warnings.warn(\n",
            "/usr/local/lib/python3.10/dist-packages/sklearn/linear_model/_logistic.py:1172: UserWarning: l1_ratio parameter is only used when penalty is 'elasticnet'. Got (penalty=l1)\n",
            "  warnings.warn(\n",
            "/usr/local/lib/python3.10/dist-packages/sklearn/linear_model/_logistic.py:1172: UserWarning: l1_ratio parameter is only used when penalty is 'elasticnet'. Got (penalty=l1)\n",
            "  warnings.warn(\n",
            "/usr/local/lib/python3.10/dist-packages/sklearn/linear_model/_logistic.py:1172: UserWarning: l1_ratio parameter is only used when penalty is 'elasticnet'. Got (penalty=l1)\n",
            "  warnings.warn(\n",
            "/usr/local/lib/python3.10/dist-packages/sklearn/linear_model/_logistic.py:1172: UserWarning: l1_ratio parameter is only used when penalty is 'elasticnet'. Got (penalty=l1)\n",
            "  warnings.warn(\n"
          ]
        },
        {
          "output_type": "stream",
          "name": "stdout",
          "text": [
            "[CV] END .........C=100, l1_ratio=0, penalty=l1, solver=saga; total time=   0.1s\n",
            "[CV] END .........C=100, l1_ratio=0, penalty=l1, solver=saga; total time=   0.1s\n",
            "[CV] END .........C=100, l1_ratio=0, penalty=l1, solver=saga; total time=   0.1s\n",
            "[CV] END .........C=100, l1_ratio=0, penalty=l1, solver=saga; total time=   0.1s\n"
          ]
        },
        {
          "output_type": "stream",
          "name": "stderr",
          "text": [
            "/usr/local/lib/python3.10/dist-packages/sklearn/linear_model/_logistic.py:1172: UserWarning: l1_ratio parameter is only used when penalty is 'elasticnet'. Got (penalty=l1)\n",
            "  warnings.warn(\n",
            "/usr/local/lib/python3.10/dist-packages/sklearn/linear_model/_logistic.py:1172: UserWarning: l1_ratio parameter is only used when penalty is 'elasticnet'. Got (penalty=l1)\n",
            "  warnings.warn(\n",
            "/usr/local/lib/python3.10/dist-packages/sklearn/linear_model/_logistic.py:1172: UserWarning: l1_ratio parameter is only used when penalty is 'elasticnet'. Got (penalty=l1)\n",
            "  warnings.warn(\n",
            "/usr/local/lib/python3.10/dist-packages/sklearn/linear_model/_logistic.py:1172: UserWarning: l1_ratio parameter is only used when penalty is 'elasticnet'. Got (penalty=l1)\n",
            "  warnings.warn(\n"
          ]
        },
        {
          "output_type": "stream",
          "name": "stdout",
          "text": [
            "[CV] END .........C=100, l1_ratio=0, penalty=l1, solver=saga; total time=   0.1s\n",
            "[CV] END ........C=100, l1_ratio=0, penalty=l2, solver=lbfgs; total time=   0.0s\n",
            "[CV] END ........C=100, l1_ratio=0, penalty=l2, solver=lbfgs; total time=   0.0s\n",
            "[CV] END ........C=100, l1_ratio=0, penalty=l2, solver=lbfgs; total time=   0.0s\n",
            "[CV] END ........C=100, l1_ratio=0, penalty=l2, solver=lbfgs; total time=   0.0s\n",
            "[CV] END ........C=100, l1_ratio=0, penalty=l2, solver=lbfgs; total time=   0.0s\n",
            "[CV] END ....C=100, l1_ratio=0, penalty=l2, solver=liblinear; total time=   0.0s\n",
            "[CV] END ....C=100, l1_ratio=0, penalty=l2, solver=liblinear; total time=   0.0s\n",
            "[CV] END ....C=100, l1_ratio=0, penalty=l2, solver=liblinear; total time=   0.0s\n",
            "[CV] END ....C=100, l1_ratio=0, penalty=l2, solver=liblinear; total time=   0.0s\n",
            "[CV] END ....C=100, l1_ratio=0, penalty=l2, solver=liblinear; total time=   0.0s\n",
            "[CV] END .........C=100, l1_ratio=0, penalty=l2, solver=saga; total time=   0.0s\n",
            "[CV] END .........C=100, l1_ratio=0, penalty=l2, solver=saga; total time=   0.0s\n",
            "[CV] END .........C=100, l1_ratio=0, penalty=l2, solver=saga; total time=   0.0s\n",
            "[CV] END .........C=100, l1_ratio=0, penalty=l2, solver=saga; total time=   0.0s\n",
            "[CV] END .........C=100, l1_ratio=0, penalty=l2, solver=saga; total time=   0.0s\n",
            "[CV] END C=100, l1_ratio=0, penalty=elasticnet, solver=lbfgs; total time=   0.0s\n",
            "[CV] END C=100, l1_ratio=0, penalty=elasticnet, solver=lbfgs; total time=   0.0s\n",
            "[CV] END C=100, l1_ratio=0, penalty=elasticnet, solver=lbfgs; total time=   0.0s\n",
            "[CV] END C=100, l1_ratio=0, penalty=elasticnet, solver=lbfgs; total time=   0.0s\n",
            "[CV] END C=100, l1_ratio=0, penalty=elasticnet, solver=lbfgs; total time=   0.0s\n",
            "[CV] END C=100, l1_ratio=0, penalty=elasticnet, solver=liblinear; total time=   0.0s\n",
            "[CV] END C=100, l1_ratio=0, penalty=elasticnet, solver=liblinear; total time=   0.0s\n",
            "[CV] END C=100, l1_ratio=0, penalty=elasticnet, solver=liblinear; total time=   0.0s\n",
            "[CV] END C=100, l1_ratio=0, penalty=elasticnet, solver=liblinear; total time=   0.0s\n",
            "[CV] END C=100, l1_ratio=0, penalty=elasticnet, solver=liblinear; total time=   0.0s\n",
            "[CV] END .C=100, l1_ratio=0, penalty=elasticnet, solver=saga; total time=   0.0s\n",
            "[CV] END .C=100, l1_ratio=0, penalty=elasticnet, solver=saga; total time=   0.0s\n"
          ]
        },
        {
          "output_type": "stream",
          "name": "stderr",
          "text": [
            "/usr/local/lib/python3.10/dist-packages/sklearn/linear_model/_logistic.py:1172: UserWarning: l1_ratio parameter is only used when penalty is 'elasticnet'. Got (penalty=l2)\n",
            "  warnings.warn(\n",
            "/usr/local/lib/python3.10/dist-packages/sklearn/linear_model/_logistic.py:1172: UserWarning: l1_ratio parameter is only used when penalty is 'elasticnet'. Got (penalty=l2)\n",
            "  warnings.warn(\n",
            "/usr/local/lib/python3.10/dist-packages/sklearn/linear_model/_logistic.py:1172: UserWarning: l1_ratio parameter is only used when penalty is 'elasticnet'. Got (penalty=l2)\n",
            "  warnings.warn(\n",
            "/usr/local/lib/python3.10/dist-packages/sklearn/linear_model/_logistic.py:1172: UserWarning: l1_ratio parameter is only used when penalty is 'elasticnet'. Got (penalty=l2)\n",
            "  warnings.warn(\n",
            "/usr/local/lib/python3.10/dist-packages/sklearn/linear_model/_logistic.py:1172: UserWarning: l1_ratio parameter is only used when penalty is 'elasticnet'. Got (penalty=l2)\n",
            "  warnings.warn(\n",
            "/usr/local/lib/python3.10/dist-packages/sklearn/linear_model/_logistic.py:1172: UserWarning: l1_ratio parameter is only used when penalty is 'elasticnet'. Got (penalty=l2)\n",
            "  warnings.warn(\n",
            "/usr/local/lib/python3.10/dist-packages/sklearn/linear_model/_logistic.py:1172: UserWarning: l1_ratio parameter is only used when penalty is 'elasticnet'. Got (penalty=l2)\n",
            "  warnings.warn(\n",
            "/usr/local/lib/python3.10/dist-packages/sklearn/linear_model/_logistic.py:1172: UserWarning: l1_ratio parameter is only used when penalty is 'elasticnet'. Got (penalty=l2)\n",
            "  warnings.warn(\n",
            "/usr/local/lib/python3.10/dist-packages/sklearn/linear_model/_logistic.py:1172: UserWarning: l1_ratio parameter is only used when penalty is 'elasticnet'. Got (penalty=l2)\n",
            "  warnings.warn(\n",
            "/usr/local/lib/python3.10/dist-packages/sklearn/linear_model/_logistic.py:1172: UserWarning: l1_ratio parameter is only used when penalty is 'elasticnet'. Got (penalty=l2)\n",
            "  warnings.warn(\n",
            "/usr/local/lib/python3.10/dist-packages/sklearn/linear_model/_logistic.py:1172: UserWarning: l1_ratio parameter is only used when penalty is 'elasticnet'. Got (penalty=l2)\n",
            "  warnings.warn(\n",
            "/usr/local/lib/python3.10/dist-packages/sklearn/linear_model/_logistic.py:1172: UserWarning: l1_ratio parameter is only used when penalty is 'elasticnet'. Got (penalty=l2)\n",
            "  warnings.warn(\n",
            "/usr/local/lib/python3.10/dist-packages/sklearn/linear_model/_logistic.py:1172: UserWarning: l1_ratio parameter is only used when penalty is 'elasticnet'. Got (penalty=l2)\n",
            "  warnings.warn(\n",
            "/usr/local/lib/python3.10/dist-packages/sklearn/linear_model/_logistic.py:1172: UserWarning: l1_ratio parameter is only used when penalty is 'elasticnet'. Got (penalty=l2)\n",
            "  warnings.warn(\n",
            "/usr/local/lib/python3.10/dist-packages/sklearn/linear_model/_logistic.py:1172: UserWarning: l1_ratio parameter is only used when penalty is 'elasticnet'. Got (penalty=l2)\n",
            "  warnings.warn(\n"
          ]
        },
        {
          "output_type": "stream",
          "name": "stdout",
          "text": [
            "[CV] END .C=100, l1_ratio=0, penalty=elasticnet, solver=saga; total time=   0.0s\n",
            "[CV] END .C=100, l1_ratio=0, penalty=elasticnet, solver=saga; total time=   0.0s\n",
            "[CV] END .C=100, l1_ratio=0, penalty=elasticnet, solver=saga; total time=   0.0s\n",
            "[CV] END ......C=100, l1_ratio=0, penalty=none, solver=lbfgs; total time=   0.0s\n",
            "[CV] END ......C=100, l1_ratio=0, penalty=none, solver=lbfgs; total time=   0.0s\n",
            "[CV] END ......C=100, l1_ratio=0, penalty=none, solver=lbfgs; total time=   0.0s\n",
            "[CV] END ......C=100, l1_ratio=0, penalty=none, solver=lbfgs; total time=   0.0s\n",
            "[CV] END ......C=100, l1_ratio=0, penalty=none, solver=lbfgs; total time=   0.0s\n",
            "[CV] END ..C=100, l1_ratio=0, penalty=none, solver=liblinear; total time=   0.0s\n",
            "[CV] END ..C=100, l1_ratio=0, penalty=none, solver=liblinear; total time=   0.0s\n",
            "[CV] END ..C=100, l1_ratio=0, penalty=none, solver=liblinear; total time=   0.0s\n",
            "[CV] END ..C=100, l1_ratio=0, penalty=none, solver=liblinear; total time=   0.0s\n",
            "[CV] END ..C=100, l1_ratio=0, penalty=none, solver=liblinear; total time=   0.0s\n",
            "[CV] END .......C=100, l1_ratio=0, penalty=none, solver=saga; total time=   0.0s\n",
            "[CV] END .......C=100, l1_ratio=0, penalty=none, solver=saga; total time=   0.1s\n"
          ]
        },
        {
          "output_type": "stream",
          "name": "stderr",
          "text": [
            "/usr/local/lib/python3.10/dist-packages/sklearn/linear_model/_logistic.py:1172: UserWarning: l1_ratio parameter is only used when penalty is 'elasticnet'. Got (penalty=none)\n",
            "  warnings.warn(\n",
            "/usr/local/lib/python3.10/dist-packages/sklearn/linear_model/_logistic.py:1183: FutureWarning: `penalty='none'`has been deprecated in 1.2 and will be removed in 1.4. To keep the past behaviour, set `penalty=None`.\n",
            "  warnings.warn(\n",
            "/usr/local/lib/python3.10/dist-packages/sklearn/linear_model/_logistic.py:1193: UserWarning: Setting penalty=None will ignore the C and l1_ratio parameters\n",
            "  warnings.warn(\n",
            "/usr/local/lib/python3.10/dist-packages/sklearn/linear_model/_logistic.py:1172: UserWarning: l1_ratio parameter is only used when penalty is 'elasticnet'. Got (penalty=none)\n",
            "  warnings.warn(\n",
            "/usr/local/lib/python3.10/dist-packages/sklearn/linear_model/_logistic.py:1183: FutureWarning: `penalty='none'`has been deprecated in 1.2 and will be removed in 1.4. To keep the past behaviour, set `penalty=None`.\n",
            "  warnings.warn(\n",
            "/usr/local/lib/python3.10/dist-packages/sklearn/linear_model/_logistic.py:1193: UserWarning: Setting penalty=None will ignore the C and l1_ratio parameters\n",
            "  warnings.warn(\n",
            "/usr/local/lib/python3.10/dist-packages/sklearn/linear_model/_logistic.py:1172: UserWarning: l1_ratio parameter is only used when penalty is 'elasticnet'. Got (penalty=none)\n",
            "  warnings.warn(\n",
            "/usr/local/lib/python3.10/dist-packages/sklearn/linear_model/_logistic.py:1183: FutureWarning: `penalty='none'`has been deprecated in 1.2 and will be removed in 1.4. To keep the past behaviour, set `penalty=None`.\n",
            "  warnings.warn(\n",
            "/usr/local/lib/python3.10/dist-packages/sklearn/linear_model/_logistic.py:1193: UserWarning: Setting penalty=None will ignore the C and l1_ratio parameters\n",
            "  warnings.warn(\n",
            "/usr/local/lib/python3.10/dist-packages/sklearn/linear_model/_logistic.py:1172: UserWarning: l1_ratio parameter is only used when penalty is 'elasticnet'. Got (penalty=none)\n",
            "  warnings.warn(\n",
            "/usr/local/lib/python3.10/dist-packages/sklearn/linear_model/_logistic.py:1183: FutureWarning: `penalty='none'`has been deprecated in 1.2 and will be removed in 1.4. To keep the past behaviour, set `penalty=None`.\n",
            "  warnings.warn(\n",
            "/usr/local/lib/python3.10/dist-packages/sklearn/linear_model/_logistic.py:1193: UserWarning: Setting penalty=None will ignore the C and l1_ratio parameters\n",
            "  warnings.warn(\n",
            "/usr/local/lib/python3.10/dist-packages/sklearn/linear_model/_logistic.py:1172: UserWarning: l1_ratio parameter is only used when penalty is 'elasticnet'. Got (penalty=none)\n",
            "  warnings.warn(\n",
            "/usr/local/lib/python3.10/dist-packages/sklearn/linear_model/_logistic.py:1183: FutureWarning: `penalty='none'`has been deprecated in 1.2 and will be removed in 1.4. To keep the past behaviour, set `penalty=None`.\n",
            "  warnings.warn(\n",
            "/usr/local/lib/python3.10/dist-packages/sklearn/linear_model/_logistic.py:1193: UserWarning: Setting penalty=None will ignore the C and l1_ratio parameters\n",
            "  warnings.warn(\n",
            "/usr/local/lib/python3.10/dist-packages/sklearn/linear_model/_logistic.py:1172: UserWarning: l1_ratio parameter is only used when penalty is 'elasticnet'. Got (penalty=none)\n",
            "  warnings.warn(\n",
            "/usr/local/lib/python3.10/dist-packages/sklearn/linear_model/_logistic.py:1183: FutureWarning: `penalty='none'`has been deprecated in 1.2 and will be removed in 1.4. To keep the past behaviour, set `penalty=None`.\n",
            "  warnings.warn(\n",
            "/usr/local/lib/python3.10/dist-packages/sklearn/linear_model/_logistic.py:1193: UserWarning: Setting penalty=None will ignore the C and l1_ratio parameters\n",
            "  warnings.warn(\n",
            "/usr/local/lib/python3.10/dist-packages/sklearn/linear_model/_logistic.py:1172: UserWarning: l1_ratio parameter is only used when penalty is 'elasticnet'. Got (penalty=none)\n",
            "  warnings.warn(\n",
            "/usr/local/lib/python3.10/dist-packages/sklearn/linear_model/_logistic.py:1183: FutureWarning: `penalty='none'`has been deprecated in 1.2 and will be removed in 1.4. To keep the past behaviour, set `penalty=None`.\n",
            "  warnings.warn(\n",
            "/usr/local/lib/python3.10/dist-packages/sklearn/linear_model/_logistic.py:1193: UserWarning: Setting penalty=None will ignore the C and l1_ratio parameters\n",
            "  warnings.warn(\n",
            "/usr/local/lib/python3.10/dist-packages/sklearn/linear_model/_logistic.py:1172: UserWarning: l1_ratio parameter is only used when penalty is 'elasticnet'. Got (penalty=none)\n",
            "  warnings.warn(\n",
            "/usr/local/lib/python3.10/dist-packages/sklearn/linear_model/_logistic.py:1183: FutureWarning: `penalty='none'`has been deprecated in 1.2 and will be removed in 1.4. To keep the past behaviour, set `penalty=None`.\n",
            "  warnings.warn(\n",
            "/usr/local/lib/python3.10/dist-packages/sklearn/linear_model/_logistic.py:1193: UserWarning: Setting penalty=None will ignore the C and l1_ratio parameters\n",
            "  warnings.warn(\n"
          ]
        },
        {
          "output_type": "stream",
          "name": "stdout",
          "text": [
            "[CV] END .......C=100, l1_ratio=0, penalty=none, solver=saga; total time=   0.1s\n",
            "[CV] END .......C=100, l1_ratio=0, penalty=none, solver=saga; total time=   0.0s\n",
            "[CV] END .......C=100, l1_ratio=0, penalty=none, solver=saga; total time=   0.0s\n",
            "[CV] END ......C=100, l1_ratio=0.5, penalty=l1, solver=lbfgs; total time=   0.0s\n",
            "[CV] END ......C=100, l1_ratio=0.5, penalty=l1, solver=lbfgs; total time=   0.0s\n",
            "[CV] END ......C=100, l1_ratio=0.5, penalty=l1, solver=lbfgs; total time=   0.0s\n",
            "[CV] END ......C=100, l1_ratio=0.5, penalty=l1, solver=lbfgs; total time=   0.0s\n",
            "[CV] END ......C=100, l1_ratio=0.5, penalty=l1, solver=lbfgs; total time=   0.0s\n",
            "[CV] END ..C=100, l1_ratio=0.5, penalty=l1, solver=liblinear; total time=   0.0s\n",
            "[CV] END ..C=100, l1_ratio=0.5, penalty=l1, solver=liblinear; total time=   0.0s\n",
            "[CV] END ..C=100, l1_ratio=0.5, penalty=l1, solver=liblinear; total time=   0.0s\n",
            "[CV] END ..C=100, l1_ratio=0.5, penalty=l1, solver=liblinear; total time=   0.0s\n"
          ]
        },
        {
          "output_type": "stream",
          "name": "stderr",
          "text": [
            "/usr/local/lib/python3.10/dist-packages/sklearn/linear_model/_logistic.py:1172: UserWarning: l1_ratio parameter is only used when penalty is 'elasticnet'. Got (penalty=none)\n",
            "  warnings.warn(\n",
            "/usr/local/lib/python3.10/dist-packages/sklearn/linear_model/_logistic.py:1183: FutureWarning: `penalty='none'`has been deprecated in 1.2 and will be removed in 1.4. To keep the past behaviour, set `penalty=None`.\n",
            "  warnings.warn(\n",
            "/usr/local/lib/python3.10/dist-packages/sklearn/linear_model/_logistic.py:1193: UserWarning: Setting penalty=None will ignore the C and l1_ratio parameters\n",
            "  warnings.warn(\n",
            "/usr/local/lib/python3.10/dist-packages/sklearn/linear_model/_logistic.py:1172: UserWarning: l1_ratio parameter is only used when penalty is 'elasticnet'. Got (penalty=none)\n",
            "  warnings.warn(\n",
            "/usr/local/lib/python3.10/dist-packages/sklearn/linear_model/_logistic.py:1183: FutureWarning: `penalty='none'`has been deprecated in 1.2 and will be removed in 1.4. To keep the past behaviour, set `penalty=None`.\n",
            "  warnings.warn(\n",
            "/usr/local/lib/python3.10/dist-packages/sklearn/linear_model/_logistic.py:1193: UserWarning: Setting penalty=None will ignore the C and l1_ratio parameters\n",
            "  warnings.warn(\n",
            "/usr/local/lib/python3.10/dist-packages/sklearn/linear_model/_logistic.py:1172: UserWarning: l1_ratio parameter is only used when penalty is 'elasticnet'. Got (penalty=l1)\n",
            "  warnings.warn(\n",
            "/usr/local/lib/python3.10/dist-packages/sklearn/linear_model/_logistic.py:1172: UserWarning: l1_ratio parameter is only used when penalty is 'elasticnet'. Got (penalty=l1)\n",
            "  warnings.warn(\n",
            "/usr/local/lib/python3.10/dist-packages/sklearn/linear_model/_logistic.py:1172: UserWarning: l1_ratio parameter is only used when penalty is 'elasticnet'. Got (penalty=l1)\n",
            "  warnings.warn(\n",
            "/usr/local/lib/python3.10/dist-packages/sklearn/linear_model/_logistic.py:1172: UserWarning: l1_ratio parameter is only used when penalty is 'elasticnet'. Got (penalty=l1)\n",
            "  warnings.warn(\n",
            "/usr/local/lib/python3.10/dist-packages/sklearn/linear_model/_logistic.py:1172: UserWarning: l1_ratio parameter is only used when penalty is 'elasticnet'. Got (penalty=l1)\n",
            "  warnings.warn(\n"
          ]
        },
        {
          "output_type": "stream",
          "name": "stdout",
          "text": [
            "[CV] END ..C=100, l1_ratio=0.5, penalty=l1, solver=liblinear; total time=   0.0s\n",
            "[CV] END .......C=100, l1_ratio=0.5, penalty=l1, solver=saga; total time=   0.1s\n",
            "[CV] END .......C=100, l1_ratio=0.5, penalty=l1, solver=saga; total time=   0.1s\n",
            "[CV] END .......C=100, l1_ratio=0.5, penalty=l1, solver=saga; total time=   0.1s\n"
          ]
        },
        {
          "output_type": "stream",
          "name": "stderr",
          "text": [
            "/usr/local/lib/python3.10/dist-packages/sklearn/linear_model/_logistic.py:1172: UserWarning: l1_ratio parameter is only used when penalty is 'elasticnet'. Got (penalty=l1)\n",
            "  warnings.warn(\n",
            "/usr/local/lib/python3.10/dist-packages/sklearn/linear_model/_logistic.py:1172: UserWarning: l1_ratio parameter is only used when penalty is 'elasticnet'. Got (penalty=l1)\n",
            "  warnings.warn(\n",
            "/usr/local/lib/python3.10/dist-packages/sklearn/linear_model/_logistic.py:1172: UserWarning: l1_ratio parameter is only used when penalty is 'elasticnet'. Got (penalty=l1)\n",
            "  warnings.warn(\n",
            "/usr/local/lib/python3.10/dist-packages/sklearn/linear_model/_logistic.py:1172: UserWarning: l1_ratio parameter is only used when penalty is 'elasticnet'. Got (penalty=l1)\n",
            "  warnings.warn(\n"
          ]
        },
        {
          "output_type": "stream",
          "name": "stdout",
          "text": [
            "[CV] END .......C=100, l1_ratio=0.5, penalty=l1, solver=saga; total time=   0.1s\n",
            "[CV] END .......C=100, l1_ratio=0.5, penalty=l1, solver=saga; total time=   0.1s\n",
            "[CV] END ......C=100, l1_ratio=0.5, penalty=l2, solver=lbfgs; total time=   0.0s\n",
            "[CV] END ......C=100, l1_ratio=0.5, penalty=l2, solver=lbfgs; total time=   0.0s\n",
            "[CV] END ......C=100, l1_ratio=0.5, penalty=l2, solver=lbfgs; total time=   0.0s\n",
            "[CV] END ......C=100, l1_ratio=0.5, penalty=l2, solver=lbfgs; total time=   0.0s\n",
            "[CV] END ......C=100, l1_ratio=0.5, penalty=l2, solver=lbfgs; total time=   0.0s\n",
            "[CV] END ..C=100, l1_ratio=0.5, penalty=l2, solver=liblinear; total time=   0.0s\n",
            "[CV] END ..C=100, l1_ratio=0.5, penalty=l2, solver=liblinear; total time=   0.0s\n",
            "[CV] END ..C=100, l1_ratio=0.5, penalty=l2, solver=liblinear; total time=   0.0s\n",
            "[CV] END ..C=100, l1_ratio=0.5, penalty=l2, solver=liblinear; total time=   0.0s\n",
            "[CV] END ..C=100, l1_ratio=0.5, penalty=l2, solver=liblinear; total time=   0.0s\n",
            "[CV] END .......C=100, l1_ratio=0.5, penalty=l2, solver=saga; total time=   0.0s\n",
            "[CV] END .......C=100, l1_ratio=0.5, penalty=l2, solver=saga; total time=   0.0s\n",
            "[CV] END .......C=100, l1_ratio=0.5, penalty=l2, solver=saga; total time=   0.0s\n"
          ]
        },
        {
          "output_type": "stream",
          "name": "stderr",
          "text": [
            "/usr/local/lib/python3.10/dist-packages/sklearn/linear_model/_logistic.py:1172: UserWarning: l1_ratio parameter is only used when penalty is 'elasticnet'. Got (penalty=l1)\n",
            "  warnings.warn(\n",
            "/usr/local/lib/python3.10/dist-packages/sklearn/linear_model/_logistic.py:1172: UserWarning: l1_ratio parameter is only used when penalty is 'elasticnet'. Got (penalty=l2)\n",
            "  warnings.warn(\n",
            "/usr/local/lib/python3.10/dist-packages/sklearn/linear_model/_logistic.py:1172: UserWarning: l1_ratio parameter is only used when penalty is 'elasticnet'. Got (penalty=l2)\n",
            "  warnings.warn(\n",
            "/usr/local/lib/python3.10/dist-packages/sklearn/linear_model/_logistic.py:1172: UserWarning: l1_ratio parameter is only used when penalty is 'elasticnet'. Got (penalty=l2)\n",
            "  warnings.warn(\n",
            "/usr/local/lib/python3.10/dist-packages/sklearn/linear_model/_logistic.py:1172: UserWarning: l1_ratio parameter is only used when penalty is 'elasticnet'. Got (penalty=l2)\n",
            "  warnings.warn(\n",
            "/usr/local/lib/python3.10/dist-packages/sklearn/linear_model/_logistic.py:1172: UserWarning: l1_ratio parameter is only used when penalty is 'elasticnet'. Got (penalty=l2)\n",
            "  warnings.warn(\n",
            "/usr/local/lib/python3.10/dist-packages/sklearn/linear_model/_logistic.py:1172: UserWarning: l1_ratio parameter is only used when penalty is 'elasticnet'. Got (penalty=l2)\n",
            "  warnings.warn(\n",
            "/usr/local/lib/python3.10/dist-packages/sklearn/linear_model/_logistic.py:1172: UserWarning: l1_ratio parameter is only used when penalty is 'elasticnet'. Got (penalty=l2)\n",
            "  warnings.warn(\n",
            "/usr/local/lib/python3.10/dist-packages/sklearn/linear_model/_logistic.py:1172: UserWarning: l1_ratio parameter is only used when penalty is 'elasticnet'. Got (penalty=l2)\n",
            "  warnings.warn(\n",
            "/usr/local/lib/python3.10/dist-packages/sklearn/linear_model/_logistic.py:1172: UserWarning: l1_ratio parameter is only used when penalty is 'elasticnet'. Got (penalty=l2)\n",
            "  warnings.warn(\n",
            "/usr/local/lib/python3.10/dist-packages/sklearn/linear_model/_logistic.py:1172: UserWarning: l1_ratio parameter is only used when penalty is 'elasticnet'. Got (penalty=l2)\n",
            "  warnings.warn(\n",
            "/usr/local/lib/python3.10/dist-packages/sklearn/linear_model/_logistic.py:1172: UserWarning: l1_ratio parameter is only used when penalty is 'elasticnet'. Got (penalty=l2)\n",
            "  warnings.warn(\n",
            "/usr/local/lib/python3.10/dist-packages/sklearn/linear_model/_logistic.py:1172: UserWarning: l1_ratio parameter is only used when penalty is 'elasticnet'. Got (penalty=l2)\n",
            "  warnings.warn(\n",
            "/usr/local/lib/python3.10/dist-packages/sklearn/linear_model/_logistic.py:1172: UserWarning: l1_ratio parameter is only used when penalty is 'elasticnet'. Got (penalty=l2)\n",
            "  warnings.warn(\n",
            "/usr/local/lib/python3.10/dist-packages/sklearn/linear_model/_logistic.py:1172: UserWarning: l1_ratio parameter is only used when penalty is 'elasticnet'. Got (penalty=l2)\n",
            "  warnings.warn(\n"
          ]
        },
        {
          "output_type": "stream",
          "name": "stdout",
          "text": [
            "[CV] END .......C=100, l1_ratio=0.5, penalty=l2, solver=saga; total time=   0.0s\n",
            "[CV] END .......C=100, l1_ratio=0.5, penalty=l2, solver=saga; total time=   0.0s\n",
            "[CV] END C=100, l1_ratio=0.5, penalty=elasticnet, solver=lbfgs; total time=   0.0s\n",
            "[CV] END C=100, l1_ratio=0.5, penalty=elasticnet, solver=lbfgs; total time=   0.0s\n",
            "[CV] END C=100, l1_ratio=0.5, penalty=elasticnet, solver=lbfgs; total time=   0.0s\n",
            "[CV] END C=100, l1_ratio=0.5, penalty=elasticnet, solver=lbfgs; total time=   0.0s\n",
            "[CV] END C=100, l1_ratio=0.5, penalty=elasticnet, solver=lbfgs; total time=   0.0s\n",
            "[CV] END C=100, l1_ratio=0.5, penalty=elasticnet, solver=liblinear; total time=   0.0s\n",
            "[CV] END C=100, l1_ratio=0.5, penalty=elasticnet, solver=liblinear; total time=   0.0s\n",
            "[CV] END C=100, l1_ratio=0.5, penalty=elasticnet, solver=liblinear; total time=   0.0s\n",
            "[CV] END C=100, l1_ratio=0.5, penalty=elasticnet, solver=liblinear; total time=   0.0s\n",
            "[CV] END C=100, l1_ratio=0.5, penalty=elasticnet, solver=liblinear; total time=   0.0s\n",
            "[CV] END C=100, l1_ratio=0.5, penalty=elasticnet, solver=saga; total time=   0.0s\n",
            "[CV] END C=100, l1_ratio=0.5, penalty=elasticnet, solver=saga; total time=   0.0s\n",
            "[CV] END C=100, l1_ratio=0.5, penalty=elasticnet, solver=saga; total time=   0.0s\n",
            "[CV] END C=100, l1_ratio=0.5, penalty=elasticnet, solver=saga; total time=   0.0s\n",
            "[CV] END C=100, l1_ratio=0.5, penalty=elasticnet, solver=saga; total time=   0.0s\n",
            "[CV] END ....C=100, l1_ratio=0.5, penalty=none, solver=lbfgs; total time=   0.0s\n",
            "[CV] END ....C=100, l1_ratio=0.5, penalty=none, solver=lbfgs; total time=   0.0s\n",
            "[CV] END ....C=100, l1_ratio=0.5, penalty=none, solver=lbfgs; total time=   0.0s\n",
            "[CV] END ....C=100, l1_ratio=0.5, penalty=none, solver=lbfgs; total time=   0.0s\n",
            "[CV] END ....C=100, l1_ratio=0.5, penalty=none, solver=lbfgs; total time=   0.0s\n",
            "[CV] END C=100, l1_ratio=0.5, penalty=none, solver=liblinear; total time=   0.0s\n",
            "[CV] END C=100, l1_ratio=0.5, penalty=none, solver=liblinear; total time=   0.0s\n",
            "[CV] END C=100, l1_ratio=0.5, penalty=none, solver=liblinear; total time=   0.0s\n",
            "[CV] END C=100, l1_ratio=0.5, penalty=none, solver=liblinear; total time=   0.0s\n",
            "[CV] END C=100, l1_ratio=0.5, penalty=none, solver=liblinear; total time=   0.0s\n"
          ]
        },
        {
          "output_type": "stream",
          "name": "stderr",
          "text": [
            "/usr/local/lib/python3.10/dist-packages/sklearn/linear_model/_logistic.py:1172: UserWarning: l1_ratio parameter is only used when penalty is 'elasticnet'. Got (penalty=l2)\n",
            "  warnings.warn(\n",
            "/usr/local/lib/python3.10/dist-packages/sklearn/linear_model/_logistic.py:1172: UserWarning: l1_ratio parameter is only used when penalty is 'elasticnet'. Got (penalty=none)\n",
            "  warnings.warn(\n",
            "/usr/local/lib/python3.10/dist-packages/sklearn/linear_model/_logistic.py:1183: FutureWarning: `penalty='none'`has been deprecated in 1.2 and will be removed in 1.4. To keep the past behaviour, set `penalty=None`.\n",
            "  warnings.warn(\n",
            "/usr/local/lib/python3.10/dist-packages/sklearn/linear_model/_logistic.py:1193: UserWarning: Setting penalty=None will ignore the C and l1_ratio parameters\n",
            "  warnings.warn(\n",
            "/usr/local/lib/python3.10/dist-packages/sklearn/linear_model/_logistic.py:1172: UserWarning: l1_ratio parameter is only used when penalty is 'elasticnet'. Got (penalty=none)\n",
            "  warnings.warn(\n",
            "/usr/local/lib/python3.10/dist-packages/sklearn/linear_model/_logistic.py:1183: FutureWarning: `penalty='none'`has been deprecated in 1.2 and will be removed in 1.4. To keep the past behaviour, set `penalty=None`.\n",
            "  warnings.warn(\n",
            "/usr/local/lib/python3.10/dist-packages/sklearn/linear_model/_logistic.py:1193: UserWarning: Setting penalty=None will ignore the C and l1_ratio parameters\n",
            "  warnings.warn(\n",
            "/usr/local/lib/python3.10/dist-packages/sklearn/linear_model/_logistic.py:1172: UserWarning: l1_ratio parameter is only used when penalty is 'elasticnet'. Got (penalty=none)\n",
            "  warnings.warn(\n",
            "/usr/local/lib/python3.10/dist-packages/sklearn/linear_model/_logistic.py:1183: FutureWarning: `penalty='none'`has been deprecated in 1.2 and will be removed in 1.4. To keep the past behaviour, set `penalty=None`.\n",
            "  warnings.warn(\n",
            "/usr/local/lib/python3.10/dist-packages/sklearn/linear_model/_logistic.py:1193: UserWarning: Setting penalty=None will ignore the C and l1_ratio parameters\n",
            "  warnings.warn(\n",
            "/usr/local/lib/python3.10/dist-packages/sklearn/linear_model/_logistic.py:1172: UserWarning: l1_ratio parameter is only used when penalty is 'elasticnet'. Got (penalty=none)\n",
            "  warnings.warn(\n",
            "/usr/local/lib/python3.10/dist-packages/sklearn/linear_model/_logistic.py:1183: FutureWarning: `penalty='none'`has been deprecated in 1.2 and will be removed in 1.4. To keep the past behaviour, set `penalty=None`.\n",
            "  warnings.warn(\n",
            "/usr/local/lib/python3.10/dist-packages/sklearn/linear_model/_logistic.py:1193: UserWarning: Setting penalty=None will ignore the C and l1_ratio parameters\n",
            "  warnings.warn(\n",
            "/usr/local/lib/python3.10/dist-packages/sklearn/linear_model/_logistic.py:1172: UserWarning: l1_ratio parameter is only used when penalty is 'elasticnet'. Got (penalty=none)\n",
            "  warnings.warn(\n",
            "/usr/local/lib/python3.10/dist-packages/sklearn/linear_model/_logistic.py:1183: FutureWarning: `penalty='none'`has been deprecated in 1.2 and will be removed in 1.4. To keep the past behaviour, set `penalty=None`.\n",
            "  warnings.warn(\n",
            "/usr/local/lib/python3.10/dist-packages/sklearn/linear_model/_logistic.py:1193: UserWarning: Setting penalty=None will ignore the C and l1_ratio parameters\n",
            "  warnings.warn(\n",
            "/usr/local/lib/python3.10/dist-packages/sklearn/linear_model/_logistic.py:1172: UserWarning: l1_ratio parameter is only used when penalty is 'elasticnet'. Got (penalty=none)\n",
            "  warnings.warn(\n",
            "/usr/local/lib/python3.10/dist-packages/sklearn/linear_model/_logistic.py:1183: FutureWarning: `penalty='none'`has been deprecated in 1.2 and will be removed in 1.4. To keep the past behaviour, set `penalty=None`.\n",
            "  warnings.warn(\n",
            "/usr/local/lib/python3.10/dist-packages/sklearn/linear_model/_logistic.py:1193: UserWarning: Setting penalty=None will ignore the C and l1_ratio parameters\n",
            "  warnings.warn(\n"
          ]
        },
        {
          "output_type": "stream",
          "name": "stdout",
          "text": [
            "[CV] END .....C=100, l1_ratio=0.5, penalty=none, solver=saga; total time=   0.1s\n",
            "[CV] END .....C=100, l1_ratio=0.5, penalty=none, solver=saga; total time=   0.1s\n",
            "[CV] END .....C=100, l1_ratio=0.5, penalty=none, solver=saga; total time=   0.1s\n",
            "[CV] END .....C=100, l1_ratio=0.5, penalty=none, solver=saga; total time=   0.0s\n"
          ]
        },
        {
          "output_type": "stream",
          "name": "stderr",
          "text": [
            "/usr/local/lib/python3.10/dist-packages/sklearn/linear_model/_logistic.py:1172: UserWarning: l1_ratio parameter is only used when penalty is 'elasticnet'. Got (penalty=none)\n",
            "  warnings.warn(\n",
            "/usr/local/lib/python3.10/dist-packages/sklearn/linear_model/_logistic.py:1183: FutureWarning: `penalty='none'`has been deprecated in 1.2 and will be removed in 1.4. To keep the past behaviour, set `penalty=None`.\n",
            "  warnings.warn(\n",
            "/usr/local/lib/python3.10/dist-packages/sklearn/linear_model/_logistic.py:1193: UserWarning: Setting penalty=None will ignore the C and l1_ratio parameters\n",
            "  warnings.warn(\n",
            "/usr/local/lib/python3.10/dist-packages/sklearn/linear_model/_logistic.py:1172: UserWarning: l1_ratio parameter is only used when penalty is 'elasticnet'. Got (penalty=none)\n",
            "  warnings.warn(\n",
            "/usr/local/lib/python3.10/dist-packages/sklearn/linear_model/_logistic.py:1183: FutureWarning: `penalty='none'`has been deprecated in 1.2 and will be removed in 1.4. To keep the past behaviour, set `penalty=None`.\n",
            "  warnings.warn(\n",
            "/usr/local/lib/python3.10/dist-packages/sklearn/linear_model/_logistic.py:1193: UserWarning: Setting penalty=None will ignore the C and l1_ratio parameters\n",
            "  warnings.warn(\n",
            "/usr/local/lib/python3.10/dist-packages/sklearn/linear_model/_logistic.py:1172: UserWarning: l1_ratio parameter is only used when penalty is 'elasticnet'. Got (penalty=none)\n",
            "  warnings.warn(\n",
            "/usr/local/lib/python3.10/dist-packages/sklearn/linear_model/_logistic.py:1183: FutureWarning: `penalty='none'`has been deprecated in 1.2 and will be removed in 1.4. To keep the past behaviour, set `penalty=None`.\n",
            "  warnings.warn(\n",
            "/usr/local/lib/python3.10/dist-packages/sklearn/linear_model/_logistic.py:1193: UserWarning: Setting penalty=None will ignore the C and l1_ratio parameters\n",
            "  warnings.warn(\n",
            "/usr/local/lib/python3.10/dist-packages/sklearn/linear_model/_logistic.py:1172: UserWarning: l1_ratio parameter is only used when penalty is 'elasticnet'. Got (penalty=none)\n",
            "  warnings.warn(\n",
            "/usr/local/lib/python3.10/dist-packages/sklearn/linear_model/_logistic.py:1183: FutureWarning: `penalty='none'`has been deprecated in 1.2 and will be removed in 1.4. To keep the past behaviour, set `penalty=None`.\n",
            "  warnings.warn(\n",
            "/usr/local/lib/python3.10/dist-packages/sklearn/linear_model/_logistic.py:1193: UserWarning: Setting penalty=None will ignore the C and l1_ratio parameters\n",
            "  warnings.warn(\n"
          ]
        },
        {
          "output_type": "stream",
          "name": "stdout",
          "text": [
            "[CV] END .....C=100, l1_ratio=0.5, penalty=none, solver=saga; total time=   0.1s\n",
            "[CV] END ........C=100, l1_ratio=1, penalty=l1, solver=lbfgs; total time=   0.0s\n",
            "[CV] END ........C=100, l1_ratio=1, penalty=l1, solver=lbfgs; total time=   0.0s\n",
            "[CV] END ........C=100, l1_ratio=1, penalty=l1, solver=lbfgs; total time=   0.0s\n",
            "[CV] END ........C=100, l1_ratio=1, penalty=l1, solver=lbfgs; total time=   0.0s\n",
            "[CV] END ........C=100, l1_ratio=1, penalty=l1, solver=lbfgs; total time=   0.0s\n",
            "[CV] END ....C=100, l1_ratio=1, penalty=l1, solver=liblinear; total time=   0.0s\n",
            "[CV] END ....C=100, l1_ratio=1, penalty=l1, solver=liblinear; total time=   0.0s\n",
            "[CV] END ....C=100, l1_ratio=1, penalty=l1, solver=liblinear; total time=   0.0s\n",
            "[CV] END ....C=100, l1_ratio=1, penalty=l1, solver=liblinear; total time=   0.0s\n",
            "[CV] END ....C=100, l1_ratio=1, penalty=l1, solver=liblinear; total time=   0.0s\n",
            "[CV] END .........C=100, l1_ratio=1, penalty=l1, solver=saga; total time=   0.1s\n"
          ]
        },
        {
          "output_type": "stream",
          "name": "stderr",
          "text": [
            "/usr/local/lib/python3.10/dist-packages/sklearn/linear_model/_logistic.py:1172: UserWarning: l1_ratio parameter is only used when penalty is 'elasticnet'. Got (penalty=l1)\n",
            "  warnings.warn(\n",
            "/usr/local/lib/python3.10/dist-packages/sklearn/linear_model/_logistic.py:1172: UserWarning: l1_ratio parameter is only used when penalty is 'elasticnet'. Got (penalty=l1)\n",
            "  warnings.warn(\n",
            "/usr/local/lib/python3.10/dist-packages/sklearn/linear_model/_logistic.py:1172: UserWarning: l1_ratio parameter is only used when penalty is 'elasticnet'. Got (penalty=l1)\n",
            "  warnings.warn(\n",
            "/usr/local/lib/python3.10/dist-packages/sklearn/linear_model/_logistic.py:1172: UserWarning: l1_ratio parameter is only used when penalty is 'elasticnet'. Got (penalty=l1)\n",
            "  warnings.warn(\n",
            "/usr/local/lib/python3.10/dist-packages/sklearn/linear_model/_logistic.py:1172: UserWarning: l1_ratio parameter is only used when penalty is 'elasticnet'. Got (penalty=l1)\n",
            "  warnings.warn(\n",
            "/usr/local/lib/python3.10/dist-packages/sklearn/linear_model/_logistic.py:1172: UserWarning: l1_ratio parameter is only used when penalty is 'elasticnet'. Got (penalty=l1)\n",
            "  warnings.warn(\n",
            "/usr/local/lib/python3.10/dist-packages/sklearn/linear_model/_logistic.py:1172: UserWarning: l1_ratio parameter is only used when penalty is 'elasticnet'. Got (penalty=l1)\n",
            "  warnings.warn(\n"
          ]
        },
        {
          "output_type": "stream",
          "name": "stdout",
          "text": [
            "[CV] END .........C=100, l1_ratio=1, penalty=l1, solver=saga; total time=   0.1s\n",
            "[CV] END .........C=100, l1_ratio=1, penalty=l1, solver=saga; total time=   0.1s\n",
            "[CV] END .........C=100, l1_ratio=1, penalty=l1, solver=saga; total time=   0.1s\n",
            "[CV] END .........C=100, l1_ratio=1, penalty=l1, solver=saga; total time=   0.1s\n",
            "[CV] END ........C=100, l1_ratio=1, penalty=l2, solver=lbfgs; total time=   0.0s\n"
          ]
        },
        {
          "output_type": "stream",
          "name": "stderr",
          "text": [
            "/usr/local/lib/python3.10/dist-packages/sklearn/linear_model/_logistic.py:1172: UserWarning: l1_ratio parameter is only used when penalty is 'elasticnet'. Got (penalty=l1)\n",
            "  warnings.warn(\n",
            "/usr/local/lib/python3.10/dist-packages/sklearn/linear_model/_logistic.py:1172: UserWarning: l1_ratio parameter is only used when penalty is 'elasticnet'. Got (penalty=l1)\n",
            "  warnings.warn(\n",
            "/usr/local/lib/python3.10/dist-packages/sklearn/linear_model/_logistic.py:1172: UserWarning: l1_ratio parameter is only used when penalty is 'elasticnet'. Got (penalty=l1)\n",
            "  warnings.warn(\n",
            "/usr/local/lib/python3.10/dist-packages/sklearn/linear_model/_logistic.py:1172: UserWarning: l1_ratio parameter is only used when penalty is 'elasticnet'. Got (penalty=l2)\n",
            "  warnings.warn(\n",
            "/usr/local/lib/python3.10/dist-packages/sklearn/linear_model/_logistic.py:1172: UserWarning: l1_ratio parameter is only used when penalty is 'elasticnet'. Got (penalty=l2)\n",
            "  warnings.warn(\n"
          ]
        },
        {
          "output_type": "stream",
          "name": "stdout",
          "text": [
            "[CV] END ........C=100, l1_ratio=1, penalty=l2, solver=lbfgs; total time=   0.0s\n",
            "[CV] END ........C=100, l1_ratio=1, penalty=l2, solver=lbfgs; total time=   0.0s\n",
            "[CV] END ........C=100, l1_ratio=1, penalty=l2, solver=lbfgs; total time=   0.0s\n",
            "[CV] END ........C=100, l1_ratio=1, penalty=l2, solver=lbfgs; total time=   0.0s\n",
            "[CV] END ....C=100, l1_ratio=1, penalty=l2, solver=liblinear; total time=   0.0s\n",
            "[CV] END ....C=100, l1_ratio=1, penalty=l2, solver=liblinear; total time=   0.0s\n",
            "[CV] END ....C=100, l1_ratio=1, penalty=l2, solver=liblinear; total time=   0.0s\n",
            "[CV] END ....C=100, l1_ratio=1, penalty=l2, solver=liblinear; total time=   0.0s\n",
            "[CV] END ....C=100, l1_ratio=1, penalty=l2, solver=liblinear; total time=   0.0s\n",
            "[CV] END .........C=100, l1_ratio=1, penalty=l2, solver=saga; total time=   0.0s\n",
            "[CV] END .........C=100, l1_ratio=1, penalty=l2, solver=saga; total time=   0.0s\n",
            "[CV] END .........C=100, l1_ratio=1, penalty=l2, solver=saga; total time=   0.0s\n",
            "[CV] END .........C=100, l1_ratio=1, penalty=l2, solver=saga; total time=   0.0s\n",
            "[CV] END .........C=100, l1_ratio=1, penalty=l2, solver=saga; total time=   0.0s\n",
            "[CV] END C=100, l1_ratio=1, penalty=elasticnet, solver=lbfgs; total time=   0.0s\n",
            "[CV] END C=100, l1_ratio=1, penalty=elasticnet, solver=lbfgs; total time=   0.0s\n",
            "[CV] END C=100, l1_ratio=1, penalty=elasticnet, solver=lbfgs; total time=   0.0s\n",
            "[CV] END C=100, l1_ratio=1, penalty=elasticnet, solver=lbfgs; total time=   0.0s\n",
            "[CV] END C=100, l1_ratio=1, penalty=elasticnet, solver=lbfgs; total time=   0.0s\n",
            "[CV] END C=100, l1_ratio=1, penalty=elasticnet, solver=liblinear; total time=   0.0s\n",
            "[CV] END C=100, l1_ratio=1, penalty=elasticnet, solver=liblinear; total time=   0.0s\n",
            "[CV] END C=100, l1_ratio=1, penalty=elasticnet, solver=liblinear; total time=   0.0s\n",
            "[CV] END C=100, l1_ratio=1, penalty=elasticnet, solver=liblinear; total time=   0.0s\n",
            "[CV] END C=100, l1_ratio=1, penalty=elasticnet, solver=liblinear; total time=   0.0s\n"
          ]
        },
        {
          "output_type": "stream",
          "name": "stderr",
          "text": [
            "/usr/local/lib/python3.10/dist-packages/sklearn/linear_model/_logistic.py:1172: UserWarning: l1_ratio parameter is only used when penalty is 'elasticnet'. Got (penalty=l2)\n",
            "  warnings.warn(\n",
            "/usr/local/lib/python3.10/dist-packages/sklearn/linear_model/_logistic.py:1172: UserWarning: l1_ratio parameter is only used when penalty is 'elasticnet'. Got (penalty=l2)\n",
            "  warnings.warn(\n",
            "/usr/local/lib/python3.10/dist-packages/sklearn/linear_model/_logistic.py:1172: UserWarning: l1_ratio parameter is only used when penalty is 'elasticnet'. Got (penalty=l2)\n",
            "  warnings.warn(\n",
            "/usr/local/lib/python3.10/dist-packages/sklearn/linear_model/_logistic.py:1172: UserWarning: l1_ratio parameter is only used when penalty is 'elasticnet'. Got (penalty=l2)\n",
            "  warnings.warn(\n",
            "/usr/local/lib/python3.10/dist-packages/sklearn/linear_model/_logistic.py:1172: UserWarning: l1_ratio parameter is only used when penalty is 'elasticnet'. Got (penalty=l2)\n",
            "  warnings.warn(\n",
            "/usr/local/lib/python3.10/dist-packages/sklearn/linear_model/_logistic.py:1172: UserWarning: l1_ratio parameter is only used when penalty is 'elasticnet'. Got (penalty=l2)\n",
            "  warnings.warn(\n",
            "/usr/local/lib/python3.10/dist-packages/sklearn/linear_model/_logistic.py:1172: UserWarning: l1_ratio parameter is only used when penalty is 'elasticnet'. Got (penalty=l2)\n",
            "  warnings.warn(\n",
            "/usr/local/lib/python3.10/dist-packages/sklearn/linear_model/_logistic.py:1172: UserWarning: l1_ratio parameter is only used when penalty is 'elasticnet'. Got (penalty=l2)\n",
            "  warnings.warn(\n",
            "/usr/local/lib/python3.10/dist-packages/sklearn/linear_model/_logistic.py:1172: UserWarning: l1_ratio parameter is only used when penalty is 'elasticnet'. Got (penalty=l2)\n",
            "  warnings.warn(\n",
            "/usr/local/lib/python3.10/dist-packages/sklearn/linear_model/_logistic.py:1172: UserWarning: l1_ratio parameter is only used when penalty is 'elasticnet'. Got (penalty=l2)\n",
            "  warnings.warn(\n",
            "/usr/local/lib/python3.10/dist-packages/sklearn/linear_model/_logistic.py:1172: UserWarning: l1_ratio parameter is only used when penalty is 'elasticnet'. Got (penalty=l2)\n",
            "  warnings.warn(\n",
            "/usr/local/lib/python3.10/dist-packages/sklearn/linear_model/_logistic.py:1172: UserWarning: l1_ratio parameter is only used when penalty is 'elasticnet'. Got (penalty=l2)\n",
            "  warnings.warn(\n",
            "/usr/local/lib/python3.10/dist-packages/sklearn/linear_model/_logistic.py:1172: UserWarning: l1_ratio parameter is only used when penalty is 'elasticnet'. Got (penalty=l2)\n",
            "  warnings.warn(\n"
          ]
        },
        {
          "output_type": "stream",
          "name": "stdout",
          "text": [
            "[CV] END .C=100, l1_ratio=1, penalty=elasticnet, solver=saga; total time=   0.1s\n",
            "[CV] END .C=100, l1_ratio=1, penalty=elasticnet, solver=saga; total time=   0.1s\n",
            "[CV] END .C=100, l1_ratio=1, penalty=elasticnet, solver=saga; total time=   0.1s\n",
            "[CV] END .C=100, l1_ratio=1, penalty=elasticnet, solver=saga; total time=   0.1s\n",
            "[CV] END .C=100, l1_ratio=1, penalty=elasticnet, solver=saga; total time=   0.1s\n",
            "[CV] END ......C=100, l1_ratio=1, penalty=none, solver=lbfgs; total time=   0.0s\n",
            "[CV] END ......C=100, l1_ratio=1, penalty=none, solver=lbfgs; total time=   0.0s\n",
            "[CV] END ......C=100, l1_ratio=1, penalty=none, solver=lbfgs; total time=   0.0s\n",
            "[CV] END ......C=100, l1_ratio=1, penalty=none, solver=lbfgs; total time=   0.0s\n",
            "[CV] END ......C=100, l1_ratio=1, penalty=none, solver=lbfgs; total time=   0.0s\n",
            "[CV] END ..C=100, l1_ratio=1, penalty=none, solver=liblinear; total time=   0.0s\n",
            "[CV] END ..C=100, l1_ratio=1, penalty=none, solver=liblinear; total time=   0.0s\n",
            "[CV] END ..C=100, l1_ratio=1, penalty=none, solver=liblinear; total time=   0.0s\n",
            "[CV] END ..C=100, l1_ratio=1, penalty=none, solver=liblinear; total time=   0.0s\n",
            "[CV] END ..C=100, l1_ratio=1, penalty=none, solver=liblinear; total time=   0.0s\n",
            "[CV] END .......C=100, l1_ratio=1, penalty=none, solver=saga; total time=   0.1s\n"
          ]
        },
        {
          "output_type": "stream",
          "name": "stderr",
          "text": [
            "/usr/local/lib/python3.10/dist-packages/sklearn/linear_model/_logistic.py:1172: UserWarning: l1_ratio parameter is only used when penalty is 'elasticnet'. Got (penalty=none)\n",
            "  warnings.warn(\n",
            "/usr/local/lib/python3.10/dist-packages/sklearn/linear_model/_logistic.py:1183: FutureWarning: `penalty='none'`has been deprecated in 1.2 and will be removed in 1.4. To keep the past behaviour, set `penalty=None`.\n",
            "  warnings.warn(\n",
            "/usr/local/lib/python3.10/dist-packages/sklearn/linear_model/_logistic.py:1193: UserWarning: Setting penalty=None will ignore the C and l1_ratio parameters\n",
            "  warnings.warn(\n",
            "/usr/local/lib/python3.10/dist-packages/sklearn/linear_model/_logistic.py:1172: UserWarning: l1_ratio parameter is only used when penalty is 'elasticnet'. Got (penalty=none)\n",
            "  warnings.warn(\n",
            "/usr/local/lib/python3.10/dist-packages/sklearn/linear_model/_logistic.py:1183: FutureWarning: `penalty='none'`has been deprecated in 1.2 and will be removed in 1.4. To keep the past behaviour, set `penalty=None`.\n",
            "  warnings.warn(\n",
            "/usr/local/lib/python3.10/dist-packages/sklearn/linear_model/_logistic.py:1193: UserWarning: Setting penalty=None will ignore the C and l1_ratio parameters\n",
            "  warnings.warn(\n",
            "/usr/local/lib/python3.10/dist-packages/sklearn/linear_model/_logistic.py:1172: UserWarning: l1_ratio parameter is only used when penalty is 'elasticnet'. Got (penalty=none)\n",
            "  warnings.warn(\n",
            "/usr/local/lib/python3.10/dist-packages/sklearn/linear_model/_logistic.py:1183: FutureWarning: `penalty='none'`has been deprecated in 1.2 and will be removed in 1.4. To keep the past behaviour, set `penalty=None`.\n",
            "  warnings.warn(\n",
            "/usr/local/lib/python3.10/dist-packages/sklearn/linear_model/_logistic.py:1193: UserWarning: Setting penalty=None will ignore the C and l1_ratio parameters\n",
            "  warnings.warn(\n",
            "/usr/local/lib/python3.10/dist-packages/sklearn/linear_model/_logistic.py:1172: UserWarning: l1_ratio parameter is only used when penalty is 'elasticnet'. Got (penalty=none)\n",
            "  warnings.warn(\n",
            "/usr/local/lib/python3.10/dist-packages/sklearn/linear_model/_logistic.py:1183: FutureWarning: `penalty='none'`has been deprecated in 1.2 and will be removed in 1.4. To keep the past behaviour, set `penalty=None`.\n",
            "  warnings.warn(\n",
            "/usr/local/lib/python3.10/dist-packages/sklearn/linear_model/_logistic.py:1193: UserWarning: Setting penalty=None will ignore the C and l1_ratio parameters\n",
            "  warnings.warn(\n",
            "/usr/local/lib/python3.10/dist-packages/sklearn/linear_model/_logistic.py:1172: UserWarning: l1_ratio parameter is only used when penalty is 'elasticnet'. Got (penalty=none)\n",
            "  warnings.warn(\n",
            "/usr/local/lib/python3.10/dist-packages/sklearn/linear_model/_logistic.py:1183: FutureWarning: `penalty='none'`has been deprecated in 1.2 and will be removed in 1.4. To keep the past behaviour, set `penalty=None`.\n",
            "  warnings.warn(\n",
            "/usr/local/lib/python3.10/dist-packages/sklearn/linear_model/_logistic.py:1193: UserWarning: Setting penalty=None will ignore the C and l1_ratio parameters\n",
            "  warnings.warn(\n",
            "/usr/local/lib/python3.10/dist-packages/sklearn/linear_model/_logistic.py:1172: UserWarning: l1_ratio parameter is only used when penalty is 'elasticnet'. Got (penalty=none)\n",
            "  warnings.warn(\n",
            "/usr/local/lib/python3.10/dist-packages/sklearn/linear_model/_logistic.py:1183: FutureWarning: `penalty='none'`has been deprecated in 1.2 and will be removed in 1.4. To keep the past behaviour, set `penalty=None`.\n",
            "  warnings.warn(\n",
            "/usr/local/lib/python3.10/dist-packages/sklearn/linear_model/_logistic.py:1193: UserWarning: Setting penalty=None will ignore the C and l1_ratio parameters\n",
            "  warnings.warn(\n",
            "/usr/local/lib/python3.10/dist-packages/sklearn/linear_model/_logistic.py:1172: UserWarning: l1_ratio parameter is only used when penalty is 'elasticnet'. Got (penalty=none)\n",
            "  warnings.warn(\n",
            "/usr/local/lib/python3.10/dist-packages/sklearn/linear_model/_logistic.py:1183: FutureWarning: `penalty='none'`has been deprecated in 1.2 and will be removed in 1.4. To keep the past behaviour, set `penalty=None`.\n",
            "  warnings.warn(\n",
            "/usr/local/lib/python3.10/dist-packages/sklearn/linear_model/_logistic.py:1193: UserWarning: Setting penalty=None will ignore the C and l1_ratio parameters\n",
            "  warnings.warn(\n"
          ]
        },
        {
          "output_type": "stream",
          "name": "stdout",
          "text": [
            "[CV] END .......C=100, l1_ratio=1, penalty=none, solver=saga; total time=   0.1s\n",
            "[CV] END .......C=100, l1_ratio=1, penalty=none, solver=saga; total time=   0.1s\n",
            "[CV] END .......C=100, l1_ratio=1, penalty=none, solver=saga; total time=   0.1s\n"
          ]
        },
        {
          "output_type": "stream",
          "name": "stderr",
          "text": [
            "/usr/local/lib/python3.10/dist-packages/sklearn/linear_model/_logistic.py:1172: UserWarning: l1_ratio parameter is only used when penalty is 'elasticnet'. Got (penalty=none)\n",
            "  warnings.warn(\n",
            "/usr/local/lib/python3.10/dist-packages/sklearn/linear_model/_logistic.py:1183: FutureWarning: `penalty='none'`has been deprecated in 1.2 and will be removed in 1.4. To keep the past behaviour, set `penalty=None`.\n",
            "  warnings.warn(\n",
            "/usr/local/lib/python3.10/dist-packages/sklearn/linear_model/_logistic.py:1193: UserWarning: Setting penalty=None will ignore the C and l1_ratio parameters\n",
            "  warnings.warn(\n",
            "/usr/local/lib/python3.10/dist-packages/sklearn/linear_model/_logistic.py:1172: UserWarning: l1_ratio parameter is only used when penalty is 'elasticnet'. Got (penalty=none)\n",
            "  warnings.warn(\n",
            "/usr/local/lib/python3.10/dist-packages/sklearn/linear_model/_logistic.py:1183: FutureWarning: `penalty='none'`has been deprecated in 1.2 and will be removed in 1.4. To keep the past behaviour, set `penalty=None`.\n",
            "  warnings.warn(\n",
            "/usr/local/lib/python3.10/dist-packages/sklearn/linear_model/_logistic.py:1193: UserWarning: Setting penalty=None will ignore the C and l1_ratio parameters\n",
            "  warnings.warn(\n",
            "/usr/local/lib/python3.10/dist-packages/sklearn/linear_model/_logistic.py:1172: UserWarning: l1_ratio parameter is only used when penalty is 'elasticnet'. Got (penalty=none)\n",
            "  warnings.warn(\n",
            "/usr/local/lib/python3.10/dist-packages/sklearn/linear_model/_logistic.py:1183: FutureWarning: `penalty='none'`has been deprecated in 1.2 and will be removed in 1.4. To keep the past behaviour, set `penalty=None`.\n",
            "  warnings.warn(\n",
            "/usr/local/lib/python3.10/dist-packages/sklearn/linear_model/_logistic.py:1193: UserWarning: Setting penalty=None will ignore the C and l1_ratio parameters\n",
            "  warnings.warn(\n"
          ]
        },
        {
          "output_type": "stream",
          "name": "stdout",
          "text": [
            "[CV] END .......C=100, l1_ratio=1, penalty=none, solver=saga; total time=   0.1s\n",
            "Best Parameters: {'C': 0.1, 'l1_ratio': 0, 'penalty': 'l2', 'solver': 'liblinear'}\n",
            "Best Cross-validation Score: 0.5867450980392157\n",
            "Accuracy: 0.703125\n",
            "Confusion Matrix:\n",
            "[[ 6 15]\n",
            " [ 4 39]]\n",
            "Classification Report:\n",
            "              precision    recall  f1-score   support\n",
            "\n",
            "           0       0.60      0.29      0.39        21\n",
            "           1       0.72      0.91      0.80        43\n",
            "\n",
            "    accuracy                           0.70        64\n",
            "   macro avg       0.66      0.60      0.60        64\n",
            "weighted avg       0.68      0.70      0.67        64\n",
            "\n"
          ]
        },
        {
          "output_type": "stream",
          "name": "stderr",
          "text": [
            "/usr/local/lib/python3.10/dist-packages/sklearn/model_selection/_validation.py:425: FitFailedWarning: \n",
            "300 fits failed out of a total of 900.\n",
            "The score on these train-test partitions for these parameters will be set to nan.\n",
            "If these failures are not expected, you can try to debug them by setting error_score='raise'.\n",
            "\n",
            "Below are more details about the failures:\n",
            "--------------------------------------------------------------------------------\n",
            "75 fits failed with the following error:\n",
            "Traceback (most recent call last):\n",
            "  File \"/usr/local/lib/python3.10/dist-packages/sklearn/model_selection/_validation.py\", line 729, in _fit_and_score\n",
            "    estimator.fit(X_train, y_train, **fit_params)\n",
            "  File \"/usr/local/lib/python3.10/dist-packages/sklearn/base.py\", line 1152, in wrapper\n",
            "    return fit_method(estimator, *args, **kwargs)\n",
            "  File \"/usr/local/lib/python3.10/dist-packages/sklearn/linear_model/_logistic.py\", line 1169, in fit\n",
            "    solver = _check_solver(self.solver, self.penalty, self.dual)\n",
            "  File \"/usr/local/lib/python3.10/dist-packages/sklearn/linear_model/_logistic.py\", line 56, in _check_solver\n",
            "    raise ValueError(\n",
            "ValueError: Solver lbfgs supports only 'l2' or 'none' penalties, got l1 penalty.\n",
            "\n",
            "--------------------------------------------------------------------------------\n",
            "75 fits failed with the following error:\n",
            "Traceback (most recent call last):\n",
            "  File \"/usr/local/lib/python3.10/dist-packages/sklearn/model_selection/_validation.py\", line 729, in _fit_and_score\n",
            "    estimator.fit(X_train, y_train, **fit_params)\n",
            "  File \"/usr/local/lib/python3.10/dist-packages/sklearn/base.py\", line 1152, in wrapper\n",
            "    return fit_method(estimator, *args, **kwargs)\n",
            "  File \"/usr/local/lib/python3.10/dist-packages/sklearn/linear_model/_logistic.py\", line 1169, in fit\n",
            "    solver = _check_solver(self.solver, self.penalty, self.dual)\n",
            "  File \"/usr/local/lib/python3.10/dist-packages/sklearn/linear_model/_logistic.py\", line 56, in _check_solver\n",
            "    raise ValueError(\n",
            "ValueError: Solver lbfgs supports only 'l2' or 'none' penalties, got elasticnet penalty.\n",
            "\n",
            "--------------------------------------------------------------------------------\n",
            "75 fits failed with the following error:\n",
            "Traceback (most recent call last):\n",
            "  File \"/usr/local/lib/python3.10/dist-packages/sklearn/model_selection/_validation.py\", line 729, in _fit_and_score\n",
            "    estimator.fit(X_train, y_train, **fit_params)\n",
            "  File \"/usr/local/lib/python3.10/dist-packages/sklearn/base.py\", line 1152, in wrapper\n",
            "    return fit_method(estimator, *args, **kwargs)\n",
            "  File \"/usr/local/lib/python3.10/dist-packages/sklearn/linear_model/_logistic.py\", line 1169, in fit\n",
            "    solver = _check_solver(self.solver, self.penalty, self.dual)\n",
            "  File \"/usr/local/lib/python3.10/dist-packages/sklearn/linear_model/_logistic.py\", line 66, in _check_solver\n",
            "    raise ValueError(\n",
            "ValueError: Only 'saga' solver supports elasticnet penalty, got solver=liblinear.\n",
            "\n",
            "--------------------------------------------------------------------------------\n",
            "75 fits failed with the following error:\n",
            "Traceback (most recent call last):\n",
            "  File \"/usr/local/lib/python3.10/dist-packages/sklearn/model_selection/_validation.py\", line 729, in _fit_and_score\n",
            "    estimator.fit(X_train, y_train, **fit_params)\n",
            "  File \"/usr/local/lib/python3.10/dist-packages/sklearn/base.py\", line 1152, in wrapper\n",
            "    return fit_method(estimator, *args, **kwargs)\n",
            "  File \"/usr/local/lib/python3.10/dist-packages/sklearn/linear_model/_logistic.py\", line 1169, in fit\n",
            "    solver = _check_solver(self.solver, self.penalty, self.dual)\n",
            "  File \"/usr/local/lib/python3.10/dist-packages/sklearn/linear_model/_logistic.py\", line 73, in _check_solver\n",
            "    raise ValueError(\"penalty='none' is not supported for the liblinear solver\")\n",
            "ValueError: penalty='none' is not supported for the liblinear solver\n",
            "\n",
            "  warnings.warn(some_fits_failed_message, FitFailedWarning)\n",
            "/usr/local/lib/python3.10/dist-packages/sklearn/model_selection/_search.py:979: UserWarning: One or more of the test scores are non-finite: [       nan 0.42854902 0.57145098 0.57145098 0.55145098 0.57145098\n",
            "        nan        nan 0.57145098 0.57105882        nan 0.57105882\n",
            "        nan 0.42854902 0.57145098 0.57145098 0.55145098 0.57145098\n",
            "        nan        nan 0.57145098 0.57105882        nan 0.57105882\n",
            "        nan 0.42854902 0.57145098 0.57145098 0.55145098 0.57145098\n",
            "        nan        nan 0.57145098 0.57105882        nan 0.57105882\n",
            "        nan 0.55145098 0.55145098 0.4612549  0.5867451  0.4612549\n",
            "        nan        nan 0.4612549  0.57105882        nan 0.57105882\n",
            "        nan 0.55145098 0.55145098 0.4612549  0.5867451  0.4612549\n",
            "        nan        nan 0.4612549  0.57105882        nan 0.57105882\n",
            "        nan 0.55145098 0.55145098 0.4612549  0.5867451  0.4612549\n",
            "        nan        nan 0.55145098 0.57105882        nan 0.57105882\n",
            "        nan 0.57105882 0.57105882 0.57105882 0.57105882 0.57105882\n",
            "        nan        nan 0.57105882 0.57105882        nan 0.57105882\n",
            "        nan 0.57105882 0.57105882 0.57105882 0.57105882 0.57105882\n",
            "        nan        nan 0.57105882 0.57105882        nan 0.57105882\n",
            "        nan 0.57105882 0.57105882 0.57105882 0.57105882 0.57105882\n",
            "        nan        nan 0.57105882 0.57105882        nan 0.57105882\n",
            "        nan 0.57105882 0.57105882 0.57105882 0.57105882 0.57105882\n",
            "        nan        nan 0.57105882 0.57105882        nan 0.57105882\n",
            "        nan 0.57105882 0.57105882 0.57105882 0.57105882 0.57105882\n",
            "        nan        nan 0.57105882 0.57105882        nan 0.57105882\n",
            "        nan 0.57105882 0.57105882 0.57105882 0.57105882 0.57105882\n",
            "        nan        nan 0.57105882 0.57105882        nan 0.57105882\n",
            "        nan 0.57105882 0.57105882 0.57105882 0.57105882 0.57105882\n",
            "        nan        nan 0.57105882 0.57105882        nan 0.57105882\n",
            "        nan 0.57105882 0.57105882 0.57105882 0.57105882 0.57105882\n",
            "        nan        nan 0.57105882 0.57105882        nan 0.57105882\n",
            "        nan 0.57105882 0.57105882 0.57105882 0.57105882 0.57105882\n",
            "        nan        nan 0.57105882 0.57105882        nan 0.57105882]\n",
            "  warnings.warn(\n",
            "/usr/local/lib/python3.10/dist-packages/sklearn/linear_model/_logistic.py:1172: UserWarning: l1_ratio parameter is only used when penalty is 'elasticnet'. Got (penalty=l2)\n",
            "  warnings.warn(\n"
          ]
        }
      ]
    },
    {
      "cell_type": "code",
      "source": [
        "y_pred_combinaison = (y_pred+y_pred2)/2"
      ],
      "metadata": {
        "id": "LuSoUcCjkYFQ"
      },
      "execution_count": null,
      "outputs": []
    },
    {
      "cell_type": "code",
      "source": [
        "y_pred_comb2 =[]\n",
        "for i in range(len(y_pred_combinaison)):\n",
        "  if y_pred_combinaison[i]==0.5:\n",
        "    y_pred_comb2.append(1)\n",
        "  else:\n",
        "    y_pred_comb2.append(y_pred[i])\n",
        "\n",
        "class_report = classification_report(target_test, y_pred_comb2)\n",
        "print(\"Classification Report:\")\n",
        "print(class_report)"
      ],
      "metadata": {
        "colab": {
          "base_uri": "https://localhost:8080/"
        },
        "id": "PK2SgPjz1ttT",
        "outputId": "4dd0170c-946c-4958-a354-050965f7608f"
      },
      "execution_count": null,
      "outputs": [
        {
          "output_type": "stream",
          "name": "stdout",
          "text": [
            "Classification Report:\n",
            "              precision    recall  f1-score   support\n",
            "\n",
            "           0       1.00      0.29      0.44        21\n",
            "           1       0.74      1.00      0.85        43\n",
            "\n",
            "    accuracy                           0.77        64\n",
            "   macro avg       0.87      0.64      0.65        64\n",
            "weighted avg       0.83      0.77      0.72        64\n",
            "\n"
          ]
        }
      ]
    },
    {
      "cell_type": "code",
      "source": [
        "y_pred_comb2 =[]\n",
        "for i in range(len(y_pred_combinaison)):\n",
        "  if y_pred_combinaison[i]==0.5:\n",
        "    y_pred_comb2.append(0)\n",
        "  else:\n",
        "    y_pred_comb2.append(y_pred[i])\n",
        "\n",
        "class_report = classification_report(target_test, y_pred_comb2)\n",
        "print(\"Classification Report:\")\n",
        "print(class_report)"
      ],
      "metadata": {
        "colab": {
          "base_uri": "https://localhost:8080/"
        },
        "id": "dFdmdSOc159G",
        "outputId": "70185735-e3ed-4320-d4de-e2f068e03969"
      },
      "execution_count": null,
      "outputs": [
        {
          "output_type": "stream",
          "name": "stdout",
          "text": [
            "Classification Report:\n",
            "              precision    recall  f1-score   support\n",
            "\n",
            "           0       0.60      0.71      0.65        21\n",
            "           1       0.85      0.77      0.80        43\n",
            "\n",
            "    accuracy                           0.75        64\n",
            "   macro avg       0.72      0.74      0.73        64\n",
            "weighted avg       0.77      0.75      0.75        64\n",
            "\n"
          ]
        }
      ]
    },
    {
      "cell_type": "code",
      "source": [],
      "metadata": {
        "id": "rhlzhsuA1-C0"
      },
      "execution_count": null,
      "outputs": []
    }
  ]
}